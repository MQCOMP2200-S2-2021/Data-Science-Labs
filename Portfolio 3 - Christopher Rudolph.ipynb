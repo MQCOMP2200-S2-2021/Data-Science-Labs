{
 "cells": [
  {
   "cell_type": "markdown",
   "metadata": {},
   "source": [
    "Christopher Rudolph - 45241805 - MQ University"
   ]
  },
  {
   "cell_type": "markdown",
   "metadata": {
    "heading_collapsed": true
   },
   "source": [
    "# TO DO: \n",
    "- **naive bayes.** no idea how to implement the model.\n",
    "- **read me**\n",
    "- **clean up markdown comments**\n",
    "\n",
    "on contract means a customer has committed to the contract. If you are on contract then you are very unlikely to churn. But once the contract is finished, you may still NOT churn."
   ]
  },
  {
   "cell_type": "markdown",
   "metadata": {
    "heading_collapsed": true
   },
   "source": [
    "# W9 workshop information"
   ]
  },
  {
   "cell_type": "markdown",
   "metadata": {
    "hidden": true
   },
   "source": [
    "\n",
    "\n",
    "predictive model $\\neq$ clustering\n",
    "\n",
    "- atleast understand some relationships between the numeric variables and the target.\n",
    "- can just fit any model, but check other classifers in sklearn classifiers. logreg, NB, LR. The website will have examples. \n",
    "- make a comparison between the models. \n",
    "- consider the features you include and dont include. why are you including them? Did you notice a trend somewhere? \n",
    "- evaluation of models: Address overfitting. \n",
    "- train, test, validate split is good for hyperparameter tuning. use the validation set at the end. if the results arent' good then it would be best to re split and do the model again. Even if the results are good should still do it again. \n",
    "- w6 false positive matrix \n",
    "- if we found that most customers churn, we can say all customers churn with 95% accuracy\n",
    "- phone brand: check out one hot encoding. better to use this method for logreg\n",
    "- better to use one hot encoding when there are more than 2 categories.\n",
    "- https://pandas.pydata.org/docs/reference/api/pandas.get_dummies.html\n",
    "- ctract_status use one hot encoding \n",
    "- try plotting in the exploration. see if there are any relationships between churning and other features"
   ]
  },
  {
   "cell_type": "markdown",
   "metadata": {
    "heading_collapsed": true
   },
   "source": [
    "# w10 workshop information"
   ]
  },
  {
   "cell_type": "markdown",
   "metadata": {
    "hidden": true
   },
   "source": [
    "Supervised learning : we know what we're trying to predict. We're trying to predict if someone churn or not. This is a classification, not a value. So we will use classifcation models. \n",
    "\n",
    "Unsupervised learning: we dont know what we're trying to predict. We don't have a label to predict. \n",
    "\n",
    "Regression model: predicts a number. \n",
    "\n",
    "reporting accuracy over MSE is better. \n",
    "\n",
    "Which features provide the most accurate results? compare the features and do an analysis. \n",
    "\n",
    "consider the drop off from training and testing accuracy to determine overfitting. \n",
    "\n",
    "KNN LOOKS LIKE CLUSTERING BUT ITS NOT. knn is setting up classification within the data. \n",
    "http://vision.stanford.edu/teaching/cs231n-demos/knn/"
   ]
  },
  {
   "cell_type": "markdown",
   "metadata": {},
   "source": [
    "# Mobile Customer Churn"
   ]
  },
  {
   "cell_type": "markdown",
   "metadata": {
    "heading_collapsed": true
   },
   "source": [
    "## Notes: "
   ]
  },
  {
   "cell_type": "markdown",
   "metadata": {
    "hidden": true
   },
   "source": [
    "In this Portfolio task you will work with some (fake but realistic) data on Mobile Customer Churn.  Churn is where\n",
    "a customer leaves the mobile provider.   The goal is to build a simple predictive model to predict churn from available features. \n",
    "\n",
    "The data was generated (by Hume Winzar at Macquarie) based on a real dataset provided by Optus.  The data is simulated but the column headings are the same. (Note that I'm not sure if all of the real relationships in this data are preserved so you need to be cautious in interpreting the results of your analysis here).  \n",
    "\n",
    "The data is provided in file `MobileCustomerChurn.csv` and column headings are defined in a file `MobileChurnDataDictionary.csv` (store these in the `files` folder in your project).\n",
    "\n",
    "Your high level goal in this notebook is to try to build and evaluate a __predictive model for churn__ - predict the value of the CHURN_IND field in the data from some of the other fields.  Note that the three `RECON` fields should not be used as they indicate whether the customer reconnected after having churned. \n",
    "\n",
    "__Note:__ you are not being evaluated on the _accuracy_ of the model but on the _process_ that you use to generate it.  You can use a simple model such as Logistic Regression for this task or try one of the more advanced methods covered in recent weeks.  Explore the data, build a model using a selection of features and then do some work on finding out which features provide the most accurate results.  "
   ]
  },
  {
   "cell_type": "markdown",
   "metadata": {
    "hidden": true
   },
   "source": [
    "- Churn is when a customer leaves a provider.\n",
    "- we're building a model to predict churn with given features. \n",
    "- be cautious when interpreting reuslts, preservation of data relationships is unknown. \n",
    "- `RECON` should not be used, this means a customer has reconnected after churn \n",
    "\n",
    "**Column definitions**\n",
    "\n",
    "*CUST_ID*: customer identifier\n",
    "\n",
    "*ACCOUNT_TENURE*: how long the account has been active.\n",
    "\n",
    "*ACCT_CNT_SERVICES*: Total number of services under an account\n",
    "\n",
    "*CFU*: type of customer\n",
    "\n",
    "*SERVICE_TENURE*: How many more months the service is active\n",
    "\n",
    "*PLAN_ACCESS_FEE*: account monthly fee\n",
    "\n",
    "*BYO_PLAN_STATUS*: Whether customer is on a 'bring your own' plan.\n",
    "\n",
    "*PLAN_TENURE*: Plan tenure in months, how many months remain.\n",
    "\n",
    "*MONTHS_OF_CONTRACT_REMAINING* : Contract tenure remaining based on months of contract completed \n",
    "\n",
    "*LAST_FX_CONTRACT_DURATION*: last known  fixed contract term\n",
    "\n",
    "*CONTRACT_STATUS*: no-contract, off-contract or on-contract.\n",
    "\n",
    "*PREV_CONTRACT_DURATION*: previous contract term. \n",
    "\n",
    "*HANDSET_USED_BRAND*: Brand of the mobile phone the customer is using.\n",
    "\n",
    "*CHURN_IND*: Whether a customer hs churned or not. \n",
    "\n",
    "*MONTHLY_SPEND*: Customer's monthly spending\n",
    "\n",
    "*COUNTRY_METRO_REGION* : region of customer, country or metro. \n",
    "\n",
    "*STATE*: Customer's registered State"
   ]
  },
  {
   "cell_type": "markdown",
   "metadata": {},
   "source": [
    "## Setting up the DF"
   ]
  },
  {
   "cell_type": "code",
   "execution_count": 2,
   "metadata": {},
   "outputs": [],
   "source": [
    "import pandas as pd\n",
    "import numpy as np\n",
    "import matplotlib.pyplot as plt\n",
    "import seaborn as sns\n",
    "from sklearn.preprocessing import OneHotEncoder\n",
    "from sklearn.model_selection import train_test_split\n",
    "from sklearn import linear_model\n",
    "from sklearn.metrics import r2_score\n",
    "import seaborn as sns\n",
    "%matplotlib inline"
   ]
  },
  {
   "cell_type": "code",
   "execution_count": 3,
   "metadata": {},
   "outputs": [
    {
     "data": {
      "text/html": [
       "<div>\n",
       "<style scoped>\n",
       "    .dataframe tbody tr th:only-of-type {\n",
       "        vertical-align: middle;\n",
       "    }\n",
       "\n",
       "    .dataframe tbody tr th {\n",
       "        vertical-align: top;\n",
       "    }\n",
       "\n",
       "    .dataframe thead th {\n",
       "        text-align: right;\n",
       "    }\n",
       "</style>\n",
       "<table border=\"1\" class=\"dataframe\">\n",
       "  <thead>\n",
       "    <tr style=\"text-align: right;\">\n",
       "      <th></th>\n",
       "      <th>CUST_ID</th>\n",
       "      <th>ACCOUNT_TENURE</th>\n",
       "      <th>ACCT_CNT_SERVICES</th>\n",
       "      <th>AGE</th>\n",
       "      <th>CFU</th>\n",
       "      <th>SERVICE_TENURE</th>\n",
       "      <th>PLAN_ACCESS_FEE</th>\n",
       "      <th>BYO_PLAN_STATUS</th>\n",
       "      <th>PLAN_TENURE</th>\n",
       "      <th>MONTHS_OF_CONTRACT_REMAINING</th>\n",
       "      <th>...</th>\n",
       "      <th>CONTRACT_STATUS</th>\n",
       "      <th>PREV_CONTRACT_DURATION</th>\n",
       "      <th>HANDSET_USED_BRAND</th>\n",
       "      <th>CHURN_IND</th>\n",
       "      <th>MONTHLY_SPEND</th>\n",
       "      <th>COUNTRY_METRO_REGION</th>\n",
       "      <th>STATE</th>\n",
       "      <th>RECON_SMS_NEXT_MTH</th>\n",
       "      <th>RECON_TELE_NEXT_MTH</th>\n",
       "      <th>RECON_EMAIL_NEXT_MTH</th>\n",
       "    </tr>\n",
       "    <tr>\n",
       "      <th>INDEX</th>\n",
       "      <th></th>\n",
       "      <th></th>\n",
       "      <th></th>\n",
       "      <th></th>\n",
       "      <th></th>\n",
       "      <th></th>\n",
       "      <th></th>\n",
       "      <th></th>\n",
       "      <th></th>\n",
       "      <th></th>\n",
       "      <th></th>\n",
       "      <th></th>\n",
       "      <th></th>\n",
       "      <th></th>\n",
       "      <th></th>\n",
       "      <th></th>\n",
       "      <th></th>\n",
       "      <th></th>\n",
       "      <th></th>\n",
       "      <th></th>\n",
       "      <th></th>\n",
       "    </tr>\n",
       "  </thead>\n",
       "  <tbody>\n",
       "    <tr>\n",
       "      <th>1</th>\n",
       "      <td>1</td>\n",
       "      <td>46</td>\n",
       "      <td>1</td>\n",
       "      <td>30.0</td>\n",
       "      <td>CONSUMER</td>\n",
       "      <td>46</td>\n",
       "      <td>54.54</td>\n",
       "      <td>NON BYO</td>\n",
       "      <td>15</td>\n",
       "      <td>0</td>\n",
       "      <td>...</td>\n",
       "      <td>OFF-CONTRACT</td>\n",
       "      <td>24</td>\n",
       "      <td>SAMSUNG</td>\n",
       "      <td>1</td>\n",
       "      <td>61.40</td>\n",
       "      <td>COUNTRY</td>\n",
       "      <td>WA</td>\n",
       "      <td>NaN</td>\n",
       "      <td>NaN</td>\n",
       "      <td>NaN</td>\n",
       "    </tr>\n",
       "    <tr>\n",
       "      <th>2</th>\n",
       "      <td>2</td>\n",
       "      <td>60</td>\n",
       "      <td>3</td>\n",
       "      <td>55.0</td>\n",
       "      <td>CONSUMER</td>\n",
       "      <td>59</td>\n",
       "      <td>54.54</td>\n",
       "      <td>NON BYO</td>\n",
       "      <td>5</td>\n",
       "      <td>0</td>\n",
       "      <td>...</td>\n",
       "      <td>OFF-CONTRACT</td>\n",
       "      <td>24</td>\n",
       "      <td>APPLE</td>\n",
       "      <td>1</td>\n",
       "      <td>54.54</td>\n",
       "      <td>METRO</td>\n",
       "      <td>NSW</td>\n",
       "      <td>NaN</td>\n",
       "      <td>NaN</td>\n",
       "      <td>NaN</td>\n",
       "    </tr>\n",
       "    <tr>\n",
       "      <th>3</th>\n",
       "      <td>5</td>\n",
       "      <td>65</td>\n",
       "      <td>1</td>\n",
       "      <td>29.0</td>\n",
       "      <td>CONSUMER</td>\n",
       "      <td>65</td>\n",
       "      <td>40.90</td>\n",
       "      <td>BYO</td>\n",
       "      <td>15</td>\n",
       "      <td>0</td>\n",
       "      <td>...</td>\n",
       "      <td>OFF-CONTRACT</td>\n",
       "      <td>12</td>\n",
       "      <td>APPLE</td>\n",
       "      <td>1</td>\n",
       "      <td>2.50</td>\n",
       "      <td>COUNTRY</td>\n",
       "      <td>WA</td>\n",
       "      <td>NaN</td>\n",
       "      <td>NaN</td>\n",
       "      <td>NaN</td>\n",
       "    </tr>\n",
       "    <tr>\n",
       "      <th>4</th>\n",
       "      <td>6</td>\n",
       "      <td>31</td>\n",
       "      <td>1</td>\n",
       "      <td>51.0</td>\n",
       "      <td>CONSUMER</td>\n",
       "      <td>31</td>\n",
       "      <td>31.81</td>\n",
       "      <td>NON BYO</td>\n",
       "      <td>31</td>\n",
       "      <td>0</td>\n",
       "      <td>...</td>\n",
       "      <td>OFF-CONTRACT</td>\n",
       "      <td>24</td>\n",
       "      <td>APPLE</td>\n",
       "      <td>1</td>\n",
       "      <td>6.48</td>\n",
       "      <td>COUNTRY</td>\n",
       "      <td>VIC</td>\n",
       "      <td>NaN</td>\n",
       "      <td>NaN</td>\n",
       "      <td>NaN</td>\n",
       "    </tr>\n",
       "    <tr>\n",
       "      <th>5</th>\n",
       "      <td>8</td>\n",
       "      <td>95</td>\n",
       "      <td>1</td>\n",
       "      <td>31.0</td>\n",
       "      <td>CONSUMER</td>\n",
       "      <td>95</td>\n",
       "      <td>54.54</td>\n",
       "      <td>NON BYO</td>\n",
       "      <td>0</td>\n",
       "      <td>0</td>\n",
       "      <td>...</td>\n",
       "      <td>OFF-CONTRACT</td>\n",
       "      <td>24</td>\n",
       "      <td>APPLE</td>\n",
       "      <td>1</td>\n",
       "      <td>100.22</td>\n",
       "      <td>METRO</td>\n",
       "      <td>NSW</td>\n",
       "      <td>NaN</td>\n",
       "      <td>NaN</td>\n",
       "      <td>NaN</td>\n",
       "    </tr>\n",
       "  </tbody>\n",
       "</table>\n",
       "<p>5 rows × 21 columns</p>\n",
       "</div>"
      ],
      "text/plain": [
       "       CUST_ID  ACCOUNT_TENURE  ACCT_CNT_SERVICES   AGE       CFU  \\\n",
       "INDEX                                                               \n",
       "1            1              46                  1  30.0  CONSUMER   \n",
       "2            2              60                  3  55.0  CONSUMER   \n",
       "3            5              65                  1  29.0  CONSUMER   \n",
       "4            6              31                  1  51.0  CONSUMER   \n",
       "5            8              95                  1  31.0  CONSUMER   \n",
       "\n",
       "       SERVICE_TENURE  PLAN_ACCESS_FEE BYO_PLAN_STATUS  PLAN_TENURE  \\\n",
       "INDEX                                                                 \n",
       "1                  46            54.54         NON BYO           15   \n",
       "2                  59            54.54         NON BYO            5   \n",
       "3                  65            40.90             BYO           15   \n",
       "4                  31            31.81         NON BYO           31   \n",
       "5                  95            54.54         NON BYO            0   \n",
       "\n",
       "       MONTHS_OF_CONTRACT_REMAINING  ...  CONTRACT_STATUS  \\\n",
       "INDEX                                ...                    \n",
       "1                                 0  ...     OFF-CONTRACT   \n",
       "2                                 0  ...     OFF-CONTRACT   \n",
       "3                                 0  ...     OFF-CONTRACT   \n",
       "4                                 0  ...     OFF-CONTRACT   \n",
       "5                                 0  ...     OFF-CONTRACT   \n",
       "\n",
       "      PREV_CONTRACT_DURATION  HANDSET_USED_BRAND CHURN_IND  MONTHLY_SPEND  \\\n",
       "INDEX                                                                       \n",
       "1                         24             SAMSUNG         1          61.40   \n",
       "2                         24               APPLE         1          54.54   \n",
       "3                         12               APPLE         1           2.50   \n",
       "4                         24               APPLE         1           6.48   \n",
       "5                         24               APPLE         1         100.22   \n",
       "\n",
       "       COUNTRY_METRO_REGION STATE RECON_SMS_NEXT_MTH  RECON_TELE_NEXT_MTH  \\\n",
       "INDEX                                                                       \n",
       "1                   COUNTRY    WA                NaN                  NaN   \n",
       "2                     METRO   NSW                NaN                  NaN   \n",
       "3                   COUNTRY    WA                NaN                  NaN   \n",
       "4                   COUNTRY   VIC                NaN                  NaN   \n",
       "5                     METRO   NSW                NaN                  NaN   \n",
       "\n",
       "       RECON_EMAIL_NEXT_MTH  \n",
       "INDEX                        \n",
       "1                       NaN  \n",
       "2                       NaN  \n",
       "3                       NaN  \n",
       "4                       NaN  \n",
       "5                       NaN  \n",
       "\n",
       "[5 rows x 21 columns]"
      ]
     },
     "execution_count": 3,
     "metadata": {},
     "output_type": "execute_result"
    }
   ],
   "source": [
    "churn = pd.read_csv(\"files/MobileCustomerChurn.csv\", na_values=[\"NA\", \"#VALUE!\"], index_col='INDEX')\n",
    "churn.head()"
   ]
  },
  {
   "cell_type": "markdown",
   "metadata": {},
   "source": [
    "Removing the `RECON` fields as per the directions of the task. "
   ]
  },
  {
   "cell_type": "code",
   "execution_count": 4,
   "metadata": {},
   "outputs": [],
   "source": [
    "churn = churn.drop(columns=['RECON_SMS_NEXT_MTH','RECON_TELE_NEXT_MTH','RECON_EMAIL_NEXT_MTH'])"
   ]
  },
  {
   "cell_type": "markdown",
   "metadata": {},
   "source": [
    "Changing the columns to lower case for ease of referencing"
   ]
  },
  {
   "cell_type": "code",
   "execution_count": 5,
   "metadata": {},
   "outputs": [],
   "source": [
    "churn.columns = churn.columns.str.lower()"
   ]
  },
  {
   "cell_type": "markdown",
   "metadata": {},
   "source": [
    "Dropping `cust_id` as we don't want to identify customers, nor is it important in this task as a feature. Even though the cust_id may be an internal identifier, it's still possible the external information could be leaked with the cust_id."
   ]
  },
  {
   "cell_type": "code",
   "execution_count": 6,
   "metadata": {},
   "outputs": [],
   "source": [
    "churn= churn.drop(columns='cust_id')"
   ]
  },
  {
   "cell_type": "markdown",
   "metadata": {},
   "source": [
    "Setting up one hot encoding for CONTRACT_STATUS and handset_brand_used\n",
    "\n",
    "help from https://scikit-learn.org/stable/modules/generated/sklearn.preprocessing.OneHotEncoder.html\n",
    "\n",
    "https://stackoverflow.com/questions/58101126/using-scikit-learn-onehotencoder-with-a-pandas-dataframe\n",
    "\n",
    "Easier to use `pd.get_dummies()` instead of one hot encoding\n",
    "\n",
    "https://stackabuse.com/one-hot-encoding-in-python-with-pandas-and-scikit-learn/"
   ]
  },
  {
   "cell_type": "raw",
   "metadata": {},
   "source": [
    "enc = OneHotEncoder(handle_unknown= 'ignore')"
   ]
  },
  {
   "cell_type": "markdown",
   "metadata": {},
   "source": [
    "Help for sorting out the prefix created by `get_dummies()` https://stackoverflow.com/questions/55830212/remove-prefix-in-all-column-names"
   ]
  },
  {
   "cell_type": "code",
   "execution_count": 8,
   "metadata": {},
   "outputs": [],
   "source": [
    "y = pd.get_dummies(churn[['contract_status','handset_used_brand','state']],prefix ='')\n",
    "y.columns = y.columns.str.replace('_', '')\n"
   ]
  },
  {
   "cell_type": "code",
   "execution_count": 9,
   "metadata": {},
   "outputs": [
    {
     "data": {
      "text/html": [
       "<div>\n",
       "<style scoped>\n",
       "    .dataframe tbody tr th:only-of-type {\n",
       "        vertical-align: middle;\n",
       "    }\n",
       "\n",
       "    .dataframe tbody tr th {\n",
       "        vertical-align: top;\n",
       "    }\n",
       "\n",
       "    .dataframe thead th {\n",
       "        text-align: right;\n",
       "    }\n",
       "</style>\n",
       "<table border=\"1\" class=\"dataframe\">\n",
       "  <thead>\n",
       "    <tr style=\"text-align: right;\">\n",
       "      <th></th>\n",
       "      <th>NO-CONTRACT</th>\n",
       "      <th>OFF-CONTRACT</th>\n",
       "      <th>ON-CONTRACT</th>\n",
       "      <th>APPLE</th>\n",
       "      <th>GOOGLE</th>\n",
       "      <th>HUAWEI</th>\n",
       "      <th>OTHER</th>\n",
       "      <th>SAMSUNG</th>\n",
       "      <th>UNKNOWN</th>\n",
       "      <th>ACT</th>\n",
       "      <th>NSW</th>\n",
       "      <th>NT</th>\n",
       "      <th>QLD</th>\n",
       "      <th>SA</th>\n",
       "      <th>TAS</th>\n",
       "      <th>VIC</th>\n",
       "      <th>WA</th>\n",
       "    </tr>\n",
       "    <tr>\n",
       "      <th>INDEX</th>\n",
       "      <th></th>\n",
       "      <th></th>\n",
       "      <th></th>\n",
       "      <th></th>\n",
       "      <th></th>\n",
       "      <th></th>\n",
       "      <th></th>\n",
       "      <th></th>\n",
       "      <th></th>\n",
       "      <th></th>\n",
       "      <th></th>\n",
       "      <th></th>\n",
       "      <th></th>\n",
       "      <th></th>\n",
       "      <th></th>\n",
       "      <th></th>\n",
       "      <th></th>\n",
       "    </tr>\n",
       "  </thead>\n",
       "  <tbody>\n",
       "    <tr>\n",
       "      <th>1</th>\n",
       "      <td>0</td>\n",
       "      <td>1</td>\n",
       "      <td>0</td>\n",
       "      <td>0</td>\n",
       "      <td>0</td>\n",
       "      <td>0</td>\n",
       "      <td>0</td>\n",
       "      <td>1</td>\n",
       "      <td>0</td>\n",
       "      <td>0</td>\n",
       "      <td>0</td>\n",
       "      <td>0</td>\n",
       "      <td>0</td>\n",
       "      <td>0</td>\n",
       "      <td>0</td>\n",
       "      <td>0</td>\n",
       "      <td>1</td>\n",
       "    </tr>\n",
       "    <tr>\n",
       "      <th>2</th>\n",
       "      <td>0</td>\n",
       "      <td>1</td>\n",
       "      <td>0</td>\n",
       "      <td>1</td>\n",
       "      <td>0</td>\n",
       "      <td>0</td>\n",
       "      <td>0</td>\n",
       "      <td>0</td>\n",
       "      <td>0</td>\n",
       "      <td>0</td>\n",
       "      <td>1</td>\n",
       "      <td>0</td>\n",
       "      <td>0</td>\n",
       "      <td>0</td>\n",
       "      <td>0</td>\n",
       "      <td>0</td>\n",
       "      <td>0</td>\n",
       "    </tr>\n",
       "    <tr>\n",
       "      <th>3</th>\n",
       "      <td>0</td>\n",
       "      <td>1</td>\n",
       "      <td>0</td>\n",
       "      <td>1</td>\n",
       "      <td>0</td>\n",
       "      <td>0</td>\n",
       "      <td>0</td>\n",
       "      <td>0</td>\n",
       "      <td>0</td>\n",
       "      <td>0</td>\n",
       "      <td>0</td>\n",
       "      <td>0</td>\n",
       "      <td>0</td>\n",
       "      <td>0</td>\n",
       "      <td>0</td>\n",
       "      <td>0</td>\n",
       "      <td>1</td>\n",
       "    </tr>\n",
       "    <tr>\n",
       "      <th>4</th>\n",
       "      <td>0</td>\n",
       "      <td>1</td>\n",
       "      <td>0</td>\n",
       "      <td>1</td>\n",
       "      <td>0</td>\n",
       "      <td>0</td>\n",
       "      <td>0</td>\n",
       "      <td>0</td>\n",
       "      <td>0</td>\n",
       "      <td>0</td>\n",
       "      <td>0</td>\n",
       "      <td>0</td>\n",
       "      <td>0</td>\n",
       "      <td>0</td>\n",
       "      <td>0</td>\n",
       "      <td>1</td>\n",
       "      <td>0</td>\n",
       "    </tr>\n",
       "    <tr>\n",
       "      <th>5</th>\n",
       "      <td>0</td>\n",
       "      <td>1</td>\n",
       "      <td>0</td>\n",
       "      <td>1</td>\n",
       "      <td>0</td>\n",
       "      <td>0</td>\n",
       "      <td>0</td>\n",
       "      <td>0</td>\n",
       "      <td>0</td>\n",
       "      <td>0</td>\n",
       "      <td>1</td>\n",
       "      <td>0</td>\n",
       "      <td>0</td>\n",
       "      <td>0</td>\n",
       "      <td>0</td>\n",
       "      <td>0</td>\n",
       "      <td>0</td>\n",
       "    </tr>\n",
       "  </tbody>\n",
       "</table>\n",
       "</div>"
      ],
      "text/plain": [
       "       NO-CONTRACT  OFF-CONTRACT  ON-CONTRACT  APPLE  GOOGLE  HUAWEI  OTHER  \\\n",
       "INDEX                                                                         \n",
       "1                0             1            0      0       0       0      0   \n",
       "2                0             1            0      1       0       0      0   \n",
       "3                0             1            0      1       0       0      0   \n",
       "4                0             1            0      1       0       0      0   \n",
       "5                0             1            0      1       0       0      0   \n",
       "\n",
       "       SAMSUNG  UNKNOWN  ACT  NSW  NT  QLD  SA  TAS  VIC  WA  \n",
       "INDEX                                                         \n",
       "1            1        0    0    0   0    0   0    0    0   1  \n",
       "2            0        0    0    1   0    0   0    0    0   0  \n",
       "3            0        0    0    0   0    0   0    0    0   1  \n",
       "4            0        0    0    0   0    0   0    0    1   0  \n",
       "5            0        0    0    1   0    0   0    0    0   0  "
      ]
     },
     "execution_count": 9,
     "metadata": {},
     "output_type": "execute_result"
    }
   ],
   "source": [
    "y.head()"
   ]
  },
  {
   "cell_type": "code",
   "execution_count": 10,
   "metadata": {},
   "outputs": [],
   "source": [
    "churn_ohe = pd.concat([churn, y], axis=1).drop(['contract_status','handset_used_brand','state'], axis=1)"
   ]
  },
  {
   "cell_type": "code",
   "execution_count": 11,
   "metadata": {
    "scrolled": true
   },
   "outputs": [
    {
     "data": {
      "text/html": [
       "<div>\n",
       "<style scoped>\n",
       "    .dataframe tbody tr th:only-of-type {\n",
       "        vertical-align: middle;\n",
       "    }\n",
       "\n",
       "    .dataframe tbody tr th {\n",
       "        vertical-align: top;\n",
       "    }\n",
       "\n",
       "    .dataframe thead th {\n",
       "        text-align: right;\n",
       "    }\n",
       "</style>\n",
       "<table border=\"1\" class=\"dataframe\">\n",
       "  <thead>\n",
       "    <tr style=\"text-align: right;\">\n",
       "      <th></th>\n",
       "      <th>account_tenure</th>\n",
       "      <th>acct_cnt_services</th>\n",
       "      <th>age</th>\n",
       "      <th>cfu</th>\n",
       "      <th>service_tenure</th>\n",
       "      <th>plan_access_fee</th>\n",
       "      <th>byo_plan_status</th>\n",
       "      <th>plan_tenure</th>\n",
       "      <th>months_of_contract_remaining</th>\n",
       "      <th>last_fx_contract_duration</th>\n",
       "      <th>...</th>\n",
       "      <th>SAMSUNG</th>\n",
       "      <th>UNKNOWN</th>\n",
       "      <th>ACT</th>\n",
       "      <th>NSW</th>\n",
       "      <th>NT</th>\n",
       "      <th>QLD</th>\n",
       "      <th>SA</th>\n",
       "      <th>TAS</th>\n",
       "      <th>VIC</th>\n",
       "      <th>WA</th>\n",
       "    </tr>\n",
       "    <tr>\n",
       "      <th>INDEX</th>\n",
       "      <th></th>\n",
       "      <th></th>\n",
       "      <th></th>\n",
       "      <th></th>\n",
       "      <th></th>\n",
       "      <th></th>\n",
       "      <th></th>\n",
       "      <th></th>\n",
       "      <th></th>\n",
       "      <th></th>\n",
       "      <th></th>\n",
       "      <th></th>\n",
       "      <th></th>\n",
       "      <th></th>\n",
       "      <th></th>\n",
       "      <th></th>\n",
       "      <th></th>\n",
       "      <th></th>\n",
       "      <th></th>\n",
       "      <th></th>\n",
       "      <th></th>\n",
       "    </tr>\n",
       "  </thead>\n",
       "  <tbody>\n",
       "    <tr>\n",
       "      <th>1</th>\n",
       "      <td>46</td>\n",
       "      <td>1</td>\n",
       "      <td>30.0</td>\n",
       "      <td>CONSUMER</td>\n",
       "      <td>46</td>\n",
       "      <td>54.54</td>\n",
       "      <td>NON BYO</td>\n",
       "      <td>15</td>\n",
       "      <td>0</td>\n",
       "      <td>24</td>\n",
       "      <td>...</td>\n",
       "      <td>1</td>\n",
       "      <td>0</td>\n",
       "      <td>0</td>\n",
       "      <td>0</td>\n",
       "      <td>0</td>\n",
       "      <td>0</td>\n",
       "      <td>0</td>\n",
       "      <td>0</td>\n",
       "      <td>0</td>\n",
       "      <td>1</td>\n",
       "    </tr>\n",
       "    <tr>\n",
       "      <th>2</th>\n",
       "      <td>60</td>\n",
       "      <td>3</td>\n",
       "      <td>55.0</td>\n",
       "      <td>CONSUMER</td>\n",
       "      <td>59</td>\n",
       "      <td>54.54</td>\n",
       "      <td>NON BYO</td>\n",
       "      <td>5</td>\n",
       "      <td>0</td>\n",
       "      <td>24</td>\n",
       "      <td>...</td>\n",
       "      <td>0</td>\n",
       "      <td>0</td>\n",
       "      <td>0</td>\n",
       "      <td>1</td>\n",
       "      <td>0</td>\n",
       "      <td>0</td>\n",
       "      <td>0</td>\n",
       "      <td>0</td>\n",
       "      <td>0</td>\n",
       "      <td>0</td>\n",
       "    </tr>\n",
       "    <tr>\n",
       "      <th>3</th>\n",
       "      <td>65</td>\n",
       "      <td>1</td>\n",
       "      <td>29.0</td>\n",
       "      <td>CONSUMER</td>\n",
       "      <td>65</td>\n",
       "      <td>40.90</td>\n",
       "      <td>BYO</td>\n",
       "      <td>15</td>\n",
       "      <td>0</td>\n",
       "      <td>12</td>\n",
       "      <td>...</td>\n",
       "      <td>0</td>\n",
       "      <td>0</td>\n",
       "      <td>0</td>\n",
       "      <td>0</td>\n",
       "      <td>0</td>\n",
       "      <td>0</td>\n",
       "      <td>0</td>\n",
       "      <td>0</td>\n",
       "      <td>0</td>\n",
       "      <td>1</td>\n",
       "    </tr>\n",
       "    <tr>\n",
       "      <th>4</th>\n",
       "      <td>31</td>\n",
       "      <td>1</td>\n",
       "      <td>51.0</td>\n",
       "      <td>CONSUMER</td>\n",
       "      <td>31</td>\n",
       "      <td>31.81</td>\n",
       "      <td>NON BYO</td>\n",
       "      <td>31</td>\n",
       "      <td>0</td>\n",
       "      <td>24</td>\n",
       "      <td>...</td>\n",
       "      <td>0</td>\n",
       "      <td>0</td>\n",
       "      <td>0</td>\n",
       "      <td>0</td>\n",
       "      <td>0</td>\n",
       "      <td>0</td>\n",
       "      <td>0</td>\n",
       "      <td>0</td>\n",
       "      <td>1</td>\n",
       "      <td>0</td>\n",
       "    </tr>\n",
       "    <tr>\n",
       "      <th>5</th>\n",
       "      <td>95</td>\n",
       "      <td>1</td>\n",
       "      <td>31.0</td>\n",
       "      <td>CONSUMER</td>\n",
       "      <td>95</td>\n",
       "      <td>54.54</td>\n",
       "      <td>NON BYO</td>\n",
       "      <td>0</td>\n",
       "      <td>0</td>\n",
       "      <td>24</td>\n",
       "      <td>...</td>\n",
       "      <td>0</td>\n",
       "      <td>0</td>\n",
       "      <td>0</td>\n",
       "      <td>1</td>\n",
       "      <td>0</td>\n",
       "      <td>0</td>\n",
       "      <td>0</td>\n",
       "      <td>0</td>\n",
       "      <td>0</td>\n",
       "      <td>0</td>\n",
       "    </tr>\n",
       "  </tbody>\n",
       "</table>\n",
       "<p>5 rows × 31 columns</p>\n",
       "</div>"
      ],
      "text/plain": [
       "       account_tenure  acct_cnt_services   age       cfu  service_tenure  \\\n",
       "INDEX                                                                      \n",
       "1                  46                  1  30.0  CONSUMER              46   \n",
       "2                  60                  3  55.0  CONSUMER              59   \n",
       "3                  65                  1  29.0  CONSUMER              65   \n",
       "4                  31                  1  51.0  CONSUMER              31   \n",
       "5                  95                  1  31.0  CONSUMER              95   \n",
       "\n",
       "       plan_access_fee byo_plan_status  plan_tenure  \\\n",
       "INDEX                                                 \n",
       "1                54.54         NON BYO           15   \n",
       "2                54.54         NON BYO            5   \n",
       "3                40.90             BYO           15   \n",
       "4                31.81         NON BYO           31   \n",
       "5                54.54         NON BYO            0   \n",
       "\n",
       "       months_of_contract_remaining  last_fx_contract_duration  ...  SAMSUNG  \\\n",
       "INDEX                                                           ...            \n",
       "1                                 0                         24  ...        1   \n",
       "2                                 0                         24  ...        0   \n",
       "3                                 0                         12  ...        0   \n",
       "4                                 0                         24  ...        0   \n",
       "5                                 0                         24  ...        0   \n",
       "\n",
       "       UNKNOWN  ACT NSW  NT  QLD  SA  TAS  VIC  WA  \n",
       "INDEX                                               \n",
       "1            0    0   0   0    0   0    0    0   1  \n",
       "2            0    0   1   0    0   0    0    0   0  \n",
       "3            0    0   0   0    0   0    0    0   1  \n",
       "4            0    0   0   0    0   0    0    1   0  \n",
       "5            0    0   1   0    0   0    0    0   0  \n",
       "\n",
       "[5 rows x 31 columns]"
      ]
     },
     "execution_count": 11,
     "metadata": {},
     "output_type": "execute_result"
    }
   ],
   "source": [
    "churn_ohe.head()"
   ]
  },
  {
   "cell_type": "markdown",
   "metadata": {},
   "source": [
    "Finding any NAN values"
   ]
  },
  {
   "cell_type": "code",
   "execution_count": 12,
   "metadata": {},
   "outputs": [
    {
     "data": {
      "text/plain": [
       "account_tenure                  False\n",
       "acct_cnt_services               False\n",
       "age                              True\n",
       "cfu                             False\n",
       "service_tenure                  False\n",
       "plan_access_fee                 False\n",
       "byo_plan_status                 False\n",
       "plan_tenure                     False\n",
       "months_of_contract_remaining    False\n",
       "last_fx_contract_duration       False\n",
       "contract_status                 False\n",
       "prev_contract_duration          False\n",
       "handset_used_brand              False\n",
       "churn_ind                       False\n",
       "monthly_spend                   False\n",
       "country_metro_region             True\n",
       "state                            True\n",
       "dtype: bool"
      ]
     },
     "execution_count": 12,
     "metadata": {},
     "output_type": "execute_result"
    }
   ],
   "source": [
    "churn.isnull().any()"
   ]
  },
  {
   "cell_type": "code",
   "execution_count": 13,
   "metadata": {},
   "outputs": [],
   "source": [
    "naColumns = list((churn.isnull().any())[(churn.isnull().any())==True].index)"
   ]
  },
  {
   "cell_type": "code",
   "execution_count": 14,
   "metadata": {},
   "outputs": [
    {
     "data": {
      "text/plain": [
       "['age', 'country_metro_region', 'state']"
      ]
     },
     "execution_count": 14,
     "metadata": {},
     "output_type": "execute_result"
    }
   ],
   "source": [
    "naColumns"
   ]
  },
  {
   "cell_type": "code",
   "execution_count": 15,
   "metadata": {},
   "outputs": [
    {
     "data": {
      "text/html": [
       "<div>\n",
       "<style scoped>\n",
       "    .dataframe tbody tr th:only-of-type {\n",
       "        vertical-align: middle;\n",
       "    }\n",
       "\n",
       "    .dataframe tbody tr th {\n",
       "        vertical-align: top;\n",
       "    }\n",
       "\n",
       "    .dataframe thead th {\n",
       "        text-align: right;\n",
       "    }\n",
       "</style>\n",
       "<table border=\"1\" class=\"dataframe\">\n",
       "  <thead>\n",
       "    <tr style=\"text-align: right;\">\n",
       "      <th></th>\n",
       "      <th>account_tenure</th>\n",
       "      <th>acct_cnt_services</th>\n",
       "      <th>age</th>\n",
       "      <th>cfu</th>\n",
       "      <th>service_tenure</th>\n",
       "      <th>plan_access_fee</th>\n",
       "      <th>byo_plan_status</th>\n",
       "      <th>plan_tenure</th>\n",
       "      <th>months_of_contract_remaining</th>\n",
       "      <th>last_fx_contract_duration</th>\n",
       "      <th>contract_status</th>\n",
       "      <th>prev_contract_duration</th>\n",
       "      <th>handset_used_brand</th>\n",
       "      <th>churn_ind</th>\n",
       "      <th>monthly_spend</th>\n",
       "      <th>country_metro_region</th>\n",
       "      <th>state</th>\n",
       "    </tr>\n",
       "    <tr>\n",
       "      <th>INDEX</th>\n",
       "      <th></th>\n",
       "      <th></th>\n",
       "      <th></th>\n",
       "      <th></th>\n",
       "      <th></th>\n",
       "      <th></th>\n",
       "      <th></th>\n",
       "      <th></th>\n",
       "      <th></th>\n",
       "      <th></th>\n",
       "      <th></th>\n",
       "      <th></th>\n",
       "      <th></th>\n",
       "      <th></th>\n",
       "      <th></th>\n",
       "      <th></th>\n",
       "      <th></th>\n",
       "    </tr>\n",
       "  </thead>\n",
       "  <tbody>\n",
       "    <tr>\n",
       "      <th>186</th>\n",
       "      <td>94</td>\n",
       "      <td>2</td>\n",
       "      <td>NaN</td>\n",
       "      <td>SMALL BUSINESS</td>\n",
       "      <td>94</td>\n",
       "      <td>45.44</td>\n",
       "      <td>NON BYO</td>\n",
       "      <td>27</td>\n",
       "      <td>0</td>\n",
       "      <td>24</td>\n",
       "      <td>OFF-CONTRACT</td>\n",
       "      <td>24</td>\n",
       "      <td>HUAWEI</td>\n",
       "      <td>1</td>\n",
       "      <td>51.79</td>\n",
       "      <td>COUNTRY</td>\n",
       "      <td>NSW</td>\n",
       "    </tr>\n",
       "    <tr>\n",
       "      <th>213</th>\n",
       "      <td>39</td>\n",
       "      <td>4</td>\n",
       "      <td>NaN</td>\n",
       "      <td>SMALL BUSINESS</td>\n",
       "      <td>1</td>\n",
       "      <td>36.36</td>\n",
       "      <td>NON BYO</td>\n",
       "      <td>1</td>\n",
       "      <td>0</td>\n",
       "      <td>0</td>\n",
       "      <td>NO-CONTRACT</td>\n",
       "      <td>0</td>\n",
       "      <td>SAMSUNG</td>\n",
       "      <td>1</td>\n",
       "      <td>48.37</td>\n",
       "      <td>METRO</td>\n",
       "      <td>NSW</td>\n",
       "    </tr>\n",
       "    <tr>\n",
       "      <th>2047</th>\n",
       "      <td>4</td>\n",
       "      <td>2</td>\n",
       "      <td>NaN</td>\n",
       "      <td>SMALL BUSINESS</td>\n",
       "      <td>4</td>\n",
       "      <td>72.72</td>\n",
       "      <td>NON BYO</td>\n",
       "      <td>4</td>\n",
       "      <td>20</td>\n",
       "      <td>24</td>\n",
       "      <td>ON-CONTRACT</td>\n",
       "      <td>0</td>\n",
       "      <td>SAMSUNG</td>\n",
       "      <td>1</td>\n",
       "      <td>72.72</td>\n",
       "      <td>METRO</td>\n",
       "      <td>ACT</td>\n",
       "    </tr>\n",
       "    <tr>\n",
       "      <th>2560</th>\n",
       "      <td>8</td>\n",
       "      <td>4</td>\n",
       "      <td>NaN</td>\n",
       "      <td>SMALL BUSINESS</td>\n",
       "      <td>8</td>\n",
       "      <td>27.27</td>\n",
       "      <td>BYO</td>\n",
       "      <td>5</td>\n",
       "      <td>0</td>\n",
       "      <td>0</td>\n",
       "      <td>NO-CONTRACT</td>\n",
       "      <td>0</td>\n",
       "      <td>APPLE</td>\n",
       "      <td>1</td>\n",
       "      <td>37.66</td>\n",
       "      <td>METRO</td>\n",
       "      <td>VIC</td>\n",
       "    </tr>\n",
       "    <tr>\n",
       "      <th>4129</th>\n",
       "      <td>9</td>\n",
       "      <td>3</td>\n",
       "      <td>NaN</td>\n",
       "      <td>SMALL BUSINESS</td>\n",
       "      <td>9</td>\n",
       "      <td>72.72</td>\n",
       "      <td>NON BYO</td>\n",
       "      <td>9</td>\n",
       "      <td>15</td>\n",
       "      <td>24</td>\n",
       "      <td>ON-CONTRACT</td>\n",
       "      <td>0</td>\n",
       "      <td>APPLE</td>\n",
       "      <td>1</td>\n",
       "      <td>72.72</td>\n",
       "      <td>METRO</td>\n",
       "      <td>NSW</td>\n",
       "    </tr>\n",
       "  </tbody>\n",
       "</table>\n",
       "</div>"
      ],
      "text/plain": [
       "       account_tenure  acct_cnt_services  age             cfu  service_tenure  \\\n",
       "INDEX                                                                           \n",
       "186                94                  2  NaN  SMALL BUSINESS              94   \n",
       "213                39                  4  NaN  SMALL BUSINESS               1   \n",
       "2047                4                  2  NaN  SMALL BUSINESS               4   \n",
       "2560                8                  4  NaN  SMALL BUSINESS               8   \n",
       "4129                9                  3  NaN  SMALL BUSINESS               9   \n",
       "\n",
       "       plan_access_fee byo_plan_status  plan_tenure  \\\n",
       "INDEX                                                 \n",
       "186              45.44         NON BYO           27   \n",
       "213              36.36         NON BYO            1   \n",
       "2047             72.72         NON BYO            4   \n",
       "2560             27.27             BYO            5   \n",
       "4129             72.72         NON BYO            9   \n",
       "\n",
       "       months_of_contract_remaining  last_fx_contract_duration  \\\n",
       "INDEX                                                            \n",
       "186                               0                         24   \n",
       "213                               0                          0   \n",
       "2047                             20                         24   \n",
       "2560                              0                          0   \n",
       "4129                             15                         24   \n",
       "\n",
       "      contract_status  prev_contract_duration handset_used_brand  churn_ind  \\\n",
       "INDEX                                                                         \n",
       "186      OFF-CONTRACT                      24             HUAWEI          1   \n",
       "213       NO-CONTRACT                       0            SAMSUNG          1   \n",
       "2047      ON-CONTRACT                       0            SAMSUNG          1   \n",
       "2560      NO-CONTRACT                       0              APPLE          1   \n",
       "4129      ON-CONTRACT                       0              APPLE          1   \n",
       "\n",
       "       monthly_spend country_metro_region state  \n",
       "INDEX                                            \n",
       "186            51.79              COUNTRY   NSW  \n",
       "213            48.37                METRO   NSW  \n",
       "2047           72.72                METRO   ACT  \n",
       "2560           37.66                METRO   VIC  \n",
       "4129           72.72                METRO   NSW  "
      ]
     },
     "execution_count": 15,
     "metadata": {},
     "output_type": "execute_result"
    }
   ],
   "source": [
    "churn[churn[naColumns[0]].isna()].head()"
   ]
  },
  {
   "cell_type": "code",
   "execution_count": 16,
   "metadata": {},
   "outputs": [
    {
     "data": {
      "text/html": [
       "<div>\n",
       "<style scoped>\n",
       "    .dataframe tbody tr th:only-of-type {\n",
       "        vertical-align: middle;\n",
       "    }\n",
       "\n",
       "    .dataframe tbody tr th {\n",
       "        vertical-align: top;\n",
       "    }\n",
       "\n",
       "    .dataframe thead th {\n",
       "        text-align: right;\n",
       "    }\n",
       "</style>\n",
       "<table border=\"1\" class=\"dataframe\">\n",
       "  <thead>\n",
       "    <tr style=\"text-align: right;\">\n",
       "      <th></th>\n",
       "      <th>account_tenure</th>\n",
       "      <th>acct_cnt_services</th>\n",
       "      <th>age</th>\n",
       "      <th>cfu</th>\n",
       "      <th>service_tenure</th>\n",
       "      <th>plan_access_fee</th>\n",
       "      <th>byo_plan_status</th>\n",
       "      <th>plan_tenure</th>\n",
       "      <th>months_of_contract_remaining</th>\n",
       "      <th>last_fx_contract_duration</th>\n",
       "      <th>contract_status</th>\n",
       "      <th>prev_contract_duration</th>\n",
       "      <th>handset_used_brand</th>\n",
       "      <th>churn_ind</th>\n",
       "      <th>monthly_spend</th>\n",
       "      <th>country_metro_region</th>\n",
       "      <th>state</th>\n",
       "    </tr>\n",
       "    <tr>\n",
       "      <th>INDEX</th>\n",
       "      <th></th>\n",
       "      <th></th>\n",
       "      <th></th>\n",
       "      <th></th>\n",
       "      <th></th>\n",
       "      <th></th>\n",
       "      <th></th>\n",
       "      <th></th>\n",
       "      <th></th>\n",
       "      <th></th>\n",
       "      <th></th>\n",
       "      <th></th>\n",
       "      <th></th>\n",
       "      <th></th>\n",
       "      <th></th>\n",
       "      <th></th>\n",
       "      <th></th>\n",
       "    </tr>\n",
       "  </thead>\n",
       "  <tbody>\n",
       "    <tr>\n",
       "      <th>23119</th>\n",
       "      <td>94</td>\n",
       "      <td>1</td>\n",
       "      <td>52.0</td>\n",
       "      <td>CONSUMER</td>\n",
       "      <td>194</td>\n",
       "      <td>72.72</td>\n",
       "      <td>NON BYO</td>\n",
       "      <td>3</td>\n",
       "      <td>21</td>\n",
       "      <td>24</td>\n",
       "      <td>ON-CONTRACT</td>\n",
       "      <td>24</td>\n",
       "      <td>APPLE</td>\n",
       "      <td>0</td>\n",
       "      <td>72.72</td>\n",
       "      <td>NaN</td>\n",
       "      <td>NaN</td>\n",
       "    </tr>\n",
       "  </tbody>\n",
       "</table>\n",
       "</div>"
      ],
      "text/plain": [
       "       account_tenure  acct_cnt_services   age       cfu  service_tenure  \\\n",
       "INDEX                                                                      \n",
       "23119              94                  1  52.0  CONSUMER             194   \n",
       "\n",
       "       plan_access_fee byo_plan_status  plan_tenure  \\\n",
       "INDEX                                                 \n",
       "23119            72.72         NON BYO            3   \n",
       "\n",
       "       months_of_contract_remaining  last_fx_contract_duration  \\\n",
       "INDEX                                                            \n",
       "23119                            21                         24   \n",
       "\n",
       "      contract_status  prev_contract_duration handset_used_brand  churn_ind  \\\n",
       "INDEX                                                                         \n",
       "23119     ON-CONTRACT                      24              APPLE          0   \n",
       "\n",
       "       monthly_spend country_metro_region state  \n",
       "INDEX                                            \n",
       "23119          72.72                  NaN   NaN  "
      ]
     },
     "execution_count": 16,
     "metadata": {},
     "output_type": "execute_result"
    }
   ],
   "source": [
    "churn[churn[naColumns[1]].isna()].head()"
   ]
  },
  {
   "cell_type": "code",
   "execution_count": 17,
   "metadata": {},
   "outputs": [
    {
     "data": {
      "text/html": [
       "<div>\n",
       "<style scoped>\n",
       "    .dataframe tbody tr th:only-of-type {\n",
       "        vertical-align: middle;\n",
       "    }\n",
       "\n",
       "    .dataframe tbody tr th {\n",
       "        vertical-align: top;\n",
       "    }\n",
       "\n",
       "    .dataframe thead th {\n",
       "        text-align: right;\n",
       "    }\n",
       "</style>\n",
       "<table border=\"1\" class=\"dataframe\">\n",
       "  <thead>\n",
       "    <tr style=\"text-align: right;\">\n",
       "      <th></th>\n",
       "      <th>account_tenure</th>\n",
       "      <th>acct_cnt_services</th>\n",
       "      <th>age</th>\n",
       "      <th>cfu</th>\n",
       "      <th>service_tenure</th>\n",
       "      <th>plan_access_fee</th>\n",
       "      <th>byo_plan_status</th>\n",
       "      <th>plan_tenure</th>\n",
       "      <th>months_of_contract_remaining</th>\n",
       "      <th>last_fx_contract_duration</th>\n",
       "      <th>contract_status</th>\n",
       "      <th>prev_contract_duration</th>\n",
       "      <th>handset_used_brand</th>\n",
       "      <th>churn_ind</th>\n",
       "      <th>monthly_spend</th>\n",
       "      <th>country_metro_region</th>\n",
       "      <th>state</th>\n",
       "    </tr>\n",
       "    <tr>\n",
       "      <th>INDEX</th>\n",
       "      <th></th>\n",
       "      <th></th>\n",
       "      <th></th>\n",
       "      <th></th>\n",
       "      <th></th>\n",
       "      <th></th>\n",
       "      <th></th>\n",
       "      <th></th>\n",
       "      <th></th>\n",
       "      <th></th>\n",
       "      <th></th>\n",
       "      <th></th>\n",
       "      <th></th>\n",
       "      <th></th>\n",
       "      <th></th>\n",
       "      <th></th>\n",
       "      <th></th>\n",
       "    </tr>\n",
       "  </thead>\n",
       "  <tbody>\n",
       "    <tr>\n",
       "      <th>23119</th>\n",
       "      <td>94</td>\n",
       "      <td>1</td>\n",
       "      <td>52.0</td>\n",
       "      <td>CONSUMER</td>\n",
       "      <td>194</td>\n",
       "      <td>72.72</td>\n",
       "      <td>NON BYO</td>\n",
       "      <td>3</td>\n",
       "      <td>21</td>\n",
       "      <td>24</td>\n",
       "      <td>ON-CONTRACT</td>\n",
       "      <td>24</td>\n",
       "      <td>APPLE</td>\n",
       "      <td>0</td>\n",
       "      <td>72.72</td>\n",
       "      <td>NaN</td>\n",
       "      <td>NaN</td>\n",
       "    </tr>\n",
       "  </tbody>\n",
       "</table>\n",
       "</div>"
      ],
      "text/plain": [
       "       account_tenure  acct_cnt_services   age       cfu  service_tenure  \\\n",
       "INDEX                                                                      \n",
       "23119              94                  1  52.0  CONSUMER             194   \n",
       "\n",
       "       plan_access_fee byo_plan_status  plan_tenure  \\\n",
       "INDEX                                                 \n",
       "23119            72.72         NON BYO            3   \n",
       "\n",
       "       months_of_contract_remaining  last_fx_contract_duration  \\\n",
       "INDEX                                                            \n",
       "23119                            21                         24   \n",
       "\n",
       "      contract_status  prev_contract_duration handset_used_brand  churn_ind  \\\n",
       "INDEX                                                                         \n",
       "23119     ON-CONTRACT                      24              APPLE          0   \n",
       "\n",
       "       monthly_spend country_metro_region state  \n",
       "INDEX                                            \n",
       "23119          72.72                  NaN   NaN  "
      ]
     },
     "execution_count": 17,
     "metadata": {},
     "output_type": "execute_result"
    }
   ],
   "source": [
    "churn[churn[naColumns[2]].isna()].head()"
   ]
  },
  {
   "cell_type": "markdown",
   "metadata": {},
   "source": [
    "Considering there is only a total of 73 rows with NA values, we can remove them as they won't have a significant impact on the rest of the data. "
   ]
  },
  {
   "cell_type": "code",
   "execution_count": 18,
   "metadata": {},
   "outputs": [],
   "source": [
    "churn_clean = churn.drop(index=list(churn[churn[naColumns[0]].isna()].index))\n",
    "churn_clean = churn_clean.drop(index=23119)\n",
    "\n",
    "churn_oheClean = churn_ohe.drop(index=list(churn[churn[naColumns[0]].isna()].index))\n",
    "churn_oheClean = churn_oheClean.drop(index=23119)"
   ]
  },
  {
   "cell_type": "code",
   "execution_count": null,
   "metadata": {},
   "outputs": [],
   "source": []
  },
  {
   "cell_type": "markdown",
   "metadata": {},
   "source": [
    "## Exploring the DF"
   ]
  },
  {
   "cell_type": "markdown",
   "metadata": {},
   "source": [
    "Checking what the `cfu` column contains"
   ]
  },
  {
   "cell_type": "code",
   "execution_count": 19,
   "metadata": {},
   "outputs": [
    {
     "data": {
      "text/plain": [
       "{'CONSUMER', 'SMALL BUSINESS'}"
      ]
     },
     "execution_count": 19,
     "metadata": {},
     "output_type": "execute_result"
    }
   ],
   "source": [
    "set(list(churn['cfu']))"
   ]
  },
  {
   "cell_type": "code",
   "execution_count": 20,
   "metadata": {},
   "outputs": [
    {
     "data": {
      "text/plain": [
       "39087"
      ]
     },
     "execution_count": 20,
     "metadata": {},
     "output_type": "execute_result"
    }
   ],
   "source": [
    "len(churn[churn['cfu'] == 'CONSUMER'])"
   ]
  },
  {
   "cell_type": "code",
   "execution_count": 21,
   "metadata": {},
   "outputs": [
    {
     "data": {
      "text/plain": [
       "7119"
      ]
     },
     "execution_count": 21,
     "metadata": {},
     "output_type": "execute_result"
    }
   ],
   "source": [
    "len(churn[churn['cfu'] == 'SMALL BUSINESS'])"
   ]
  },
  {
   "cell_type": "code",
   "execution_count": 22,
   "metadata": {},
   "outputs": [
    {
     "data": {
      "text/plain": [
       "15.41"
      ]
     },
     "execution_count": 22,
     "metadata": {},
     "output_type": "execute_result"
    }
   ],
   "source": [
    "round((len(churn[churn['cfu'] == 'SMALL BUSINESS']) / len(churn))*100, 2)"
   ]
  },
  {
   "cell_type": "markdown",
   "metadata": {},
   "source": [
    "Small business account for about 15% of all the accounts, therefore consumers equate to about 75% for all the accounts"
   ]
  },
  {
   "cell_type": "code",
   "execution_count": 23,
   "metadata": {},
   "outputs": [
    {
     "data": {
      "text/plain": [
       "23.22"
      ]
     },
     "execution_count": 23,
     "metadata": {},
     "output_type": "execute_result"
    }
   ],
   "source": [
    "round((len(churn[churn['byo_plan_status'] == 'BYO']) / len(churn))*100, 2)"
   ]
  },
  {
   "cell_type": "markdown",
   "metadata": {},
   "source": [
    "About 23% of all the accounts are BYO plan status"
   ]
  },
  {
   "cell_type": "markdown",
   "metadata": {},
   "source": [
    "About 34% of all accounts have different `account_tenure` to `service_tenure`. What does it mean if these two differ? "
   ]
  },
  {
   "cell_type": "code",
   "execution_count": 24,
   "metadata": {},
   "outputs": [
    {
     "data": {
      "text/plain": [
       "33.82"
      ]
     },
     "execution_count": 24,
     "metadata": {},
     "output_type": "execute_result"
    }
   ],
   "source": [
    "round((len(churn[(churn['account_tenure'] == churn['service_tenure']) == False]) / len(churn))*100, 2)"
   ]
  },
  {
   "cell_type": "code",
   "execution_count": 25,
   "metadata": {
    "scrolled": true
   },
   "outputs": [],
   "source": [
    "total = len(churn)\n",
    "greater = round( 100*(len(churn[churn['account_tenure'] > churn['service_tenure']])/total),2)\n",
    "lesser = round( 100*(len(churn[churn['account_tenure'] < churn['service_tenure']])/total),2)\n",
    "equal = round((len(churn[(churn['account_tenure'] == churn['service_tenure']) == True]) / len(churn))*100, 2)"
   ]
  },
  {
   "cell_type": "markdown",
   "metadata": {},
   "source": [
    "Checking they all add up"
   ]
  },
  {
   "cell_type": "code",
   "execution_count": 26,
   "metadata": {},
   "outputs": [
    {
     "data": {
      "text/plain": [
       "100.0"
      ]
     },
     "execution_count": 26,
     "metadata": {},
     "output_type": "execute_result"
    }
   ],
   "source": [
    "greater + lesser + equal"
   ]
  },
  {
   "cell_type": "code",
   "execution_count": 27,
   "metadata": {},
   "outputs": [
    {
     "name": "stdout",
     "output_type": "stream",
     "text": [
      "account_tenure > service_tenure = 18.19%\n",
      "account_tenure < service_tenure = 15.63%\n",
      "account_tenure = service_tenure = 66.18%\n"
     ]
    }
   ],
   "source": [
    "print(f'account_tenure > service_tenure = {greater}%')\n",
    "print(f'account_tenure < service_tenure = {lesser}%')\n",
    "print(f'account_tenure = service_tenure = {equal}%')"
   ]
  },
  {
   "cell_type": "code",
   "execution_count": 28,
   "metadata": {},
   "outputs": [],
   "source": [
    "greater2 = round( 100*(len(churn[churn['account_tenure'] > churn['plan_tenure']])/total),2)\n",
    "lesser2 = round( 100*(len(churn[churn['account_tenure'] < churn['plan_tenure']])/total),2)\n",
    "equal2 = round((len(churn[(churn['account_tenure'] == churn['plan_tenure']) == True]) / len(churn))*100, 2)"
   ]
  },
  {
   "cell_type": "code",
   "execution_count": 29,
   "metadata": {},
   "outputs": [
    {
     "name": "stdout",
     "output_type": "stream",
     "text": [
      "account_tenure > plan_tenure = 72.29%\n",
      "account_tenure < plan_tenure = 0.04%\n",
      "account_tenure = plan_tenure = 27.67%\n"
     ]
    }
   ],
   "source": [
    "print(f'account_tenure > plan_tenure = {greater2}%')\n",
    "print(f'account_tenure < plan_tenure = {lesser2}%')\n",
    "print(f'account_tenure = plan_tenure = {equal2}%')"
   ]
  },
  {
   "cell_type": "code",
   "execution_count": 30,
   "metadata": {},
   "outputs": [],
   "source": [
    "greater3= round( 100*(len(churn[churn['service_tenure'] > churn['plan_tenure']])/total),2)\n",
    "lesser3 = round( 100*(len(churn[churn['service_tenure'] < churn['plan_tenure']])/total),2)\n",
    "equal3 = round((len(churn[(churn['service_tenure'] == churn['plan_tenure']) == True]) / len(churn))*100, 2)"
   ]
  },
  {
   "cell_type": "code",
   "execution_count": 31,
   "metadata": {},
   "outputs": [
    {
     "name": "stdout",
     "output_type": "stream",
     "text": [
      "service_tenure > plan_tenure = 64.09%\n",
      "service_tenure < plan_tenure = 0.0%\n",
      "service_tenure = plan_tenure = 35.91%\n"
     ]
    }
   ],
   "source": [
    "print(f'service_tenure > plan_tenure = {greater3}%')\n",
    "print(f'service_tenure < plan_tenure = {lesser3}%')\n",
    "print(f'service_tenure = plan_tenure = {equal3}%')"
   ]
  },
  {
   "cell_type": "markdown",
   "metadata": {},
   "source": [
    "Checking if there are any correlations between the 3 tenures "
   ]
  },
  {
   "cell_type": "code",
   "execution_count": 32,
   "metadata": {},
   "outputs": [],
   "source": [
    "tenureList = ['account_tenure','service_tenure','plan_tenure']"
   ]
  },
  {
   "cell_type": "code",
   "execution_count": 33,
   "metadata": {},
   "outputs": [
    {
     "data": {
      "text/html": [
       "<div>\n",
       "<style scoped>\n",
       "    .dataframe tbody tr th:only-of-type {\n",
       "        vertical-align: middle;\n",
       "    }\n",
       "\n",
       "    .dataframe tbody tr th {\n",
       "        vertical-align: top;\n",
       "    }\n",
       "\n",
       "    .dataframe thead th {\n",
       "        text-align: right;\n",
       "    }\n",
       "</style>\n",
       "<table border=\"1\" class=\"dataframe\">\n",
       "  <thead>\n",
       "    <tr style=\"text-align: right;\">\n",
       "      <th></th>\n",
       "      <th>account_tenure</th>\n",
       "      <th>service_tenure</th>\n",
       "      <th>plan_tenure</th>\n",
       "    </tr>\n",
       "  </thead>\n",
       "  <tbody>\n",
       "    <tr>\n",
       "      <th>account_tenure</th>\n",
       "      <td>1.000000</td>\n",
       "      <td>0.791784</td>\n",
       "      <td>0.247583</td>\n",
       "    </tr>\n",
       "    <tr>\n",
       "      <th>service_tenure</th>\n",
       "      <td>0.791784</td>\n",
       "      <td>1.000000</td>\n",
       "      <td>0.218260</td>\n",
       "    </tr>\n",
       "    <tr>\n",
       "      <th>plan_tenure</th>\n",
       "      <td>0.247583</td>\n",
       "      <td>0.218260</td>\n",
       "      <td>1.000000</td>\n",
       "    </tr>\n",
       "  </tbody>\n",
       "</table>\n",
       "</div>"
      ],
      "text/plain": [
       "                account_tenure  service_tenure  plan_tenure\n",
       "account_tenure        1.000000        0.791784     0.247583\n",
       "service_tenure        0.791784        1.000000     0.218260\n",
       "plan_tenure           0.247583        0.218260     1.000000"
      ]
     },
     "execution_count": 33,
     "metadata": {},
     "output_type": "execute_result"
    }
   ],
   "source": [
    "churn[tenureList].corr()"
   ]
  },
  {
   "cell_type": "code",
   "execution_count": 34,
   "metadata": {},
   "outputs": [
    {
     "data": {
      "text/plain": [
       "<matplotlib.axes._subplots.AxesSubplot at 0x2ae424a09a0>"
      ]
     },
     "execution_count": 34,
     "metadata": {},
     "output_type": "execute_result"
    },
    {
     "data": {
      "image/png": "[encoded data removed]",
      "text/plain": [
       "<Figure size 432x288 with 2 Axes>"
      ]
     },
     "metadata": {
      "needs_background": "light"
     },
     "output_type": "display_data"
    }
   ],
   "source": [
    "sns.heatmap((churn[tenureList].corr()), linewidths = 0.5, annot=True, annot_kws={\"fontsize\":15})"
   ]
  },
  {
   "cell_type": "markdown",
   "metadata": {},
   "source": [
    "There is a high correlation between `account_tenure` and `service_tenure`. Checking the correlation of the two tenures with the rest of the features of the data. The following cell has chosen only columns with number types, displaying the tenures of interest. We can easily compare the correlations of the two tenures with the other features."
   ]
  },
  {
   "cell_type": "code",
   "execution_count": 35,
   "metadata": {},
   "outputs": [
    {
     "data": {
      "text/html": [
       "<div>\n",
       "<style scoped>\n",
       "    .dataframe tbody tr th:only-of-type {\n",
       "        vertical-align: middle;\n",
       "    }\n",
       "\n",
       "    .dataframe tbody tr th {\n",
       "        vertical-align: top;\n",
       "    }\n",
       "\n",
       "    .dataframe thead th {\n",
       "        text-align: right;\n",
       "    }\n",
       "</style>\n",
       "<table border=\"1\" class=\"dataframe\">\n",
       "  <thead>\n",
       "    <tr style=\"text-align: right;\">\n",
       "      <th></th>\n",
       "      <th>account_tenure</th>\n",
       "      <th>acct_cnt_services</th>\n",
       "      <th>age</th>\n",
       "      <th>service_tenure</th>\n",
       "      <th>plan_access_fee</th>\n",
       "      <th>plan_tenure</th>\n",
       "      <th>months_of_contract_remaining</th>\n",
       "      <th>last_fx_contract_duration</th>\n",
       "      <th>prev_contract_duration</th>\n",
       "      <th>churn_ind</th>\n",
       "      <th>monthly_spend</th>\n",
       "    </tr>\n",
       "  </thead>\n",
       "  <tbody>\n",
       "    <tr>\n",
       "      <th>account_tenure</th>\n",
       "      <td>1.000000</td>\n",
       "      <td>0.196271</td>\n",
       "      <td>0.250492</td>\n",
       "      <td>0.791784</td>\n",
       "      <td>-0.08516</td>\n",
       "      <td>0.247583</td>\n",
       "      <td>-0.170644</td>\n",
       "      <td>0.176972</td>\n",
       "      <td>0.503690</td>\n",
       "      <td>-0.151654</td>\n",
       "      <td>-0.137805</td>\n",
       "    </tr>\n",
       "    <tr>\n",
       "      <th>service_tenure</th>\n",
       "      <td>0.791784</td>\n",
       "      <td>0.068398</td>\n",
       "      <td>0.251711</td>\n",
       "      <td>1.000000</td>\n",
       "      <td>-0.07852</td>\n",
       "      <td>0.218260</td>\n",
       "      <td>-0.143886</td>\n",
       "      <td>0.139710</td>\n",
       "      <td>0.410986</td>\n",
       "      <td>-0.153512</td>\n",
       "      <td>-0.115622</td>\n",
       "    </tr>\n",
       "  </tbody>\n",
       "</table>\n",
       "</div>"
      ],
      "text/plain": [
       "                account_tenure  acct_cnt_services       age  service_tenure  \\\n",
       "account_tenure        1.000000           0.196271  0.250492        0.791784   \n",
       "service_tenure        0.791784           0.068398  0.251711        1.000000   \n",
       "\n",
       "                plan_access_fee  plan_tenure  months_of_contract_remaining  \\\n",
       "account_tenure         -0.08516     0.247583                     -0.170644   \n",
       "service_tenure         -0.07852     0.218260                     -0.143886   \n",
       "\n",
       "                last_fx_contract_duration  prev_contract_duration  churn_ind  \\\n",
       "account_tenure                   0.176972                0.503690  -0.151654   \n",
       "service_tenure                   0.139710                0.410986  -0.153512   \n",
       "\n",
       "                monthly_spend  \n",
       "account_tenure      -0.137805  \n",
       "service_tenure      -0.115622  "
      ]
     },
     "execution_count": 35,
     "metadata": {},
     "output_type": "execute_result"
    }
   ],
   "source": [
    "(churn.select_dtypes(['number']).corr().loc[['account_tenure','service_tenure']])"
   ]
  },
  {
   "cell_type": "markdown",
   "metadata": {},
   "source": [
    "In nearly all the features, `service_tenure` has a higher correlation. Perhaps this means we should use this as a feature instead of `account_tenure`. "
   ]
  },
  {
   "cell_type": "markdown",
   "metadata": {},
   "source": [
    "Some further exploration"
   ]
  },
  {
   "cell_type": "code",
   "execution_count": 36,
   "metadata": {},
   "outputs": [],
   "source": [
    "zeroRemain = round(len(churn[churn['months_of_contract_remaining'] == 0])*100/total, 2)"
   ]
  },
  {
   "cell_type": "code",
   "execution_count": 37,
   "metadata": {},
   "outputs": [
    {
     "name": "stdout",
     "output_type": "stream",
     "text": [
      "38.79% of contracts have no remaining months in their contract\n"
     ]
    }
   ],
   "source": [
    "print(f'{zeroRemain}% of contracts have no remaining months in their contract')"
   ]
  },
  {
   "cell_type": "code",
   "execution_count": 38,
   "metadata": {},
   "outputs": [
    {
     "name": "stdout",
     "output_type": "stream",
     "text": [
      "75.77% of customers had their last fixed contract as their previous contract\n"
     ]
    }
   ],
   "source": [
    "print(f\"{round(len(churn[churn['last_fx_contract_duration'] == churn['prev_contract_duration']])*100/total,2)}% of customers had their last fixed contract as their previous contract\")"
   ]
  },
  {
   "cell_type": "code",
   "execution_count": 39,
   "metadata": {},
   "outputs": [
    {
     "name": "stdout",
     "output_type": "stream",
     "text": [
      "28.04% of customers who did not BYO device churned  \n"
     ]
    }
   ],
   "source": [
    "print(f\"{round(len(churn[(churn['churn_ind']==1)& (churn['byo_plan_status']== 'NON BYO')])*100/total,2)}% of customers who did not BYO device churned  \")"
   ]
  },
  {
   "cell_type": "markdown",
   "metadata": {},
   "source": [
    "Creating two different DFs, one for consumers and one for business'. IT will be good though to keep them in the same DF because we can use it to plot different hues "
   ]
  },
  {
   "cell_type": "code",
   "execution_count": 40,
   "metadata": {},
   "outputs": [],
   "source": [
    "churn_c= churn[churn['cfu'] =='CONSUMER']\n",
    "churn_b = churn[churn['cfu'] == 'SMALL BUSINESS']"
   ]
  },
  {
   "cell_type": "markdown",
   "metadata": {},
   "source": [
    "Dropping the `cfu` column as it will no longer be needed"
   ]
  },
  {
   "cell_type": "code",
   "execution_count": 41,
   "metadata": {},
   "outputs": [],
   "source": [
    "churn_c = churn_c.drop(columns=['cfu'])\n",
    "churn_b = churn_b.drop(columns=['cfu'])"
   ]
  },
  {
   "cell_type": "code",
   "execution_count": 42,
   "metadata": {},
   "outputs": [
    {
     "data": {
      "text/html": [
       "<div>\n",
       "<style scoped>\n",
       "    .dataframe tbody tr th:only-of-type {\n",
       "        vertical-align: middle;\n",
       "    }\n",
       "\n",
       "    .dataframe tbody tr th {\n",
       "        vertical-align: top;\n",
       "    }\n",
       "\n",
       "    .dataframe thead th {\n",
       "        text-align: right;\n",
       "    }\n",
       "</style>\n",
       "<table border=\"1\" class=\"dataframe\">\n",
       "  <thead>\n",
       "    <tr style=\"text-align: right;\">\n",
       "      <th></th>\n",
       "      <th>account_tenure</th>\n",
       "      <th>acct_cnt_services</th>\n",
       "      <th>age</th>\n",
       "      <th>service_tenure</th>\n",
       "      <th>plan_access_fee</th>\n",
       "      <th>byo_plan_status</th>\n",
       "      <th>plan_tenure</th>\n",
       "      <th>months_of_contract_remaining</th>\n",
       "      <th>last_fx_contract_duration</th>\n",
       "      <th>contract_status</th>\n",
       "      <th>prev_contract_duration</th>\n",
       "      <th>handset_used_brand</th>\n",
       "      <th>churn_ind</th>\n",
       "      <th>monthly_spend</th>\n",
       "      <th>country_metro_region</th>\n",
       "      <th>state</th>\n",
       "    </tr>\n",
       "    <tr>\n",
       "      <th>INDEX</th>\n",
       "      <th></th>\n",
       "      <th></th>\n",
       "      <th></th>\n",
       "      <th></th>\n",
       "      <th></th>\n",
       "      <th></th>\n",
       "      <th></th>\n",
       "      <th></th>\n",
       "      <th></th>\n",
       "      <th></th>\n",
       "      <th></th>\n",
       "      <th></th>\n",
       "      <th></th>\n",
       "      <th></th>\n",
       "      <th></th>\n",
       "      <th></th>\n",
       "    </tr>\n",
       "  </thead>\n",
       "  <tbody>\n",
       "    <tr>\n",
       "      <th>22</th>\n",
       "      <td>67</td>\n",
       "      <td>4</td>\n",
       "      <td>53.0</td>\n",
       "      <td>67</td>\n",
       "      <td>31.81</td>\n",
       "      <td>BYO</td>\n",
       "      <td>22</td>\n",
       "      <td>0</td>\n",
       "      <td>12</td>\n",
       "      <td>OFF-CONTRACT</td>\n",
       "      <td>12</td>\n",
       "      <td>APPLE</td>\n",
       "      <td>1</td>\n",
       "      <td>68.17</td>\n",
       "      <td>COUNTRY</td>\n",
       "      <td>NSW</td>\n",
       "    </tr>\n",
       "    <tr>\n",
       "      <th>23</th>\n",
       "      <td>4</td>\n",
       "      <td>1</td>\n",
       "      <td>26.0</td>\n",
       "      <td>4</td>\n",
       "      <td>72.72</td>\n",
       "      <td>NON BYO</td>\n",
       "      <td>4</td>\n",
       "      <td>20</td>\n",
       "      <td>24</td>\n",
       "      <td>ON-CONTRACT</td>\n",
       "      <td>24</td>\n",
       "      <td>OTHER</td>\n",
       "      <td>1</td>\n",
       "      <td>84.53</td>\n",
       "      <td>COUNTRY</td>\n",
       "      <td>VIC</td>\n",
       "    </tr>\n",
       "    <tr>\n",
       "      <th>36</th>\n",
       "      <td>58</td>\n",
       "      <td>1</td>\n",
       "      <td>41.0</td>\n",
       "      <td>58</td>\n",
       "      <td>31.81</td>\n",
       "      <td>BYO</td>\n",
       "      <td>26</td>\n",
       "      <td>0</td>\n",
       "      <td>24</td>\n",
       "      <td>OFF-CONTRACT</td>\n",
       "      <td>24</td>\n",
       "      <td>APPLE</td>\n",
       "      <td>1</td>\n",
       "      <td>38.16</td>\n",
       "      <td>METRO</td>\n",
       "      <td>VIC</td>\n",
       "    </tr>\n",
       "    <tr>\n",
       "      <th>40</th>\n",
       "      <td>78</td>\n",
       "      <td>1</td>\n",
       "      <td>27.0</td>\n",
       "      <td>78</td>\n",
       "      <td>53.63</td>\n",
       "      <td>NON BYO</td>\n",
       "      <td>54</td>\n",
       "      <td>0</td>\n",
       "      <td>24</td>\n",
       "      <td>OFF-CONTRACT</td>\n",
       "      <td>24</td>\n",
       "      <td>APPLE</td>\n",
       "      <td>1</td>\n",
       "      <td>3.42</td>\n",
       "      <td>METRO</td>\n",
       "      <td>NSW</td>\n",
       "    </tr>\n",
       "    <tr>\n",
       "      <th>44</th>\n",
       "      <td>57</td>\n",
       "      <td>1</td>\n",
       "      <td>26.0</td>\n",
       "      <td>57</td>\n",
       "      <td>27.27</td>\n",
       "      <td>BYO</td>\n",
       "      <td>9</td>\n",
       "      <td>3</td>\n",
       "      <td>12</td>\n",
       "      <td>ON-CONTRACT</td>\n",
       "      <td>24</td>\n",
       "      <td>APPLE</td>\n",
       "      <td>1</td>\n",
       "      <td>48.79</td>\n",
       "      <td>METRO</td>\n",
       "      <td>SA</td>\n",
       "    </tr>\n",
       "  </tbody>\n",
       "</table>\n",
       "</div>"
      ],
      "text/plain": [
       "       account_tenure  acct_cnt_services   age  service_tenure  \\\n",
       "INDEX                                                            \n",
       "22                 67                  4  53.0              67   \n",
       "23                  4                  1  26.0               4   \n",
       "36                 58                  1  41.0              58   \n",
       "40                 78                  1  27.0              78   \n",
       "44                 57                  1  26.0              57   \n",
       "\n",
       "       plan_access_fee byo_plan_status  plan_tenure  \\\n",
       "INDEX                                                 \n",
       "22               31.81             BYO           22   \n",
       "23               72.72         NON BYO            4   \n",
       "36               31.81             BYO           26   \n",
       "40               53.63         NON BYO           54   \n",
       "44               27.27             BYO            9   \n",
       "\n",
       "       months_of_contract_remaining  last_fx_contract_duration  \\\n",
       "INDEX                                                            \n",
       "22                                0                         12   \n",
       "23                               20                         24   \n",
       "36                                0                         24   \n",
       "40                                0                         24   \n",
       "44                                3                         12   \n",
       "\n",
       "      contract_status  prev_contract_duration handset_used_brand  churn_ind  \\\n",
       "INDEX                                                                         \n",
       "22       OFF-CONTRACT                      12              APPLE          1   \n",
       "23        ON-CONTRACT                      24              OTHER          1   \n",
       "36       OFF-CONTRACT                      24              APPLE          1   \n",
       "40       OFF-CONTRACT                      24              APPLE          1   \n",
       "44        ON-CONTRACT                      24              APPLE          1   \n",
       "\n",
       "       monthly_spend country_metro_region state  \n",
       "INDEX                                            \n",
       "22             68.17              COUNTRY   NSW  \n",
       "23             84.53              COUNTRY   VIC  \n",
       "36             38.16                METRO   VIC  \n",
       "40              3.42                METRO   NSW  \n",
       "44             48.79                METRO    SA  "
      ]
     },
     "execution_count": 42,
     "metadata": {},
     "output_type": "execute_result"
    }
   ],
   "source": [
    "churn_b.head()"
   ]
  },
  {
   "cell_type": "code",
   "execution_count": 43,
   "metadata": {},
   "outputs": [
    {
     "data": {
      "text/plain": [
       "<matplotlib.axes._subplots.AxesSubplot at 0x2ae425b3a60>"
      ]
     },
     "execution_count": 43,
     "metadata": {},
     "output_type": "execute_result"
    },
    {
     "data": {
      "image/png": "[encoded data removed]",
      "text/plain": [
       "<Figure size 1080x720 with 2 Axes>"
      ]
     },
     "metadata": {
      "needs_background": "light"
     },
     "output_type": "display_data"
    }
   ],
   "source": [
    "plt.figure(figsize=(15,10))\n",
    "sns.heatmap((churn_b.corr().drop(['account_tenure'])), linewidths = 0.5, annot=True)"
   ]
  },
  {
   "cell_type": "markdown",
   "metadata": {},
   "source": [
    "Not much to deduce here, can only see that there is a high **negative** correlation between `months_of_contract_remaining` and `plan_tenure`. We can also see there is a high positive correlation between `prev_contract_duration` and `last_fx_contract_duration`. It is likely the previous contract was a fixed term contract. Most people are on fixed term contracts so this makes sense. "
   ]
  },
  {
   "cell_type": "markdown",
   "metadata": {},
   "source": [
    "Doing a `.describe()` for the columns to make sure they all are sensible."
   ]
  },
  {
   "cell_type": "code",
   "execution_count": 44,
   "metadata": {},
   "outputs": [
    {
     "data": {
      "text/html": [
       "<div>\n",
       "<style scoped>\n",
       "    .dataframe tbody tr th:only-of-type {\n",
       "        vertical-align: middle;\n",
       "    }\n",
       "\n",
       "    .dataframe tbody tr th {\n",
       "        vertical-align: top;\n",
       "    }\n",
       "\n",
       "    .dataframe thead th {\n",
       "        text-align: right;\n",
       "    }\n",
       "</style>\n",
       "<table border=\"1\" class=\"dataframe\">\n",
       "  <thead>\n",
       "    <tr style=\"text-align: right;\">\n",
       "      <th></th>\n",
       "      <th>account_tenure</th>\n",
       "      <th>acct_cnt_services</th>\n",
       "      <th>age</th>\n",
       "      <th>service_tenure</th>\n",
       "      <th>plan_access_fee</th>\n",
       "      <th>plan_tenure</th>\n",
       "      <th>months_of_contract_remaining</th>\n",
       "      <th>last_fx_contract_duration</th>\n",
       "      <th>prev_contract_duration</th>\n",
       "      <th>churn_ind</th>\n",
       "      <th>monthly_spend</th>\n",
       "    </tr>\n",
       "  </thead>\n",
       "  <tbody>\n",
       "    <tr>\n",
       "      <th>count</th>\n",
       "      <td>46206.000000</td>\n",
       "      <td>46206.000000</td>\n",
       "      <td>46130.000000</td>\n",
       "      <td>46206.000000</td>\n",
       "      <td>46206.000000</td>\n",
       "      <td>46206.000000</td>\n",
       "      <td>46206.000000</td>\n",
       "      <td>46206.000000</td>\n",
       "      <td>46206.000000</td>\n",
       "      <td>46206.000000</td>\n",
       "      <td>46206.000000</td>\n",
       "    </tr>\n",
       "    <tr>\n",
       "      <th>mean</th>\n",
       "      <td>45.874627</td>\n",
       "      <td>1.555707</td>\n",
       "      <td>41.411836</td>\n",
       "      <td>50.318617</td>\n",
       "      <td>51.364858</td>\n",
       "      <td>10.846708</td>\n",
       "      <td>8.237112</td>\n",
       "      <td>20.349825</td>\n",
       "      <td>15.249968</td>\n",
       "      <td>0.385015</td>\n",
       "      <td>75.188029</td>\n",
       "    </tr>\n",
       "    <tr>\n",
       "      <th>std</th>\n",
       "      <td>33.077927</td>\n",
       "      <td>0.835529</td>\n",
       "      <td>15.263726</td>\n",
       "      <td>51.925537</td>\n",
       "      <td>20.855419</td>\n",
       "      <td>9.769887</td>\n",
       "      <td>8.341476</td>\n",
       "      <td>8.034631</td>\n",
       "      <td>10.982958</td>\n",
       "      <td>0.486604</td>\n",
       "      <td>73.519041</td>\n",
       "    </tr>\n",
       "    <tr>\n",
       "      <th>min</th>\n",
       "      <td>0.000000</td>\n",
       "      <td>1.000000</td>\n",
       "      <td>-4.000000</td>\n",
       "      <td>0.000000</td>\n",
       "      <td>8.180000</td>\n",
       "      <td>0.000000</td>\n",
       "      <td>0.000000</td>\n",
       "      <td>0.000000</td>\n",
       "      <td>0.000000</td>\n",
       "      <td>0.000000</td>\n",
       "      <td>1.020000</td>\n",
       "    </tr>\n",
       "    <tr>\n",
       "      <th>25%</th>\n",
       "      <td>14.000000</td>\n",
       "      <td>1.000000</td>\n",
       "      <td>28.000000</td>\n",
       "      <td>11.000000</td>\n",
       "      <td>36.360000</td>\n",
       "      <td>3.000000</td>\n",
       "      <td>0.000000</td>\n",
       "      <td>24.000000</td>\n",
       "      <td>0.000000</td>\n",
       "      <td>0.000000</td>\n",
       "      <td>36.360000</td>\n",
       "    </tr>\n",
       "    <tr>\n",
       "      <th>50%</th>\n",
       "      <td>44.000000</td>\n",
       "      <td>1.000000</td>\n",
       "      <td>40.000000</td>\n",
       "      <td>35.000000</td>\n",
       "      <td>54.540000</td>\n",
       "      <td>8.000000</td>\n",
       "      <td>7.000000</td>\n",
       "      <td>24.000000</td>\n",
       "      <td>24.000000</td>\n",
       "      <td>0.000000</td>\n",
       "      <td>54.540000</td>\n",
       "    </tr>\n",
       "    <tr>\n",
       "      <th>75%</th>\n",
       "      <td>77.000000</td>\n",
       "      <td>2.000000</td>\n",
       "      <td>52.000000</td>\n",
       "      <td>69.000000</td>\n",
       "      <td>72.720000</td>\n",
       "      <td>16.000000</td>\n",
       "      <td>16.000000</td>\n",
       "      <td>24.000000</td>\n",
       "      <td>24.000000</td>\n",
       "      <td>1.000000</td>\n",
       "      <td>84.530000</td>\n",
       "    </tr>\n",
       "    <tr>\n",
       "      <th>max</th>\n",
       "      <td>120.000000</td>\n",
       "      <td>4.000000</td>\n",
       "      <td>116.000000</td>\n",
       "      <td>259.000000</td>\n",
       "      <td>234.540000</td>\n",
       "      <td>147.000000</td>\n",
       "      <td>24.000000</td>\n",
       "      <td>36.000000</td>\n",
       "      <td>36.000000</td>\n",
       "      <td>1.000000</td>\n",
       "      <td>1965.890000</td>\n",
       "    </tr>\n",
       "  </tbody>\n",
       "</table>\n",
       "</div>"
      ],
      "text/plain": [
       "       account_tenure  acct_cnt_services           age  service_tenure  \\\n",
       "count    46206.000000       46206.000000  46130.000000    46206.000000   \n",
       "mean        45.874627           1.555707     41.411836       50.318617   \n",
       "std         33.077927           0.835529     15.263726       51.925537   \n",
       "min          0.000000           1.000000     -4.000000        0.000000   \n",
       "25%         14.000000           1.000000     28.000000       11.000000   \n",
       "50%         44.000000           1.000000     40.000000       35.000000   \n",
       "75%         77.000000           2.000000     52.000000       69.000000   \n",
       "max        120.000000           4.000000    116.000000      259.000000   \n",
       "\n",
       "       plan_access_fee   plan_tenure  months_of_contract_remaining  \\\n",
       "count     46206.000000  46206.000000                  46206.000000   \n",
       "mean         51.364858     10.846708                      8.237112   \n",
       "std          20.855419      9.769887                      8.341476   \n",
       "min           8.180000      0.000000                      0.000000   \n",
       "25%          36.360000      3.000000                      0.000000   \n",
       "50%          54.540000      8.000000                      7.000000   \n",
       "75%          72.720000     16.000000                     16.000000   \n",
       "max         234.540000    147.000000                     24.000000   \n",
       "\n",
       "       last_fx_contract_duration  prev_contract_duration     churn_ind  \\\n",
       "count               46206.000000            46206.000000  46206.000000   \n",
       "mean                   20.349825               15.249968      0.385015   \n",
       "std                     8.034631               10.982958      0.486604   \n",
       "min                     0.000000                0.000000      0.000000   \n",
       "25%                    24.000000                0.000000      0.000000   \n",
       "50%                    24.000000               24.000000      0.000000   \n",
       "75%                    24.000000               24.000000      1.000000   \n",
       "max                    36.000000               36.000000      1.000000   \n",
       "\n",
       "       monthly_spend  \n",
       "count   46206.000000  \n",
       "mean       75.188029  \n",
       "std        73.519041  \n",
       "min         1.020000  \n",
       "25%        36.360000  \n",
       "50%        54.540000  \n",
       "75%        84.530000  \n",
       "max      1965.890000  "
      ]
     },
     "execution_count": 44,
     "metadata": {},
     "output_type": "execute_result"
    }
   ],
   "source": [
    "churn.describe()"
   ]
  },
  {
   "cell_type": "markdown",
   "metadata": {},
   "source": [
    "We notice there is a negative value for the age. "
   ]
  },
  {
   "cell_type": "code",
   "execution_count": 45,
   "metadata": {},
   "outputs": [],
   "source": [
    "churn_clean= churn_clean.drop(index=churn_clean[churn_clean['age']<0].index)\n",
    "\n",
    "churn_oheClean= churn_oheClean.drop(index=churn_oheClean[churn_oheClean['age'] <0].index)"
   ]
  },
  {
   "cell_type": "markdown",
   "metadata": {},
   "source": [
    "Changing the categorical columns 'cfu' and 'byo_plan_status' to 0 and 1."
   ]
  },
  {
   "cell_type": "code",
   "execution_count": 46,
   "metadata": {},
   "outputs": [],
   "source": [
    "churn_clean.loc[churn_clean['cfu'] =='CONSUMER', 'cfu'] = 1\n",
    "churn_clean.loc[churn_clean['cfu'] =='SMALL BUSINESS', 'cfu'] = 0\n",
    "\n",
    "churn_clean.loc[churn_clean['byo_plan_status'] =='NON BYO', 'byo_plan_status'] = 0\n",
    "churn_clean.loc[churn_clean['byo_plan_status'] =='BYO', 'byo_plan_status'] = 1\n",
    "\n",
    "churn_clean.loc[churn_clean['country_metro_region'] =='COUNTRY', 'country_metro_region'] = 0\n",
    "churn_clean.loc[churn_clean['country_metro_region'] =='METRO', 'country_metro_region'] = 1"
   ]
  },
  {
   "cell_type": "code",
   "execution_count": 46,
   "metadata": {},
   "outputs": [],
   "source": [
    "churn_oheClean.loc[churn_oheClean['cfu'] =='CONSUMER', 'cfu'] = 1\n",
    "churn_oheClean.loc[churn_oheClean['cfu'] =='SMALL BUSINESS', 'cfu'] = 0\n",
    "\n",
    "churn_oheClean.loc[churn_oheClean['byo_plan_status'] =='NON BYO', 'byo_plan_status'] = 0\n",
    "churn_oheClean.loc[churn_oheClean['byo_plan_status'] =='BYO', 'byo_plan_status'] = 1\n",
    "\n",
    "churn_oheClean.loc[churn_oheClean['country_metro_region'] =='COUNTRY', 'country_metro_region'] = 0\n",
    "churn_oheClean.loc[churn_oheClean['country_metro_region'] =='METRO', 'country_metro_region'] = 1"
   ]
  },
  {
   "cell_type": "raw",
   "metadata": {},
   "source": [
    "#alternative method\n",
    "churn['CONSUMER']= (churn['CFU'] == 'CONSUMER').astype(int)\n"
   ]
  },
  {
   "cell_type": "markdown",
   "metadata": {},
   "source": [
    "From this DF exploration, we've found:\n",
    "- no columns are equal. \n",
    "- not many customers had BYO plans (as expected)\n",
    "- high correlation between previous contract being a fixed term contract\n",
    "- significantly more consumers than small businesses (as expected)\n",
    "- "
   ]
  },
  {
   "cell_type": "markdown",
   "metadata": {},
   "source": [
    "help with `.select_dtypes` https://stackoverflow.com/questions/12725417/drop-non-numeric-columns-from-a-pandas-dataframe\n",
    "\n",
    "https://pandas.pydata.org/docs/reference/api/pandas.DataFrame.select_dtypes.html"
   ]
  },
  {
   "cell_type": "raw",
   "metadata": {},
   "source": [
    "churn.select_dtypes(['number']).head()"
   ]
  },
  {
   "cell_type": "markdown",
   "metadata": {},
   "source": [
    "END OF DATA EXPLORATION\n",
    "\n",
    "---"
   ]
  },
  {
   "cell_type": "markdown",
   "metadata": {},
   "source": [
    "# Modelling"
   ]
  },
  {
   "cell_type": "markdown",
   "metadata": {
    "heading_collapsed": true
   },
   "source": [
    "### Linear Regression\n",
    "\n",
    "Probably should not use this model.\n",
    "LR is not used for classification. use for predicting numerical values."
   ]
  },
  {
   "cell_type": "raw",
   "metadata": {
    "hidden": true
   },
   "source": [
    "churn.head()"
   ]
  },
  {
   "cell_type": "raw",
   "metadata": {
    "hidden": true
   },
   "source": [
    "train, test = train_test_split(churn_clean, test_size=0.2, random_state=1)\n",
    "print(train.shape)\n",
    "print(test.shape)"
   ]
  },
  {
   "cell_type": "raw",
   "metadata": {
    "hidden": true
   },
   "source": [
    "from sklearn.feature_selection import RFE"
   ]
  },
  {
   "cell_type": "raw",
   "metadata": {
    "hidden": true
   },
   "source": [
    "Xtrain = train.select_dtypes('number')\n",
    "yTrain = train['churn_ind']"
   ]
  },
  {
   "cell_type": "raw",
   "metadata": {
    "hidden": true
   },
   "source": [
    "# True = the column was used\n",
    "# rank = 1 means the column was already selected, next number after is the next to be \n",
    "# selected (if desired) \n",
    "rfe = RFE(estimator= reg, n_features_to_select = len(list(churn.select_dtypes('number').columns)), step = 1)\n",
    "rfe.fit(Xtrain, yTrain)\n",
    "\n",
    "for i in range(Xtrain.shape[1]):\n",
    "#     print('column: %d, selected %s, rank: %.3f' % (i, rfe.support_[i], rfe.ranking_[i]))\n",
    "    print(f'column: {i} ({Xtrain.columns[0]}), selected: {rfe.support_[i]}, rank: {rfe.ranking_[i]}')"
   ]
  },
  {
   "cell_type": "raw",
   "metadata": {
    "hidden": true
   },
   "source": [
    "churn.columns"
   ]
  },
  {
   "cell_type": "raw",
   "metadata": {
    "hidden": true
   },
   "source": [
    "reg = linear_model.LinearRegression()\n",
    "features = ['monthly_spend','service_tenure','age']\n",
    "\n",
    "Xtrain = train[features]\n",
    "yTrain = train['churn_ind']\n",
    "reg.fit(Xtrain, yTrain)\n",
    "print(\"y = x *\", reg.coef_, \"+\", reg.intercept_)"
   ]
  },
  {
   "cell_type": "raw",
   "metadata": {
    "hidden": true
   },
   "source": [
    "predicted = reg.predict(Xtrain)\n",
    "mse = ((np.array(yTrain)-predicted)**2).sum()/len(yTrain)\n",
    "r2 = r2_score(yTrain, predicted)\n",
    "print(\"MSE:\", mse)\n",
    "print(\"R Squared:\", r2)"
   ]
  },
  {
   "cell_type": "raw",
   "metadata": {
    "hidden": true
   },
   "source": [
    "Xtest= test[features]\n",
    "yTest = test['churn_ind']"
   ]
  },
  {
   "cell_type": "raw",
   "metadata": {
    "hidden": true
   },
   "source": [
    "predicted = reg.predict(Xtest)\n",
    "mse = ((np.array(yTest)-predicted)**2).sum()/len(yTest)\n",
    "r2 = r2_score(yTest, predicted)\n",
    "print(\"MSE:\", mse)\n",
    "print(\"R Squared:\", r2)"
   ]
  },
  {
   "cell_type": "markdown",
   "metadata": {},
   "source": [
    "### Log Regression"
   ]
  },
  {
   "cell_type": "markdown",
   "metadata": {},
   "source": [
    "For labels instead of numeric values. Labels are usually classifcations "
   ]
  },
  {
   "cell_type": "markdown",
   "metadata": {},
   "source": [
    "#### `churn_oheClean`,  RFE to determine the number of features. "
   ]
  },
  {
   "cell_type": "markdown",
   "metadata": {},
   "source": [
    "looking at the plot, if there is a high jump in the accuracy, that means the feature at that moment has a high impact on the model. \n",
    "\n",
    "try to put the model in a loop to determine the number of iterations \n",
    "\n"
   ]
  },
  {
   "cell_type": "code",
   "execution_count": 47,
   "metadata": {},
   "outputs": [],
   "source": [
    "train, test = train_test_split(churn_oheClean, test_size=0.2, random_state=142)"
   ]
  },
  {
   "cell_type": "raw",
   "metadata": {},
   "source": [
    "churn_oheClean.columns"
   ]
  },
  {
   "cell_type": "code",
   "execution_count": 48,
   "metadata": {},
   "outputs": [
    {
     "data": {
      "text/plain": [
       "INDEX\n",
       "1        0\n",
       "2        1\n",
       "3        0\n",
       "4        0\n",
       "5        1\n",
       "        ..\n",
       "46202    0\n",
       "46203    1\n",
       "46204    0\n",
       "46205    1\n",
       "46206    1\n",
       "Name: country_metro_region, Length: 46127, dtype: object"
      ]
     },
     "execution_count": 48,
     "metadata": {},
     "output_type": "execute_result"
    }
   ],
   "source": [
    "churn_oheClean['country_metro_region']"
   ]
  },
  {
   "cell_type": "code",
   "execution_count": 49,
   "metadata": {},
   "outputs": [
    {
     "data": {
      "text/html": [
       "<div>\n",
       "<style scoped>\n",
       "    .dataframe tbody tr th:only-of-type {\n",
       "        vertical-align: middle;\n",
       "    }\n",
       "\n",
       "    .dataframe tbody tr th {\n",
       "        vertical-align: top;\n",
       "    }\n",
       "\n",
       "    .dataframe thead th {\n",
       "        text-align: right;\n",
       "    }\n",
       "</style>\n",
       "<table border=\"1\" class=\"dataframe\">\n",
       "  <thead>\n",
       "    <tr style=\"text-align: right;\">\n",
       "      <th></th>\n",
       "      <th>account_tenure</th>\n",
       "      <th>acct_cnt_services</th>\n",
       "      <th>age</th>\n",
       "      <th>cfu</th>\n",
       "      <th>service_tenure</th>\n",
       "      <th>plan_access_fee</th>\n",
       "      <th>byo_plan_status</th>\n",
       "      <th>plan_tenure</th>\n",
       "      <th>months_of_contract_remaining</th>\n",
       "      <th>last_fx_contract_duration</th>\n",
       "      <th>...</th>\n",
       "      <th>SAMSUNG</th>\n",
       "      <th>UNKNOWN</th>\n",
       "      <th>ACT</th>\n",
       "      <th>NSW</th>\n",
       "      <th>NT</th>\n",
       "      <th>QLD</th>\n",
       "      <th>SA</th>\n",
       "      <th>TAS</th>\n",
       "      <th>VIC</th>\n",
       "      <th>WA</th>\n",
       "    </tr>\n",
       "    <tr>\n",
       "      <th>INDEX</th>\n",
       "      <th></th>\n",
       "      <th></th>\n",
       "      <th></th>\n",
       "      <th></th>\n",
       "      <th></th>\n",
       "      <th></th>\n",
       "      <th></th>\n",
       "      <th></th>\n",
       "      <th></th>\n",
       "      <th></th>\n",
       "      <th></th>\n",
       "      <th></th>\n",
       "      <th></th>\n",
       "      <th></th>\n",
       "      <th></th>\n",
       "      <th></th>\n",
       "      <th></th>\n",
       "      <th></th>\n",
       "      <th></th>\n",
       "      <th></th>\n",
       "      <th></th>\n",
       "    </tr>\n",
       "  </thead>\n",
       "  <tbody>\n",
       "    <tr>\n",
       "      <th>19964</th>\n",
       "      <td>37</td>\n",
       "      <td>2</td>\n",
       "      <td>41.0</td>\n",
       "      <td>1</td>\n",
       "      <td>37</td>\n",
       "      <td>54.54</td>\n",
       "      <td>0</td>\n",
       "      <td>13</td>\n",
       "      <td>11</td>\n",
       "      <td>24</td>\n",
       "      <td>...</td>\n",
       "      <td>1</td>\n",
       "      <td>0</td>\n",
       "      <td>0</td>\n",
       "      <td>0</td>\n",
       "      <td>0</td>\n",
       "      <td>0</td>\n",
       "      <td>0</td>\n",
       "      <td>0</td>\n",
       "      <td>0</td>\n",
       "      <td>1</td>\n",
       "    </tr>\n",
       "    <tr>\n",
       "      <th>22379</th>\n",
       "      <td>72</td>\n",
       "      <td>1</td>\n",
       "      <td>28.0</td>\n",
       "      <td>1</td>\n",
       "      <td>72</td>\n",
       "      <td>54.54</td>\n",
       "      <td>0</td>\n",
       "      <td>3</td>\n",
       "      <td>21</td>\n",
       "      <td>24</td>\n",
       "      <td>...</td>\n",
       "      <td>0</td>\n",
       "      <td>0</td>\n",
       "      <td>0</td>\n",
       "      <td>1</td>\n",
       "      <td>0</td>\n",
       "      <td>0</td>\n",
       "      <td>0</td>\n",
       "      <td>0</td>\n",
       "      <td>0</td>\n",
       "      <td>0</td>\n",
       "    </tr>\n",
       "    <tr>\n",
       "      <th>7788</th>\n",
       "      <td>83</td>\n",
       "      <td>1</td>\n",
       "      <td>55.0</td>\n",
       "      <td>1</td>\n",
       "      <td>83</td>\n",
       "      <td>17.27</td>\n",
       "      <td>0</td>\n",
       "      <td>3</td>\n",
       "      <td>0</td>\n",
       "      <td>12</td>\n",
       "      <td>...</td>\n",
       "      <td>0</td>\n",
       "      <td>0</td>\n",
       "      <td>0</td>\n",
       "      <td>0</td>\n",
       "      <td>0</td>\n",
       "      <td>0</td>\n",
       "      <td>0</td>\n",
       "      <td>0</td>\n",
       "      <td>1</td>\n",
       "      <td>0</td>\n",
       "    </tr>\n",
       "    <tr>\n",
       "      <th>44352</th>\n",
       "      <td>94</td>\n",
       "      <td>1</td>\n",
       "      <td>34.0</td>\n",
       "      <td>1</td>\n",
       "      <td>178</td>\n",
       "      <td>72.72</td>\n",
       "      <td>0</td>\n",
       "      <td>9</td>\n",
       "      <td>15</td>\n",
       "      <td>24</td>\n",
       "      <td>...</td>\n",
       "      <td>1</td>\n",
       "      <td>0</td>\n",
       "      <td>0</td>\n",
       "      <td>0</td>\n",
       "      <td>0</td>\n",
       "      <td>0</td>\n",
       "      <td>0</td>\n",
       "      <td>0</td>\n",
       "      <td>1</td>\n",
       "      <td>0</td>\n",
       "    </tr>\n",
       "    <tr>\n",
       "      <th>17535</th>\n",
       "      <td>83</td>\n",
       "      <td>1</td>\n",
       "      <td>45.0</td>\n",
       "      <td>1</td>\n",
       "      <td>83</td>\n",
       "      <td>54.54</td>\n",
       "      <td>0</td>\n",
       "      <td>25</td>\n",
       "      <td>0</td>\n",
       "      <td>24</td>\n",
       "      <td>...</td>\n",
       "      <td>0</td>\n",
       "      <td>0</td>\n",
       "      <td>0</td>\n",
       "      <td>0</td>\n",
       "      <td>0</td>\n",
       "      <td>0</td>\n",
       "      <td>0</td>\n",
       "      <td>0</td>\n",
       "      <td>0</td>\n",
       "      <td>1</td>\n",
       "    </tr>\n",
       "  </tbody>\n",
       "</table>\n",
       "<p>5 rows × 31 columns</p>\n",
       "</div>"
      ],
      "text/plain": [
       "       account_tenure  acct_cnt_services   age cfu  service_tenure  \\\n",
       "INDEX                                                                \n",
       "19964              37                  2  41.0   1              37   \n",
       "22379              72                  1  28.0   1              72   \n",
       "7788               83                  1  55.0   1              83   \n",
       "44352              94                  1  34.0   1             178   \n",
       "17535              83                  1  45.0   1              83   \n",
       "\n",
       "       plan_access_fee byo_plan_status  plan_tenure  \\\n",
       "INDEX                                                 \n",
       "19964            54.54               0           13   \n",
       "22379            54.54               0            3   \n",
       "7788             17.27               0            3   \n",
       "44352            72.72               0            9   \n",
       "17535            54.54               0           25   \n",
       "\n",
       "       months_of_contract_remaining  last_fx_contract_duration  ...  SAMSUNG  \\\n",
       "INDEX                                                           ...            \n",
       "19964                            11                         24  ...        1   \n",
       "22379                            21                         24  ...        0   \n",
       "7788                              0                         12  ...        0   \n",
       "44352                            15                         24  ...        1   \n",
       "17535                             0                         24  ...        0   \n",
       "\n",
       "       UNKNOWN  ACT NSW  NT  QLD  SA  TAS  VIC  WA  \n",
       "INDEX                                               \n",
       "19964        0    0   0   0    0   0    0    0   1  \n",
       "22379        0    0   1   0    0   0    0    0   0  \n",
       "7788         0    0   0   0    0   0    0    1   0  \n",
       "44352        0    0   0   0    0   0    0    1   0  \n",
       "17535        0    0   0   0    0   0    0    0   1  \n",
       "\n",
       "[5 rows x 31 columns]"
      ]
     },
     "execution_count": 49,
     "metadata": {},
     "output_type": "execute_result"
    }
   ],
   "source": [
    "train.head()"
   ]
  },
  {
   "cell_type": "code",
   "execution_count": 50,
   "metadata": {},
   "outputs": [],
   "source": [
    "X_train = train.drop(['churn_ind'], axis=1)\n",
    "y_train = train['churn_ind']\n",
    "\n",
    "X_test = test.drop(['churn_ind'], axis=1)\n",
    "y_test = test['churn_ind']"
   ]
  },
  {
   "cell_type": "code",
   "execution_count": 51,
   "metadata": {},
   "outputs": [
    {
     "data": {
      "text/plain": [
       "(36901, 30)"
      ]
     },
     "execution_count": 51,
     "metadata": {},
     "output_type": "execute_result"
    }
   ],
   "source": [
    "X_train.shape"
   ]
  },
  {
   "cell_type": "code",
   "execution_count": 52,
   "metadata": {},
   "outputs": [
    {
     "data": {
      "text/plain": [
       "(36901,)"
      ]
     },
     "execution_count": 52,
     "metadata": {},
     "output_type": "execute_result"
    }
   ],
   "source": [
    "y_train.shape"
   ]
  },
  {
   "cell_type": "code",
   "execution_count": 53,
   "metadata": {},
   "outputs": [],
   "source": [
    "from sklearn.metrics import confusion_matrix, accuracy_score\n",
    "from sklearn.feature_selection import RFE\n",
    "from sklearn.linear_model import LogisticRegression"
   ]
  },
  {
   "cell_type": "code",
   "execution_count": 54,
   "metadata": {},
   "outputs": [
    {
     "data": {
      "text/plain": [
       "LogisticRegression(max_iter=1000)"
      ]
     },
     "execution_count": 54,
     "metadata": {},
     "output_type": "execute_result"
    }
   ],
   "source": [
    "model = LogisticRegression(max_iter=1000) # default iterations is 100. The iterator will stop earlier to avoid overfitting. \n",
    "#    Maximum number of iterations taken for the solvers to converge.\n",
    "\n",
    "model.fit(X_train, y_train) "
   ]
  },
  {
   "cell_type": "markdown",
   "metadata": {},
   "source": [
    "Checking how many iterations are required for convergence, then go back to the model and change the number of iterations parameter to rid of the warnings. "
   ]
  },
  {
   "cell_type": "code",
   "execution_count": 55,
   "metadata": {},
   "outputs": [
    {
     "data": {
      "text/plain": [
       "array([970])"
      ]
     },
     "execution_count": 55,
     "metadata": {},
     "output_type": "execute_result"
    }
   ],
   "source": [
    "model.fit(X_train, y_train).n_iter_"
   ]
  },
  {
   "cell_type": "code",
   "execution_count": 56,
   "metadata": {},
   "outputs": [],
   "source": [
    "# Do predictions on test set\n",
    "y_hat_train = model.predict(X_train)\n",
    "y_hat_test = model.predict(X_test)"
   ]
  },
  {
   "cell_type": "code",
   "execution_count": 57,
   "metadata": {},
   "outputs": [
    {
     "name": "stdout",
     "output_type": "stream",
     "text": [
      "0.73\n",
      "0.72\n"
     ]
    }
   ],
   "source": [
    "# Evaluate the performance of your trained model\n",
    "print(round(accuracy_score(y_train, y_hat_train),2))\n",
    "print(round(accuracy_score(y_test, y_hat_test),2))\n"
   ]
  },
  {
   "cell_type": "markdown",
   "metadata": {},
   "source": [
    "Using LogReg as an estimator for RFE requires additional iterations compared to using LogReg alone. "
   ]
  },
  {
   "cell_type": "code",
   "execution_count": 58,
   "metadata": {},
   "outputs": [
    {
     "data": {
      "text/plain": [
       "RFE(estimator=LogisticRegression(max_iter=1000), n_features_to_select=27)"
      ]
     },
     "execution_count": 58,
     "metadata": {},
     "output_type": "execute_result"
    }
   ],
   "source": [
    "lr_model = LogisticRegression(max_iter=1000)\n",
    "rfe = RFE(estimator= lr_model, n_features_to_select = 27, step = 1)\n",
    "rfe.fit(X_train, y_train)"
   ]
  },
  {
   "cell_type": "code",
   "execution_count": 60,
   "metadata": {},
   "outputs": [
    {
     "data": {
      "text/plain": [
       "0.7160199436375461"
      ]
     },
     "execution_count": 60,
     "metadata": {},
     "output_type": "execute_result"
    }
   ],
   "source": [
    "y_test_hat = rfe.predict(X_test)\n",
    "accuracy_score(y_test, y_test_hat)"
   ]
  },
  {
   "cell_type": "code",
   "execution_count": 61,
   "metadata": {},
   "outputs": [
    {
     "name": "stdout",
     "output_type": "stream",
     "text": [
      "the model will go through 30 features and choose which are best used\n"
     ]
    }
   ],
   "source": [
    "print(f'the model will go through {X_train.columns.nunique()} features and choose which are best used')"
   ]
  },
  {
   "cell_type": "code",
   "execution_count": 62,
   "metadata": {},
   "outputs": [
    {
     "name": "stdout",
     "output_type": "stream",
     "text": [
      "column: 0, selected True, rank: 1.000\n",
      "column: 1, selected True, rank: 1.000\n",
      "column: 2, selected True, rank: 1.000\n",
      "column: 3, selected True, rank: 1.000\n",
      "column: 4, selected False, rank: 4.000\n",
      "column: 5, selected False, rank: 3.000\n",
      "column: 6, selected True, rank: 1.000\n",
      "column: 7, selected False, rank: 2.000\n",
      "column: 8, selected True, rank: 1.000\n",
      "column: 9, selected True, rank: 1.000\n",
      "column: 10, selected True, rank: 1.000\n",
      "column: 11, selected True, rank: 1.000\n",
      "column: 12, selected True, rank: 1.000\n",
      "column: 13, selected True, rank: 1.000\n",
      "column: 14, selected True, rank: 1.000\n",
      "column: 15, selected True, rank: 1.000\n",
      "column: 16, selected True, rank: 1.000\n",
      "column: 17, selected True, rank: 1.000\n",
      "column: 18, selected True, rank: 1.000\n",
      "column: 19, selected True, rank: 1.000\n",
      "column: 20, selected True, rank: 1.000\n",
      "column: 21, selected True, rank: 1.000\n",
      "column: 22, selected True, rank: 1.000\n",
      "column: 23, selected True, rank: 1.000\n",
      "column: 24, selected True, rank: 1.000\n",
      "column: 25, selected True, rank: 1.000\n",
      "column: 26, selected True, rank: 1.000\n",
      "column: 27, selected True, rank: 1.000\n",
      "column: 28, selected True, rank: 1.000\n",
      "column: 29, selected True, rank: 1.000\n"
     ]
    }
   ],
   "source": [
    "# True = the column was used\n",
    "# rank = 1 means the column was already selected, next number after is the next to be \n",
    "# selected (if desired) \n",
    "\n",
    "for i in range(X_train.shape[1]):\n",
    "    print('column: %d, selected %s, rank: %.3f' % (i, rfe.support_[i], rfe.ranking_[i]))"
   ]
  },
  {
   "cell_type": "markdown",
   "metadata": {},
   "source": [
    "That is, the most successful features are:"
   ]
  },
  {
   "cell_type": "code",
   "execution_count": 63,
   "metadata": {},
   "outputs": [
    {
     "data": {
      "text/plain": [
       "['account_tenure',\n",
       " 'acct_cnt_services',\n",
       " 'age',\n",
       " 'cfu',\n",
       " 'byo_plan_status',\n",
       " 'months_of_contract_remaining',\n",
       " 'last_fx_contract_duration',\n",
       " 'prev_contract_duration',\n",
       " 'monthly_spend',\n",
       " 'country_metro_region',\n",
       " 'NO-CONTRACT',\n",
       " 'OFF-CONTRACT',\n",
       " 'ON-CONTRACT',\n",
       " 'APPLE',\n",
       " 'GOOGLE',\n",
       " 'HUAWEI',\n",
       " 'OTHER',\n",
       " 'SAMSUNG',\n",
       " 'UNKNOWN',\n",
       " 'ACT',\n",
       " 'NSW',\n",
       " 'NT',\n",
       " 'QLD',\n",
       " 'SA',\n",
       " 'TAS',\n",
       " 'VIC',\n",
       " 'WA']"
      ]
     },
     "execution_count": 63,
     "metadata": {},
     "output_type": "execute_result"
    }
   ],
   "source": [
    "list(X_train.columns[rfe.support_ ==True])"
   ]
  },
  {
   "cell_type": "code",
   "execution_count": 71,
   "metadata": {},
   "outputs": [
    {
     "data": {
      "text/plain": [
       "27"
      ]
     },
     "execution_count": 71,
     "metadata": {},
     "output_type": "execute_result"
    }
   ],
   "source": [
    "len(list(X_train.columns[rfe.support_ ==True]))"
   ]
  },
  {
   "cell_type": "code",
   "execution_count": null,
   "metadata": {},
   "outputs": [],
   "source": [
    "list(X_train.columns[rfe.support_ ==False])"
   ]
  },
  {
   "cell_type": "code",
   "execution_count": 64,
   "metadata": {},
   "outputs": [
    {
     "data": {
      "text/plain": [
       "(36901, 30)"
      ]
     },
     "execution_count": 64,
     "metadata": {},
     "output_type": "execute_result"
    }
   ],
   "source": [
    "X_train.shape"
   ]
  },
  {
   "cell_type": "code",
   "execution_count": 65,
   "metadata": {},
   "outputs": [
    {
     "data": {
      "text/plain": [
       "(36901,)"
      ]
     },
     "execution_count": 65,
     "metadata": {},
     "output_type": "execute_result"
    }
   ],
   "source": [
    "y_train.shape"
   ]
  },
  {
   "cell_type": "markdown",
   "metadata": {},
   "source": [
    "After checking the ranks of the features, we're left with 27/30 features to use. We can check how accurate each of those features are to further determine the best features. "
   ]
  },
  {
   "cell_type": "code",
   "execution_count": 66,
   "metadata": {
    "scrolled": false
   },
   "outputs": [
    {
     "name": "stdout",
     "output_type": "stream",
     "text": [
      "1\n",
      "Accuracy on test set using 1 features:  0.6375460654671581\n",
      "2\n",
      "Accuracy on test set using 2 features:  0.6375460654671581\n",
      "3\n",
      "Accuracy on test set using 3 features:  0.6608497723823976\n",
      "4\n",
      "Accuracy on test set using 4 features:  0.6608497723823976\n",
      "5\n",
      "Accuracy on test set using 5 features:  0.654238022978539\n",
      "6\n",
      "Accuracy on test set using 6 features:  0.6558638629958812\n",
      "7\n",
      "Accuracy on test set using 7 features:  0.6558638629958812\n",
      "8\n",
      "Accuracy on test set using 8 features:  0.6558638629958812\n",
      "9\n",
      "Accuracy on test set using 9 features:  0.6558638629958812\n",
      "10\n",
      "Accuracy on test set using 10 features:  0.6560806416648601\n",
      "11\n",
      "Accuracy on test set using 11 features:  0.6557554736613918\n",
      "12\n",
      "Accuracy on test set using 12 features:  0.6569477563407761\n",
      "13\n",
      "Accuracy on test set using 13 features:  0.657381313678734\n",
      "14\n",
      "Accuracy on test set using 14 features:  0.6572729243442446\n",
      "15\n",
      "Accuracy on test set using 15 features:  0.6568393670062865\n",
      "16\n",
      "Accuracy on test set using 16 features:  0.6569477563407761\n",
      "17\n",
      "Accuracy on test set using 17 features:  0.6583568176891393\n",
      "18\n",
      "Accuracy on test set using 18 features:  0.6601994363754606\n",
      "19\n",
      "Accuracy on test set using 19 features:  0.6642098417515716\n",
      "20\n",
      "Accuracy on test set using 20 features:  0.6643182310860611\n",
      "21\n",
      "Accuracy on test set using 21 features:  0.6639930630825926\n",
      "22\n",
      "Accuracy on test set using 22 features:  0.676999783221331\n",
      "23\n",
      "Accuracy on test set using 23 features:  0.67721656189031\n",
      "24\n",
      "Accuracy on test set using 24 features:  0.6753739432039887\n",
      "25\n",
      "Accuracy on test set using 25 features:  0.6755907218729676\n",
      "26\n",
      "Accuracy on test set using 26 features:  0.7163451116410146\n",
      "27\n",
      "Accuracy on test set using 27 features:  0.7160199436375461\n"
     ]
    }
   ],
   "source": [
    "# to increment number of features, one at each time\n",
    "acc_scores = []\n",
    "for i in range(1,len(churn_oheClean.select_dtypes('number').columns)):\n",
    "    clf = LogisticRegression(max_iter=1000)\n",
    "    rfe = RFE(estimator=clf, n_features_to_select=i)\n",
    "    # training model\n",
    "    print(i)\n",
    "    rfe.fit(X_train, y_train)\n",
    "    # predicting on test set\n",
    "    y_pred = rfe.predict(X_test)\n",
    "    acc_score = accuracy_score(y_test, y_pred)\n",
    "    # print this\n",
    "    print(\"Accuracy on test set using\", i, \"features: \", acc_score)\n",
    "    # append to the list\n",
    "    acc_scores.append(acc_score)\n"
   ]
  },
  {
   "cell_type": "markdown",
   "metadata": {},
   "source": [
    "We have 26 out of the 27 features that show improvements in accuracy. This corresponds to 26 out of 30 total features. "
   ]
  },
  {
   "cell_type": "code",
   "execution_count": 68,
   "metadata": {},
   "outputs": [],
   "source": [
    "# Estimating accuracy score on test set using RFE by using different number of features\n",
    "estimator = LogisticRegression(max_iter=1000)\n",
    "acc_scores = []\n",
    "for i in range(1,len(churn_oheClean.columns)):\n",
    "    selector = RFE(estimator, n_features_to_select= i)\n",
    "    selector = selector.fit(X_train, y_train)\n",
    "    \n",
    "    supp = selector.get_support() #  this variable is not called anywhere\n",
    "\n",
    "    predicted = selector.predict(X_test)\n",
    "    acc_score = accuracy_score(y_test, predicted)\n",
    "    acc_scores.append(acc_score)"
   ]
  },
  {
   "cell_type": "code",
   "execution_count": 69,
   "metadata": {},
   "outputs": [
    {
     "name": "stdout",
     "output_type": "stream",
     "text": [
      "0\n",
      "29\n"
     ]
    }
   ],
   "source": [
    "# I believe this code is trying to get the best number of features. Looping through the acc_scores we found previous\n",
    "# which determine the accuracy of the different number of features. Instead of manually looking through acc_scores\n",
    "#use this loop to find the best score\n",
    "\n",
    "best = 1\n",
    "for item in acc_scores:\n",
    "#     print(item)\n",
    "    if item >= acc_scores[best-1]:\n",
    "#         print(acc_scores)\n",
    "        best = acc_scores.index(item)\n",
    "#         print(acc_scores.index(item))\n",
    "        print(best)"
   ]
  },
  {
   "cell_type": "markdown",
   "metadata": {},
   "source": [
    "original for above code $\\uparrow\\big\\uparrow\\bigg\\uparrow$"
   ]
  },
  {
   "cell_type": "markdown",
   "metadata": {},
   "source": [
    "Plotting all 30 features"
   ]
  },
  {
   "cell_type": "raw",
   "metadata": {},
   "source": [
    "\n",
    "best = 1\n",
    "for item in acc_scores:\n",
    "    print(item)\n",
    "    if item < acc_scores[best - 1]:\n",
    "        print(acc_scores)\n",
    "        best = acc_scores.index(item) + 1\n",
    "        "
   ]
  },
  {
   "cell_type": "code",
   "execution_count": 1,
   "metadata": {
    "scrolled": false
   },
   "outputs": [
    {
     "ename": "NameError",
     "evalue": "name 'plt' is not defined",
     "output_type": "error",
     "traceback": [
      "\u001b[1;31m---------------------------------------------------------------------------\u001b[0m",
      "\u001b[1;31mNameError\u001b[0m                                 Traceback (most recent call last)",
      "\u001b[1;32m<ipython-input-1-cbd88ae96e11>\u001b[0m in \u001b[0;36m<module>\u001b[1;34m\u001b[0m\n\u001b[1;32m----> 1\u001b[1;33m \u001b[0mplt\u001b[0m\u001b[1;33m.\u001b[0m\u001b[0mgrid\u001b[0m\u001b[1;33m(\u001b[0m\u001b[1;33m)\u001b[0m\u001b[1;33m\u001b[0m\u001b[1;33m\u001b[0m\u001b[0m\n\u001b[0m\u001b[0;32m      2\u001b[0m \u001b[0mplt\u001b[0m\u001b[1;33m.\u001b[0m\u001b[0mxlabel\u001b[0m\u001b[1;33m(\u001b[0m\u001b[1;34m'# No. of features'\u001b[0m\u001b[1;33m)\u001b[0m\u001b[1;33m\u001b[0m\u001b[1;33m\u001b[0m\u001b[0m\n\u001b[0;32m      3\u001b[0m \u001b[0mplt\u001b[0m\u001b[1;33m.\u001b[0m\u001b[0mylabel\u001b[0m\u001b[1;33m(\u001b[0m\u001b[1;34m'Accuracy score on test set'\u001b[0m\u001b[1;33m)\u001b[0m\u001b[1;33m\u001b[0m\u001b[1;33m\u001b[0m\u001b[0m\n\u001b[0;32m      4\u001b[0m plt.plot(range(1,len(churn_oheClean.columns)), acc_scores, marker = 'o', color = 'lightblue', markeredgewidth = 1 ,\n\u001b[0;32m      5\u001b[0m          markeredgecolor = 'darkblue', markerfacecolor = 'None')\n",
      "\u001b[1;31mNameError\u001b[0m: name 'plt' is not defined"
     ]
    }
   ],
   "source": [
    "plt.grid()   \n",
    "plt.xlabel('# No. of features')\n",
    "plt.ylabel('Accuracy score on test set')\n",
    "plt.plot(range(1,len(churn_oheClean.columns)), acc_scores, marker = 'o', color = 'lightblue', markeredgewidth = 1 ,\n",
    "         markeredgecolor = 'darkblue', markerfacecolor = 'None')\n",
    "plt.plot(best, acc_scores[best-1], marker = 'o')\n",
    "# plt.title('')"
   ]
  },
  {
   "cell_type": "markdown",
   "metadata": {},
   "source": [
    "According to RFE, we should use up to the marked point in the above plot. This corresponds to 29/30 features (columns). "
   ]
  },
  {
   "cell_type": "markdown",
   "metadata": {
    "heading_collapsed": true
   },
   "source": [
    "#### `churn_oheClean`, numeric only, cycling through all the features to determine the best grouping of features. May have to do this without RFE. How can this be done? CHECK WITH CONSULTATION"
   ]
  },
  {
   "cell_type": "code",
   "execution_count": 86,
   "metadata": {
    "hidden": true
   },
   "outputs": [],
   "source": [
    "train, test = train_test_split(churn_oheClean.select_dtypes('number'), test_size=0.2, random_state=142)"
   ]
  },
  {
   "cell_type": "code",
   "execution_count": 87,
   "metadata": {
    "hidden": true
   },
   "outputs": [],
   "source": [
    "X_train = train.drop(['churn_ind'], axis=1)\n",
    "y_train = train['churn_ind']\n",
    "\n",
    "X_test = test.drop(['churn_ind'], axis=1)\n",
    "y_test = test['churn_ind']"
   ]
  },
  {
   "cell_type": "code",
   "execution_count": 88,
   "metadata": {
    "hidden": true
   },
   "outputs": [
    {
     "data": {
      "text/plain": [
       "LogisticRegression(max_iter=600)"
      ]
     },
     "execution_count": 88,
     "metadata": {},
     "output_type": "execute_result"
    }
   ],
   "source": [
    "model = LogisticRegression(max_iter=600) # default iterations is 100. The iterator will stop earlier to avoid overfitting. \n",
    "#    Maximum number of iterations taken for the solvers to converge.\n",
    "\n",
    "model.fit(X_train, y_train) "
   ]
  },
  {
   "cell_type": "code",
   "execution_count": 89,
   "metadata": {
    "hidden": true
   },
   "outputs": [],
   "source": [
    "# Do predictions on test set\n",
    "y_hat_train = model.predict(X_train)\n",
    "y_hat_test = model.predict(X_test)"
   ]
  },
  {
   "cell_type": "code",
   "execution_count": 90,
   "metadata": {
    "hidden": true
   },
   "outputs": [
    {
     "name": "stdout",
     "output_type": "stream",
     "text": [
      "1.0\n",
      "1.0\n"
     ]
    }
   ],
   "source": [
    "# Evaluate the performance of your trained model\n",
    "print(round(accuracy_score(y_train, y_hat_train),2))\n",
    "print(round(accuracy_score(y_test, y_hat_test),2))\n"
   ]
  },
  {
   "cell_type": "markdown",
   "metadata": {
    "hidden": true
   },
   "source": [
    "Using LogReg as an estimator for RFE requires additional iterations compared to using LogReg alone. "
   ]
  },
  {
   "cell_type": "code",
   "execution_count": 91,
   "metadata": {
    "hidden": true
   },
   "outputs": [
    {
     "data": {
      "text/plain": [
       "RFE(estimator=LogisticRegression(max_iter=700), n_features_to_select=27)"
      ]
     },
     "execution_count": 91,
     "metadata": {},
     "output_type": "execute_result"
    }
   ],
   "source": [
    "lr_model = LogisticRegression(max_iter=700)\n",
    "rfe = RFE(estimator= lr_model, n_features_to_select = 27, step = 1)\n",
    "rfe.fit(X_train, y_train)"
   ]
  },
  {
   "cell_type": "code",
   "execution_count": 92,
   "metadata": {
    "hidden": true
   },
   "outputs": [
    {
     "data": {
      "text/plain": [
       "RFE(estimator=LogisticRegression(max_iter=700), n_features_to_select=27)"
      ]
     },
     "execution_count": 92,
     "metadata": {},
     "output_type": "execute_result"
    }
   ],
   "source": [
    "rfe.fit(X_train, y_train)"
   ]
  },
  {
   "cell_type": "code",
   "execution_count": 93,
   "metadata": {
    "hidden": true
   },
   "outputs": [
    {
     "data": {
      "text/plain": [
       "1.0"
      ]
     },
     "execution_count": 93,
     "metadata": {},
     "output_type": "execute_result"
    }
   ],
   "source": [
    "y_test_hat = rfe.predict(X_test)\n",
    "accuracy_score(y_test, y_test_hat)"
   ]
  },
  {
   "cell_type": "code",
   "execution_count": 94,
   "metadata": {
    "hidden": true
   },
   "outputs": [
    {
     "name": "stdout",
     "output_type": "stream",
     "text": [
      "the model will go through 27 features and choose which are best used\n"
     ]
    }
   ],
   "source": [
    "print(f'the model will go through {X_train.columns.nunique()} features and choose which are best used')"
   ]
  },
  {
   "cell_type": "code",
   "execution_count": 95,
   "metadata": {
    "hidden": true
   },
   "outputs": [
    {
     "name": "stdout",
     "output_type": "stream",
     "text": [
      "column: 0, selected True, rank: 1.000\n",
      "column: 1, selected True, rank: 1.000\n",
      "column: 2, selected True, rank: 1.000\n",
      "column: 3, selected True, rank: 1.000\n",
      "column: 4, selected True, rank: 1.000\n",
      "column: 5, selected True, rank: 1.000\n",
      "column: 6, selected True, rank: 1.000\n",
      "column: 7, selected True, rank: 1.000\n",
      "column: 8, selected True, rank: 1.000\n",
      "column: 9, selected True, rank: 1.000\n",
      "column: 10, selected True, rank: 1.000\n",
      "column: 11, selected True, rank: 1.000\n",
      "column: 12, selected True, rank: 1.000\n",
      "column: 13, selected True, rank: 1.000\n",
      "column: 14, selected True, rank: 1.000\n",
      "column: 15, selected True, rank: 1.000\n",
      "column: 16, selected True, rank: 1.000\n",
      "column: 17, selected True, rank: 1.000\n",
      "column: 18, selected True, rank: 1.000\n",
      "column: 19, selected True, rank: 1.000\n",
      "column: 20, selected True, rank: 1.000\n",
      "column: 21, selected True, rank: 1.000\n",
      "column: 22, selected True, rank: 1.000\n",
      "column: 23, selected True, rank: 1.000\n",
      "column: 24, selected True, rank: 1.000\n",
      "column: 25, selected True, rank: 1.000\n",
      "column: 26, selected True, rank: 1.000\n"
     ]
    }
   ],
   "source": [
    "# True = the column was used\n",
    "# rank = 1 means the column was already selected, next number after is the next to be \n",
    "# selected (if desired) \n",
    "\n",
    "for i in range(X_train.shape[1]):\n",
    "    print('column: %d, selected %s, rank: %.3f' % (i, rfe.support_[i], rfe.ranking_[i]))"
   ]
  },
  {
   "cell_type": "markdown",
   "metadata": {
    "hidden": true
   },
   "source": [
    "That is, the most successful features are:"
   ]
  },
  {
   "cell_type": "code",
   "execution_count": 96,
   "metadata": {
    "hidden": true
   },
   "outputs": [
    {
     "data": {
      "text/plain": [
       "['account_tenure',\n",
       " 'acct_cnt_services',\n",
       " 'age',\n",
       " 'service_tenure',\n",
       " 'plan_access_fee',\n",
       " 'plan_tenure',\n",
       " 'months_of_contract_remaining',\n",
       " 'last_fx_contract_duration',\n",
       " 'prev_contract_duration',\n",
       " 'monthly_spend',\n",
       " 'NO-CONTRACT',\n",
       " 'OFF-CONTRACT',\n",
       " 'ON-CONTRACT',\n",
       " 'APPLE',\n",
       " 'GOOGLE',\n",
       " 'HUAWEI',\n",
       " 'OTHER',\n",
       " 'SAMSUNG',\n",
       " 'UNKNOWN',\n",
       " 'ACT',\n",
       " 'NSW',\n",
       " 'NT',\n",
       " 'QLD',\n",
       " 'SA',\n",
       " 'TAS',\n",
       " 'VIC',\n",
       " 'WA']"
      ]
     },
     "execution_count": 96,
     "metadata": {},
     "output_type": "execute_result"
    }
   ],
   "source": [
    "list(X_train.columns[rfe.support_ ==True])"
   ]
  },
  {
   "cell_type": "code",
   "execution_count": 97,
   "metadata": {
    "hidden": true
   },
   "outputs": [
    {
     "data": {
      "text/plain": [
       "(36901, 27)"
      ]
     },
     "execution_count": 97,
     "metadata": {},
     "output_type": "execute_result"
    }
   ],
   "source": [
    "X_train.shape"
   ]
  },
  {
   "cell_type": "code",
   "execution_count": 98,
   "metadata": {
    "hidden": true
   },
   "outputs": [
    {
     "data": {
      "text/plain": [
       "(36901,)"
      ]
     },
     "execution_count": 98,
     "metadata": {},
     "output_type": "execute_result"
    }
   ],
   "source": [
    "y_train.shape"
   ]
  },
  {
   "cell_type": "code",
   "execution_count": 99,
   "metadata": {
    "hidden": true
   },
   "outputs": [
    {
     "name": "stdout",
     "output_type": "stream",
     "text": [
      "1\n",
      "Accuracy on test set using 1 features:  1.0\n",
      "2\n",
      "Accuracy on test set using 2 features:  1.0\n",
      "3\n",
      "Accuracy on test set using 3 features:  1.0\n",
      "4\n",
      "Accuracy on test set using 4 features:  1.0\n",
      "5\n",
      "Accuracy on test set using 5 features:  1.0\n",
      "6\n",
      "Accuracy on test set using 6 features:  1.0\n",
      "7\n",
      "Accuracy on test set using 7 features:  1.0\n",
      "8\n",
      "Accuracy on test set using 8 features:  1.0\n",
      "9\n",
      "Accuracy on test set using 9 features:  1.0\n",
      "10\n",
      "Accuracy on test set using 10 features:  1.0\n",
      "11\n",
      "Accuracy on test set using 11 features:  1.0\n",
      "12\n",
      "Accuracy on test set using 12 features:  1.0\n",
      "13\n",
      "Accuracy on test set using 13 features:  1.0\n",
      "14\n",
      "Accuracy on test set using 14 features:  1.0\n",
      "15\n",
      "Accuracy on test set using 15 features:  1.0\n",
      "16\n",
      "Accuracy on test set using 16 features:  1.0\n",
      "17\n",
      "Accuracy on test set using 17 features:  1.0\n",
      "18\n",
      "Accuracy on test set using 18 features:  1.0\n",
      "19\n",
      "Accuracy on test set using 19 features:  1.0\n",
      "20\n",
      "Accuracy on test set using 20 features:  1.0\n",
      "21\n",
      "Accuracy on test set using 21 features:  1.0\n",
      "22\n",
      "Accuracy on test set using 22 features:  1.0\n",
      "23\n",
      "Accuracy on test set using 23 features:  1.0\n",
      "24\n",
      "Accuracy on test set using 24 features:  1.0\n",
      "25\n",
      "Accuracy on test set using 25 features:  1.0\n",
      "26\n",
      "Accuracy on test set using 26 features:  1.0\n",
      "27\n",
      "Accuracy on test set using 27 features:  1.0\n"
     ]
    }
   ],
   "source": [
    "# to increment number of features, one at each time\n",
    "acc_scores = []\n",
    "for i in range(1,len(churn_oheClean.columns)):\n",
    "    clf = LogisticRegression(max_iter=700)\n",
    "    rfe = RFE(estimator=clf, n_features_to_select=i)\n",
    "    # training model\n",
    "    print(i)\n",
    "    rfe.fit(X_train, y_train)\n",
    "    # predicting on test set\n",
    "    y_pred = rfe.predict(X_test)\n",
    "    acc_score = accuracy_score(y_test, y_pred)\n",
    "    # print this\n",
    "    print(\"Accuracy on test set using\", i, \"features: \", acc_score)\n",
    "    # append to the list\n",
    "    acc_scores.append(acc_score)\n"
   ]
  },
  {
   "cell_type": "code",
   "execution_count": 100,
   "metadata": {
    "hidden": true
   },
   "outputs": [],
   "source": [
    "# Estimating accuracy score on test set using RFE by using different number of features\n",
    "estimator = LogisticRegression(max_iter=700)\n",
    "acc_scores = []\n",
    "for i in range(1,len(churn_oheClean.columns)):\n",
    "    selector = RFE(estimator, n_features_to_select= i)\n",
    "    selector = selector.fit(X_train, y_train)\n",
    "    \n",
    "    supp = selector.get_support() #  this variable is not called anywhere\n",
    "\n",
    "    predicted = selector.predict(X_test)\n",
    "    acc_score = accuracy_score(y_test, predicted)\n",
    "    acc_scores.append(acc_score)"
   ]
  },
  {
   "cell_type": "code",
   "execution_count": 101,
   "metadata": {
    "hidden": true
   },
   "outputs": [
    {
     "name": "stdout",
     "output_type": "stream",
     "text": [
      "0\n",
      "0\n",
      "0\n",
      "0\n",
      "0\n",
      "0\n",
      "0\n",
      "0\n",
      "0\n",
      "0\n",
      "0\n",
      "0\n",
      "0\n",
      "0\n",
      "0\n",
      "0\n",
      "0\n",
      "0\n",
      "0\n",
      "0\n",
      "0\n",
      "0\n",
      "0\n",
      "0\n",
      "0\n",
      "0\n",
      "0\n",
      "0\n",
      "0\n",
      "0\n"
     ]
    }
   ],
   "source": [
    "# I believe this code is trying to get the best number of features. Looping through the acc_scores we found previous\n",
    "# which determine the accuracy of the different number of features. Instead of manually looking through acc_scores\n",
    "#use this loop to find the best score\n",
    "\n",
    "best = 1\n",
    "for item in acc_scores:\n",
    "#     print(item)\n",
    "    if item >= acc_scores[best-1]:\n",
    "#         print(acc_scores)\n",
    "        best = acc_scores.index(item)\n",
    "#         print(acc_scores.index(item))\n",
    "        print(best)"
   ]
  },
  {
   "cell_type": "markdown",
   "metadata": {
    "hidden": true
   },
   "source": [
    "original for above code $\\uparrow\\big\\uparrow\\bigg\\uparrow$"
   ]
  },
  {
   "cell_type": "raw",
   "metadata": {
    "hidden": true
   },
   "source": [
    "\n",
    "best = 1\n",
    "for item in acc_scores:\n",
    "    print(item)\n",
    "    if item < acc_scores[best - 1]:\n",
    "        print(acc_scores)\n",
    "        best = acc_scores.index(item) + 1\n",
    "        "
   ]
  },
  {
   "cell_type": "code",
   "execution_count": 102,
   "metadata": {
    "hidden": true,
    "scrolled": false
   },
   "outputs": [
    {
     "data": {
      "text/plain": [
       "[<matplotlib.lines.Line2D at 0x2362e951400>]"
      ]
     },
     "execution_count": 102,
     "metadata": {},
     "output_type": "execute_result"
    },
    {
     "data": {
      "image/png": "[encoded data removed]",
      "text/plain": [
       "<Figure size 432x288 with 1 Axes>"
      ]
     },
     "metadata": {
      "needs_background": "light"
     },
     "output_type": "display_data"
    }
   ],
   "source": [
    "plt.grid()   \n",
    "plt.xlabel('# No. of features')\n",
    "plt.ylabel('Accuracy score on test set')\n",
    "plt.plot(range(1,len(churn_oheClean.columns)), acc_scores, marker = 'o', color = 'lightblue', markeredgewidth = 1 ,\n",
    "         markeredgecolor = 'darkblue', markerfacecolor = 'None')\n",
    "plt.plot(best, acc_scores[best-1], marker = 'o')\n"
   ]
  },
  {
   "cell_type": "code",
   "execution_count": null,
   "metadata": {
    "hidden": true
   },
   "outputs": [],
   "source": []
  },
  {
   "cell_type": "markdown",
   "metadata": {},
   "source": [
    "### Naive Bayes\n",
    "\n",
    "NB is deterministic in its fitting, NOT PROBABALISTIC. Random forest is probablistic. \n",
    "\n",
    "according to the documentation, NB assumes the likelihood of features are normally distributed / are gaussian. Plot the features prior to check if they are indeed gaussian. normally distributed but skewed in practice. \n",
    "\n",
    "outliers when not normally distributed. (one large bell curve then a smaller one).\n",
    "\n",
    "https://scikit-learn.org/stable/modules/naive_bayes.html\n",
    "\n"
   ]
  },
  {
   "cell_type": "code",
   "execution_count": null,
   "metadata": {},
   "outputs": [],
   "source": [
    "from sklearn.naive_bayes import GaussianNB"
   ]
  },
  {
   "cell_type": "raw",
   "metadata": {},
   "source": [
    ">>> X_train, X_test, y_train, y_test = train_test_split(X, y, test_size=0.5, random_state=0)\n",
    ">>> gnb = GaussianNB()\n",
    ">>> y_pred = gnb.fit(X_train, y_train).predict(X_test)\n",
    ">>> print(\"Number of mislabeled points out of a total %d points : %d\"\n",
    "...       % (X_test.shape[0], (y_test != y_pred).sum()))\n",
    "Number of mislabeled points out of a total 75 points : 4"
   ]
  },
  {
   "cell_type": "markdown",
   "metadata": {},
   "source": [
    "#### Notes"
   ]
  },
  {
   "cell_type": "markdown",
   "metadata": {},
   "source": [
    "https://www.analyticsvidhya.com/blog/2017/09/naive-bayes-explained/\n",
    "\n",
    "Example:\n",
    "\n",
    "    a fruit may be considered to be an apple if it is red, round, and about 3 inches in diameter. Even if these features depend on each other or upon the existence of the other features, all of these properties independently contribute to the probability that this fruit is an apple and that is why it is known as ‘Naive’.\n",
    "    \n",
    "In relation to our data, there are no 'real' features that behave like this to provide insight whether a customer churns. \n",
    "\n",
    "**Bayes Classification**\n",
    "$$P(C|\\vec{X})\\propto P(\\vec{X}|C)P(C) =P(X_1, X_2, ... ,X_n|C)P(C)$$\n",
    "Where the posterior probability is \n",
    "$$P(C|\\vec{X})$$\n",
    "being X input, C output. The conditional probability is\n",
    "$$P(\\vec{X}|C)$$\n",
    "being C input, X output. The target is \n",
    "$$P(C)$$\n",
    "\n",
    "--- \n",
    "\n",
    "the target is the prediction. The probability of the classification. \n",
    "$\\vec{X}$ are the features of the data that will be fed to the model. The conditional probability, $P(\\vec{X}|C)$, is the probability we will get a classification, $C$, with given features, $\\vec{X}$. Therefore, the posterior probability is the probability we will get certain features with given classification. \n",
    "\n",
    "For example: A rainy day. If outside is cloudy, windy and cold, it will most likely rain outside. The features are $[$cloudy, windy, cold$]$ and the classfication/prediction/outcome is $[$raining, not raining$]$. This is posterior probability. \n",
    "\n",
    "$$P(C|\\vec{X})$$\n",
    "\n",
    "If we know it's raining, what is the probability that it is cloudy, windy and cold? This is conditional probability. \n",
    "$$P(\\vec{X}|C)$$\n",
    "\n",
    "\n"
   ]
  },
  {
   "cell_type": "markdown",
   "metadata": {},
   "source": [
    "### Random Forest\n",
    "Probablistic fitting, maybe w11 or w12 content "
   ]
  }
 ],
 "metadata": {
  "kernelspec": {
   "display_name": "Python 3",
   "language": "python",
   "name": "python3"
  },
  "language_info": {
   "codemirror_mode": {
    "name": "ipython",
    "version": 3
   },
   "file_extension": ".py",
   "mimetype": "text/x-python",
   "name": "python",
   "nbconvert_exporter": "python",
   "pygments_lexer": "ipython3",
   "version": "3.8.3"
  },
  "toc": {
   "base_numbering": 1,
   "nav_menu": {},
   "number_sections": true,
   "sideBar": true,
   "skip_h1_title": false,
   "title_cell": "Table of Contents",
   "title_sidebar": "Contents",
   "toc_cell": false,
   "toc_position": {},
   "toc_section_display": true,
   "toc_window_display": false
  },
  "varInspector": {
   "cols": {
    "lenName": 16,
    "lenType": 16,
    "lenVar": 40
   },
   "kernels_config": {
    "python": {
     "delete_cmd_postfix": "",
     "delete_cmd_prefix": "del ",
     "library": "var_list.py",
     "varRefreshCmd": "print(var_dic_list())"
    },
    "r": {
     "delete_cmd_postfix": ") ",
     "delete_cmd_prefix": "rm(",
     "library": "var_list.r",
     "varRefreshCmd": "cat(var_dic_list()) "
    }
   },
   "types_to_exclude": [
    "module",
    "function",
    "builtin_function_or_method",
    "instance",
    "_Feature"
   ],
   "window_display": false
  }
 },
 "nbformat": 4,
 "nbformat_minor": 4
}
