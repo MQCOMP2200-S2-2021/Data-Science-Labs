{
 "cells": [
  {
   "cell_type": "markdown",
   "metadata": {},
   "source": [
    "Christopher Rudolph - 45241805 - MQ University"
   ]
  },
  {
   "cell_type": "markdown",
   "metadata": {},
   "source": [
    "### Mobile Customer Churn"
   ]
  },
  {
   "cell_type": "markdown",
   "metadata": {},
   "source": [
    "In this Portfolio task you will work with some (fake but realistic) data on Mobile Customer Churn.  Churn is where\n",
    "a customer leaves the mobile provider.   The goal is to build a simple predictive model to predict churn from available features. \n",
    "\n",
    "The data was generated (by Hume Winzar at Macquarie) based on a real dataset provided by Optus.  The data is simulated but the column headings are the same. (Note that I'm not sure if all of the real relationships in this data are preserved so you need to be cautious in interpreting the results of your analysis here).  \n",
    "\n",
    "The data is provided in file `MobileCustomerChurn.csv` and column headings are defined in a file `MobileChurnDataDictionary.csv` (store these in the `files` folder in your project).\n",
    "\n",
    "Your high level goal in this notebook is to try to build and evaluate a __predictive model for churn__ - predict the value of the CHURN_IND field in the data from some of the other fields.  Note that the three `RECON` fields should not be used as they indicate whether the customer reconnected after having churned. \n",
    "\n",
    "__Note:__ you are not being evaluated on the _accuracy_ of the model but on the _process_ that you use to generate it.  You can use a simple model such as Logistic Regression for this task or try one of the more advanced methods covered in recent weeks.  Explore the data, build a model using a selection of features and then do some work on finding out which features provide the most accurate results.  "
   ]
  },
  {
   "attachments": {},
   "cell_type": "markdown",
   "metadata": {},
   "source": [
    "### Notes: \n",
    "- Churn is when a customer leaves a provider.\n",
    "- we're building a model to predict churn with given features. \n",
    "- be cautious when interpreting reuslts, preservation of data relationships is unknown. \n",
    "- `RECON` should not be used, this means a customer has reconnected after churn \n",
    "\n",
    "**Column definitions**\n",
    "\n",
    "*CUST_ID*: customer identifier\n",
    "\n",
    "*ACCOUNT_TENURE*: how long the account has been active.\n",
    "\n",
    "*ACCT_CNT_SERVICES*: Total number of services under an account\n",
    "\n",
    "*CFU*: type of customer\n",
    "\n",
    "*SERVICE_TENURE*: How many more months the service is active\n",
    "\n",
    "*PLAN_ACCESS_FEE*: account monthly fee\n",
    "\n",
    "*BYO_PLAN_STATUS*: Whether customer is on a 'bring your own' plan.\n",
    "\n",
    "*PLAN_TENURE*: Plan tenure in months, how many months remain.\n",
    "\n",
    "*MONTHS_OF_CONTRACT_REMAINING* : Contract tenure remaining based on months of contract completed \n",
    "\n",
    "*LAST_FX_CONTRACT_DURATION*: last known  fixed contract term\n",
    "\n",
    "*CONTRACT_STATUS*: no-contract, off-contract or on-contract.\n",
    "\n",
    "*PREV_CONTRACT_DURATION*: previous contract term. \n",
    "\n",
    "*HANDSET_USED_BRAND*: Brand of the mobile phone the customer is using.\n",
    "\n",
    "*CHURN_IND*\n",
    "\n",
    "*MONTHLY_SPEND*: Customer's monthly spending\n",
    "\n",
    "*COUNTRY_METRO_REGION* : region of customer, country or metro. \n",
    "\n",
    "*STATE*: Customer's registered State"
   ]
  },
  {
   "cell_type": "markdown",
   "metadata": {},
   "source": [
    "### Setting up the DF"
   ]
  },
  {
   "cell_type": "code",
   "execution_count": 1,
   "metadata": {},
   "outputs": [],
   "source": [
    "import pandas as pd\n",
    "import numpy as np\n",
    "import matplotlib.pyplot as plt\n",
    "import seaborn as sns\n",
    "%matplotlib inline"
   ]
  },
  {
   "cell_type": "code",
   "execution_count": 7,
   "metadata": {},
   "outputs": [
    {
     "data": {
      "text/html": [
       "<div>\n",
       "<style scoped>\n",
       "    .dataframe tbody tr th:only-of-type {\n",
       "        vertical-align: middle;\n",
       "    }\n",
       "\n",
       "    .dataframe tbody tr th {\n",
       "        vertical-align: top;\n",
       "    }\n",
       "\n",
       "    .dataframe thead th {\n",
       "        text-align: right;\n",
       "    }\n",
       "</style>\n",
       "<table border=\"1\" class=\"dataframe\">\n",
       "  <thead>\n",
       "    <tr style=\"text-align: right;\">\n",
       "      <th></th>\n",
       "      <th>CUST_ID</th>\n",
       "      <th>ACCOUNT_TENURE</th>\n",
       "      <th>ACCT_CNT_SERVICES</th>\n",
       "      <th>AGE</th>\n",
       "      <th>CFU</th>\n",
       "      <th>SERVICE_TENURE</th>\n",
       "      <th>PLAN_ACCESS_FEE</th>\n",
       "      <th>BYO_PLAN_STATUS</th>\n",
       "      <th>PLAN_TENURE</th>\n",
       "      <th>MONTHS_OF_CONTRACT_REMAINING</th>\n",
       "      <th>...</th>\n",
       "      <th>CONTRACT_STATUS</th>\n",
       "      <th>PREV_CONTRACT_DURATION</th>\n",
       "      <th>HANDSET_USED_BRAND</th>\n",
       "      <th>CHURN_IND</th>\n",
       "      <th>MONTHLY_SPEND</th>\n",
       "      <th>COUNTRY_METRO_REGION</th>\n",
       "      <th>STATE</th>\n",
       "      <th>RECON_SMS_NEXT_MTH</th>\n",
       "      <th>RECON_TELE_NEXT_MTH</th>\n",
       "      <th>RECON_EMAIL_NEXT_MTH</th>\n",
       "    </tr>\n",
       "    <tr>\n",
       "      <th>INDEX</th>\n",
       "      <th></th>\n",
       "      <th></th>\n",
       "      <th></th>\n",
       "      <th></th>\n",
       "      <th></th>\n",
       "      <th></th>\n",
       "      <th></th>\n",
       "      <th></th>\n",
       "      <th></th>\n",
       "      <th></th>\n",
       "      <th></th>\n",
       "      <th></th>\n",
       "      <th></th>\n",
       "      <th></th>\n",
       "      <th></th>\n",
       "      <th></th>\n",
       "      <th></th>\n",
       "      <th></th>\n",
       "      <th></th>\n",
       "      <th></th>\n",
       "      <th></th>\n",
       "    </tr>\n",
       "  </thead>\n",
       "  <tbody>\n",
       "    <tr>\n",
       "      <th>1</th>\n",
       "      <td>1</td>\n",
       "      <td>46</td>\n",
       "      <td>1</td>\n",
       "      <td>30.0</td>\n",
       "      <td>CONSUMER</td>\n",
       "      <td>46</td>\n",
       "      <td>54.54</td>\n",
       "      <td>NON BYO</td>\n",
       "      <td>15</td>\n",
       "      <td>0</td>\n",
       "      <td>...</td>\n",
       "      <td>OFF-CONTRACT</td>\n",
       "      <td>24</td>\n",
       "      <td>SAMSUNG</td>\n",
       "      <td>1</td>\n",
       "      <td>61.40</td>\n",
       "      <td>COUNTRY</td>\n",
       "      <td>WA</td>\n",
       "      <td>NaN</td>\n",
       "      <td>NaN</td>\n",
       "      <td>NaN</td>\n",
       "    </tr>\n",
       "    <tr>\n",
       "      <th>2</th>\n",
       "      <td>2</td>\n",
       "      <td>60</td>\n",
       "      <td>3</td>\n",
       "      <td>55.0</td>\n",
       "      <td>CONSUMER</td>\n",
       "      <td>59</td>\n",
       "      <td>54.54</td>\n",
       "      <td>NON BYO</td>\n",
       "      <td>5</td>\n",
       "      <td>0</td>\n",
       "      <td>...</td>\n",
       "      <td>OFF-CONTRACT</td>\n",
       "      <td>24</td>\n",
       "      <td>APPLE</td>\n",
       "      <td>1</td>\n",
       "      <td>54.54</td>\n",
       "      <td>METRO</td>\n",
       "      <td>NSW</td>\n",
       "      <td>NaN</td>\n",
       "      <td>NaN</td>\n",
       "      <td>NaN</td>\n",
       "    </tr>\n",
       "    <tr>\n",
       "      <th>3</th>\n",
       "      <td>5</td>\n",
       "      <td>65</td>\n",
       "      <td>1</td>\n",
       "      <td>29.0</td>\n",
       "      <td>CONSUMER</td>\n",
       "      <td>65</td>\n",
       "      <td>40.90</td>\n",
       "      <td>BYO</td>\n",
       "      <td>15</td>\n",
       "      <td>0</td>\n",
       "      <td>...</td>\n",
       "      <td>OFF-CONTRACT</td>\n",
       "      <td>12</td>\n",
       "      <td>APPLE</td>\n",
       "      <td>1</td>\n",
       "      <td>2.50</td>\n",
       "      <td>COUNTRY</td>\n",
       "      <td>WA</td>\n",
       "      <td>NaN</td>\n",
       "      <td>NaN</td>\n",
       "      <td>NaN</td>\n",
       "    </tr>\n",
       "    <tr>\n",
       "      <th>4</th>\n",
       "      <td>6</td>\n",
       "      <td>31</td>\n",
       "      <td>1</td>\n",
       "      <td>51.0</td>\n",
       "      <td>CONSUMER</td>\n",
       "      <td>31</td>\n",
       "      <td>31.81</td>\n",
       "      <td>NON BYO</td>\n",
       "      <td>31</td>\n",
       "      <td>0</td>\n",
       "      <td>...</td>\n",
       "      <td>OFF-CONTRACT</td>\n",
       "      <td>24</td>\n",
       "      <td>APPLE</td>\n",
       "      <td>1</td>\n",
       "      <td>6.48</td>\n",
       "      <td>COUNTRY</td>\n",
       "      <td>VIC</td>\n",
       "      <td>NaN</td>\n",
       "      <td>NaN</td>\n",
       "      <td>NaN</td>\n",
       "    </tr>\n",
       "    <tr>\n",
       "      <th>5</th>\n",
       "      <td>8</td>\n",
       "      <td>95</td>\n",
       "      <td>1</td>\n",
       "      <td>31.0</td>\n",
       "      <td>CONSUMER</td>\n",
       "      <td>95</td>\n",
       "      <td>54.54</td>\n",
       "      <td>NON BYO</td>\n",
       "      <td>0</td>\n",
       "      <td>0</td>\n",
       "      <td>...</td>\n",
       "      <td>OFF-CONTRACT</td>\n",
       "      <td>24</td>\n",
       "      <td>APPLE</td>\n",
       "      <td>1</td>\n",
       "      <td>100.22</td>\n",
       "      <td>METRO</td>\n",
       "      <td>NSW</td>\n",
       "      <td>NaN</td>\n",
       "      <td>NaN</td>\n",
       "      <td>NaN</td>\n",
       "    </tr>\n",
       "  </tbody>\n",
       "</table>\n",
       "<p>5 rows × 21 columns</p>\n",
       "</div>"
      ],
      "text/plain": [
       "       CUST_ID  ACCOUNT_TENURE  ACCT_CNT_SERVICES   AGE       CFU  \\\n",
       "INDEX                                                               \n",
       "1            1              46                  1  30.0  CONSUMER   \n",
       "2            2              60                  3  55.0  CONSUMER   \n",
       "3            5              65                  1  29.0  CONSUMER   \n",
       "4            6              31                  1  51.0  CONSUMER   \n",
       "5            8              95                  1  31.0  CONSUMER   \n",
       "\n",
       "       SERVICE_TENURE  PLAN_ACCESS_FEE BYO_PLAN_STATUS  PLAN_TENURE  \\\n",
       "INDEX                                                                 \n",
       "1                  46            54.54         NON BYO           15   \n",
       "2                  59            54.54         NON BYO            5   \n",
       "3                  65            40.90             BYO           15   \n",
       "4                  31            31.81         NON BYO           31   \n",
       "5                  95            54.54         NON BYO            0   \n",
       "\n",
       "       MONTHS_OF_CONTRACT_REMAINING  ...  CONTRACT_STATUS  \\\n",
       "INDEX                                ...                    \n",
       "1                                 0  ...     OFF-CONTRACT   \n",
       "2                                 0  ...     OFF-CONTRACT   \n",
       "3                                 0  ...     OFF-CONTRACT   \n",
       "4                                 0  ...     OFF-CONTRACT   \n",
       "5                                 0  ...     OFF-CONTRACT   \n",
       "\n",
       "      PREV_CONTRACT_DURATION  HANDSET_USED_BRAND CHURN_IND  MONTHLY_SPEND  \\\n",
       "INDEX                                                                       \n",
       "1                         24             SAMSUNG         1          61.40   \n",
       "2                         24               APPLE         1          54.54   \n",
       "3                         12               APPLE         1           2.50   \n",
       "4                         24               APPLE         1           6.48   \n",
       "5                         24               APPLE         1         100.22   \n",
       "\n",
       "       COUNTRY_METRO_REGION STATE RECON_SMS_NEXT_MTH  RECON_TELE_NEXT_MTH  \\\n",
       "INDEX                                                                       \n",
       "1                   COUNTRY    WA                NaN                  NaN   \n",
       "2                     METRO   NSW                NaN                  NaN   \n",
       "3                   COUNTRY    WA                NaN                  NaN   \n",
       "4                   COUNTRY   VIC                NaN                  NaN   \n",
       "5                     METRO   NSW                NaN                  NaN   \n",
       "\n",
       "       RECON_EMAIL_NEXT_MTH  \n",
       "INDEX                        \n",
       "1                       NaN  \n",
       "2                       NaN  \n",
       "3                       NaN  \n",
       "4                       NaN  \n",
       "5                       NaN  \n",
       "\n",
       "[5 rows x 21 columns]"
      ]
     },
     "execution_count": 7,
     "metadata": {},
     "output_type": "execute_result"
    }
   ],
   "source": [
    "churn = pd.read_csv(\"files/MobileCustomerChurn.csv\", na_values=[\"NA\", \"#VALUE!\"], index_col='INDEX')\n",
    "churn.head()"
   ]
  },
  {
   "cell_type": "markdown",
   "metadata": {},
   "source": [
    "Removing the `RECON` fields as per the directions of the task. "
   ]
  },
  {
   "cell_type": "code",
   "execution_count": 8,
   "metadata": {},
   "outputs": [],
   "source": [
    "churn = churn.drop(columns=['RECON_SMS_NEXT_MTH','RECON_TELE_NEXT_MTH','RECON_EMAIL_NEXT_MTH'])"
   ]
  },
  {
   "cell_type": "markdown",
   "metadata": {},
   "source": [
    "Changing the columns to lower case for ease of referencing"
   ]
  },
  {
   "cell_type": "code",
   "execution_count": 11,
   "metadata": {},
   "outputs": [],
   "source": [
    "churn.columns = churn.columns.str.lower()"
   ]
  },
  {
   "cell_type": "markdown",
   "metadata": {},
   "source": [
    "### Exploring the DF"
   ]
  },
  {
   "cell_type": "markdown",
   "metadata": {},
   "source": [
    "Checking what the `cfu` column contains"
   ]
  },
  {
   "cell_type": "code",
   "execution_count": 28,
   "metadata": {},
   "outputs": [
    {
     "data": {
      "text/plain": [
       "{'CONSUMER', 'SMALL BUSINESS'}"
      ]
     },
     "execution_count": 28,
     "metadata": {},
     "output_type": "execute_result"
    }
   ],
   "source": [
    "set(list(churn['cfu']))"
   ]
  },
  {
   "cell_type": "code",
   "execution_count": 31,
   "metadata": {},
   "outputs": [
    {
     "data": {
      "text/plain": [
       "39087"
      ]
     },
     "execution_count": 31,
     "metadata": {},
     "output_type": "execute_result"
    }
   ],
   "source": [
    "len(churn[churn['cfu'] == 'CONSUMER'])"
   ]
  },
  {
   "cell_type": "code",
   "execution_count": 32,
   "metadata": {},
   "outputs": [
    {
     "data": {
      "text/plain": [
       "7119"
      ]
     },
     "execution_count": 32,
     "metadata": {},
     "output_type": "execute_result"
    }
   ],
   "source": [
    "len(churn[churn['cfu'] == 'SMALL BUSINESS'])"
   ]
  },
  {
   "cell_type": "code",
   "execution_count": 37,
   "metadata": {},
   "outputs": [
    {
     "data": {
      "text/plain": [
       "15.41"
      ]
     },
     "execution_count": 37,
     "metadata": {},
     "output_type": "execute_result"
    }
   ],
   "source": [
    "round((len(churn[churn['cfu'] == 'SMALL BUSINESS']) / len(churn))*100, 2)"
   ]
  },
  {
   "cell_type": "markdown",
   "metadata": {},
   "source": [
    "Small business account for about 15% of all the accounts, therefore consumers equate to about 75% for all the accounts"
   ]
  },
  {
   "cell_type": "code",
   "execution_count": 49,
   "metadata": {},
   "outputs": [
    {
     "data": {
      "text/plain": [
       "23.22"
      ]
     },
     "execution_count": 49,
     "metadata": {},
     "output_type": "execute_result"
    }
   ],
   "source": [
    "round((len(churn[churn['byo_plan_status'] == 'BYO']) / len(churn))*100, 2)"
   ]
  },
  {
   "cell_type": "markdown",
   "metadata": {},
   "source": [
    "About 22% of all the accounts are BYO plan status"
   ]
  },
  {
   "cell_type": "markdown",
   "metadata": {},
   "source": [
    "About 34% of all accounts have different `account_tenure` to `service_tenure`. What does it mean if these two differ? "
   ]
  },
  {
   "cell_type": "code",
   "execution_count": 63,
   "metadata": {},
   "outputs": [
    {
     "data": {
      "text/plain": [
       "33.82"
      ]
     },
     "execution_count": 63,
     "metadata": {},
     "output_type": "execute_result"
    }
   ],
   "source": [
    "round((len(churn[(churn['account_tenure'] == churn['service_tenure']) == False]) / len(churn))*100, 2)"
   ]
  },
  {
   "cell_type": "code",
   "execution_count": 86,
   "metadata": {
    "scrolled": true
   },
   "outputs": [],
   "source": [
    "total = len(churn)\n",
    "greater = round( 100*(len(churn[churn['account_tenure'] > churn['service_tenure']])/total),2)\n",
    "lesser = round( 100*(len(churn[churn['account_tenure'] < churn['service_tenure']])/total),2)\n",
    "equal = round((len(churn[(churn['account_tenure'] == churn['service_tenure']) == True]) / len(churn))*100, 2)"
   ]
  },
  {
   "cell_type": "markdown",
   "metadata": {},
   "source": [
    "Checking they all add up"
   ]
  },
  {
   "cell_type": "code",
   "execution_count": 87,
   "metadata": {},
   "outputs": [
    {
     "data": {
      "text/plain": [
       "100.0"
      ]
     },
     "execution_count": 87,
     "metadata": {},
     "output_type": "execute_result"
    }
   ],
   "source": [
    "greater + lesser + equal"
   ]
  },
  {
   "cell_type": "code",
   "execution_count": 91,
   "metadata": {},
   "outputs": [
    {
     "name": "stdout",
     "output_type": "stream",
     "text": [
      "account_tenure > service_tenure = 18.19%\n",
      "account_tenure < service_tenure = 15.63%\n",
      "account_tenure = service_tenure = 66.18%\n"
     ]
    }
   ],
   "source": [
    "print(f'account_tenure > service_tenure = {greater}%')\n",
    "print(f'account_tenure < service_tenure = {lesser}%')\n",
    "print(f'account_tenure = service_tenure = {equal}%')"
   ]
  },
  {
   "cell_type": "code",
   "execution_count": 93,
   "metadata": {},
   "outputs": [
    {
     "data": {
      "text/html": [
       "<div>\n",
       "<style scoped>\n",
       "    .dataframe tbody tr th:only-of-type {\n",
       "        vertical-align: middle;\n",
       "    }\n",
       "\n",
       "    .dataframe tbody tr th {\n",
       "        vertical-align: top;\n",
       "    }\n",
       "\n",
       "    .dataframe thead th {\n",
       "        text-align: right;\n",
       "    }\n",
       "</style>\n",
       "<table border=\"1\" class=\"dataframe\">\n",
       "  <thead>\n",
       "    <tr style=\"text-align: right;\">\n",
       "      <th></th>\n",
       "      <th>cust_id</th>\n",
       "      <th>account_tenure</th>\n",
       "      <th>acct_cnt_services</th>\n",
       "      <th>age</th>\n",
       "      <th>cfu</th>\n",
       "      <th>service_tenure</th>\n",
       "      <th>plan_access_fee</th>\n",
       "      <th>byo_plan_status</th>\n",
       "      <th>plan_tenure</th>\n",
       "      <th>months_of_contract_remaining</th>\n",
       "      <th>last_fx_contract_duration</th>\n",
       "      <th>contract_status</th>\n",
       "      <th>prev_contract_duration</th>\n",
       "      <th>handset_used_brand</th>\n",
       "      <th>churn_ind</th>\n",
       "      <th>monthly_spend</th>\n",
       "      <th>country_metro_region</th>\n",
       "      <th>state</th>\n",
       "    </tr>\n",
       "    <tr>\n",
       "      <th>INDEX</th>\n",
       "      <th></th>\n",
       "      <th></th>\n",
       "      <th></th>\n",
       "      <th></th>\n",
       "      <th></th>\n",
       "      <th></th>\n",
       "      <th></th>\n",
       "      <th></th>\n",
       "      <th></th>\n",
       "      <th></th>\n",
       "      <th></th>\n",
       "      <th></th>\n",
       "      <th></th>\n",
       "      <th></th>\n",
       "      <th></th>\n",
       "      <th></th>\n",
       "      <th></th>\n",
       "      <th></th>\n",
       "    </tr>\n",
       "  </thead>\n",
       "  <tbody>\n",
       "    <tr>\n",
       "      <th>1</th>\n",
       "      <td>1</td>\n",
       "      <td>46</td>\n",
       "      <td>1</td>\n",
       "      <td>30.0</td>\n",
       "      <td>CONSUMER</td>\n",
       "      <td>46</td>\n",
       "      <td>54.54</td>\n",
       "      <td>NON BYO</td>\n",
       "      <td>15</td>\n",
       "      <td>0</td>\n",
       "      <td>24</td>\n",
       "      <td>OFF-CONTRACT</td>\n",
       "      <td>24</td>\n",
       "      <td>SAMSUNG</td>\n",
       "      <td>1</td>\n",
       "      <td>61.40</td>\n",
       "      <td>COUNTRY</td>\n",
       "      <td>WA</td>\n",
       "    </tr>\n",
       "    <tr>\n",
       "      <th>2</th>\n",
       "      <td>2</td>\n",
       "      <td>60</td>\n",
       "      <td>3</td>\n",
       "      <td>55.0</td>\n",
       "      <td>CONSUMER</td>\n",
       "      <td>59</td>\n",
       "      <td>54.54</td>\n",
       "      <td>NON BYO</td>\n",
       "      <td>5</td>\n",
       "      <td>0</td>\n",
       "      <td>24</td>\n",
       "      <td>OFF-CONTRACT</td>\n",
       "      <td>24</td>\n",
       "      <td>APPLE</td>\n",
       "      <td>1</td>\n",
       "      <td>54.54</td>\n",
       "      <td>METRO</td>\n",
       "      <td>NSW</td>\n",
       "    </tr>\n",
       "    <tr>\n",
       "      <th>3</th>\n",
       "      <td>5</td>\n",
       "      <td>65</td>\n",
       "      <td>1</td>\n",
       "      <td>29.0</td>\n",
       "      <td>CONSUMER</td>\n",
       "      <td>65</td>\n",
       "      <td>40.90</td>\n",
       "      <td>BYO</td>\n",
       "      <td>15</td>\n",
       "      <td>0</td>\n",
       "      <td>12</td>\n",
       "      <td>OFF-CONTRACT</td>\n",
       "      <td>12</td>\n",
       "      <td>APPLE</td>\n",
       "      <td>1</td>\n",
       "      <td>2.50</td>\n",
       "      <td>COUNTRY</td>\n",
       "      <td>WA</td>\n",
       "    </tr>\n",
       "    <tr>\n",
       "      <th>4</th>\n",
       "      <td>6</td>\n",
       "      <td>31</td>\n",
       "      <td>1</td>\n",
       "      <td>51.0</td>\n",
       "      <td>CONSUMER</td>\n",
       "      <td>31</td>\n",
       "      <td>31.81</td>\n",
       "      <td>NON BYO</td>\n",
       "      <td>31</td>\n",
       "      <td>0</td>\n",
       "      <td>24</td>\n",
       "      <td>OFF-CONTRACT</td>\n",
       "      <td>24</td>\n",
       "      <td>APPLE</td>\n",
       "      <td>1</td>\n",
       "      <td>6.48</td>\n",
       "      <td>COUNTRY</td>\n",
       "      <td>VIC</td>\n",
       "    </tr>\n",
       "    <tr>\n",
       "      <th>5</th>\n",
       "      <td>8</td>\n",
       "      <td>95</td>\n",
       "      <td>1</td>\n",
       "      <td>31.0</td>\n",
       "      <td>CONSUMER</td>\n",
       "      <td>95</td>\n",
       "      <td>54.54</td>\n",
       "      <td>NON BYO</td>\n",
       "      <td>0</td>\n",
       "      <td>0</td>\n",
       "      <td>24</td>\n",
       "      <td>OFF-CONTRACT</td>\n",
       "      <td>24</td>\n",
       "      <td>APPLE</td>\n",
       "      <td>1</td>\n",
       "      <td>100.22</td>\n",
       "      <td>METRO</td>\n",
       "      <td>NSW</td>\n",
       "    </tr>\n",
       "  </tbody>\n",
       "</table>\n",
       "</div>"
      ],
      "text/plain": [
       "       cust_id  account_tenure  acct_cnt_services   age       cfu  \\\n",
       "INDEX                                                               \n",
       "1            1              46                  1  30.0  CONSUMER   \n",
       "2            2              60                  3  55.0  CONSUMER   \n",
       "3            5              65                  1  29.0  CONSUMER   \n",
       "4            6              31                  1  51.0  CONSUMER   \n",
       "5            8              95                  1  31.0  CONSUMER   \n",
       "\n",
       "       service_tenure  plan_access_fee byo_plan_status  plan_tenure  \\\n",
       "INDEX                                                                 \n",
       "1                  46            54.54         NON BYO           15   \n",
       "2                  59            54.54         NON BYO            5   \n",
       "3                  65            40.90             BYO           15   \n",
       "4                  31            31.81         NON BYO           31   \n",
       "5                  95            54.54         NON BYO            0   \n",
       "\n",
       "       months_of_contract_remaining  last_fx_contract_duration  \\\n",
       "INDEX                                                            \n",
       "1                                 0                         24   \n",
       "2                                 0                         24   \n",
       "3                                 0                         12   \n",
       "4                                 0                         24   \n",
       "5                                 0                         24   \n",
       "\n",
       "      contract_status  prev_contract_duration handset_used_brand  churn_ind  \\\n",
       "INDEX                                                                         \n",
       "1        OFF-CONTRACT                      24            SAMSUNG          1   \n",
       "2        OFF-CONTRACT                      24              APPLE          1   \n",
       "3        OFF-CONTRACT                      12              APPLE          1   \n",
       "4        OFF-CONTRACT                      24              APPLE          1   \n",
       "5        OFF-CONTRACT                      24              APPLE          1   \n",
       "\n",
       "       monthly_spend country_metro_region state  \n",
       "INDEX                                            \n",
       "1              61.40              COUNTRY    WA  \n",
       "2              54.54                METRO   NSW  \n",
       "3               2.50              COUNTRY    WA  \n",
       "4               6.48              COUNTRY   VIC  \n",
       "5             100.22                METRO   NSW  "
      ]
     },
     "execution_count": 93,
     "metadata": {},
     "output_type": "execute_result"
    }
   ],
   "source": [
    "churn.head()"
   ]
  },
  {
   "cell_type": "code",
   "execution_count": 99,
   "metadata": {},
   "outputs": [],
   "source": [
    "zeroRemain = round(len(churn[churn['months_of_contract_remaining'] == 0])*100/total, 2)"
   ]
  },
  {
   "cell_type": "code",
   "execution_count": 101,
   "metadata": {},
   "outputs": [
    {
     "name": "stdout",
     "output_type": "stream",
     "text": [
      "38.79% of contracts have no remaining months in their contract\n"
     ]
    }
   ],
   "source": [
    "print(f'{zeroRemain}% of contracts have no remaining months in their contract')"
   ]
  },
  {
   "cell_type": "code",
   "execution_count": 120,
   "metadata": {},
   "outputs": [
    {
     "name": "stdout",
     "output_type": "stream",
     "text": [
      "75.77% of customers had their last fixed contract as their previous contract\n"
     ]
    }
   ],
   "source": [
    "print(f\"{round(len(churn[churn['last_fx_contract_duration'] == churn['prev_contract_duration']])*100/total,2)}% of customers had their last fixed contract as their previous contract\")"
   ]
  },
  {
   "cell_type": "code",
   "execution_count": 132,
   "metadata": {},
   "outputs": [
    {
     "name": "stdout",
     "output_type": "stream",
     "text": [
      "28.04% of customers who did not BYO device churned  \n"
     ]
    }
   ],
   "source": [
    "print(f\"{round(len(churn[(churn['churn_ind']==1)& (churn['byo_plan_status']== 'NON BYO')])*100/total,2)}% of customers who did not BYO device churned  \")"
   ]
  },
  {
   "cell_type": "markdown",
   "metadata": {},
   "source": [
    "From this DF exploration, we've found:\n",
    "- no columns are equal. \n",
    "- a large number of customers had the "
   ]
  },
  {
   "cell_type": "markdown",
   "metadata": {},
   "source": [
    "help with `.select_dtypes` https://stackoverflow.com/questions/12725417/drop-non-numeric-columns-from-a-pandas-dataframe\n",
    "\n",
    "https://pandas.pydata.org/docs/reference/api/pandas.DataFrame.select_dtypes.html"
   ]
  },
  {
   "cell_type": "code",
   "execution_count": 141,
   "metadata": {},
   "outputs": [
    {
     "data": {
      "text/html": [
       "<div>\n",
       "<style scoped>\n",
       "    .dataframe tbody tr th:only-of-type {\n",
       "        vertical-align: middle;\n",
       "    }\n",
       "\n",
       "    .dataframe tbody tr th {\n",
       "        vertical-align: top;\n",
       "    }\n",
       "\n",
       "    .dataframe thead th {\n",
       "        text-align: right;\n",
       "    }\n",
       "</style>\n",
       "<table border=\"1\" class=\"dataframe\">\n",
       "  <thead>\n",
       "    <tr style=\"text-align: right;\">\n",
       "      <th></th>\n",
       "      <th>cust_id</th>\n",
       "      <th>account_tenure</th>\n",
       "      <th>acct_cnt_services</th>\n",
       "      <th>age</th>\n",
       "      <th>service_tenure</th>\n",
       "      <th>plan_access_fee</th>\n",
       "      <th>plan_tenure</th>\n",
       "      <th>months_of_contract_remaining</th>\n",
       "      <th>last_fx_contract_duration</th>\n",
       "      <th>prev_contract_duration</th>\n",
       "      <th>churn_ind</th>\n",
       "      <th>monthly_spend</th>\n",
       "    </tr>\n",
       "    <tr>\n",
       "      <th>INDEX</th>\n",
       "      <th></th>\n",
       "      <th></th>\n",
       "      <th></th>\n",
       "      <th></th>\n",
       "      <th></th>\n",
       "      <th></th>\n",
       "      <th></th>\n",
       "      <th></th>\n",
       "      <th></th>\n",
       "      <th></th>\n",
       "      <th></th>\n",
       "      <th></th>\n",
       "    </tr>\n",
       "  </thead>\n",
       "  <tbody>\n",
       "    <tr>\n",
       "      <th>1</th>\n",
       "      <td>1</td>\n",
       "      <td>46</td>\n",
       "      <td>1</td>\n",
       "      <td>30.0</td>\n",
       "      <td>46</td>\n",
       "      <td>54.54</td>\n",
       "      <td>15</td>\n",
       "      <td>0</td>\n",
       "      <td>24</td>\n",
       "      <td>24</td>\n",
       "      <td>1</td>\n",
       "      <td>61.40</td>\n",
       "    </tr>\n",
       "    <tr>\n",
       "      <th>2</th>\n",
       "      <td>2</td>\n",
       "      <td>60</td>\n",
       "      <td>3</td>\n",
       "      <td>55.0</td>\n",
       "      <td>59</td>\n",
       "      <td>54.54</td>\n",
       "      <td>5</td>\n",
       "      <td>0</td>\n",
       "      <td>24</td>\n",
       "      <td>24</td>\n",
       "      <td>1</td>\n",
       "      <td>54.54</td>\n",
       "    </tr>\n",
       "    <tr>\n",
       "      <th>3</th>\n",
       "      <td>5</td>\n",
       "      <td>65</td>\n",
       "      <td>1</td>\n",
       "      <td>29.0</td>\n",
       "      <td>65</td>\n",
       "      <td>40.90</td>\n",
       "      <td>15</td>\n",
       "      <td>0</td>\n",
       "      <td>12</td>\n",
       "      <td>12</td>\n",
       "      <td>1</td>\n",
       "      <td>2.50</td>\n",
       "    </tr>\n",
       "    <tr>\n",
       "      <th>4</th>\n",
       "      <td>6</td>\n",
       "      <td>31</td>\n",
       "      <td>1</td>\n",
       "      <td>51.0</td>\n",
       "      <td>31</td>\n",
       "      <td>31.81</td>\n",
       "      <td>31</td>\n",
       "      <td>0</td>\n",
       "      <td>24</td>\n",
       "      <td>24</td>\n",
       "      <td>1</td>\n",
       "      <td>6.48</td>\n",
       "    </tr>\n",
       "    <tr>\n",
       "      <th>5</th>\n",
       "      <td>8</td>\n",
       "      <td>95</td>\n",
       "      <td>1</td>\n",
       "      <td>31.0</td>\n",
       "      <td>95</td>\n",
       "      <td>54.54</td>\n",
       "      <td>0</td>\n",
       "      <td>0</td>\n",
       "      <td>24</td>\n",
       "      <td>24</td>\n",
       "      <td>1</td>\n",
       "      <td>100.22</td>\n",
       "    </tr>\n",
       "  </tbody>\n",
       "</table>\n",
       "</div>"
      ],
      "text/plain": [
       "       cust_id  account_tenure  acct_cnt_services   age  service_tenure  \\\n",
       "INDEX                                                                     \n",
       "1            1              46                  1  30.0              46   \n",
       "2            2              60                  3  55.0              59   \n",
       "3            5              65                  1  29.0              65   \n",
       "4            6              31                  1  51.0              31   \n",
       "5            8              95                  1  31.0              95   \n",
       "\n",
       "       plan_access_fee  plan_tenure  months_of_contract_remaining  \\\n",
       "INDEX                                                               \n",
       "1                54.54           15                             0   \n",
       "2                54.54            5                             0   \n",
       "3                40.90           15                             0   \n",
       "4                31.81           31                             0   \n",
       "5                54.54            0                             0   \n",
       "\n",
       "       last_fx_contract_duration  prev_contract_duration  churn_ind  \\\n",
       "INDEX                                                                 \n",
       "1                             24                      24          1   \n",
       "2                             24                      24          1   \n",
       "3                             12                      12          1   \n",
       "4                             24                      24          1   \n",
       "5                             24                      24          1   \n",
       "\n",
       "       monthly_spend  \n",
       "INDEX                 \n",
       "1              61.40  \n",
       "2              54.54  \n",
       "3               2.50  \n",
       "4               6.48  \n",
       "5             100.22  "
      ]
     },
     "execution_count": 141,
     "metadata": {},
     "output_type": "execute_result"
    }
   ],
   "source": [
    "churn.select_dtypes(['number']).head()"
   ]
  },
  {
   "cell_type": "markdown",
   "metadata": {},
   "source": [
    "Setting up a DF for a pairplot"
   ]
  },
  {
   "cell_type": "raw",
   "metadata": {},
   "source": [
    "churnPairplot = churn.select_dtypes(['number'])\n",
    "churnPairplot = churnPairplot.drop(columns=['cust_id'])"
   ]
  },
  {
   "cell_type": "raw",
   "metadata": {},
   "source": [
    "sns.pairplot(churnPairplot)"
   ]
  },
  {
   "cell_type": "code",
   "execution_count": null,
   "metadata": {},
   "outputs": [],
   "source": [
    "fig,axes = plt.subplots(2,1)\n",
    "\n",
    "churn['acct_cnt_services'].plot(kind='bar', ax=axes[0])\n",
    "# plt.hist(churn['acct_cnt_services'], ax=axes[1])"
   ]
  }
 ],
 "metadata": {
  "kernelspec": {
   "display_name": "Python 3",
   "language": "python",
   "name": "python3"
  },
  "language_info": {
   "codemirror_mode": {
    "name": "ipython",
    "version": 3
   },
   "file_extension": ".py",
   "mimetype": "text/x-python",
   "name": "python",
   "nbconvert_exporter": "python",
   "pygments_lexer": "ipython3",
   "version": "3.8.3"
  },
  "varInspector": {
   "cols": {
    "lenName": 16,
    "lenType": 16,
    "lenVar": 40
   },
   "kernels_config": {
    "python": {
     "delete_cmd_postfix": "",
     "delete_cmd_prefix": "del ",
     "library": "var_list.py",
     "varRefreshCmd": "print(var_dic_list())"
    },
    "r": {
     "delete_cmd_postfix": ") ",
     "delete_cmd_prefix": "rm(",
     "library": "var_list.r",
     "varRefreshCmd": "cat(var_dic_list()) "
    }
   },
   "types_to_exclude": [
    "module",
    "function",
    "builtin_function_or_method",
    "instance",
    "_Feature"
   ],
   "window_display": false
  }
 },
 "nbformat": 4,
 "nbformat_minor": 4
}
