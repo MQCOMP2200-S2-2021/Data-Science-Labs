{
 "cells": [
  {
   "cell_type": "markdown",
   "metadata": {
    "heading_collapsed": true
   },
   "source": [
    "# TO DO\n",
    "\n",
    "- question 1 plotting australian rules only. I had it working as a single bar stacked, but i reset the kernel and it stopppped working again \n",
    "- question 2: try normalising the data for the stacked bar plots. Normalising is just dividing by the total? \n",
    "- Question 3: ive found the over rep and under rep but not sure how to plot to get a visual sense? \n",
    "- question 3: checking the relationship between claim rate and LGA, the correlation matrix is for all LGAs, is this right? The question says to find if there is a relationship between claim rate and a single LGA. \n",
    "- question4 : I tried the spearman and pearson, but not sure how to apply it. How does this help in comparison to what I did?> \n",
    "- challenge Q: checking the different ports in SA and QLD. is fixing them apart of the task? \n",
    "check sns galeries of different types of plots, good to see which ones might be applicable to certain data types"
   ]
  },
  {
   "cell_type": "markdown",
   "metadata": {},
   "source": [
    "# Sport Vouchers Program Analysis"
   ]
  },
  {
   "cell_type": "markdown",
   "metadata": {},
   "source": [
    "The goal of this Portfolio task is to explore data from the Federal Government Sport Vouchers program - this is a\n",
    "program that provides up to two $100 vouchers for kids to participate in organised sport. Here's the [NSW Active Kids page](https://www.service.nsw.gov.au/transaction/apply-active-kids-voucher), there are similar schemes in other states - this data is from South Australia.\n",
    "\n",
    "This is an exercise in exploring data and communicating the insights you can gain from it.  The source data comes\n",
    "from the `data.gov.au` website and provides details of all Sport Vouchers that have been redeemed since February  in SA 2015 as part of the Sport Voucher program:  [Sports Vouchers Data](https://data.gov.au/dataset/ds-sa-14daba50-04ff-46c6-8468-9fa593b9f100/details).  This download is provided for you as `sportsvouchersclaimed.csv`.\n",
    "\n",
    "To augment this data you can also make use of [ABS SEIFA data by LGA](http://stat.data.abs.gov.au/Index.aspx?DataSetCode=ABS_SEIFA_LGA#) which shows a few measures of Socioeconomic Advantage and Disadvantage for every Local Government Area. This data is provided for you as `ABS_SEIFA_LGA.csv`. This could enable you to answer questions about whether the voucher program is used equally by parents in low, middle and high socioeconomic areas.   You might be interested in this if you were concerned that this kind of program might just benifit parents who are already advantaged (they might already be paying for sport so this program wouldn't be helping much).\n",
    "\n",
    "Questions:\n",
    "* Describe the distribution of vouchers by: LGA, Sport - which regions/sports stand out? \n",
    "* Are some sports more popular in different parts of the state?\n",
    "* Are any electorates over/under represented in their use of vouchers?\n",
    "* Is there a relationship between any of the SEIFA measures and voucher use in an LGA?\n",
    "\n",
    "A challenge in this task is to display a useful summary of the data given that there are a large number of LGAs and sports involved.  Try to avoid long lists and large tables. Think about what plots and tables communicate the main points of your findings. \n"
   ]
  },
  {
   "cell_type": "code",
   "execution_count": 1,
   "metadata": {},
   "outputs": [],
   "source": [
    "import pandas as pd\n",
    "import numpy as np\n",
    "import matplotlib.pyplot as plt\n",
    "import seaborn as sns\n",
    "%matplotlib inline"
   ]
  },
  {
   "cell_type": "code",
   "execution_count": 2,
   "metadata": {
    "scrolled": true
   },
   "outputs": [
    {
     "data": {
      "text/html": [
       "<div>\n",
       "<style scoped>\n",
       "    .dataframe tbody tr th:only-of-type {\n",
       "        vertical-align: middle;\n",
       "    }\n",
       "\n",
       "    .dataframe tbody tr th {\n",
       "        vertical-align: top;\n",
       "    }\n",
       "\n",
       "    .dataframe thead th {\n",
       "        text-align: right;\n",
       "    }\n",
       "</style>\n",
       "<table border=\"1\" class=\"dataframe\">\n",
       "  <thead>\n",
       "    <tr style=\"text-align: right;\">\n",
       "      <th></th>\n",
       "      <th>Participant_ID</th>\n",
       "      <th>Participant_Suburb</th>\n",
       "      <th>Club_Previous_Member</th>\n",
       "      <th>Participant_ATSI_Indicator</th>\n",
       "      <th>Participant_CALD_Indicator</th>\n",
       "      <th>Participant_Sex</th>\n",
       "      <th>Voucher_Value</th>\n",
       "      <th>Club_Name</th>\n",
       "      <th>Voucher_Sport</th>\n",
       "      <th>Participant_LGA</th>\n",
       "      <th>Participant_Electorate</th>\n",
       "      <th>Voucher_Completion_Date</th>\n",
       "      <th>Voucher_Claim_Year</th>\n",
       "    </tr>\n",
       "  </thead>\n",
       "  <tbody>\n",
       "    <tr>\n",
       "      <th>0</th>\n",
       "      <td>1000002</td>\n",
       "      <td>ABERFOYLE PARK</td>\n",
       "      <td>Registered Previously</td>\n",
       "      <td>Not ATSI</td>\n",
       "      <td>Not CALD</td>\n",
       "      <td>Male</td>\n",
       "      <td>50</td>\n",
       "      <td>Flagstaff Hill Football Club</td>\n",
       "      <td>Australian Rules</td>\n",
       "      <td>ONKAPARINGA</td>\n",
       "      <td>FISHER</td>\n",
       "      <td>26/6/15 1:19</td>\n",
       "      <td>2015</td>\n",
       "    </tr>\n",
       "    <tr>\n",
       "      <th>1</th>\n",
       "      <td>1000002</td>\n",
       "      <td>ABERFOYLE PARK</td>\n",
       "      <td>Registered Previously</td>\n",
       "      <td>Not ATSI</td>\n",
       "      <td>Not CALD</td>\n",
       "      <td>Male</td>\n",
       "      <td>50</td>\n",
       "      <td>Flagstaff Hill Football Club</td>\n",
       "      <td>Australian Rules</td>\n",
       "      <td>ONKAPARINGA</td>\n",
       "      <td>FISHER</td>\n",
       "      <td>29/6/16 23:55</td>\n",
       "      <td>2016</td>\n",
       "    </tr>\n",
       "    <tr>\n",
       "      <th>2</th>\n",
       "      <td>1000004</td>\n",
       "      <td>ABERFOYLE PARK</td>\n",
       "      <td>Not Registered Previously</td>\n",
       "      <td>Not ATSI</td>\n",
       "      <td>Not CALD</td>\n",
       "      <td>Female</td>\n",
       "      <td>50</td>\n",
       "      <td>Hub Gymnastics Club</td>\n",
       "      <td>Gymnastics</td>\n",
       "      <td>ONKAPARINGA</td>\n",
       "      <td>FISHER</td>\n",
       "      <td>21/4/16 3:37</td>\n",
       "      <td>2016</td>\n",
       "    </tr>\n",
       "    <tr>\n",
       "      <th>3</th>\n",
       "      <td>1000004</td>\n",
       "      <td>ABERFOYLE PARK</td>\n",
       "      <td>Registered Previously</td>\n",
       "      <td>Not ATSI</td>\n",
       "      <td>Not CALD</td>\n",
       "      <td>Female</td>\n",
       "      <td>50</td>\n",
       "      <td>Hub Gymnastics Club</td>\n",
       "      <td>Gymnastics</td>\n",
       "      <td>ONKAPARINGA</td>\n",
       "      <td>FISHER</td>\n",
       "      <td>30/3/17 0:47</td>\n",
       "      <td>2017</td>\n",
       "    </tr>\n",
       "    <tr>\n",
       "      <th>4</th>\n",
       "      <td>1000005</td>\n",
       "      <td>ABERFOYLE PARK</td>\n",
       "      <td>Registered Previously</td>\n",
       "      <td>Not ATSI</td>\n",
       "      <td>Not CALD</td>\n",
       "      <td>Female</td>\n",
       "      <td>50</td>\n",
       "      <td>Blackwood Community Recreation Association</td>\n",
       "      <td>Gymnastics</td>\n",
       "      <td>ONKAPARINGA</td>\n",
       "      <td>FISHER</td>\n",
       "      <td>20/7/15 2:50</td>\n",
       "      <td>2015</td>\n",
       "    </tr>\n",
       "  </tbody>\n",
       "</table>\n",
       "</div>"
      ],
      "text/plain": [
       "   Participant_ID Participant_Suburb       Club_Previous_Member  \\\n",
       "0         1000002     ABERFOYLE PARK      Registered Previously   \n",
       "1         1000002     ABERFOYLE PARK      Registered Previously   \n",
       "2         1000004     ABERFOYLE PARK  Not Registered Previously   \n",
       "3         1000004     ABERFOYLE PARK      Registered Previously   \n",
       "4         1000005     ABERFOYLE PARK      Registered Previously   \n",
       "\n",
       "  Participant_ATSI_Indicator Participant_CALD_Indicator Participant_Sex  \\\n",
       "0                   Not ATSI                   Not CALD            Male   \n",
       "1                   Not ATSI                   Not CALD            Male   \n",
       "2                   Not ATSI                   Not CALD          Female   \n",
       "3                   Not ATSI                   Not CALD          Female   \n",
       "4                   Not ATSI                   Not CALD          Female   \n",
       "\n",
       "   Voucher_Value                                   Club_Name  \\\n",
       "0             50                Flagstaff Hill Football Club   \n",
       "1             50                Flagstaff Hill Football Club   \n",
       "2             50                         Hub Gymnastics Club   \n",
       "3             50                         Hub Gymnastics Club   \n",
       "4             50  Blackwood Community Recreation Association   \n",
       "\n",
       "      Voucher_Sport Participant_LGA Participant_Electorate  \\\n",
       "0  Australian Rules     ONKAPARINGA                 FISHER   \n",
       "1  Australian Rules     ONKAPARINGA                 FISHER   \n",
       "2        Gymnastics     ONKAPARINGA                 FISHER   \n",
       "3        Gymnastics     ONKAPARINGA                 FISHER   \n",
       "4        Gymnastics     ONKAPARINGA                 FISHER   \n",
       "\n",
       "  Voucher_Completion_Date  Voucher_Claim_Year  \n",
       "0            26/6/15 1:19                2015  \n",
       "1           29/6/16 23:55                2016  \n",
       "2            21/4/16 3:37                2016  \n",
       "3            30/3/17 0:47                2017  \n",
       "4            20/7/15 2:50                2015  "
      ]
     },
     "execution_count": 2,
     "metadata": {},
     "output_type": "execute_result"
    }
   ],
   "source": [
    "# read the sports vouchers data\n",
    "sa_vouchers = pd.read_csv(\"files/sportsvouchersclaimed.csv\")\n",
    "sa_vouchers.head()"
   ]
  },
  {
   "cell_type": "markdown",
   "metadata": {},
   "source": [
    "The SEIFA data includes row for each Local Government Area (LGA) but the names of the LGAs have a letter or letters in brackets after the name.  To allow us to match this up with the voucher data we remove this and convert to uppercase. \n",
    "\n",
    "For each LGA the data includes a number of measures all of which could be useful in your exploration.  "
   ]
  },
  {
   "cell_type": "code",
   "execution_count": 3,
   "metadata": {},
   "outputs": [
    {
     "name": "stderr",
     "output_type": "stream",
     "text": [
      "C:\\Users\\Rudol\\anaconda3\\lib\\site-packages\\ipykernel_launcher.py:3: FutureWarning: The default value of regex will change from True to False in a future version.\n",
      "  This is separate from the ipykernel package so we can avoid doing imports until\n"
     ]
    },
    {
     "data": {
      "text/html": [
       "<div>\n",
       "<style scoped>\n",
       "    .dataframe tbody tr th:only-of-type {\n",
       "        vertical-align: middle;\n",
       "    }\n",
       "\n",
       "    .dataframe tbody tr th {\n",
       "        vertical-align: top;\n",
       "    }\n",
       "\n",
       "    .dataframe thead th {\n",
       "        text-align: right;\n",
       "    }\n",
       "</style>\n",
       "<table border=\"1\" class=\"dataframe\">\n",
       "  <thead>\n",
       "    <tr style=\"text-align: right;\">\n",
       "      <th></th>\n",
       "      <th>LGA_2011</th>\n",
       "      <th>Local Government Areas - 2011</th>\n",
       "      <th>INDEX_TYPE</th>\n",
       "      <th>Index Type</th>\n",
       "      <th>MEASURE</th>\n",
       "      <th>Measure</th>\n",
       "      <th>Value</th>\n",
       "      <th>LGA</th>\n",
       "    </tr>\n",
       "  </thead>\n",
       "  <tbody>\n",
       "    <tr>\n",
       "      <th>0</th>\n",
       "      <td>10050</td>\n",
       "      <td>Albury (C)</td>\n",
       "      <td>IRSAD</td>\n",
       "      <td>Index of Relative Socio-economic Advantage and...</td>\n",
       "      <td>SCORE</td>\n",
       "      <td>Score</td>\n",
       "      <td>967</td>\n",
       "      <td>ALBURY</td>\n",
       "    </tr>\n",
       "    <tr>\n",
       "      <th>1</th>\n",
       "      <td>10050</td>\n",
       "      <td>Albury (C)</td>\n",
       "      <td>IRSAD</td>\n",
       "      <td>Index of Relative Socio-economic Advantage and...</td>\n",
       "      <td>MINS</td>\n",
       "      <td>Minimum score for SA1s in area</td>\n",
       "      <td>628</td>\n",
       "      <td>ALBURY</td>\n",
       "    </tr>\n",
       "    <tr>\n",
       "      <th>2</th>\n",
       "      <td>10050</td>\n",
       "      <td>Albury (C)</td>\n",
       "      <td>IRSAD</td>\n",
       "      <td>Index of Relative Socio-economic Advantage and...</td>\n",
       "      <td>MAXS</td>\n",
       "      <td>Maximum score for SA1s in area</td>\n",
       "      <td>1169</td>\n",
       "      <td>ALBURY</td>\n",
       "    </tr>\n",
       "    <tr>\n",
       "      <th>3</th>\n",
       "      <td>10050</td>\n",
       "      <td>Albury (C)</td>\n",
       "      <td>IRSAD</td>\n",
       "      <td>Index of Relative Socio-economic Advantage and...</td>\n",
       "      <td>URP</td>\n",
       "      <td>Usual resident population</td>\n",
       "      <td>47851</td>\n",
       "      <td>ALBURY</td>\n",
       "    </tr>\n",
       "    <tr>\n",
       "      <th>4</th>\n",
       "      <td>10110</td>\n",
       "      <td>Armidale Dumaresq (A)</td>\n",
       "      <td>IRSAD</td>\n",
       "      <td>Index of Relative Socio-economic Advantage and...</td>\n",
       "      <td>SCORE</td>\n",
       "      <td>Score</td>\n",
       "      <td>985</td>\n",
       "      <td>ARMIDALE DUMARESQ</td>\n",
       "    </tr>\n",
       "  </tbody>\n",
       "</table>\n",
       "</div>"
      ],
      "text/plain": [
       "   LGA_2011 Local Government Areas - 2011 INDEX_TYPE  \\\n",
       "0     10050                    Albury (C)      IRSAD   \n",
       "1     10050                    Albury (C)      IRSAD   \n",
       "2     10050                    Albury (C)      IRSAD   \n",
       "3     10050                    Albury (C)      IRSAD   \n",
       "4     10110         Armidale Dumaresq (A)      IRSAD   \n",
       "\n",
       "                                          Index Type MEASURE  \\\n",
       "0  Index of Relative Socio-economic Advantage and...   SCORE   \n",
       "1  Index of Relative Socio-economic Advantage and...    MINS   \n",
       "2  Index of Relative Socio-economic Advantage and...    MAXS   \n",
       "3  Index of Relative Socio-economic Advantage and...     URP   \n",
       "4  Index of Relative Socio-economic Advantage and...   SCORE   \n",
       "\n",
       "                          Measure  Value                LGA  \n",
       "0                           Score    967             ALBURY  \n",
       "1  Minimum score for SA1s in area    628             ALBURY  \n",
       "2  Maximum score for SA1s in area   1169             ALBURY  \n",
       "3       Usual resident population  47851             ALBURY  \n",
       "4                           Score    985  ARMIDALE DUMARESQ  "
      ]
     },
     "execution_count": 3,
     "metadata": {},
     "output_type": "execute_result"
    }
   ],
   "source": [
    "# read the SEIFA data, create an LGA column by removing the letters in brackets and converting to uppercase\n",
    "seifa = pd.read_csv('files/ABS_SEIFA_LGA.csv')\n",
    "lga = seifa[\"Local Government Areas - 2011\"].str.replace(' \\([ACSRCDMT]+\\)', '').str.upper()\n",
    "seifa['LGA'] = lga\n",
    "seifa.head()"
   ]
  },
  {
   "cell_type": "code",
   "execution_count": 4,
   "metadata": {},
   "outputs": [
    {
     "data": {
      "text/html": [
       "<div>\n",
       "<style scoped>\n",
       "    .dataframe tbody tr th:only-of-type {\n",
       "        vertical-align: middle;\n",
       "    }\n",
       "\n",
       "    .dataframe tbody tr th {\n",
       "        vertical-align: top;\n",
       "    }\n",
       "\n",
       "    .dataframe thead th {\n",
       "        text-align: right;\n",
       "    }\n",
       "</style>\n",
       "<table border=\"1\" class=\"dataframe\">\n",
       "  <thead>\n",
       "    <tr style=\"text-align: right;\">\n",
       "      <th></th>\n",
       "      <th>LGA_2011</th>\n",
       "      <th>Local Government Areas - 2011</th>\n",
       "      <th>INDEX_TYPE</th>\n",
       "      <th>Index Type</th>\n",
       "      <th>MEASURE</th>\n",
       "      <th>Measure</th>\n",
       "      <th>Value</th>\n",
       "      <th>LGA</th>\n",
       "    </tr>\n",
       "  </thead>\n",
       "  <tbody>\n",
       "    <tr>\n",
       "      <th>1392</th>\n",
       "      <td>45340</td>\n",
       "      <td>Onkaparinga (C)</td>\n",
       "      <td>IRSAD</td>\n",
       "      <td>Index of Relative Socio-economic Advantage and...</td>\n",
       "      <td>SCORE</td>\n",
       "      <td>Score</td>\n",
       "      <td>975</td>\n",
       "      <td>ONKAPARINGA</td>\n",
       "    </tr>\n",
       "    <tr>\n",
       "      <th>1393</th>\n",
       "      <td>45340</td>\n",
       "      <td>Onkaparinga (C)</td>\n",
       "      <td>IRSAD</td>\n",
       "      <td>Index of Relative Socio-economic Advantage and...</td>\n",
       "      <td>MINS</td>\n",
       "      <td>Minimum score for SA1s in area</td>\n",
       "      <td>672</td>\n",
       "      <td>ONKAPARINGA</td>\n",
       "    </tr>\n",
       "    <tr>\n",
       "      <th>1394</th>\n",
       "      <td>45340</td>\n",
       "      <td>Onkaparinga (C)</td>\n",
       "      <td>IRSAD</td>\n",
       "      <td>Index of Relative Socio-economic Advantage and...</td>\n",
       "      <td>MAXS</td>\n",
       "      <td>Maximum score for SA1s in area</td>\n",
       "      <td>1152</td>\n",
       "      <td>ONKAPARINGA</td>\n",
       "    </tr>\n",
       "    <tr>\n",
       "      <th>1395</th>\n",
       "      <td>45340</td>\n",
       "      <td>Onkaparinga (C)</td>\n",
       "      <td>IRSAD</td>\n",
       "      <td>Index of Relative Socio-economic Advantage and...</td>\n",
       "      <td>URP</td>\n",
       "      <td>Usual resident population</td>\n",
       "      <td>159517</td>\n",
       "      <td>ONKAPARINGA</td>\n",
       "    </tr>\n",
       "    <tr>\n",
       "      <th>3648</th>\n",
       "      <td>45340</td>\n",
       "      <td>Onkaparinga (C)</td>\n",
       "      <td>IRSD</td>\n",
       "      <td>Index of Relative Socio-economic Disadvantage</td>\n",
       "      <td>SCORE</td>\n",
       "      <td>Score</td>\n",
       "      <td>993</td>\n",
       "      <td>ONKAPARINGA</td>\n",
       "    </tr>\n",
       "    <tr>\n",
       "      <th>3649</th>\n",
       "      <td>45340</td>\n",
       "      <td>Onkaparinga (C)</td>\n",
       "      <td>IRSD</td>\n",
       "      <td>Index of Relative Socio-economic Disadvantage</td>\n",
       "      <td>MINS</td>\n",
       "      <td>Minimum score for SA1s in area</td>\n",
       "      <td>637</td>\n",
       "      <td>ONKAPARINGA</td>\n",
       "    </tr>\n",
       "    <tr>\n",
       "      <th>3650</th>\n",
       "      <td>45340</td>\n",
       "      <td>Onkaparinga (C)</td>\n",
       "      <td>IRSD</td>\n",
       "      <td>Index of Relative Socio-economic Disadvantage</td>\n",
       "      <td>MAXS</td>\n",
       "      <td>Maximum score for SA1s in area</td>\n",
       "      <td>1141</td>\n",
       "      <td>ONKAPARINGA</td>\n",
       "    </tr>\n",
       "    <tr>\n",
       "      <th>3651</th>\n",
       "      <td>45340</td>\n",
       "      <td>Onkaparinga (C)</td>\n",
       "      <td>IRSD</td>\n",
       "      <td>Index of Relative Socio-economic Disadvantage</td>\n",
       "      <td>URP</td>\n",
       "      <td>Usual resident population</td>\n",
       "      <td>159517</td>\n",
       "      <td>ONKAPARINGA</td>\n",
       "    </tr>\n",
       "    <tr>\n",
       "      <th>5904</th>\n",
       "      <td>45340</td>\n",
       "      <td>Onkaparinga (C)</td>\n",
       "      <td>IER</td>\n",
       "      <td>Index of Economic Resources</td>\n",
       "      <td>SCORE</td>\n",
       "      <td>Score</td>\n",
       "      <td>996</td>\n",
       "      <td>ONKAPARINGA</td>\n",
       "    </tr>\n",
       "    <tr>\n",
       "      <th>5905</th>\n",
       "      <td>45340</td>\n",
       "      <td>Onkaparinga (C)</td>\n",
       "      <td>IER</td>\n",
       "      <td>Index of Economic Resources</td>\n",
       "      <td>MINS</td>\n",
       "      <td>Minimum score for SA1s in area</td>\n",
       "      <td>674</td>\n",
       "      <td>ONKAPARINGA</td>\n",
       "    </tr>\n",
       "    <tr>\n",
       "      <th>5906</th>\n",
       "      <td>45340</td>\n",
       "      <td>Onkaparinga (C)</td>\n",
       "      <td>IER</td>\n",
       "      <td>Index of Economic Resources</td>\n",
       "      <td>MAXS</td>\n",
       "      <td>Maximum score for SA1s in area</td>\n",
       "      <td>1190</td>\n",
       "      <td>ONKAPARINGA</td>\n",
       "    </tr>\n",
       "    <tr>\n",
       "      <th>5907</th>\n",
       "      <td>45340</td>\n",
       "      <td>Onkaparinga (C)</td>\n",
       "      <td>IER</td>\n",
       "      <td>Index of Economic Resources</td>\n",
       "      <td>URP</td>\n",
       "      <td>Usual resident population</td>\n",
       "      <td>159517</td>\n",
       "      <td>ONKAPARINGA</td>\n",
       "    </tr>\n",
       "    <tr>\n",
       "      <th>8160</th>\n",
       "      <td>45340</td>\n",
       "      <td>Onkaparinga (C)</td>\n",
       "      <td>IEO</td>\n",
       "      <td>Index of Education and Occupation</td>\n",
       "      <td>SCORE</td>\n",
       "      <td>Score</td>\n",
       "      <td>996</td>\n",
       "      <td>ONKAPARINGA</td>\n",
       "    </tr>\n",
       "    <tr>\n",
       "      <th>8161</th>\n",
       "      <td>45340</td>\n",
       "      <td>Onkaparinga (C)</td>\n",
       "      <td>IEO</td>\n",
       "      <td>Index of Education and Occupation</td>\n",
       "      <td>MINS</td>\n",
       "      <td>Minimum score for SA1s in area</td>\n",
       "      <td>674</td>\n",
       "      <td>ONKAPARINGA</td>\n",
       "    </tr>\n",
       "    <tr>\n",
       "      <th>8162</th>\n",
       "      <td>45340</td>\n",
       "      <td>Onkaparinga (C)</td>\n",
       "      <td>IEO</td>\n",
       "      <td>Index of Education and Occupation</td>\n",
       "      <td>MAXS</td>\n",
       "      <td>Maximum score for SA1s in area</td>\n",
       "      <td>1190</td>\n",
       "      <td>ONKAPARINGA</td>\n",
       "    </tr>\n",
       "    <tr>\n",
       "      <th>8163</th>\n",
       "      <td>45340</td>\n",
       "      <td>Onkaparinga (C)</td>\n",
       "      <td>IEO</td>\n",
       "      <td>Index of Education and Occupation</td>\n",
       "      <td>URP</td>\n",
       "      <td>Usual resident population</td>\n",
       "      <td>159517</td>\n",
       "      <td>ONKAPARINGA</td>\n",
       "    </tr>\n",
       "  </tbody>\n",
       "</table>\n",
       "</div>"
      ],
      "text/plain": [
       "      LGA_2011 Local Government Areas - 2011 INDEX_TYPE  \\\n",
       "1392     45340               Onkaparinga (C)      IRSAD   \n",
       "1393     45340               Onkaparinga (C)      IRSAD   \n",
       "1394     45340               Onkaparinga (C)      IRSAD   \n",
       "1395     45340               Onkaparinga (C)      IRSAD   \n",
       "3648     45340               Onkaparinga (C)       IRSD   \n",
       "3649     45340               Onkaparinga (C)       IRSD   \n",
       "3650     45340               Onkaparinga (C)       IRSD   \n",
       "3651     45340               Onkaparinga (C)       IRSD   \n",
       "5904     45340               Onkaparinga (C)        IER   \n",
       "5905     45340               Onkaparinga (C)        IER   \n",
       "5906     45340               Onkaparinga (C)        IER   \n",
       "5907     45340               Onkaparinga (C)        IER   \n",
       "8160     45340               Onkaparinga (C)        IEO   \n",
       "8161     45340               Onkaparinga (C)        IEO   \n",
       "8162     45340               Onkaparinga (C)        IEO   \n",
       "8163     45340               Onkaparinga (C)        IEO   \n",
       "\n",
       "                                             Index Type MEASURE  \\\n",
       "1392  Index of Relative Socio-economic Advantage and...   SCORE   \n",
       "1393  Index of Relative Socio-economic Advantage and...    MINS   \n",
       "1394  Index of Relative Socio-economic Advantage and...    MAXS   \n",
       "1395  Index of Relative Socio-economic Advantage and...     URP   \n",
       "3648      Index of Relative Socio-economic Disadvantage   SCORE   \n",
       "3649      Index of Relative Socio-economic Disadvantage    MINS   \n",
       "3650      Index of Relative Socio-economic Disadvantage    MAXS   \n",
       "3651      Index of Relative Socio-economic Disadvantage     URP   \n",
       "5904                        Index of Economic Resources   SCORE   \n",
       "5905                        Index of Economic Resources    MINS   \n",
       "5906                        Index of Economic Resources    MAXS   \n",
       "5907                        Index of Economic Resources     URP   \n",
       "8160                  Index of Education and Occupation   SCORE   \n",
       "8161                  Index of Education and Occupation    MINS   \n",
       "8162                  Index of Education and Occupation    MAXS   \n",
       "8163                  Index of Education and Occupation     URP   \n",
       "\n",
       "                             Measure   Value          LGA  \n",
       "1392                           Score     975  ONKAPARINGA  \n",
       "1393  Minimum score for SA1s in area     672  ONKAPARINGA  \n",
       "1394  Maximum score for SA1s in area    1152  ONKAPARINGA  \n",
       "1395       Usual resident population  159517  ONKAPARINGA  \n",
       "3648                           Score     993  ONKAPARINGA  \n",
       "3649  Minimum score for SA1s in area     637  ONKAPARINGA  \n",
       "3650  Maximum score for SA1s in area    1141  ONKAPARINGA  \n",
       "3651       Usual resident population  159517  ONKAPARINGA  \n",
       "5904                           Score     996  ONKAPARINGA  \n",
       "5905  Minimum score for SA1s in area     674  ONKAPARINGA  \n",
       "5906  Maximum score for SA1s in area    1190  ONKAPARINGA  \n",
       "5907       Usual resident population  159517  ONKAPARINGA  \n",
       "8160                           Score     996  ONKAPARINGA  \n",
       "8161  Minimum score for SA1s in area     674  ONKAPARINGA  \n",
       "8162  Maximum score for SA1s in area    1190  ONKAPARINGA  \n",
       "8163       Usual resident population  159517  ONKAPARINGA  "
      ]
     },
     "execution_count": 4,
     "metadata": {},
     "output_type": "execute_result"
    }
   ],
   "source": [
    "seifa[seifa['LGA'] == 'ONKAPARINGA']"
   ]
  },
  {
   "cell_type": "markdown",
   "metadata": {},
   "source": [
    "Since there are many rows per LGA we need to use `pivot_table` to create a new data frame with one row per LGA. Here\n",
    "is an example of doing this to create a table with the different SCORE measures and the population (URP) field. "
   ]
  },
  {
   "cell_type": "code",
   "execution_count": 5,
   "metadata": {},
   "outputs": [
    {
     "data": {
      "text/html": [
       "<div>\n",
       "<style scoped>\n",
       "    .dataframe tbody tr th:only-of-type {\n",
       "        vertical-align: middle;\n",
       "    }\n",
       "\n",
       "    .dataframe tbody tr th {\n",
       "        vertical-align: top;\n",
       "    }\n",
       "\n",
       "    .dataframe thead th {\n",
       "        text-align: right;\n",
       "    }\n",
       "</style>\n",
       "<table border=\"1\" class=\"dataframe\">\n",
       "  <thead>\n",
       "    <tr style=\"text-align: right;\">\n",
       "      <th>INDEX_TYPE</th>\n",
       "      <th>IEO</th>\n",
       "      <th>IER</th>\n",
       "      <th>IRSAD</th>\n",
       "      <th>IRSD</th>\n",
       "    </tr>\n",
       "    <tr>\n",
       "      <th>LGA</th>\n",
       "      <th></th>\n",
       "      <th></th>\n",
       "      <th></th>\n",
       "      <th></th>\n",
       "    </tr>\n",
       "  </thead>\n",
       "  <tbody>\n",
       "    <tr>\n",
       "      <th>ADELAIDE</th>\n",
       "      <td>874.0</td>\n",
       "      <td>874.0</td>\n",
       "      <td>1036.0</td>\n",
       "      <td>1013.0</td>\n",
       "    </tr>\n",
       "    <tr>\n",
       "      <th>ADELAIDE HILLS</th>\n",
       "      <td>1083.0</td>\n",
       "      <td>1083.0</td>\n",
       "      <td>1077.0</td>\n",
       "      <td>1081.0</td>\n",
       "    </tr>\n",
       "    <tr>\n",
       "      <th>ALBANY</th>\n",
       "      <td>999.0</td>\n",
       "      <td>999.0</td>\n",
       "      <td>977.0</td>\n",
       "      <td>987.0</td>\n",
       "    </tr>\n",
       "    <tr>\n",
       "      <th>ALBURY</th>\n",
       "      <td>964.0</td>\n",
       "      <td>964.0</td>\n",
       "      <td>967.0</td>\n",
       "      <td>979.0</td>\n",
       "    </tr>\n",
       "    <tr>\n",
       "      <th>ALEXANDRINA</th>\n",
       "      <td>1000.0</td>\n",
       "      <td>1000.0</td>\n",
       "      <td>969.0</td>\n",
       "      <td>987.0</td>\n",
       "    </tr>\n",
       "  </tbody>\n",
       "</table>\n",
       "</div>"
      ],
      "text/plain": [
       "INDEX_TYPE         IEO     IER   IRSAD    IRSD\n",
       "LGA                                           \n",
       "ADELAIDE         874.0   874.0  1036.0  1013.0\n",
       "ADELAIDE HILLS  1083.0  1083.0  1077.0  1081.0\n",
       "ALBANY           999.0   999.0   977.0   987.0\n",
       "ALBURY           964.0   964.0   967.0   979.0\n",
       "ALEXANDRINA     1000.0  1000.0   969.0   987.0"
      ]
     },
     "execution_count": 5,
     "metadata": {},
     "output_type": "execute_result"
    }
   ],
   "source": [
    "LGA_scores = seifa[seifa.MEASURE == 'SCORE'].pivot_table(index=\"LGA\", columns=[\"INDEX_TYPE\"], values=\"Value\")\n",
    "LGA_scores.head()"
   ]
  },
  {
   "cell_type": "code",
   "execution_count": 6,
   "metadata": {},
   "outputs": [
    {
     "data": {
      "text/html": [
       "<div>\n",
       "<style scoped>\n",
       "    .dataframe tbody tr th:only-of-type {\n",
       "        vertical-align: middle;\n",
       "    }\n",
       "\n",
       "    .dataframe tbody tr th {\n",
       "        vertical-align: top;\n",
       "    }\n",
       "\n",
       "    .dataframe thead th {\n",
       "        text-align: right;\n",
       "    }\n",
       "</style>\n",
       "<table border=\"1\" class=\"dataframe\">\n",
       "  <thead>\n",
       "    <tr style=\"text-align: right;\">\n",
       "      <th>INDEX_TYPE</th>\n",
       "      <th>IEO</th>\n",
       "      <th>IER</th>\n",
       "      <th>IRSAD</th>\n",
       "      <th>IRSD</th>\n",
       "    </tr>\n",
       "    <tr>\n",
       "      <th>LGA</th>\n",
       "      <th></th>\n",
       "      <th></th>\n",
       "      <th></th>\n",
       "      <th></th>\n",
       "    </tr>\n",
       "  </thead>\n",
       "  <tbody>\n",
       "    <tr>\n",
       "      <th>ADELAIDE</th>\n",
       "      <td>19606.0</td>\n",
       "      <td>19606.0</td>\n",
       "      <td>19606.0</td>\n",
       "      <td>19606.0</td>\n",
       "    </tr>\n",
       "    <tr>\n",
       "      <th>ADELAIDE HILLS</th>\n",
       "      <td>38601.0</td>\n",
       "      <td>38601.0</td>\n",
       "      <td>38601.0</td>\n",
       "      <td>38601.0</td>\n",
       "    </tr>\n",
       "    <tr>\n",
       "      <th>ALBANY</th>\n",
       "      <td>33614.0</td>\n",
       "      <td>33614.0</td>\n",
       "      <td>33614.0</td>\n",
       "      <td>33614.0</td>\n",
       "    </tr>\n",
       "    <tr>\n",
       "      <th>ALBURY</th>\n",
       "      <td>47851.0</td>\n",
       "      <td>47851.0</td>\n",
       "      <td>47851.0</td>\n",
       "      <td>47851.0</td>\n",
       "    </tr>\n",
       "    <tr>\n",
       "      <th>ALEXANDRINA</th>\n",
       "      <td>23693.0</td>\n",
       "      <td>23693.0</td>\n",
       "      <td>23693.0</td>\n",
       "      <td>23693.0</td>\n",
       "    </tr>\n",
       "  </tbody>\n",
       "</table>\n",
       "</div>"
      ],
      "text/plain": [
       "INDEX_TYPE          IEO      IER    IRSAD     IRSD\n",
       "LGA                                               \n",
       "ADELAIDE        19606.0  19606.0  19606.0  19606.0\n",
       "ADELAIDE HILLS  38601.0  38601.0  38601.0  38601.0\n",
       "ALBANY          33614.0  33614.0  33614.0  33614.0\n",
       "ALBURY          47851.0  47851.0  47851.0  47851.0\n",
       "ALEXANDRINA     23693.0  23693.0  23693.0  23693.0"
      ]
     },
     "execution_count": 6,
     "metadata": {},
     "output_type": "execute_result"
    }
   ],
   "source": [
    "LGA_pop = seifa[seifa.MEASURE == 'URP'].pivot_table(index=\"LGA\", columns=[\"INDEX_TYPE\"], values=\"Value\")\n",
    "LGA_pop.head()"
   ]
  },
  {
   "cell_type": "code",
   "execution_count": 7,
   "metadata": {},
   "outputs": [
    {
     "data": {
      "text/html": [
       "<div>\n",
       "<style scoped>\n",
       "    .dataframe tbody tr th:only-of-type {\n",
       "        vertical-align: middle;\n",
       "    }\n",
       "\n",
       "    .dataframe tbody tr th {\n",
       "        vertical-align: top;\n",
       "    }\n",
       "\n",
       "    .dataframe thead th {\n",
       "        text-align: right;\n",
       "    }\n",
       "</style>\n",
       "<table border=\"1\" class=\"dataframe\">\n",
       "  <thead>\n",
       "    <tr style=\"text-align: right;\">\n",
       "      <th>INDEX_TYPE</th>\n",
       "      <th>IEO</th>\n",
       "      <th>IER</th>\n",
       "      <th>IRSAD</th>\n",
       "      <th>IRSD</th>\n",
       "      <th>Population</th>\n",
       "    </tr>\n",
       "    <tr>\n",
       "      <th>LGA</th>\n",
       "      <th></th>\n",
       "      <th></th>\n",
       "      <th></th>\n",
       "      <th></th>\n",
       "      <th></th>\n",
       "    </tr>\n",
       "  </thead>\n",
       "  <tbody>\n",
       "    <tr>\n",
       "      <th>ADELAIDE</th>\n",
       "      <td>874.0</td>\n",
       "      <td>874.0</td>\n",
       "      <td>1036.0</td>\n",
       "      <td>1013.0</td>\n",
       "      <td>19606.0</td>\n",
       "    </tr>\n",
       "    <tr>\n",
       "      <th>ADELAIDE HILLS</th>\n",
       "      <td>1083.0</td>\n",
       "      <td>1083.0</td>\n",
       "      <td>1077.0</td>\n",
       "      <td>1081.0</td>\n",
       "      <td>38601.0</td>\n",
       "    </tr>\n",
       "    <tr>\n",
       "      <th>ALBANY</th>\n",
       "      <td>999.0</td>\n",
       "      <td>999.0</td>\n",
       "      <td>977.0</td>\n",
       "      <td>987.0</td>\n",
       "      <td>33614.0</td>\n",
       "    </tr>\n",
       "    <tr>\n",
       "      <th>ALBURY</th>\n",
       "      <td>964.0</td>\n",
       "      <td>964.0</td>\n",
       "      <td>967.0</td>\n",
       "      <td>979.0</td>\n",
       "      <td>47851.0</td>\n",
       "    </tr>\n",
       "    <tr>\n",
       "      <th>ALEXANDRINA</th>\n",
       "      <td>1000.0</td>\n",
       "      <td>1000.0</td>\n",
       "      <td>969.0</td>\n",
       "      <td>987.0</td>\n",
       "      <td>23693.0</td>\n",
       "    </tr>\n",
       "  </tbody>\n",
       "</table>\n",
       "</div>"
      ],
      "text/plain": [
       "INDEX_TYPE         IEO     IER   IRSAD    IRSD  Population\n",
       "LGA                                                       \n",
       "ADELAIDE         874.0   874.0  1036.0  1013.0     19606.0\n",
       "ADELAIDE HILLS  1083.0  1083.0  1077.0  1081.0     38601.0\n",
       "ALBANY           999.0   999.0   977.0   987.0     33614.0\n",
       "ALBURY           964.0   964.0   967.0   979.0     47851.0\n",
       "ALEXANDRINA     1000.0  1000.0   969.0   987.0     23693.0"
      ]
     },
     "execution_count": 7,
     "metadata": {},
     "output_type": "execute_result"
    }
   ],
   "source": [
    "LGA_scores['Population'] = LGA_pop.IEO\n",
    "LGA_scores.head()"
   ]
  },
  {
   "cell_type": "markdown",
   "metadata": {},
   "source": [
    "This data frame can then be joined with the vouchers data fram to create one master data frame containing both the voucher data and the SEIFA measures."
   ]
  },
  {
   "cell_type": "code",
   "execution_count": 8,
   "metadata": {},
   "outputs": [
    {
     "data": {
      "text/html": [
       "<div>\n",
       "<style scoped>\n",
       "    .dataframe tbody tr th:only-of-type {\n",
       "        vertical-align: middle;\n",
       "    }\n",
       "\n",
       "    .dataframe tbody tr th {\n",
       "        vertical-align: top;\n",
       "    }\n",
       "\n",
       "    .dataframe thead th {\n",
       "        text-align: right;\n",
       "    }\n",
       "</style>\n",
       "<table border=\"1\" class=\"dataframe\">\n",
       "  <thead>\n",
       "    <tr style=\"text-align: right;\">\n",
       "      <th></th>\n",
       "      <th>Participant_ID</th>\n",
       "      <th>Participant_Suburb</th>\n",
       "      <th>Club_Previous_Member</th>\n",
       "      <th>Participant_ATSI_Indicator</th>\n",
       "      <th>Participant_CALD_Indicator</th>\n",
       "      <th>Participant_Sex</th>\n",
       "      <th>Voucher_Value</th>\n",
       "      <th>Club_Name</th>\n",
       "      <th>Voucher_Sport</th>\n",
       "      <th>Participant_LGA</th>\n",
       "      <th>Participant_Electorate</th>\n",
       "      <th>Voucher_Completion_Date</th>\n",
       "      <th>Voucher_Claim_Year</th>\n",
       "      <th>IEO</th>\n",
       "      <th>IER</th>\n",
       "      <th>IRSAD</th>\n",
       "      <th>IRSD</th>\n",
       "      <th>Population</th>\n",
       "    </tr>\n",
       "  </thead>\n",
       "  <tbody>\n",
       "    <tr>\n",
       "      <th>0</th>\n",
       "      <td>1000002</td>\n",
       "      <td>ABERFOYLE PARK</td>\n",
       "      <td>Registered Previously</td>\n",
       "      <td>Not ATSI</td>\n",
       "      <td>Not CALD</td>\n",
       "      <td>Male</td>\n",
       "      <td>50</td>\n",
       "      <td>Flagstaff Hill Football Club</td>\n",
       "      <td>Australian Rules</td>\n",
       "      <td>ONKAPARINGA</td>\n",
       "      <td>FISHER</td>\n",
       "      <td>26/6/15 1:19</td>\n",
       "      <td>2015</td>\n",
       "      <td>996.0</td>\n",
       "      <td>996.0</td>\n",
       "      <td>975.0</td>\n",
       "      <td>993.0</td>\n",
       "      <td>159517.0</td>\n",
       "    </tr>\n",
       "    <tr>\n",
       "      <th>1</th>\n",
       "      <td>1000002</td>\n",
       "      <td>ABERFOYLE PARK</td>\n",
       "      <td>Registered Previously</td>\n",
       "      <td>Not ATSI</td>\n",
       "      <td>Not CALD</td>\n",
       "      <td>Male</td>\n",
       "      <td>50</td>\n",
       "      <td>Flagstaff Hill Football Club</td>\n",
       "      <td>Australian Rules</td>\n",
       "      <td>ONKAPARINGA</td>\n",
       "      <td>FISHER</td>\n",
       "      <td>29/6/16 23:55</td>\n",
       "      <td>2016</td>\n",
       "      <td>996.0</td>\n",
       "      <td>996.0</td>\n",
       "      <td>975.0</td>\n",
       "      <td>993.0</td>\n",
       "      <td>159517.0</td>\n",
       "    </tr>\n",
       "    <tr>\n",
       "      <th>2</th>\n",
       "      <td>1000004</td>\n",
       "      <td>ABERFOYLE PARK</td>\n",
       "      <td>Not Registered Previously</td>\n",
       "      <td>Not ATSI</td>\n",
       "      <td>Not CALD</td>\n",
       "      <td>Female</td>\n",
       "      <td>50</td>\n",
       "      <td>Hub Gymnastics Club</td>\n",
       "      <td>Gymnastics</td>\n",
       "      <td>ONKAPARINGA</td>\n",
       "      <td>FISHER</td>\n",
       "      <td>21/4/16 3:37</td>\n",
       "      <td>2016</td>\n",
       "      <td>996.0</td>\n",
       "      <td>996.0</td>\n",
       "      <td>975.0</td>\n",
       "      <td>993.0</td>\n",
       "      <td>159517.0</td>\n",
       "    </tr>\n",
       "    <tr>\n",
       "      <th>3</th>\n",
       "      <td>1000004</td>\n",
       "      <td>ABERFOYLE PARK</td>\n",
       "      <td>Registered Previously</td>\n",
       "      <td>Not ATSI</td>\n",
       "      <td>Not CALD</td>\n",
       "      <td>Female</td>\n",
       "      <td>50</td>\n",
       "      <td>Hub Gymnastics Club</td>\n",
       "      <td>Gymnastics</td>\n",
       "      <td>ONKAPARINGA</td>\n",
       "      <td>FISHER</td>\n",
       "      <td>30/3/17 0:47</td>\n",
       "      <td>2017</td>\n",
       "      <td>996.0</td>\n",
       "      <td>996.0</td>\n",
       "      <td>975.0</td>\n",
       "      <td>993.0</td>\n",
       "      <td>159517.0</td>\n",
       "    </tr>\n",
       "    <tr>\n",
       "      <th>4</th>\n",
       "      <td>1000005</td>\n",
       "      <td>ABERFOYLE PARK</td>\n",
       "      <td>Registered Previously</td>\n",
       "      <td>Not ATSI</td>\n",
       "      <td>Not CALD</td>\n",
       "      <td>Female</td>\n",
       "      <td>50</td>\n",
       "      <td>Blackwood Community Recreation Association</td>\n",
       "      <td>Gymnastics</td>\n",
       "      <td>ONKAPARINGA</td>\n",
       "      <td>FISHER</td>\n",
       "      <td>20/7/15 2:50</td>\n",
       "      <td>2015</td>\n",
       "      <td>996.0</td>\n",
       "      <td>996.0</td>\n",
       "      <td>975.0</td>\n",
       "      <td>993.0</td>\n",
       "      <td>159517.0</td>\n",
       "    </tr>\n",
       "  </tbody>\n",
       "</table>\n",
       "</div>"
      ],
      "text/plain": [
       "   Participant_ID Participant_Suburb       Club_Previous_Member  \\\n",
       "0         1000002     ABERFOYLE PARK      Registered Previously   \n",
       "1         1000002     ABERFOYLE PARK      Registered Previously   \n",
       "2         1000004     ABERFOYLE PARK  Not Registered Previously   \n",
       "3         1000004     ABERFOYLE PARK      Registered Previously   \n",
       "4         1000005     ABERFOYLE PARK      Registered Previously   \n",
       "\n",
       "  Participant_ATSI_Indicator Participant_CALD_Indicator Participant_Sex  \\\n",
       "0                   Not ATSI                   Not CALD            Male   \n",
       "1                   Not ATSI                   Not CALD            Male   \n",
       "2                   Not ATSI                   Not CALD          Female   \n",
       "3                   Not ATSI                   Not CALD          Female   \n",
       "4                   Not ATSI                   Not CALD          Female   \n",
       "\n",
       "   Voucher_Value                                   Club_Name  \\\n",
       "0             50                Flagstaff Hill Football Club   \n",
       "1             50                Flagstaff Hill Football Club   \n",
       "2             50                         Hub Gymnastics Club   \n",
       "3             50                         Hub Gymnastics Club   \n",
       "4             50  Blackwood Community Recreation Association   \n",
       "\n",
       "      Voucher_Sport Participant_LGA Participant_Electorate  \\\n",
       "0  Australian Rules     ONKAPARINGA                 FISHER   \n",
       "1  Australian Rules     ONKAPARINGA                 FISHER   \n",
       "2        Gymnastics     ONKAPARINGA                 FISHER   \n",
       "3        Gymnastics     ONKAPARINGA                 FISHER   \n",
       "4        Gymnastics     ONKAPARINGA                 FISHER   \n",
       "\n",
       "  Voucher_Completion_Date  Voucher_Claim_Year    IEO    IER  IRSAD   IRSD  \\\n",
       "0            26/6/15 1:19                2015  996.0  996.0  975.0  993.0   \n",
       "1           29/6/16 23:55                2016  996.0  996.0  975.0  993.0   \n",
       "2            21/4/16 3:37                2016  996.0  996.0  975.0  993.0   \n",
       "3            30/3/17 0:47                2017  996.0  996.0  975.0  993.0   \n",
       "4            20/7/15 2:50                2015  996.0  996.0  975.0  993.0   \n",
       "\n",
       "   Population  \n",
       "0    159517.0  \n",
       "1    159517.0  \n",
       "2    159517.0  \n",
       "3    159517.0  \n",
       "4    159517.0  "
      ]
     },
     "execution_count": 8,
     "metadata": {},
     "output_type": "execute_result"
    }
   ],
   "source": [
    "sa_vouchers_scores = sa_vouchers.join(LGA_scores, on='Participant_LGA')\n",
    "sa_vouchers_scores.head()"
   ]
  },
  {
   "cell_type": "markdown",
   "metadata": {},
   "source": [
    "We can use the `.describe()` function to get a general idea of what the dataframe looks like"
   ]
  },
  {
   "cell_type": "code",
   "execution_count": 9,
   "metadata": {},
   "outputs": [
    {
     "data": {
      "text/html": [
       "<div>\n",
       "<style scoped>\n",
       "    .dataframe tbody tr th:only-of-type {\n",
       "        vertical-align: middle;\n",
       "    }\n",
       "\n",
       "    .dataframe tbody tr th {\n",
       "        vertical-align: top;\n",
       "    }\n",
       "\n",
       "    .dataframe thead th {\n",
       "        text-align: right;\n",
       "    }\n",
       "</style>\n",
       "<table border=\"1\" class=\"dataframe\">\n",
       "  <thead>\n",
       "    <tr style=\"text-align: right;\">\n",
       "      <th></th>\n",
       "      <th>Participant_ID</th>\n",
       "      <th>Voucher_Value</th>\n",
       "      <th>Voucher_Claim_Year</th>\n",
       "      <th>IEO</th>\n",
       "      <th>IER</th>\n",
       "      <th>IRSAD</th>\n",
       "      <th>IRSD</th>\n",
       "      <th>Population</th>\n",
       "    </tr>\n",
       "  </thead>\n",
       "  <tbody>\n",
       "    <tr>\n",
       "      <th>count</th>\n",
       "      <td>1.275260e+05</td>\n",
       "      <td>127526.000000</td>\n",
       "      <td>127526.000000</td>\n",
       "      <td>118066.000000</td>\n",
       "      <td>118066.000000</td>\n",
       "      <td>118066.000000</td>\n",
       "      <td>118066.000000</td>\n",
       "      <td>118066.000000</td>\n",
       "    </tr>\n",
       "    <tr>\n",
       "      <th>mean</th>\n",
       "      <td>1.063764e+06</td>\n",
       "      <td>49.663951</td>\n",
       "      <td>2015.915100</td>\n",
       "      <td>981.049942</td>\n",
       "      <td>981.049942</td>\n",
       "      <td>971.090416</td>\n",
       "      <td>981.756314</td>\n",
       "      <td>68014.296046</td>\n",
       "    </tr>\n",
       "    <tr>\n",
       "      <th>std</th>\n",
       "      <td>3.681374e+04</td>\n",
       "      <td>2.700970</td>\n",
       "      <td>0.765087</td>\n",
       "      <td>44.454505</td>\n",
       "      <td>44.454505</td>\n",
       "      <td>56.889280</td>\n",
       "      <td>55.538098</td>\n",
       "      <td>50470.140017</td>\n",
       "    </tr>\n",
       "    <tr>\n",
       "      <th>min</th>\n",
       "      <td>1.000002e+06</td>\n",
       "      <td>5.000000</td>\n",
       "      <td>2015.000000</td>\n",
       "      <td>870.000000</td>\n",
       "      <td>870.000000</td>\n",
       "      <td>808.000000</td>\n",
       "      <td>798.000000</td>\n",
       "      <td>871.000000</td>\n",
       "    </tr>\n",
       "    <tr>\n",
       "      <th>25%</th>\n",
       "      <td>1.031883e+06</td>\n",
       "      <td>50.000000</td>\n",
       "      <td>2015.000000</td>\n",
       "      <td>955.000000</td>\n",
       "      <td>955.000000</td>\n",
       "      <td>927.000000</td>\n",
       "      <td>937.000000</td>\n",
       "      <td>22070.000000</td>\n",
       "    </tr>\n",
       "    <tr>\n",
       "      <th>50%</th>\n",
       "      <td>1.063764e+06</td>\n",
       "      <td>50.000000</td>\n",
       "      <td>2016.000000</td>\n",
       "      <td>974.000000</td>\n",
       "      <td>974.000000</td>\n",
       "      <td>973.000000</td>\n",
       "      <td>987.000000</td>\n",
       "      <td>62912.000000</td>\n",
       "    </tr>\n",
       "    <tr>\n",
       "      <th>75%</th>\n",
       "      <td>1.095646e+06</td>\n",
       "      <td>50.000000</td>\n",
       "      <td>2017.000000</td>\n",
       "      <td>1013.000000</td>\n",
       "      <td>1013.000000</td>\n",
       "      <td>997.000000</td>\n",
       "      <td>1018.000000</td>\n",
       "      <td>104922.000000</td>\n",
       "    </tr>\n",
       "    <tr>\n",
       "      <th>max</th>\n",
       "      <td>1.127526e+06</td>\n",
       "      <td>50.000000</td>\n",
       "      <td>2017.000000</td>\n",
       "      <td>1083.000000</td>\n",
       "      <td>1083.000000</td>\n",
       "      <td>1090.000000</td>\n",
       "      <td>1096.000000</td>\n",
       "      <td>159517.000000</td>\n",
       "    </tr>\n",
       "  </tbody>\n",
       "</table>\n",
       "</div>"
      ],
      "text/plain": [
       "       Participant_ID  Voucher_Value  Voucher_Claim_Year            IEO  \\\n",
       "count    1.275260e+05  127526.000000       127526.000000  118066.000000   \n",
       "mean     1.063764e+06      49.663951         2015.915100     981.049942   \n",
       "std      3.681374e+04       2.700970            0.765087      44.454505   \n",
       "min      1.000002e+06       5.000000         2015.000000     870.000000   \n",
       "25%      1.031883e+06      50.000000         2015.000000     955.000000   \n",
       "50%      1.063764e+06      50.000000         2016.000000     974.000000   \n",
       "75%      1.095646e+06      50.000000         2017.000000    1013.000000   \n",
       "max      1.127526e+06      50.000000         2017.000000    1083.000000   \n",
       "\n",
       "                 IER          IRSAD           IRSD     Population  \n",
       "count  118066.000000  118066.000000  118066.000000  118066.000000  \n",
       "mean      981.049942     971.090416     981.756314   68014.296046  \n",
       "std        44.454505      56.889280      55.538098   50470.140017  \n",
       "min       870.000000     808.000000     798.000000     871.000000  \n",
       "25%       955.000000     927.000000     937.000000   22070.000000  \n",
       "50%       974.000000     973.000000     987.000000   62912.000000  \n",
       "75%      1013.000000     997.000000    1018.000000  104922.000000  \n",
       "max      1083.000000    1090.000000    1096.000000  159517.000000  "
      ]
     },
     "execution_count": 9,
     "metadata": {},
     "output_type": "execute_result"
    }
   ],
   "source": [
    "sa_vouchers_scores.describe()"
   ]
  },
  {
   "cell_type": "markdown",
   "metadata": {},
   "source": [
    "**Removing any uppercase words for ease of referencing the DF.**\n",
    "\n",
    "help from https://www.codegrepper.com/code-examples/python/convert+columns+to+lowercase+pandas"
   ]
  },
  {
   "cell_type": "code",
   "execution_count": 10,
   "metadata": {},
   "outputs": [],
   "source": [
    "# sa_vouchers.index = sa_vouchers.index.str.lower()\n",
    "\n",
    "# sa_vouchers_scores.index = sa_vouchers_scores.index.str.lower()\n",
    "\n",
    "# seifa.index = seifa.index.str.lower()\n",
    "\n",
    "LGA_scores.index = LGA_scores.index.str.lower()\n",
    "\n",
    "sa_vouchers.columns = sa_vouchers.columns.str.lower()\n",
    "\n",
    "sa_vouchers_scores.columns = sa_vouchers_scores.columns.str.lower()\n",
    "\n",
    "seifa.columns = seifa.columns.str.lower()\n",
    "\n",
    "sa_vouchers.columns = sa_vouchers.columns.str.lower()\n",
    "\n",
    "LGA_scores.columns = LGA_scores.columns.str.lower()"
   ]
  },
  {
   "cell_type": "markdown",
   "metadata": {
    "heading_collapsed": true
   },
   "source": [
    "### failed loop for trying to find the duplicate LGAs with different population size. "
   ]
  },
  {
   "cell_type": "raw",
   "metadata": {
    "hidden": true
   },
   "source": [
    "list(seifa['LGA'])"
   ]
  },
  {
   "cell_type": "raw",
   "metadata": {
    "hidden": true
   },
   "source": [
    "seifa.iloc[2256]"
   ]
  },
  {
   "cell_type": "raw",
   "metadata": {
    "hidden": true
   },
   "source": [
    "seifa[seifa['LGA'] == 'CAMPBELLTOWN']"
   ]
  },
  {
   "cell_type": "raw",
   "metadata": {
    "hidden": true
   },
   "source": [
    "list(seifa[(seifa['LGA'] == 'CAMPBELLTOWN')&(seifa['MEASURE']=='URP')]['Value'].index)"
   ]
  },
  {
   "cell_type": "raw",
   "metadata": {
    "hidden": true
   },
   "source": [
    "\n",
    "dupList= list(seifa[(seifa['LGA'] == 'ONKAPARINGA')&(seifa['MEASURE']=='URP')]['Value'].index)"
   ]
  },
  {
   "cell_type": "raw",
   "metadata": {
    "hidden": true
   },
   "source": [
    "dupList"
   ]
  },
  {
   "cell_type": "raw",
   "metadata": {
    "hidden": true
   },
   "source": [
    "dupList[0+1]"
   ]
  },
  {
   "cell_type": "raw",
   "metadata": {
    "hidden": true
   },
   "source": [
    "seifa.iloc[dupList]"
   ]
  },
  {
   "cell_type": "raw",
   "metadata": {
    "hidden": true
   },
   "source": [
    "seifa[(seifa['LGA'] == 'ONKAPARINGA')& (seifa['MEASURE'] == 'URP')]"
   ]
  },
  {
   "cell_type": "raw",
   "metadata": {
    "hidden": true
   },
   "source": [
    "dupList[0]"
   ]
  },
  {
   "cell_type": "raw",
   "metadata": {
    "hidden": true
   },
   "source": [
    "seifa['Value'][dupList[1]] == seifa['Value'][dupList[2]]"
   ]
  },
  {
   "cell_type": "raw",
   "metadata": {
    "hidden": true
   },
   "source": [
    "seifa[seifa['LGA'] =='ALBURY']"
   ]
  },
  {
   "cell_type": "raw",
   "metadata": {
    "hidden": true
   },
   "source": [
    "seifa[(seifa['LGA'] == 'ADELAIDE')&(seifa['MEASURE']=='URP')]"
   ]
  },
  {
   "cell_type": "raw",
   "metadata": {
    "hidden": true
   },
   "source": [
    "seifa[(seifa['LGA'] == lga)&(seifa['MEASURE']=='URP')]"
   ]
  },
  {
   "cell_type": "raw",
   "metadata": {
    "hidden": true
   },
   "source": [
    "dupList = []\n",
    "dupLoc = []\n",
    "for i, lga in enumerate(list(set(seifa['LGA']))):\n",
    "    dupList= list(seifa[(seifa['LGA'] == lga)&(seifa['MEASURE']=='URP')]['Value'].index)\n",
    "#     print(dupList)\n",
    "    print(i)\n",
    "    print(lga)\n",
    "    print(dupList)\n",
    "    print(len(dupList))\n",
    "#     print(dupList[i])\n",
    "    if len(dupList) ==2:\n",
    "        if seifa['Value'][dupList[0]] != seifa['Value'][dupList[1]] :\n",
    "            dupLoc.extend([dupList[1],dupList[1]])\n",
    "         \n",
    "    if len(dupList) ==4:\n",
    "        if seifa['Value'][dupList[0]] != seifa['Value'][dupList[1]] :\n",
    "            dupLoc.extend([dupList[1],dupList[1]])\n",
    "        if seifa['Value'][dupList[2]] != seifa['Value'][dupList[3]] :\n",
    "            dupLoc.extend([dupList[2],dupList[3]])\n",
    "\n",
    "    if len(dupList) ==6:\n",
    "        if seifa['Value'][dupList[0]] != seifa['Value'][dupList[1]] :\n",
    "            dupLoc.extend([dupList[1],dupList[1]])\n",
    "        if seifa['Value'][dupList[2]] != seifa['Value'][dupList[3]] :\n",
    "            dupLoc.extend([dupList[2],dupList[3]])\n",
    "        if seifa['Value'][dupList[4]] != seifa['Value'][dupList[5]] :\n",
    "            dupLoc.extend([dupList[4],dupList[5]])\n",
    "           \n",
    "    if len(dupList) ==8:  \n",
    "        if seifa['Value'][dupList[0]] != seifa['Value'][dupList[1]] :\n",
    "            dupLoc.extend([dupList[1],dupList[1]])\n",
    "        if seifa['Value'][dupList[2]] != seifa['Value'][dupList[3]] :\n",
    "            dupLoc.extend([dupList[2],dupList[3]])\n",
    "        if seifa['Value'][dupList[4]] != seifa['Value'][dupList[5]] :\n",
    "            dupLoc.extend([dupList[4],dupList[5]])\n",
    "        if seifa['Value'][dupList[6]] != seifa['Value'][dupList[7]] :\n",
    "            dupLoc.extend([dupList[6],dupList[7]])\n",
    "    print(dupLoc)"
   ]
  },
  {
   "cell_type": "raw",
   "metadata": {
    "hidden": true
   },
   "source": [
    "seifa['LGA'][3651]"
   ]
  },
  {
   "cell_type": "raw",
   "metadata": {
    "hidden": true
   },
   "source": [
    "LGA_scores.loc[x]"
   ]
  },
  {
   "cell_type": "raw",
   "metadata": {
    "hidden": true
   },
   "source": [
    "seifa.query('MEASURE==\"URP\" & INDEX_TYPE==\"IER\"')"
   ]
  },
  {
   "cell_type": "markdown",
   "metadata": {
    "heading_collapsed": true
   },
   "source": [
    "### does what the failed loop was supposed to do "
   ]
  },
  {
   "cell_type": "raw",
   "metadata": {
    "hidden": true
   },
   "source": [
    "duplicates = seifa.query('MEASURE==\"URP\" & INDEX_TYPE==\"IER\"')[seifa.query('MEASURE==\"URP\" & INDEX_TYPE==\"IER\"').duplicated(subset=['LGA'])].LGA"
   ]
  },
  {
   "cell_type": "raw",
   "metadata": {
    "hidden": true
   },
   "source": [
    "seifa.query('MEASURE==\"URP\" & INDEX_TYPE==\"IER\"')[seifa.query('MEASURE==\"URP\" & INDEX_TYPE==\"IER\"')['LGA'].isin(duplicates)].sort_values('LGA')"
   ]
  },
  {
   "cell_type": "raw",
   "metadata": {
    "hidden": true
   },
   "source": [
    "seifa[(seifa['LGA'] =='CAMPBELLTOWN') & (seifa[\"MEASURE\"]=='SCORE')]"
   ]
  },
  {
   "cell_type": "raw",
   "metadata": {
    "hidden": true
   },
   "source": [
    "LGA_scores.loc['CAMPBELLTOWN']"
   ]
  },
  {
   "cell_type": "markdown",
   "metadata": {
    "heading_collapsed": true
   },
   "source": [
    "# Index Definition"
   ]
  },
  {
   "cell_type": "markdown",
   "metadata": {
    "hidden": true
   },
   "source": [
    "From here https://www.abs.gov.au/ausstats/abs@.nsf/Lookup/by%20Subject/2033.0.55.001~2016~Main%20Features~IRSAD~20\n",
    "\n",
    "4 major indexes for every LGA. \n",
    "\n",
    "**IRSAD: index of relative socio economic advantage and disadvantage.**\n",
    "- summarises information about the economic and social conditions of people and households within an area. Includes both relative advantage and disadvantage. \n",
    "- low score = greater disadvatange, lack of advantage in general. \n",
    "- low scores = many households with low incomes, many people in unskilled occupations. OR few households with high incomes. Few people in skilled occupations. \n",
    "\n",
    "**IEO: Index of education and occupation.**\n",
    "- reflects the educational and occupational level of communities. \n",
    "- Education variables in this index show either the level of qualification achieved or wheteher further education is being undertaken. \n",
    "- Low score = relatively lower education and occupation status. \n",
    "- low score = many people without qualifications or many people in low skilled occuaptions or unemployed. AND few people with high level of qualification or highly skilled occupation. \n",
    "\n",
    "**IER: Index of economic resources.**\n",
    "- focus' on the financial aspects of relative socio-economic advantage and disadvantage. Summarises variables related to income and wealth. \n",
    "- low score = relative lack to economic resources in general. \n",
    "- low score = many households with low income, or many paying low rent. AND few households with high income, or few owned homes. \n",
    "\n",
    "**IRSD: The index of relative socio economic disadvantage.**\n",
    "- range of information about the economic and social conditions of people and households. \n",
    "- low score = relatively greater disadvantage in general. \n",
    "- low sore= many households with low income, people with no qualification OR many people in low skill occupations. "
   ]
  },
  {
   "cell_type": "markdown",
   "metadata": {
    "hidden": true
   },
   "source": [
    "**Local Government Areas - 2011** \n",
    "- Cities (C)\n",
    "- Rural Cities (RC)\n",
    "- Municipalities/Municipal Councils (M)\n",
    "- District Councils (DC)\n",
    "- Regional Councils (RegC)\n",
    "- Towns (T)\n",
    "- Aboriginal Councils (AC)"
   ]
  },
  {
   "cell_type": "markdown",
   "metadata": {},
   "source": [
    "# Question 1"
   ]
  },
  {
   "cell_type": "markdown",
   "metadata": {},
   "source": [
    " Describe the distribution of vouchers by: LGA, Sport - which regions/sports stand out?"
   ]
  },
  {
   "cell_type": "markdown",
   "metadata": {},
   "source": [
    "### setting up the DFs"
   ]
  },
  {
   "cell_type": "markdown",
   "metadata": {},
   "source": [
    "We know each row means a voucher has been claimed. \n",
    "\n",
    "Start off by checking how many unique LGAs there are. Then we can count how many times the LGA occurs. "
   ]
  },
  {
   "cell_type": "code",
   "execution_count": 11,
   "metadata": {},
   "outputs": [
    {
     "data": {
      "text/plain": [
       "69"
      ]
     },
     "execution_count": 11,
     "metadata": {},
     "output_type": "execute_result"
    }
   ],
   "source": [
    "len(set(sa_vouchers_scores['participant_lga']))"
   ]
  },
  {
   "cell_type": "markdown",
   "metadata": {},
   "source": [
    "It's quite difficult to use this type of dataframe due to the multi index. We can use `pivot` instead to make it more clear. \n",
    "\n",
    "Used help from the textbook for this part. Page 24, section 2.6.8\n",
    "\n"
   ]
  },
  {
   "cell_type": "code",
   "execution_count": 12,
   "metadata": {},
   "outputs": [],
   "source": [
    "group = (sa_vouchers_scores.groupby(['participant_lga','voucher_sport']).count()).copy(deep=True)"
   ]
  },
  {
   "cell_type": "code",
   "execution_count": 13,
   "metadata": {},
   "outputs": [
    {
     "data": {
      "text/html": [
       "<div>\n",
       "<style scoped>\n",
       "    .dataframe tbody tr th:only-of-type {\n",
       "        vertical-align: middle;\n",
       "    }\n",
       "\n",
       "    .dataframe tbody tr th {\n",
       "        vertical-align: top;\n",
       "    }\n",
       "\n",
       "    .dataframe thead th {\n",
       "        text-align: right;\n",
       "    }\n",
       "</style>\n",
       "<table border=\"1\" class=\"dataframe\">\n",
       "  <thead>\n",
       "    <tr style=\"text-align: right;\">\n",
       "      <th></th>\n",
       "      <th></th>\n",
       "      <th>participant_id</th>\n",
       "      <th>participant_suburb</th>\n",
       "      <th>club_previous_member</th>\n",
       "      <th>participant_atsi_indicator</th>\n",
       "      <th>participant_cald_indicator</th>\n",
       "      <th>participant_sex</th>\n",
       "      <th>voucher_value</th>\n",
       "      <th>club_name</th>\n",
       "      <th>participant_electorate</th>\n",
       "      <th>voucher_completion_date</th>\n",
       "      <th>voucher_claim_year</th>\n",
       "      <th>ieo</th>\n",
       "      <th>ier</th>\n",
       "      <th>irsad</th>\n",
       "      <th>irsd</th>\n",
       "      <th>population</th>\n",
       "    </tr>\n",
       "    <tr>\n",
       "      <th>participant_lga</th>\n",
       "      <th>voucher_sport</th>\n",
       "      <th></th>\n",
       "      <th></th>\n",
       "      <th></th>\n",
       "      <th></th>\n",
       "      <th></th>\n",
       "      <th></th>\n",
       "      <th></th>\n",
       "      <th></th>\n",
       "      <th></th>\n",
       "      <th></th>\n",
       "      <th></th>\n",
       "      <th></th>\n",
       "      <th></th>\n",
       "      <th></th>\n",
       "      <th></th>\n",
       "      <th></th>\n",
       "    </tr>\n",
       "  </thead>\n",
       "  <tbody>\n",
       "    <tr>\n",
       "      <th rowspan=\"5\" valign=\"top\">ADELAIDE</th>\n",
       "      <th>Athletics</th>\n",
       "      <td>16</td>\n",
       "      <td>16</td>\n",
       "      <td>16</td>\n",
       "      <td>16</td>\n",
       "      <td>16</td>\n",
       "      <td>16</td>\n",
       "      <td>16</td>\n",
       "      <td>16</td>\n",
       "      <td>16</td>\n",
       "      <td>16</td>\n",
       "      <td>16</td>\n",
       "      <td>16</td>\n",
       "      <td>16</td>\n",
       "      <td>16</td>\n",
       "      <td>16</td>\n",
       "      <td>16</td>\n",
       "    </tr>\n",
       "    <tr>\n",
       "      <th>Australian Rules</th>\n",
       "      <td>130</td>\n",
       "      <td>130</td>\n",
       "      <td>130</td>\n",
       "      <td>130</td>\n",
       "      <td>130</td>\n",
       "      <td>130</td>\n",
       "      <td>130</td>\n",
       "      <td>130</td>\n",
       "      <td>130</td>\n",
       "      <td>128</td>\n",
       "      <td>130</td>\n",
       "      <td>130</td>\n",
       "      <td>130</td>\n",
       "      <td>130</td>\n",
       "      <td>130</td>\n",
       "      <td>130</td>\n",
       "    </tr>\n",
       "    <tr>\n",
       "      <th>Baseball</th>\n",
       "      <td>1</td>\n",
       "      <td>1</td>\n",
       "      <td>1</td>\n",
       "      <td>1</td>\n",
       "      <td>1</td>\n",
       "      <td>1</td>\n",
       "      <td>1</td>\n",
       "      <td>1</td>\n",
       "      <td>1</td>\n",
       "      <td>1</td>\n",
       "      <td>1</td>\n",
       "      <td>1</td>\n",
       "      <td>1</td>\n",
       "      <td>1</td>\n",
       "      <td>1</td>\n",
       "      <td>1</td>\n",
       "    </tr>\n",
       "    <tr>\n",
       "      <th>Basketball</th>\n",
       "      <td>4</td>\n",
       "      <td>4</td>\n",
       "      <td>4</td>\n",
       "      <td>4</td>\n",
       "      <td>4</td>\n",
       "      <td>4</td>\n",
       "      <td>4</td>\n",
       "      <td>4</td>\n",
       "      <td>4</td>\n",
       "      <td>4</td>\n",
       "      <td>4</td>\n",
       "      <td>4</td>\n",
       "      <td>4</td>\n",
       "      <td>4</td>\n",
       "      <td>4</td>\n",
       "      <td>4</td>\n",
       "    </tr>\n",
       "    <tr>\n",
       "      <th>Calisthenics</th>\n",
       "      <td>1</td>\n",
       "      <td>1</td>\n",
       "      <td>1</td>\n",
       "      <td>1</td>\n",
       "      <td>1</td>\n",
       "      <td>1</td>\n",
       "      <td>1</td>\n",
       "      <td>1</td>\n",
       "      <td>1</td>\n",
       "      <td>1</td>\n",
       "      <td>1</td>\n",
       "      <td>1</td>\n",
       "      <td>1</td>\n",
       "      <td>1</td>\n",
       "      <td>1</td>\n",
       "      <td>1</td>\n",
       "    </tr>\n",
       "  </tbody>\n",
       "</table>\n",
       "</div>"
      ],
      "text/plain": [
       "                                  participant_id  participant_suburb  \\\n",
       "participant_lga voucher_sport                                          \n",
       "ADELAIDE        Athletics                     16                  16   \n",
       "                Australian Rules             130                 130   \n",
       "                Baseball                       1                   1   \n",
       "                Basketball                     4                   4   \n",
       "                Calisthenics                   1                   1   \n",
       "\n",
       "                                  club_previous_member  \\\n",
       "participant_lga voucher_sport                            \n",
       "ADELAIDE        Athletics                           16   \n",
       "                Australian Rules                   130   \n",
       "                Baseball                             1   \n",
       "                Basketball                           4   \n",
       "                Calisthenics                         1   \n",
       "\n",
       "                                  participant_atsi_indicator  \\\n",
       "participant_lga voucher_sport                                  \n",
       "ADELAIDE        Athletics                                 16   \n",
       "                Australian Rules                         130   \n",
       "                Baseball                                   1   \n",
       "                Basketball                                 4   \n",
       "                Calisthenics                               1   \n",
       "\n",
       "                                  participant_cald_indicator  participant_sex  \\\n",
       "participant_lga voucher_sport                                                   \n",
       "ADELAIDE        Athletics                                 16               16   \n",
       "                Australian Rules                         130              130   \n",
       "                Baseball                                   1                1   \n",
       "                Basketball                                 4                4   \n",
       "                Calisthenics                               1                1   \n",
       "\n",
       "                                  voucher_value  club_name  \\\n",
       "participant_lga voucher_sport                                \n",
       "ADELAIDE        Athletics                    16         16   \n",
       "                Australian Rules            130        130   \n",
       "                Baseball                      1          1   \n",
       "                Basketball                    4          4   \n",
       "                Calisthenics                  1          1   \n",
       "\n",
       "                                  participant_electorate  \\\n",
       "participant_lga voucher_sport                              \n",
       "ADELAIDE        Athletics                             16   \n",
       "                Australian Rules                     130   \n",
       "                Baseball                               1   \n",
       "                Basketball                             4   \n",
       "                Calisthenics                           1   \n",
       "\n",
       "                                  voucher_completion_date  voucher_claim_year  \\\n",
       "participant_lga voucher_sport                                                   \n",
       "ADELAIDE        Athletics                              16                  16   \n",
       "                Australian Rules                      128                 130   \n",
       "                Baseball                                1                   1   \n",
       "                Basketball                              4                   4   \n",
       "                Calisthenics                            1                   1   \n",
       "\n",
       "                                  ieo  ier  irsad  irsd  population  \n",
       "participant_lga voucher_sport                                        \n",
       "ADELAIDE        Athletics          16   16     16    16          16  \n",
       "                Australian Rules  130  130    130   130         130  \n",
       "                Baseball            1    1      1     1           1  \n",
       "                Basketball          4    4      4     4           4  \n",
       "                Calisthenics        1    1      1     1           1  "
      ]
     },
     "execution_count": 13,
     "metadata": {},
     "output_type": "execute_result"
    }
   ],
   "source": [
    "group.head()"
   ]
  },
  {
   "cell_type": "markdown",
   "metadata": {},
   "source": [
    "keeping all rows and only keeping one column. All the columns represent the same number of counts, so we only need to keep one. "
   ]
  },
  {
   "cell_type": "code",
   "execution_count": 14,
   "metadata": {},
   "outputs": [],
   "source": [
    "pivot = pd.pivot_table(group, values = 'participant_id', index = 'participant_lga', columns = 'voucher_sport')"
   ]
  },
  {
   "cell_type": "code",
   "execution_count": 15,
   "metadata": {},
   "outputs": [
    {
     "data": {
      "text/html": [
       "<div>\n",
       "<style scoped>\n",
       "    .dataframe tbody tr th:only-of-type {\n",
       "        vertical-align: middle;\n",
       "    }\n",
       "\n",
       "    .dataframe tbody tr th {\n",
       "        vertical-align: top;\n",
       "    }\n",
       "\n",
       "    .dataframe thead th {\n",
       "        text-align: right;\n",
       "    }\n",
       "</style>\n",
       "<table border=\"1\" class=\"dataframe\">\n",
       "  <thead>\n",
       "    <tr style=\"text-align: right;\">\n",
       "      <th>voucher_sport</th>\n",
       "      <th>Archery</th>\n",
       "      <th>Athletics</th>\n",
       "      <th>Australian Rules</th>\n",
       "      <th>BMX</th>\n",
       "      <th>Badminton</th>\n",
       "      <th>Baseball</th>\n",
       "      <th>Basketball</th>\n",
       "      <th>Bowls</th>\n",
       "      <th>Calisthenics</th>\n",
       "      <th>Cricket</th>\n",
       "      <th>...</th>\n",
       "      <th>Surf Riding</th>\n",
       "      <th>Swimming</th>\n",
       "      <th>Table Tennis</th>\n",
       "      <th>Taekwondo</th>\n",
       "      <th>Tennis</th>\n",
       "      <th>Touch</th>\n",
       "      <th>Volleyball</th>\n",
       "      <th>Water Polo</th>\n",
       "      <th>Weightlifting</th>\n",
       "      <th>Wrestling</th>\n",
       "    </tr>\n",
       "    <tr>\n",
       "      <th>participant_lga</th>\n",
       "      <th></th>\n",
       "      <th></th>\n",
       "      <th></th>\n",
       "      <th></th>\n",
       "      <th></th>\n",
       "      <th></th>\n",
       "      <th></th>\n",
       "      <th></th>\n",
       "      <th></th>\n",
       "      <th></th>\n",
       "      <th></th>\n",
       "      <th></th>\n",
       "      <th></th>\n",
       "      <th></th>\n",
       "      <th></th>\n",
       "      <th></th>\n",
       "      <th></th>\n",
       "      <th></th>\n",
       "      <th></th>\n",
       "      <th></th>\n",
       "      <th></th>\n",
       "    </tr>\n",
       "  </thead>\n",
       "  <tbody>\n",
       "    <tr>\n",
       "      <th>ADELAIDE</th>\n",
       "      <td>NaN</td>\n",
       "      <td>16.0</td>\n",
       "      <td>130.0</td>\n",
       "      <td>NaN</td>\n",
       "      <td>NaN</td>\n",
       "      <td>1.0</td>\n",
       "      <td>4.0</td>\n",
       "      <td>NaN</td>\n",
       "      <td>1.0</td>\n",
       "      <td>2.0</td>\n",
       "      <td>...</td>\n",
       "      <td>NaN</td>\n",
       "      <td>NaN</td>\n",
       "      <td>NaN</td>\n",
       "      <td>11.0</td>\n",
       "      <td>4.0</td>\n",
       "      <td>NaN</td>\n",
       "      <td>NaN</td>\n",
       "      <td>NaN</td>\n",
       "      <td>NaN</td>\n",
       "      <td>NaN</td>\n",
       "    </tr>\n",
       "    <tr>\n",
       "      <th>ADELAIDE HILLS</th>\n",
       "      <td>3.0</td>\n",
       "      <td>204.0</td>\n",
       "      <td>1412.0</td>\n",
       "      <td>2.0</td>\n",
       "      <td>NaN</td>\n",
       "      <td>11.0</td>\n",
       "      <td>48.0</td>\n",
       "      <td>NaN</td>\n",
       "      <td>62.0</td>\n",
       "      <td>128.0</td>\n",
       "      <td>...</td>\n",
       "      <td>NaN</td>\n",
       "      <td>18.0</td>\n",
       "      <td>3.0</td>\n",
       "      <td>44.0</td>\n",
       "      <td>257.0</td>\n",
       "      <td>2.0</td>\n",
       "      <td>1.0</td>\n",
       "      <td>1.0</td>\n",
       "      <td>NaN</td>\n",
       "      <td>NaN</td>\n",
       "    </tr>\n",
       "    <tr>\n",
       "      <th>ADELAIDE PLAINS</th>\n",
       "      <td>NaN</td>\n",
       "      <td>3.0</td>\n",
       "      <td>485.0</td>\n",
       "      <td>NaN</td>\n",
       "      <td>NaN</td>\n",
       "      <td>3.0</td>\n",
       "      <td>15.0</td>\n",
       "      <td>NaN</td>\n",
       "      <td>23.0</td>\n",
       "      <td>3.0</td>\n",
       "      <td>...</td>\n",
       "      <td>NaN</td>\n",
       "      <td>3.0</td>\n",
       "      <td>NaN</td>\n",
       "      <td>NaN</td>\n",
       "      <td>13.0</td>\n",
       "      <td>NaN</td>\n",
       "      <td>NaN</td>\n",
       "      <td>NaN</td>\n",
       "      <td>NaN</td>\n",
       "      <td>NaN</td>\n",
       "    </tr>\n",
       "    <tr>\n",
       "      <th>ALEXANDRINA</th>\n",
       "      <td>9.0</td>\n",
       "      <td>62.0</td>\n",
       "      <td>980.0</td>\n",
       "      <td>4.0</td>\n",
       "      <td>3.0</td>\n",
       "      <td>NaN</td>\n",
       "      <td>204.0</td>\n",
       "      <td>NaN</td>\n",
       "      <td>5.0</td>\n",
       "      <td>8.0</td>\n",
       "      <td>...</td>\n",
       "      <td>2.0</td>\n",
       "      <td>11.0</td>\n",
       "      <td>NaN</td>\n",
       "      <td>NaN</td>\n",
       "      <td>109.0</td>\n",
       "      <td>NaN</td>\n",
       "      <td>NaN</td>\n",
       "      <td>NaN</td>\n",
       "      <td>NaN</td>\n",
       "      <td>NaN</td>\n",
       "    </tr>\n",
       "    <tr>\n",
       "      <th>BAROSSA</th>\n",
       "      <td>NaN</td>\n",
       "      <td>158.0</td>\n",
       "      <td>1196.0</td>\n",
       "      <td>3.0</td>\n",
       "      <td>NaN</td>\n",
       "      <td>6.0</td>\n",
       "      <td>341.0</td>\n",
       "      <td>NaN</td>\n",
       "      <td>9.0</td>\n",
       "      <td>56.0</td>\n",
       "      <td>...</td>\n",
       "      <td>NaN</td>\n",
       "      <td>12.0</td>\n",
       "      <td>NaN</td>\n",
       "      <td>NaN</td>\n",
       "      <td>83.0</td>\n",
       "      <td>NaN</td>\n",
       "      <td>NaN</td>\n",
       "      <td>NaN</td>\n",
       "      <td>NaN</td>\n",
       "      <td>NaN</td>\n",
       "    </tr>\n",
       "  </tbody>\n",
       "</table>\n",
       "<p>5 rows × 50 columns</p>\n",
       "</div>"
      ],
      "text/plain": [
       "voucher_sport    Archery  Athletics  Australian Rules  BMX  Badminton  \\\n",
       "participant_lga                                                         \n",
       "ADELAIDE             NaN       16.0             130.0  NaN        NaN   \n",
       "ADELAIDE HILLS       3.0      204.0            1412.0  2.0        NaN   \n",
       "ADELAIDE PLAINS      NaN        3.0             485.0  NaN        NaN   \n",
       "ALEXANDRINA          9.0       62.0             980.0  4.0        3.0   \n",
       "BAROSSA              NaN      158.0            1196.0  3.0        NaN   \n",
       "\n",
       "voucher_sport    Baseball  Basketball  Bowls  Calisthenics  Cricket  ...  \\\n",
       "participant_lga                                                      ...   \n",
       "ADELAIDE              1.0         4.0    NaN           1.0      2.0  ...   \n",
       "ADELAIDE HILLS       11.0        48.0    NaN          62.0    128.0  ...   \n",
       "ADELAIDE PLAINS       3.0        15.0    NaN          23.0      3.0  ...   \n",
       "ALEXANDRINA           NaN       204.0    NaN           5.0      8.0  ...   \n",
       "BAROSSA               6.0       341.0    NaN           9.0     56.0  ...   \n",
       "\n",
       "voucher_sport    Surf Riding  Swimming  Table Tennis  Taekwondo  Tennis  \\\n",
       "participant_lga                                                           \n",
       "ADELAIDE                 NaN       NaN           NaN       11.0     4.0   \n",
       "ADELAIDE HILLS           NaN      18.0           3.0       44.0   257.0   \n",
       "ADELAIDE PLAINS          NaN       3.0           NaN        NaN    13.0   \n",
       "ALEXANDRINA              2.0      11.0           NaN        NaN   109.0   \n",
       "BAROSSA                  NaN      12.0           NaN        NaN    83.0   \n",
       "\n",
       "voucher_sport    Touch  Volleyball  Water Polo  Weightlifting  Wrestling  \n",
       "participant_lga                                                           \n",
       "ADELAIDE           NaN         NaN         NaN            NaN        NaN  \n",
       "ADELAIDE HILLS     2.0         1.0         1.0            NaN        NaN  \n",
       "ADELAIDE PLAINS    NaN         NaN         NaN            NaN        NaN  \n",
       "ALEXANDRINA        NaN         NaN         NaN            NaN        NaN  \n",
       "BAROSSA            NaN         NaN         NaN            NaN        NaN  \n",
       "\n",
       "[5 rows x 50 columns]"
      ]
     },
     "execution_count": 15,
     "metadata": {},
     "output_type": "execute_result"
    }
   ],
   "source": [
    "pivot.head()"
   ]
  },
  {
   "cell_type": "code",
   "execution_count": 16,
   "metadata": {},
   "outputs": [],
   "source": [
    "pivot = pivot.fillna(0)"
   ]
  },
  {
   "cell_type": "markdown",
   "metadata": {},
   "source": [
    "Applying the pivot table has drastically aided in the dimensioniality of the DF,m making it easier to explore the DF. I have also changed the NAN values to zero, making the assumption that the nan values represent no voucher redeemed. \n",
    "\n",
    "Let's try some plots with this new df now. "
   ]
  },
  {
   "cell_type": "code",
   "execution_count": 17,
   "metadata": {},
   "outputs": [],
   "source": [
    "pivot.index = pivot.index.str.lower()\n",
    "pivot.columns = pivot.columns.str.lower()"
   ]
  },
  {
   "cell_type": "markdown",
   "metadata": {
    "heading_collapsed": true
   },
   "source": [
    "### (can't use this, not as accurate as normalising) plotting the sports without normalising "
   ]
  },
  {
   "cell_type": "markdown",
   "metadata": {
    "hidden": true
   },
   "source": [
    "`.rank()` works such that each column has a new ranking. 1 being the highest rank (and so highest value in the original DF). "
   ]
  },
  {
   "cell_type": "raw",
   "metadata": {
    "hidden": true
   },
   "source": [
    "rank = pivot.rank(ascending = False, method='first')"
   ]
  },
  {
   "cell_type": "markdown",
   "metadata": {
    "hidden": true
   },
   "source": [
    "the `idxmax` and `idxmin` function determines the most and least popular sports overall in each LGA and we can easily display which sports are found via the `set` function."
   ]
  },
  {
   "cell_type": "raw",
   "metadata": {
    "hidden": true
   },
   "source": [
    "set(pivot.idxmax(axis=1))"
   ]
  },
  {
   "cell_type": "raw",
   "metadata": {
    "hidden": true
   },
   "source": [
    "set(pivot.idxmin(axis=1))"
   ]
  },
  {
   "cell_type": "raw",
   "metadata": {
    "hidden": true
   },
   "source": [
    "topSports = list(set(pivot.idxmax(axis=1)))\n",
    "botSports = list(set(pivot.idxmin(axis=1)))"
   ]
  },
  {
   "cell_type": "markdown",
   "metadata": {
    "hidden": true
   },
   "source": [
    "So now we've found which sports stand out. \n",
    "\n",
    "Let's plot this to see how these top 5 sports vary in popularity among themselves. "
   ]
  },
  {
   "cell_type": "raw",
   "metadata": {
    "hidden": true
   },
   "source": [
    "pivot[topSports].sum().sort_values(ascending=False)"
   ]
  },
  {
   "cell_type": "raw",
   "metadata": {
    "hidden": true
   },
   "source": [
    "sns.set_theme(style=\"whitegrid\")\n",
    "fig, axes= plt.subplots(2,1, figsize=(15,10))\n",
    "\n",
    "\n",
    "\n",
    "\n",
    "pivot[topSports].sum().sort_values().plot(kind='barh', style='b', alpha=0.7,\n",
    "              title='Most Popular Sports', ax = axes[0])\n",
    "\n",
    "\n",
    "\n",
    "pivot[botSports].sum().sort_values().plot(kind='barh', style='b', alpha=0.7,\n",
    "              title='Least Popular Sports', ax = axes[1])\n",
    "\n",
    "# plt.title('Significant sports in each LGA')\n",
    "plt.tight_layout()\n",
    "plt.show()"
   ]
  },
  {
   "cell_type": "markdown",
   "metadata": {
    "hidden": true
   },
   "source": [
    "We can see Australian Rules and Netball are the most popular, badminton and archery being the least popular. We expect this as we know most Australians play these popular sports growing up. Other factors that can be included may be the regions in which these sports are played. Some LGAs may have a higher voucher claim rate for a less popular sport than others. We were able to show the most popular sports across all LGAs, though there may be some LGAs where these top sports are not popular. "
   ]
  },
  {
   "cell_type": "markdown",
   "metadata": {},
   "source": [
    "### normallising"
   ]
  },
  {
   "cell_type": "markdown",
   "metadata": {},
   "source": [
    "how much of vouchers do these sports cover for the overall vouchers claimed? \n",
    "\n",
    "because the least popular sports don't have many claims, it would be justifiable to not inclue it in the rest of the analysis for this part. "
   ]
  },
  {
   "cell_type": "markdown",
   "metadata": {},
   "source": [
    "would normalising this help? just the dist of vouchers, normalise would be comnparing to the total voucher claims. \n",
    "\n",
    "comparing LGAs, would be better to normalise by each of their popuulations. BEcause comparing one LGA which mnight have a large population won't be a fair comparison. \n",
    "\n",
    "If we don't know how the vouchers were distributed, better to normlaise with respect to the total vouchers claimed rather than by the population because there could be 2 vouchers per person. "
   ]
  },
  {
   "cell_type": "markdown",
   "metadata": {},
   "source": [
    "We want\n",
    "- the total number of vouchers claimed for all LGAs combined. \n",
    "- how the total of vouchers clamed for a specific sport compares to the total clamed\n",
    "- what does this telll us? \n",
    "\n",
    "we know the total number of vouchers clamed is the number of rows in sa_vouchers_scores.\n",
    "\n",
    "The total vouchers claimed for all sports:"
   ]
  },
  {
   "cell_type": "code",
   "execution_count": 18,
   "metadata": {},
   "outputs": [],
   "source": [
    "claimDF = pivot.sum().to_frame(name='sum')"
   ]
  },
  {
   "cell_type": "code",
   "execution_count": 19,
   "metadata": {},
   "outputs": [],
   "source": [
    "claimDF['proportion'] =claimDF['sum'] / claimDF.sum()[0]\n"
   ]
  },
  {
   "cell_type": "markdown",
   "metadata": {},
   "source": [
    "checking the mean of the proportion alllows us to see an upper vs lower half of the sports clami rate"
   ]
  },
  {
   "cell_type": "raw",
   "metadata": {},
   "source": [
    "claimDF['proportion'].mean()"
   ]
  },
  {
   "cell_type": "raw",
   "metadata": {},
   "source": [
    "claimDF[claimDF['proportion']> claimDF['proportion'].mean()].nlargest(5, columns='proportion')"
   ]
  },
  {
   "cell_type": "markdown",
   "metadata": {},
   "source": [
    "with my previous method for find the topSports was using `.idxmax()`. But that function does not take into consideration the proportion, simply the number of vouchers claimed. So we should update the topSports with ths new code"
   ]
  },
  {
   "cell_type": "code",
   "execution_count": 20,
   "metadata": {},
   "outputs": [],
   "source": [
    "topSports = list(claimDF['proportion'].nlargest(5).index)"
   ]
  },
  {
   "cell_type": "code",
   "execution_count": 21,
   "metadata": {},
   "outputs": [],
   "source": [
    "botSports = list(claimDF['proportion'].nsmallest(5).index)"
   ]
  },
  {
   "cell_type": "markdown",
   "metadata": {},
   "source": [
    "Making the same previous plot with our update values. "
   ]
  },
  {
   "cell_type": "code",
   "execution_count": 22,
   "metadata": {},
   "outputs": [
    {
     "data": {
      "image/png": "[encoded data removed]",
      "text/plain": [
       "<Figure size 432x288 with 1 Axes>"
      ]
     },
     "metadata": {},
     "output_type": "display_data"
    }
   ],
   "source": [
    "sns.set_theme(style=\"whitegrid\")\n",
    "fig, axes= plt.subplots(1,1)\n",
    "\n",
    "\n",
    "claimDF['proportion'][topSports].sort_values().plot(kind='barh', style='b', alpha=0.7,\n",
    "              title='Most Popular Sports')\n",
    "\n",
    "plt.xlabel('Proportion of total vouchers claimed')\n",
    "plt.tight_layout()\n",
    "plt.show()"
   ]
  },
  {
   "cell_type": "markdown",
   "metadata": {},
   "source": [
    "Least popular sports have been excluded as there are not many claims. Instead, let's group them as an 'other' sport "
   ]
  },
  {
   "cell_type": "code",
   "execution_count": 23,
   "metadata": {},
   "outputs": [],
   "source": [
    "topSportsDF= claimDF.loc[topSports]"
   ]
  },
  {
   "cell_type": "code",
   "execution_count": 24,
   "metadata": {},
   "outputs": [],
   "source": [
    "otherSportsDF = claimDF.loc[~claimDF.index.isin(topSports)].sum(axis=0).to_frame().T"
   ]
  },
  {
   "cell_type": "code",
   "execution_count": 25,
   "metadata": {},
   "outputs": [],
   "source": [
    "sportsClaim = pd.concat([topSportsDF, otherSportsDF])"
   ]
  },
  {
   "cell_type": "code",
   "execution_count": 26,
   "metadata": {},
   "outputs": [],
   "source": [
    "sportsClaim = sportsClaim.rename(index={0:'other'})"
   ]
  },
  {
   "cell_type": "code",
   "execution_count": 27,
   "metadata": {},
   "outputs": [],
   "source": [
    "sportsClaim['percentage'] = round(sportsClaim['proportion']*100, 2)"
   ]
  },
  {
   "cell_type": "code",
   "execution_count": 28,
   "metadata": {},
   "outputs": [
    {
     "data": {
      "text/html": [
       "<div>\n",
       "<style scoped>\n",
       "    .dataframe tbody tr th:only-of-type {\n",
       "        vertical-align: middle;\n",
       "    }\n",
       "\n",
       "    .dataframe tbody tr th {\n",
       "        vertical-align: top;\n",
       "    }\n",
       "\n",
       "    .dataframe thead th {\n",
       "        text-align: right;\n",
       "    }\n",
       "</style>\n",
       "<table border=\"1\" class=\"dataframe\">\n",
       "  <thead>\n",
       "    <tr style=\"text-align: right;\">\n",
       "      <th></th>\n",
       "      <th>sum</th>\n",
       "      <th>proportion</th>\n",
       "      <th>percentage</th>\n",
       "    </tr>\n",
       "  </thead>\n",
       "  <tbody>\n",
       "    <tr>\n",
       "      <th>australian rules</th>\n",
       "      <td>47224.0</td>\n",
       "      <td>0.370309</td>\n",
       "      <td>37.03</td>\n",
       "    </tr>\n",
       "    <tr>\n",
       "      <th>netball</th>\n",
       "      <td>24017.0</td>\n",
       "      <td>0.188330</td>\n",
       "      <td>18.83</td>\n",
       "    </tr>\n",
       "    <tr>\n",
       "      <th>football (soccer)</th>\n",
       "      <td>15775.0</td>\n",
       "      <td>0.123700</td>\n",
       "      <td>12.37</td>\n",
       "    </tr>\n",
       "    <tr>\n",
       "      <th>gymnastics</th>\n",
       "      <td>9823.0</td>\n",
       "      <td>0.077027</td>\n",
       "      <td>7.70</td>\n",
       "    </tr>\n",
       "    <tr>\n",
       "      <th>basketball</th>\n",
       "      <td>6016.0</td>\n",
       "      <td>0.047175</td>\n",
       "      <td>4.72</td>\n",
       "    </tr>\n",
       "    <tr>\n",
       "      <th>other</th>\n",
       "      <td>24671.0</td>\n",
       "      <td>0.193459</td>\n",
       "      <td>19.35</td>\n",
       "    </tr>\n",
       "  </tbody>\n",
       "</table>\n",
       "</div>"
      ],
      "text/plain": [
       "                       sum  proportion  percentage\n",
       "australian rules   47224.0    0.370309       37.03\n",
       "netball            24017.0    0.188330       18.83\n",
       "football (soccer)  15775.0    0.123700       12.37\n",
       "gymnastics          9823.0    0.077027        7.70\n",
       "basketball          6016.0    0.047175        4.72\n",
       "other              24671.0    0.193459       19.35"
      ]
     },
     "execution_count": 28,
     "metadata": {},
     "output_type": "execute_result"
    }
   ],
   "source": [
    "sportsClaim"
   ]
  },
  {
   "cell_type": "code",
   "execution_count": 29,
   "metadata": {},
   "outputs": [
    {
     "data": {
      "text/plain": [
       "100.0"
      ]
     },
     "execution_count": 29,
     "metadata": {},
     "output_type": "execute_result"
    }
   ],
   "source": [
    "sportsClaim['percentage'].sum()"
   ]
  },
  {
   "cell_type": "code",
   "execution_count": 30,
   "metadata": {},
   "outputs": [
    {
     "data": {
      "image/png": "[encoded data removed]",
      "text/plain": [
       "<Figure size 432x288 with 1 Axes>"
      ]
     },
     "metadata": {},
     "output_type": "display_data"
    }
   ],
   "source": [
    "sns.set_theme(style=\"whitegrid\")\n",
    "fig, axes= plt.subplots(1,1)\n",
    "\n",
    "\n",
    "sportsClaim['percentage'].sort_values().plot(kind='barh', style='b', alpha=0.7,\n",
    "              title='Most Popular Sports')\n",
    "\n",
    "plt.xlabel('Total vouchers claimed (%)')\n",
    "\n",
    "plt.tight_layout()\n",
    "plt.show()"
   ]
  },
  {
   "cell_type": "markdown",
   "metadata": {},
   "source": [
    "We can see Australian Rules and Netball are the most popular, badminton being the least popular found in botSports. We expect this as we know most Australians play these popular sports growing up. Other factors that can be included may be the regions in which these sports are played. Some LGAs may have a higher voucher claim rate for a less popular sport than others. We were able to show the most popular sports across all LGAs, though there may be some LGAs where these top sports are not popular. \n",
    "\n",
    "Checking the proportion of vouchers claimed in the top LGAs:"
   ]
  },
  {
   "cell_type": "markdown",
   "metadata": {
    "heading_collapsed": true
   },
   "source": [
    "### normalisnig in each LGA"
   ]
  },
  {
   "cell_type": "code",
   "execution_count": 31,
   "metadata": {
    "hidden": true
   },
   "outputs": [],
   "source": [
    "lgaClaim = pivot.sum(axis=1).to_frame(name='sum')"
   ]
  },
  {
   "cell_type": "code",
   "execution_count": 32,
   "metadata": {
    "hidden": true
   },
   "outputs": [],
   "source": [
    "lgaClaim['population'] = LGA_scores['population']"
   ]
  },
  {
   "cell_type": "code",
   "execution_count": 33,
   "metadata": {
    "hidden": true
   },
   "outputs": [],
   "source": [
    "NANpopulation = list(lgaClaim[lgaClaim['population'].isna()].index)"
   ]
  },
  {
   "cell_type": "markdown",
   "metadata": {
    "hidden": true
   },
   "source": [
    "We can drop the NANpopulation because it is only a small number of vouchers (approx. 600) compared to the total vouchers (approx. 130000). We want to drop the NANpopulation because these represent LGAs that were originally in the sa_vouchers DF but not in the sefa DF. \n",
    "\n",
    "Dropping NANpopulation should not have an adverse effect on the rest of the data.  "
   ]
  },
  {
   "cell_type": "code",
   "execution_count": 34,
   "metadata": {
    "hidden": true
   },
   "outputs": [],
   "source": [
    "lgaClaim = lgaClaim.drop(NANpopulation)"
   ]
  },
  {
   "cell_type": "code",
   "execution_count": 35,
   "metadata": {
    "hidden": true
   },
   "outputs": [],
   "source": [
    "lgaClaim['proportion'] = lgaClaim['sum']/ lgaClaim['population']"
   ]
  },
  {
   "cell_type": "code",
   "execution_count": 36,
   "metadata": {
    "hidden": true
   },
   "outputs": [
    {
     "data": {
      "text/html": [
       "<div>\n",
       "<style scoped>\n",
       "    .dataframe tbody tr th:only-of-type {\n",
       "        vertical-align: middle;\n",
       "    }\n",
       "\n",
       "    .dataframe tbody tr th {\n",
       "        vertical-align: top;\n",
       "    }\n",
       "\n",
       "    .dataframe thead th {\n",
       "        text-align: right;\n",
       "    }\n",
       "</style>\n",
       "<table border=\"1\" class=\"dataframe\">\n",
       "  <thead>\n",
       "    <tr style=\"text-align: right;\">\n",
       "      <th></th>\n",
       "      <th>sum</th>\n",
       "      <th>population</th>\n",
       "      <th>proportion</th>\n",
       "    </tr>\n",
       "    <tr>\n",
       "      <th>participant_lga</th>\n",
       "      <th></th>\n",
       "      <th></th>\n",
       "      <th></th>\n",
       "    </tr>\n",
       "  </thead>\n",
       "  <tbody>\n",
       "    <tr>\n",
       "      <th>adelaide</th>\n",
       "      <td>302.0</td>\n",
       "      <td>19606.0</td>\n",
       "      <td>0.015403</td>\n",
       "    </tr>\n",
       "    <tr>\n",
       "      <th>adelaide hills</th>\n",
       "      <td>4756.0</td>\n",
       "      <td>38601.0</td>\n",
       "      <td>0.123209</td>\n",
       "    </tr>\n",
       "    <tr>\n",
       "      <th>alexandrina</th>\n",
       "      <td>2979.0</td>\n",
       "      <td>23693.0</td>\n",
       "      <td>0.125733</td>\n",
       "    </tr>\n",
       "    <tr>\n",
       "      <th>barossa</th>\n",
       "      <td>2874.0</td>\n",
       "      <td>22174.0</td>\n",
       "      <td>0.129611</td>\n",
       "    </tr>\n",
       "    <tr>\n",
       "      <th>barunga west</th>\n",
       "      <td>333.0</td>\n",
       "      <td>2467.0</td>\n",
       "      <td>0.134982</td>\n",
       "    </tr>\n",
       "    <tr>\n",
       "      <th>...</th>\n",
       "      <td>...</td>\n",
       "      <td>...</td>\n",
       "      <td>...</td>\n",
       "    </tr>\n",
       "    <tr>\n",
       "      <th>west torrens</th>\n",
       "      <td>2844.0</td>\n",
       "      <td>54932.0</td>\n",
       "      <td>0.051773</td>\n",
       "    </tr>\n",
       "    <tr>\n",
       "      <th>whyalla</th>\n",
       "      <td>2488.0</td>\n",
       "      <td>22070.0</td>\n",
       "      <td>0.112732</td>\n",
       "    </tr>\n",
       "    <tr>\n",
       "      <th>wudinna</th>\n",
       "      <td>267.0</td>\n",
       "      <td>1256.0</td>\n",
       "      <td>0.212580</td>\n",
       "    </tr>\n",
       "    <tr>\n",
       "      <th>yankalilla</th>\n",
       "      <td>443.0</td>\n",
       "      <td>4406.0</td>\n",
       "      <td>0.100545</td>\n",
       "    </tr>\n",
       "    <tr>\n",
       "      <th>yorke peninsula</th>\n",
       "      <td>977.0</td>\n",
       "      <td>11046.0</td>\n",
       "      <td>0.088448</td>\n",
       "    </tr>\n",
       "  </tbody>\n",
       "</table>\n",
       "<p>62 rows × 3 columns</p>\n",
       "</div>"
      ],
      "text/plain": [
       "                    sum  population  proportion\n",
       "participant_lga                                \n",
       "adelaide          302.0     19606.0    0.015403\n",
       "adelaide hills   4756.0     38601.0    0.123209\n",
       "alexandrina      2979.0     23693.0    0.125733\n",
       "barossa          2874.0     22174.0    0.129611\n",
       "barunga west      333.0      2467.0    0.134982\n",
       "...                 ...         ...         ...\n",
       "west torrens     2844.0     54932.0    0.051773\n",
       "whyalla          2488.0     22070.0    0.112732\n",
       "wudinna           267.0      1256.0    0.212580\n",
       "yankalilla        443.0      4406.0    0.100545\n",
       "yorke peninsula   977.0     11046.0    0.088448\n",
       "\n",
       "[62 rows x 3 columns]"
      ]
     },
     "execution_count": 36,
     "metadata": {},
     "output_type": "execute_result"
    }
   ],
   "source": [
    "lgaClaim"
   ]
  },
  {
   "cell_type": "code",
   "execution_count": 37,
   "metadata": {
    "hidden": true
   },
   "outputs": [],
   "source": [
    "topLGAs = list(lgaClaim['proportion'].nlargest(5).index)"
   ]
  },
  {
   "cell_type": "markdown",
   "metadata": {
    "hidden": true
   },
   "source": [
    "We can use the following code if we want to put alll LGAs (except the top5 ) in an 'other' row. I don't think we would want to do this because a lot of information would be lost in this process. For example, the 6th - 10th top LGAs would have a significant contribution to the values in the 'other' row. "
   ]
  },
  {
   "cell_type": "raw",
   "metadata": {
    "hidden": true
   },
   "source": [
    "otherLGAsDF = lgaClaim.loc[~lgaClaim.index.isin(topLGAs)].sum().to_frame().T"
   ]
  },
  {
   "cell_type": "raw",
   "metadata": {
    "hidden": true
   },
   "source": [
    "otherLGAsDF['proportion'] =(lgaClaim.loc[~lgaClaim.index.isin(topLGAs)].sum().to_frame().T)['sum'] / (lgaClaim.loc[~lgaClaim.index.isin(topLGAs)].sum().to_frame().T)['population']"
   ]
  },
  {
   "cell_type": "raw",
   "metadata": {
    "hidden": true
   },
   "source": [
    "otherLGAsDF"
   ]
  },
  {
   "cell_type": "raw",
   "metadata": {
    "hidden": true
   },
   "source": [
    "topLGAsDF= lgaClaim.loc[topLGAs]"
   ]
  },
  {
   "cell_type": "raw",
   "metadata": {
    "hidden": true
   },
   "source": [
    "lgaClaim = pd.concat([lgaClaim, otherLGAsDF])"
   ]
  },
  {
   "cell_type": "raw",
   "metadata": {
    "hidden": true
   },
   "source": [
    "lgaClaim = lgaClaim.rename(index={0:'other'})"
   ]
  },
  {
   "cell_type": "code",
   "execution_count": 38,
   "metadata": {
    "hidden": true
   },
   "outputs": [],
   "source": [
    "topLGAsClaim = lgaClaim.loc[topLGAs]"
   ]
  },
  {
   "cell_type": "code",
   "execution_count": 39,
   "metadata": {
    "hidden": true
   },
   "outputs": [],
   "source": [
    "topLGAsClaim['percentage'] = round(lgaClaim['proportion']*100,2)"
   ]
  },
  {
   "cell_type": "code",
   "execution_count": 40,
   "metadata": {
    "hidden": true
   },
   "outputs": [
    {
     "data": {
      "text/html": [
       "<div>\n",
       "<style scoped>\n",
       "    .dataframe tbody tr th:only-of-type {\n",
       "        vertical-align: middle;\n",
       "    }\n",
       "\n",
       "    .dataframe tbody tr th {\n",
       "        vertical-align: top;\n",
       "    }\n",
       "\n",
       "    .dataframe thead th {\n",
       "        text-align: right;\n",
       "    }\n",
       "</style>\n",
       "<table border=\"1\" class=\"dataframe\">\n",
       "  <thead>\n",
       "    <tr style=\"text-align: right;\">\n",
       "      <th></th>\n",
       "      <th>sum</th>\n",
       "      <th>population</th>\n",
       "      <th>proportion</th>\n",
       "    </tr>\n",
       "    <tr>\n",
       "      <th>participant_lga</th>\n",
       "      <th></th>\n",
       "      <th></th>\n",
       "      <th></th>\n",
       "    </tr>\n",
       "  </thead>\n",
       "  <tbody>\n",
       "    <tr>\n",
       "      <th>adelaide</th>\n",
       "      <td>302.0</td>\n",
       "      <td>19606.0</td>\n",
       "      <td>0.015403</td>\n",
       "    </tr>\n",
       "    <tr>\n",
       "      <th>adelaide hills</th>\n",
       "      <td>4756.0</td>\n",
       "      <td>38601.0</td>\n",
       "      <td>0.123209</td>\n",
       "    </tr>\n",
       "    <tr>\n",
       "      <th>alexandrina</th>\n",
       "      <td>2979.0</td>\n",
       "      <td>23693.0</td>\n",
       "      <td>0.125733</td>\n",
       "    </tr>\n",
       "    <tr>\n",
       "      <th>barossa</th>\n",
       "      <td>2874.0</td>\n",
       "      <td>22174.0</td>\n",
       "      <td>0.129611</td>\n",
       "    </tr>\n",
       "    <tr>\n",
       "      <th>barunga west</th>\n",
       "      <td>333.0</td>\n",
       "      <td>2467.0</td>\n",
       "      <td>0.134982</td>\n",
       "    </tr>\n",
       "    <tr>\n",
       "      <th>...</th>\n",
       "      <td>...</td>\n",
       "      <td>...</td>\n",
       "      <td>...</td>\n",
       "    </tr>\n",
       "    <tr>\n",
       "      <th>west torrens</th>\n",
       "      <td>2844.0</td>\n",
       "      <td>54932.0</td>\n",
       "      <td>0.051773</td>\n",
       "    </tr>\n",
       "    <tr>\n",
       "      <th>whyalla</th>\n",
       "      <td>2488.0</td>\n",
       "      <td>22070.0</td>\n",
       "      <td>0.112732</td>\n",
       "    </tr>\n",
       "    <tr>\n",
       "      <th>wudinna</th>\n",
       "      <td>267.0</td>\n",
       "      <td>1256.0</td>\n",
       "      <td>0.212580</td>\n",
       "    </tr>\n",
       "    <tr>\n",
       "      <th>yankalilla</th>\n",
       "      <td>443.0</td>\n",
       "      <td>4406.0</td>\n",
       "      <td>0.100545</td>\n",
       "    </tr>\n",
       "    <tr>\n",
       "      <th>yorke peninsula</th>\n",
       "      <td>977.0</td>\n",
       "      <td>11046.0</td>\n",
       "      <td>0.088448</td>\n",
       "    </tr>\n",
       "  </tbody>\n",
       "</table>\n",
       "<p>62 rows × 3 columns</p>\n",
       "</div>"
      ],
      "text/plain": [
       "                    sum  population  proportion\n",
       "participant_lga                                \n",
       "adelaide          302.0     19606.0    0.015403\n",
       "adelaide hills   4756.0     38601.0    0.123209\n",
       "alexandrina      2979.0     23693.0    0.125733\n",
       "barossa          2874.0     22174.0    0.129611\n",
       "barunga west      333.0      2467.0    0.134982\n",
       "...                 ...         ...         ...\n",
       "west torrens     2844.0     54932.0    0.051773\n",
       "whyalla          2488.0     22070.0    0.112732\n",
       "wudinna           267.0      1256.0    0.212580\n",
       "yankalilla        443.0      4406.0    0.100545\n",
       "yorke peninsula   977.0     11046.0    0.088448\n",
       "\n",
       "[62 rows x 3 columns]"
      ]
     },
     "execution_count": 40,
     "metadata": {},
     "output_type": "execute_result"
    }
   ],
   "source": [
    "lgaClaim"
   ]
  },
  {
   "cell_type": "code",
   "execution_count": 41,
   "metadata": {
    "hidden": true
   },
   "outputs": [
    {
     "data": {
      "text/html": [
       "<div>\n",
       "<style scoped>\n",
       "    .dataframe tbody tr th:only-of-type {\n",
       "        vertical-align: middle;\n",
       "    }\n",
       "\n",
       "    .dataframe tbody tr th {\n",
       "        vertical-align: top;\n",
       "    }\n",
       "\n",
       "    .dataframe thead th {\n",
       "        text-align: right;\n",
       "    }\n",
       "</style>\n",
       "<table border=\"1\" class=\"dataframe\">\n",
       "  <thead>\n",
       "    <tr style=\"text-align: right;\">\n",
       "      <th></th>\n",
       "      <th>sum</th>\n",
       "      <th>population</th>\n",
       "      <th>proportion</th>\n",
       "      <th>percentage</th>\n",
       "    </tr>\n",
       "    <tr>\n",
       "      <th>participant_lga</th>\n",
       "      <th></th>\n",
       "      <th></th>\n",
       "      <th></th>\n",
       "      <th></th>\n",
       "    </tr>\n",
       "  </thead>\n",
       "  <tbody>\n",
       "    <tr>\n",
       "      <th>karoonda east murray</th>\n",
       "      <td>388.0</td>\n",
       "      <td>1035.0</td>\n",
       "      <td>0.374879</td>\n",
       "      <td>37.49</td>\n",
       "    </tr>\n",
       "    <tr>\n",
       "      <th>kimba</th>\n",
       "      <td>232.0</td>\n",
       "      <td>1087.0</td>\n",
       "      <td>0.213431</td>\n",
       "      <td>21.34</td>\n",
       "    </tr>\n",
       "    <tr>\n",
       "      <th>wudinna</th>\n",
       "      <td>267.0</td>\n",
       "      <td>1256.0</td>\n",
       "      <td>0.212580</td>\n",
       "      <td>21.26</td>\n",
       "    </tr>\n",
       "    <tr>\n",
       "      <th>cleve</th>\n",
       "      <td>329.0</td>\n",
       "      <td>1729.0</td>\n",
       "      <td>0.190283</td>\n",
       "      <td>19.03</td>\n",
       "    </tr>\n",
       "    <tr>\n",
       "      <th>southern mallee</th>\n",
       "      <td>342.0</td>\n",
       "      <td>2097.0</td>\n",
       "      <td>0.163090</td>\n",
       "      <td>16.31</td>\n",
       "    </tr>\n",
       "  </tbody>\n",
       "</table>\n",
       "</div>"
      ],
      "text/plain": [
       "                        sum  population  proportion  percentage\n",
       "participant_lga                                                \n",
       "karoonda east murray  388.0      1035.0    0.374879       37.49\n",
       "kimba                 232.0      1087.0    0.213431       21.34\n",
       "wudinna               267.0      1256.0    0.212580       21.26\n",
       "cleve                 329.0      1729.0    0.190283       19.03\n",
       "southern mallee       342.0      2097.0    0.163090       16.31"
      ]
     },
     "execution_count": 41,
     "metadata": {},
     "output_type": "execute_result"
    }
   ],
   "source": [
    "topLGAsClaim"
   ]
  },
  {
   "cell_type": "code",
   "execution_count": 42,
   "metadata": {
    "hidden": true
   },
   "outputs": [
    {
     "data": {
      "image/png": "[encoded data removed]",
      "text/plain": [
       "<Figure size 432x288 with 1 Axes>"
      ]
     },
     "metadata": {},
     "output_type": "display_data"
    }
   ],
   "source": [
    "sns.set_theme(style=\"whitegrid\")\n",
    "fig, axes= plt.subplots(1,1)\n",
    "\n",
    "\n",
    "ax = topLGAsClaim['percentage'].sort_values().plot(kind='barh', style='b', alpha=0.7,\n",
    "              title='Top 5 LGAs population voucher claim rate')\n",
    "\n",
    "ax.set(ylabel= 'LGA')\n",
    "\n",
    "plt.xlabel('Claim rate (%)')\n",
    "\n",
    "plt.tight_layout()\n",
    "plt.show()"
   ]
  },
  {
   "cell_type": "markdown",
   "metadata": {
    "hidden": true
   },
   "source": [
    "37.5% of Karoonda east murray has claimed a voucher. The proportion i ssignificantly higher compared to the other topLGAs, though it's population is also very small. We saw in the DF lgaClaim that this LGA only had a total of 388 vouchers claimed. Below we will see the majority of the claims are in the topSports list. "
   ]
  },
  {
   "cell_type": "code",
   "execution_count": 43,
   "metadata": {
    "hidden": true
   },
   "outputs": [
    {
     "data": {
      "text/plain": [
       "voucher_sport\n",
       "australian rules     169.0\n",
       "netball              100.0\n",
       "football (soccer)     18.0\n",
       "gymnastics            22.0\n",
       "basketball             7.0\n",
       "Name: karoonda east murray, dtype: float64"
      ]
     },
     "execution_count": 43,
     "metadata": {},
     "output_type": "execute_result"
    }
   ],
   "source": [
    "pivot.loc['karoonda east murray'].sort_values(ascending=False)[topSports]"
   ]
  },
  {
   "cell_type": "markdown",
   "metadata": {
    "heading_collapsed": true
   },
   "source": [
    "### (can't use this) further plots similar to the normalised plots, but without normalisation "
   ]
  },
  {
   "cell_type": "markdown",
   "metadata": {
    "hidden": true
   },
   "source": [
    "Similarly, let's now begin the process to check which are the top LGAs for claimed vouchers. This meaning we will find the which LGA has the highest number of claims for each sport. "
   ]
  },
  {
   "cell_type": "raw",
   "metadata": {
    "hidden": true
   },
   "source": [
    "idxmaxSports = list(set(pivot.idxmax(axis=0)))\n",
    "idxminSports = list(set(pivot.idxmin(axis=0)))"
   ]
  },
  {
   "cell_type": "markdown",
   "metadata": {
    "hidden": true
   },
   "source": [
    "we notice that some of the LGAs are in each of the top and bottom LGAs. This is fine because an LGA that has the most claim for one sport, may have the lowest number of claims for another sport. Thus, appearing in both idxmax and idxmin "
   ]
  },
  {
   "cell_type": "markdown",
   "metadata": {
    "hidden": true
   },
   "source": [
    "to check which lga has the most claimed vouchers. Onkaparinga being number one with most claimed vouchers."
   ]
  },
  {
   "cell_type": "raw",
   "metadata": {
    "hidden": true
   },
   "source": [
    "totalClaimed = pivot.sum(axis=1)\n",
    "totalClaimed.rank(ascending=False, method='dense').sort_values().head()"
   ]
  },
  {
   "cell_type": "markdown",
   "metadata": {
    "hidden": true
   },
   "source": [
    "The following will tell us the top ad bottom sports for the specific LGA. "
   ]
  },
  {
   "cell_type": "raw",
   "metadata": {
    "hidden": true
   },
   "source": [
    "totalClaimed_top5 = totalClaimed.sort_values(ascending=False).nlargest(5)\n",
    "totalClaimed_top5"
   ]
  },
  {
   "cell_type": "raw",
   "metadata": {
    "hidden": true
   },
   "source": [
    "totalClaimed_bot5 = totalClaimed.sort_values(ascending=False).nsmallest(5)\n",
    "totalClaimed_bot5"
   ]
  },
  {
   "cell_type": "raw",
   "metadata": {
    "hidden": true
   },
   "source": [
    "sns.set_theme(style=\"whitegrid\")\n",
    "fig, axes = plt.subplots(2,1, figsize=(12, 5))\n",
    "\n",
    "\n",
    "totalClaimed_top5.sort_values().plot(kind='barh', style='r', alpha=0.7,\n",
    "              title='Total Claimed Vouchers For The Top 5 LGAs', ax=axes[0])\n",
    "\n",
    "totalClaimed_bot5.sort_values().plot(kind='barh', style='b', alpha=0.7,\n",
    "              title='Total Claimed Vouchers For The bottom 5 LGAs',ax=axes[1])\n",
    "fig.tight_layout()\n",
    "plt.show()"
   ]
  },
  {
   "cell_type": "markdown",
   "metadata": {
    "hidden": true
   },
   "source": [
    "Help with `tight_layout()` from https://stackoverflow.com/questions/6541123/improve-subplot-size-spacing-with-many-subplots-in-matplotlib"
   ]
  },
  {
   "cell_type": "markdown",
   "metadata": {
    "hidden": true
   },
   "source": [
    "Onkaparinga stands out the most for total claimed vouchers within the LGA. Let's check what the most popular sports are in that LGA: "
   ]
  },
  {
   "cell_type": "raw",
   "metadata": {
    "hidden": true
   },
   "source": [
    "topSports"
   ]
  },
  {
   "cell_type": "raw",
   "metadata": {
    "hidden": true
   },
   "source": [
    "sns.set_theme(style=\"whitegrid\")\n",
    "fig, axes = plt.subplots(2,1, figsize=(12, 5))\n",
    "\n",
    "\n",
    "pivot.loc['onkaparinga'].nlargest(5).sort_values().plot(kind='barh', style='b', alpha=0.7,\n",
    "              title='Most popular sports in Onkaparinga', ax = axes[0])\n",
    "\n",
    "pivot.loc['onkaparinga'][topSports].sort_values().plot(kind='barh', style='b', alpha=0.7,\n",
    "              title='The overall top sports for all LGAs in Onkarparinga', ax = axes[1])\n",
    "\n",
    "plt.tight_layout()"
   ]
  },
  {
   "cell_type": "markdown",
   "metadata": {
    "hidden": true
   },
   "source": [
    "normalise the sports instead of counts to percentages, "
   ]
  },
  {
   "cell_type": "raw",
   "metadata": {
    "hidden": true
   },
   "source": [
    "sns.set_theme(style=\"whitegrid\")\n",
    "fig, axes = plt.subplots(2,1, figsize=(12, 5))\n",
    "\n",
    "\n",
    "pivot.loc['onkaparinga'].nlargest(5).sort_values().plot(kind='barh', style='b', alpha=0.7,\n",
    "              title='Most popular sports in Onkaparinga', ax = axes[0])\n",
    "\n",
    "pivot.loc['onkaparinga'][topSports].sort_values().plot(kind='barh', style='b', alpha=0.7,\n",
    "              title='The overall top sports in Onkarparinga', ax = axes[1])\n",
    "\n",
    "plt.tight_layout()"
   ]
  },
  {
   "cell_type": "markdown",
   "metadata": {
    "hidden": true
   },
   "source": [
    "We can see Australian Rules dominates in this LGA compared to the other most popular sports. as we can see in the second plot, the top sports across all LGAs aren't all seen in Onkaparinga. Basketball and swimming appear in `topSports` but are not as popular in Onkaparinga as athletics and gymnastics. \n",
    "\n",
    "Comparing this plot to the plot for the most popular sports, we also notice Onkaparinga accounts for approximately 1/9$^{th}$ of the total claimed vouchers for Australian rules.\n",
    "\n",
    "Checking now for the 5 bottom LGAs"
   ]
  },
  {
   "cell_type": "raw",
   "metadata": {
    "hidden": true
   },
   "source": [
    "sns.set_theme(style=\"whitegrid\")\n",
    "fig, axes = plt.subplots(1,1, figsize=(12, 5))\n",
    "\n",
    "\n",
    "pivot.loc['coober pedy'].nlargest(5).sort_values().plot(kind='barh', style='b', alpha=0.7,\n",
    "              title='Most popular sports in Coober Pedy')\n",
    "\n",
    "# pivot.loc['coober pedy'][topSports].sort_values().plot(kind='barh', style='b', alpha=0.7,\n",
    "#               title='The overall top sports in Coober Pedy', ax = axes[1])\n",
    "\n",
    "plt.tight_layout()"
   ]
  },
  {
   "cell_type": "markdown",
   "metadata": {
    "hidden": true
   },
   "source": [
    "The LGA with the least number of voucher claims has only claimed for one sport, being the most popular sport. "
   ]
  },
  {
   "cell_type": "markdown",
   "metadata": {
    "heading_collapsed": true
   },
   "source": [
    "### Australian rules single stacked bar plot with top 10 LGAs and 'other' LGAs "
   ]
  },
  {
   "cell_type": "markdown",
   "metadata": {
    "hidden": true
   },
   "source": [
    "We would need the total claims, top 10 lgas for more lgas on the bar chart. 5 covered about 12000, total of roughly 50k. "
   ]
  },
  {
   "cell_type": "code",
   "execution_count": 44,
   "metadata": {
    "hidden": true
   },
   "outputs": [],
   "source": [
    "topLGAs2 = list(pivot['australian rules'].nlargest(10).index)"
   ]
  },
  {
   "cell_type": "code",
   "execution_count": 45,
   "metadata": {
    "hidden": true
   },
   "outputs": [],
   "source": [
    "otherSports2DF = pivot['australian rules'].loc[~pivot.index.isin(topLGAs2)].to_frame()"
   ]
  },
  {
   "cell_type": "raw",
   "metadata": {
    "hidden": true
   },
   "source": [
    "otherSports2DF"
   ]
  },
  {
   "cell_type": "code",
   "execution_count": 46,
   "metadata": {
    "hidden": true
   },
   "outputs": [],
   "source": [
    "otherSports2DF['proportion'] =(otherSports2DF['australian rules'] / pivot['australian rules'].sum())"
   ]
  },
  {
   "cell_type": "code",
   "execution_count": 47,
   "metadata": {
    "hidden": true
   },
   "outputs": [],
   "source": [
    "aflTop = pivot['australian rules'].loc[topLGAs2].to_frame()"
   ]
  },
  {
   "cell_type": "code",
   "execution_count": 48,
   "metadata": {
    "hidden": true
   },
   "outputs": [],
   "source": [
    "# aflTop['population'] = LGA_scores['population']"
   ]
  },
  {
   "cell_type": "code",
   "execution_count": 49,
   "metadata": {
    "hidden": true
   },
   "outputs": [],
   "source": [
    "aflTop['proportion'] = aflTop['australian rules'] / pivot['australian rules'].sum()"
   ]
  },
  {
   "cell_type": "code",
   "execution_count": 50,
   "metadata": {
    "hidden": true
   },
   "outputs": [],
   "source": [
    "aflTop = aflTop.T"
   ]
  },
  {
   "cell_type": "code",
   "execution_count": 51,
   "metadata": {
    "hidden": true
   },
   "outputs": [],
   "source": [
    "aflTop['other'] = otherSports2DF.sum()"
   ]
  },
  {
   "cell_type": "code",
   "execution_count": 52,
   "metadata": {
    "hidden": true
   },
   "outputs": [],
   "source": [
    "aflTop = aflTop.T"
   ]
  },
  {
   "cell_type": "code",
   "execution_count": 53,
   "metadata": {
    "hidden": true
   },
   "outputs": [
    {
     "data": {
      "text/html": [
       "<div>\n",
       "<style scoped>\n",
       "    .dataframe tbody tr th:only-of-type {\n",
       "        vertical-align: middle;\n",
       "    }\n",
       "\n",
       "    .dataframe tbody tr th {\n",
       "        vertical-align: top;\n",
       "    }\n",
       "\n",
       "    .dataframe thead th {\n",
       "        text-align: right;\n",
       "    }\n",
       "</style>\n",
       "<table border=\"1\" class=\"dataframe\">\n",
       "  <thead>\n",
       "    <tr style=\"text-align: right;\">\n",
       "      <th></th>\n",
       "      <th>australian rules</th>\n",
       "      <th>proportion</th>\n",
       "    </tr>\n",
       "    <tr>\n",
       "      <th>participant_lga</th>\n",
       "      <th></th>\n",
       "      <th></th>\n",
       "    </tr>\n",
       "  </thead>\n",
       "  <tbody>\n",
       "    <tr>\n",
       "      <th>onkaparinga</th>\n",
       "      <td>5258.0</td>\n",
       "      <td>0.111342</td>\n",
       "    </tr>\n",
       "    <tr>\n",
       "      <th>salisbury</th>\n",
       "      <td>2856.0</td>\n",
       "      <td>0.060478</td>\n",
       "    </tr>\n",
       "    <tr>\n",
       "      <th>playford</th>\n",
       "      <td>2580.0</td>\n",
       "      <td>0.054633</td>\n",
       "    </tr>\n",
       "    <tr>\n",
       "      <th>port adelaide enfield</th>\n",
       "      <td>2453.0</td>\n",
       "      <td>0.051944</td>\n",
       "    </tr>\n",
       "    <tr>\n",
       "      <th>marion</th>\n",
       "      <td>2362.0</td>\n",
       "      <td>0.050017</td>\n",
       "    </tr>\n",
       "    <tr>\n",
       "      <th>charles sturt</th>\n",
       "      <td>2147.0</td>\n",
       "      <td>0.045464</td>\n",
       "    </tr>\n",
       "    <tr>\n",
       "      <th>tea tree gully</th>\n",
       "      <td>2131.0</td>\n",
       "      <td>0.045125</td>\n",
       "    </tr>\n",
       "    <tr>\n",
       "      <th>mitcham</th>\n",
       "      <td>1939.0</td>\n",
       "      <td>0.041060</td>\n",
       "    </tr>\n",
       "    <tr>\n",
       "      <th>mount gambier</th>\n",
       "      <td>1710.0</td>\n",
       "      <td>0.036210</td>\n",
       "    </tr>\n",
       "    <tr>\n",
       "      <th>adelaide hills</th>\n",
       "      <td>1412.0</td>\n",
       "      <td>0.029900</td>\n",
       "    </tr>\n",
       "    <tr>\n",
       "      <th>other</th>\n",
       "      <td>22376.0</td>\n",
       "      <td>0.473827</td>\n",
       "    </tr>\n",
       "  </tbody>\n",
       "</table>\n",
       "</div>"
      ],
      "text/plain": [
       "                       australian rules  proportion\n",
       "participant_lga                                    \n",
       "onkaparinga                      5258.0    0.111342\n",
       "salisbury                        2856.0    0.060478\n",
       "playford                         2580.0    0.054633\n",
       "port adelaide enfield            2453.0    0.051944\n",
       "marion                           2362.0    0.050017\n",
       "charles sturt                    2147.0    0.045464\n",
       "tea tree gully                   2131.0    0.045125\n",
       "mitcham                          1939.0    0.041060\n",
       "mount gambier                    1710.0    0.036210\n",
       "adelaide hills                   1412.0    0.029900\n",
       "other                           22376.0    0.473827"
      ]
     },
     "execution_count": 53,
     "metadata": {},
     "output_type": "execute_result"
    }
   ],
   "source": [
    "aflTop"
   ]
  },
  {
   "cell_type": "code",
   "execution_count": 54,
   "metadata": {
    "hidden": true
   },
   "outputs": [],
   "source": [
    "aflTop_prop = aflTop.drop(columns='australian rules')"
   ]
  },
  {
   "cell_type": "code",
   "execution_count": 55,
   "metadata": {
    "hidden": true
   },
   "outputs": [
    {
     "data": {
      "text/plain": [
       "<Figure size 1080x360 with 0 Axes>"
      ]
     },
     "metadata": {},
     "output_type": "display_data"
    },
    {
     "data": {
      "image/png": "[encoded data removed]",
      "text/plain": [
       "<Figure size 1080x360 with 1 Axes>"
      ]
     },
     "metadata": {},
     "output_type": "display_data"
    }
   ],
   "source": [
    "sns.set_theme(style=\"whitegrid\")\n",
    "fig = plt.figsize=(12, 5)\n",
    "plt.figure(figsize=(15,5))\n",
    "\n",
    "ax = aflTop_prop.plot(kind = 'barh',stacked=True,style='b', alpha=0.7,\n",
    "              title='Australian Rules LGAs claim contribution', figsize=(15,5))\n",
    "\n",
    "\n",
    "plt.legend(bbox_to_anchor=(1, 1))\n",
    "ax.set(ylabel='Australian Rules', xlabel = 'Proportion')\n",
    "\n",
    "plt.show()"
   ]
  },
  {
   "cell_type": "markdown",
   "metadata": {
    "hidden": true
   },
   "source": [
    "check 2d matrix, our data is 2d so check different 2d plots, see what they look like. \n",
    "\n",
    "normalisation for this df would involve proportion to the population of each lga \n",
    "\n",
    "OR\n",
    "\n",
    "divide the values by the sum of each column to get the percentage of claim for each sport in each lga. (easier method)"
   ]
  },
  {
   "cell_type": "markdown",
   "metadata": {
    "heading_collapsed": true
   },
   "source": [
    "# Question 2"
   ]
  },
  {
   "cell_type": "markdown",
   "metadata": {
    "hidden": true
   },
   "source": [
    "Are some sports more popular in different parts of the state?"
   ]
  },
  {
   "cell_type": "markdown",
   "metadata": {
    "hidden": true
   },
   "source": [
    "to check what types of sports are popular in different parts of the state: \n",
    "\n",
    "- what sports are most popular for each LGA \n",
    "- can check the proportion of the topSports in each LGA, will show how they won't be the same shape. That is aussie rules might be less popular in one compared to gymnastics"
   ]
  },
  {
   "cell_type": "markdown",
   "metadata": {
    "heading_collapsed": true,
    "hidden": true
   },
   "source": [
    "### help 4 "
   ]
  },
  {
   "cell_type": "markdown",
   "metadata": {
    "hidden": true
   },
   "source": [
    "\n",
    "**QUESTIONS** \n",
    "***\n",
    "**1.**\n",
    "trying to get these stacked like in https://seaborn.pydata.org/examples/part_whole_bars.html\n",
    "\n",
    "below is the plots separately, but i want them all together\n",
    "\n",
    "**2.** had to use extend multiple times to plot them together.\n",
    "\n",
    "**3.** difference between using the highest claims and highest claim rate LGAs? topSports uses highest cclaim rates so perhaps we shoulld use highest claim rates for topLGAs\n",
    "***"
   ]
  },
  {
   "cell_type": "markdown",
   "metadata": {
    "hidden": true
   },
   "source": [
    "what if I use topLGAsClaim instead of the LGAs given by the list1 2 3 4 etc... ? "
   ]
  },
  {
   "cell_type": "code",
   "execution_count": 56,
   "metadata": {
    "hidden": true
   },
   "outputs": [
    {
     "data": {
      "text/plain": [
       "voucher_sport\n",
       "gymnastics    9823.0\n",
       "swimming      1204.0\n",
       "dtype: float64"
      ]
     },
     "execution_count": 56,
     "metadata": {},
     "output_type": "execute_result"
    }
   ],
   "source": [
    "pivot[['gymnastics','swimming']].sum()"
   ]
  },
  {
   "cell_type": "code",
   "execution_count": 57,
   "metadata": {
    "hidden": true
   },
   "outputs": [],
   "source": [
    "netball = pivot['netball'].sort_values().nlargest(5)\n",
    "gymnastics =pivot['gymnastics'].sort_values().nlargest(5)\n",
    "soccer= pivot['football (soccer)'].sort_values().nlargest(5)\n",
    "afl= pivot['australian rules'].sort_values().nlargest(5)\n",
    "basketball = pivot['basketball'].sort_values().nlargest(5)"
   ]
  },
  {
   "cell_type": "code",
   "execution_count": 58,
   "metadata": {
    "hidden": true
   },
   "outputs": [],
   "source": [
    "list1 = list(netball.index.values)\n",
    "list2 = list(gymnastics.index.values)\n",
    "list3 = list(soccer.index.values)\n",
    "list4 = list(afl.index.values)\n",
    "list5 = list(basketball.index.values)\n",
    "\n",
    "# mylist = list1.concatenate([list2, list3, list4, list5])"
   ]
  },
  {
   "cell_type": "code",
   "execution_count": 59,
   "metadata": {
    "hidden": true
   },
   "outputs": [
    {
     "data": {
      "text/plain": [
       "{'adelaide hills', 'mount barker', 'onkaparinga', 'playford', 'tea tree gully'}"
      ]
     },
     "execution_count": 59,
     "metadata": {},
     "output_type": "execute_result"
    }
   ],
   "source": [
    "set(list1)"
   ]
  },
  {
   "cell_type": "code",
   "execution_count": 60,
   "metadata": {
    "hidden": true
   },
   "outputs": [],
   "source": [
    "list1.extend(list2)"
   ]
  },
  {
   "cell_type": "code",
   "execution_count": 61,
   "metadata": {
    "hidden": true
   },
   "outputs": [],
   "source": [
    "list1.extend(list3)"
   ]
  },
  {
   "cell_type": "code",
   "execution_count": 62,
   "metadata": {
    "hidden": true
   },
   "outputs": [],
   "source": [
    "list1.extend(list4)"
   ]
  },
  {
   "cell_type": "code",
   "execution_count": 63,
   "metadata": {
    "hidden": true
   },
   "outputs": [],
   "source": [
    "list1.extend(list5)"
   ]
  },
  {
   "cell_type": "raw",
   "metadata": {
    "hidden": true
   },
   "source": [
    "totalClaimed.sort_values(ascending=False)"
   ]
  },
  {
   "cell_type": "markdown",
   "metadata": {
    "hidden": true
   },
   "source": [
    "So I want to change these values to their proportions. "
   ]
  },
  {
   "cell_type": "code",
   "execution_count": 64,
   "metadata": {
    "hidden": true
   },
   "outputs": [
    {
     "data": {
      "text/html": [
       "<div>\n",
       "<style scoped>\n",
       "    .dataframe tbody tr th:only-of-type {\n",
       "        vertical-align: middle;\n",
       "    }\n",
       "\n",
       "    .dataframe tbody tr th {\n",
       "        vertical-align: top;\n",
       "    }\n",
       "\n",
       "    .dataframe thead th {\n",
       "        text-align: right;\n",
       "    }\n",
       "</style>\n",
       "<table border=\"1\" class=\"dataframe\">\n",
       "  <thead>\n",
       "    <tr style=\"text-align: right;\">\n",
       "      <th>voucher_sport</th>\n",
       "      <th>australian rules</th>\n",
       "      <th>netball</th>\n",
       "      <th>football (soccer)</th>\n",
       "      <th>gymnastics</th>\n",
       "      <th>basketball</th>\n",
       "    </tr>\n",
       "    <tr>\n",
       "      <th>participant_lga</th>\n",
       "      <th></th>\n",
       "      <th></th>\n",
       "      <th></th>\n",
       "      <th></th>\n",
       "      <th></th>\n",
       "    </tr>\n",
       "  </thead>\n",
       "  <tbody>\n",
       "    <tr>\n",
       "      <th>onkaparinga</th>\n",
       "      <td>5258.0</td>\n",
       "      <td>2242.0</td>\n",
       "      <td>1204.0</td>\n",
       "      <td>1211.0</td>\n",
       "      <td>296.0</td>\n",
       "    </tr>\n",
       "    <tr>\n",
       "      <th>port adelaide enfield</th>\n",
       "      <td>2453.0</td>\n",
       "      <td>630.0</td>\n",
       "      <td>853.0</td>\n",
       "      <td>627.0</td>\n",
       "      <td>243.0</td>\n",
       "    </tr>\n",
       "    <tr>\n",
       "      <th>charles sturt</th>\n",
       "      <td>2147.0</td>\n",
       "      <td>584.0</td>\n",
       "      <td>917.0</td>\n",
       "      <td>807.0</td>\n",
       "      <td>256.0</td>\n",
       "    </tr>\n",
       "    <tr>\n",
       "      <th>whyalla</th>\n",
       "      <td>569.0</td>\n",
       "      <td>509.0</td>\n",
       "      <td>268.0</td>\n",
       "      <td>154.0</td>\n",
       "      <td>605.0</td>\n",
       "    </tr>\n",
       "    <tr>\n",
       "      <th>port augusta</th>\n",
       "      <td>119.0</td>\n",
       "      <td>765.0</td>\n",
       "      <td>111.0</td>\n",
       "      <td>10.0</td>\n",
       "      <td>364.0</td>\n",
       "    </tr>\n",
       "    <tr>\n",
       "      <th>barossa</th>\n",
       "      <td>1196.0</td>\n",
       "      <td>445.0</td>\n",
       "      <td>197.0</td>\n",
       "      <td>117.0</td>\n",
       "      <td>341.0</td>\n",
       "    </tr>\n",
       "    <tr>\n",
       "      <th>adelaide hills</th>\n",
       "      <td>1412.0</td>\n",
       "      <td>1395.0</td>\n",
       "      <td>812.0</td>\n",
       "      <td>176.0</td>\n",
       "      <td>48.0</td>\n",
       "    </tr>\n",
       "    <tr>\n",
       "      <th>tea tree gully</th>\n",
       "      <td>2131.0</td>\n",
       "      <td>1068.0</td>\n",
       "      <td>1356.0</td>\n",
       "      <td>1114.0</td>\n",
       "      <td>284.0</td>\n",
       "    </tr>\n",
       "    <tr>\n",
       "      <th>mount barker</th>\n",
       "      <td>1230.0</td>\n",
       "      <td>880.0</td>\n",
       "      <td>333.0</td>\n",
       "      <td>294.0</td>\n",
       "      <td>147.0</td>\n",
       "    </tr>\n",
       "    <tr>\n",
       "      <th>marion</th>\n",
       "      <td>2362.0</td>\n",
       "      <td>723.0</td>\n",
       "      <td>203.0</td>\n",
       "      <td>719.0</td>\n",
       "      <td>101.0</td>\n",
       "    </tr>\n",
       "    <tr>\n",
       "      <th>naracoorte lucindale</th>\n",
       "      <td>257.0</td>\n",
       "      <td>165.0</td>\n",
       "      <td>57.0</td>\n",
       "      <td>0.0</td>\n",
       "      <td>364.0</td>\n",
       "    </tr>\n",
       "    <tr>\n",
       "      <th>salisbury</th>\n",
       "      <td>2856.0</td>\n",
       "      <td>566.0</td>\n",
       "      <td>2069.0</td>\n",
       "      <td>763.0</td>\n",
       "      <td>362.0</td>\n",
       "    </tr>\n",
       "    <tr>\n",
       "      <th>playford</th>\n",
       "      <td>2580.0</td>\n",
       "      <td>904.0</td>\n",
       "      <td>1880.0</td>\n",
       "      <td>451.0</td>\n",
       "      <td>111.0</td>\n",
       "    </tr>\n",
       "  </tbody>\n",
       "</table>\n",
       "</div>"
      ],
      "text/plain": [
       "voucher_sport          australian rules  netball  football (soccer)  \\\n",
       "participant_lga                                                       \n",
       "onkaparinga                      5258.0   2242.0             1204.0   \n",
       "port adelaide enfield            2453.0    630.0              853.0   \n",
       "charles sturt                    2147.0    584.0              917.0   \n",
       "whyalla                           569.0    509.0              268.0   \n",
       "port augusta                      119.0    765.0              111.0   \n",
       "barossa                          1196.0    445.0              197.0   \n",
       "adelaide hills                   1412.0   1395.0              812.0   \n",
       "tea tree gully                   2131.0   1068.0             1356.0   \n",
       "mount barker                     1230.0    880.0              333.0   \n",
       "marion                           2362.0    723.0              203.0   \n",
       "naracoorte lucindale              257.0    165.0               57.0   \n",
       "salisbury                        2856.0    566.0             2069.0   \n",
       "playford                         2580.0    904.0             1880.0   \n",
       "\n",
       "voucher_sport          gymnastics  basketball  \n",
       "participant_lga                                \n",
       "onkaparinga                1211.0       296.0  \n",
       "port adelaide enfield       627.0       243.0  \n",
       "charles sturt               807.0       256.0  \n",
       "whyalla                     154.0       605.0  \n",
       "port augusta                 10.0       364.0  \n",
       "barossa                     117.0       341.0  \n",
       "adelaide hills              176.0        48.0  \n",
       "tea tree gully             1114.0       284.0  \n",
       "mount barker                294.0       147.0  \n",
       "marion                      719.0       101.0  \n",
       "naracoorte lucindale          0.0       364.0  \n",
       "salisbury                   763.0       362.0  \n",
       "playford                    451.0       111.0  "
      ]
     },
     "execution_count": 64,
     "metadata": {},
     "output_type": "execute_result"
    }
   ],
   "source": [
    "pivot[topSports].loc[set(list1)]"
   ]
  },
  {
   "cell_type": "code",
   "execution_count": 65,
   "metadata": {
    "hidden": true
   },
   "outputs": [],
   "source": [
    "topClaims = pivot[topSports].loc[set(list1)]"
   ]
  },
  {
   "cell_type": "code",
   "execution_count": 66,
   "metadata": {
    "hidden": true
   },
   "outputs": [],
   "source": [
    "topClaims['population'] = LGA_scores['population']"
   ]
  },
  {
   "cell_type": "code",
   "execution_count": 67,
   "metadata": {
    "hidden": true
   },
   "outputs": [],
   "source": [
    "topClaims['total'] = pivot.sum(axis=1) / topClaims['population']"
   ]
  },
  {
   "cell_type": "code",
   "execution_count": 68,
   "metadata": {
    "hidden": true
   },
   "outputs": [],
   "source": [
    "other = pivot.loc[:, ~pivot.columns.isin(topSports)].sum(axis=1).to_frame()"
   ]
  },
  {
   "cell_type": "code",
   "execution_count": 69,
   "metadata": {
    "hidden": true
   },
   "outputs": [],
   "source": [
    "topClaims['other'] = other"
   ]
  },
  {
   "cell_type": "markdown",
   "metadata": {
    "hidden": true
   },
   "source": [
    "help with `.apply()` from https://appdividend.com/2020/03/05/python-pandas-how-to-apply-formula-to-entire-column-and-row/"
   ]
  },
  {
   "cell_type": "raw",
   "metadata": {
    "hidden": true
   },
   "source": [
    "test"
   ]
  },
  {
   "cell_type": "code",
   "execution_count": 70,
   "metadata": {
    "hidden": true
   },
   "outputs": [],
   "source": [
    "newDF = topClaims.apply(lambda a: a/topClaims['population'] )"
   ]
  },
  {
   "cell_type": "code",
   "execution_count": 71,
   "metadata": {
    "hidden": true
   },
   "outputs": [],
   "source": [
    "topClaims[topSports] = newDF[topSports]"
   ]
  },
  {
   "cell_type": "code",
   "execution_count": 72,
   "metadata": {
    "hidden": true
   },
   "outputs": [],
   "source": [
    "topClaims['other'] = newDF['other']"
   ]
  },
  {
   "cell_type": "raw",
   "metadata": {
    "hidden": true
   },
   "source": [
    "columnsList = list(['australian rules','netball','football (soccer)','gymnastics','basketball','other','total','population'])"
   ]
  },
  {
   "cell_type": "code",
   "execution_count": 73,
   "metadata": {
    "hidden": true
   },
   "outputs": [],
   "source": [
    "columnsList = list(topClaims.columns[:-3])"
   ]
  },
  {
   "cell_type": "code",
   "execution_count": 74,
   "metadata": {
    "hidden": true
   },
   "outputs": [],
   "source": [
    "columnsList.extend(['other','total','population'])"
   ]
  },
  {
   "cell_type": "code",
   "execution_count": 75,
   "metadata": {
    "hidden": true
   },
   "outputs": [
    {
     "data": {
      "text/plain": [
       "['australian rules',\n",
       " 'netball',\n",
       " 'football (soccer)',\n",
       " 'gymnastics',\n",
       " 'basketball',\n",
       " 'other',\n",
       " 'total',\n",
       " 'population']"
      ]
     },
     "execution_count": 75,
     "metadata": {},
     "output_type": "execute_result"
    }
   ],
   "source": [
    "columnsList"
   ]
  },
  {
   "cell_type": "code",
   "execution_count": 76,
   "metadata": {
    "hidden": true
   },
   "outputs": [],
   "source": [
    "topClaims = topClaims.reindex(columns = columnsList)"
   ]
  },
  {
   "cell_type": "code",
   "execution_count": 77,
   "metadata": {
    "hidden": true
   },
   "outputs": [
    {
     "data": {
      "text/html": [
       "<div>\n",
       "<style scoped>\n",
       "    .dataframe tbody tr th:only-of-type {\n",
       "        vertical-align: middle;\n",
       "    }\n",
       "\n",
       "    .dataframe tbody tr th {\n",
       "        vertical-align: top;\n",
       "    }\n",
       "\n",
       "    .dataframe thead th {\n",
       "        text-align: right;\n",
       "    }\n",
       "</style>\n",
       "<table border=\"1\" class=\"dataframe\">\n",
       "  <thead>\n",
       "    <tr style=\"text-align: right;\">\n",
       "      <th>voucher_sport</th>\n",
       "      <th>australian rules</th>\n",
       "      <th>netball</th>\n",
       "      <th>football (soccer)</th>\n",
       "      <th>gymnastics</th>\n",
       "      <th>basketball</th>\n",
       "      <th>other</th>\n",
       "      <th>total</th>\n",
       "      <th>population</th>\n",
       "    </tr>\n",
       "    <tr>\n",
       "      <th>participant_lga</th>\n",
       "      <th></th>\n",
       "      <th></th>\n",
       "      <th></th>\n",
       "      <th></th>\n",
       "      <th></th>\n",
       "      <th></th>\n",
       "      <th></th>\n",
       "      <th></th>\n",
       "    </tr>\n",
       "  </thead>\n",
       "  <tbody>\n",
       "    <tr>\n",
       "      <th>onkaparinga</th>\n",
       "      <td>0.032962</td>\n",
       "      <td>0.014055</td>\n",
       "      <td>0.007548</td>\n",
       "      <td>0.007592</td>\n",
       "      <td>0.001856</td>\n",
       "      <td>0.016117</td>\n",
       "      <td>0.080129</td>\n",
       "      <td>159517.0</td>\n",
       "    </tr>\n",
       "    <tr>\n",
       "      <th>port adelaide enfield</th>\n",
       "      <td>0.021747</td>\n",
       "      <td>0.005585</td>\n",
       "      <td>0.007562</td>\n",
       "      <td>0.005559</td>\n",
       "      <td>0.002154</td>\n",
       "      <td>0.013990</td>\n",
       "      <td>0.056597</td>\n",
       "      <td>112797.0</td>\n",
       "    </tr>\n",
       "    <tr>\n",
       "      <th>charles sturt</th>\n",
       "      <td>0.020463</td>\n",
       "      <td>0.005566</td>\n",
       "      <td>0.008740</td>\n",
       "      <td>0.007691</td>\n",
       "      <td>0.002440</td>\n",
       "      <td>0.020835</td>\n",
       "      <td>0.065735</td>\n",
       "      <td>104922.0</td>\n",
       "    </tr>\n",
       "    <tr>\n",
       "      <th>whyalla</th>\n",
       "      <td>0.025782</td>\n",
       "      <td>0.023063</td>\n",
       "      <td>0.012143</td>\n",
       "      <td>0.006978</td>\n",
       "      <td>0.027413</td>\n",
       "      <td>0.017354</td>\n",
       "      <td>0.112732</td>\n",
       "      <td>22070.0</td>\n",
       "    </tr>\n",
       "    <tr>\n",
       "      <th>port augusta</th>\n",
       "      <td>0.008513</td>\n",
       "      <td>0.054729</td>\n",
       "      <td>0.007941</td>\n",
       "      <td>0.000715</td>\n",
       "      <td>0.026041</td>\n",
       "      <td>0.010946</td>\n",
       "      <td>0.108885</td>\n",
       "      <td>13978.0</td>\n",
       "    </tr>\n",
       "    <tr>\n",
       "      <th>barossa</th>\n",
       "      <td>0.053937</td>\n",
       "      <td>0.020069</td>\n",
       "      <td>0.008884</td>\n",
       "      <td>0.005276</td>\n",
       "      <td>0.015378</td>\n",
       "      <td>0.026067</td>\n",
       "      <td>0.129611</td>\n",
       "      <td>22174.0</td>\n",
       "    </tr>\n",
       "    <tr>\n",
       "      <th>adelaide hills</th>\n",
       "      <td>0.036579</td>\n",
       "      <td>0.036139</td>\n",
       "      <td>0.021036</td>\n",
       "      <td>0.004559</td>\n",
       "      <td>0.001243</td>\n",
       "      <td>0.023652</td>\n",
       "      <td>0.123209</td>\n",
       "      <td>38601.0</td>\n",
       "    </tr>\n",
       "    <tr>\n",
       "      <th>tea tree gully</th>\n",
       "      <td>0.022323</td>\n",
       "      <td>0.011188</td>\n",
       "      <td>0.014205</td>\n",
       "      <td>0.011670</td>\n",
       "      <td>0.002975</td>\n",
       "      <td>0.013262</td>\n",
       "      <td>0.075623</td>\n",
       "      <td>95461.0</td>\n",
       "    </tr>\n",
       "    <tr>\n",
       "      <th>mount barker</th>\n",
       "      <td>0.041267</td>\n",
       "      <td>0.029524</td>\n",
       "      <td>0.011172</td>\n",
       "      <td>0.009864</td>\n",
       "      <td>0.004932</td>\n",
       "      <td>0.019627</td>\n",
       "      <td>0.116386</td>\n",
       "      <td>29806.0</td>\n",
       "    </tr>\n",
       "    <tr>\n",
       "      <th>marion</th>\n",
       "      <td>0.028456</td>\n",
       "      <td>0.008710</td>\n",
       "      <td>0.002446</td>\n",
       "      <td>0.008662</td>\n",
       "      <td>0.001217</td>\n",
       "      <td>0.014252</td>\n",
       "      <td>0.063743</td>\n",
       "      <td>83005.0</td>\n",
       "    </tr>\n",
       "    <tr>\n",
       "      <th>naracoorte lucindale</th>\n",
       "      <td>NaN</td>\n",
       "      <td>NaN</td>\n",
       "      <td>NaN</td>\n",
       "      <td>NaN</td>\n",
       "      <td>NaN</td>\n",
       "      <td>NaN</td>\n",
       "      <td>NaN</td>\n",
       "      <td>NaN</td>\n",
       "    </tr>\n",
       "    <tr>\n",
       "      <th>salisbury</th>\n",
       "      <td>0.022128</td>\n",
       "      <td>0.004385</td>\n",
       "      <td>0.016030</td>\n",
       "      <td>0.005912</td>\n",
       "      <td>0.002805</td>\n",
       "      <td>0.012033</td>\n",
       "      <td>0.063293</td>\n",
       "      <td>129067.0</td>\n",
       "    </tr>\n",
       "    <tr>\n",
       "      <th>playford</th>\n",
       "      <td>0.032624</td>\n",
       "      <td>0.011431</td>\n",
       "      <td>0.023773</td>\n",
       "      <td>0.005703</td>\n",
       "      <td>0.001404</td>\n",
       "      <td>0.012822</td>\n",
       "      <td>0.087757</td>\n",
       "      <td>79082.0</td>\n",
       "    </tr>\n",
       "  </tbody>\n",
       "</table>\n",
       "</div>"
      ],
      "text/plain": [
       "voucher_sport          australian rules   netball  football (soccer)  \\\n",
       "participant_lga                                                        \n",
       "onkaparinga                    0.032962  0.014055           0.007548   \n",
       "port adelaide enfield          0.021747  0.005585           0.007562   \n",
       "charles sturt                  0.020463  0.005566           0.008740   \n",
       "whyalla                        0.025782  0.023063           0.012143   \n",
       "port augusta                   0.008513  0.054729           0.007941   \n",
       "barossa                        0.053937  0.020069           0.008884   \n",
       "adelaide hills                 0.036579  0.036139           0.021036   \n",
       "tea tree gully                 0.022323  0.011188           0.014205   \n",
       "mount barker                   0.041267  0.029524           0.011172   \n",
       "marion                         0.028456  0.008710           0.002446   \n",
       "naracoorte lucindale                NaN       NaN                NaN   \n",
       "salisbury                      0.022128  0.004385           0.016030   \n",
       "playford                       0.032624  0.011431           0.023773   \n",
       "\n",
       "voucher_sport          gymnastics  basketball     other     total  population  \n",
       "participant_lga                                                                \n",
       "onkaparinga              0.007592    0.001856  0.016117  0.080129    159517.0  \n",
       "port adelaide enfield    0.005559    0.002154  0.013990  0.056597    112797.0  \n",
       "charles sturt            0.007691    0.002440  0.020835  0.065735    104922.0  \n",
       "whyalla                  0.006978    0.027413  0.017354  0.112732     22070.0  \n",
       "port augusta             0.000715    0.026041  0.010946  0.108885     13978.0  \n",
       "barossa                  0.005276    0.015378  0.026067  0.129611     22174.0  \n",
       "adelaide hills           0.004559    0.001243  0.023652  0.123209     38601.0  \n",
       "tea tree gully           0.011670    0.002975  0.013262  0.075623     95461.0  \n",
       "mount barker             0.009864    0.004932  0.019627  0.116386     29806.0  \n",
       "marion                   0.008662    0.001217  0.014252  0.063743     83005.0  \n",
       "naracoorte lucindale          NaN         NaN       NaN       NaN         NaN  \n",
       "salisbury                0.005912    0.002805  0.012033  0.063293    129067.0  \n",
       "playford                 0.005703    0.001404  0.012822  0.087757     79082.0  "
      ]
     },
     "execution_count": 77,
     "metadata": {},
     "output_type": "execute_result"
    }
   ],
   "source": [
    "topClaims"
   ]
  },
  {
   "cell_type": "markdown",
   "metadata": {
    "hidden": true
   },
   "source": [
    "Checking to see the total column is correct. The False value represents the NANs in the DF. We will remove them."
   ]
  },
  {
   "cell_type": "code",
   "execution_count": 78,
   "metadata": {
    "hidden": true
   },
   "outputs": [
    {
     "data": {
      "text/plain": [
       "participant_lga\n",
       "onkaparinga               True\n",
       "port adelaide enfield     True\n",
       "charles sturt             True\n",
       "whyalla                   True\n",
       "port augusta              True\n",
       "barossa                   True\n",
       "adelaide hills            True\n",
       "tea tree gully            True\n",
       "mount barker              True\n",
       "marion                    True\n",
       "naracoorte lucindale     False\n",
       "salisbury                 True\n",
       "playford                  True\n",
       "dtype: bool"
      ]
     },
     "execution_count": 78,
     "metadata": {},
     "output_type": "execute_result"
    }
   ],
   "source": [
    "round(topClaims[topSports].sum(axis=1) + topClaims['other'], 2) == round(topClaims['total'],2)"
   ]
  },
  {
   "cell_type": "code",
   "execution_count": 79,
   "metadata": {
    "hidden": true
   },
   "outputs": [],
   "source": [
    "topClaims = topClaims.drop(['population'], axis=1)"
   ]
  },
  {
   "cell_type": "code",
   "execution_count": 80,
   "metadata": {
    "hidden": true
   },
   "outputs": [],
   "source": [
    "topClaims = topClaims.dropna()"
   ]
  },
  {
   "cell_type": "code",
   "execution_count": 81,
   "metadata": {
    "hidden": true
   },
   "outputs": [
    {
     "data": {
      "text/html": [
       "<div>\n",
       "<style scoped>\n",
       "    .dataframe tbody tr th:only-of-type {\n",
       "        vertical-align: middle;\n",
       "    }\n",
       "\n",
       "    .dataframe tbody tr th {\n",
       "        vertical-align: top;\n",
       "    }\n",
       "\n",
       "    .dataframe thead th {\n",
       "        text-align: right;\n",
       "    }\n",
       "</style>\n",
       "<table border=\"1\" class=\"dataframe\">\n",
       "  <thead>\n",
       "    <tr style=\"text-align: right;\">\n",
       "      <th>voucher_sport</th>\n",
       "      <th>australian rules</th>\n",
       "      <th>netball</th>\n",
       "      <th>football (soccer)</th>\n",
       "      <th>gymnastics</th>\n",
       "      <th>basketball</th>\n",
       "      <th>other</th>\n",
       "      <th>total</th>\n",
       "    </tr>\n",
       "    <tr>\n",
       "      <th>participant_lga</th>\n",
       "      <th></th>\n",
       "      <th></th>\n",
       "      <th></th>\n",
       "      <th></th>\n",
       "      <th></th>\n",
       "      <th></th>\n",
       "      <th></th>\n",
       "    </tr>\n",
       "  </thead>\n",
       "  <tbody>\n",
       "    <tr>\n",
       "      <th>onkaparinga</th>\n",
       "      <td>0.032962</td>\n",
       "      <td>0.014055</td>\n",
       "      <td>0.007548</td>\n",
       "      <td>0.007592</td>\n",
       "      <td>0.001856</td>\n",
       "      <td>0.016117</td>\n",
       "      <td>0.080129</td>\n",
       "    </tr>\n",
       "    <tr>\n",
       "      <th>port adelaide enfield</th>\n",
       "      <td>0.021747</td>\n",
       "      <td>0.005585</td>\n",
       "      <td>0.007562</td>\n",
       "      <td>0.005559</td>\n",
       "      <td>0.002154</td>\n",
       "      <td>0.013990</td>\n",
       "      <td>0.056597</td>\n",
       "    </tr>\n",
       "    <tr>\n",
       "      <th>charles sturt</th>\n",
       "      <td>0.020463</td>\n",
       "      <td>0.005566</td>\n",
       "      <td>0.008740</td>\n",
       "      <td>0.007691</td>\n",
       "      <td>0.002440</td>\n",
       "      <td>0.020835</td>\n",
       "      <td>0.065735</td>\n",
       "    </tr>\n",
       "    <tr>\n",
       "      <th>whyalla</th>\n",
       "      <td>0.025782</td>\n",
       "      <td>0.023063</td>\n",
       "      <td>0.012143</td>\n",
       "      <td>0.006978</td>\n",
       "      <td>0.027413</td>\n",
       "      <td>0.017354</td>\n",
       "      <td>0.112732</td>\n",
       "    </tr>\n",
       "    <tr>\n",
       "      <th>port augusta</th>\n",
       "      <td>0.008513</td>\n",
       "      <td>0.054729</td>\n",
       "      <td>0.007941</td>\n",
       "      <td>0.000715</td>\n",
       "      <td>0.026041</td>\n",
       "      <td>0.010946</td>\n",
       "      <td>0.108885</td>\n",
       "    </tr>\n",
       "    <tr>\n",
       "      <th>barossa</th>\n",
       "      <td>0.053937</td>\n",
       "      <td>0.020069</td>\n",
       "      <td>0.008884</td>\n",
       "      <td>0.005276</td>\n",
       "      <td>0.015378</td>\n",
       "      <td>0.026067</td>\n",
       "      <td>0.129611</td>\n",
       "    </tr>\n",
       "    <tr>\n",
       "      <th>adelaide hills</th>\n",
       "      <td>0.036579</td>\n",
       "      <td>0.036139</td>\n",
       "      <td>0.021036</td>\n",
       "      <td>0.004559</td>\n",
       "      <td>0.001243</td>\n",
       "      <td>0.023652</td>\n",
       "      <td>0.123209</td>\n",
       "    </tr>\n",
       "    <tr>\n",
       "      <th>tea tree gully</th>\n",
       "      <td>0.022323</td>\n",
       "      <td>0.011188</td>\n",
       "      <td>0.014205</td>\n",
       "      <td>0.011670</td>\n",
       "      <td>0.002975</td>\n",
       "      <td>0.013262</td>\n",
       "      <td>0.075623</td>\n",
       "    </tr>\n",
       "    <tr>\n",
       "      <th>mount barker</th>\n",
       "      <td>0.041267</td>\n",
       "      <td>0.029524</td>\n",
       "      <td>0.011172</td>\n",
       "      <td>0.009864</td>\n",
       "      <td>0.004932</td>\n",
       "      <td>0.019627</td>\n",
       "      <td>0.116386</td>\n",
       "    </tr>\n",
       "    <tr>\n",
       "      <th>marion</th>\n",
       "      <td>0.028456</td>\n",
       "      <td>0.008710</td>\n",
       "      <td>0.002446</td>\n",
       "      <td>0.008662</td>\n",
       "      <td>0.001217</td>\n",
       "      <td>0.014252</td>\n",
       "      <td>0.063743</td>\n",
       "    </tr>\n",
       "    <tr>\n",
       "      <th>salisbury</th>\n",
       "      <td>0.022128</td>\n",
       "      <td>0.004385</td>\n",
       "      <td>0.016030</td>\n",
       "      <td>0.005912</td>\n",
       "      <td>0.002805</td>\n",
       "      <td>0.012033</td>\n",
       "      <td>0.063293</td>\n",
       "    </tr>\n",
       "    <tr>\n",
       "      <th>playford</th>\n",
       "      <td>0.032624</td>\n",
       "      <td>0.011431</td>\n",
       "      <td>0.023773</td>\n",
       "      <td>0.005703</td>\n",
       "      <td>0.001404</td>\n",
       "      <td>0.012822</td>\n",
       "      <td>0.087757</td>\n",
       "    </tr>\n",
       "  </tbody>\n",
       "</table>\n",
       "</div>"
      ],
      "text/plain": [
       "voucher_sport          australian rules   netball  football (soccer)  \\\n",
       "participant_lga                                                        \n",
       "onkaparinga                    0.032962  0.014055           0.007548   \n",
       "port adelaide enfield          0.021747  0.005585           0.007562   \n",
       "charles sturt                  0.020463  0.005566           0.008740   \n",
       "whyalla                        0.025782  0.023063           0.012143   \n",
       "port augusta                   0.008513  0.054729           0.007941   \n",
       "barossa                        0.053937  0.020069           0.008884   \n",
       "adelaide hills                 0.036579  0.036139           0.021036   \n",
       "tea tree gully                 0.022323  0.011188           0.014205   \n",
       "mount barker                   0.041267  0.029524           0.011172   \n",
       "marion                         0.028456  0.008710           0.002446   \n",
       "salisbury                      0.022128  0.004385           0.016030   \n",
       "playford                       0.032624  0.011431           0.023773   \n",
       "\n",
       "voucher_sport          gymnastics  basketball     other     total  \n",
       "participant_lga                                                    \n",
       "onkaparinga              0.007592    0.001856  0.016117  0.080129  \n",
       "port adelaide enfield    0.005559    0.002154  0.013990  0.056597  \n",
       "charles sturt            0.007691    0.002440  0.020835  0.065735  \n",
       "whyalla                  0.006978    0.027413  0.017354  0.112732  \n",
       "port augusta             0.000715    0.026041  0.010946  0.108885  \n",
       "barossa                  0.005276    0.015378  0.026067  0.129611  \n",
       "adelaide hills           0.004559    0.001243  0.023652  0.123209  \n",
       "tea tree gully           0.011670    0.002975  0.013262  0.075623  \n",
       "mount barker             0.009864    0.004932  0.019627  0.116386  \n",
       "marion                   0.008662    0.001217  0.014252  0.063743  \n",
       "salisbury                0.005912    0.002805  0.012033  0.063293  \n",
       "playford                 0.005703    0.001404  0.012822  0.087757  "
      ]
     },
     "execution_count": 81,
     "metadata": {},
     "output_type": "execute_result"
    }
   ],
   "source": [
    "topClaims"
   ]
  },
  {
   "cell_type": "code",
   "execution_count": 82,
   "metadata": {
    "hidden": true
   },
   "outputs": [
    {
     "data": {
      "text/plain": [
       "<AxesSubplot:xlabel='voucher_sport', ylabel='participant_lga'>"
      ]
     },
     "execution_count": 82,
     "metadata": {},
     "output_type": "execute_result"
    },
    {
     "data": {
      "image/png": "[encoded data removed]",
      "text/plain": [
       "<Figure size 432x288 with 2 Axes>"
      ]
     },
     "metadata": {},
     "output_type": "display_data"
    }
   ],
   "source": [
    "sns.heatmap(data= topClaims.drop(columns='total').sort_values(by= 'australian rules'), linewidths = 0.5)"
   ]
  },
  {
   "cell_type": "markdown",
   "metadata": {
    "hidden": true
   },
   "source": [
    "from this, we can see that even though the topSports are most popular, there arre still instances when the other sports have quite a high claim rate. Austrralian rules is not popullar n port augusta, but netabll and basketball are. "
   ]
  },
  {
   "cell_type": "code",
   "execution_count": 83,
   "metadata": {
    "hidden": true
   },
   "outputs": [
    {
     "data": {
      "text/plain": [
       "<matplotlib.legend.Legend at 0x25b0744a648>"
      ]
     },
     "execution_count": 83,
     "metadata": {},
     "output_type": "execute_result"
    },
    {
     "data": {
      "text/plain": [
       "<Figure size 1080x720 with 0 Axes>"
      ]
     },
     "metadata": {},
     "output_type": "display_data"
    },
    {
     "data": {
      "image/png": "[encoded data removed]",
      "text/plain": [
       "<Figure size 432x288 with 1 Axes>"
      ]
     },
     "metadata": {},
     "output_type": "display_data"
    }
   ],
   "source": [
    "plt.figure(figsize=(15,10))\n",
    "\n",
    "\n",
    "topClaims.drop(columns='total').sort_values(by= 'australian rules').plot.barh(stacked=True)\n",
    "\n",
    "plt.legend(bbox_to_anchor=(1, 1))\n"
   ]
  },
  {
   "cell_type": "raw",
   "metadata": {
    "hidden": true
   },
   "source": [
    "plt.figure(figsize=(15,10))\n",
    "\n",
    "pivot_top = pivot.loc[set(list1)] \n",
    "\n",
    "pivot_top[topSports].plot.barh(stacked=True)\n"
   ]
  },
  {
   "cell_type": "raw",
   "metadata": {
    "hidden": true
   },
   "source": [
    "sns.heatmap(pivot_top[topSports])"
   ]
  },
  {
   "cell_type": "markdown",
   "metadata": {
    "heading_collapsed": true,
    "hidden": true
   },
   "source": [
    "### (don't really need this code anymore. ) plotting separately, "
   ]
  },
  {
   "cell_type": "raw",
   "metadata": {
    "hidden": true
   },
   "source": [
    "sns.set_theme(style=\"whitegrid\")\n",
    "fig = plt.figure(figsize=(12, 5))\n",
    "# fig, axes = plt.subplots(5, 1)\n",
    "\n",
    "my_colors = ['b', 'r', 'g', 'y', 'm']\n",
    "\n",
    "\n",
    "netball.plot(kind='barh',stacked=True, color='r', figsize=(12, 6))\n",
    "# swimming.plot(kind='barh',stacked=True, color='b',figsize=(12, 6))\n",
    "\n",
    "# soccer.plot(kind='barh',stacked=True, color='g',figsize=(12, 6))\n",
    "\n",
    "# afl.plot(kind='barh',stacked=True, color='y',figsize=(12, 6))\n",
    "\n",
    "# basketball.plot(kind='barh',stacked=True, color='m',figsize=(12, 6))\n",
    "\n",
    "\n",
    "plt.legend()"
   ]
  },
  {
   "cell_type": "raw",
   "metadata": {
    "hidden": true
   },
   "source": [
    "sns.set_theme(style=\"whitegrid\")\n",
    "fig = plt.figure(figsize=(12, 5))\n",
    "# fig, axes = plt.subplots(5, 1)\n",
    "\n",
    "my_colors = ['b', 'r', 'g', 'y', 'm']\n",
    "\n",
    "\n",
    "# netball.plot(kind='barh',stacked=True, color='r', figsize=(12, 6))\n",
    "swimming.plot(kind='barh',stacked=True, color='b',figsize=(12, 6))\n",
    "\n",
    "# soccer.plot(kind='barh',stacked=True, color='g',figsize=(12, 6))\n",
    "\n",
    "# afl.plot(kind='barh',stacked=True, color='y',figsize=(12, 6))\n",
    "\n",
    "# basketball.plot(kind='barh',stacked=True, color='m',figsize=(12, 6))\n",
    "\n",
    "\n",
    "plt.legend()"
   ]
  },
  {
   "cell_type": "raw",
   "metadata": {
    "hidden": true
   },
   "source": [
    "sns.set_theme(style=\"whitegrid\")\n",
    "fig = plt.figure(figsize=(12, 5))\n",
    "# fig, axes = plt.subplots(5, 1)\n",
    "\n",
    "my_colors = ['b', 'r', 'g', 'y', 'm']\n",
    "\n",
    "\n",
    "# netball.plot(kind='barh',stacked=True, color='r', figsize=(12, 6))\n",
    "# swimming.plot(kind='barh',stacked=True, color='b',figsize=(12, 6))\n",
    "\n",
    "soccer.plot(kind='barh',stacked=True, color='g',figsize=(12, 6))\n",
    "\n",
    "# afl.plot(kind='barh',stacked=True, color='y',figsize=(12, 6))\n",
    "\n",
    "# basketball.plot(kind='barh',stacked=True, color='m',figsize=(12, 6))\n",
    "\n",
    "\n",
    "plt.legend()"
   ]
  },
  {
   "cell_type": "raw",
   "metadata": {
    "hidden": true
   },
   "source": [
    "sns.set_theme(style=\"whitegrid\")\n",
    "fig = plt.figure(figsize=(12, 5))\n",
    "# fig, axes = plt.subplots(5, 1)\n",
    "\n",
    "my_colors = ['b', 'r', 'g', 'y', 'm']\n",
    "\n",
    "\n",
    "# netball.plot(kind='barh',stacked=True, color='r', figsize=(12, 6))\n",
    "# swimming.plot(kind='barh',stacked=True, color='b',figsize=(12, 6))\n",
    "\n",
    "# soccer.plot(kind='barh',stacked=True, color='g',figsize=(12, 6))\n",
    "\n",
    "afl.plot(kind='barh',stacked=True, color='y',figsize=(12, 6))\n",
    "\n",
    "# basketball.plot(kind='barh',stacked=True, color='m',figsize=(12, 6))\n",
    "\n",
    "\n",
    "plt.legend()"
   ]
  },
  {
   "cell_type": "raw",
   "metadata": {
    "hidden": true
   },
   "source": [
    "sns.set_theme(style=\"whitegrid\")\n",
    "fig = plt.figure(figsize=(12, 5))\n",
    "# fig, axes = plt.subplots(5, 1)\n",
    "\n",
    "my_colors = ['b', 'r', 'g', 'y', 'm']\n",
    "\n",
    "\n",
    "# netball.plot(kind='barh',stacked=True, color='r', figsize=(12, 6))\n",
    "# swimming.plot(kind='barh',stacked=True, color='b',figsize=(12, 6))\n",
    "\n",
    "# soccer.plot(kind='barh',stacked=True, color='g',figsize=(12, 6))\n",
    "\n",
    "# afl.plot(kind='barh',stacked=True, color='y',figsize=(12, 6))\n",
    "\n",
    "basketball.plot(kind='barh',stacked=True, color='m',figsize=(12, 6))\n",
    "\n",
    "\n",
    "plt.legend()"
   ]
  },
  {
   "cell_type": "raw",
   "metadata": {
    "hidden": true
   },
   "source": [
    "pivot.loc[topLGAs[14]].sort_values().nlargest(5)"
   ]
  },
  {
   "cell_type": "raw",
   "metadata": {
    "hidden": true
   },
   "source": [
    "pivot.loc[topLGAs]"
   ]
  },
  {
   "cell_type": "raw",
   "metadata": {
    "hidden": true
   },
   "source": [
    "pivot.loc[topLGAs[0]]"
   ]
  },
  {
   "cell_type": "raw",
   "metadata": {
    "hidden": true
   },
   "source": [
    "test = pivot.loc[topLGAs[0]].sort_values().nlargest(5)"
   ]
  },
  {
   "cell_type": "raw",
   "metadata": {
    "hidden": true
   },
   "source": [
    "pivot.archery.loc[topLGAs]"
   ]
  },
  {
   "cell_type": "raw",
   "metadata": {
    "hidden": true
   },
   "source": [
    "test"
   ]
  },
  {
   "cell_type": "raw",
   "metadata": {
    "hidden": true
   },
   "source": [
    "topLGAs"
   ]
  },
  {
   "cell_type": "raw",
   "metadata": {
    "hidden": true
   },
   "source": [
    "pivot.index"
   ]
  },
  {
   "cell_type": "raw",
   "metadata": {
    "hidden": true
   },
   "source": [
    "sns.set_theme(style=\"whitegrid\")\n",
    "fig = plt.figure(figsize=(12, 5))\n",
    "\n",
    "my_colors = ['b', 'r', 'g', 'y', 'm']\n",
    "\n",
    "sns.barplot(x = pivot.index, y = 'archery', data= pivot)\n",
    "\n",
    "\n",
    "\n",
    "plt.legend()"
   ]
  },
  {
   "cell_type": "raw",
   "metadata": {
    "hidden": true
   },
   "source": [
    "sns.set_theme(style=\"whitegrid\")\n",
    "fig = plt.figure(figsize=(12, 5))\n",
    "\n",
    "my_colors = ['b', 'r', 'g', 'y', 'm']\n",
    "\n",
    "test.plot(kind='barh', color='m',figsize=(12, 6), use_index=True)\n",
    "\n",
    "\n",
    "plt.legend()"
   ]
  },
  {
   "cell_type": "raw",
   "metadata": {
    "hidden": true
   },
   "source": [
    "\n",
    "sns.set_theme(style=\"whitegrid\")\n",
    "f, ax = plt.subplots(figsize=(6, 15))\n",
    "\n",
    "# Plot the total crashes\n",
    "sns.set_color_codes(\"pastel\")\n",
    "sns.barplot(test, , data=test,\n",
    "            label=\"test\", color=\"b\")\n",
    "\n",
    "# Plot the crashes where alcohol was involved\n",
    "sns.set_color_codes(\"muted\")\n",
    "sns.barplot(x=\"alcohol\", y=\"abbrev\", data=crashes,\n",
    "            label=\"Alcohol-involved\", color=\"b\")\n",
    "\n",
    "# Add a legend and informative axis label\n",
    "ax.legend(ncol=2, loc=\"lower right\", frameon=True)\n",
    "ax.set(xlim=(0, 24), ylabel=\"\",\n",
    "       xlabel=\"Automobile collisions per billion miles\")\n",
    "sns.despine(left=True, bottom=True)"
   ]
  },
  {
   "cell_type": "raw",
   "metadata": {
    "hidden": true
   },
   "source": [
    "sns.set_theme(style=\"whitegrid\")\n",
    "fig = plt.figure(figsize=(12, 5))\n",
    "\n",
    "my_colors = ['b', 'r', 'g', 'y', 'm']\n",
    "for i in topLGAs:\n",
    "    pivot.loc[i].sort_values().nlargest(5).plot(kind='barh', color='m',rfigsize=(12, 6), use_index=True)\n",
    "\n",
    "\n",
    "plt.legend()"
   ]
  },
  {
   "cell_type": "markdown",
   "metadata": {
    "hidden": true
   },
   "source": [
    "We now know the most popular sports, and we know the rank of each sport for each LGA. Appllying the rank function to the most popular sports"
   ]
  },
  {
   "cell_type": "raw",
   "metadata": {
    "hidden": true
   },
   "source": [
    "pivot.rank(ascending = False, method='first').sort_values('archery')['archery'][:10]\n",
    "# shows the rank of each lga for archery, displaying only archery column"
   ]
  },
  {
   "cell_type": "raw",
   "metadata": {
    "hidden": true
   },
   "source": [
    "rank = pivot.rank(ascending = False, method='first').sort_values('archery')['archery'][:10]"
   ]
  },
  {
   "cell_type": "markdown",
   "metadata": {
    "hidden": true
   },
   "source": [
    "I think will have to do a loop for each of the sports in `topSports` "
   ]
  },
  {
   "cell_type": "raw",
   "metadata": {
    "hidden": true
   },
   "source": [
    "pivot.nlargest(10, 'swimming')['swimming']"
   ]
  },
  {
   "cell_type": "raw",
   "metadata": {
    "hidden": true
   },
   "source": [
    "testDF = pd.DataFrame({'lga':[], 'sport': []})\n",
    "\n",
    "test = []\n",
    "for i in topSports: \n",
    "    print(i)\n",
    "    print(pivot.rank(ascending = False, method='first').sort_values(i)[i][:10])\n",
    "    print('')\n",
    "    \n",
    "    print(f' top sports value for each lga: {pivot.nlargest(10, i)[i].values}')\n",
    "    print('')\n",
    "    print(f' sum of the sports: {pivot.nlargest(10, i)[i].values.sum()}')\n",
    "    print('')\n",
    "    test.append(pivot.rank(ascending = False, method='first').sort_values(i)[i][:10])\n"
   ]
  },
  {
   "cell_type": "raw",
   "metadata": {
    "hidden": true
   },
   "source": [
    "test"
   ]
  },
  {
   "cell_type": "raw",
   "metadata": {
    "hidden": true
   },
   "source": [
    "test = pd.concat(test, keys = topSports)"
   ]
  },
  {
   "cell_type": "raw",
   "metadata": {
    "hidden": true
   },
   "source": [
    "test['netball']"
   ]
  },
  {
   "cell_type": "raw",
   "metadata": {
    "hidden": true
   },
   "source": [
    "type(test)"
   ]
  },
  {
   "cell_type": "markdown",
   "metadata": {
    "hidden": true
   },
   "source": [
    "I want stacked bars, with the stacked bars being the sport. The y axis being the LGA, x axis being the x axis. \n",
    "\n",
    "II believe certain sports will be too large like australian rules, compared to basketball. "
   ]
  },
  {
   "cell_type": "raw",
   "metadata": {
    "hidden": true
   },
   "source": [
    "my_colors = ['b', 'r', 'g', 'y', 'm', 'c']\n",
    "ax = test['netball'].plot(kind='barh', stacked=True, color=my_colors, figsize=(12, 6))\n",
    "ax.legend(loc='center left', bbox_to_anchor=(1, 0.5))\n",
    "# plt.savefig('Value_Time_Country.png', dpi=300, bbox_inches='tight')"
   ]
  },
  {
   "cell_type": "markdown",
   "metadata": {
    "hidden": true
   },
   "source": [
    "we can see what is the most popular sports without the `set` function. This will say what sport  is most popular in each LGA"
   ]
  },
  {
   "cell_type": "raw",
   "metadata": {
    "hidden": true
   },
   "source": [
    "pivot.idxmax(axis=1)"
   ]
  },
  {
   "cell_type": "markdown",
   "metadata": {
    "hidden": true
   },
   "source": [
    "another way... for each sport, which LGA is most popular "
   ]
  },
  {
   "cell_type": "raw",
   "metadata": {
    "hidden": true
   },
   "source": [
    "pivot.idxmax().head()"
   ]
  },
  {
   "cell_type": "markdown",
   "metadata": {
    "hidden": true
   },
   "source": [
    "## (not sure what to appy this to) Shows which top 10 LGA has the most claimed vouchers. "
   ]
  },
  {
   "cell_type": "code",
   "execution_count": 84,
   "metadata": {
    "hidden": true
   },
   "outputs": [
    {
     "data": {
      "text/plain": [
       "<AxesSubplot:title={'center':'test'}, ylabel='participant_lga'>"
      ]
     },
     "execution_count": 84,
     "metadata": {},
     "output_type": "execute_result"
    },
    {
     "data": {
      "image/png": "[encoded data removed]",
      "text/plain": [
       "<Figure size 864x360 with 1 Axes>"
      ]
     },
     "metadata": {},
     "output_type": "display_data"
    }
   ],
   "source": [
    "sns.set_theme(style=\"whitegrid\")\n",
    "\n",
    "\n",
    "fig = plt.figure(figsize=(12, 5))\n",
    "total = pivot.sum(axis=1).sort_values(ascending=False)\n",
    "total.nlargest(10).plot(kind='barh', style='b', alpha=0.7,\n",
    "              title='test')\n",
    "\n",
    "\n",
    "# plt.savefig('Totalvalue_Country.png', dpi=300, bbox_inches='tight')"
   ]
  },
  {
   "cell_type": "markdown",
   "metadata": {
    "heading_collapsed": true
   },
   "source": [
    "# Question 3"
   ]
  },
  {
   "cell_type": "markdown",
   "metadata": {
    "hidden": true
   },
   "source": [
    " Are any LGAs over/under represented in their use of vouchers?"
   ]
  },
  {
   "cell_type": "markdown",
   "metadata": {
    "hidden": true
   },
   "source": [
    "Check population to number of vouchers claimed. \n",
    "\n",
    "david : need to normalise the vouchers by population in some way "
   ]
  },
  {
   "cell_type": "markdown",
   "metadata": {
    "hidden": true
   },
   "source": [
    "### Getting the proportion of the population that claimed vouchers and showing top5 over and under represented lgas\n"
   ]
  },
  {
   "cell_type": "code",
   "execution_count": 85,
   "metadata": {
    "hidden": true
   },
   "outputs": [],
   "source": [
    "allSportsClaim = pivot.sum(axis=1).to_frame(name='sum')"
   ]
  },
  {
   "cell_type": "code",
   "execution_count": 86,
   "metadata": {
    "hidden": true
   },
   "outputs": [
    {
     "data": {
      "text/html": [
       "<div>\n",
       "<style scoped>\n",
       "    .dataframe tbody tr th:only-of-type {\n",
       "        vertical-align: middle;\n",
       "    }\n",
       "\n",
       "    .dataframe tbody tr th {\n",
       "        vertical-align: top;\n",
       "    }\n",
       "\n",
       "    .dataframe thead th {\n",
       "        text-align: right;\n",
       "    }\n",
       "</style>\n",
       "<table border=\"1\" class=\"dataframe\">\n",
       "  <thead>\n",
       "    <tr style=\"text-align: right;\">\n",
       "      <th></th>\n",
       "      <th>sum</th>\n",
       "    </tr>\n",
       "    <tr>\n",
       "      <th>participant_lga</th>\n",
       "      <th></th>\n",
       "    </tr>\n",
       "  </thead>\n",
       "  <tbody>\n",
       "    <tr>\n",
       "      <th>adelaide</th>\n",
       "      <td>302.0</td>\n",
       "    </tr>\n",
       "    <tr>\n",
       "      <th>adelaide hills</th>\n",
       "      <td>4756.0</td>\n",
       "    </tr>\n",
       "    <tr>\n",
       "      <th>adelaide plains</th>\n",
       "      <td>899.0</td>\n",
       "    </tr>\n",
       "    <tr>\n",
       "      <th>alexandrina</th>\n",
       "      <td>2979.0</td>\n",
       "    </tr>\n",
       "    <tr>\n",
       "      <th>barossa</th>\n",
       "      <td>2874.0</td>\n",
       "    </tr>\n",
       "    <tr>\n",
       "      <th>...</th>\n",
       "      <td>...</td>\n",
       "    </tr>\n",
       "    <tr>\n",
       "      <th>west torrens</th>\n",
       "      <td>2844.0</td>\n",
       "    </tr>\n",
       "    <tr>\n",
       "      <th>whyalla</th>\n",
       "      <td>2488.0</td>\n",
       "    </tr>\n",
       "    <tr>\n",
       "      <th>wudinna</th>\n",
       "      <td>267.0</td>\n",
       "    </tr>\n",
       "    <tr>\n",
       "      <th>yankalilla</th>\n",
       "      <td>443.0</td>\n",
       "    </tr>\n",
       "    <tr>\n",
       "      <th>yorke peninsula</th>\n",
       "      <td>977.0</td>\n",
       "    </tr>\n",
       "  </tbody>\n",
       "</table>\n",
       "<p>69 rows × 1 columns</p>\n",
       "</div>"
      ],
      "text/plain": [
       "                    sum\n",
       "participant_lga        \n",
       "adelaide          302.0\n",
       "adelaide hills   4756.0\n",
       "adelaide plains   899.0\n",
       "alexandrina      2979.0\n",
       "barossa          2874.0\n",
       "...                 ...\n",
       "west torrens     2844.0\n",
       "whyalla          2488.0\n",
       "wudinna           267.0\n",
       "yankalilla        443.0\n",
       "yorke peninsula   977.0\n",
       "\n",
       "[69 rows x 1 columns]"
      ]
     },
     "execution_count": 86,
     "metadata": {},
     "output_type": "execute_result"
    }
   ],
   "source": [
    "allSportsClaim"
   ]
  },
  {
   "cell_type": "code",
   "execution_count": 87,
   "metadata": {
    "hidden": true
   },
   "outputs": [],
   "source": [
    "allSportsClaim['population'] = LGA_scores['population']"
   ]
  },
  {
   "cell_type": "markdown",
   "metadata": {
    "hidden": true
   },
   "source": [
    "no pop number in seifa, then drop "
   ]
  },
  {
   "cell_type": "code",
   "execution_count": 88,
   "metadata": {
    "hidden": true
   },
   "outputs": [],
   "source": [
    "allSportsClaim = allSportsClaim.dropna()"
   ]
  },
  {
   "cell_type": "code",
   "execution_count": 89,
   "metadata": {
    "hidden": true
   },
   "outputs": [
    {
     "name": "stderr",
     "output_type": "stream",
     "text": [
      "C:\\Users\\Rudol\\anaconda3\\lib\\site-packages\\ipykernel_launcher.py:1: SettingWithCopyWarning: \n",
      "A value is trying to be set on a copy of a slice from a DataFrame.\n",
      "Try using .loc[row_indexer,col_indexer] = value instead\n",
      "\n",
      "See the caveats in the documentation: https://pandas.pydata.org/pandas-docs/stable/user_guide/indexing.html#returning-a-view-versus-a-copy\n",
      "  \"\"\"Entry point for launching an IPython kernel.\n"
     ]
    }
   ],
   "source": [
    "allSportsClaim['proportion'] = allSportsClaim['sum'] / LGA_scores['population']"
   ]
  },
  {
   "cell_type": "code",
   "execution_count": 90,
   "metadata": {
    "hidden": true
   },
   "outputs": [
    {
     "name": "stderr",
     "output_type": "stream",
     "text": [
      "C:\\Users\\Rudol\\anaconda3\\lib\\site-packages\\ipykernel_launcher.py:1: SettingWithCopyWarning: \n",
      "A value is trying to be set on a copy of a slice from a DataFrame.\n",
      "Try using .loc[row_indexer,col_indexer] = value instead\n",
      "\n",
      "See the caveats in the documentation: https://pandas.pydata.org/pandas-docs/stable/user_guide/indexing.html#returning-a-view-versus-a-copy\n",
      "  \"\"\"Entry point for launching an IPython kernel.\n"
     ]
    }
   ],
   "source": [
    "allSportsClaim['percentage'] = round(allSportsClaim['proportion']*100, 2)"
   ]
  },
  {
   "cell_type": "code",
   "execution_count": 91,
   "metadata": {
    "hidden": true
   },
   "outputs": [
    {
     "data": {
      "text/html": [
       "<div>\n",
       "<style scoped>\n",
       "    .dataframe tbody tr th:only-of-type {\n",
       "        vertical-align: middle;\n",
       "    }\n",
       "\n",
       "    .dataframe tbody tr th {\n",
       "        vertical-align: top;\n",
       "    }\n",
       "\n",
       "    .dataframe thead th {\n",
       "        text-align: right;\n",
       "    }\n",
       "</style>\n",
       "<table border=\"1\" class=\"dataframe\">\n",
       "  <thead>\n",
       "    <tr style=\"text-align: right;\">\n",
       "      <th></th>\n",
       "      <th>sum</th>\n",
       "      <th>population</th>\n",
       "      <th>proportion</th>\n",
       "      <th>percentage</th>\n",
       "    </tr>\n",
       "    <tr>\n",
       "      <th>participant_lga</th>\n",
       "      <th></th>\n",
       "      <th></th>\n",
       "      <th></th>\n",
       "      <th></th>\n",
       "    </tr>\n",
       "  </thead>\n",
       "  <tbody>\n",
       "    <tr>\n",
       "      <th>karoonda east murray</th>\n",
       "      <td>388.0</td>\n",
       "      <td>1035.0</td>\n",
       "      <td>0.374879</td>\n",
       "      <td>37.49</td>\n",
       "    </tr>\n",
       "    <tr>\n",
       "      <th>kimba</th>\n",
       "      <td>232.0</td>\n",
       "      <td>1087.0</td>\n",
       "      <td>0.213431</td>\n",
       "      <td>21.34</td>\n",
       "    </tr>\n",
       "    <tr>\n",
       "      <th>wudinna</th>\n",
       "      <td>267.0</td>\n",
       "      <td>1256.0</td>\n",
       "      <td>0.212580</td>\n",
       "      <td>21.26</td>\n",
       "    </tr>\n",
       "    <tr>\n",
       "      <th>cleve</th>\n",
       "      <td>329.0</td>\n",
       "      <td>1729.0</td>\n",
       "      <td>0.190283</td>\n",
       "      <td>19.03</td>\n",
       "    </tr>\n",
       "    <tr>\n",
       "      <th>southern mallee</th>\n",
       "      <td>342.0</td>\n",
       "      <td>2097.0</td>\n",
       "      <td>0.163090</td>\n",
       "      <td>16.31</td>\n",
       "    </tr>\n",
       "    <tr>\n",
       "      <th>...</th>\n",
       "      <td>...</td>\n",
       "      <td>...</td>\n",
       "      <td>...</td>\n",
       "      <td>...</td>\n",
       "    </tr>\n",
       "    <tr>\n",
       "      <th>campbelltown</th>\n",
       "      <td>2567.0</td>\n",
       "      <td>97060.0</td>\n",
       "      <td>0.026448</td>\n",
       "      <td>2.64</td>\n",
       "    </tr>\n",
       "    <tr>\n",
       "      <th>peterborough</th>\n",
       "      <td>45.0</td>\n",
       "      <td>1733.0</td>\n",
       "      <td>0.025967</td>\n",
       "      <td>2.60</td>\n",
       "    </tr>\n",
       "    <tr>\n",
       "      <th>coober pedy</th>\n",
       "      <td>39.0</td>\n",
       "      <td>1694.0</td>\n",
       "      <td>0.023022</td>\n",
       "      <td>2.30</td>\n",
       "    </tr>\n",
       "    <tr>\n",
       "      <th>adelaide</th>\n",
       "      <td>302.0</td>\n",
       "      <td>19606.0</td>\n",
       "      <td>0.015403</td>\n",
       "      <td>1.54</td>\n",
       "    </tr>\n",
       "    <tr>\n",
       "      <th>kingston</th>\n",
       "      <td>288.0</td>\n",
       "      <td>72380.5</td>\n",
       "      <td>0.003979</td>\n",
       "      <td>0.40</td>\n",
       "    </tr>\n",
       "  </tbody>\n",
       "</table>\n",
       "<p>62 rows × 4 columns</p>\n",
       "</div>"
      ],
      "text/plain": [
       "                         sum  population  proportion  percentage\n",
       "participant_lga                                                 \n",
       "karoonda east murray   388.0      1035.0    0.374879       37.49\n",
       "kimba                  232.0      1087.0    0.213431       21.34\n",
       "wudinna                267.0      1256.0    0.212580       21.26\n",
       "cleve                  329.0      1729.0    0.190283       19.03\n",
       "southern mallee        342.0      2097.0    0.163090       16.31\n",
       "...                      ...         ...         ...         ...\n",
       "campbelltown          2567.0     97060.0    0.026448        2.64\n",
       "peterborough            45.0      1733.0    0.025967        2.60\n",
       "coober pedy             39.0      1694.0    0.023022        2.30\n",
       "adelaide               302.0     19606.0    0.015403        1.54\n",
       "kingston               288.0     72380.5    0.003979        0.40\n",
       "\n",
       "[62 rows x 4 columns]"
      ]
     },
     "execution_count": 91,
     "metadata": {},
     "output_type": "execute_result"
    }
   ],
   "source": [
    "allSportsClaim.sort_values(by= 'percentage', ascending = False)"
   ]
  },
  {
   "cell_type": "markdown",
   "metadata": {
    "hidden": true
   },
   "source": [
    "We can determine which LGAs are over and under represented by checking the mean rate. We will assume that the LGAs that are above the mean claim rate are over represented and the LGAs below the mean claim rate are under represented. "
   ]
  },
  {
   "cell_type": "code",
   "execution_count": 92,
   "metadata": {
    "hidden": true
   },
   "outputs": [],
   "source": [
    "meanClaimRate = allSportsClaim['proportion'].sum() / allSportsClaim.shape[0]"
   ]
  },
  {
   "cell_type": "raw",
   "metadata": {
    "hidden": true
   },
   "source": [
    "allSportsClaim[allSportsClaim['proportion'] > meanClaimRate]"
   ]
  },
  {
   "cell_type": "code",
   "execution_count": 93,
   "metadata": {
    "hidden": true
   },
   "outputs": [],
   "source": [
    "overRep = allSportsClaim[allSportsClaim['proportion'] > meanClaimRate]"
   ]
  },
  {
   "cell_type": "code",
   "execution_count": 94,
   "metadata": {
    "hidden": true
   },
   "outputs": [],
   "source": [
    "underRep = allSportsClaim[allSportsClaim['proportion'] < meanClaimRate]"
   ]
  },
  {
   "cell_type": "raw",
   "metadata": {
    "hidden": true
   },
   "source": [
    "print(overRep.shape, underRep.shape)"
   ]
  },
  {
   "cell_type": "raw",
   "metadata": {
    "hidden": true
   },
   "source": [
    "plt.figure(figsize=(15,10))\n",
    "\n",
    "overRep['proportion'].sort_values(ascending=True).plot(kind='barh')"
   ]
  },
  {
   "cell_type": "raw",
   "metadata": {
    "hidden": true
   },
   "source": [
    "overRep.head()"
   ]
  },
  {
   "cell_type": "raw",
   "metadata": {
    "hidden": true
   },
   "source": [
    "underRep.head()"
   ]
  },
  {
   "cell_type": "code",
   "execution_count": 95,
   "metadata": {
    "hidden": true
   },
   "outputs": [
    {
     "data": {
      "image/png": "[encoded data removed]",
      "text/plain": [
       "<Figure size 1080x720 with 2 Axes>"
      ]
     },
     "metadata": {},
     "output_type": "display_data"
    }
   ],
   "source": [
    "fig, axes = plt.subplots(2,1, figsize=(15,10))\n",
    "\n",
    "overRep['proportion'].sort_values(ascending=True).plot(kind='barh', ax = axes[0])\n",
    "underRep['proportion'].sort_values(ascending=True).plot(kind='barh', ax = axes[1])\n",
    "\n",
    "plt.tight_layout()"
   ]
  },
  {
   "cell_type": "markdown",
   "metadata": {
    "hidden": true
   },
   "source": [
    "Looks like possible outliers being Karoonda East Murray and Kingston. "
   ]
  },
  {
   "cell_type": "markdown",
   "metadata": {
    "hidden": true
   },
   "source": [
    "checking a distplot https://seaborn.pydata.org/generated/seaborn.distplot.html"
   ]
  },
  {
   "cell_type": "code",
   "execution_count": 96,
   "metadata": {
    "hidden": true
   },
   "outputs": [
    {
     "name": "stderr",
     "output_type": "stream",
     "text": [
      "C:\\Users\\Rudol\\anaconda3\\lib\\site-packages\\seaborn\\distributions.py:2557: FutureWarning: `distplot` is a deprecated function and will be removed in a future version. Please adapt your code to use either `displot` (a figure-level function with similar flexibility) or `histplot` (an axes-level function for histograms).\n",
      "  warnings.warn(msg, FutureWarning)\n",
      "C:\\Users\\Rudol\\anaconda3\\lib\\site-packages\\seaborn\\distributions.py:2557: FutureWarning: `distplot` is a deprecated function and will be removed in a future version. Please adapt your code to use either `displot` (a figure-level function with similar flexibility) or `histplot` (an axes-level function for histograms).\n",
      "  warnings.warn(msg, FutureWarning)\n"
     ]
    },
    {
     "data": {
      "image/png": "[encoded data removed]",
      "text/plain": [
       "<Figure size 432x288 with 1 Axes>"
      ]
     },
     "metadata": {},
     "output_type": "display_data"
    }
   ],
   "source": [
    "sns.set_theme(); np.random.seed(0)\n",
    "sns.distplot(overRep['proportion'])\n",
    "ax = sns.distplot(underRep['proportion'])"
   ]
  },
  {
   "cell_type": "markdown",
   "metadata": {
    "heading_collapsed": true,
    "hidden": true
   },
   "source": [
    "### Checking LGAs in SEIFA"
   ]
  },
  {
   "cell_type": "raw",
   "metadata": {
    "hidden": true
   },
   "source": [
    "list(totalClaimed.index)"
   ]
  },
  {
   "cell_type": "raw",
   "metadata": {
    "hidden": true
   },
   "source": [
    "LGA_scores"
   ]
  },
  {
   "cell_type": "raw",
   "metadata": {
    "hidden": true
   },
   "source": [
    "totalClaimed"
   ]
  },
  {
   "cell_type": "code",
   "execution_count": 97,
   "metadata": {
    "hidden": true,
    "scrolled": true
   },
   "outputs": [
    {
     "data": {
      "text/html": [
       "<div>\n",
       "<style scoped>\n",
       "    .dataframe tbody tr th:only-of-type {\n",
       "        vertical-align: middle;\n",
       "    }\n",
       "\n",
       "    .dataframe tbody tr th {\n",
       "        vertical-align: top;\n",
       "    }\n",
       "\n",
       "    .dataframe thead th {\n",
       "        text-align: right;\n",
       "    }\n",
       "</style>\n",
       "<table border=\"1\" class=\"dataframe\">\n",
       "  <thead>\n",
       "    <tr style=\"text-align: right;\">\n",
       "      <th></th>\n",
       "      <th>participant_id</th>\n",
       "      <th>participant_suburb</th>\n",
       "      <th>club_previous_member</th>\n",
       "      <th>participant_atsi_indicator</th>\n",
       "      <th>participant_cald_indicator</th>\n",
       "      <th>participant_sex</th>\n",
       "      <th>voucher_value</th>\n",
       "      <th>club_name</th>\n",
       "      <th>voucher_sport</th>\n",
       "      <th>participant_lga</th>\n",
       "      <th>participant_electorate</th>\n",
       "      <th>voucher_completion_date</th>\n",
       "      <th>voucher_claim_year</th>\n",
       "      <th>ieo</th>\n",
       "      <th>ier</th>\n",
       "      <th>irsad</th>\n",
       "      <th>irsd</th>\n",
       "      <th>population</th>\n",
       "    </tr>\n",
       "  </thead>\n",
       "  <tbody>\n",
       "    <tr>\n",
       "      <th>0</th>\n",
       "      <td>1000002</td>\n",
       "      <td>ABERFOYLE PARK</td>\n",
       "      <td>Registered Previously</td>\n",
       "      <td>Not ATSI</td>\n",
       "      <td>Not CALD</td>\n",
       "      <td>Male</td>\n",
       "      <td>50</td>\n",
       "      <td>Flagstaff Hill Football Club</td>\n",
       "      <td>Australian Rules</td>\n",
       "      <td>ONKAPARINGA</td>\n",
       "      <td>FISHER</td>\n",
       "      <td>26/6/15 1:19</td>\n",
       "      <td>2015</td>\n",
       "      <td>996.0</td>\n",
       "      <td>996.0</td>\n",
       "      <td>975.0</td>\n",
       "      <td>993.0</td>\n",
       "      <td>159517.0</td>\n",
       "    </tr>\n",
       "    <tr>\n",
       "      <th>1</th>\n",
       "      <td>1000002</td>\n",
       "      <td>ABERFOYLE PARK</td>\n",
       "      <td>Registered Previously</td>\n",
       "      <td>Not ATSI</td>\n",
       "      <td>Not CALD</td>\n",
       "      <td>Male</td>\n",
       "      <td>50</td>\n",
       "      <td>Flagstaff Hill Football Club</td>\n",
       "      <td>Australian Rules</td>\n",
       "      <td>ONKAPARINGA</td>\n",
       "      <td>FISHER</td>\n",
       "      <td>29/6/16 23:55</td>\n",
       "      <td>2016</td>\n",
       "      <td>996.0</td>\n",
       "      <td>996.0</td>\n",
       "      <td>975.0</td>\n",
       "      <td>993.0</td>\n",
       "      <td>159517.0</td>\n",
       "    </tr>\n",
       "    <tr>\n",
       "      <th>2</th>\n",
       "      <td>1000004</td>\n",
       "      <td>ABERFOYLE PARK</td>\n",
       "      <td>Not Registered Previously</td>\n",
       "      <td>Not ATSI</td>\n",
       "      <td>Not CALD</td>\n",
       "      <td>Female</td>\n",
       "      <td>50</td>\n",
       "      <td>Hub Gymnastics Club</td>\n",
       "      <td>Gymnastics</td>\n",
       "      <td>ONKAPARINGA</td>\n",
       "      <td>FISHER</td>\n",
       "      <td>21/4/16 3:37</td>\n",
       "      <td>2016</td>\n",
       "      <td>996.0</td>\n",
       "      <td>996.0</td>\n",
       "      <td>975.0</td>\n",
       "      <td>993.0</td>\n",
       "      <td>159517.0</td>\n",
       "    </tr>\n",
       "    <tr>\n",
       "      <th>3</th>\n",
       "      <td>1000004</td>\n",
       "      <td>ABERFOYLE PARK</td>\n",
       "      <td>Registered Previously</td>\n",
       "      <td>Not ATSI</td>\n",
       "      <td>Not CALD</td>\n",
       "      <td>Female</td>\n",
       "      <td>50</td>\n",
       "      <td>Hub Gymnastics Club</td>\n",
       "      <td>Gymnastics</td>\n",
       "      <td>ONKAPARINGA</td>\n",
       "      <td>FISHER</td>\n",
       "      <td>30/3/17 0:47</td>\n",
       "      <td>2017</td>\n",
       "      <td>996.0</td>\n",
       "      <td>996.0</td>\n",
       "      <td>975.0</td>\n",
       "      <td>993.0</td>\n",
       "      <td>159517.0</td>\n",
       "    </tr>\n",
       "    <tr>\n",
       "      <th>4</th>\n",
       "      <td>1000005</td>\n",
       "      <td>ABERFOYLE PARK</td>\n",
       "      <td>Registered Previously</td>\n",
       "      <td>Not ATSI</td>\n",
       "      <td>Not CALD</td>\n",
       "      <td>Female</td>\n",
       "      <td>50</td>\n",
       "      <td>Blackwood Community Recreation Association</td>\n",
       "      <td>Gymnastics</td>\n",
       "      <td>ONKAPARINGA</td>\n",
       "      <td>FISHER</td>\n",
       "      <td>20/7/15 2:50</td>\n",
       "      <td>2015</td>\n",
       "      <td>996.0</td>\n",
       "      <td>996.0</td>\n",
       "      <td>975.0</td>\n",
       "      <td>993.0</td>\n",
       "      <td>159517.0</td>\n",
       "    </tr>\n",
       "    <tr>\n",
       "      <th>...</th>\n",
       "      <td>...</td>\n",
       "      <td>...</td>\n",
       "      <td>...</td>\n",
       "      <td>...</td>\n",
       "      <td>...</td>\n",
       "      <td>...</td>\n",
       "      <td>...</td>\n",
       "      <td>...</td>\n",
       "      <td>...</td>\n",
       "      <td>...</td>\n",
       "      <td>...</td>\n",
       "      <td>...</td>\n",
       "      <td>...</td>\n",
       "      <td>...</td>\n",
       "      <td>...</td>\n",
       "      <td>...</td>\n",
       "      <td>...</td>\n",
       "      <td>...</td>\n",
       "    </tr>\n",
       "    <tr>\n",
       "      <th>127521</th>\n",
       "      <td>1127524</td>\n",
       "      <td>ZADOWS LANDING</td>\n",
       "      <td>Registered Previously</td>\n",
       "      <td>Not ATSI</td>\n",
       "      <td>Not CALD</td>\n",
       "      <td>Female</td>\n",
       "      <td>50</td>\n",
       "      <td>Mannum Roos Netball Club</td>\n",
       "      <td>Netball</td>\n",
       "      <td>MID MURRAY</td>\n",
       "      <td>SCHUBERT</td>\n",
       "      <td>15/8/16 1:33</td>\n",
       "      <td>2016</td>\n",
       "      <td>965.0</td>\n",
       "      <td>965.0</td>\n",
       "      <td>917.0</td>\n",
       "      <td>937.0</td>\n",
       "      <td>8134.0</td>\n",
       "    </tr>\n",
       "    <tr>\n",
       "      <th>127522</th>\n",
       "      <td>1127524</td>\n",
       "      <td>ZADOWS LANDING</td>\n",
       "      <td>Registered Previously</td>\n",
       "      <td>Not ATSI</td>\n",
       "      <td>Not CALD</td>\n",
       "      <td>Female</td>\n",
       "      <td>50</td>\n",
       "      <td>Mannum Roos Netball Club</td>\n",
       "      <td>Netball</td>\n",
       "      <td>MID MURRAY</td>\n",
       "      <td>SCHUBERT</td>\n",
       "      <td>13/7/15 23:42</td>\n",
       "      <td>2015</td>\n",
       "      <td>965.0</td>\n",
       "      <td>965.0</td>\n",
       "      <td>917.0</td>\n",
       "      <td>937.0</td>\n",
       "      <td>8134.0</td>\n",
       "    </tr>\n",
       "    <tr>\n",
       "      <th>127523</th>\n",
       "      <td>1127524</td>\n",
       "      <td>ZADOWS LANDING</td>\n",
       "      <td>Registered Previously</td>\n",
       "      <td>Not ATSI</td>\n",
       "      <td>Not CALD</td>\n",
       "      <td>Female</td>\n",
       "      <td>50</td>\n",
       "      <td>Mannum Roos Netball Club</td>\n",
       "      <td>Netball</td>\n",
       "      <td>MID MURRAY</td>\n",
       "      <td>SCHUBERT</td>\n",
       "      <td>30/6/17 6:07</td>\n",
       "      <td>2017</td>\n",
       "      <td>965.0</td>\n",
       "      <td>965.0</td>\n",
       "      <td>917.0</td>\n",
       "      <td>937.0</td>\n",
       "      <td>8134.0</td>\n",
       "    </tr>\n",
       "    <tr>\n",
       "      <th>127524</th>\n",
       "      <td>1127526</td>\n",
       "      <td>ZADOWS LANDING</td>\n",
       "      <td>Registered Previously</td>\n",
       "      <td>Not ATSI</td>\n",
       "      <td>Not CALD</td>\n",
       "      <td>Female</td>\n",
       "      <td>50</td>\n",
       "      <td>Mannum Roos Netball Club</td>\n",
       "      <td>Netball</td>\n",
       "      <td>MID MURRAY</td>\n",
       "      <td>SCHUBERT</td>\n",
       "      <td>28/4/15 0:06</td>\n",
       "      <td>2015</td>\n",
       "      <td>965.0</td>\n",
       "      <td>965.0</td>\n",
       "      <td>917.0</td>\n",
       "      <td>937.0</td>\n",
       "      <td>8134.0</td>\n",
       "    </tr>\n",
       "    <tr>\n",
       "      <th>127525</th>\n",
       "      <td>1127526</td>\n",
       "      <td>ZADOWS LANDING</td>\n",
       "      <td>Registered Previously</td>\n",
       "      <td>Not ATSI</td>\n",
       "      <td>Not CALD</td>\n",
       "      <td>Female</td>\n",
       "      <td>50</td>\n",
       "      <td>Mannum Roos Netball Club</td>\n",
       "      <td>Netball</td>\n",
       "      <td>MID MURRAY</td>\n",
       "      <td>SCHUBERT</td>\n",
       "      <td>29/3/16 23:57</td>\n",
       "      <td>2016</td>\n",
       "      <td>965.0</td>\n",
       "      <td>965.0</td>\n",
       "      <td>917.0</td>\n",
       "      <td>937.0</td>\n",
       "      <td>8134.0</td>\n",
       "    </tr>\n",
       "  </tbody>\n",
       "</table>\n",
       "<p>127526 rows × 18 columns</p>\n",
       "</div>"
      ],
      "text/plain": [
       "        participant_id participant_suburb       club_previous_member  \\\n",
       "0              1000002     ABERFOYLE PARK      Registered Previously   \n",
       "1              1000002     ABERFOYLE PARK      Registered Previously   \n",
       "2              1000004     ABERFOYLE PARK  Not Registered Previously   \n",
       "3              1000004     ABERFOYLE PARK      Registered Previously   \n",
       "4              1000005     ABERFOYLE PARK      Registered Previously   \n",
       "...                ...                ...                        ...   \n",
       "127521         1127524     ZADOWS LANDING      Registered Previously   \n",
       "127522         1127524     ZADOWS LANDING      Registered Previously   \n",
       "127523         1127524     ZADOWS LANDING      Registered Previously   \n",
       "127524         1127526     ZADOWS LANDING      Registered Previously   \n",
       "127525         1127526     ZADOWS LANDING      Registered Previously   \n",
       "\n",
       "       participant_atsi_indicator participant_cald_indicator participant_sex  \\\n",
       "0                        Not ATSI                   Not CALD            Male   \n",
       "1                        Not ATSI                   Not CALD            Male   \n",
       "2                        Not ATSI                   Not CALD          Female   \n",
       "3                        Not ATSI                   Not CALD          Female   \n",
       "4                        Not ATSI                   Not CALD          Female   \n",
       "...                           ...                        ...             ...   \n",
       "127521                   Not ATSI                   Not CALD          Female   \n",
       "127522                   Not ATSI                   Not CALD          Female   \n",
       "127523                   Not ATSI                   Not CALD          Female   \n",
       "127524                   Not ATSI                   Not CALD          Female   \n",
       "127525                   Not ATSI                   Not CALD          Female   \n",
       "\n",
       "        voucher_value                                   club_name  \\\n",
       "0                  50                Flagstaff Hill Football Club   \n",
       "1                  50                Flagstaff Hill Football Club   \n",
       "2                  50                         Hub Gymnastics Club   \n",
       "3                  50                         Hub Gymnastics Club   \n",
       "4                  50  Blackwood Community Recreation Association   \n",
       "...               ...                                         ...   \n",
       "127521             50                    Mannum Roos Netball Club   \n",
       "127522             50                    Mannum Roos Netball Club   \n",
       "127523             50                    Mannum Roos Netball Club   \n",
       "127524             50                    Mannum Roos Netball Club   \n",
       "127525             50                    Mannum Roos Netball Club   \n",
       "\n",
       "           voucher_sport participant_lga participant_electorate  \\\n",
       "0       Australian Rules     ONKAPARINGA                 FISHER   \n",
       "1       Australian Rules     ONKAPARINGA                 FISHER   \n",
       "2             Gymnastics     ONKAPARINGA                 FISHER   \n",
       "3             Gymnastics     ONKAPARINGA                 FISHER   \n",
       "4             Gymnastics     ONKAPARINGA                 FISHER   \n",
       "...                  ...             ...                    ...   \n",
       "127521           Netball      MID MURRAY               SCHUBERT   \n",
       "127522           Netball      MID MURRAY               SCHUBERT   \n",
       "127523           Netball      MID MURRAY               SCHUBERT   \n",
       "127524           Netball      MID MURRAY               SCHUBERT   \n",
       "127525           Netball      MID MURRAY               SCHUBERT   \n",
       "\n",
       "       voucher_completion_date  voucher_claim_year    ieo    ier  irsad  \\\n",
       "0                 26/6/15 1:19                2015  996.0  996.0  975.0   \n",
       "1                29/6/16 23:55                2016  996.0  996.0  975.0   \n",
       "2                 21/4/16 3:37                2016  996.0  996.0  975.0   \n",
       "3                 30/3/17 0:47                2017  996.0  996.0  975.0   \n",
       "4                 20/7/15 2:50                2015  996.0  996.0  975.0   \n",
       "...                        ...                 ...    ...    ...    ...   \n",
       "127521            15/8/16 1:33                2016  965.0  965.0  917.0   \n",
       "127522           13/7/15 23:42                2015  965.0  965.0  917.0   \n",
       "127523            30/6/17 6:07                2017  965.0  965.0  917.0   \n",
       "127524            28/4/15 0:06                2015  965.0  965.0  917.0   \n",
       "127525           29/3/16 23:57                2016  965.0  965.0  917.0   \n",
       "\n",
       "         irsd  population  \n",
       "0       993.0    159517.0  \n",
       "1       993.0    159517.0  \n",
       "2       993.0    159517.0  \n",
       "3       993.0    159517.0  \n",
       "4       993.0    159517.0  \n",
       "...       ...         ...  \n",
       "127521  937.0      8134.0  \n",
       "127522  937.0      8134.0  \n",
       "127523  937.0      8134.0  \n",
       "127524  937.0      8134.0  \n",
       "127525  937.0      8134.0  \n",
       "\n",
       "[127526 rows x 18 columns]"
      ]
     },
     "execution_count": 97,
     "metadata": {},
     "output_type": "execute_result"
    }
   ],
   "source": [
    "sa_vouchers_scores"
   ]
  },
  {
   "cell_type": "code",
   "execution_count": 98,
   "metadata": {
    "hidden": true
   },
   "outputs": [],
   "source": [
    "sa_vouchers_scores.columns = sa_vouchers_scores.columns.str.lower()"
   ]
  },
  {
   "cell_type": "code",
   "execution_count": 99,
   "metadata": {
    "hidden": true
   },
   "outputs": [],
   "source": [
    "sa_vouchers_scores['participant_lga']= sa_vouchers_scores['participant_lga'].str.lower()"
   ]
  },
  {
   "cell_type": "code",
   "execution_count": 100,
   "metadata": {
    "hidden": true
   },
   "outputs": [],
   "source": [
    "sa_vouchers_scores['voucher_sport']= sa_vouchers_scores['voucher_sport'].str.lower()"
   ]
  },
  {
   "cell_type": "raw",
   "metadata": {
    "hidden": true
   },
   "source": [
    "sa_vouchers_scores"
   ]
  },
  {
   "cell_type": "raw",
   "metadata": {
    "hidden": true
   },
   "source": [
    "set(sa_vouchers_scores['Participant_LGA'])"
   ]
  },
  {
   "cell_type": "markdown",
   "metadata": {
    "hidden": true
   },
   "source": [
    "This shows the rows that have participant_lga being 'no lga', then we check what these 'no lga' correspond to in the participant_suburb column. We count the number of occurences for each that show up. "
   ]
  },
  {
   "cell_type": "raw",
   "metadata": {
    "hidden": true
   },
   "source": [
    "sa_vouchers"
   ]
  },
  {
   "cell_type": "raw",
   "metadata": {
    "hidden": true
   },
   "source": [
    "pivot.loc['kingston']"
   ]
  },
  {
   "cell_type": "code",
   "execution_count": 101,
   "metadata": {
    "hidden": true
   },
   "outputs": [
    {
     "data": {
      "text/plain": [
       "['adelaide',\n",
       " 'adelaide hills',\n",
       " 'adelaide plains',\n",
       " 'alexandrina',\n",
       " 'barossa',\n",
       " 'barunga west',\n",
       " 'berri barmera',\n",
       " 'burnside',\n",
       " 'campbelltown',\n",
       " 'ceduna',\n",
       " 'charles sturt',\n",
       " 'clare and gilbert valleys',\n",
       " 'cleve',\n",
       " 'coober pedy',\n",
       " 'copper coast',\n",
       " 'elliston',\n",
       " 'flinders ranges',\n",
       " 'franklin harbour',\n",
       " 'gawler',\n",
       " 'goyder',\n",
       " 'grant',\n",
       " 'holdfast bay',\n",
       " 'kangaroo island',\n",
       " 'karoonda east murray',\n",
       " 'kimba',\n",
       " 'kingston',\n",
       " 'light',\n",
       " 'lower eyre peninsula',\n",
       " 'loxton waikerie',\n",
       " 'marion',\n",
       " 'mid murray',\n",
       " 'mitcham',\n",
       " 'mount barker',\n",
       " 'mount gambier',\n",
       " 'mount remarkable',\n",
       " 'murray bridge',\n",
       " 'naracoorte lucindale',\n",
       " 'no lga',\n",
       " 'northern areas',\n",
       " 'norwood payneham and st peters',\n",
       " 'onkaparinga',\n",
       " 'orroroo/carrieton',\n",
       " 'peterborough',\n",
       " 'playford',\n",
       " 'port adelaide enfield',\n",
       " 'port augusta',\n",
       " 'port lincoln',\n",
       " 'port pirie',\n",
       " 'prospect',\n",
       " 'renmark paringa',\n",
       " 'robe',\n",
       " 'roxby downs',\n",
       " 'salisbury',\n",
       " 'southern mallee',\n",
       " 'streaky bay',\n",
       " 'tatiara',\n",
       " 'tea tree gully',\n",
       " 'the coorong',\n",
       " 'tumby bay',\n",
       " 'unley',\n",
       " 'victor harbor',\n",
       " 'wakefield',\n",
       " 'walkerville',\n",
       " 'wattle range',\n",
       " 'west torrens',\n",
       " 'whyalla',\n",
       " 'wudinna',\n",
       " 'yankalilla',\n",
       " 'yorke peninsula']"
      ]
     },
     "execution_count": 101,
     "metadata": {},
     "output_type": "execute_result"
    }
   ],
   "source": [
    "list(pivot.index)"
   ]
  },
  {
   "cell_type": "markdown",
   "metadata": {
    "heading_collapsed": true
   },
   "source": [
    "# Question 4"
   ]
  },
  {
   "cell_type": "markdown",
   "metadata": {
    "hidden": true
   },
   "source": [
    " Is there a relationship between any of the SEIFA measures and voucher use in an LGA?"
   ]
  },
  {
   "cell_type": "raw",
   "metadata": {
    "hidden": true
   },
   "source": [
    "allSportsClaim"
   ]
  },
  {
   "cell_type": "code",
   "execution_count": 102,
   "metadata": {
    "hidden": true
   },
   "outputs": [
    {
     "data": {
      "text/plain": [
       "LGA\n",
       "adelaide            874.0\n",
       "adelaide hills     1083.0\n",
       "albany              999.0\n",
       "albury              964.0\n",
       "alexandrina        1000.0\n",
       "                    ...  \n",
       "yass valley        1088.0\n",
       "yilgarn             998.0\n",
       "york               1010.0\n",
       "yorke peninsula     969.0\n",
       "young               964.0\n",
       "Name: ieo, Length: 556, dtype: float64"
      ]
     },
     "execution_count": 102,
     "metadata": {},
     "output_type": "execute_result"
    }
   ],
   "source": [
    "LGA_scores['ieo']"
   ]
  },
  {
   "cell_type": "code",
   "execution_count": 103,
   "metadata": {
    "hidden": true
   },
   "outputs": [],
   "source": [
    "allSportsClaim_scores = allSportsClaim"
   ]
  },
  {
   "cell_type": "code",
   "execution_count": 104,
   "metadata": {
    "hidden": true
   },
   "outputs": [
    {
     "name": "stderr",
     "output_type": "stream",
     "text": [
      "C:\\Users\\Rudol\\anaconda3\\lib\\site-packages\\ipykernel_launcher.py:1: SettingWithCopyWarning: \n",
      "A value is trying to be set on a copy of a slice from a DataFrame.\n",
      "Try using .loc[row_indexer,col_indexer] = value instead\n",
      "\n",
      "See the caveats in the documentation: https://pandas.pydata.org/pandas-docs/stable/user_guide/indexing.html#returning-a-view-versus-a-copy\n",
      "  \"\"\"Entry point for launching an IPython kernel.\n",
      "C:\\Users\\Rudol\\anaconda3\\lib\\site-packages\\ipykernel_launcher.py:2: SettingWithCopyWarning: \n",
      "A value is trying to be set on a copy of a slice from a DataFrame.\n",
      "Try using .loc[row_indexer,col_indexer] = value instead\n",
      "\n",
      "See the caveats in the documentation: https://pandas.pydata.org/pandas-docs/stable/user_guide/indexing.html#returning-a-view-versus-a-copy\n",
      "  \n",
      "C:\\Users\\Rudol\\anaconda3\\lib\\site-packages\\ipykernel_launcher.py:3: SettingWithCopyWarning: \n",
      "A value is trying to be set on a copy of a slice from a DataFrame.\n",
      "Try using .loc[row_indexer,col_indexer] = value instead\n",
      "\n",
      "See the caveats in the documentation: https://pandas.pydata.org/pandas-docs/stable/user_guide/indexing.html#returning-a-view-versus-a-copy\n",
      "  This is separate from the ipykernel package so we can avoid doing imports until\n",
      "C:\\Users\\Rudol\\anaconda3\\lib\\site-packages\\ipykernel_launcher.py:4: SettingWithCopyWarning: \n",
      "A value is trying to be set on a copy of a slice from a DataFrame.\n",
      "Try using .loc[row_indexer,col_indexer] = value instead\n",
      "\n",
      "See the caveats in the documentation: https://pandas.pydata.org/pandas-docs/stable/user_guide/indexing.html#returning-a-view-versus-a-copy\n",
      "  after removing the cwd from sys.path.\n"
     ]
    }
   ],
   "source": [
    "allSportsClaim_scores['ieo'] = LGA_scores['ieo']\n",
    "allSportsClaim_scores['ier'] = LGA_scores['ier']\n",
    "allSportsClaim_scores['irsad'] = LGA_scores['irsad']\n",
    "allSportsClaim_scores['irsd'] = LGA_scores['irsd']"
   ]
  },
  {
   "cell_type": "code",
   "execution_count": 105,
   "metadata": {
    "hidden": true
   },
   "outputs": [
    {
     "data": {
      "text/html": [
       "<div>\n",
       "<style scoped>\n",
       "    .dataframe tbody tr th:only-of-type {\n",
       "        vertical-align: middle;\n",
       "    }\n",
       "\n",
       "    .dataframe tbody tr th {\n",
       "        vertical-align: top;\n",
       "    }\n",
       "\n",
       "    .dataframe thead th {\n",
       "        text-align: right;\n",
       "    }\n",
       "</style>\n",
       "<table border=\"1\" class=\"dataframe\">\n",
       "  <thead>\n",
       "    <tr style=\"text-align: right;\">\n",
       "      <th></th>\n",
       "      <th>sum</th>\n",
       "      <th>population</th>\n",
       "      <th>proportion</th>\n",
       "      <th>percentage</th>\n",
       "      <th>ieo</th>\n",
       "      <th>ier</th>\n",
       "      <th>irsad</th>\n",
       "      <th>irsd</th>\n",
       "    </tr>\n",
       "    <tr>\n",
       "      <th>participant_lga</th>\n",
       "      <th></th>\n",
       "      <th></th>\n",
       "      <th></th>\n",
       "      <th></th>\n",
       "      <th></th>\n",
       "      <th></th>\n",
       "      <th></th>\n",
       "      <th></th>\n",
       "    </tr>\n",
       "  </thead>\n",
       "  <tbody>\n",
       "    <tr>\n",
       "      <th>adelaide</th>\n",
       "      <td>302.0</td>\n",
       "      <td>19606.0</td>\n",
       "      <td>0.015403</td>\n",
       "      <td>1.54</td>\n",
       "      <td>874.0</td>\n",
       "      <td>874.0</td>\n",
       "      <td>1036.0</td>\n",
       "      <td>1013.0</td>\n",
       "    </tr>\n",
       "    <tr>\n",
       "      <th>adelaide hills</th>\n",
       "      <td>4756.0</td>\n",
       "      <td>38601.0</td>\n",
       "      <td>0.123209</td>\n",
       "      <td>12.32</td>\n",
       "      <td>1083.0</td>\n",
       "      <td>1083.0</td>\n",
       "      <td>1077.0</td>\n",
       "      <td>1081.0</td>\n",
       "    </tr>\n",
       "    <tr>\n",
       "      <th>alexandrina</th>\n",
       "      <td>2979.0</td>\n",
       "      <td>23693.0</td>\n",
       "      <td>0.125733</td>\n",
       "      <td>12.57</td>\n",
       "      <td>1000.0</td>\n",
       "      <td>1000.0</td>\n",
       "      <td>969.0</td>\n",
       "      <td>987.0</td>\n",
       "    </tr>\n",
       "    <tr>\n",
       "      <th>barossa</th>\n",
       "      <td>2874.0</td>\n",
       "      <td>22174.0</td>\n",
       "      <td>0.129611</td>\n",
       "      <td>12.96</td>\n",
       "      <td>1028.0</td>\n",
       "      <td>1028.0</td>\n",
       "      <td>997.0</td>\n",
       "      <td>1017.0</td>\n",
       "    </tr>\n",
       "    <tr>\n",
       "      <th>barunga west</th>\n",
       "      <td>333.0</td>\n",
       "      <td>2467.0</td>\n",
       "      <td>0.134982</td>\n",
       "      <td>13.50</td>\n",
       "      <td>981.0</td>\n",
       "      <td>981.0</td>\n",
       "      <td>940.0</td>\n",
       "      <td>954.0</td>\n",
       "    </tr>\n",
       "    <tr>\n",
       "      <th>...</th>\n",
       "      <td>...</td>\n",
       "      <td>...</td>\n",
       "      <td>...</td>\n",
       "      <td>...</td>\n",
       "      <td>...</td>\n",
       "      <td>...</td>\n",
       "      <td>...</td>\n",
       "      <td>...</td>\n",
       "    </tr>\n",
       "    <tr>\n",
       "      <th>west torrens</th>\n",
       "      <td>2844.0</td>\n",
       "      <td>54932.0</td>\n",
       "      <td>0.051773</td>\n",
       "      <td>5.18</td>\n",
       "      <td>949.0</td>\n",
       "      <td>949.0</td>\n",
       "      <td>989.0</td>\n",
       "      <td>998.0</td>\n",
       "    </tr>\n",
       "    <tr>\n",
       "      <th>whyalla</th>\n",
       "      <td>2488.0</td>\n",
       "      <td>22070.0</td>\n",
       "      <td>0.112732</td>\n",
       "      <td>11.27</td>\n",
       "      <td>905.0</td>\n",
       "      <td>905.0</td>\n",
       "      <td>897.0</td>\n",
       "      <td>905.0</td>\n",
       "    </tr>\n",
       "    <tr>\n",
       "      <th>wudinna</th>\n",
       "      <td>267.0</td>\n",
       "      <td>1256.0</td>\n",
       "      <td>0.212580</td>\n",
       "      <td>21.26</td>\n",
       "      <td>1008.0</td>\n",
       "      <td>1008.0</td>\n",
       "      <td>999.0</td>\n",
       "      <td>1023.0</td>\n",
       "    </tr>\n",
       "    <tr>\n",
       "      <th>yankalilla</th>\n",
       "      <td>443.0</td>\n",
       "      <td>4406.0</td>\n",
       "      <td>0.100545</td>\n",
       "      <td>10.05</td>\n",
       "      <td>990.0</td>\n",
       "      <td>990.0</td>\n",
       "      <td>957.0</td>\n",
       "      <td>972.0</td>\n",
       "    </tr>\n",
       "    <tr>\n",
       "      <th>yorke peninsula</th>\n",
       "      <td>977.0</td>\n",
       "      <td>11046.0</td>\n",
       "      <td>0.088448</td>\n",
       "      <td>8.84</td>\n",
       "      <td>969.0</td>\n",
       "      <td>969.0</td>\n",
       "      <td>933.0</td>\n",
       "      <td>952.0</td>\n",
       "    </tr>\n",
       "  </tbody>\n",
       "</table>\n",
       "<p>62 rows × 8 columns</p>\n",
       "</div>"
      ],
      "text/plain": [
       "                    sum  population  proportion  percentage     ieo     ier  \\\n",
       "participant_lga                                                               \n",
       "adelaide          302.0     19606.0    0.015403        1.54   874.0   874.0   \n",
       "adelaide hills   4756.0     38601.0    0.123209       12.32  1083.0  1083.0   \n",
       "alexandrina      2979.0     23693.0    0.125733       12.57  1000.0  1000.0   \n",
       "barossa          2874.0     22174.0    0.129611       12.96  1028.0  1028.0   \n",
       "barunga west      333.0      2467.0    0.134982       13.50   981.0   981.0   \n",
       "...                 ...         ...         ...         ...     ...     ...   \n",
       "west torrens     2844.0     54932.0    0.051773        5.18   949.0   949.0   \n",
       "whyalla          2488.0     22070.0    0.112732       11.27   905.0   905.0   \n",
       "wudinna           267.0      1256.0    0.212580       21.26  1008.0  1008.0   \n",
       "yankalilla        443.0      4406.0    0.100545       10.05   990.0   990.0   \n",
       "yorke peninsula   977.0     11046.0    0.088448        8.84   969.0   969.0   \n",
       "\n",
       "                  irsad    irsd  \n",
       "participant_lga                  \n",
       "adelaide         1036.0  1013.0  \n",
       "adelaide hills   1077.0  1081.0  \n",
       "alexandrina       969.0   987.0  \n",
       "barossa           997.0  1017.0  \n",
       "barunga west      940.0   954.0  \n",
       "...                 ...     ...  \n",
       "west torrens      989.0   998.0  \n",
       "whyalla           897.0   905.0  \n",
       "wudinna           999.0  1023.0  \n",
       "yankalilla        957.0   972.0  \n",
       "yorke peninsula   933.0   952.0  \n",
       "\n",
       "[62 rows x 8 columns]"
      ]
     },
     "execution_count": 105,
     "metadata": {},
     "output_type": "execute_result"
    }
   ],
   "source": [
    "allSportsClaim_scores"
   ]
  },
  {
   "cell_type": "code",
   "execution_count": 106,
   "metadata": {
    "hidden": true
   },
   "outputs": [
    {
     "data": {
      "text/html": [
       "<div>\n",
       "<style scoped>\n",
       "    .dataframe tbody tr th:only-of-type {\n",
       "        vertical-align: middle;\n",
       "    }\n",
       "\n",
       "    .dataframe tbody tr th {\n",
       "        vertical-align: top;\n",
       "    }\n",
       "\n",
       "    .dataframe thead th {\n",
       "        text-align: right;\n",
       "    }\n",
       "</style>\n",
       "<table border=\"1\" class=\"dataframe\">\n",
       "  <thead>\n",
       "    <tr style=\"text-align: right;\">\n",
       "      <th></th>\n",
       "      <th>sum</th>\n",
       "      <th>population</th>\n",
       "      <th>proportion</th>\n",
       "      <th>percentage</th>\n",
       "      <th>ieo</th>\n",
       "      <th>ier</th>\n",
       "      <th>irsad</th>\n",
       "      <th>irsd</th>\n",
       "    </tr>\n",
       "    <tr>\n",
       "      <th>participant_lga</th>\n",
       "      <th></th>\n",
       "      <th></th>\n",
       "      <th></th>\n",
       "      <th></th>\n",
       "      <th></th>\n",
       "      <th></th>\n",
       "      <th></th>\n",
       "      <th></th>\n",
       "    </tr>\n",
       "  </thead>\n",
       "  <tbody>\n",
       "    <tr>\n",
       "      <th>burnside</th>\n",
       "      <td>2213.0</td>\n",
       "      <td>42168.0</td>\n",
       "      <td>0.052481</td>\n",
       "      <td>5.25</td>\n",
       "      <td>1044.0</td>\n",
       "      <td>1044.0</td>\n",
       "      <td>1090.0</td>\n",
       "      <td>1081.0</td>\n",
       "    </tr>\n",
       "    <tr>\n",
       "      <th>roxby downs</th>\n",
       "      <td>234.0</td>\n",
       "      <td>4694.0</td>\n",
       "      <td>0.049851</td>\n",
       "      <td>4.99</td>\n",
       "      <td>1066.0</td>\n",
       "      <td>1066.0</td>\n",
       "      <td>1086.0</td>\n",
       "      <td>1096.0</td>\n",
       "    </tr>\n",
       "    <tr>\n",
       "      <th>adelaide hills</th>\n",
       "      <td>4756.0</td>\n",
       "      <td>38601.0</td>\n",
       "      <td>0.123209</td>\n",
       "      <td>12.32</td>\n",
       "      <td>1083.0</td>\n",
       "      <td>1083.0</td>\n",
       "      <td>1077.0</td>\n",
       "      <td>1081.0</td>\n",
       "    </tr>\n",
       "    <tr>\n",
       "      <th>walkerville</th>\n",
       "      <td>386.0</td>\n",
       "      <td>7008.0</td>\n",
       "      <td>0.055080</td>\n",
       "      <td>5.51</td>\n",
       "      <td>1029.0</td>\n",
       "      <td>1029.0</td>\n",
       "      <td>1076.0</td>\n",
       "      <td>1065.0</td>\n",
       "    </tr>\n",
       "    <tr>\n",
       "      <th>unley</th>\n",
       "      <td>2266.0</td>\n",
       "      <td>36813.0</td>\n",
       "      <td>0.061554</td>\n",
       "      <td>6.16</td>\n",
       "      <td>1013.0</td>\n",
       "      <td>1013.0</td>\n",
       "      <td>1071.0</td>\n",
       "      <td>1065.0</td>\n",
       "    </tr>\n",
       "  </tbody>\n",
       "</table>\n",
       "</div>"
      ],
      "text/plain": [
       "                    sum  population  proportion  percentage     ieo     ier  \\\n",
       "participant_lga                                                               \n",
       "burnside         2213.0     42168.0    0.052481        5.25  1044.0  1044.0   \n",
       "roxby downs       234.0      4694.0    0.049851        4.99  1066.0  1066.0   \n",
       "adelaide hills   4756.0     38601.0    0.123209       12.32  1083.0  1083.0   \n",
       "walkerville       386.0      7008.0    0.055080        5.51  1029.0  1029.0   \n",
       "unley            2266.0     36813.0    0.061554        6.16  1013.0  1013.0   \n",
       "\n",
       "                  irsad    irsd  \n",
       "participant_lga                  \n",
       "burnside         1090.0  1081.0  \n",
       "roxby downs      1086.0  1096.0  \n",
       "adelaide hills   1077.0  1081.0  \n",
       "walkerville      1076.0  1065.0  \n",
       "unley            1071.0  1065.0  "
      ]
     },
     "execution_count": 106,
     "metadata": {},
     "output_type": "execute_result"
    }
   ],
   "source": [
    "allSportsClaim_scores.loc[list(allSportsClaim_scores['irsad'].nlargest(5).index)]"
   ]
  },
  {
   "cell_type": "code",
   "execution_count": 107,
   "metadata": {
    "hidden": true
   },
   "outputs": [
    {
     "data": {
      "text/html": [
       "<div>\n",
       "<style scoped>\n",
       "    .dataframe tbody tr th:only-of-type {\n",
       "        vertical-align: middle;\n",
       "    }\n",
       "\n",
       "    .dataframe tbody tr th {\n",
       "        vertical-align: top;\n",
       "    }\n",
       "\n",
       "    .dataframe thead th {\n",
       "        text-align: right;\n",
       "    }\n",
       "</style>\n",
       "<table border=\"1\" class=\"dataframe\">\n",
       "  <thead>\n",
       "    <tr style=\"text-align: right;\">\n",
       "      <th></th>\n",
       "      <th>sum</th>\n",
       "      <th>population</th>\n",
       "      <th>proportion</th>\n",
       "      <th>percentage</th>\n",
       "      <th>ieo</th>\n",
       "      <th>ier</th>\n",
       "      <th>irsad</th>\n",
       "      <th>irsd</th>\n",
       "    </tr>\n",
       "    <tr>\n",
       "      <th>participant_lga</th>\n",
       "      <th></th>\n",
       "      <th></th>\n",
       "      <th></th>\n",
       "      <th></th>\n",
       "      <th></th>\n",
       "      <th></th>\n",
       "      <th></th>\n",
       "      <th></th>\n",
       "    </tr>\n",
       "  </thead>\n",
       "  <tbody>\n",
       "    <tr>\n",
       "      <th>peterborough</th>\n",
       "      <td>45.0</td>\n",
       "      <td>1733.0</td>\n",
       "      <td>0.025967</td>\n",
       "      <td>2.60</td>\n",
       "      <td>873.0</td>\n",
       "      <td>873.0</td>\n",
       "      <td>808.0</td>\n",
       "      <td>798.0</td>\n",
       "    </tr>\n",
       "    <tr>\n",
       "      <th>playford</th>\n",
       "      <td>6940.0</td>\n",
       "      <td>79082.0</td>\n",
       "      <td>0.087757</td>\n",
       "      <td>8.78</td>\n",
       "      <td>914.0</td>\n",
       "      <td>914.0</td>\n",
       "      <td>868.0</td>\n",
       "      <td>871.0</td>\n",
       "    </tr>\n",
       "    <tr>\n",
       "      <th>coober pedy</th>\n",
       "      <td>39.0</td>\n",
       "      <td>1694.0</td>\n",
       "      <td>0.023022</td>\n",
       "      <td>2.30</td>\n",
       "      <td>870.0</td>\n",
       "      <td>870.0</td>\n",
       "      <td>869.0</td>\n",
       "      <td>870.0</td>\n",
       "    </tr>\n",
       "    <tr>\n",
       "      <th>murray bridge</th>\n",
       "      <td>1462.0</td>\n",
       "      <td>19742.0</td>\n",
       "      <td>0.074055</td>\n",
       "      <td>7.41</td>\n",
       "      <td>932.0</td>\n",
       "      <td>932.0</td>\n",
       "      <td>887.0</td>\n",
       "      <td>901.0</td>\n",
       "    </tr>\n",
       "    <tr>\n",
       "      <th>port augusta</th>\n",
       "      <td>1522.0</td>\n",
       "      <td>13978.0</td>\n",
       "      <td>0.108885</td>\n",
       "      <td>10.89</td>\n",
       "      <td>917.0</td>\n",
       "      <td>917.0</td>\n",
       "      <td>897.0</td>\n",
       "      <td>906.0</td>\n",
       "    </tr>\n",
       "  </tbody>\n",
       "</table>\n",
       "</div>"
      ],
      "text/plain": [
       "                    sum  population  proportion  percentage    ieo    ier  \\\n",
       "participant_lga                                                             \n",
       "peterborough       45.0      1733.0    0.025967        2.60  873.0  873.0   \n",
       "playford         6940.0     79082.0    0.087757        8.78  914.0  914.0   \n",
       "coober pedy        39.0      1694.0    0.023022        2.30  870.0  870.0   \n",
       "murray bridge    1462.0     19742.0    0.074055        7.41  932.0  932.0   \n",
       "port augusta     1522.0     13978.0    0.108885       10.89  917.0  917.0   \n",
       "\n",
       "                 irsad   irsd  \n",
       "participant_lga                \n",
       "peterborough     808.0  798.0  \n",
       "playford         868.0  871.0  \n",
       "coober pedy      869.0  870.0  \n",
       "murray bridge    887.0  901.0  \n",
       "port augusta     897.0  906.0  "
      ]
     },
     "execution_count": 107,
     "metadata": {},
     "output_type": "execute_result"
    }
   ],
   "source": [
    "allSportsClaim_scores.loc[list(allSportsClaim_scores['irsad'].nsmallest(5).index)]"
   ]
  },
  {
   "cell_type": "markdown",
   "metadata": {
    "hidden": true
   },
   "source": [
    "### relation between vouchers claimed and scores via table"
   ]
  },
  {
   "cell_type": "markdown",
   "metadata": {
    "hidden": true
   },
   "source": [
    "\n",
    "I can't see a relation in the above tables if voucher claim proportion is related to any of the scores\n",
    "\n",
    "should I be plotting something? "
   ]
  },
  {
   "cell_type": "code",
   "execution_count": 108,
   "metadata": {
    "hidden": true
   },
   "outputs": [
    {
     "data": {
      "text/html": [
       "<div>\n",
       "<style scoped>\n",
       "    .dataframe tbody tr th:only-of-type {\n",
       "        vertical-align: middle;\n",
       "    }\n",
       "\n",
       "    .dataframe tbody tr th {\n",
       "        vertical-align: top;\n",
       "    }\n",
       "\n",
       "    .dataframe thead th {\n",
       "        text-align: right;\n",
       "    }\n",
       "</style>\n",
       "<table border=\"1\" class=\"dataframe\">\n",
       "  <thead>\n",
       "    <tr style=\"text-align: right;\">\n",
       "      <th></th>\n",
       "      <th>sum</th>\n",
       "      <th>population</th>\n",
       "      <th>proportion</th>\n",
       "      <th>percentage</th>\n",
       "      <th>ieo</th>\n",
       "      <th>ier</th>\n",
       "      <th>irsad</th>\n",
       "      <th>irsd</th>\n",
       "    </tr>\n",
       "    <tr>\n",
       "      <th>participant_lga</th>\n",
       "      <th></th>\n",
       "      <th></th>\n",
       "      <th></th>\n",
       "      <th></th>\n",
       "      <th></th>\n",
       "      <th></th>\n",
       "      <th></th>\n",
       "      <th></th>\n",
       "    </tr>\n",
       "  </thead>\n",
       "  <tbody>\n",
       "    <tr>\n",
       "      <th>adelaide</th>\n",
       "      <td>302.0</td>\n",
       "      <td>19606.0</td>\n",
       "      <td>0.015403</td>\n",
       "      <td>1.54</td>\n",
       "      <td>874.0</td>\n",
       "      <td>874.0</td>\n",
       "      <td>1036.0</td>\n",
       "      <td>1013.0</td>\n",
       "    </tr>\n",
       "    <tr>\n",
       "      <th>adelaide hills</th>\n",
       "      <td>4756.0</td>\n",
       "      <td>38601.0</td>\n",
       "      <td>0.123209</td>\n",
       "      <td>12.32</td>\n",
       "      <td>1083.0</td>\n",
       "      <td>1083.0</td>\n",
       "      <td>1077.0</td>\n",
       "      <td>1081.0</td>\n",
       "    </tr>\n",
       "    <tr>\n",
       "      <th>alexandrina</th>\n",
       "      <td>2979.0</td>\n",
       "      <td>23693.0</td>\n",
       "      <td>0.125733</td>\n",
       "      <td>12.57</td>\n",
       "      <td>1000.0</td>\n",
       "      <td>1000.0</td>\n",
       "      <td>969.0</td>\n",
       "      <td>987.0</td>\n",
       "    </tr>\n",
       "    <tr>\n",
       "      <th>barossa</th>\n",
       "      <td>2874.0</td>\n",
       "      <td>22174.0</td>\n",
       "      <td>0.129611</td>\n",
       "      <td>12.96</td>\n",
       "      <td>1028.0</td>\n",
       "      <td>1028.0</td>\n",
       "      <td>997.0</td>\n",
       "      <td>1017.0</td>\n",
       "    </tr>\n",
       "    <tr>\n",
       "      <th>barunga west</th>\n",
       "      <td>333.0</td>\n",
       "      <td>2467.0</td>\n",
       "      <td>0.134982</td>\n",
       "      <td>13.50</td>\n",
       "      <td>981.0</td>\n",
       "      <td>981.0</td>\n",
       "      <td>940.0</td>\n",
       "      <td>954.0</td>\n",
       "    </tr>\n",
       "    <tr>\n",
       "      <th>...</th>\n",
       "      <td>...</td>\n",
       "      <td>...</td>\n",
       "      <td>...</td>\n",
       "      <td>...</td>\n",
       "      <td>...</td>\n",
       "      <td>...</td>\n",
       "      <td>...</td>\n",
       "      <td>...</td>\n",
       "    </tr>\n",
       "    <tr>\n",
       "      <th>west torrens</th>\n",
       "      <td>2844.0</td>\n",
       "      <td>54932.0</td>\n",
       "      <td>0.051773</td>\n",
       "      <td>5.18</td>\n",
       "      <td>949.0</td>\n",
       "      <td>949.0</td>\n",
       "      <td>989.0</td>\n",
       "      <td>998.0</td>\n",
       "    </tr>\n",
       "    <tr>\n",
       "      <th>whyalla</th>\n",
       "      <td>2488.0</td>\n",
       "      <td>22070.0</td>\n",
       "      <td>0.112732</td>\n",
       "      <td>11.27</td>\n",
       "      <td>905.0</td>\n",
       "      <td>905.0</td>\n",
       "      <td>897.0</td>\n",
       "      <td>905.0</td>\n",
       "    </tr>\n",
       "    <tr>\n",
       "      <th>wudinna</th>\n",
       "      <td>267.0</td>\n",
       "      <td>1256.0</td>\n",
       "      <td>0.212580</td>\n",
       "      <td>21.26</td>\n",
       "      <td>1008.0</td>\n",
       "      <td>1008.0</td>\n",
       "      <td>999.0</td>\n",
       "      <td>1023.0</td>\n",
       "    </tr>\n",
       "    <tr>\n",
       "      <th>yankalilla</th>\n",
       "      <td>443.0</td>\n",
       "      <td>4406.0</td>\n",
       "      <td>0.100545</td>\n",
       "      <td>10.05</td>\n",
       "      <td>990.0</td>\n",
       "      <td>990.0</td>\n",
       "      <td>957.0</td>\n",
       "      <td>972.0</td>\n",
       "    </tr>\n",
       "    <tr>\n",
       "      <th>yorke peninsula</th>\n",
       "      <td>977.0</td>\n",
       "      <td>11046.0</td>\n",
       "      <td>0.088448</td>\n",
       "      <td>8.84</td>\n",
       "      <td>969.0</td>\n",
       "      <td>969.0</td>\n",
       "      <td>933.0</td>\n",
       "      <td>952.0</td>\n",
       "    </tr>\n",
       "  </tbody>\n",
       "</table>\n",
       "<p>62 rows × 8 columns</p>\n",
       "</div>"
      ],
      "text/plain": [
       "                    sum  population  proportion  percentage     ieo     ier  \\\n",
       "participant_lga                                                               \n",
       "adelaide          302.0     19606.0    0.015403        1.54   874.0   874.0   \n",
       "adelaide hills   4756.0     38601.0    0.123209       12.32  1083.0  1083.0   \n",
       "alexandrina      2979.0     23693.0    0.125733       12.57  1000.0  1000.0   \n",
       "barossa          2874.0     22174.0    0.129611       12.96  1028.0  1028.0   \n",
       "barunga west      333.0      2467.0    0.134982       13.50   981.0   981.0   \n",
       "...                 ...         ...         ...         ...     ...     ...   \n",
       "west torrens     2844.0     54932.0    0.051773        5.18   949.0   949.0   \n",
       "whyalla          2488.0     22070.0    0.112732       11.27   905.0   905.0   \n",
       "wudinna           267.0      1256.0    0.212580       21.26  1008.0  1008.0   \n",
       "yankalilla        443.0      4406.0    0.100545       10.05   990.0   990.0   \n",
       "yorke peninsula   977.0     11046.0    0.088448        8.84   969.0   969.0   \n",
       "\n",
       "                  irsad    irsd  \n",
       "participant_lga                  \n",
       "adelaide         1036.0  1013.0  \n",
       "adelaide hills   1077.0  1081.0  \n",
       "alexandrina       969.0   987.0  \n",
       "barossa           997.0  1017.0  \n",
       "barunga west      940.0   954.0  \n",
       "...                 ...     ...  \n",
       "west torrens      989.0   998.0  \n",
       "whyalla           897.0   905.0  \n",
       "wudinna           999.0  1023.0  \n",
       "yankalilla        957.0   972.0  \n",
       "yorke peninsula   933.0   952.0  \n",
       "\n",
       "[62 rows x 8 columns]"
      ]
     },
     "execution_count": 108,
     "metadata": {},
     "output_type": "execute_result"
    }
   ],
   "source": [
    "allSportsClaim_scores"
   ]
  },
  {
   "cell_type": "markdown",
   "metadata": {
    "hidden": true
   },
   "source": [
    "check a correlation matrix. "
   ]
  },
  {
   "cell_type": "raw",
   "metadata": {
    "hidden": true
   },
   "source": [
    "allSportsClaim_scores.loc['adelaide']"
   ]
  },
  {
   "cell_type": "raw",
   "metadata": {
    "hidden": true
   },
   "source": [
    "list(allSportsClaim_scores.columns[-5:])"
   ]
  },
  {
   "cell_type": "code",
   "execution_count": 109,
   "metadata": {
    "hidden": true
   },
   "outputs": [
    {
     "data": {
      "text/plain": [
       "<seaborn.axisgrid.PairGrid at 0x25b0b698248>"
      ]
     },
     "execution_count": 109,
     "metadata": {},
     "output_type": "execute_result"
    },
    {
     "data": {
      "image/png": "[encoded data removed]",
      "text/plain": [
       "<Figure size 900x900 with 30 Axes>"
      ]
     },
     "metadata": {},
     "output_type": "display_data"
    }
   ],
   "source": [
    "sns.pairplot(allSportsClaim_scores[list(allSportsClaim_scores.columns[-5:])])"
   ]
  },
  {
   "cell_type": "markdown",
   "metadata": {
    "hidden": true
   },
   "source": [
    "Don't really see any relation between claim rate (percentage or proportion) and the scores. We could use LR to see if there are any relationship between the scores and claim rate. \n",
    "\n",
    "Checking correlation / heatmap"
   ]
  },
  {
   "cell_type": "code",
   "execution_count": 110,
   "metadata": {
    "hidden": true
   },
   "outputs": [],
   "source": [
    "myList = list(allSportsClaim_scores.columns[-4:])"
   ]
  },
  {
   "cell_type": "code",
   "execution_count": 111,
   "metadata": {
    "hidden": true
   },
   "outputs": [],
   "source": [
    "myList.append('proportion')"
   ]
  },
  {
   "cell_type": "code",
   "execution_count": 112,
   "metadata": {
    "hidden": true
   },
   "outputs": [
    {
     "data": {
      "text/plain": [
       "['ieo', 'ier', 'irsad', 'irsd', 'proportion']"
      ]
     },
     "execution_count": 112,
     "metadata": {},
     "output_type": "execute_result"
    }
   ],
   "source": [
    "myList"
   ]
  },
  {
   "cell_type": "markdown",
   "metadata": {
    "hidden": true
   },
   "source": [
    "plotting the correlation matrix as a heatmap to visually see if there are any correlations between the claim rate and the scores"
   ]
  },
  {
   "cell_type": "code",
   "execution_count": 113,
   "metadata": {
    "hidden": true
   },
   "outputs": [
    {
     "data": {
      "text/plain": [
       "<AxesSubplot:>"
      ]
     },
     "execution_count": 113,
     "metadata": {},
     "output_type": "execute_result"
    },
    {
     "data": {
      "image/png": "[encoded data removed]",
      "text/plain": [
       "<Figure size 432x288 with 2 Axes>"
      ]
     },
     "metadata": {},
     "output_type": "display_data"
    }
   ],
   "source": [
    "sns.heatmap((allSportsClaim_scores[myList].corr()), linewidths = 0.5)"
   ]
  },
  {
   "cell_type": "code",
   "execution_count": 114,
   "metadata": {
    "hidden": true
   },
   "outputs": [
    {
     "data": {
      "text/html": [
       "<div>\n",
       "<style scoped>\n",
       "    .dataframe tbody tr th:only-of-type {\n",
       "        vertical-align: middle;\n",
       "    }\n",
       "\n",
       "    .dataframe tbody tr th {\n",
       "        vertical-align: top;\n",
       "    }\n",
       "\n",
       "    .dataframe thead th {\n",
       "        text-align: right;\n",
       "    }\n",
       "</style>\n",
       "<table border=\"1\" class=\"dataframe\">\n",
       "  <thead>\n",
       "    <tr style=\"text-align: right;\">\n",
       "      <th></th>\n",
       "      <th>sum</th>\n",
       "      <th>population</th>\n",
       "      <th>proportion</th>\n",
       "      <th>percentage</th>\n",
       "      <th>ieo</th>\n",
       "      <th>ier</th>\n",
       "      <th>irsad</th>\n",
       "      <th>irsd</th>\n",
       "    </tr>\n",
       "  </thead>\n",
       "  <tbody>\n",
       "    <tr>\n",
       "      <th>sum</th>\n",
       "      <td>1.000000</td>\n",
       "      <td>0.909829</td>\n",
       "      <td>-0.211298</td>\n",
       "      <td>-0.211407</td>\n",
       "      <td>-0.000399</td>\n",
       "      <td>-0.000399</td>\n",
       "      <td>0.044818</td>\n",
       "      <td>0.026067</td>\n",
       "    </tr>\n",
       "    <tr>\n",
       "      <th>population</th>\n",
       "      <td>0.909829</td>\n",
       "      <td>1.000000</td>\n",
       "      <td>-0.389840</td>\n",
       "      <td>-0.389941</td>\n",
       "      <td>-0.035736</td>\n",
       "      <td>-0.035736</td>\n",
       "      <td>0.092233</td>\n",
       "      <td>0.055094</td>\n",
       "    </tr>\n",
       "    <tr>\n",
       "      <th>proportion</th>\n",
       "      <td>-0.211298</td>\n",
       "      <td>-0.389840</td>\n",
       "      <td>1.000000</td>\n",
       "      <td>1.000000</td>\n",
       "      <td>0.254972</td>\n",
       "      <td>0.254972</td>\n",
       "      <td>-0.026474</td>\n",
       "      <td>0.064524</td>\n",
       "    </tr>\n",
       "    <tr>\n",
       "      <th>percentage</th>\n",
       "      <td>-0.211407</td>\n",
       "      <td>-0.389941</td>\n",
       "      <td>1.000000</td>\n",
       "      <td>1.000000</td>\n",
       "      <td>0.254995</td>\n",
       "      <td>0.254995</td>\n",
       "      <td>-0.026467</td>\n",
       "      <td>0.064529</td>\n",
       "    </tr>\n",
       "    <tr>\n",
       "      <th>ieo</th>\n",
       "      <td>-0.000399</td>\n",
       "      <td>-0.035736</td>\n",
       "      <td>0.254972</td>\n",
       "      <td>0.254995</td>\n",
       "      <td>1.000000</td>\n",
       "      <td>1.000000</td>\n",
       "      <td>0.781360</td>\n",
       "      <td>0.848105</td>\n",
       "    </tr>\n",
       "    <tr>\n",
       "      <th>ier</th>\n",
       "      <td>-0.000399</td>\n",
       "      <td>-0.035736</td>\n",
       "      <td>0.254972</td>\n",
       "      <td>0.254995</td>\n",
       "      <td>1.000000</td>\n",
       "      <td>1.000000</td>\n",
       "      <td>0.781360</td>\n",
       "      <td>0.848105</td>\n",
       "    </tr>\n",
       "    <tr>\n",
       "      <th>irsad</th>\n",
       "      <td>0.044818</td>\n",
       "      <td>0.092233</td>\n",
       "      <td>-0.026474</td>\n",
       "      <td>-0.026467</td>\n",
       "      <td>0.781360</td>\n",
       "      <td>0.781360</td>\n",
       "      <td>1.000000</td>\n",
       "      <td>0.985054</td>\n",
       "    </tr>\n",
       "    <tr>\n",
       "      <th>irsd</th>\n",
       "      <td>0.026067</td>\n",
       "      <td>0.055094</td>\n",
       "      <td>0.064524</td>\n",
       "      <td>0.064529</td>\n",
       "      <td>0.848105</td>\n",
       "      <td>0.848105</td>\n",
       "      <td>0.985054</td>\n",
       "      <td>1.000000</td>\n",
       "    </tr>\n",
       "  </tbody>\n",
       "</table>\n",
       "</div>"
      ],
      "text/plain": [
       "                 sum  population  proportion  percentage       ieo       ier  \\\n",
       "sum         1.000000    0.909829   -0.211298   -0.211407 -0.000399 -0.000399   \n",
       "population  0.909829    1.000000   -0.389840   -0.389941 -0.035736 -0.035736   \n",
       "proportion -0.211298   -0.389840    1.000000    1.000000  0.254972  0.254972   \n",
       "percentage -0.211407   -0.389941    1.000000    1.000000  0.254995  0.254995   \n",
       "ieo        -0.000399   -0.035736    0.254972    0.254995  1.000000  1.000000   \n",
       "ier        -0.000399   -0.035736    0.254972    0.254995  1.000000  1.000000   \n",
       "irsad       0.044818    0.092233   -0.026474   -0.026467  0.781360  0.781360   \n",
       "irsd        0.026067    0.055094    0.064524    0.064529  0.848105  0.848105   \n",
       "\n",
       "               irsad      irsd  \n",
       "sum         0.044818  0.026067  \n",
       "population  0.092233  0.055094  \n",
       "proportion -0.026474  0.064524  \n",
       "percentage -0.026467  0.064529  \n",
       "ieo         0.781360  0.848105  \n",
       "ier         0.781360  0.848105  \n",
       "irsad       1.000000  0.985054  \n",
       "irsd        0.985054  1.000000  "
      ]
     },
     "execution_count": 114,
     "metadata": {},
     "output_type": "execute_result"
    }
   ],
   "source": [
    "allSportsClaim_scores.corr()"
   ]
  },
  {
   "cell_type": "markdown",
   "metadata": {
    "hidden": true
   },
   "source": [
    "This refers to all LGAs though, would it be different if we look at a single LGA? The question says to check if there is a relationship between claim and and an LGA"
   ]
  },
  {
   "cell_type": "code",
   "execution_count": 115,
   "metadata": {
    "hidden": true
   },
   "outputs": [
    {
     "data": {
      "text/html": [
       "<div>\n",
       "<style scoped>\n",
       "    .dataframe tbody tr th:only-of-type {\n",
       "        vertical-align: middle;\n",
       "    }\n",
       "\n",
       "    .dataframe tbody tr th {\n",
       "        vertical-align: top;\n",
       "    }\n",
       "\n",
       "    .dataframe thead th {\n",
       "        text-align: right;\n",
       "    }\n",
       "</style>\n",
       "<table border=\"1\" class=\"dataframe\">\n",
       "  <thead>\n",
       "    <tr style=\"text-align: right;\">\n",
       "      <th></th>\n",
       "      <th>sum</th>\n",
       "      <th>population</th>\n",
       "      <th>proportion</th>\n",
       "      <th>percentage</th>\n",
       "      <th>ieo</th>\n",
       "      <th>ier</th>\n",
       "      <th>irsad</th>\n",
       "      <th>irsd</th>\n",
       "    </tr>\n",
       "    <tr>\n",
       "      <th>participant_lga</th>\n",
       "      <th></th>\n",
       "      <th></th>\n",
       "      <th></th>\n",
       "      <th></th>\n",
       "      <th></th>\n",
       "      <th></th>\n",
       "      <th></th>\n",
       "      <th></th>\n",
       "    </tr>\n",
       "  </thead>\n",
       "  <tbody>\n",
       "    <tr>\n",
       "      <th>karoonda east murray</th>\n",
       "      <td>388.0</td>\n",
       "      <td>1035.0</td>\n",
       "      <td>0.374879</td>\n",
       "      <td>37.49</td>\n",
       "      <td>999.0</td>\n",
       "      <td>999.0</td>\n",
       "      <td>972.0</td>\n",
       "      <td>986.0</td>\n",
       "    </tr>\n",
       "  </tbody>\n",
       "</table>\n",
       "</div>"
      ],
      "text/plain": [
       "                        sum  population  proportion  percentage    ieo    ier  \\\n",
       "participant_lga                                                                 \n",
       "karoonda east murray  388.0      1035.0    0.374879       37.49  999.0  999.0   \n",
       "\n",
       "                      irsad   irsd  \n",
       "participant_lga                     \n",
       "karoonda east murray  972.0  986.0  "
      ]
     },
     "execution_count": 115,
     "metadata": {},
     "output_type": "execute_result"
    }
   ],
   "source": [
    "allSportsClaim_scores.nlargest(1, columns= 'proportion')"
   ]
  },
  {
   "cell_type": "markdown",
   "metadata": {
    "hidden": true
   },
   "source": [
    "checking the proportion row and the scores, we can't really see a relationship. \n",
    "\n",
    "Can try to explore it, pearson / spearman correlation, can also try to use machine learning to find correlation, check correlation matrix. \n",
    "\n",
    "\n",
    "if you cluster on the sports, can find that what regions have the most claims for the specific sports in those areas. "
   ]
  },
  {
   "cell_type": "markdown",
   "metadata": {
    "hidden": true
   },
   "source": [
    "Checking the pearsons and spearman's correlation:\n",
    "- measure of skewness.\n",
    "- pearson = 0 does not necessarily mean the variables are not correlated. \n",
    "- spearman = when the data contains outliers, use spearmans rank correlation. This will use the ranks of the data rather than the actual values. "
   ]
  },
  {
   "cell_type": "code",
   "execution_count": 116,
   "metadata": {
    "hidden": true
   },
   "outputs": [],
   "source": [
    "data = pd.DataFrame({'X':[10,20,30,40,1000], 'Y':[-70, -1000, -50, -10, -20]})"
   ]
  },
  {
   "cell_type": "code",
   "execution_count": 117,
   "metadata": {
    "hidden": true
   },
   "outputs": [
    {
     "data": {
      "text/html": [
       "<div>\n",
       "<style scoped>\n",
       "    .dataframe tbody tr th:only-of-type {\n",
       "        vertical-align: middle;\n",
       "    }\n",
       "\n",
       "    .dataframe tbody tr th {\n",
       "        vertical-align: top;\n",
       "    }\n",
       "\n",
       "    .dataframe thead th {\n",
       "        text-align: right;\n",
       "    }\n",
       "</style>\n",
       "<table border=\"1\" class=\"dataframe\">\n",
       "  <thead>\n",
       "    <tr style=\"text-align: right;\">\n",
       "      <th></th>\n",
       "      <th>X</th>\n",
       "      <th>Y</th>\n",
       "    </tr>\n",
       "  </thead>\n",
       "  <tbody>\n",
       "    <tr>\n",
       "      <th>X</th>\n",
       "      <td>1.000000</td>\n",
       "      <td>0.279732</td>\n",
       "    </tr>\n",
       "    <tr>\n",
       "      <th>Y</th>\n",
       "      <td>0.279732</td>\n",
       "      <td>1.000000</td>\n",
       "    </tr>\n",
       "  </tbody>\n",
       "</table>\n",
       "</div>"
      ],
      "text/plain": [
       "          X         Y\n",
       "X  1.000000  0.279732\n",
       "Y  0.279732  1.000000"
      ]
     },
     "execution_count": 117,
     "metadata": {},
     "output_type": "execute_result"
    }
   ],
   "source": [
    "data.corr(method = 'pearson')"
   ]
  },
  {
   "cell_type": "code",
   "execution_count": 118,
   "metadata": {
    "hidden": true
   },
   "outputs": [
    {
     "data": {
      "text/html": [
       "<div>\n",
       "<style scoped>\n",
       "    .dataframe tbody tr th:only-of-type {\n",
       "        vertical-align: middle;\n",
       "    }\n",
       "\n",
       "    .dataframe tbody tr th {\n",
       "        vertical-align: top;\n",
       "    }\n",
       "\n",
       "    .dataframe thead th {\n",
       "        text-align: right;\n",
       "    }\n",
       "</style>\n",
       "<table border=\"1\" class=\"dataframe\">\n",
       "  <thead>\n",
       "    <tr style=\"text-align: right;\">\n",
       "      <th></th>\n",
       "      <th>X</th>\n",
       "      <th>Y</th>\n",
       "    </tr>\n",
       "  </thead>\n",
       "  <tbody>\n",
       "    <tr>\n",
       "      <th>X</th>\n",
       "      <td>1.0</td>\n",
       "      <td>0.8</td>\n",
       "    </tr>\n",
       "    <tr>\n",
       "      <th>Y</th>\n",
       "      <td>0.8</td>\n",
       "      <td>1.0</td>\n",
       "    </tr>\n",
       "  </tbody>\n",
       "</table>\n",
       "</div>"
      ],
      "text/plain": [
       "     X    Y\n",
       "X  1.0  0.8\n",
       "Y  0.8  1.0"
      ]
     },
     "execution_count": 118,
     "metadata": {},
     "output_type": "execute_result"
    }
   ],
   "source": [
    "data.corr(method = 'spearman')"
   ]
  },
  {
   "cell_type": "code",
   "execution_count": null,
   "metadata": {
    "hidden": true
   },
   "outputs": [],
   "source": []
  },
  {
   "cell_type": "markdown",
   "metadata": {},
   "source": [
    "# Challenge Question: Queensland"
   ]
  },
  {
   "cell_type": "markdown",
   "metadata": {},
   "source": [
    "_Note: this is an extra task that you might take on to get a better grade for your portfolio.  You can get a good pass grade without doing this._ \n",
    "\n",
    "Queensland has a similar program called [Get Started](https://data.gov.au/dataset/ds-qld-3118838a-d425-48fa-bfc9-bc615ddae44e/details?q=get%20started%20vouchers) and we can retrieve data from their program in a similar format.  \n",
    "\n",
    "The file [round1-redeemed_get_started_vouchers.csv](files/round1-redeemed_get_started_vouchers.csv) contains records of the vouchers issued in Queensland. The date of this data is not included but the program started in 2015 so it is probably from around then.  \n",
    "\n",
    "The data includes the LGA of the individual but the name of the activity is slightly different.  To do a comparable analysis you would need to map the activity names onto those from South Australia. "
   ]
  },
  {
   "cell_type": "markdown",
   "metadata": {
    "heading_collapsed": true
   },
   "source": [
    "### setting up the DFs"
   ]
  },
  {
   "cell_type": "code",
   "execution_count": 119,
   "metadata": {
    "hidden": true
   },
   "outputs": [
    {
     "data": {
      "text/html": [
       "<div>\n",
       "<style scoped>\n",
       "    .dataframe tbody tr th:only-of-type {\n",
       "        vertical-align: middle;\n",
       "    }\n",
       "\n",
       "    .dataframe tbody tr th {\n",
       "        vertical-align: top;\n",
       "    }\n",
       "\n",
       "    .dataframe thead th {\n",
       "        text-align: right;\n",
       "    }\n",
       "</style>\n",
       "<table border=\"1\" class=\"dataframe\">\n",
       "  <thead>\n",
       "    <tr style=\"text-align: right;\">\n",
       "      <th></th>\n",
       "      <th>Application Number</th>\n",
       "      <th>Voucher Number</th>\n",
       "      <th>Child Age (at time of Application)</th>\n",
       "      <th>Gender</th>\n",
       "      <th>Has your child played sport before?</th>\n",
       "      <th>Participation Activity</th>\n",
       "      <th>Club Name</th>\n",
       "      <th>Club Suburb/Town</th>\n",
       "      <th>Club Local Government Area Name</th>\n",
       "      <th>Club State Electoral District  Name</th>\n",
       "      <th>Parent Suburb/Town</th>\n",
       "      <th>Total Payment</th>\n",
       "    </tr>\n",
       "  </thead>\n",
       "  <tbody>\n",
       "    <tr>\n",
       "      <th>0</th>\n",
       "      <td>2000012253</td>\n",
       "      <td>Q89QDUXP</td>\n",
       "      <td>10</td>\n",
       "      <td>NaN</td>\n",
       "      <td>Yes</td>\n",
       "      <td>*Other</td>\n",
       "      <td>Queensland Police-Citizens Youth Welfare Assoc...</td>\n",
       "      <td>Airlie Beach</td>\n",
       "      <td>Whitsunday (R)</td>\n",
       "      <td>Whitsunday</td>\n",
       "      <td>Jubilee Pocket</td>\n",
       "      <td>60.01</td>\n",
       "    </tr>\n",
       "    <tr>\n",
       "      <th>1</th>\n",
       "      <td>2000001727</td>\n",
       "      <td>593F6Y41</td>\n",
       "      <td>5</td>\n",
       "      <td>NaN</td>\n",
       "      <td>No</td>\n",
       "      <td>*Other</td>\n",
       "      <td>Guides Queensland</td>\n",
       "      <td>Windsor</td>\n",
       "      <td>Brisbane (C)</td>\n",
       "      <td>Brisbane Central</td>\n",
       "      <td>Leichhardt</td>\n",
       "      <td>150.00</td>\n",
       "    </tr>\n",
       "    <tr>\n",
       "      <th>2</th>\n",
       "      <td>2000013464</td>\n",
       "      <td>PH2R4RTT</td>\n",
       "      <td>5</td>\n",
       "      <td>NaN</td>\n",
       "      <td>No</td>\n",
       "      <td>*Other</td>\n",
       "      <td>Guides Queensland</td>\n",
       "      <td>Windsor</td>\n",
       "      <td>Brisbane (C)</td>\n",
       "      <td>Brisbane Central</td>\n",
       "      <td>Woodridge</td>\n",
       "      <td>150.00</td>\n",
       "    </tr>\n",
       "    <tr>\n",
       "      <th>3</th>\n",
       "      <td>2000009270</td>\n",
       "      <td>035SE2H5</td>\n",
       "      <td>5</td>\n",
       "      <td>NaN</td>\n",
       "      <td>Yes</td>\n",
       "      <td>*Other</td>\n",
       "      <td>Guides Queensland</td>\n",
       "      <td>Windsor</td>\n",
       "      <td>Brisbane (C)</td>\n",
       "      <td>Brisbane Central</td>\n",
       "      <td>Yatala</td>\n",
       "      <td>150.00</td>\n",
       "    </tr>\n",
       "    <tr>\n",
       "      <th>4</th>\n",
       "      <td>2000007273</td>\n",
       "      <td>NP6C4729</td>\n",
       "      <td>6</td>\n",
       "      <td>NaN</td>\n",
       "      <td>No</td>\n",
       "      <td>*Other</td>\n",
       "      <td>Guides Queensland</td>\n",
       "      <td>Windsor</td>\n",
       "      <td>Brisbane (C)</td>\n",
       "      <td>Brisbane Central</td>\n",
       "      <td>Alexandra Hills</td>\n",
       "      <td>150.00</td>\n",
       "    </tr>\n",
       "  </tbody>\n",
       "</table>\n",
       "</div>"
      ],
      "text/plain": [
       "   Application Number Voucher Number  Child Age (at time of Application)  \\\n",
       "0          2000012253       Q89QDUXP                                  10   \n",
       "1          2000001727       593F6Y41                                   5   \n",
       "2          2000013464       PH2R4RTT                                   5   \n",
       "3          2000009270       035SE2H5                                   5   \n",
       "4          2000007273       NP6C4729                                   6   \n",
       "\n",
       "   Gender Has your child played sport before? Participation Activity  \\\n",
       "0     NaN                                 Yes                 *Other   \n",
       "1     NaN                                  No                 *Other   \n",
       "2     NaN                                  No                 *Other   \n",
       "3     NaN                                 Yes                 *Other   \n",
       "4     NaN                                  No                 *Other   \n",
       "\n",
       "                                           Club Name Club Suburb/Town  \\\n",
       "0  Queensland Police-Citizens Youth Welfare Assoc...     Airlie Beach   \n",
       "1                                  Guides Queensland          Windsor   \n",
       "2                                  Guides Queensland          Windsor   \n",
       "3                                  Guides Queensland          Windsor   \n",
       "4                                  Guides Queensland          Windsor   \n",
       "\n",
       "  Club Local Government Area Name Club State Electoral District  Name  \\\n",
       "0                  Whitsunday (R)                          Whitsunday   \n",
       "1                    Brisbane (C)                    Brisbane Central   \n",
       "2                    Brisbane (C)                    Brisbane Central   \n",
       "3                    Brisbane (C)                    Brisbane Central   \n",
       "4                    Brisbane (C)                    Brisbane Central   \n",
       "\n",
       "  Parent Suburb/Town  Total Payment  \n",
       "0     Jubilee Pocket          60.01  \n",
       "1         Leichhardt         150.00  \n",
       "2          Woodridge         150.00  \n",
       "3             Yatala         150.00  \n",
       "4    Alexandra Hills         150.00  "
      ]
     },
     "execution_count": 119,
     "metadata": {},
     "output_type": "execute_result"
    }
   ],
   "source": [
    "qld_vouchers = pd.read_csv('files/round1-redeemed_get_started_vouchers.csv')\n",
    "qld_vouchers.head()"
   ]
  },
  {
   "cell_type": "code",
   "execution_count": 130,
   "metadata": {
    "hidden": true
   },
   "outputs": [
    {
     "name": "stderr",
     "output_type": "stream",
     "text": [
      "C:\\Users\\Rudol\\anaconda3\\lib\\site-packages\\ipykernel_launcher.py:2: FutureWarning: The default value of regex will change from True to False in a future version.\n",
      "  \n"
     ]
    },
    {
     "data": {
      "text/html": [
       "<div>\n",
       "<style scoped>\n",
       "    .dataframe tbody tr th:only-of-type {\n",
       "        vertical-align: middle;\n",
       "    }\n",
       "\n",
       "    .dataframe tbody tr th {\n",
       "        vertical-align: top;\n",
       "    }\n",
       "\n",
       "    .dataframe thead th {\n",
       "        text-align: right;\n",
       "    }\n",
       "</style>\n",
       "<table border=\"1\" class=\"dataframe\">\n",
       "  <thead>\n",
       "    <tr style=\"text-align: right;\">\n",
       "      <th></th>\n",
       "      <th>Application Number</th>\n",
       "      <th>Voucher Number</th>\n",
       "      <th>Child Age (at time of Application)</th>\n",
       "      <th>Gender</th>\n",
       "      <th>Has your child played sport before?</th>\n",
       "      <th>Participation Activity</th>\n",
       "      <th>Club Name</th>\n",
       "      <th>Club Suburb/Town</th>\n",
       "      <th>Club Local Government Area Name</th>\n",
       "      <th>Club State Electoral District  Name</th>\n",
       "      <th>Parent Suburb/Town</th>\n",
       "      <th>Total Payment</th>\n",
       "      <th>LGA</th>\n",
       "      <th>ieo</th>\n",
       "      <th>ier</th>\n",
       "      <th>irsad</th>\n",
       "      <th>irsd</th>\n",
       "      <th>population</th>\n",
       "    </tr>\n",
       "  </thead>\n",
       "  <tbody>\n",
       "    <tr>\n",
       "      <th>0</th>\n",
       "      <td>2000012253</td>\n",
       "      <td>Q89QDUXP</td>\n",
       "      <td>10</td>\n",
       "      <td>NaN</td>\n",
       "      <td>Yes</td>\n",
       "      <td>*Other</td>\n",
       "      <td>Queensland Police-Citizens Youth Welfare Assoc...</td>\n",
       "      <td>Airlie Beach</td>\n",
       "      <td>Whitsunday (R)</td>\n",
       "      <td>Whitsunday</td>\n",
       "      <td>Jubilee Pocket</td>\n",
       "      <td>60.01</td>\n",
       "      <td>WHITSUNDAY</td>\n",
       "      <td>NaN</td>\n",
       "      <td>NaN</td>\n",
       "      <td>NaN</td>\n",
       "      <td>NaN</td>\n",
       "      <td>NaN</td>\n",
       "    </tr>\n",
       "    <tr>\n",
       "      <th>1</th>\n",
       "      <td>2000001727</td>\n",
       "      <td>593F6Y41</td>\n",
       "      <td>5</td>\n",
       "      <td>NaN</td>\n",
       "      <td>No</td>\n",
       "      <td>*Other</td>\n",
       "      <td>Guides Queensland</td>\n",
       "      <td>Windsor</td>\n",
       "      <td>Brisbane (C)</td>\n",
       "      <td>Brisbane Central</td>\n",
       "      <td>Leichhardt</td>\n",
       "      <td>150.00</td>\n",
       "      <td>BRISBANE</td>\n",
       "      <td>NaN</td>\n",
       "      <td>NaN</td>\n",
       "      <td>NaN</td>\n",
       "      <td>NaN</td>\n",
       "      <td>NaN</td>\n",
       "    </tr>\n",
       "    <tr>\n",
       "      <th>2</th>\n",
       "      <td>2000013464</td>\n",
       "      <td>PH2R4RTT</td>\n",
       "      <td>5</td>\n",
       "      <td>NaN</td>\n",
       "      <td>No</td>\n",
       "      <td>*Other</td>\n",
       "      <td>Guides Queensland</td>\n",
       "      <td>Windsor</td>\n",
       "      <td>Brisbane (C)</td>\n",
       "      <td>Brisbane Central</td>\n",
       "      <td>Woodridge</td>\n",
       "      <td>150.00</td>\n",
       "      <td>BRISBANE</td>\n",
       "      <td>NaN</td>\n",
       "      <td>NaN</td>\n",
       "      <td>NaN</td>\n",
       "      <td>NaN</td>\n",
       "      <td>NaN</td>\n",
       "    </tr>\n",
       "    <tr>\n",
       "      <th>3</th>\n",
       "      <td>2000009270</td>\n",
       "      <td>035SE2H5</td>\n",
       "      <td>5</td>\n",
       "      <td>NaN</td>\n",
       "      <td>Yes</td>\n",
       "      <td>*Other</td>\n",
       "      <td>Guides Queensland</td>\n",
       "      <td>Windsor</td>\n",
       "      <td>Brisbane (C)</td>\n",
       "      <td>Brisbane Central</td>\n",
       "      <td>Yatala</td>\n",
       "      <td>150.00</td>\n",
       "      <td>BRISBANE</td>\n",
       "      <td>NaN</td>\n",
       "      <td>NaN</td>\n",
       "      <td>NaN</td>\n",
       "      <td>NaN</td>\n",
       "      <td>NaN</td>\n",
       "    </tr>\n",
       "    <tr>\n",
       "      <th>4</th>\n",
       "      <td>2000007273</td>\n",
       "      <td>NP6C4729</td>\n",
       "      <td>6</td>\n",
       "      <td>NaN</td>\n",
       "      <td>No</td>\n",
       "      <td>*Other</td>\n",
       "      <td>Guides Queensland</td>\n",
       "      <td>Windsor</td>\n",
       "      <td>Brisbane (C)</td>\n",
       "      <td>Brisbane Central</td>\n",
       "      <td>Alexandra Hills</td>\n",
       "      <td>150.00</td>\n",
       "      <td>BRISBANE</td>\n",
       "      <td>NaN</td>\n",
       "      <td>NaN</td>\n",
       "      <td>NaN</td>\n",
       "      <td>NaN</td>\n",
       "      <td>NaN</td>\n",
       "    </tr>\n",
       "  </tbody>\n",
       "</table>\n",
       "</div>"
      ],
      "text/plain": [
       "   Application Number Voucher Number  Child Age (at time of Application)  \\\n",
       "0          2000012253       Q89QDUXP                                  10   \n",
       "1          2000001727       593F6Y41                                   5   \n",
       "2          2000013464       PH2R4RTT                                   5   \n",
       "3          2000009270       035SE2H5                                   5   \n",
       "4          2000007273       NP6C4729                                   6   \n",
       "\n",
       "   Gender Has your child played sport before? Participation Activity  \\\n",
       "0     NaN                                 Yes                 *Other   \n",
       "1     NaN                                  No                 *Other   \n",
       "2     NaN                                  No                 *Other   \n",
       "3     NaN                                 Yes                 *Other   \n",
       "4     NaN                                  No                 *Other   \n",
       "\n",
       "                                           Club Name Club Suburb/Town  \\\n",
       "0  Queensland Police-Citizens Youth Welfare Assoc...     Airlie Beach   \n",
       "1                                  Guides Queensland          Windsor   \n",
       "2                                  Guides Queensland          Windsor   \n",
       "3                                  Guides Queensland          Windsor   \n",
       "4                                  Guides Queensland          Windsor   \n",
       "\n",
       "  Club Local Government Area Name Club State Electoral District  Name  \\\n",
       "0                  Whitsunday (R)                          Whitsunday   \n",
       "1                    Brisbane (C)                    Brisbane Central   \n",
       "2                    Brisbane (C)                    Brisbane Central   \n",
       "3                    Brisbane (C)                    Brisbane Central   \n",
       "4                    Brisbane (C)                    Brisbane Central   \n",
       "\n",
       "  Parent Suburb/Town  Total Payment         LGA  ieo  ier  irsad  irsd  \\\n",
       "0     Jubilee Pocket          60.01  WHITSUNDAY  NaN  NaN    NaN   NaN   \n",
       "1         Leichhardt         150.00    BRISBANE  NaN  NaN    NaN   NaN   \n",
       "2          Woodridge         150.00    BRISBANE  NaN  NaN    NaN   NaN   \n",
       "3             Yatala         150.00    BRISBANE  NaN  NaN    NaN   NaN   \n",
       "4    Alexandra Hills         150.00    BRISBANE  NaN  NaN    NaN   NaN   \n",
       "\n",
       "   population  \n",
       "0         NaN  \n",
       "1         NaN  \n",
       "2         NaN  \n",
       "3         NaN  \n",
       "4         NaN  "
      ]
     },
     "execution_count": 130,
     "metadata": {},
     "output_type": "execute_result"
    }
   ],
   "source": [
    "# Join the QLD data with the LGA data as before to get population and SIEFA data integrated\n",
    "qld_vouchers['LGA'] = qld_vouchers['Club Local Government Area Name'].str.replace(' \\([RCS]+\\)', '').str.upper()\n",
    "qld_vouchers_scores = qld_vouchers.join(LGA_scores, on='LGA')\n",
    "qld_vouchers_scores.head()"
   ]
  },
  {
   "cell_type": "code",
   "execution_count": 132,
   "metadata": {
    "hidden": true
   },
   "outputs": [],
   "source": [
    "qld_vouchers_scores = qld_vouchers_scores.rename(columns = {'Participation Activity':'sport'})"
   ]
  },
  {
   "cell_type": "code",
   "execution_count": 133,
   "metadata": {
    "hidden": true
   },
   "outputs": [],
   "source": [
    "qld_vouchers_scores['sport'] = qld_vouchers_scores['sport'].str.lower()\n",
    "qld_vouchers_scores['LGA'] = qld_vouchers_scores['LGA'].str.lower()\n",
    "\n",
    "qld_vouchers_scores.columns  = qld_vouchers_scores.columns.str.lower()"
   ]
  },
  {
   "cell_type": "raw",
   "metadata": {
    "hidden": true
   },
   "source": [
    "set(qld_vouchers_scores['lga'])"
   ]
  },
  {
   "cell_type": "code",
   "execution_count": 135,
   "metadata": {
    "hidden": true
   },
   "outputs": [],
   "source": [
    "qldGroup = (qld_vouchers_scores.groupby(['lga','sport']).count()).copy(deep=True)"
   ]
  },
  {
   "cell_type": "code",
   "execution_count": 136,
   "metadata": {
    "hidden": true
   },
   "outputs": [
    {
     "data": {
      "text/html": [
       "<div>\n",
       "<style scoped>\n",
       "    .dataframe tbody tr th:only-of-type {\n",
       "        vertical-align: middle;\n",
       "    }\n",
       "\n",
       "    .dataframe tbody tr th {\n",
       "        vertical-align: top;\n",
       "    }\n",
       "\n",
       "    .dataframe thead th {\n",
       "        text-align: right;\n",
       "    }\n",
       "</style>\n",
       "<table border=\"1\" class=\"dataframe\">\n",
       "  <thead>\n",
       "    <tr style=\"text-align: right;\">\n",
       "      <th></th>\n",
       "      <th></th>\n",
       "      <th>application number</th>\n",
       "      <th>voucher number</th>\n",
       "      <th>child age (at time of application)</th>\n",
       "      <th>gender</th>\n",
       "      <th>has your child played sport before?</th>\n",
       "      <th>club name</th>\n",
       "      <th>club suburb/town</th>\n",
       "      <th>club local government area name</th>\n",
       "      <th>club state electoral district  name</th>\n",
       "      <th>parent suburb/town</th>\n",
       "      <th>total payment</th>\n",
       "      <th>ieo</th>\n",
       "      <th>ier</th>\n",
       "      <th>irsad</th>\n",
       "      <th>irsd</th>\n",
       "      <th>population</th>\n",
       "    </tr>\n",
       "    <tr>\n",
       "      <th>lga</th>\n",
       "      <th>sport</th>\n",
       "      <th></th>\n",
       "      <th></th>\n",
       "      <th></th>\n",
       "      <th></th>\n",
       "      <th></th>\n",
       "      <th></th>\n",
       "      <th></th>\n",
       "      <th></th>\n",
       "      <th></th>\n",
       "      <th></th>\n",
       "      <th></th>\n",
       "      <th></th>\n",
       "      <th></th>\n",
       "      <th></th>\n",
       "      <th></th>\n",
       "      <th></th>\n",
       "    </tr>\n",
       "  </thead>\n",
       "  <tbody>\n",
       "    <tr>\n",
       "      <th rowspan=\"3\" valign=\"top\">banana</th>\n",
       "      <th>equestrian</th>\n",
       "      <td>1</td>\n",
       "      <td>1</td>\n",
       "      <td>1</td>\n",
       "      <td>0</td>\n",
       "      <td>1</td>\n",
       "      <td>1</td>\n",
       "      <td>1</td>\n",
       "      <td>1</td>\n",
       "      <td>1</td>\n",
       "      <td>1</td>\n",
       "      <td>1</td>\n",
       "      <td>0</td>\n",
       "      <td>0</td>\n",
       "      <td>0</td>\n",
       "      <td>0</td>\n",
       "      <td>0</td>\n",
       "    </tr>\n",
       "    <tr>\n",
       "      <th>football (soccer)</th>\n",
       "      <td>1</td>\n",
       "      <td>1</td>\n",
       "      <td>1</td>\n",
       "      <td>0</td>\n",
       "      <td>1</td>\n",
       "      <td>1</td>\n",
       "      <td>1</td>\n",
       "      <td>1</td>\n",
       "      <td>1</td>\n",
       "      <td>1</td>\n",
       "      <td>1</td>\n",
       "      <td>0</td>\n",
       "      <td>0</td>\n",
       "      <td>0</td>\n",
       "      <td>0</td>\n",
       "      <td>0</td>\n",
       "    </tr>\n",
       "    <tr>\n",
       "      <th>netball</th>\n",
       "      <td>1</td>\n",
       "      <td>1</td>\n",
       "      <td>1</td>\n",
       "      <td>0</td>\n",
       "      <td>1</td>\n",
       "      <td>1</td>\n",
       "      <td>1</td>\n",
       "      <td>1</td>\n",
       "      <td>1</td>\n",
       "      <td>1</td>\n",
       "      <td>1</td>\n",
       "      <td>0</td>\n",
       "      <td>0</td>\n",
       "      <td>0</td>\n",
       "      <td>0</td>\n",
       "      <td>0</td>\n",
       "    </tr>\n",
       "    <tr>\n",
       "      <th rowspan=\"2\" valign=\"top\">blackall tambo</th>\n",
       "      <th>athletics</th>\n",
       "      <td>2</td>\n",
       "      <td>2</td>\n",
       "      <td>2</td>\n",
       "      <td>0</td>\n",
       "      <td>2</td>\n",
       "      <td>2</td>\n",
       "      <td>2</td>\n",
       "      <td>2</td>\n",
       "      <td>2</td>\n",
       "      <td>2</td>\n",
       "      <td>2</td>\n",
       "      <td>0</td>\n",
       "      <td>0</td>\n",
       "      <td>0</td>\n",
       "      <td>0</td>\n",
       "      <td>0</td>\n",
       "    </tr>\n",
       "    <tr>\n",
       "      <th>rugby league</th>\n",
       "      <td>1</td>\n",
       "      <td>1</td>\n",
       "      <td>1</td>\n",
       "      <td>0</td>\n",
       "      <td>1</td>\n",
       "      <td>1</td>\n",
       "      <td>1</td>\n",
       "      <td>1</td>\n",
       "      <td>1</td>\n",
       "      <td>1</td>\n",
       "      <td>1</td>\n",
       "      <td>0</td>\n",
       "      <td>0</td>\n",
       "      <td>0</td>\n",
       "      <td>0</td>\n",
       "      <td>0</td>\n",
       "    </tr>\n",
       "  </tbody>\n",
       "</table>\n",
       "</div>"
      ],
      "text/plain": [
       "                                  application number  voucher number  \\\n",
       "lga            sport                                                   \n",
       "banana         equestrian                          1               1   \n",
       "               football (soccer)                   1               1   \n",
       "               netball                             1               1   \n",
       "blackall tambo athletics                           2               2   \n",
       "               rugby league                        1               1   \n",
       "\n",
       "                                  child age (at time of application)  gender  \\\n",
       "lga            sport                                                           \n",
       "banana         equestrian                                          1       0   \n",
       "               football (soccer)                                   1       0   \n",
       "               netball                                             1       0   \n",
       "blackall tambo athletics                                           2       0   \n",
       "               rugby league                                        1       0   \n",
       "\n",
       "                                  has your child played sport before?  \\\n",
       "lga            sport                                                    \n",
       "banana         equestrian                                           1   \n",
       "               football (soccer)                                    1   \n",
       "               netball                                              1   \n",
       "blackall tambo athletics                                            2   \n",
       "               rugby league                                         1   \n",
       "\n",
       "                                  club name  club suburb/town  \\\n",
       "lga            sport                                            \n",
       "banana         equestrian                 1                 1   \n",
       "               football (soccer)          1                 1   \n",
       "               netball                    1                 1   \n",
       "blackall tambo athletics                  2                 2   \n",
       "               rugby league               1                 1   \n",
       "\n",
       "                                  club local government area name  \\\n",
       "lga            sport                                                \n",
       "banana         equestrian                                       1   \n",
       "               football (soccer)                                1   \n",
       "               netball                                          1   \n",
       "blackall tambo athletics                                        2   \n",
       "               rugby league                                     1   \n",
       "\n",
       "                                  club state electoral district  name  \\\n",
       "lga            sport                                                    \n",
       "banana         equestrian                                           1   \n",
       "               football (soccer)                                    1   \n",
       "               netball                                              1   \n",
       "blackall tambo athletics                                            2   \n",
       "               rugby league                                         1   \n",
       "\n",
       "                                  parent suburb/town  total payment  ieo  ier  \\\n",
       "lga            sport                                                            \n",
       "banana         equestrian                          1              1    0    0   \n",
       "               football (soccer)                   1              1    0    0   \n",
       "               netball                             1              1    0    0   \n",
       "blackall tambo athletics                           2              2    0    0   \n",
       "               rugby league                        1              1    0    0   \n",
       "\n",
       "                                  irsad  irsd  population  \n",
       "lga            sport                                       \n",
       "banana         equestrian             0     0           0  \n",
       "               football (soccer)      0     0           0  \n",
       "               netball                0     0           0  \n",
       "blackall tambo athletics              0     0           0  \n",
       "               rugby league           0     0           0  "
      ]
     },
     "execution_count": 136,
     "metadata": {},
     "output_type": "execute_result"
    }
   ],
   "source": [
    "qldGroup.head()"
   ]
  },
  {
   "cell_type": "code",
   "execution_count": 137,
   "metadata": {
    "hidden": true
   },
   "outputs": [],
   "source": [
    "qldSports = pd.pivot_table(qldGroup, values = 'voucher number', index = 'lga', columns = 'sport')"
   ]
  },
  {
   "cell_type": "code",
   "execution_count": 138,
   "metadata": {
    "hidden": true
   },
   "outputs": [],
   "source": [
    "qldSports = qldSports.fillna(0)"
   ]
  },
  {
   "cell_type": "raw",
   "metadata": {
    "hidden": true
   },
   "source": [
    "qldSports.head()"
   ]
  },
  {
   "cell_type": "markdown",
   "metadata": {},
   "source": [
    "### matching the sport names to those in SA"
   ]
  },
  {
   "cell_type": "raw",
   "metadata": {},
   "source": [
    "set(qldSports)"
   ]
  },
  {
   "cell_type": "code",
   "execution_count": 149,
   "metadata": {},
   "outputs": [
    {
     "data": {
      "text/plain": [
       "45"
      ]
     },
     "execution_count": 149,
     "metadata": {},
     "output_type": "execute_result"
    }
   ],
   "source": [
    "len(qldSports)"
   ]
  },
  {
   "cell_type": "code",
   "execution_count": 148,
   "metadata": {},
   "outputs": [
    {
     "data": {
      "text/plain": [
       "69"
      ]
     },
     "execution_count": 148,
     "metadata": {},
     "output_type": "execute_result"
    }
   ],
   "source": [
    "len(pivot)"
   ]
  },
  {
   "cell_type": "raw",
   "metadata": {},
   "source": [
    "set(pivot)"
   ]
  },
  {
   "cell_type": "markdown",
   "metadata": {},
   "source": [
    "I want to find out which sports are the same. "
   ]
  },
  {
   "cell_type": "code",
   "execution_count": 158,
   "metadata": {},
   "outputs": [
    {
     "name": "stdout",
     "output_type": "stream",
     "text": [
      " There are 32 common sports in both states\n"
     ]
    }
   ],
   "source": [
    "sameSports = [] \n",
    "\n",
    "for val in list(qldSports.columns):\n",
    "    if val in list(pivot.columns):\n",
    "        sameSports.append(val)\n",
    "\n",
    "print(f' There are {len(sameSports)} common sports in both states')"
   ]
  },
  {
   "cell_type": "code",
   "execution_count": 162,
   "metadata": {},
   "outputs": [
    {
     "data": {
      "text/plain": [
       "Index(['archery', 'athletics', 'australian rules', 'bmx', 'badminton',\n",
       "       'baseball', 'basketball', 'bowls', 'calisthenics', 'cricket', 'cycling',\n",
       "       'dancesport', 'diving', 'equestrian', 'fencing', 'football (soccer)',\n",
       "       'golf', 'gymnastics', 'hockey', 'ice skating', 'ju jitsu', 'judo',\n",
       "       'karate', 'kung fu (wu shu)', 'lacrosse', 'motor sport', 'motorcycling',\n",
       "       'netball', 'orienteering', 'paralympics', 'pony clubs', 'roller sports',\n",
       "       'rowing', 'rugby league', 'rugby union', 'sailing', 'shooting',\n",
       "       'softball', 'squash', 'surf lifesaving', 'surf riding', 'swimming',\n",
       "       'table tennis', 'taekwondo', 'tennis', 'touch', 'volleyball',\n",
       "       'water polo', 'weightlifting', 'wrestling'],\n",
       "      dtype='object', name='voucher_sport')"
      ]
     },
     "execution_count": 162,
     "metadata": {},
     "output_type": "execute_result"
    }
   ],
   "source": [
    "pivot.columns"
   ]
  },
  {
   "cell_type": "code",
   "execution_count": null,
   "metadata": {},
   "outputs": [],
   "source": []
  },
  {
   "cell_type": "raw",
   "metadata": {},
   "source": [
    "qldSports[sameSports]"
   ]
  },
  {
   "cell_type": "raw",
   "metadata": {},
   "source": [
    "otherSportsDF = claimDF.loc[~claimDF.index.isin(topSports)].sum(axis=0).to_frame().T"
   ]
  },
  {
   "cell_type": "markdown",
   "metadata": {},
   "source": [
    "the following two cells are the same thing. "
   ]
  },
  {
   "cell_type": "code",
   "execution_count": 183,
   "metadata": {},
   "outputs": [
    {
     "data": {
      "text/plain": [
       "Index(['*other', 'australian football', 'bmx bicycle motocross',\n",
       "       'body boarding', 'bowls lawn', 'boxing', 'broomball', 'bushwalking',\n",
       "       'canoeing outrigger', 'cheerleading', 'disability sports',\n",
       "       'dragon boating', 'futsal', 'ice hockey', 'inline hockey', 'karting',\n",
       "       'kayaking', 'life saving surf', 'mixed martial arts', 'motor cycling',\n",
       "       'oztag', 'parkour', 'polocrosse', 'pony club',\n",
       "       'riding for the disabled', 'rock climbing', 'skipping', 'surfing',\n",
       "       'swimming synchronised', 't-ball', 'tenpin bowling',\n",
       "       'trail bike riding', 'trampolining', 'zen do kai martial arts'],\n",
       "      dtype='object', name='sport')"
      ]
     },
     "execution_count": 183,
     "metadata": {},
     "output_type": "execute_result"
    }
   ],
   "source": [
    "qldSports.columns[~qldSports.columns.isin(sameSports)]"
   ]
  },
  {
   "cell_type": "raw",
   "metadata": {},
   "source": [
    "qldSports.columns[~qldSports.columns.isin(list(set(pivot.columns)))]"
   ]
  },
  {
   "cell_type": "markdown",
   "metadata": {},
   "source": [
    "Checking what sports were different in pivot DF "
   ]
  },
  {
   "cell_type": "code",
   "execution_count": 184,
   "metadata": {},
   "outputs": [
    {
     "data": {
      "text/plain": [
       "Index(['australian rules', 'bmx', 'badminton', 'bowls', 'diving', 'fencing',\n",
       "       'kung fu (wu shu)', 'lacrosse', 'motor sport', 'motorcycling',\n",
       "       'orienteering', 'paralympics', 'pony clubs', 'surf lifesaving',\n",
       "       'surf riding', 'volleyball', 'water polo', 'wrestling'],\n",
       "      dtype='object', name='voucher_sport')"
      ]
     },
     "execution_count": 184,
     "metadata": {},
     "output_type": "execute_result"
    }
   ],
   "source": [
    "pivot.columns[~pivot.columns.isin(sameSports)]"
   ]
  }
 ],
 "metadata": {
  "kernelspec": {
   "display_name": "Python 3",
   "language": "python",
   "name": "python3"
  },
  "language_info": {
   "codemirror_mode": {
    "name": "ipython",
    "version": 3
   },
   "file_extension": ".py",
   "mimetype": "text/x-python",
   "name": "python",
   "nbconvert_exporter": "python",
   "pygments_lexer": "ipython3",
   "version": "3.7.10"
  },
  "varInspector": {
   "cols": {
    "lenName": 16,
    "lenType": 16,
    "lenVar": 40
   },
   "kernels_config": {
    "python": {
     "delete_cmd_postfix": "",
     "delete_cmd_prefix": "del ",
     "library": "var_list.py",
     "varRefreshCmd": "print(var_dic_list())"
    },
    "r": {
     "delete_cmd_postfix": ") ",
     "delete_cmd_prefix": "rm(",
     "library": "var_list.r",
     "varRefreshCmd": "cat(var_dic_list()) "
    }
   },
   "oldHeight": 580.391,
   "position": {
    "height": "40px",
    "left": "644.188px",
    "right": "20px",
    "top": "71px",
    "width": "540px"
   },
   "types_to_exclude": [
    "module",
    "function",
    "builtin_function_or_method",
    "instance",
    "_Feature"
   ],
   "varInspector_section_display": "none",
   "window_display": true
  }
 },
 "nbformat": 4,
 "nbformat_minor": 4
}
