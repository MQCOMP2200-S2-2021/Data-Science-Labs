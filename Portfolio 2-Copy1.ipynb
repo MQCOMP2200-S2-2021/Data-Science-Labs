{
 "cells": [
  {
   "cell_type": "markdown",
   "metadata": {},
   "source": [
    "# TO DO\n",
    "\n",
    "- question 1: you have checked the top sports, check the least popular sports too. \n",
    "- question 2: try normalising the data for the stacked bar plots"
   ]
  },
  {
   "cell_type": "markdown",
   "metadata": {
    "heading_collapsed": true
   },
   "source": [
    "# Sport Vouchers Program Analysis"
   ]
  },
  {
   "cell_type": "markdown",
   "metadata": {
    "hidden": true
   },
   "source": [
    "The goal of this Portfolio task is to explore data from the Federal Government Sport Vouchers program - this is a\n",
    "program that provides up to two $100 vouchers for kids to participate in organised sport. Here's the [NSW Active Kids page](https://www.service.nsw.gov.au/transaction/apply-active-kids-voucher), there are similar schemes in other states - this data is from South Australia.\n",
    "\n",
    "This is an exercise in exploring data and communicating the insights you can gain from it.  The source data comes\n",
    "from the `data.gov.au` website and provides details of all Sport Vouchers that have been redeemed since February  in SA 2015 as part of the Sport Voucher program:  [Sports Vouchers Data](https://data.gov.au/dataset/ds-sa-14daba50-04ff-46c6-8468-9fa593b9f100/details).  This download is provided for you as `sportsvouchersclaimed.csv`.\n",
    "\n",
    "To augment this data you can also make use of [ABS SEIFA data by LGA](http://stat.data.abs.gov.au/Index.aspx?DataSetCode=ABS_SEIFA_LGA#) which shows a few measures of Socioeconomic Advantage and Disadvantage for every Local Government Area. This data is provided for you as `ABS_SEIFA_LGA.csv`. This could enable you to answer questions about whether the voucher program is used equally by parents in low, middle and high socioeconomic areas.   You might be interested in this if you were concerned that this kind of program might just benifit parents who are already advantaged (they might already be paying for sport so this program wouldn't be helping much).\n",
    "\n",
    "Questions:\n",
    "* Describe the distribution of vouchers by: LGA, Sport - which regions/sports stand out? \n",
    "* Are some sports more popular in different parts of the state?\n",
    "* Are any electorates over/under represented in their use of vouchers?\n",
    "* Is there a relationship between any of the SEIFA measures and voucher use in an LGA?\n",
    "\n",
    "A challenge in this task is to display a useful summary of the data given that there are a large number of LGAs and sports involved.  Try to avoid long lists and large tables. Think about what plots and tables communicate the main points of your findings. \n"
   ]
  },
  {
   "cell_type": "code",
   "execution_count": 1,
   "metadata": {
    "hidden": true
   },
   "outputs": [],
   "source": [
    "import pandas as pd\n",
    "import numpy as np\n",
    "import matplotlib.pyplot as plt\n",
    "import seaborn as sns\n",
    "%matplotlib inline"
   ]
  },
  {
   "cell_type": "code",
   "execution_count": 2,
   "metadata": {
    "hidden": true,
    "scrolled": true
   },
   "outputs": [
    {
     "data": {
      "text/html": [
       "<div>\n",
       "<style scoped>\n",
       "    .dataframe tbody tr th:only-of-type {\n",
       "        vertical-align: middle;\n",
       "    }\n",
       "\n",
       "    .dataframe tbody tr th {\n",
       "        vertical-align: top;\n",
       "    }\n",
       "\n",
       "    .dataframe thead th {\n",
       "        text-align: right;\n",
       "    }\n",
       "</style>\n",
       "<table border=\"1\" class=\"dataframe\">\n",
       "  <thead>\n",
       "    <tr style=\"text-align: right;\">\n",
       "      <th></th>\n",
       "      <th>Participant_ID</th>\n",
       "      <th>Participant_Suburb</th>\n",
       "      <th>Club_Previous_Member</th>\n",
       "      <th>Participant_ATSI_Indicator</th>\n",
       "      <th>Participant_CALD_Indicator</th>\n",
       "      <th>Participant_Sex</th>\n",
       "      <th>Voucher_Value</th>\n",
       "      <th>Club_Name</th>\n",
       "      <th>Voucher_Sport</th>\n",
       "      <th>Participant_LGA</th>\n",
       "      <th>Participant_Electorate</th>\n",
       "      <th>Voucher_Completion_Date</th>\n",
       "      <th>Voucher_Claim_Year</th>\n",
       "    </tr>\n",
       "  </thead>\n",
       "  <tbody>\n",
       "    <tr>\n",
       "      <th>0</th>\n",
       "      <td>1000002</td>\n",
       "      <td>ABERFOYLE PARK</td>\n",
       "      <td>Registered Previously</td>\n",
       "      <td>Not ATSI</td>\n",
       "      <td>Not CALD</td>\n",
       "      <td>Male</td>\n",
       "      <td>50</td>\n",
       "      <td>Flagstaff Hill Football Club</td>\n",
       "      <td>Australian Rules</td>\n",
       "      <td>ONKAPARINGA</td>\n",
       "      <td>FISHER</td>\n",
       "      <td>26/6/15 1:19</td>\n",
       "      <td>2015</td>\n",
       "    </tr>\n",
       "    <tr>\n",
       "      <th>1</th>\n",
       "      <td>1000002</td>\n",
       "      <td>ABERFOYLE PARK</td>\n",
       "      <td>Registered Previously</td>\n",
       "      <td>Not ATSI</td>\n",
       "      <td>Not CALD</td>\n",
       "      <td>Male</td>\n",
       "      <td>50</td>\n",
       "      <td>Flagstaff Hill Football Club</td>\n",
       "      <td>Australian Rules</td>\n",
       "      <td>ONKAPARINGA</td>\n",
       "      <td>FISHER</td>\n",
       "      <td>29/6/16 23:55</td>\n",
       "      <td>2016</td>\n",
       "    </tr>\n",
       "    <tr>\n",
       "      <th>2</th>\n",
       "      <td>1000004</td>\n",
       "      <td>ABERFOYLE PARK</td>\n",
       "      <td>Not Registered Previously</td>\n",
       "      <td>Not ATSI</td>\n",
       "      <td>Not CALD</td>\n",
       "      <td>Female</td>\n",
       "      <td>50</td>\n",
       "      <td>Hub Gymnastics Club</td>\n",
       "      <td>Gymnastics</td>\n",
       "      <td>ONKAPARINGA</td>\n",
       "      <td>FISHER</td>\n",
       "      <td>21/4/16 3:37</td>\n",
       "      <td>2016</td>\n",
       "    </tr>\n",
       "    <tr>\n",
       "      <th>3</th>\n",
       "      <td>1000004</td>\n",
       "      <td>ABERFOYLE PARK</td>\n",
       "      <td>Registered Previously</td>\n",
       "      <td>Not ATSI</td>\n",
       "      <td>Not CALD</td>\n",
       "      <td>Female</td>\n",
       "      <td>50</td>\n",
       "      <td>Hub Gymnastics Club</td>\n",
       "      <td>Gymnastics</td>\n",
       "      <td>ONKAPARINGA</td>\n",
       "      <td>FISHER</td>\n",
       "      <td>30/3/17 0:47</td>\n",
       "      <td>2017</td>\n",
       "    </tr>\n",
       "    <tr>\n",
       "      <th>4</th>\n",
       "      <td>1000005</td>\n",
       "      <td>ABERFOYLE PARK</td>\n",
       "      <td>Registered Previously</td>\n",
       "      <td>Not ATSI</td>\n",
       "      <td>Not CALD</td>\n",
       "      <td>Female</td>\n",
       "      <td>50</td>\n",
       "      <td>Blackwood Community Recreation Association</td>\n",
       "      <td>Gymnastics</td>\n",
       "      <td>ONKAPARINGA</td>\n",
       "      <td>FISHER</td>\n",
       "      <td>20/7/15 2:50</td>\n",
       "      <td>2015</td>\n",
       "    </tr>\n",
       "  </tbody>\n",
       "</table>\n",
       "</div>"
      ],
      "text/plain": [
       "   Participant_ID Participant_Suburb       Club_Previous_Member  \\\n",
       "0         1000002     ABERFOYLE PARK      Registered Previously   \n",
       "1         1000002     ABERFOYLE PARK      Registered Previously   \n",
       "2         1000004     ABERFOYLE PARK  Not Registered Previously   \n",
       "3         1000004     ABERFOYLE PARK      Registered Previously   \n",
       "4         1000005     ABERFOYLE PARK      Registered Previously   \n",
       "\n",
       "  Participant_ATSI_Indicator Participant_CALD_Indicator Participant_Sex  \\\n",
       "0                   Not ATSI                   Not CALD            Male   \n",
       "1                   Not ATSI                   Not CALD            Male   \n",
       "2                   Not ATSI                   Not CALD          Female   \n",
       "3                   Not ATSI                   Not CALD          Female   \n",
       "4                   Not ATSI                   Not CALD          Female   \n",
       "\n",
       "   Voucher_Value                                   Club_Name  \\\n",
       "0             50                Flagstaff Hill Football Club   \n",
       "1             50                Flagstaff Hill Football Club   \n",
       "2             50                         Hub Gymnastics Club   \n",
       "3             50                         Hub Gymnastics Club   \n",
       "4             50  Blackwood Community Recreation Association   \n",
       "\n",
       "      Voucher_Sport Participant_LGA Participant_Electorate  \\\n",
       "0  Australian Rules     ONKAPARINGA                 FISHER   \n",
       "1  Australian Rules     ONKAPARINGA                 FISHER   \n",
       "2        Gymnastics     ONKAPARINGA                 FISHER   \n",
       "3        Gymnastics     ONKAPARINGA                 FISHER   \n",
       "4        Gymnastics     ONKAPARINGA                 FISHER   \n",
       "\n",
       "  Voucher_Completion_Date  Voucher_Claim_Year  \n",
       "0            26/6/15 1:19                2015  \n",
       "1           29/6/16 23:55                2016  \n",
       "2            21/4/16 3:37                2016  \n",
       "3            30/3/17 0:47                2017  \n",
       "4            20/7/15 2:50                2015  "
      ]
     },
     "execution_count": 2,
     "metadata": {},
     "output_type": "execute_result"
    }
   ],
   "source": [
    "# read the sports vouchers data\n",
    "sa_vouchers = pd.read_csv(\"files/sportsvouchersclaimed.csv\")\n",
    "sa_vouchers.head()"
   ]
  },
  {
   "cell_type": "markdown",
   "metadata": {
    "hidden": true
   },
   "source": [
    "The SEIFA data includes row for each Local Government Area (LGA) but the names of the LGAs have a letter or letters in brackets after the name.  To allow us to match this up with the voucher data we remove this and convert to uppercase. \n",
    "\n",
    "For each LGA the data includes a number of measures all of which could be useful in your exploration.  "
   ]
  },
  {
   "cell_type": "code",
   "execution_count": 3,
   "metadata": {
    "hidden": true
   },
   "outputs": [
    {
     "data": {
      "text/html": [
       "<div>\n",
       "<style scoped>\n",
       "    .dataframe tbody tr th:only-of-type {\n",
       "        vertical-align: middle;\n",
       "    }\n",
       "\n",
       "    .dataframe tbody tr th {\n",
       "        vertical-align: top;\n",
       "    }\n",
       "\n",
       "    .dataframe thead th {\n",
       "        text-align: right;\n",
       "    }\n",
       "</style>\n",
       "<table border=\"1\" class=\"dataframe\">\n",
       "  <thead>\n",
       "    <tr style=\"text-align: right;\">\n",
       "      <th></th>\n",
       "      <th>LGA_2011</th>\n",
       "      <th>Local Government Areas - 2011</th>\n",
       "      <th>INDEX_TYPE</th>\n",
       "      <th>Index Type</th>\n",
       "      <th>MEASURE</th>\n",
       "      <th>Measure</th>\n",
       "      <th>Value</th>\n",
       "      <th>LGA</th>\n",
       "    </tr>\n",
       "  </thead>\n",
       "  <tbody>\n",
       "    <tr>\n",
       "      <th>0</th>\n",
       "      <td>10050</td>\n",
       "      <td>Albury (C)</td>\n",
       "      <td>IRSAD</td>\n",
       "      <td>Index of Relative Socio-economic Advantage and...</td>\n",
       "      <td>SCORE</td>\n",
       "      <td>Score</td>\n",
       "      <td>967</td>\n",
       "      <td>ALBURY</td>\n",
       "    </tr>\n",
       "    <tr>\n",
       "      <th>1</th>\n",
       "      <td>10050</td>\n",
       "      <td>Albury (C)</td>\n",
       "      <td>IRSAD</td>\n",
       "      <td>Index of Relative Socio-economic Advantage and...</td>\n",
       "      <td>MINS</td>\n",
       "      <td>Minimum score for SA1s in area</td>\n",
       "      <td>628</td>\n",
       "      <td>ALBURY</td>\n",
       "    </tr>\n",
       "    <tr>\n",
       "      <th>2</th>\n",
       "      <td>10050</td>\n",
       "      <td>Albury (C)</td>\n",
       "      <td>IRSAD</td>\n",
       "      <td>Index of Relative Socio-economic Advantage and...</td>\n",
       "      <td>MAXS</td>\n",
       "      <td>Maximum score for SA1s in area</td>\n",
       "      <td>1169</td>\n",
       "      <td>ALBURY</td>\n",
       "    </tr>\n",
       "    <tr>\n",
       "      <th>3</th>\n",
       "      <td>10050</td>\n",
       "      <td>Albury (C)</td>\n",
       "      <td>IRSAD</td>\n",
       "      <td>Index of Relative Socio-economic Advantage and...</td>\n",
       "      <td>URP</td>\n",
       "      <td>Usual resident population</td>\n",
       "      <td>47851</td>\n",
       "      <td>ALBURY</td>\n",
       "    </tr>\n",
       "    <tr>\n",
       "      <th>4</th>\n",
       "      <td>10110</td>\n",
       "      <td>Armidale Dumaresq (A)</td>\n",
       "      <td>IRSAD</td>\n",
       "      <td>Index of Relative Socio-economic Advantage and...</td>\n",
       "      <td>SCORE</td>\n",
       "      <td>Score</td>\n",
       "      <td>985</td>\n",
       "      <td>ARMIDALE DUMARESQ</td>\n",
       "    </tr>\n",
       "  </tbody>\n",
       "</table>\n",
       "</div>"
      ],
      "text/plain": [
       "   LGA_2011 Local Government Areas - 2011 INDEX_TYPE  \\\n",
       "0     10050                    Albury (C)      IRSAD   \n",
       "1     10050                    Albury (C)      IRSAD   \n",
       "2     10050                    Albury (C)      IRSAD   \n",
       "3     10050                    Albury (C)      IRSAD   \n",
       "4     10110         Armidale Dumaresq (A)      IRSAD   \n",
       "\n",
       "                                          Index Type MEASURE  \\\n",
       "0  Index of Relative Socio-economic Advantage and...   SCORE   \n",
       "1  Index of Relative Socio-economic Advantage and...    MINS   \n",
       "2  Index of Relative Socio-economic Advantage and...    MAXS   \n",
       "3  Index of Relative Socio-economic Advantage and...     URP   \n",
       "4  Index of Relative Socio-economic Advantage and...   SCORE   \n",
       "\n",
       "                          Measure  Value                LGA  \n",
       "0                           Score    967             ALBURY  \n",
       "1  Minimum score for SA1s in area    628             ALBURY  \n",
       "2  Maximum score for SA1s in area   1169             ALBURY  \n",
       "3       Usual resident population  47851             ALBURY  \n",
       "4                           Score    985  ARMIDALE DUMARESQ  "
      ]
     },
     "execution_count": 3,
     "metadata": {},
     "output_type": "execute_result"
    }
   ],
   "source": [
    "# read the SEIFA data, create an LGA column by removing the letters in brackets and converting to uppercase\n",
    "seifa = pd.read_csv('files/ABS_SEIFA_LGA.csv')\n",
    "lga = seifa[\"Local Government Areas - 2011\"].str.replace(' \\([ACSRCDMT]+\\)', '').str.upper()\n",
    "seifa['LGA'] = lga\n",
    "seifa.head()"
   ]
  },
  {
   "cell_type": "markdown",
   "metadata": {
    "hidden": true
   },
   "source": [
    "Since there are many rows per LGA we need to use `pivot_table` to create a new data frame with one row per LGA. Here\n",
    "is an example of doing this to create a table with the different SCORE measures and the population (URP) field. "
   ]
  },
  {
   "cell_type": "code",
   "execution_count": 4,
   "metadata": {
    "hidden": true
   },
   "outputs": [
    {
     "data": {
      "text/html": [
       "<div>\n",
       "<style scoped>\n",
       "    .dataframe tbody tr th:only-of-type {\n",
       "        vertical-align: middle;\n",
       "    }\n",
       "\n",
       "    .dataframe tbody tr th {\n",
       "        vertical-align: top;\n",
       "    }\n",
       "\n",
       "    .dataframe thead th {\n",
       "        text-align: right;\n",
       "    }\n",
       "</style>\n",
       "<table border=\"1\" class=\"dataframe\">\n",
       "  <thead>\n",
       "    <tr style=\"text-align: right;\">\n",
       "      <th>INDEX_TYPE</th>\n",
       "      <th>IEO</th>\n",
       "      <th>IER</th>\n",
       "      <th>IRSAD</th>\n",
       "      <th>IRSD</th>\n",
       "      <th>Population</th>\n",
       "    </tr>\n",
       "    <tr>\n",
       "      <th>LGA</th>\n",
       "      <th></th>\n",
       "      <th></th>\n",
       "      <th></th>\n",
       "      <th></th>\n",
       "      <th></th>\n",
       "    </tr>\n",
       "  </thead>\n",
       "  <tbody>\n",
       "    <tr>\n",
       "      <th>ADELAIDE</th>\n",
       "      <td>874.0</td>\n",
       "      <td>874.0</td>\n",
       "      <td>1036.0</td>\n",
       "      <td>1013.0</td>\n",
       "      <td>19606.0</td>\n",
       "    </tr>\n",
       "    <tr>\n",
       "      <th>ADELAIDE HILLS</th>\n",
       "      <td>1083.0</td>\n",
       "      <td>1083.0</td>\n",
       "      <td>1077.0</td>\n",
       "      <td>1081.0</td>\n",
       "      <td>38601.0</td>\n",
       "    </tr>\n",
       "    <tr>\n",
       "      <th>ALBANY</th>\n",
       "      <td>999.0</td>\n",
       "      <td>999.0</td>\n",
       "      <td>977.0</td>\n",
       "      <td>987.0</td>\n",
       "      <td>33614.0</td>\n",
       "    </tr>\n",
       "    <tr>\n",
       "      <th>ALBURY</th>\n",
       "      <td>964.0</td>\n",
       "      <td>964.0</td>\n",
       "      <td>967.0</td>\n",
       "      <td>979.0</td>\n",
       "      <td>47851.0</td>\n",
       "    </tr>\n",
       "    <tr>\n",
       "      <th>ALEXANDRINA</th>\n",
       "      <td>1000.0</td>\n",
       "      <td>1000.0</td>\n",
       "      <td>969.0</td>\n",
       "      <td>987.0</td>\n",
       "      <td>23693.0</td>\n",
       "    </tr>\n",
       "  </tbody>\n",
       "</table>\n",
       "</div>"
      ],
      "text/plain": [
       "INDEX_TYPE         IEO     IER   IRSAD    IRSD  Population\n",
       "LGA                                                       \n",
       "ADELAIDE         874.0   874.0  1036.0  1013.0     19606.0\n",
       "ADELAIDE HILLS  1083.0  1083.0  1077.0  1081.0     38601.0\n",
       "ALBANY           999.0   999.0   977.0   987.0     33614.0\n",
       "ALBURY           964.0   964.0   967.0   979.0     47851.0\n",
       "ALEXANDRINA     1000.0  1000.0   969.0   987.0     23693.0"
      ]
     },
     "execution_count": 4,
     "metadata": {},
     "output_type": "execute_result"
    }
   ],
   "source": [
    "LGA_scores = seifa[seifa.MEASURE == 'SCORE'].pivot_table(index=\"LGA\", columns=[\"INDEX_TYPE\"], values=\"Value\")\n",
    "LGA_scores.head()\n",
    "LGA_pop = seifa[seifa.MEASURE == 'URP'].pivot_table(index=\"LGA\", columns=[\"INDEX_TYPE\"], values=\"Value\")\n",
    "LGA_scores['Population'] = LGA_pop.IEO\n",
    "LGA_scores.head()"
   ]
  },
  {
   "cell_type": "markdown",
   "metadata": {
    "hidden": true
   },
   "source": [
    "This data frame can then be joined with the vouchers data fram to create one master data frame containing both the voucher data and the SEIFA measures."
   ]
  },
  {
   "cell_type": "code",
   "execution_count": 5,
   "metadata": {
    "hidden": true
   },
   "outputs": [
    {
     "data": {
      "text/html": [
       "<div>\n",
       "<style scoped>\n",
       "    .dataframe tbody tr th:only-of-type {\n",
       "        vertical-align: middle;\n",
       "    }\n",
       "\n",
       "    .dataframe tbody tr th {\n",
       "        vertical-align: top;\n",
       "    }\n",
       "\n",
       "    .dataframe thead th {\n",
       "        text-align: right;\n",
       "    }\n",
       "</style>\n",
       "<table border=\"1\" class=\"dataframe\">\n",
       "  <thead>\n",
       "    <tr style=\"text-align: right;\">\n",
       "      <th></th>\n",
       "      <th>Participant_ID</th>\n",
       "      <th>Participant_Suburb</th>\n",
       "      <th>Club_Previous_Member</th>\n",
       "      <th>Participant_ATSI_Indicator</th>\n",
       "      <th>Participant_CALD_Indicator</th>\n",
       "      <th>Participant_Sex</th>\n",
       "      <th>Voucher_Value</th>\n",
       "      <th>Club_Name</th>\n",
       "      <th>Voucher_Sport</th>\n",
       "      <th>Participant_LGA</th>\n",
       "      <th>Participant_Electorate</th>\n",
       "      <th>Voucher_Completion_Date</th>\n",
       "      <th>Voucher_Claim_Year</th>\n",
       "      <th>IEO</th>\n",
       "      <th>IER</th>\n",
       "      <th>IRSAD</th>\n",
       "      <th>IRSD</th>\n",
       "      <th>Population</th>\n",
       "    </tr>\n",
       "  </thead>\n",
       "  <tbody>\n",
       "    <tr>\n",
       "      <th>0</th>\n",
       "      <td>1000002</td>\n",
       "      <td>ABERFOYLE PARK</td>\n",
       "      <td>Registered Previously</td>\n",
       "      <td>Not ATSI</td>\n",
       "      <td>Not CALD</td>\n",
       "      <td>Male</td>\n",
       "      <td>50</td>\n",
       "      <td>Flagstaff Hill Football Club</td>\n",
       "      <td>Australian Rules</td>\n",
       "      <td>ONKAPARINGA</td>\n",
       "      <td>FISHER</td>\n",
       "      <td>26/6/15 1:19</td>\n",
       "      <td>2015</td>\n",
       "      <td>996.0</td>\n",
       "      <td>996.0</td>\n",
       "      <td>975.0</td>\n",
       "      <td>993.0</td>\n",
       "      <td>159517.0</td>\n",
       "    </tr>\n",
       "    <tr>\n",
       "      <th>1</th>\n",
       "      <td>1000002</td>\n",
       "      <td>ABERFOYLE PARK</td>\n",
       "      <td>Registered Previously</td>\n",
       "      <td>Not ATSI</td>\n",
       "      <td>Not CALD</td>\n",
       "      <td>Male</td>\n",
       "      <td>50</td>\n",
       "      <td>Flagstaff Hill Football Club</td>\n",
       "      <td>Australian Rules</td>\n",
       "      <td>ONKAPARINGA</td>\n",
       "      <td>FISHER</td>\n",
       "      <td>29/6/16 23:55</td>\n",
       "      <td>2016</td>\n",
       "      <td>996.0</td>\n",
       "      <td>996.0</td>\n",
       "      <td>975.0</td>\n",
       "      <td>993.0</td>\n",
       "      <td>159517.0</td>\n",
       "    </tr>\n",
       "    <tr>\n",
       "      <th>2</th>\n",
       "      <td>1000004</td>\n",
       "      <td>ABERFOYLE PARK</td>\n",
       "      <td>Not Registered Previously</td>\n",
       "      <td>Not ATSI</td>\n",
       "      <td>Not CALD</td>\n",
       "      <td>Female</td>\n",
       "      <td>50</td>\n",
       "      <td>Hub Gymnastics Club</td>\n",
       "      <td>Gymnastics</td>\n",
       "      <td>ONKAPARINGA</td>\n",
       "      <td>FISHER</td>\n",
       "      <td>21/4/16 3:37</td>\n",
       "      <td>2016</td>\n",
       "      <td>996.0</td>\n",
       "      <td>996.0</td>\n",
       "      <td>975.0</td>\n",
       "      <td>993.0</td>\n",
       "      <td>159517.0</td>\n",
       "    </tr>\n",
       "    <tr>\n",
       "      <th>3</th>\n",
       "      <td>1000004</td>\n",
       "      <td>ABERFOYLE PARK</td>\n",
       "      <td>Registered Previously</td>\n",
       "      <td>Not ATSI</td>\n",
       "      <td>Not CALD</td>\n",
       "      <td>Female</td>\n",
       "      <td>50</td>\n",
       "      <td>Hub Gymnastics Club</td>\n",
       "      <td>Gymnastics</td>\n",
       "      <td>ONKAPARINGA</td>\n",
       "      <td>FISHER</td>\n",
       "      <td>30/3/17 0:47</td>\n",
       "      <td>2017</td>\n",
       "      <td>996.0</td>\n",
       "      <td>996.0</td>\n",
       "      <td>975.0</td>\n",
       "      <td>993.0</td>\n",
       "      <td>159517.0</td>\n",
       "    </tr>\n",
       "    <tr>\n",
       "      <th>4</th>\n",
       "      <td>1000005</td>\n",
       "      <td>ABERFOYLE PARK</td>\n",
       "      <td>Registered Previously</td>\n",
       "      <td>Not ATSI</td>\n",
       "      <td>Not CALD</td>\n",
       "      <td>Female</td>\n",
       "      <td>50</td>\n",
       "      <td>Blackwood Community Recreation Association</td>\n",
       "      <td>Gymnastics</td>\n",
       "      <td>ONKAPARINGA</td>\n",
       "      <td>FISHER</td>\n",
       "      <td>20/7/15 2:50</td>\n",
       "      <td>2015</td>\n",
       "      <td>996.0</td>\n",
       "      <td>996.0</td>\n",
       "      <td>975.0</td>\n",
       "      <td>993.0</td>\n",
       "      <td>159517.0</td>\n",
       "    </tr>\n",
       "  </tbody>\n",
       "</table>\n",
       "</div>"
      ],
      "text/plain": [
       "   Participant_ID Participant_Suburb       Club_Previous_Member  \\\n",
       "0         1000002     ABERFOYLE PARK      Registered Previously   \n",
       "1         1000002     ABERFOYLE PARK      Registered Previously   \n",
       "2         1000004     ABERFOYLE PARK  Not Registered Previously   \n",
       "3         1000004     ABERFOYLE PARK      Registered Previously   \n",
       "4         1000005     ABERFOYLE PARK      Registered Previously   \n",
       "\n",
       "  Participant_ATSI_Indicator Participant_CALD_Indicator Participant_Sex  \\\n",
       "0                   Not ATSI                   Not CALD            Male   \n",
       "1                   Not ATSI                   Not CALD            Male   \n",
       "2                   Not ATSI                   Not CALD          Female   \n",
       "3                   Not ATSI                   Not CALD          Female   \n",
       "4                   Not ATSI                   Not CALD          Female   \n",
       "\n",
       "   Voucher_Value                                   Club_Name  \\\n",
       "0             50                Flagstaff Hill Football Club   \n",
       "1             50                Flagstaff Hill Football Club   \n",
       "2             50                         Hub Gymnastics Club   \n",
       "3             50                         Hub Gymnastics Club   \n",
       "4             50  Blackwood Community Recreation Association   \n",
       "\n",
       "      Voucher_Sport Participant_LGA Participant_Electorate  \\\n",
       "0  Australian Rules     ONKAPARINGA                 FISHER   \n",
       "1  Australian Rules     ONKAPARINGA                 FISHER   \n",
       "2        Gymnastics     ONKAPARINGA                 FISHER   \n",
       "3        Gymnastics     ONKAPARINGA                 FISHER   \n",
       "4        Gymnastics     ONKAPARINGA                 FISHER   \n",
       "\n",
       "  Voucher_Completion_Date  Voucher_Claim_Year    IEO    IER  IRSAD   IRSD  \\\n",
       "0            26/6/15 1:19                2015  996.0  996.0  975.0  993.0   \n",
       "1           29/6/16 23:55                2016  996.0  996.0  975.0  993.0   \n",
       "2            21/4/16 3:37                2016  996.0  996.0  975.0  993.0   \n",
       "3            30/3/17 0:47                2017  996.0  996.0  975.0  993.0   \n",
       "4            20/7/15 2:50                2015  996.0  996.0  975.0  993.0   \n",
       "\n",
       "   Population  \n",
       "0    159517.0  \n",
       "1    159517.0  \n",
       "2    159517.0  \n",
       "3    159517.0  \n",
       "4    159517.0  "
      ]
     },
     "execution_count": 5,
     "metadata": {},
     "output_type": "execute_result"
    }
   ],
   "source": [
    "sa_vouchers_scores = sa_vouchers.join(LGA_scores, on='Participant_LGA')\n",
    "sa_vouchers_scores.head()"
   ]
  },
  {
   "cell_type": "markdown",
   "metadata": {
    "hidden": true
   },
   "source": [
    "We can use the `.describe()` function to get a general idea of what the dataframe looks like"
   ]
  },
  {
   "cell_type": "code",
   "execution_count": 6,
   "metadata": {
    "hidden": true
   },
   "outputs": [
    {
     "data": {
      "text/html": [
       "<div>\n",
       "<style scoped>\n",
       "    .dataframe tbody tr th:only-of-type {\n",
       "        vertical-align: middle;\n",
       "    }\n",
       "\n",
       "    .dataframe tbody tr th {\n",
       "        vertical-align: top;\n",
       "    }\n",
       "\n",
       "    .dataframe thead th {\n",
       "        text-align: right;\n",
       "    }\n",
       "</style>\n",
       "<table border=\"1\" class=\"dataframe\">\n",
       "  <thead>\n",
       "    <tr style=\"text-align: right;\">\n",
       "      <th></th>\n",
       "      <th>Participant_ID</th>\n",
       "      <th>Voucher_Value</th>\n",
       "      <th>Voucher_Claim_Year</th>\n",
       "      <th>IEO</th>\n",
       "      <th>IER</th>\n",
       "      <th>IRSAD</th>\n",
       "      <th>IRSD</th>\n",
       "      <th>Population</th>\n",
       "    </tr>\n",
       "  </thead>\n",
       "  <tbody>\n",
       "    <tr>\n",
       "      <th>count</th>\n",
       "      <td>1.275260e+05</td>\n",
       "      <td>127526.000000</td>\n",
       "      <td>127526.000000</td>\n",
       "      <td>118066.000000</td>\n",
       "      <td>118066.000000</td>\n",
       "      <td>118066.000000</td>\n",
       "      <td>118066.000000</td>\n",
       "      <td>118066.000000</td>\n",
       "    </tr>\n",
       "    <tr>\n",
       "      <th>mean</th>\n",
       "      <td>1.063764e+06</td>\n",
       "      <td>49.663951</td>\n",
       "      <td>2015.915100</td>\n",
       "      <td>981.049942</td>\n",
       "      <td>981.049942</td>\n",
       "      <td>971.090416</td>\n",
       "      <td>981.756314</td>\n",
       "      <td>68014.296046</td>\n",
       "    </tr>\n",
       "    <tr>\n",
       "      <th>std</th>\n",
       "      <td>3.681374e+04</td>\n",
       "      <td>2.700970</td>\n",
       "      <td>0.765087</td>\n",
       "      <td>44.454505</td>\n",
       "      <td>44.454505</td>\n",
       "      <td>56.889280</td>\n",
       "      <td>55.538098</td>\n",
       "      <td>50470.140017</td>\n",
       "    </tr>\n",
       "    <tr>\n",
       "      <th>min</th>\n",
       "      <td>1.000002e+06</td>\n",
       "      <td>5.000000</td>\n",
       "      <td>2015.000000</td>\n",
       "      <td>870.000000</td>\n",
       "      <td>870.000000</td>\n",
       "      <td>808.000000</td>\n",
       "      <td>798.000000</td>\n",
       "      <td>871.000000</td>\n",
       "    </tr>\n",
       "    <tr>\n",
       "      <th>25%</th>\n",
       "      <td>1.031883e+06</td>\n",
       "      <td>50.000000</td>\n",
       "      <td>2015.000000</td>\n",
       "      <td>955.000000</td>\n",
       "      <td>955.000000</td>\n",
       "      <td>927.000000</td>\n",
       "      <td>937.000000</td>\n",
       "      <td>22070.000000</td>\n",
       "    </tr>\n",
       "    <tr>\n",
       "      <th>50%</th>\n",
       "      <td>1.063764e+06</td>\n",
       "      <td>50.000000</td>\n",
       "      <td>2016.000000</td>\n",
       "      <td>974.000000</td>\n",
       "      <td>974.000000</td>\n",
       "      <td>973.000000</td>\n",
       "      <td>987.000000</td>\n",
       "      <td>62912.000000</td>\n",
       "    </tr>\n",
       "    <tr>\n",
       "      <th>75%</th>\n",
       "      <td>1.095646e+06</td>\n",
       "      <td>50.000000</td>\n",
       "      <td>2017.000000</td>\n",
       "      <td>1013.000000</td>\n",
       "      <td>1013.000000</td>\n",
       "      <td>997.000000</td>\n",
       "      <td>1018.000000</td>\n",
       "      <td>104922.000000</td>\n",
       "    </tr>\n",
       "    <tr>\n",
       "      <th>max</th>\n",
       "      <td>1.127526e+06</td>\n",
       "      <td>50.000000</td>\n",
       "      <td>2017.000000</td>\n",
       "      <td>1083.000000</td>\n",
       "      <td>1083.000000</td>\n",
       "      <td>1090.000000</td>\n",
       "      <td>1096.000000</td>\n",
       "      <td>159517.000000</td>\n",
       "    </tr>\n",
       "  </tbody>\n",
       "</table>\n",
       "</div>"
      ],
      "text/plain": [
       "       Participant_ID  Voucher_Value  Voucher_Claim_Year            IEO  \\\n",
       "count    1.275260e+05  127526.000000       127526.000000  118066.000000   \n",
       "mean     1.063764e+06      49.663951         2015.915100     981.049942   \n",
       "std      3.681374e+04       2.700970            0.765087      44.454505   \n",
       "min      1.000002e+06       5.000000         2015.000000     870.000000   \n",
       "25%      1.031883e+06      50.000000         2015.000000     955.000000   \n",
       "50%      1.063764e+06      50.000000         2016.000000     974.000000   \n",
       "75%      1.095646e+06      50.000000         2017.000000    1013.000000   \n",
       "max      1.127526e+06      50.000000         2017.000000    1083.000000   \n",
       "\n",
       "                 IER          IRSAD           IRSD     Population  \n",
       "count  118066.000000  118066.000000  118066.000000  118066.000000  \n",
       "mean      981.049942     971.090416     981.756314   68014.296046  \n",
       "std        44.454505      56.889280      55.538098   50470.140017  \n",
       "min       870.000000     808.000000     798.000000     871.000000  \n",
       "25%       955.000000     927.000000     937.000000   22070.000000  \n",
       "50%       974.000000     973.000000     987.000000   62912.000000  \n",
       "75%      1013.000000     997.000000    1018.000000  104922.000000  \n",
       "max      1083.000000    1090.000000    1096.000000  159517.000000  "
      ]
     },
     "execution_count": 6,
     "metadata": {},
     "output_type": "execute_result"
    }
   ],
   "source": [
    "sa_vouchers_scores.describe()"
   ]
  },
  {
   "cell_type": "markdown",
   "metadata": {
    "heading_collapsed": true
   },
   "source": [
    "# Index Definition"
   ]
  },
  {
   "cell_type": "markdown",
   "metadata": {
    "hidden": true
   },
   "source": [
    "From here https://www.abs.gov.au/ausstats/abs@.nsf/Lookup/by%20Subject/2033.0.55.001~2016~Main%20Features~IRSAD~20\n",
    "\n",
    "4 major indexes for every LGA. \n",
    "\n",
    "**IRSAD: index of relative socio economic advantage and disadvantage.**\n",
    "- summarises information about the economic and social conditions of people and households within an area. Includes both relative advantage and disadvantage. \n",
    "- low score = greater disadvatange, lack of advantage in general. \n",
    "- low scores = many households with low incomes, many people in unskilled occupations. OR few households with high incomes. Few people in skilled occupations. \n",
    "\n",
    "**IEO: Index of education and occupation.**\n",
    "- reflects the educational and occupational level of communities. \n",
    "- Education variables in this index show either the level of qualification achieved or wheteher further education is being undertaken. \n",
    "- Low score = relatively lower education and occupation status. \n",
    "- low score = many people without qualifications or many people in low skilled occuaptions or unemployed. AND few people with high level of qualification or highly skilled occupation. \n",
    "\n",
    "**IER: Index of economic resources.**\n",
    "- focus' on the financial aspects of relative socio-economic advantage and disadvantage. Summarises variables related to income and wealth. \n",
    "- low score = relative lack to economic resources in general. \n",
    "- low score = many households with low income, or many paying low rent. AND few households with high income, or few owned homes. \n",
    "\n",
    "**IRSD: The index of relative socio economic disadvantage.**\n",
    "- range of information about the economic and social conditions of people and households. \n",
    "- low score = relatively greater disadvantage in general. \n",
    "- low sore= many households with low income, people with no qualification OR many people in low skill occupations. \n",
    "\n",
    "### Voucher dataset\n",
    "![index.png](attachment:index.png)"
   ]
  },
  {
   "cell_type": "code",
   "execution_count": null,
   "metadata": {
    "hidden": true
   },
   "outputs": [],
   "source": []
  },
  {
   "cell_type": "markdown",
   "metadata": {},
   "source": [
    "# Question 1"
   ]
  },
  {
   "cell_type": "markdown",
   "metadata": {},
   "source": [
    " Describe the distribution of vouchers by: LGA, Sport - which regions/sports stand out?"
   ]
  },
  {
   "cell_type": "markdown",
   "metadata": {},
   "source": [
    "We know each row means a voucher has been claimed. \n",
    "\n",
    "Start off by checking how many unique LGAs there are. Then we can count how many times the LGA occurs. "
   ]
  },
  {
   "cell_type": "code",
   "execution_count": 7,
   "metadata": {},
   "outputs": [
    {
     "data": {
      "text/plain": [
       "69"
      ]
     },
     "execution_count": 7,
     "metadata": {},
     "output_type": "execute_result"
    }
   ],
   "source": [
    "len(set(sa_vouchers_scores['Participant_LGA']))"
   ]
  },
  {
   "cell_type": "code",
   "execution_count": 8,
   "metadata": {},
   "outputs": [],
   "source": [
    "lgaSportGrouped = (sa_vouchers_scores.groupby(['Participant_LGA','Voucher_Sport']).count()).copy(deep=True)"
   ]
  },
  {
   "cell_type": "code",
   "execution_count": 9,
   "metadata": {
    "scrolled": false
   },
   "outputs": [
    {
     "data": {
      "text/html": [
       "<div>\n",
       "<style scoped>\n",
       "    .dataframe tbody tr th:only-of-type {\n",
       "        vertical-align: middle;\n",
       "    }\n",
       "\n",
       "    .dataframe tbody tr th {\n",
       "        vertical-align: top;\n",
       "    }\n",
       "\n",
       "    .dataframe thead th {\n",
       "        text-align: right;\n",
       "    }\n",
       "</style>\n",
       "<table border=\"1\" class=\"dataframe\">\n",
       "  <thead>\n",
       "    <tr style=\"text-align: right;\">\n",
       "      <th></th>\n",
       "      <th></th>\n",
       "      <th>Participant_ID</th>\n",
       "      <th>Participant_Suburb</th>\n",
       "      <th>Club_Previous_Member</th>\n",
       "      <th>Participant_ATSI_Indicator</th>\n",
       "      <th>Participant_CALD_Indicator</th>\n",
       "      <th>Participant_Sex</th>\n",
       "      <th>Voucher_Value</th>\n",
       "      <th>Club_Name</th>\n",
       "      <th>Participant_Electorate</th>\n",
       "      <th>Voucher_Completion_Date</th>\n",
       "      <th>Voucher_Claim_Year</th>\n",
       "      <th>IEO</th>\n",
       "      <th>IER</th>\n",
       "      <th>IRSAD</th>\n",
       "      <th>IRSD</th>\n",
       "      <th>Population</th>\n",
       "    </tr>\n",
       "    <tr>\n",
       "      <th>Participant_LGA</th>\n",
       "      <th>Voucher_Sport</th>\n",
       "      <th></th>\n",
       "      <th></th>\n",
       "      <th></th>\n",
       "      <th></th>\n",
       "      <th></th>\n",
       "      <th></th>\n",
       "      <th></th>\n",
       "      <th></th>\n",
       "      <th></th>\n",
       "      <th></th>\n",
       "      <th></th>\n",
       "      <th></th>\n",
       "      <th></th>\n",
       "      <th></th>\n",
       "      <th></th>\n",
       "      <th></th>\n",
       "    </tr>\n",
       "  </thead>\n",
       "  <tbody>\n",
       "    <tr>\n",
       "      <th rowspan=\"5\" valign=\"top\">ADELAIDE</th>\n",
       "      <th>Athletics</th>\n",
       "      <td>16</td>\n",
       "      <td>16</td>\n",
       "      <td>16</td>\n",
       "      <td>16</td>\n",
       "      <td>16</td>\n",
       "      <td>16</td>\n",
       "      <td>16</td>\n",
       "      <td>16</td>\n",
       "      <td>16</td>\n",
       "      <td>16</td>\n",
       "      <td>16</td>\n",
       "      <td>16</td>\n",
       "      <td>16</td>\n",
       "      <td>16</td>\n",
       "      <td>16</td>\n",
       "      <td>16</td>\n",
       "    </tr>\n",
       "    <tr>\n",
       "      <th>Australian Rules</th>\n",
       "      <td>130</td>\n",
       "      <td>130</td>\n",
       "      <td>130</td>\n",
       "      <td>130</td>\n",
       "      <td>130</td>\n",
       "      <td>130</td>\n",
       "      <td>130</td>\n",
       "      <td>130</td>\n",
       "      <td>130</td>\n",
       "      <td>128</td>\n",
       "      <td>130</td>\n",
       "      <td>130</td>\n",
       "      <td>130</td>\n",
       "      <td>130</td>\n",
       "      <td>130</td>\n",
       "      <td>130</td>\n",
       "    </tr>\n",
       "    <tr>\n",
       "      <th>Baseball</th>\n",
       "      <td>1</td>\n",
       "      <td>1</td>\n",
       "      <td>1</td>\n",
       "      <td>1</td>\n",
       "      <td>1</td>\n",
       "      <td>1</td>\n",
       "      <td>1</td>\n",
       "      <td>1</td>\n",
       "      <td>1</td>\n",
       "      <td>1</td>\n",
       "      <td>1</td>\n",
       "      <td>1</td>\n",
       "      <td>1</td>\n",
       "      <td>1</td>\n",
       "      <td>1</td>\n",
       "      <td>1</td>\n",
       "    </tr>\n",
       "    <tr>\n",
       "      <th>Basketball</th>\n",
       "      <td>4</td>\n",
       "      <td>4</td>\n",
       "      <td>4</td>\n",
       "      <td>4</td>\n",
       "      <td>4</td>\n",
       "      <td>4</td>\n",
       "      <td>4</td>\n",
       "      <td>4</td>\n",
       "      <td>4</td>\n",
       "      <td>4</td>\n",
       "      <td>4</td>\n",
       "      <td>4</td>\n",
       "      <td>4</td>\n",
       "      <td>4</td>\n",
       "      <td>4</td>\n",
       "      <td>4</td>\n",
       "    </tr>\n",
       "    <tr>\n",
       "      <th>Calisthenics</th>\n",
       "      <td>1</td>\n",
       "      <td>1</td>\n",
       "      <td>1</td>\n",
       "      <td>1</td>\n",
       "      <td>1</td>\n",
       "      <td>1</td>\n",
       "      <td>1</td>\n",
       "      <td>1</td>\n",
       "      <td>1</td>\n",
       "      <td>1</td>\n",
       "      <td>1</td>\n",
       "      <td>1</td>\n",
       "      <td>1</td>\n",
       "      <td>1</td>\n",
       "      <td>1</td>\n",
       "      <td>1</td>\n",
       "    </tr>\n",
       "    <tr>\n",
       "      <th>...</th>\n",
       "      <th>...</th>\n",
       "      <td>...</td>\n",
       "      <td>...</td>\n",
       "      <td>...</td>\n",
       "      <td>...</td>\n",
       "      <td>...</td>\n",
       "      <td>...</td>\n",
       "      <td>...</td>\n",
       "      <td>...</td>\n",
       "      <td>...</td>\n",
       "      <td>...</td>\n",
       "      <td>...</td>\n",
       "      <td>...</td>\n",
       "      <td>...</td>\n",
       "      <td>...</td>\n",
       "      <td>...</td>\n",
       "      <td>...</td>\n",
       "    </tr>\n",
       "    <tr>\n",
       "      <th rowspan=\"5\" valign=\"top\">YORKE PENINSULA</th>\n",
       "      <th>Motorcycling</th>\n",
       "      <td>2</td>\n",
       "      <td>2</td>\n",
       "      <td>2</td>\n",
       "      <td>2</td>\n",
       "      <td>2</td>\n",
       "      <td>2</td>\n",
       "      <td>2</td>\n",
       "      <td>2</td>\n",
       "      <td>2</td>\n",
       "      <td>2</td>\n",
       "      <td>2</td>\n",
       "      <td>2</td>\n",
       "      <td>2</td>\n",
       "      <td>2</td>\n",
       "      <td>2</td>\n",
       "      <td>2</td>\n",
       "    </tr>\n",
       "    <tr>\n",
       "      <th>Netball</th>\n",
       "      <td>313</td>\n",
       "      <td>313</td>\n",
       "      <td>313</td>\n",
       "      <td>313</td>\n",
       "      <td>313</td>\n",
       "      <td>313</td>\n",
       "      <td>313</td>\n",
       "      <td>313</td>\n",
       "      <td>313</td>\n",
       "      <td>311</td>\n",
       "      <td>313</td>\n",
       "      <td>313</td>\n",
       "      <td>313</td>\n",
       "      <td>313</td>\n",
       "      <td>313</td>\n",
       "      <td>313</td>\n",
       "    </tr>\n",
       "    <tr>\n",
       "      <th>Surf Lifesaving</th>\n",
       "      <td>4</td>\n",
       "      <td>4</td>\n",
       "      <td>4</td>\n",
       "      <td>4</td>\n",
       "      <td>4</td>\n",
       "      <td>4</td>\n",
       "      <td>4</td>\n",
       "      <td>4</td>\n",
       "      <td>4</td>\n",
       "      <td>4</td>\n",
       "      <td>4</td>\n",
       "      <td>4</td>\n",
       "      <td>4</td>\n",
       "      <td>4</td>\n",
       "      <td>4</td>\n",
       "      <td>4</td>\n",
       "    </tr>\n",
       "    <tr>\n",
       "      <th>Taekwondo</th>\n",
       "      <td>87</td>\n",
       "      <td>87</td>\n",
       "      <td>87</td>\n",
       "      <td>87</td>\n",
       "      <td>87</td>\n",
       "      <td>87</td>\n",
       "      <td>87</td>\n",
       "      <td>87</td>\n",
       "      <td>87</td>\n",
       "      <td>87</td>\n",
       "      <td>87</td>\n",
       "      <td>87</td>\n",
       "      <td>87</td>\n",
       "      <td>87</td>\n",
       "      <td>87</td>\n",
       "      <td>87</td>\n",
       "    </tr>\n",
       "    <tr>\n",
       "      <th>Tennis</th>\n",
       "      <td>9</td>\n",
       "      <td>9</td>\n",
       "      <td>9</td>\n",
       "      <td>9</td>\n",
       "      <td>9</td>\n",
       "      <td>9</td>\n",
       "      <td>9</td>\n",
       "      <td>9</td>\n",
       "      <td>9</td>\n",
       "      <td>9</td>\n",
       "      <td>9</td>\n",
       "      <td>9</td>\n",
       "      <td>9</td>\n",
       "      <td>9</td>\n",
       "      <td>9</td>\n",
       "      <td>9</td>\n",
       "    </tr>\n",
       "  </tbody>\n",
       "</table>\n",
       "<p>1157 rows × 16 columns</p>\n",
       "</div>"
      ],
      "text/plain": [
       "                                  Participant_ID  Participant_Suburb  \\\n",
       "Participant_LGA Voucher_Sport                                          \n",
       "ADELAIDE        Athletics                     16                  16   \n",
       "                Australian Rules             130                 130   \n",
       "                Baseball                       1                   1   \n",
       "                Basketball                     4                   4   \n",
       "                Calisthenics                   1                   1   \n",
       "...                                          ...                 ...   \n",
       "YORKE PENINSULA Motorcycling                   2                   2   \n",
       "                Netball                      313                 313   \n",
       "                Surf Lifesaving                4                   4   \n",
       "                Taekwondo                     87                  87   \n",
       "                Tennis                         9                   9   \n",
       "\n",
       "                                  Club_Previous_Member  \\\n",
       "Participant_LGA Voucher_Sport                            \n",
       "ADELAIDE        Athletics                           16   \n",
       "                Australian Rules                   130   \n",
       "                Baseball                             1   \n",
       "                Basketball                           4   \n",
       "                Calisthenics                         1   \n",
       "...                                                ...   \n",
       "YORKE PENINSULA Motorcycling                         2   \n",
       "                Netball                            313   \n",
       "                Surf Lifesaving                      4   \n",
       "                Taekwondo                           87   \n",
       "                Tennis                               9   \n",
       "\n",
       "                                  Participant_ATSI_Indicator  \\\n",
       "Participant_LGA Voucher_Sport                                  \n",
       "ADELAIDE        Athletics                                 16   \n",
       "                Australian Rules                         130   \n",
       "                Baseball                                   1   \n",
       "                Basketball                                 4   \n",
       "                Calisthenics                               1   \n",
       "...                                                      ...   \n",
       "YORKE PENINSULA Motorcycling                               2   \n",
       "                Netball                                  313   \n",
       "                Surf Lifesaving                            4   \n",
       "                Taekwondo                                 87   \n",
       "                Tennis                                     9   \n",
       "\n",
       "                                  Participant_CALD_Indicator  Participant_Sex  \\\n",
       "Participant_LGA Voucher_Sport                                                   \n",
       "ADELAIDE        Athletics                                 16               16   \n",
       "                Australian Rules                         130              130   \n",
       "                Baseball                                   1                1   \n",
       "                Basketball                                 4                4   \n",
       "                Calisthenics                               1                1   \n",
       "...                                                      ...              ...   \n",
       "YORKE PENINSULA Motorcycling                               2                2   \n",
       "                Netball                                  313              313   \n",
       "                Surf Lifesaving                            4                4   \n",
       "                Taekwondo                                 87               87   \n",
       "                Tennis                                     9                9   \n",
       "\n",
       "                                  Voucher_Value  Club_Name  \\\n",
       "Participant_LGA Voucher_Sport                                \n",
       "ADELAIDE        Athletics                    16         16   \n",
       "                Australian Rules            130        130   \n",
       "                Baseball                      1          1   \n",
       "                Basketball                    4          4   \n",
       "                Calisthenics                  1          1   \n",
       "...                                         ...        ...   \n",
       "YORKE PENINSULA Motorcycling                  2          2   \n",
       "                Netball                     313        313   \n",
       "                Surf Lifesaving               4          4   \n",
       "                Taekwondo                    87         87   \n",
       "                Tennis                        9          9   \n",
       "\n",
       "                                  Participant_Electorate  \\\n",
       "Participant_LGA Voucher_Sport                              \n",
       "ADELAIDE        Athletics                             16   \n",
       "                Australian Rules                     130   \n",
       "                Baseball                               1   \n",
       "                Basketball                             4   \n",
       "                Calisthenics                           1   \n",
       "...                                                  ...   \n",
       "YORKE PENINSULA Motorcycling                           2   \n",
       "                Netball                              313   \n",
       "                Surf Lifesaving                        4   \n",
       "                Taekwondo                             87   \n",
       "                Tennis                                 9   \n",
       "\n",
       "                                  Voucher_Completion_Date  Voucher_Claim_Year  \\\n",
       "Participant_LGA Voucher_Sport                                                   \n",
       "ADELAIDE        Athletics                              16                  16   \n",
       "                Australian Rules                      128                 130   \n",
       "                Baseball                                1                   1   \n",
       "                Basketball                              4                   4   \n",
       "                Calisthenics                            1                   1   \n",
       "...                                                   ...                 ...   \n",
       "YORKE PENINSULA Motorcycling                            2                   2   \n",
       "                Netball                               311                 313   \n",
       "                Surf Lifesaving                         4                   4   \n",
       "                Taekwondo                              87                  87   \n",
       "                Tennis                                  9                   9   \n",
       "\n",
       "                                  IEO  IER  IRSAD  IRSD  Population  \n",
       "Participant_LGA Voucher_Sport                                        \n",
       "ADELAIDE        Athletics          16   16     16    16          16  \n",
       "                Australian Rules  130  130    130   130         130  \n",
       "                Baseball            1    1      1     1           1  \n",
       "                Basketball          4    4      4     4           4  \n",
       "                Calisthenics        1    1      1     1           1  \n",
       "...                               ...  ...    ...   ...         ...  \n",
       "YORKE PENINSULA Motorcycling        2    2      2     2           2  \n",
       "                Netball           313  313    313   313         313  \n",
       "                Surf Lifesaving     4    4      4     4           4  \n",
       "                Taekwondo          87   87     87    87          87  \n",
       "                Tennis              9    9      9     9           9  \n",
       "\n",
       "[1157 rows x 16 columns]"
      ]
     },
     "execution_count": 9,
     "metadata": {},
     "output_type": "execute_result"
    }
   ],
   "source": [
    "lgaSportGrouped"
   ]
  },
  {
   "cell_type": "markdown",
   "metadata": {},
   "source": [
    "It's quite difficult to use this type of dataframe due to the multi index. We can use `pivot` instead to make it more clear. \n",
    "\n",
    "Used help from the textbook for this part. Page 24, section 2.6.8\n",
    "\n"
   ]
  },
  {
   "cell_type": "code",
   "execution_count": 10,
   "metadata": {},
   "outputs": [],
   "source": [
    "group = (sa_vouchers_scores.groupby(['Participant_LGA','Voucher_Sport']).count()).copy(deep=True)"
   ]
  },
  {
   "cell_type": "code",
   "execution_count": 11,
   "metadata": {},
   "outputs": [
    {
     "data": {
      "text/html": [
       "<div>\n",
       "<style scoped>\n",
       "    .dataframe tbody tr th:only-of-type {\n",
       "        vertical-align: middle;\n",
       "    }\n",
       "\n",
       "    .dataframe tbody tr th {\n",
       "        vertical-align: top;\n",
       "    }\n",
       "\n",
       "    .dataframe thead th {\n",
       "        text-align: right;\n",
       "    }\n",
       "</style>\n",
       "<table border=\"1\" class=\"dataframe\">\n",
       "  <thead>\n",
       "    <tr style=\"text-align: right;\">\n",
       "      <th></th>\n",
       "      <th></th>\n",
       "      <th>Participant_ID</th>\n",
       "      <th>Participant_Suburb</th>\n",
       "      <th>Club_Previous_Member</th>\n",
       "      <th>Participant_ATSI_Indicator</th>\n",
       "      <th>Participant_CALD_Indicator</th>\n",
       "      <th>Participant_Sex</th>\n",
       "      <th>Voucher_Value</th>\n",
       "      <th>Club_Name</th>\n",
       "      <th>Participant_Electorate</th>\n",
       "      <th>Voucher_Completion_Date</th>\n",
       "      <th>Voucher_Claim_Year</th>\n",
       "      <th>IEO</th>\n",
       "      <th>IER</th>\n",
       "      <th>IRSAD</th>\n",
       "      <th>IRSD</th>\n",
       "      <th>Population</th>\n",
       "    </tr>\n",
       "    <tr>\n",
       "      <th>Participant_LGA</th>\n",
       "      <th>Voucher_Sport</th>\n",
       "      <th></th>\n",
       "      <th></th>\n",
       "      <th></th>\n",
       "      <th></th>\n",
       "      <th></th>\n",
       "      <th></th>\n",
       "      <th></th>\n",
       "      <th></th>\n",
       "      <th></th>\n",
       "      <th></th>\n",
       "      <th></th>\n",
       "      <th></th>\n",
       "      <th></th>\n",
       "      <th></th>\n",
       "      <th></th>\n",
       "      <th></th>\n",
       "    </tr>\n",
       "  </thead>\n",
       "  <tbody>\n",
       "    <tr>\n",
       "      <th rowspan=\"5\" valign=\"top\">ADELAIDE</th>\n",
       "      <th>Athletics</th>\n",
       "      <td>16</td>\n",
       "      <td>16</td>\n",
       "      <td>16</td>\n",
       "      <td>16</td>\n",
       "      <td>16</td>\n",
       "      <td>16</td>\n",
       "      <td>16</td>\n",
       "      <td>16</td>\n",
       "      <td>16</td>\n",
       "      <td>16</td>\n",
       "      <td>16</td>\n",
       "      <td>16</td>\n",
       "      <td>16</td>\n",
       "      <td>16</td>\n",
       "      <td>16</td>\n",
       "      <td>16</td>\n",
       "    </tr>\n",
       "    <tr>\n",
       "      <th>Australian Rules</th>\n",
       "      <td>130</td>\n",
       "      <td>130</td>\n",
       "      <td>130</td>\n",
       "      <td>130</td>\n",
       "      <td>130</td>\n",
       "      <td>130</td>\n",
       "      <td>130</td>\n",
       "      <td>130</td>\n",
       "      <td>130</td>\n",
       "      <td>128</td>\n",
       "      <td>130</td>\n",
       "      <td>130</td>\n",
       "      <td>130</td>\n",
       "      <td>130</td>\n",
       "      <td>130</td>\n",
       "      <td>130</td>\n",
       "    </tr>\n",
       "    <tr>\n",
       "      <th>Baseball</th>\n",
       "      <td>1</td>\n",
       "      <td>1</td>\n",
       "      <td>1</td>\n",
       "      <td>1</td>\n",
       "      <td>1</td>\n",
       "      <td>1</td>\n",
       "      <td>1</td>\n",
       "      <td>1</td>\n",
       "      <td>1</td>\n",
       "      <td>1</td>\n",
       "      <td>1</td>\n",
       "      <td>1</td>\n",
       "      <td>1</td>\n",
       "      <td>1</td>\n",
       "      <td>1</td>\n",
       "      <td>1</td>\n",
       "    </tr>\n",
       "    <tr>\n",
       "      <th>Basketball</th>\n",
       "      <td>4</td>\n",
       "      <td>4</td>\n",
       "      <td>4</td>\n",
       "      <td>4</td>\n",
       "      <td>4</td>\n",
       "      <td>4</td>\n",
       "      <td>4</td>\n",
       "      <td>4</td>\n",
       "      <td>4</td>\n",
       "      <td>4</td>\n",
       "      <td>4</td>\n",
       "      <td>4</td>\n",
       "      <td>4</td>\n",
       "      <td>4</td>\n",
       "      <td>4</td>\n",
       "      <td>4</td>\n",
       "    </tr>\n",
       "    <tr>\n",
       "      <th>Calisthenics</th>\n",
       "      <td>1</td>\n",
       "      <td>1</td>\n",
       "      <td>1</td>\n",
       "      <td>1</td>\n",
       "      <td>1</td>\n",
       "      <td>1</td>\n",
       "      <td>1</td>\n",
       "      <td>1</td>\n",
       "      <td>1</td>\n",
       "      <td>1</td>\n",
       "      <td>1</td>\n",
       "      <td>1</td>\n",
       "      <td>1</td>\n",
       "      <td>1</td>\n",
       "      <td>1</td>\n",
       "      <td>1</td>\n",
       "    </tr>\n",
       "  </tbody>\n",
       "</table>\n",
       "</div>"
      ],
      "text/plain": [
       "                                  Participant_ID  Participant_Suburb  \\\n",
       "Participant_LGA Voucher_Sport                                          \n",
       "ADELAIDE        Athletics                     16                  16   \n",
       "                Australian Rules             130                 130   \n",
       "                Baseball                       1                   1   \n",
       "                Basketball                     4                   4   \n",
       "                Calisthenics                   1                   1   \n",
       "\n",
       "                                  Club_Previous_Member  \\\n",
       "Participant_LGA Voucher_Sport                            \n",
       "ADELAIDE        Athletics                           16   \n",
       "                Australian Rules                   130   \n",
       "                Baseball                             1   \n",
       "                Basketball                           4   \n",
       "                Calisthenics                         1   \n",
       "\n",
       "                                  Participant_ATSI_Indicator  \\\n",
       "Participant_LGA Voucher_Sport                                  \n",
       "ADELAIDE        Athletics                                 16   \n",
       "                Australian Rules                         130   \n",
       "                Baseball                                   1   \n",
       "                Basketball                                 4   \n",
       "                Calisthenics                               1   \n",
       "\n",
       "                                  Participant_CALD_Indicator  Participant_Sex  \\\n",
       "Participant_LGA Voucher_Sport                                                   \n",
       "ADELAIDE        Athletics                                 16               16   \n",
       "                Australian Rules                         130              130   \n",
       "                Baseball                                   1                1   \n",
       "                Basketball                                 4                4   \n",
       "                Calisthenics                               1                1   \n",
       "\n",
       "                                  Voucher_Value  Club_Name  \\\n",
       "Participant_LGA Voucher_Sport                                \n",
       "ADELAIDE        Athletics                    16         16   \n",
       "                Australian Rules            130        130   \n",
       "                Baseball                      1          1   \n",
       "                Basketball                    4          4   \n",
       "                Calisthenics                  1          1   \n",
       "\n",
       "                                  Participant_Electorate  \\\n",
       "Participant_LGA Voucher_Sport                              \n",
       "ADELAIDE        Athletics                             16   \n",
       "                Australian Rules                     130   \n",
       "                Baseball                               1   \n",
       "                Basketball                             4   \n",
       "                Calisthenics                           1   \n",
       "\n",
       "                                  Voucher_Completion_Date  Voucher_Claim_Year  \\\n",
       "Participant_LGA Voucher_Sport                                                   \n",
       "ADELAIDE        Athletics                              16                  16   \n",
       "                Australian Rules                      128                 130   \n",
       "                Baseball                                1                   1   \n",
       "                Basketball                              4                   4   \n",
       "                Calisthenics                            1                   1   \n",
       "\n",
       "                                  IEO  IER  IRSAD  IRSD  Population  \n",
       "Participant_LGA Voucher_Sport                                        \n",
       "ADELAIDE        Athletics          16   16     16    16          16  \n",
       "                Australian Rules  130  130    130   130         130  \n",
       "                Baseball            1    1      1     1           1  \n",
       "                Basketball          4    4      4     4           4  \n",
       "                Calisthenics        1    1      1     1           1  "
      ]
     },
     "execution_count": 11,
     "metadata": {},
     "output_type": "execute_result"
    }
   ],
   "source": [
    "group.head()"
   ]
  },
  {
   "cell_type": "markdown",
   "metadata": {},
   "source": [
    "keeping all rows and only keeping one column. All the columns represent the same number of counts, so we only need to keep one. "
   ]
  },
  {
   "cell_type": "code",
   "execution_count": 12,
   "metadata": {},
   "outputs": [],
   "source": [
    "pivot = pd.pivot_table(group, values = 'Participant_ID', index = 'Participant_LGA', columns = 'Voucher_Sport')"
   ]
  },
  {
   "cell_type": "code",
   "execution_count": 13,
   "metadata": {},
   "outputs": [
    {
     "data": {
      "text/html": [
       "<div>\n",
       "<style scoped>\n",
       "    .dataframe tbody tr th:only-of-type {\n",
       "        vertical-align: middle;\n",
       "    }\n",
       "\n",
       "    .dataframe tbody tr th {\n",
       "        vertical-align: top;\n",
       "    }\n",
       "\n",
       "    .dataframe thead th {\n",
       "        text-align: right;\n",
       "    }\n",
       "</style>\n",
       "<table border=\"1\" class=\"dataframe\">\n",
       "  <thead>\n",
       "    <tr style=\"text-align: right;\">\n",
       "      <th>Voucher_Sport</th>\n",
       "      <th>Archery</th>\n",
       "      <th>Athletics</th>\n",
       "      <th>Australian Rules</th>\n",
       "      <th>BMX</th>\n",
       "      <th>Badminton</th>\n",
       "      <th>Baseball</th>\n",
       "      <th>Basketball</th>\n",
       "      <th>Bowls</th>\n",
       "      <th>Calisthenics</th>\n",
       "      <th>Cricket</th>\n",
       "      <th>...</th>\n",
       "      <th>Surf Riding</th>\n",
       "      <th>Swimming</th>\n",
       "      <th>Table Tennis</th>\n",
       "      <th>Taekwondo</th>\n",
       "      <th>Tennis</th>\n",
       "      <th>Touch</th>\n",
       "      <th>Volleyball</th>\n",
       "      <th>Water Polo</th>\n",
       "      <th>Weightlifting</th>\n",
       "      <th>Wrestling</th>\n",
       "    </tr>\n",
       "    <tr>\n",
       "      <th>Participant_LGA</th>\n",
       "      <th></th>\n",
       "      <th></th>\n",
       "      <th></th>\n",
       "      <th></th>\n",
       "      <th></th>\n",
       "      <th></th>\n",
       "      <th></th>\n",
       "      <th></th>\n",
       "      <th></th>\n",
       "      <th></th>\n",
       "      <th></th>\n",
       "      <th></th>\n",
       "      <th></th>\n",
       "      <th></th>\n",
       "      <th></th>\n",
       "      <th></th>\n",
       "      <th></th>\n",
       "      <th></th>\n",
       "      <th></th>\n",
       "      <th></th>\n",
       "      <th></th>\n",
       "    </tr>\n",
       "  </thead>\n",
       "  <tbody>\n",
       "    <tr>\n",
       "      <th>ADELAIDE</th>\n",
       "      <td>NaN</td>\n",
       "      <td>16.0</td>\n",
       "      <td>130.0</td>\n",
       "      <td>NaN</td>\n",
       "      <td>NaN</td>\n",
       "      <td>1.0</td>\n",
       "      <td>4.0</td>\n",
       "      <td>NaN</td>\n",
       "      <td>1.0</td>\n",
       "      <td>2.0</td>\n",
       "      <td>...</td>\n",
       "      <td>NaN</td>\n",
       "      <td>NaN</td>\n",
       "      <td>NaN</td>\n",
       "      <td>11.0</td>\n",
       "      <td>4.0</td>\n",
       "      <td>NaN</td>\n",
       "      <td>NaN</td>\n",
       "      <td>NaN</td>\n",
       "      <td>NaN</td>\n",
       "      <td>NaN</td>\n",
       "    </tr>\n",
       "    <tr>\n",
       "      <th>ADELAIDE HILLS</th>\n",
       "      <td>3.0</td>\n",
       "      <td>204.0</td>\n",
       "      <td>1412.0</td>\n",
       "      <td>2.0</td>\n",
       "      <td>NaN</td>\n",
       "      <td>11.0</td>\n",
       "      <td>48.0</td>\n",
       "      <td>NaN</td>\n",
       "      <td>62.0</td>\n",
       "      <td>128.0</td>\n",
       "      <td>...</td>\n",
       "      <td>NaN</td>\n",
       "      <td>18.0</td>\n",
       "      <td>3.0</td>\n",
       "      <td>44.0</td>\n",
       "      <td>257.0</td>\n",
       "      <td>2.0</td>\n",
       "      <td>1.0</td>\n",
       "      <td>1.0</td>\n",
       "      <td>NaN</td>\n",
       "      <td>NaN</td>\n",
       "    </tr>\n",
       "    <tr>\n",
       "      <th>ADELAIDE PLAINS</th>\n",
       "      <td>NaN</td>\n",
       "      <td>3.0</td>\n",
       "      <td>485.0</td>\n",
       "      <td>NaN</td>\n",
       "      <td>NaN</td>\n",
       "      <td>3.0</td>\n",
       "      <td>15.0</td>\n",
       "      <td>NaN</td>\n",
       "      <td>23.0</td>\n",
       "      <td>3.0</td>\n",
       "      <td>...</td>\n",
       "      <td>NaN</td>\n",
       "      <td>3.0</td>\n",
       "      <td>NaN</td>\n",
       "      <td>NaN</td>\n",
       "      <td>13.0</td>\n",
       "      <td>NaN</td>\n",
       "      <td>NaN</td>\n",
       "      <td>NaN</td>\n",
       "      <td>NaN</td>\n",
       "      <td>NaN</td>\n",
       "    </tr>\n",
       "    <tr>\n",
       "      <th>ALEXANDRINA</th>\n",
       "      <td>9.0</td>\n",
       "      <td>62.0</td>\n",
       "      <td>980.0</td>\n",
       "      <td>4.0</td>\n",
       "      <td>3.0</td>\n",
       "      <td>NaN</td>\n",
       "      <td>204.0</td>\n",
       "      <td>NaN</td>\n",
       "      <td>5.0</td>\n",
       "      <td>8.0</td>\n",
       "      <td>...</td>\n",
       "      <td>2.0</td>\n",
       "      <td>11.0</td>\n",
       "      <td>NaN</td>\n",
       "      <td>NaN</td>\n",
       "      <td>109.0</td>\n",
       "      <td>NaN</td>\n",
       "      <td>NaN</td>\n",
       "      <td>NaN</td>\n",
       "      <td>NaN</td>\n",
       "      <td>NaN</td>\n",
       "    </tr>\n",
       "    <tr>\n",
       "      <th>BAROSSA</th>\n",
       "      <td>NaN</td>\n",
       "      <td>158.0</td>\n",
       "      <td>1196.0</td>\n",
       "      <td>3.0</td>\n",
       "      <td>NaN</td>\n",
       "      <td>6.0</td>\n",
       "      <td>341.0</td>\n",
       "      <td>NaN</td>\n",
       "      <td>9.0</td>\n",
       "      <td>56.0</td>\n",
       "      <td>...</td>\n",
       "      <td>NaN</td>\n",
       "      <td>12.0</td>\n",
       "      <td>NaN</td>\n",
       "      <td>NaN</td>\n",
       "      <td>83.0</td>\n",
       "      <td>NaN</td>\n",
       "      <td>NaN</td>\n",
       "      <td>NaN</td>\n",
       "      <td>NaN</td>\n",
       "      <td>NaN</td>\n",
       "    </tr>\n",
       "  </tbody>\n",
       "</table>\n",
       "<p>5 rows × 50 columns</p>\n",
       "</div>"
      ],
      "text/plain": [
       "Voucher_Sport    Archery  Athletics  Australian Rules  BMX  Badminton  \\\n",
       "Participant_LGA                                                         \n",
       "ADELAIDE             NaN       16.0             130.0  NaN        NaN   \n",
       "ADELAIDE HILLS       3.0      204.0            1412.0  2.0        NaN   \n",
       "ADELAIDE PLAINS      NaN        3.0             485.0  NaN        NaN   \n",
       "ALEXANDRINA          9.0       62.0             980.0  4.0        3.0   \n",
       "BAROSSA              NaN      158.0            1196.0  3.0        NaN   \n",
       "\n",
       "Voucher_Sport    Baseball  Basketball  Bowls  Calisthenics  Cricket  ...  \\\n",
       "Participant_LGA                                                      ...   \n",
       "ADELAIDE              1.0         4.0    NaN           1.0      2.0  ...   \n",
       "ADELAIDE HILLS       11.0        48.0    NaN          62.0    128.0  ...   \n",
       "ADELAIDE PLAINS       3.0        15.0    NaN          23.0      3.0  ...   \n",
       "ALEXANDRINA           NaN       204.0    NaN           5.0      8.0  ...   \n",
       "BAROSSA               6.0       341.0    NaN           9.0     56.0  ...   \n",
       "\n",
       "Voucher_Sport    Surf Riding  Swimming  Table Tennis  Taekwondo  Tennis  \\\n",
       "Participant_LGA                                                           \n",
       "ADELAIDE                 NaN       NaN           NaN       11.0     4.0   \n",
       "ADELAIDE HILLS           NaN      18.0           3.0       44.0   257.0   \n",
       "ADELAIDE PLAINS          NaN       3.0           NaN        NaN    13.0   \n",
       "ALEXANDRINA              2.0      11.0           NaN        NaN   109.0   \n",
       "BAROSSA                  NaN      12.0           NaN        NaN    83.0   \n",
       "\n",
       "Voucher_Sport    Touch  Volleyball  Water Polo  Weightlifting  Wrestling  \n",
       "Participant_LGA                                                           \n",
       "ADELAIDE           NaN         NaN         NaN            NaN        NaN  \n",
       "ADELAIDE HILLS     2.0         1.0         1.0            NaN        NaN  \n",
       "ADELAIDE PLAINS    NaN         NaN         NaN            NaN        NaN  \n",
       "ALEXANDRINA        NaN         NaN         NaN            NaN        NaN  \n",
       "BAROSSA            NaN         NaN         NaN            NaN        NaN  \n",
       "\n",
       "[5 rows x 50 columns]"
      ]
     },
     "execution_count": 13,
     "metadata": {},
     "output_type": "execute_result"
    }
   ],
   "source": [
    "pivot.head()"
   ]
  },
  {
   "cell_type": "code",
   "execution_count": 14,
   "metadata": {},
   "outputs": [],
   "source": [
    "pivot = pivot.fillna(0)"
   ]
  },
  {
   "cell_type": "markdown",
   "metadata": {},
   "source": [
    "Applying the pivot table has drastically aided in the dimensioniality of the DF,m making it easier to explore the DF. I have also changed the NAN values to zero, making the assumption that the nan values represent no voucher redeemed. \n",
    "\n",
    "Let's try some plots with this new df now. "
   ]
  },
  {
   "cell_type": "markdown",
   "metadata": {},
   "source": [
    "from https://seaborn.pydata.org/examples/part_whole_bars.html"
   ]
  },
  {
   "cell_type": "markdown",
   "metadata": {},
   "source": [
    "**Removing any uppercase words for ease of referencing the DF.**\n",
    "\n",
    "help from https://www.codegrepper.com/code-examples/python/convert+columns+to+lowercase+pandas"
   ]
  },
  {
   "cell_type": "code",
   "execution_count": 15,
   "metadata": {},
   "outputs": [],
   "source": [
    "pivot.index = pivot.index.str.lower()"
   ]
  },
  {
   "cell_type": "code",
   "execution_count": 16,
   "metadata": {},
   "outputs": [],
   "source": [
    "pivot.columns = pivot.columns.str.lower()"
   ]
  },
  {
   "cell_type": "markdown",
   "metadata": {},
   "source": [
    "`.rank()` works such that each column has a new ranking. 1 being the highest rank (and so highest value in the original DF). "
   ]
  },
  {
   "cell_type": "code",
   "execution_count": 17,
   "metadata": {},
   "outputs": [],
   "source": [
    "rank = pivot.rank(ascending = False, method='first')"
   ]
  },
  {
   "cell_type": "markdown",
   "metadata": {},
   "source": [
    "the `idxmax` and `idxmin` function determines the most and least popular sports in each LGA and we can easily display which sports are found via the `set` function."
   ]
  },
  {
   "cell_type": "code",
   "execution_count": 18,
   "metadata": {},
   "outputs": [
    {
     "data": {
      "text/plain": [
       "{'australian rules', 'basketball', 'football (soccer)', 'netball', 'swimming'}"
      ]
     },
     "execution_count": 18,
     "metadata": {},
     "output_type": "execute_result"
    }
   ],
   "source": [
    "set(pivot.idxmax(axis=1))"
   ]
  },
  {
   "cell_type": "code",
   "execution_count": 19,
   "metadata": {},
   "outputs": [
    {
     "data": {
      "text/plain": [
       "{'archery', 'badminton', 'baseball', 'bmx'}"
      ]
     },
     "execution_count": 19,
     "metadata": {},
     "output_type": "execute_result"
    }
   ],
   "source": [
    "set(pivot.idxmin(axis=1))"
   ]
  },
  {
   "cell_type": "code",
   "execution_count": 20,
   "metadata": {},
   "outputs": [],
   "source": [
    "topSports = list(set(pivot.idxmax(axis=1)))\n",
    "botSports = list(set(pivot.idxmin(axis=1)))"
   ]
  },
  {
   "cell_type": "markdown",
   "metadata": {},
   "source": [
    "So now we've found which sports stand out. \n",
    "\n",
    "Let's plot this to see how these top 5 sports vary in popularity among themselves. "
   ]
  },
  {
   "cell_type": "code",
   "execution_count": 21,
   "metadata": {},
   "outputs": [
    {
     "data": {
      "text/plain": [
       "Voucher_Sport\n",
       "australian rules     47224.0\n",
       "netball              24017.0\n",
       "football (soccer)    15775.0\n",
       "basketball            6016.0\n",
       "swimming              1204.0\n",
       "dtype: float64"
      ]
     },
     "execution_count": 21,
     "metadata": {},
     "output_type": "execute_result"
    }
   ],
   "source": [
    "pivot[topSports].sum().sort_values(ascending=False)"
   ]
  },
  {
   "cell_type": "code",
   "execution_count": 22,
   "metadata": {},
   "outputs": [
    {
     "data": {
      "image/png": "[encoded data removed]",
      "text/plain": [
       "<Figure size 1080x720 with 2 Axes>"
      ]
     },
     "metadata": {},
     "output_type": "display_data"
    }
   ],
   "source": [
    "sns.set_theme(style=\"whitegrid\")\n",
    "fig, axes= plt.subplots(2,1, figsize=(15,10))\n",
    "\n",
    "\n",
    "\n",
    "\n",
    "pivot[topSports].sum().sort_values().plot(kind='barh', style='b', alpha=0.7,\n",
    "              title='Most Popular Sports', ax = axes[0])\n",
    "\n",
    "\n",
    "\n",
    "pivot[botSports].sum().sort_values().plot(kind='barh', style='b', alpha=0.7,\n",
    "              title='Least Popular Sports', ax = axes[1])\n",
    "\n",
    "# plt.title('Significant sports in each LGA')\n",
    "plt.tight_layout()\n",
    "plt.show()"
   ]
  },
  {
   "cell_type": "markdown",
   "metadata": {},
   "source": [
    "would normalising this help? "
   ]
  },
  {
   "cell_type": "markdown",
   "metadata": {},
   "source": [
    "We can see Australian Rules and Netball are the most popular, badminton and archery being the least popular. We expect this as we know most Australians play these popular sports growing up. Other factors that can be included may be the regions in which these sports are played. Some LGAs may have a higher voucher claim rate for a less popular sport than others. We were able to show the most popular sports across all LGAs, though there may be some LGAs where these top sports are not popular. "
   ]
  },
  {
   "cell_type": "markdown",
   "metadata": {},
   "source": [
    "Similarly, let's now begin the process to check which are the top LGAs for claimed vouchers. This meaning we will find the which LGA has the highest number of claims for each sport. "
   ]
  },
  {
   "cell_type": "code",
   "execution_count": 23,
   "metadata": {},
   "outputs": [
    {
     "data": {
      "text/plain": [
       "Voucher_Sport\n",
       "archery             alexandrina\n",
       "athletics           onkaparinga\n",
       "australian rules    onkaparinga\n",
       "bmx                 onkaparinga\n",
       "badminton           alexandrina\n",
       "baseball            onkaparinga\n",
       "basketball              whyalla\n",
       "bowls                    marion\n",
       "calisthenics        onkaparinga\n",
       "cricket               salisbury\n",
       "dtype: object"
      ]
     },
     "execution_count": 23,
     "metadata": {},
     "output_type": "execute_result"
    }
   ],
   "source": [
    "pivot.idxmax(axis=0).head(10)"
   ]
  },
  {
   "cell_type": "code",
   "execution_count": 24,
   "metadata": {},
   "outputs": [],
   "source": [
    "idxmaxSports = list(set(pivot.idxmax(axis=0)))\n",
    "idxminSports = list(set(pivot.idxmin(axis=0)))"
   ]
  },
  {
   "cell_type": "markdown",
   "metadata": {},
   "source": [
    "we notice that some of the LGAs are in each of the top and bottom LGAs. This is fine because an LGA that has the most claim for one sport, may have the lowest number of claims for another sport. Thus, appearing in both idxmax and idxmin "
   ]
  },
  {
   "cell_type": "markdown",
   "metadata": {},
   "source": [
    "to check which lga has the most claimed vouchers. Onkaparinga being number one with most claimed vouchers."
   ]
  },
  {
   "cell_type": "code",
   "execution_count": 25,
   "metadata": {},
   "outputs": [
    {
     "data": {
      "text/plain": [
       "Participant_LGA\n",
       "onkaparinga       1.0\n",
       "salisbury         2.0\n",
       "tea tree gully    3.0\n",
       "playford          4.0\n",
       "charles sturt     5.0\n",
       "dtype: float64"
      ]
     },
     "execution_count": 25,
     "metadata": {},
     "output_type": "execute_result"
    }
   ],
   "source": [
    "totalClaimed = pivot.sum(axis=1)\n",
    "totalClaimed.rank(ascending=False, method='dense').sort_values().head()"
   ]
  },
  {
   "cell_type": "markdown",
   "metadata": {},
   "source": [
    "The following will tell us the top ad bottom sports for the specific LGA. "
   ]
  },
  {
   "cell_type": "code",
   "execution_count": 26,
   "metadata": {},
   "outputs": [
    {
     "data": {
      "text/plain": [
       "Participant_LGA\n",
       "onkaparinga       12782.0\n",
       "salisbury          8169.0\n",
       "tea tree gully     7219.0\n",
       "playford           6940.0\n",
       "charles sturt      6897.0\n",
       "dtype: float64"
      ]
     },
     "execution_count": 26,
     "metadata": {},
     "output_type": "execute_result"
    }
   ],
   "source": [
    "totalClaimed_top5 = totalClaimed.sort_values(ascending=False).nlargest(5)\n",
    "totalClaimed_top5"
   ]
  },
  {
   "cell_type": "code",
   "execution_count": 27,
   "metadata": {},
   "outputs": [
    {
     "data": {
      "text/plain": [
       "Participant_LGA\n",
       "coober pedy           39.0\n",
       "peterborough          45.0\n",
       "flinders ranges      102.0\n",
       "orroroo/carrieton    137.0\n",
       "franklin harbour     155.0\n",
       "dtype: float64"
      ]
     },
     "execution_count": 27,
     "metadata": {},
     "output_type": "execute_result"
    }
   ],
   "source": [
    "totalClaimed_bot5 = totalClaimed.sort_values(ascending=False).nsmallest(5)\n",
    "totalClaimed_bot5"
   ]
  },
  {
   "cell_type": "code",
   "execution_count": 28,
   "metadata": {},
   "outputs": [
    {
     "data": {
      "image/png": "[encoded data removed]",
      "text/plain": [
       "<Figure size 864x360 with 2 Axes>"
      ]
     },
     "metadata": {},
     "output_type": "display_data"
    }
   ],
   "source": [
    "sns.set_theme(style=\"whitegrid\")\n",
    "fig, axes = plt.subplots(2,1, figsize=(12, 5))\n",
    "\n",
    "\n",
    "totalClaimed_top5.sort_values().plot(kind='barh', style='r', alpha=0.7,\n",
    "              title='Total Claimed Vouchers For The Top 5 LGAs', ax=axes[0])\n",
    "\n",
    "totalClaimed_bot5.sort_values().plot(kind='barh', style='b', alpha=0.7,\n",
    "              title='Total Claimed Vouchers For The Top 5 LGAs',ax=axes[1])\n",
    "fig.tight_layout()\n",
    "plt.show()"
   ]
  },
  {
   "cell_type": "markdown",
   "metadata": {},
   "source": [
    "Help with `tight_layout()` from https://stackoverflow.com/questions/6541123/improve-subplot-size-spacing-with-many-subplots-in-matplotlib"
   ]
  },
  {
   "cell_type": "markdown",
   "metadata": {},
   "source": [
    "Onkaparinga stands out the most for total claimed vouchers within the LGA. Let's check what the most popular sports are in that LGA: "
   ]
  },
  {
   "cell_type": "code",
   "execution_count": 29,
   "metadata": {},
   "outputs": [
    {
     "data": {
      "image/png": "[encoded data removed]",
      "text/plain": [
       "<Figure size 864x360 with 2 Axes>"
      ]
     },
     "metadata": {},
     "output_type": "display_data"
    }
   ],
   "source": [
    "sns.set_theme(style=\"whitegrid\")\n",
    "fig, axes = plt.subplots(2,1, figsize=(12, 5))\n",
    "\n",
    "\n",
    "pivot.loc['onkaparinga'].nlargest(5).sort_values().plot(kind='barh', style='b', alpha=0.7,\n",
    "              title='Most popular sports in Onkaparinga', ax = axes[0])\n",
    "\n",
    "pivot.loc['onkaparinga'][topSports].sort_values().plot(kind='barh', style='b', alpha=0.7,\n",
    "              title='The overall top sports in Onkarparinga', ax = axes[1])\n",
    "\n",
    "plt.tight_layout()"
   ]
  },
  {
   "cell_type": "markdown",
   "metadata": {},
   "source": [
    "We can see Australian Rules dominates in this LGA compared to the other most popular sports. as we can see in the second plot, the top sports across all LGAs aren't all seen in Onkaparinga. Basketball and swimming appear in `topSports` but are not as popular in Onkaparinga as athletics and gymnastics. \n",
    "\n",
    "Comparing this plot to the plot for the most popular sports, we also notice Onkaparinga accounts for approximately 1/9$^{th}$ of the total claimed vouchers for Australian rules."
   ]
  },
  {
   "cell_type": "code",
   "execution_count": 30,
   "metadata": {},
   "outputs": [],
   "source": [
    "test = pd.pivot_table(group, values = 'Participant_ID', index = 'Voucher_Sport', columns = 'Participant_LGA')"
   ]
  },
  {
   "cell_type": "code",
   "execution_count": 31,
   "metadata": {},
   "outputs": [],
   "source": [
    "test.index = test.index.str.lower()\n",
    "test.columns = test.columns.str.lower()"
   ]
  },
  {
   "cell_type": "code",
   "execution_count": 32,
   "metadata": {},
   "outputs": [],
   "source": [
    "test = test.fillna(0)"
   ]
  },
  {
   "cell_type": "raw",
   "metadata": {},
   "source": [
    "test"
   ]
  },
  {
   "cell_type": "code",
   "execution_count": 34,
   "metadata": {},
   "outputs": [
    {
     "data": {
      "text/plain": [
       "Participant_LGA\n",
       "onkaparinga              5258.0\n",
       "salisbury                2856.0\n",
       "playford                 2580.0\n",
       "port adelaide enfield    2453.0\n",
       "marion                   2362.0\n",
       "Name: australian rules, dtype: float64"
      ]
     },
     "execution_count": 34,
     "metadata": {},
     "output_type": "execute_result"
    }
   ],
   "source": [
    "(pivot['australian rules'].nlargest(5))"
   ]
  },
  {
   "cell_type": "code",
   "execution_count": 35,
   "metadata": {},
   "outputs": [],
   "source": [
    "otherSum = pivot['australian rules'].nsmallest(69-5).sum()"
   ]
  },
  {
   "cell_type": "code",
   "execution_count": 36,
   "metadata": {},
   "outputs": [
    {
     "data": {
      "text/html": [
       "<div>\n",
       "<style scoped>\n",
       "    .dataframe tbody tr th:only-of-type {\n",
       "        vertical-align: middle;\n",
       "    }\n",
       "\n",
       "    .dataframe tbody tr th {\n",
       "        vertical-align: top;\n",
       "    }\n",
       "\n",
       "    .dataframe thead th {\n",
       "        text-align: right;\n",
       "    }\n",
       "</style>\n",
       "<table border=\"1\" class=\"dataframe\">\n",
       "  <thead>\n",
       "    <tr style=\"text-align: right;\">\n",
       "      <th>Participant_LGA</th>\n",
       "      <th>adelaide</th>\n",
       "      <th>adelaide hills</th>\n",
       "      <th>adelaide plains</th>\n",
       "      <th>alexandrina</th>\n",
       "      <th>barossa</th>\n",
       "      <th>barunga west</th>\n",
       "      <th>berri barmera</th>\n",
       "      <th>burnside</th>\n",
       "      <th>campbelltown</th>\n",
       "      <th>ceduna</th>\n",
       "      <th>...</th>\n",
       "      <th>unley</th>\n",
       "      <th>victor harbor</th>\n",
       "      <th>wakefield</th>\n",
       "      <th>walkerville</th>\n",
       "      <th>wattle range</th>\n",
       "      <th>west torrens</th>\n",
       "      <th>whyalla</th>\n",
       "      <th>wudinna</th>\n",
       "      <th>yankalilla</th>\n",
       "      <th>yorke peninsula</th>\n",
       "    </tr>\n",
       "  </thead>\n",
       "  <tbody>\n",
       "    <tr>\n",
       "      <th>australian rules</th>\n",
       "      <td>130.0</td>\n",
       "      <td>1412.0</td>\n",
       "      <td>485.0</td>\n",
       "      <td>980.0</td>\n",
       "      <td>1196.0</td>\n",
       "      <td>86.0</td>\n",
       "      <td>545.0</td>\n",
       "      <td>747.0</td>\n",
       "      <td>1186.0</td>\n",
       "      <td>211.0</td>\n",
       "      <td>...</td>\n",
       "      <td>900.0</td>\n",
       "      <td>368.0</td>\n",
       "      <td>402.0</td>\n",
       "      <td>146.0</td>\n",
       "      <td>652.0</td>\n",
       "      <td>907.0</td>\n",
       "      <td>569.0</td>\n",
       "      <td>44.0</td>\n",
       "      <td>214.0</td>\n",
       "      <td>309.0</td>\n",
       "    </tr>\n",
       "  </tbody>\n",
       "</table>\n",
       "<p>1 rows × 69 columns</p>\n",
       "</div>"
      ],
      "text/plain": [
       "Participant_LGA   adelaide  adelaide hills  adelaide plains  alexandrina  \\\n",
       "australian rules     130.0          1412.0            485.0        980.0   \n",
       "\n",
       "Participant_LGA   barossa  barunga west  berri barmera  burnside  \\\n",
       "australian rules   1196.0          86.0          545.0     747.0   \n",
       "\n",
       "Participant_LGA   campbelltown  ceduna  ...  unley  victor harbor  wakefield  \\\n",
       "australian rules        1186.0   211.0  ...  900.0          368.0      402.0   \n",
       "\n",
       "Participant_LGA   walkerville  wattle range  west torrens  whyalla  wudinna  \\\n",
       "australian rules        146.0         652.0         907.0    569.0     44.0   \n",
       "\n",
       "Participant_LGA   yankalilla  yorke peninsula  \n",
       "australian rules       214.0            309.0  \n",
       "\n",
       "[1 rows x 69 columns]"
      ]
     },
     "execution_count": 36,
     "metadata": {},
     "output_type": "execute_result"
    }
   ],
   "source": [
    "(pivot['australian rules'].to_frame().transpose())"
   ]
  },
  {
   "cell_type": "markdown",
   "metadata": {},
   "source": [
    "\n",
    "\n",
    "**QUESTION**\n",
    "***\n",
    "```\n",
    "i'm trying to make a single stacked hbar plot to indicate how much the top 5 lgas contribute to the specified sport. The remaining sports are classified as 'other'\n",
    "\n",
    "```\n",
    "***"
   ]
  },
  {
   "cell_type": "code",
   "execution_count": 37,
   "metadata": {},
   "outputs": [
    {
     "ename": "NameError",
     "evalue": "name 'myList' is not defined",
     "output_type": "error",
     "traceback": [
      "\u001b[1;31m---------------------------------------------------------------------------\u001b[0m",
      "\u001b[1;31mNameError\u001b[0m                                 Traceback (most recent call last)",
      "\u001b[1;32m<ipython-input-37-d0eb24057593>\u001b[0m in \u001b[0;36m<module>\u001b[1;34m\u001b[0m\n\u001b[1;32m----> 1\u001b[1;33m \u001b[0mtest\u001b[0m \u001b[1;33m=\u001b[0m \u001b[0mpivot\u001b[0m\u001b[1;33m[\u001b[0m\u001b[1;34m'australian rules'\u001b[0m\u001b[1;33m]\u001b[0m\u001b[1;33m.\u001b[0m\u001b[0mto_frame\u001b[0m\u001b[1;33m(\u001b[0m\u001b[1;33m)\u001b[0m\u001b[1;33m.\u001b[0m\u001b[0mtranspose\u001b[0m\u001b[1;33m(\u001b[0m\u001b[1;33m)\u001b[0m\u001b[1;33m[\u001b[0m\u001b[0mmyList\u001b[0m\u001b[1;33m]\u001b[0m\u001b[1;33m\u001b[0m\u001b[1;33m\u001b[0m\u001b[0m\n\u001b[0m",
      "\u001b[1;31mNameError\u001b[0m: name 'myList' is not defined"
     ]
    }
   ],
   "source": [
    "test = pivot['australian rules'].to_frame().transpose()[myList]"
   ]
  },
  {
   "cell_type": "code",
   "execution_count": null,
   "metadata": {},
   "outputs": [],
   "source": [
    "otherSum"
   ]
  },
  {
   "cell_type": "code",
   "execution_count": 38,
   "metadata": {},
   "outputs": [
    {
     "ename": "TypeError",
     "evalue": "Index(...) must be called with a collection of some kind, 'australian rules' was passed",
     "output_type": "error",
     "traceback": [
      "\u001b[1;31m---------------------------------------------------------------------------\u001b[0m",
      "\u001b[1;31mTypeError\u001b[0m                                 Traceback (most recent call last)",
      "\u001b[1;32m<ipython-input-38-3fcf845e4742>\u001b[0m in \u001b[0;36m<module>\u001b[1;34m\u001b[0m\n\u001b[1;32m----> 1\u001b[1;33m \u001b[0motherDF\u001b[0m \u001b[1;33m=\u001b[0m \u001b[0mpd\u001b[0m\u001b[1;33m.\u001b[0m\u001b[0mDataFrame\u001b[0m\u001b[1;33m(\u001b[0m\u001b[1;33m{\u001b[0m\u001b[1;34m'other'\u001b[0m\u001b[1;33m:\u001b[0m\u001b[1;33m[\u001b[0m\u001b[0motherSum\u001b[0m\u001b[1;33m]\u001b[0m\u001b[1;33m}\u001b[0m\u001b[1;33m,\u001b[0m \u001b[0mindex\u001b[0m \u001b[1;33m=\u001b[0m \u001b[1;34m'australian rules'\u001b[0m\u001b[1;33m)\u001b[0m\u001b[1;33m\u001b[0m\u001b[1;33m\u001b[0m\u001b[0m\n\u001b[0m",
      "\u001b[1;32m~\\anaconda3\\lib\\site-packages\\pandas\\core\\frame.py\u001b[0m in \u001b[0;36m__init__\u001b[1;34m(self, data, index, columns, dtype, copy)\u001b[0m\n\u001b[0;32m    433\u001b[0m             )\n\u001b[0;32m    434\u001b[0m         \u001b[1;32melif\u001b[0m \u001b[0misinstance\u001b[0m\u001b[1;33m(\u001b[0m\u001b[0mdata\u001b[0m\u001b[1;33m,\u001b[0m \u001b[0mdict\u001b[0m\u001b[1;33m)\u001b[0m\u001b[1;33m:\u001b[0m\u001b[1;33m\u001b[0m\u001b[1;33m\u001b[0m\u001b[0m\n\u001b[1;32m--> 435\u001b[1;33m             \u001b[0mmgr\u001b[0m \u001b[1;33m=\u001b[0m \u001b[0minit_dict\u001b[0m\u001b[1;33m(\u001b[0m\u001b[0mdata\u001b[0m\u001b[1;33m,\u001b[0m \u001b[0mindex\u001b[0m\u001b[1;33m,\u001b[0m \u001b[0mcolumns\u001b[0m\u001b[1;33m,\u001b[0m \u001b[0mdtype\u001b[0m\u001b[1;33m=\u001b[0m\u001b[0mdtype\u001b[0m\u001b[1;33m)\u001b[0m\u001b[1;33m\u001b[0m\u001b[1;33m\u001b[0m\u001b[0m\n\u001b[0m\u001b[0;32m    436\u001b[0m         \u001b[1;32melif\u001b[0m \u001b[0misinstance\u001b[0m\u001b[1;33m(\u001b[0m\u001b[0mdata\u001b[0m\u001b[1;33m,\u001b[0m \u001b[0mma\u001b[0m\u001b[1;33m.\u001b[0m\u001b[0mMaskedArray\u001b[0m\u001b[1;33m)\u001b[0m\u001b[1;33m:\u001b[0m\u001b[1;33m\u001b[0m\u001b[1;33m\u001b[0m\u001b[0m\n\u001b[0;32m    437\u001b[0m             \u001b[1;32mimport\u001b[0m \u001b[0mnumpy\u001b[0m\u001b[1;33m.\u001b[0m\u001b[0mma\u001b[0m\u001b[1;33m.\u001b[0m\u001b[0mmrecords\u001b[0m \u001b[1;32mas\u001b[0m \u001b[0mmrecords\u001b[0m\u001b[1;33m\u001b[0m\u001b[1;33m\u001b[0m\u001b[0m\n",
      "\u001b[1;32m~\\anaconda3\\lib\\site-packages\\pandas\\core\\internals\\construction.py\u001b[0m in \u001b[0;36minit_dict\u001b[1;34m(data, index, columns, dtype)\u001b[0m\n\u001b[0;32m    252\u001b[0m             \u001b[0marr\u001b[0m \u001b[1;32mif\u001b[0m \u001b[1;32mnot\u001b[0m \u001b[0mis_datetime64tz_dtype\u001b[0m\u001b[1;33m(\u001b[0m\u001b[0marr\u001b[0m\u001b[1;33m)\u001b[0m \u001b[1;32melse\u001b[0m \u001b[0marr\u001b[0m\u001b[1;33m.\u001b[0m\u001b[0mcopy\u001b[0m\u001b[1;33m(\u001b[0m\u001b[1;33m)\u001b[0m \u001b[1;32mfor\u001b[0m \u001b[0marr\u001b[0m \u001b[1;32min\u001b[0m \u001b[0marrays\u001b[0m\u001b[1;33m\u001b[0m\u001b[1;33m\u001b[0m\u001b[0m\n\u001b[0;32m    253\u001b[0m         ]\n\u001b[1;32m--> 254\u001b[1;33m     \u001b[1;32mreturn\u001b[0m \u001b[0marrays_to_mgr\u001b[0m\u001b[1;33m(\u001b[0m\u001b[0marrays\u001b[0m\u001b[1;33m,\u001b[0m \u001b[0mdata_names\u001b[0m\u001b[1;33m,\u001b[0m \u001b[0mindex\u001b[0m\u001b[1;33m,\u001b[0m \u001b[0mcolumns\u001b[0m\u001b[1;33m,\u001b[0m \u001b[0mdtype\u001b[0m\u001b[1;33m=\u001b[0m\u001b[0mdtype\u001b[0m\u001b[1;33m)\u001b[0m\u001b[1;33m\u001b[0m\u001b[1;33m\u001b[0m\u001b[0m\n\u001b[0m\u001b[0;32m    255\u001b[0m \u001b[1;33m\u001b[0m\u001b[0m\n\u001b[0;32m    256\u001b[0m \u001b[1;33m\u001b[0m\u001b[0m\n",
      "\u001b[1;32m~\\anaconda3\\lib\\site-packages\\pandas\\core\\internals\\construction.py\u001b[0m in \u001b[0;36marrays_to_mgr\u001b[1;34m(arrays, arr_names, index, columns, dtype)\u001b[0m\n\u001b[0;32m     64\u001b[0m         \u001b[0mindex\u001b[0m \u001b[1;33m=\u001b[0m \u001b[0mextract_index\u001b[0m\u001b[1;33m(\u001b[0m\u001b[0marrays\u001b[0m\u001b[1;33m)\u001b[0m\u001b[1;33m\u001b[0m\u001b[1;33m\u001b[0m\u001b[0m\n\u001b[0;32m     65\u001b[0m     \u001b[1;32melse\u001b[0m\u001b[1;33m:\u001b[0m\u001b[1;33m\u001b[0m\u001b[1;33m\u001b[0m\u001b[0m\n\u001b[1;32m---> 66\u001b[1;33m         \u001b[0mindex\u001b[0m \u001b[1;33m=\u001b[0m \u001b[0mensure_index\u001b[0m\u001b[1;33m(\u001b[0m\u001b[0mindex\u001b[0m\u001b[1;33m)\u001b[0m\u001b[1;33m\u001b[0m\u001b[1;33m\u001b[0m\u001b[0m\n\u001b[0m\u001b[0;32m     67\u001b[0m \u001b[1;33m\u001b[0m\u001b[0m\n\u001b[0;32m     68\u001b[0m     \u001b[1;31m# don't force copy because getting jammed in an ndarray anyway\u001b[0m\u001b[1;33m\u001b[0m\u001b[1;33m\u001b[0m\u001b[1;33m\u001b[0m\u001b[0m\n",
      "\u001b[1;32m~\\anaconda3\\lib\\site-packages\\pandas\\core\\indexes\\base.py\u001b[0m in \u001b[0;36mensure_index\u001b[1;34m(index_like, copy)\u001b[0m\n\u001b[0;32m   5356\u001b[0m             \u001b[0mindex_like\u001b[0m \u001b[1;33m=\u001b[0m \u001b[0mcopy\u001b[0m\u001b[1;33m(\u001b[0m\u001b[0mindex_like\u001b[0m\u001b[1;33m)\u001b[0m\u001b[1;33m\u001b[0m\u001b[1;33m\u001b[0m\u001b[0m\n\u001b[0;32m   5357\u001b[0m \u001b[1;33m\u001b[0m\u001b[0m\n\u001b[1;32m-> 5358\u001b[1;33m     \u001b[1;32mreturn\u001b[0m \u001b[0mIndex\u001b[0m\u001b[1;33m(\u001b[0m\u001b[0mindex_like\u001b[0m\u001b[1;33m)\u001b[0m\u001b[1;33m\u001b[0m\u001b[1;33m\u001b[0m\u001b[0m\n\u001b[0m\u001b[0;32m   5359\u001b[0m \u001b[1;33m\u001b[0m\u001b[0m\n\u001b[0;32m   5360\u001b[0m \u001b[1;33m\u001b[0m\u001b[0m\n",
      "\u001b[1;32m~\\anaconda3\\lib\\site-packages\\pandas\\core\\indexes\\base.py\u001b[0m in \u001b[0;36m__new__\u001b[1;34m(cls, data, dtype, copy, name, tupleize_cols, **kwargs)\u001b[0m\n\u001b[0;32m    420\u001b[0m             \u001b[1;32mreturn\u001b[0m \u001b[0mIndex\u001b[0m\u001b[1;33m(\u001b[0m\u001b[0mnp\u001b[0m\u001b[1;33m.\u001b[0m\u001b[0masarray\u001b[0m\u001b[1;33m(\u001b[0m\u001b[0mdata\u001b[0m\u001b[1;33m)\u001b[0m\u001b[1;33m,\u001b[0m \u001b[0mdtype\u001b[0m\u001b[1;33m=\u001b[0m\u001b[0mdtype\u001b[0m\u001b[1;33m,\u001b[0m \u001b[0mcopy\u001b[0m\u001b[1;33m=\u001b[0m\u001b[0mcopy\u001b[0m\u001b[1;33m,\u001b[0m \u001b[0mname\u001b[0m\u001b[1;33m=\u001b[0m\u001b[0mname\u001b[0m\u001b[1;33m,\u001b[0m \u001b[1;33m**\u001b[0m\u001b[0mkwargs\u001b[0m\u001b[1;33m)\u001b[0m\u001b[1;33m\u001b[0m\u001b[1;33m\u001b[0m\u001b[0m\n\u001b[0;32m    421\u001b[0m         \u001b[1;32melif\u001b[0m \u001b[0mdata\u001b[0m \u001b[1;32mis\u001b[0m \u001b[1;32mNone\u001b[0m \u001b[1;32mor\u001b[0m \u001b[0mis_scalar\u001b[0m\u001b[1;33m(\u001b[0m\u001b[0mdata\u001b[0m\u001b[1;33m)\u001b[0m\u001b[1;33m:\u001b[0m\u001b[1;33m\u001b[0m\u001b[1;33m\u001b[0m\u001b[0m\n\u001b[1;32m--> 422\u001b[1;33m             \u001b[1;32mraise\u001b[0m \u001b[0mcls\u001b[0m\u001b[1;33m.\u001b[0m\u001b[0m_scalar_data_error\u001b[0m\u001b[1;33m(\u001b[0m\u001b[0mdata\u001b[0m\u001b[1;33m)\u001b[0m\u001b[1;33m\u001b[0m\u001b[1;33m\u001b[0m\u001b[0m\n\u001b[0m\u001b[0;32m    423\u001b[0m         \u001b[1;32melse\u001b[0m\u001b[1;33m:\u001b[0m\u001b[1;33m\u001b[0m\u001b[1;33m\u001b[0m\u001b[0m\n\u001b[0;32m    424\u001b[0m             \u001b[1;32mif\u001b[0m \u001b[0mtupleize_cols\u001b[0m \u001b[1;32mand\u001b[0m \u001b[0mis_list_like\u001b[0m\u001b[1;33m(\u001b[0m\u001b[0mdata\u001b[0m\u001b[1;33m)\u001b[0m\u001b[1;33m:\u001b[0m\u001b[1;33m\u001b[0m\u001b[1;33m\u001b[0m\u001b[0m\n",
      "\u001b[1;31mTypeError\u001b[0m: Index(...) must be called with a collection of some kind, 'australian rules' was passed"
     ]
    }
   ],
   "source": [
    "otherDF = pd.DataFrame({'other':[otherSum]}, index = 'australian rules')"
   ]
  },
  {
   "cell_type": "code",
   "execution_count": 240,
   "metadata": {},
   "outputs": [
    {
     "data": {
      "text/html": [
       "<div>\n",
       "<style scoped>\n",
       "    .dataframe tbody tr th:only-of-type {\n",
       "        vertical-align: middle;\n",
       "    }\n",
       "\n",
       "    .dataframe tbody tr th {\n",
       "        vertical-align: top;\n",
       "    }\n",
       "\n",
       "    .dataframe thead th {\n",
       "        text-align: right;\n",
       "    }\n",
       "</style>\n",
       "<table border=\"1\" class=\"dataframe\">\n",
       "  <thead>\n",
       "    <tr style=\"text-align: right;\">\n",
       "      <th></th>\n",
       "      <th>other</th>\n",
       "    </tr>\n",
       "  </thead>\n",
       "  <tbody>\n",
       "    <tr>\n",
       "      <th>0</th>\n",
       "      <td>31715.0</td>\n",
       "    </tr>\n",
       "  </tbody>\n",
       "</table>\n",
       "</div>"
      ],
      "text/plain": [
       "     other\n",
       "0  31715.0"
      ]
     },
     "execution_count": 240,
     "metadata": {},
     "output_type": "execute_result"
    }
   ],
   "source": [
    "otherDF\n"
   ]
  },
  {
   "cell_type": "code",
   "execution_count": 249,
   "metadata": {},
   "outputs": [
    {
     "data": {
      "text/html": [
       "<div>\n",
       "<style scoped>\n",
       "    .dataframe tbody tr th:only-of-type {\n",
       "        vertical-align: middle;\n",
       "    }\n",
       "\n",
       "    .dataframe tbody tr th {\n",
       "        vertical-align: top;\n",
       "    }\n",
       "\n",
       "    .dataframe thead th {\n",
       "        text-align: right;\n",
       "    }\n",
       "</style>\n",
       "<table border=\"1\" class=\"dataframe\">\n",
       "  <thead>\n",
       "    <tr style=\"text-align: right;\">\n",
       "      <th>Participant_LGA</th>\n",
       "      <th>onkaparinga</th>\n",
       "      <th>salisbury</th>\n",
       "      <th>playford</th>\n",
       "      <th>port adelaide enfield</th>\n",
       "      <th>marion</th>\n",
       "    </tr>\n",
       "  </thead>\n",
       "  <tbody>\n",
       "    <tr>\n",
       "      <th>australian rules</th>\n",
       "      <td>5258.0</td>\n",
       "      <td>2856.0</td>\n",
       "      <td>2580.0</td>\n",
       "      <td>2453.0</td>\n",
       "      <td>2362.0</td>\n",
       "    </tr>\n",
       "  </tbody>\n",
       "</table>\n",
       "</div>"
      ],
      "text/plain": [
       "Participant_LGA   onkaparinga  salisbury  playford  port adelaide enfield  \\\n",
       "australian rules       5258.0     2856.0    2580.0                 2453.0   \n",
       "\n",
       "Participant_LGA   marion  \n",
       "australian rules  2362.0  "
      ]
     },
     "execution_count": 249,
     "metadata": {},
     "output_type": "execute_result"
    }
   ],
   "source": [
    "test.append(otherDF)"
   ]
  },
  {
   "cell_type": "code",
   "execution_count": 229,
   "metadata": {},
   "outputs": [],
   "source": [
    "myList = list(pivot['australian rules'].nlargest(5).sort_values(ascending=False).index)"
   ]
  },
  {
   "cell_type": "code",
   "execution_count": 196,
   "metadata": {},
   "outputs": [
    {
     "data": {
      "text/plain": [
       "<matplotlib.axes._subplots.AxesSubplot at 0x17f9c8b4fd0>"
      ]
     },
     "execution_count": 196,
     "metadata": {},
     "output_type": "execute_result"
    },
    {
     "data": {
      "image/png": "[encoded data removed]",
      "text/plain": [
       "<Figure size 432x288 with 1 Axes>"
      ]
     },
     "metadata": {},
     "output_type": "display_data"
    }
   ],
   "source": [
    "sns.set_theme(style=\"whitegrid\")\n",
    "# fig, axes = plt.subplots(2,1, figsize=(12, 5))\n",
    "\n",
    "\n",
    "# pivot['australian rules'].to_frame().transpose().plot.barh(stacked=True,style='b', alpha=0.7,\n",
    "#               title='Most popular sports in Onkaparinga')\n",
    "\n",
    "pivot['australian rules'].to_frame().transpose()[myList].plot.barh(stacked=True,style='b', alpha=0.7,\n",
    "              title='Most popular sports in Onkaparinga')\n",
    "\n",
    "# pivot.loc['onkaparinga'][topSports].sort_values().plot(kind='barh', style='b', alpha=0.7,\n",
    "#               title='The overall top sports in Onkarparinga', ax = axes[1])\n",
    "\n",
    "# plt.tight_layout()"
   ]
  },
  {
   "cell_type": "markdown",
   "metadata": {},
   "source": [
    "# Question 2"
   ]
  },
  {
   "cell_type": "markdown",
   "metadata": {},
   "source": [
    "Are some sports more popular in different parts of the state?"
   ]
  },
  {
   "cell_type": "markdown",
   "metadata": {},
   "source": [
    "We have the ranking for each sport, so we can sort them to see which LGA is most popular. "
   ]
  },
  {
   "cell_type": "raw",
   "metadata": {},
   "source": [
    "rank['archery'].sort_values().nsmallest(5)"
   ]
  },
  {
   "cell_type": "markdown",
   "metadata": {},
   "source": [
    "Perhaps we can use a for loop for plotting the popluarity of each sport. Do we want to plot all the sports or just the top ten sports? "
   ]
  },
  {
   "cell_type": "raw",
   "metadata": {},
   "source": [
    "pivot.archery.sort_values().nlargest(5)"
   ]
  },
  {
   "cell_type": "raw",
   "metadata": {},
   "source": [
    "for i in topSports: \n",
    "    print(rank[i].sort_values().nsmallest(5))\n",
    "    print('')\n",
    "    print(pivot[i].sort_values().nlargest(5))\n",
    "    print('----------------------------------')\n",
    "\n"
   ]
  },
  {
   "cell_type": "raw",
   "metadata": {},
   "source": [
    "len(topSports)"
   ]
  },
  {
   "cell_type": "raw",
   "metadata": {},
   "source": [
    "sns.set_theme(style=\"whitegrid\")\n",
    "fig = plt.figure(figsize=(12, 5))\n",
    "\n",
    "my_colors = ['b', 'r', 'g', 'y', 'm']\n",
    "\n",
    "for i in topSports:\n",
    "\n",
    "    pivot[i].sort_values().nlargest(5).plot(kind='barh', style='b', alpha=0.7,\n",
    "                  title='Top sports in LGA with most claimed vouchers')\n",
    "    "
   ]
  },
  {
   "cell_type": "raw",
   "metadata": {},
   "source": [
    "sns.set_theme(style=\"whitegrid\")\n",
    "fig = plt.figure(figsize=(12, 5))\n",
    "\n",
    "my_colors = ['b', 'r', 'g', 'y', 'm']\n",
    "\n",
    "for i in topSports:\n",
    "\n",
    "    ax = pivot[i].sort_values().nlargest(5).plot(kind='barh', stacked=True, color=my_colors, figsize=(12, 6))\n",
    "    \n",
    "    ax.legend(loc='center left', bbox_to_anchor=(1, 0.5))\n",
    "# plt.savefig('Value_Time_Country.png', dpi=300, bbox_inches='tight')"
   ]
  },
  {
   "cell_type": "markdown",
   "metadata": {},
   "source": [
    "\n",
    "**QUESTIONS** \n",
    "***\n",
    "**1.**\n",
    "trying to get these stacked like in https://seaborn.pydata.org/examples/part_whole_bars.html\n",
    "\n",
    "below is the plots separately, but i want them all together\n",
    "\n",
    "**2.** had to use extend multiple times to plot them together.\n",
    "\n",
    "**3.** I have the total number of vouchers claimed per LGA. If I want to keep the top 5 individually then put the rest as 'other'? \n",
    "\n",
    "**4.** need help understanding how to normalise\n",
    "***"
   ]
  },
  {
   "cell_type": "code",
   "execution_count": 39,
   "metadata": {},
   "outputs": [
    {
     "data": {
      "text/plain": [
       "['netball', 'basketball', 'swimming', 'australian rules', 'football (soccer)']"
      ]
     },
     "execution_count": 39,
     "metadata": {},
     "output_type": "execute_result"
    }
   ],
   "source": [
    "topSports"
   ]
  },
  {
   "cell_type": "code",
   "execution_count": 40,
   "metadata": {},
   "outputs": [],
   "source": [
    "netball = pivot[topSports[0]].sort_values().nlargest(5)\n",
    "swimming =pivot[topSports[1]].sort_values().nlargest(5)\n",
    "soccer= pivot[topSports[2]].sort_values().nlargest(5)\n",
    "afl= pivot[topSports[3]].sort_values().nlargest(5)\n",
    "basketball = pivot[topSports[4]].sort_values().nlargest(5)"
   ]
  },
  {
   "cell_type": "code",
   "execution_count": 41,
   "metadata": {},
   "outputs": [],
   "source": [
    "list1 = list(netball.index.values)\n",
    "list2 = list(swimming.index.values)\n",
    "list3 = list(soccer.index.values)\n",
    "list4 = list(afl.index.values)\n",
    "list5 = list(basketball.index.values)\n",
    "\n",
    "# mylist = list1.concatenate([list2, list3, list4, list5])"
   ]
  },
  {
   "cell_type": "code",
   "execution_count": 42,
   "metadata": {},
   "outputs": [
    {
     "data": {
      "text/plain": [
       "{'adelaide hills', 'mount barker', 'onkaparinga', 'playford', 'tea tree gully'}"
      ]
     },
     "execution_count": 42,
     "metadata": {},
     "output_type": "execute_result"
    }
   ],
   "source": [
    "set(list1)"
   ]
  },
  {
   "cell_type": "code",
   "execution_count": 43,
   "metadata": {},
   "outputs": [],
   "source": [
    "list1.extend(list2)"
   ]
  },
  {
   "cell_type": "code",
   "execution_count": 44,
   "metadata": {},
   "outputs": [],
   "source": [
    "list1.extend(list3)"
   ]
  },
  {
   "cell_type": "code",
   "execution_count": 45,
   "metadata": {},
   "outputs": [],
   "source": [
    "list1.extend(list4)"
   ]
  },
  {
   "cell_type": "code",
   "execution_count": 46,
   "metadata": {},
   "outputs": [],
   "source": [
    "list1.extend(list5)"
   ]
  },
  {
   "cell_type": "code",
   "execution_count": 61,
   "metadata": {},
   "outputs": [
    {
     "data": {
      "text/plain": [
       "Participant_LGA\n",
       "onkaparinga          12782.0\n",
       "salisbury             8169.0\n",
       "tea tree gully        7219.0\n",
       "playford              6940.0\n",
       "charles sturt         6897.0\n",
       "                      ...   \n",
       "franklin harbour       155.0\n",
       "orroroo/carrieton      137.0\n",
       "flinders ranges        102.0\n",
       "peterborough            45.0\n",
       "coober pedy             39.0\n",
       "Length: 69, dtype: float64"
      ]
     },
     "execution_count": 61,
     "metadata": {},
     "output_type": "execute_result"
    }
   ],
   "source": [
    "totalClaimed.sort_values(ascending=False)"
   ]
  },
  {
   "cell_type": "code",
   "execution_count": 52,
   "metadata": {},
   "outputs": [
    {
     "data": {
      "text/html": [
       "<div>\n",
       "<style scoped>\n",
       "    .dataframe tbody tr th:only-of-type {\n",
       "        vertical-align: middle;\n",
       "    }\n",
       "\n",
       "    .dataframe tbody tr th {\n",
       "        vertical-align: top;\n",
       "    }\n",
       "\n",
       "    .dataframe thead th {\n",
       "        text-align: right;\n",
       "    }\n",
       "</style>\n",
       "<table border=\"1\" class=\"dataframe\">\n",
       "  <thead>\n",
       "    <tr style=\"text-align: right;\">\n",
       "      <th>Voucher_Sport</th>\n",
       "      <th>netball</th>\n",
       "      <th>basketball</th>\n",
       "      <th>swimming</th>\n",
       "      <th>australian rules</th>\n",
       "      <th>football (soccer)</th>\n",
       "    </tr>\n",
       "    <tr>\n",
       "      <th>Participant_LGA</th>\n",
       "      <th></th>\n",
       "      <th></th>\n",
       "      <th></th>\n",
       "      <th></th>\n",
       "      <th></th>\n",
       "    </tr>\n",
       "  </thead>\n",
       "  <tbody>\n",
       "    <tr>\n",
       "      <th>tea tree gully</th>\n",
       "      <td>1068.0</td>\n",
       "      <td>284.0</td>\n",
       "      <td>78.0</td>\n",
       "      <td>2131.0</td>\n",
       "      <td>1356.0</td>\n",
       "    </tr>\n",
       "    <tr>\n",
       "      <th>salisbury</th>\n",
       "      <td>566.0</td>\n",
       "      <td>362.0</td>\n",
       "      <td>99.0</td>\n",
       "      <td>2856.0</td>\n",
       "      <td>2069.0</td>\n",
       "    </tr>\n",
       "    <tr>\n",
       "      <th>whyalla</th>\n",
       "      <td>509.0</td>\n",
       "      <td>605.0</td>\n",
       "      <td>8.0</td>\n",
       "      <td>569.0</td>\n",
       "      <td>268.0</td>\n",
       "    </tr>\n",
       "    <tr>\n",
       "      <th>port augusta</th>\n",
       "      <td>765.0</td>\n",
       "      <td>364.0</td>\n",
       "      <td>18.0</td>\n",
       "      <td>119.0</td>\n",
       "      <td>111.0</td>\n",
       "    </tr>\n",
       "    <tr>\n",
       "      <th>adelaide hills</th>\n",
       "      <td>1395.0</td>\n",
       "      <td>48.0</td>\n",
       "      <td>18.0</td>\n",
       "      <td>1412.0</td>\n",
       "      <td>812.0</td>\n",
       "    </tr>\n",
       "    <tr>\n",
       "      <th>west torrens</th>\n",
       "      <td>268.0</td>\n",
       "      <td>70.0</td>\n",
       "      <td>80.0</td>\n",
       "      <td>907.0</td>\n",
       "      <td>425.0</td>\n",
       "    </tr>\n",
       "    <tr>\n",
       "      <th>marion</th>\n",
       "      <td>723.0</td>\n",
       "      <td>101.0</td>\n",
       "      <td>10.0</td>\n",
       "      <td>2362.0</td>\n",
       "      <td>203.0</td>\n",
       "    </tr>\n",
       "    <tr>\n",
       "      <th>charles sturt</th>\n",
       "      <td>584.0</td>\n",
       "      <td>256.0</td>\n",
       "      <td>111.0</td>\n",
       "      <td>2147.0</td>\n",
       "      <td>917.0</td>\n",
       "    </tr>\n",
       "    <tr>\n",
       "      <th>naracoorte lucindale</th>\n",
       "      <td>165.0</td>\n",
       "      <td>364.0</td>\n",
       "      <td>0.0</td>\n",
       "      <td>257.0</td>\n",
       "      <td>57.0</td>\n",
       "    </tr>\n",
       "    <tr>\n",
       "      <th>franklin harbour</th>\n",
       "      <td>34.0</td>\n",
       "      <td>0.0</td>\n",
       "      <td>79.0</td>\n",
       "      <td>42.0</td>\n",
       "      <td>0.0</td>\n",
       "    </tr>\n",
       "    <tr>\n",
       "      <th>barossa</th>\n",
       "      <td>445.0</td>\n",
       "      <td>341.0</td>\n",
       "      <td>12.0</td>\n",
       "      <td>1196.0</td>\n",
       "      <td>197.0</td>\n",
       "    </tr>\n",
       "    <tr>\n",
       "      <th>port adelaide enfield</th>\n",
       "      <td>630.0</td>\n",
       "      <td>243.0</td>\n",
       "      <td>199.0</td>\n",
       "      <td>2453.0</td>\n",
       "      <td>853.0</td>\n",
       "    </tr>\n",
       "    <tr>\n",
       "      <th>mount barker</th>\n",
       "      <td>880.0</td>\n",
       "      <td>147.0</td>\n",
       "      <td>12.0</td>\n",
       "      <td>1230.0</td>\n",
       "      <td>333.0</td>\n",
       "    </tr>\n",
       "    <tr>\n",
       "      <th>playford</th>\n",
       "      <td>904.0</td>\n",
       "      <td>111.0</td>\n",
       "      <td>27.0</td>\n",
       "      <td>2580.0</td>\n",
       "      <td>1880.0</td>\n",
       "    </tr>\n",
       "    <tr>\n",
       "      <th>onkaparinga</th>\n",
       "      <td>2242.0</td>\n",
       "      <td>296.0</td>\n",
       "      <td>8.0</td>\n",
       "      <td>5258.0</td>\n",
       "      <td>1204.0</td>\n",
       "    </tr>\n",
       "  </tbody>\n",
       "</table>\n",
       "</div>"
      ],
      "text/plain": [
       "Voucher_Sport          netball  basketball  swimming  australian rules  \\\n",
       "Participant_LGA                                                          \n",
       "tea tree gully          1068.0       284.0      78.0            2131.0   \n",
       "salisbury                566.0       362.0      99.0            2856.0   \n",
       "whyalla                  509.0       605.0       8.0             569.0   \n",
       "port augusta             765.0       364.0      18.0             119.0   \n",
       "adelaide hills          1395.0        48.0      18.0            1412.0   \n",
       "west torrens             268.0        70.0      80.0             907.0   \n",
       "marion                   723.0       101.0      10.0            2362.0   \n",
       "charles sturt            584.0       256.0     111.0            2147.0   \n",
       "naracoorte lucindale     165.0       364.0       0.0             257.0   \n",
       "franklin harbour          34.0         0.0      79.0              42.0   \n",
       "barossa                  445.0       341.0      12.0            1196.0   \n",
       "port adelaide enfield    630.0       243.0     199.0            2453.0   \n",
       "mount barker             880.0       147.0      12.0            1230.0   \n",
       "playford                 904.0       111.0      27.0            2580.0   \n",
       "onkaparinga             2242.0       296.0       8.0            5258.0   \n",
       "\n",
       "Voucher_Sport          football (soccer)  \n",
       "Participant_LGA                           \n",
       "tea tree gully                    1356.0  \n",
       "salisbury                         2069.0  \n",
       "whyalla                            268.0  \n",
       "port augusta                       111.0  \n",
       "adelaide hills                     812.0  \n",
       "west torrens                       425.0  \n",
       "marion                             203.0  \n",
       "charles sturt                      917.0  \n",
       "naracoorte lucindale                57.0  \n",
       "franklin harbour                     0.0  \n",
       "barossa                            197.0  \n",
       "port adelaide enfield              853.0  \n",
       "mount barker                       333.0  \n",
       "playford                          1880.0  \n",
       "onkaparinga                       1204.0  "
      ]
     },
     "execution_count": 52,
     "metadata": {},
     "output_type": "execute_result"
    }
   ],
   "source": [
    "pivot_top[topSports]"
   ]
  },
  {
   "cell_type": "code",
   "execution_count": 48,
   "metadata": {},
   "outputs": [
    {
     "data": {
      "text/plain": [
       "<matplotlib.axes._subplots.AxesSubplot at 0x2bdc0d3d580>"
      ]
     },
     "execution_count": 48,
     "metadata": {},
     "output_type": "execute_result"
    },
    {
     "data": {
      "text/plain": [
       "<Figure size 1080x720 with 0 Axes>"
      ]
     },
     "metadata": {},
     "output_type": "display_data"
    },
    {
     "data": {
      "image/png": "[encoded data removed]",
      "text/plain": [
       "<Figure size 432x288 with 1 Axes>"
      ]
     },
     "metadata": {},
     "output_type": "display_data"
    }
   ],
   "source": [
    "plt.figure(figsize=(15,10))\n",
    "\n",
    "pivot_top = pivot.loc[set(list1)] \n",
    "\n",
    "pivot_top[topSports].plot.barh(stacked=True)\n"
   ]
  },
  {
   "cell_type": "markdown",
   "metadata": {},
   "source": [
    "try the normalised charts https://altair-viz.github.io/gallery/normalized_stacked_bar_chart.html\n",
    "\n",
    "check out matrix plot. one axis is lga and the other its the sport \n",
    "\n",
    "since it's not normalised, we don't know the proportions/ popularity\n",
    "\n",
    "should consider 'other sports' for the less popular sports. "
   ]
  },
  {
   "cell_type": "markdown",
   "metadata": {},
   "source": [
    "**trying matrix / heatmap** "
   ]
  },
  {
   "cell_type": "code",
   "execution_count": 51,
   "metadata": {},
   "outputs": [
    {
     "data": {
      "text/plain": [
       "<matplotlib.axes._subplots.AxesSubplot at 0x2bdc1002ac0>"
      ]
     },
     "execution_count": 51,
     "metadata": {},
     "output_type": "execute_result"
    },
    {
     "data": {
      "image/png": "[encoded data removed]",
      "text/plain": [
       "<Figure size 432x288 with 2 Axes>"
      ]
     },
     "metadata": {},
     "output_type": "display_data"
    }
   ],
   "source": [
    "sns.heatmap(pivot_top[topSports])"
   ]
  },
  {
   "cell_type": "markdown",
   "metadata": {
    "heading_collapsed": true
   },
   "source": [
    "### plotting separately"
   ]
  },
  {
   "cell_type": "code",
   "execution_count": null,
   "metadata": {},
   "outputs": [],
   "source": []
  },
  {
   "cell_type": "raw",
   "metadata": {
    "hidden": true
   },
   "source": [
    "sns.set_theme(style=\"whitegrid\")\n",
    "fig = plt.figure(figsize=(12, 5))\n",
    "# fig, axes = plt.subplots(5, 1)\n",
    "\n",
    "my_colors = ['b', 'r', 'g', 'y', 'm']\n",
    "\n",
    "\n",
    "netball.plot(kind='barh',stacked=True, color='r', figsize=(12, 6))\n",
    "# swimming.plot(kind='barh',stacked=True, color='b',figsize=(12, 6))\n",
    "\n",
    "# soccer.plot(kind='barh',stacked=True, color='g',figsize=(12, 6))\n",
    "\n",
    "# afl.plot(kind='barh',stacked=True, color='y',figsize=(12, 6))\n",
    "\n",
    "# basketball.plot(kind='barh',stacked=True, color='m',figsize=(12, 6))\n",
    "\n",
    "\n",
    "plt.legend()"
   ]
  },
  {
   "cell_type": "raw",
   "metadata": {
    "hidden": true
   },
   "source": [
    "sns.set_theme(style=\"whitegrid\")\n",
    "fig = plt.figure(figsize=(12, 5))\n",
    "# fig, axes = plt.subplots(5, 1)\n",
    "\n",
    "my_colors = ['b', 'r', 'g', 'y', 'm']\n",
    "\n",
    "\n",
    "# netball.plot(kind='barh',stacked=True, color='r', figsize=(12, 6))\n",
    "swimming.plot(kind='barh',stacked=True, color='b',figsize=(12, 6))\n",
    "\n",
    "# soccer.plot(kind='barh',stacked=True, color='g',figsize=(12, 6))\n",
    "\n",
    "# afl.plot(kind='barh',stacked=True, color='y',figsize=(12, 6))\n",
    "\n",
    "# basketball.plot(kind='barh',stacked=True, color='m',figsize=(12, 6))\n",
    "\n",
    "\n",
    "plt.legend()"
   ]
  },
  {
   "cell_type": "raw",
   "metadata": {
    "hidden": true
   },
   "source": [
    "sns.set_theme(style=\"whitegrid\")\n",
    "fig = plt.figure(figsize=(12, 5))\n",
    "# fig, axes = plt.subplots(5, 1)\n",
    "\n",
    "my_colors = ['b', 'r', 'g', 'y', 'm']\n",
    "\n",
    "\n",
    "# netball.plot(kind='barh',stacked=True, color='r', figsize=(12, 6))\n",
    "# swimming.plot(kind='barh',stacked=True, color='b',figsize=(12, 6))\n",
    "\n",
    "soccer.plot(kind='barh',stacked=True, color='g',figsize=(12, 6))\n",
    "\n",
    "# afl.plot(kind='barh',stacked=True, color='y',figsize=(12, 6))\n",
    "\n",
    "# basketball.plot(kind='barh',stacked=True, color='m',figsize=(12, 6))\n",
    "\n",
    "\n",
    "plt.legend()"
   ]
  },
  {
   "cell_type": "raw",
   "metadata": {
    "hidden": true
   },
   "source": [
    "sns.set_theme(style=\"whitegrid\")\n",
    "fig = plt.figure(figsize=(12, 5))\n",
    "# fig, axes = plt.subplots(5, 1)\n",
    "\n",
    "my_colors = ['b', 'r', 'g', 'y', 'm']\n",
    "\n",
    "\n",
    "# netball.plot(kind='barh',stacked=True, color='r', figsize=(12, 6))\n",
    "# swimming.plot(kind='barh',stacked=True, color='b',figsize=(12, 6))\n",
    "\n",
    "# soccer.plot(kind='barh',stacked=True, color='g',figsize=(12, 6))\n",
    "\n",
    "afl.plot(kind='barh',stacked=True, color='y',figsize=(12, 6))\n",
    "\n",
    "# basketball.plot(kind='barh',stacked=True, color='m',figsize=(12, 6))\n",
    "\n",
    "\n",
    "plt.legend()"
   ]
  },
  {
   "cell_type": "raw",
   "metadata": {
    "hidden": true
   },
   "source": [
    "sns.set_theme(style=\"whitegrid\")\n",
    "fig = plt.figure(figsize=(12, 5))\n",
    "# fig, axes = plt.subplots(5, 1)\n",
    "\n",
    "my_colors = ['b', 'r', 'g', 'y', 'm']\n",
    "\n",
    "\n",
    "# netball.plot(kind='barh',stacked=True, color='r', figsize=(12, 6))\n",
    "# swimming.plot(kind='barh',stacked=True, color='b',figsize=(12, 6))\n",
    "\n",
    "# soccer.plot(kind='barh',stacked=True, color='g',figsize=(12, 6))\n",
    "\n",
    "# afl.plot(kind='barh',stacked=True, color='y',figsize=(12, 6))\n",
    "\n",
    "basketball.plot(kind='barh',stacked=True, color='m',figsize=(12, 6))\n",
    "\n",
    "\n",
    "plt.legend()"
   ]
  },
  {
   "cell_type": "raw",
   "metadata": {
    "hidden": true
   },
   "source": [
    "pivot.loc[topLGAs[14]].sort_values().nlargest(5)"
   ]
  },
  {
   "cell_type": "raw",
   "metadata": {
    "hidden": true
   },
   "source": [
    "pivot.loc[topLGAs]"
   ]
  },
  {
   "cell_type": "raw",
   "metadata": {
    "hidden": true
   },
   "source": [
    "pivot.loc[topLGAs[0]]"
   ]
  },
  {
   "cell_type": "raw",
   "metadata": {
    "hidden": true
   },
   "source": [
    "test = pivot.loc[topLGAs[0]].sort_values().nlargest(5)"
   ]
  },
  {
   "cell_type": "raw",
   "metadata": {
    "hidden": true
   },
   "source": [
    "pivot.archery.loc[topLGAs]"
   ]
  },
  {
   "cell_type": "raw",
   "metadata": {
    "hidden": true
   },
   "source": [
    "test"
   ]
  },
  {
   "cell_type": "raw",
   "metadata": {
    "hidden": true
   },
   "source": [
    "topLGAs"
   ]
  },
  {
   "cell_type": "raw",
   "metadata": {
    "hidden": true
   },
   "source": [
    "pivot.index"
   ]
  },
  {
   "cell_type": "raw",
   "metadata": {
    "hidden": true
   },
   "source": [
    "sns.set_theme(style=\"whitegrid\")\n",
    "fig = plt.figure(figsize=(12, 5))\n",
    "\n",
    "my_colors = ['b', 'r', 'g', 'y', 'm']\n",
    "\n",
    "sns.barplot(x = pivot.index, y = 'archery', data= pivot)\n",
    "\n",
    "\n",
    "\n",
    "plt.legend()"
   ]
  },
  {
   "cell_type": "raw",
   "metadata": {
    "hidden": true
   },
   "source": [
    "sns.set_theme(style=\"whitegrid\")\n",
    "fig = plt.figure(figsize=(12, 5))\n",
    "\n",
    "my_colors = ['b', 'r', 'g', 'y', 'm']\n",
    "\n",
    "test.plot(kind='barh', color='m',figsize=(12, 6), use_index=True)\n",
    "\n",
    "\n",
    "plt.legend()"
   ]
  },
  {
   "cell_type": "raw",
   "metadata": {
    "hidden": true
   },
   "source": [
    "\n",
    "sns.set_theme(style=\"whitegrid\")\n",
    "f, ax = plt.subplots(figsize=(6, 15))\n",
    "\n",
    "# Plot the total crashes\n",
    "sns.set_color_codes(\"pastel\")\n",
    "sns.barplot(test, , data=test,\n",
    "            label=\"test\", color=\"b\")\n",
    "\n",
    "# Plot the crashes where alcohol was involved\n",
    "sns.set_color_codes(\"muted\")\n",
    "sns.barplot(x=\"alcohol\", y=\"abbrev\", data=crashes,\n",
    "            label=\"Alcohol-involved\", color=\"b\")\n",
    "\n",
    "# Add a legend and informative axis label\n",
    "ax.legend(ncol=2, loc=\"lower right\", frameon=True)\n",
    "ax.set(xlim=(0, 24), ylabel=\"\",\n",
    "       xlabel=\"Automobile collisions per billion miles\")\n",
    "sns.despine(left=True, bottom=True)"
   ]
  },
  {
   "cell_type": "raw",
   "metadata": {
    "hidden": true
   },
   "source": [
    "sns.set_theme(style=\"whitegrid\")\n",
    "fig = plt.figure(figsize=(12, 5))\n",
    "\n",
    "my_colors = ['b', 'r', 'g', 'y', 'm']\n",
    "for i in topLGAs:\n",
    "    pivot.loc[i].sort_values().nlargest(5).plot(kind='barh', color='m',rfigsize=(12, 6), use_index=True)\n",
    "\n",
    "\n",
    "plt.legend()"
   ]
  },
  {
   "cell_type": "markdown",
   "metadata": {
    "hidden": true
   },
   "source": [
    "We now know the most popular sports, and we know the rank of each sport for each LGA. Appllying the rank function to the most popular sports"
   ]
  },
  {
   "cell_type": "raw",
   "metadata": {
    "hidden": true
   },
   "source": [
    "pivot.rank(ascending = False, method='first').sort_values('archery')['archery'][:10]\n",
    "# shows the rank of each lga for archery, displaying only archery column"
   ]
  },
  {
   "cell_type": "raw",
   "metadata": {
    "hidden": true
   },
   "source": [
    "rank = pivot.rank(ascending = False, method='first').sort_values('archery')['archery'][:10]"
   ]
  },
  {
   "cell_type": "markdown",
   "metadata": {
    "hidden": true
   },
   "source": [
    "I think will have to do a loop for each of the sports in `topSports` "
   ]
  },
  {
   "cell_type": "raw",
   "metadata": {
    "hidden": true
   },
   "source": [
    "pivot.nlargest(10, 'swimming')['swimming']"
   ]
  },
  {
   "cell_type": "raw",
   "metadata": {
    "hidden": true
   },
   "source": [
    "testDF = pd.DataFrame({'lga':[], 'sport': []})\n",
    "\n",
    "test = []\n",
    "for i in topSports: \n",
    "    print(i)\n",
    "    print(pivot.rank(ascending = False, method='first').sort_values(i)[i][:10])\n",
    "    print('')\n",
    "    \n",
    "    print(f' top sports value for each lga: {pivot.nlargest(10, i)[i].values}')\n",
    "    print('')\n",
    "    print(f' sum of the sports: {pivot.nlargest(10, i)[i].values.sum()}')\n",
    "    print('')\n",
    "    test.append(pivot.rank(ascending = False, method='first').sort_values(i)[i][:10])\n"
   ]
  },
  {
   "cell_type": "raw",
   "metadata": {
    "hidden": true
   },
   "source": [
    "test"
   ]
  },
  {
   "cell_type": "raw",
   "metadata": {
    "hidden": true
   },
   "source": [
    "test = pd.concat(test, keys = topSports)"
   ]
  },
  {
   "cell_type": "raw",
   "metadata": {
    "hidden": true
   },
   "source": [
    "test['netball']"
   ]
  },
  {
   "cell_type": "raw",
   "metadata": {
    "hidden": true
   },
   "source": [
    "type(test)"
   ]
  },
  {
   "cell_type": "markdown",
   "metadata": {
    "hidden": true
   },
   "source": [
    "I want stacked bars, with the stacked bars being the sport. The y axis being the LGA, x axis being the x axis. \n",
    "\n",
    "II believe certain sports will be too large like australian rules, compared to basketball. "
   ]
  },
  {
   "cell_type": "raw",
   "metadata": {
    "hidden": true
   },
   "source": [
    "my_colors = ['b', 'r', 'g', 'y', 'm', 'c']\n",
    "ax = test['netball'].plot(kind='barh', stacked=True, color=my_colors, figsize=(12, 6))\n",
    "ax.legend(loc='center left', bbox_to_anchor=(1, 0.5))\n",
    "# plt.savefig('Value_Time_Country.png', dpi=300, bbox_inches='tight')"
   ]
  },
  {
   "cell_type": "markdown",
   "metadata": {
    "hidden": true
   },
   "source": [
    "we can see what is the most popular sports without the `set` function. This will say what sport  is most popular in each LGA"
   ]
  },
  {
   "cell_type": "raw",
   "metadata": {
    "hidden": true
   },
   "source": [
    "pivot.idxmax(axis=1)"
   ]
  },
  {
   "cell_type": "markdown",
   "metadata": {
    "hidden": true
   },
   "source": [
    "another way... for each sport, which LGA is most popular "
   ]
  },
  {
   "cell_type": "raw",
   "metadata": {
    "hidden": true
   },
   "source": [
    "pivot.idxmax().head()"
   ]
  },
  {
   "cell_type": "markdown",
   "metadata": {
    "heading_collapsed": true
   },
   "source": [
    "## Shows which top 10 LGA has the most claimed vouchers"
   ]
  },
  {
   "cell_type": "code",
   "execution_count": 73,
   "metadata": {
    "hidden": true
   },
   "outputs": [
    {
     "data": {
      "text/plain": [
       "<AxesSubplot:title={'center':'test'}, ylabel='Participant_LGA'>"
      ]
     },
     "execution_count": 73,
     "metadata": {},
     "output_type": "execute_result"
    },
    {
     "data": {
      "image/png": "[encoded data removed]",
      "text/plain": [
       "<Figure size 864x360 with 1 Axes>"
      ]
     },
     "metadata": {},
     "output_type": "display_data"
    }
   ],
   "source": [
    "sns.set_theme(style=\"whitegrid\")\n",
    "\n",
    "\n",
    "fig = plt.figure(figsize=(12, 5))\n",
    "total = pivot.sum(axis=1).sort_values(ascending=False)\n",
    "total.nlargest(10).plot(kind='barh', style='b', alpha=0.7,\n",
    "              title='test')\n",
    "\n",
    "\n",
    "# plt.savefig('Totalvalue_Country.png', dpi=300, bbox_inches='tight')"
   ]
  },
  {
   "cell_type": "raw",
   "metadata": {
    "hidden": true
   },
   "source": [
    "sns.set_theme(style=\"whitegrid\")\n",
    "\n",
    "# Initialize the matplotlib figure\n",
    "f, ax = plt.subplots(figsize=(6, 15))\n",
    "\n",
    "\n",
    "# Plot the total crashes\n",
    "sns.set_color_codes(\"pastel\")\n",
    "sns.barplot(x= pivot.index,\n",
    "            label=\"Total\", color=\"b\")\n",
    "\n",
    "# Plot the crashes where alcohol was involved\n",
    "sns.set_color_codes(\"muted\")\n",
    "# sns.barplot(x=\"alcohol\", y=\"abbrev\", data=crashes,\n",
    "#             label=\"Alcohol-involved\", color=\"b\")\n",
    "\n",
    "# Add a legend and informative axis label\n",
    "ax.legend(ncol=2, loc=\"lower right\", frameon=True)\n",
    "ax.set(xlim=(0, 24), ylabel=\"\",\n",
    "       xlabel=\"test label\")\n",
    "sns.despine(left=True, bottom=True)"
   ]
  },
  {
   "cell_type": "code",
   "execution_count": null,
   "metadata": {
    "hidden": true
   },
   "outputs": [],
   "source": [
    "pivot = pd.pivot_table(sa_vouchers_scores, "
   ]
  },
  {
   "cell_type": "markdown",
   "metadata": {
    "heading_collapsed": true
   },
   "source": [
    "# Question 3"
   ]
  },
  {
   "cell_type": "markdown",
   "metadata": {
    "hidden": true
   },
   "source": [
    " Are any LGAs over/under represented in their use of vouchers?"
   ]
  },
  {
   "cell_type": "markdown",
   "metadata": {
    "hidden": true
   },
   "source": [
    "Check population to number of vouchers claimed. \n",
    "\n",
    "david : need to normalise the vouchers by population in some way "
   ]
  },
  {
   "cell_type": "markdown",
   "metadata": {
    "heading_collapsed": true
   },
   "source": [
    "# Question 4"
   ]
  },
  {
   "cell_type": "markdown",
   "metadata": {
    "hidden": true
   },
   "source": [
    " Is there a relationship between any of the SEIFA measures and voucher use in an LGA?"
   ]
  },
  {
   "cell_type": "markdown",
   "metadata": {},
   "source": [
    "# Challenge Question: Queensland"
   ]
  },
  {
   "cell_type": "markdown",
   "metadata": {},
   "source": [
    "_Note: this is an extra task that you might take on to get a better grade for your portfolio.  You can get a good pass grade without doing this._ \n",
    "\n",
    "Queensland has a similar program called [Get Started](https://data.gov.au/dataset/ds-qld-3118838a-d425-48fa-bfc9-bc615ddae44e/details?q=get%20started%20vouchers) and we can retrieve data from their program in a similar format.  \n",
    "\n",
    "The file [round1-redeemed_get_started_vouchers.csv](files/round1-redeemed_get_started_vouchers.csv) contains records of the vouchers issued in Queensland. The date of this data is not included but the program started in 2015 so it is probably from around then.  \n",
    "\n",
    "The data includes the LGA of the individual but the name of the activity is slightly different.  To do a comparable analysis you would need to map the activity names onto those from South Australia. "
   ]
  },
  {
   "cell_type": "code",
   "execution_count": null,
   "metadata": {},
   "outputs": [],
   "source": [
    "qld_vouchers = pd.read_csv('files/round1-redeemed_get_started_vouchers.csv')\n",
    "qld_vouchers.head()"
   ]
  },
  {
   "cell_type": "code",
   "execution_count": null,
   "metadata": {},
   "outputs": [],
   "source": [
    "# Join the QLD data with the LGA data as before to get population and SIEFA data integrated\n",
    "qld_vouchers['LGA'] = qld_vouchers['Club Local Government Area Name'].str.replace(' \\([RC]+\\)', '').str.upper()\n",
    "qld_vouchers_scores = qld_vouchers.join(LGA_scores, on='LGA')\n",
    "qld_vouchers_scores.head()"
   ]
  },
  {
   "cell_type": "code",
   "execution_count": null,
   "metadata": {},
   "outputs": [],
   "source": []
  }
 ],
 "metadata": {
  "kernelspec": {
   "display_name": "Python 3",
   "language": "python",
   "name": "python3"
  },
  "language_info": {
   "codemirror_mode": {
    "name": "ipython",
    "version": 3
   },
   "file_extension": ".py",
   "mimetype": "text/x-python",
   "name": "python",
   "nbconvert_exporter": "python",
   "pygments_lexer": "ipython3",
   "version": "3.8.3"
  },
  "varInspector": {
   "cols": {
    "lenName": 16,
    "lenType": 16,
    "lenVar": 40
   },
   "kernels_config": {
    "python": {
     "delete_cmd_postfix": "",
     "delete_cmd_prefix": "del ",
     "library": "var_list.py",
     "varRefreshCmd": "print(var_dic_list())"
    },
    "r": {
     "delete_cmd_postfix": ") ",
     "delete_cmd_prefix": "rm(",
     "library": "var_list.r",
     "varRefreshCmd": "cat(var_dic_list()) "
    }
   },
   "types_to_exclude": [
    "module",
    "function",
    "builtin_function_or_method",
    "instance",
    "_Feature"
   ],
   "window_display": false
  }
 },
 "nbformat": 4,
 "nbformat_minor": 4
}
