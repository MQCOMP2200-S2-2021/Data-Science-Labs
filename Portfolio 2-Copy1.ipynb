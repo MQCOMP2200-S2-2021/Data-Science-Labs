{
 "cells": [
  {
   "cell_type": "markdown",
   "metadata": {
    "heading_collapsed": true
   },
   "source": [
    "# TO DO\n",
    "\n",
    "- question 1: need tips for making better plots, choosing variety of plots to represented different things. I have a plot that compares some distribution but they have different x axis scales. \n",
    "- question 2: try normalising the data for the stacked bar plots. Normalising is just dividing by the total? "
   ]
  },
  {
   "cell_type": "markdown",
   "metadata": {},
   "source": [
    "# Sport Vouchers Program Analysis"
   ]
  },
  {
   "cell_type": "markdown",
   "metadata": {},
   "source": [
    "The goal of this Portfolio task is to explore data from the Federal Government Sport Vouchers program - this is a\n",
    "program that provides up to two $100 vouchers for kids to participate in organised sport. Here's the [NSW Active Kids page](https://www.service.nsw.gov.au/transaction/apply-active-kids-voucher), there are similar schemes in other states - this data is from South Australia.\n",
    "\n",
    "This is an exercise in exploring data and communicating the insights you can gain from it.  The source data comes\n",
    "from the `data.gov.au` website and provides details of all Sport Vouchers that have been redeemed since February  in SA 2015 as part of the Sport Voucher program:  [Sports Vouchers Data](https://data.gov.au/dataset/ds-sa-14daba50-04ff-46c6-8468-9fa593b9f100/details).  This download is provided for you as `sportsvouchersclaimed.csv`.\n",
    "\n",
    "To augment this data you can also make use of [ABS SEIFA data by LGA](http://stat.data.abs.gov.au/Index.aspx?DataSetCode=ABS_SEIFA_LGA#) which shows a few measures of Socioeconomic Advantage and Disadvantage for every Local Government Area. This data is provided for you as `ABS_SEIFA_LGA.csv`. This could enable you to answer questions about whether the voucher program is used equally by parents in low, middle and high socioeconomic areas.   You might be interested in this if you were concerned that this kind of program might just benifit parents who are already advantaged (they might already be paying for sport so this program wouldn't be helping much).\n",
    "\n",
    "Questions:\n",
    "* Describe the distribution of vouchers by: LGA, Sport - which regions/sports stand out? \n",
    "* Are some sports more popular in different parts of the state?\n",
    "* Are any electorates over/under represented in their use of vouchers?\n",
    "* Is there a relationship between any of the SEIFA measures and voucher use in an LGA?\n",
    "\n",
    "A challenge in this task is to display a useful summary of the data given that there are a large number of LGAs and sports involved.  Try to avoid long lists and large tables. Think about what plots and tables communicate the main points of your findings. \n"
   ]
  },
  {
   "cell_type": "code",
   "execution_count": 1,
   "metadata": {},
   "outputs": [],
   "source": [
    "import pandas as pd\n",
    "import numpy as np\n",
    "import matplotlib.pyplot as plt\n",
    "import seaborn as sns\n",
    "%matplotlib inline"
   ]
  },
  {
   "cell_type": "code",
   "execution_count": 2,
   "metadata": {
    "scrolled": true
   },
   "outputs": [
    {
     "data": {
      "text/html": [
       "<div>\n",
       "<style scoped>\n",
       "    .dataframe tbody tr th:only-of-type {\n",
       "        vertical-align: middle;\n",
       "    }\n",
       "\n",
       "    .dataframe tbody tr th {\n",
       "        vertical-align: top;\n",
       "    }\n",
       "\n",
       "    .dataframe thead th {\n",
       "        text-align: right;\n",
       "    }\n",
       "</style>\n",
       "<table border=\"1\" class=\"dataframe\">\n",
       "  <thead>\n",
       "    <tr style=\"text-align: right;\">\n",
       "      <th></th>\n",
       "      <th>Participant_ID</th>\n",
       "      <th>Participant_Suburb</th>\n",
       "      <th>Club_Previous_Member</th>\n",
       "      <th>Participant_ATSI_Indicator</th>\n",
       "      <th>Participant_CALD_Indicator</th>\n",
       "      <th>Participant_Sex</th>\n",
       "      <th>Voucher_Value</th>\n",
       "      <th>Club_Name</th>\n",
       "      <th>Voucher_Sport</th>\n",
       "      <th>Participant_LGA</th>\n",
       "      <th>Participant_Electorate</th>\n",
       "      <th>Voucher_Completion_Date</th>\n",
       "      <th>Voucher_Claim_Year</th>\n",
       "    </tr>\n",
       "  </thead>\n",
       "  <tbody>\n",
       "    <tr>\n",
       "      <th>0</th>\n",
       "      <td>1000002</td>\n",
       "      <td>ABERFOYLE PARK</td>\n",
       "      <td>Registered Previously</td>\n",
       "      <td>Not ATSI</td>\n",
       "      <td>Not CALD</td>\n",
       "      <td>Male</td>\n",
       "      <td>50</td>\n",
       "      <td>Flagstaff Hill Football Club</td>\n",
       "      <td>Australian Rules</td>\n",
       "      <td>ONKAPARINGA</td>\n",
       "      <td>FISHER</td>\n",
       "      <td>26/6/15 1:19</td>\n",
       "      <td>2015</td>\n",
       "    </tr>\n",
       "    <tr>\n",
       "      <th>1</th>\n",
       "      <td>1000002</td>\n",
       "      <td>ABERFOYLE PARK</td>\n",
       "      <td>Registered Previously</td>\n",
       "      <td>Not ATSI</td>\n",
       "      <td>Not CALD</td>\n",
       "      <td>Male</td>\n",
       "      <td>50</td>\n",
       "      <td>Flagstaff Hill Football Club</td>\n",
       "      <td>Australian Rules</td>\n",
       "      <td>ONKAPARINGA</td>\n",
       "      <td>FISHER</td>\n",
       "      <td>29/6/16 23:55</td>\n",
       "      <td>2016</td>\n",
       "    </tr>\n",
       "    <tr>\n",
       "      <th>2</th>\n",
       "      <td>1000004</td>\n",
       "      <td>ABERFOYLE PARK</td>\n",
       "      <td>Not Registered Previously</td>\n",
       "      <td>Not ATSI</td>\n",
       "      <td>Not CALD</td>\n",
       "      <td>Female</td>\n",
       "      <td>50</td>\n",
       "      <td>Hub Gymnastics Club</td>\n",
       "      <td>Gymnastics</td>\n",
       "      <td>ONKAPARINGA</td>\n",
       "      <td>FISHER</td>\n",
       "      <td>21/4/16 3:37</td>\n",
       "      <td>2016</td>\n",
       "    </tr>\n",
       "    <tr>\n",
       "      <th>3</th>\n",
       "      <td>1000004</td>\n",
       "      <td>ABERFOYLE PARK</td>\n",
       "      <td>Registered Previously</td>\n",
       "      <td>Not ATSI</td>\n",
       "      <td>Not CALD</td>\n",
       "      <td>Female</td>\n",
       "      <td>50</td>\n",
       "      <td>Hub Gymnastics Club</td>\n",
       "      <td>Gymnastics</td>\n",
       "      <td>ONKAPARINGA</td>\n",
       "      <td>FISHER</td>\n",
       "      <td>30/3/17 0:47</td>\n",
       "      <td>2017</td>\n",
       "    </tr>\n",
       "    <tr>\n",
       "      <th>4</th>\n",
       "      <td>1000005</td>\n",
       "      <td>ABERFOYLE PARK</td>\n",
       "      <td>Registered Previously</td>\n",
       "      <td>Not ATSI</td>\n",
       "      <td>Not CALD</td>\n",
       "      <td>Female</td>\n",
       "      <td>50</td>\n",
       "      <td>Blackwood Community Recreation Association</td>\n",
       "      <td>Gymnastics</td>\n",
       "      <td>ONKAPARINGA</td>\n",
       "      <td>FISHER</td>\n",
       "      <td>20/7/15 2:50</td>\n",
       "      <td>2015</td>\n",
       "    </tr>\n",
       "  </tbody>\n",
       "</table>\n",
       "</div>"
      ],
      "text/plain": [
       "   Participant_ID Participant_Suburb       Club_Previous_Member  \\\n",
       "0         1000002     ABERFOYLE PARK      Registered Previously   \n",
       "1         1000002     ABERFOYLE PARK      Registered Previously   \n",
       "2         1000004     ABERFOYLE PARK  Not Registered Previously   \n",
       "3         1000004     ABERFOYLE PARK      Registered Previously   \n",
       "4         1000005     ABERFOYLE PARK      Registered Previously   \n",
       "\n",
       "  Participant_ATSI_Indicator Participant_CALD_Indicator Participant_Sex  \\\n",
       "0                   Not ATSI                   Not CALD            Male   \n",
       "1                   Not ATSI                   Not CALD            Male   \n",
       "2                   Not ATSI                   Not CALD          Female   \n",
       "3                   Not ATSI                   Not CALD          Female   \n",
       "4                   Not ATSI                   Not CALD          Female   \n",
       "\n",
       "   Voucher_Value                                   Club_Name  \\\n",
       "0             50                Flagstaff Hill Football Club   \n",
       "1             50                Flagstaff Hill Football Club   \n",
       "2             50                         Hub Gymnastics Club   \n",
       "3             50                         Hub Gymnastics Club   \n",
       "4             50  Blackwood Community Recreation Association   \n",
       "\n",
       "      Voucher_Sport Participant_LGA Participant_Electorate  \\\n",
       "0  Australian Rules     ONKAPARINGA                 FISHER   \n",
       "1  Australian Rules     ONKAPARINGA                 FISHER   \n",
       "2        Gymnastics     ONKAPARINGA                 FISHER   \n",
       "3        Gymnastics     ONKAPARINGA                 FISHER   \n",
       "4        Gymnastics     ONKAPARINGA                 FISHER   \n",
       "\n",
       "  Voucher_Completion_Date  Voucher_Claim_Year  \n",
       "0            26/6/15 1:19                2015  \n",
       "1           29/6/16 23:55                2016  \n",
       "2            21/4/16 3:37                2016  \n",
       "3            30/3/17 0:47                2017  \n",
       "4            20/7/15 2:50                2015  "
      ]
     },
     "execution_count": 2,
     "metadata": {},
     "output_type": "execute_result"
    }
   ],
   "source": [
    "# read the sports vouchers data\n",
    "sa_vouchers = pd.read_csv(\"files/sportsvouchersclaimed.csv\")\n",
    "sa_vouchers.head()"
   ]
  },
  {
   "cell_type": "markdown",
   "metadata": {},
   "source": [
    "The SEIFA data includes row for each Local Government Area (LGA) but the names of the LGAs have a letter or letters in brackets after the name.  To allow us to match this up with the voucher data we remove this and convert to uppercase. \n",
    "\n",
    "For each LGA the data includes a number of measures all of which could be useful in your exploration.  "
   ]
  },
  {
   "cell_type": "code",
   "execution_count": 3,
   "metadata": {},
   "outputs": [
    {
     "data": {
      "text/html": [
       "<div>\n",
       "<style scoped>\n",
       "    .dataframe tbody tr th:only-of-type {\n",
       "        vertical-align: middle;\n",
       "    }\n",
       "\n",
       "    .dataframe tbody tr th {\n",
       "        vertical-align: top;\n",
       "    }\n",
       "\n",
       "    .dataframe thead th {\n",
       "        text-align: right;\n",
       "    }\n",
       "</style>\n",
       "<table border=\"1\" class=\"dataframe\">\n",
       "  <thead>\n",
       "    <tr style=\"text-align: right;\">\n",
       "      <th></th>\n",
       "      <th>LGA_2011</th>\n",
       "      <th>Local Government Areas - 2011</th>\n",
       "      <th>INDEX_TYPE</th>\n",
       "      <th>Index Type</th>\n",
       "      <th>MEASURE</th>\n",
       "      <th>Measure</th>\n",
       "      <th>Value</th>\n",
       "      <th>LGA</th>\n",
       "    </tr>\n",
       "  </thead>\n",
       "  <tbody>\n",
       "    <tr>\n",
       "      <th>0</th>\n",
       "      <td>10050</td>\n",
       "      <td>Albury (C)</td>\n",
       "      <td>IRSAD</td>\n",
       "      <td>Index of Relative Socio-economic Advantage and...</td>\n",
       "      <td>SCORE</td>\n",
       "      <td>Score</td>\n",
       "      <td>967</td>\n",
       "      <td>ALBURY</td>\n",
       "    </tr>\n",
       "    <tr>\n",
       "      <th>1</th>\n",
       "      <td>10050</td>\n",
       "      <td>Albury (C)</td>\n",
       "      <td>IRSAD</td>\n",
       "      <td>Index of Relative Socio-economic Advantage and...</td>\n",
       "      <td>MINS</td>\n",
       "      <td>Minimum score for SA1s in area</td>\n",
       "      <td>628</td>\n",
       "      <td>ALBURY</td>\n",
       "    </tr>\n",
       "    <tr>\n",
       "      <th>2</th>\n",
       "      <td>10050</td>\n",
       "      <td>Albury (C)</td>\n",
       "      <td>IRSAD</td>\n",
       "      <td>Index of Relative Socio-economic Advantage and...</td>\n",
       "      <td>MAXS</td>\n",
       "      <td>Maximum score for SA1s in area</td>\n",
       "      <td>1169</td>\n",
       "      <td>ALBURY</td>\n",
       "    </tr>\n",
       "    <tr>\n",
       "      <th>3</th>\n",
       "      <td>10050</td>\n",
       "      <td>Albury (C)</td>\n",
       "      <td>IRSAD</td>\n",
       "      <td>Index of Relative Socio-economic Advantage and...</td>\n",
       "      <td>URP</td>\n",
       "      <td>Usual resident population</td>\n",
       "      <td>47851</td>\n",
       "      <td>ALBURY</td>\n",
       "    </tr>\n",
       "    <tr>\n",
       "      <th>4</th>\n",
       "      <td>10110</td>\n",
       "      <td>Armidale Dumaresq (A)</td>\n",
       "      <td>IRSAD</td>\n",
       "      <td>Index of Relative Socio-economic Advantage and...</td>\n",
       "      <td>SCORE</td>\n",
       "      <td>Score</td>\n",
       "      <td>985</td>\n",
       "      <td>ARMIDALE DUMARESQ</td>\n",
       "    </tr>\n",
       "  </tbody>\n",
       "</table>\n",
       "</div>"
      ],
      "text/plain": [
       "   LGA_2011 Local Government Areas - 2011 INDEX_TYPE  \\\n",
       "0     10050                    Albury (C)      IRSAD   \n",
       "1     10050                    Albury (C)      IRSAD   \n",
       "2     10050                    Albury (C)      IRSAD   \n",
       "3     10050                    Albury (C)      IRSAD   \n",
       "4     10110         Armidale Dumaresq (A)      IRSAD   \n",
       "\n",
       "                                          Index Type MEASURE  \\\n",
       "0  Index of Relative Socio-economic Advantage and...   SCORE   \n",
       "1  Index of Relative Socio-economic Advantage and...    MINS   \n",
       "2  Index of Relative Socio-economic Advantage and...    MAXS   \n",
       "3  Index of Relative Socio-economic Advantage and...     URP   \n",
       "4  Index of Relative Socio-economic Advantage and...   SCORE   \n",
       "\n",
       "                          Measure  Value                LGA  \n",
       "0                           Score    967             ALBURY  \n",
       "1  Minimum score for SA1s in area    628             ALBURY  \n",
       "2  Maximum score for SA1s in area   1169             ALBURY  \n",
       "3       Usual resident population  47851             ALBURY  \n",
       "4                           Score    985  ARMIDALE DUMARESQ  "
      ]
     },
     "execution_count": 3,
     "metadata": {},
     "output_type": "execute_result"
    }
   ],
   "source": [
    "# read the SEIFA data, create an LGA column by removing the letters in brackets and converting to uppercase\n",
    "seifa = pd.read_csv('files/ABS_SEIFA_LGA.csv')\n",
    "lga = seifa[\"Local Government Areas - 2011\"].str.replace(' \\([ACSRCDMT]+\\)', '').str.upper()\n",
    "seifa['LGA'] = lga\n",
    "seifa.head()"
   ]
  },
  {
   "cell_type": "code",
   "execution_count": 4,
   "metadata": {},
   "outputs": [
    {
     "data": {
      "text/html": [
       "<div>\n",
       "<style scoped>\n",
       "    .dataframe tbody tr th:only-of-type {\n",
       "        vertical-align: middle;\n",
       "    }\n",
       "\n",
       "    .dataframe tbody tr th {\n",
       "        vertical-align: top;\n",
       "    }\n",
       "\n",
       "    .dataframe thead th {\n",
       "        text-align: right;\n",
       "    }\n",
       "</style>\n",
       "<table border=\"1\" class=\"dataframe\">\n",
       "  <thead>\n",
       "    <tr style=\"text-align: right;\">\n",
       "      <th></th>\n",
       "      <th>LGA_2011</th>\n",
       "      <th>Local Government Areas - 2011</th>\n",
       "      <th>INDEX_TYPE</th>\n",
       "      <th>Index Type</th>\n",
       "      <th>MEASURE</th>\n",
       "      <th>Measure</th>\n",
       "      <th>Value</th>\n",
       "      <th>LGA</th>\n",
       "    </tr>\n",
       "  </thead>\n",
       "  <tbody>\n",
       "    <tr>\n",
       "      <th>1392</th>\n",
       "      <td>45340</td>\n",
       "      <td>Onkaparinga (C)</td>\n",
       "      <td>IRSAD</td>\n",
       "      <td>Index of Relative Socio-economic Advantage and...</td>\n",
       "      <td>SCORE</td>\n",
       "      <td>Score</td>\n",
       "      <td>975</td>\n",
       "      <td>ONKAPARINGA</td>\n",
       "    </tr>\n",
       "    <tr>\n",
       "      <th>1393</th>\n",
       "      <td>45340</td>\n",
       "      <td>Onkaparinga (C)</td>\n",
       "      <td>IRSAD</td>\n",
       "      <td>Index of Relative Socio-economic Advantage and...</td>\n",
       "      <td>MINS</td>\n",
       "      <td>Minimum score for SA1s in area</td>\n",
       "      <td>672</td>\n",
       "      <td>ONKAPARINGA</td>\n",
       "    </tr>\n",
       "    <tr>\n",
       "      <th>1394</th>\n",
       "      <td>45340</td>\n",
       "      <td>Onkaparinga (C)</td>\n",
       "      <td>IRSAD</td>\n",
       "      <td>Index of Relative Socio-economic Advantage and...</td>\n",
       "      <td>MAXS</td>\n",
       "      <td>Maximum score for SA1s in area</td>\n",
       "      <td>1152</td>\n",
       "      <td>ONKAPARINGA</td>\n",
       "    </tr>\n",
       "    <tr>\n",
       "      <th>1395</th>\n",
       "      <td>45340</td>\n",
       "      <td>Onkaparinga (C)</td>\n",
       "      <td>IRSAD</td>\n",
       "      <td>Index of Relative Socio-economic Advantage and...</td>\n",
       "      <td>URP</td>\n",
       "      <td>Usual resident population</td>\n",
       "      <td>159517</td>\n",
       "      <td>ONKAPARINGA</td>\n",
       "    </tr>\n",
       "    <tr>\n",
       "      <th>3648</th>\n",
       "      <td>45340</td>\n",
       "      <td>Onkaparinga (C)</td>\n",
       "      <td>IRSD</td>\n",
       "      <td>Index of Relative Socio-economic Disadvantage</td>\n",
       "      <td>SCORE</td>\n",
       "      <td>Score</td>\n",
       "      <td>993</td>\n",
       "      <td>ONKAPARINGA</td>\n",
       "    </tr>\n",
       "    <tr>\n",
       "      <th>3649</th>\n",
       "      <td>45340</td>\n",
       "      <td>Onkaparinga (C)</td>\n",
       "      <td>IRSD</td>\n",
       "      <td>Index of Relative Socio-economic Disadvantage</td>\n",
       "      <td>MINS</td>\n",
       "      <td>Minimum score for SA1s in area</td>\n",
       "      <td>637</td>\n",
       "      <td>ONKAPARINGA</td>\n",
       "    </tr>\n",
       "    <tr>\n",
       "      <th>3650</th>\n",
       "      <td>45340</td>\n",
       "      <td>Onkaparinga (C)</td>\n",
       "      <td>IRSD</td>\n",
       "      <td>Index of Relative Socio-economic Disadvantage</td>\n",
       "      <td>MAXS</td>\n",
       "      <td>Maximum score for SA1s in area</td>\n",
       "      <td>1141</td>\n",
       "      <td>ONKAPARINGA</td>\n",
       "    </tr>\n",
       "    <tr>\n",
       "      <th>3651</th>\n",
       "      <td>45340</td>\n",
       "      <td>Onkaparinga (C)</td>\n",
       "      <td>IRSD</td>\n",
       "      <td>Index of Relative Socio-economic Disadvantage</td>\n",
       "      <td>URP</td>\n",
       "      <td>Usual resident population</td>\n",
       "      <td>159517</td>\n",
       "      <td>ONKAPARINGA</td>\n",
       "    </tr>\n",
       "    <tr>\n",
       "      <th>5904</th>\n",
       "      <td>45340</td>\n",
       "      <td>Onkaparinga (C)</td>\n",
       "      <td>IER</td>\n",
       "      <td>Index of Economic Resources</td>\n",
       "      <td>SCORE</td>\n",
       "      <td>Score</td>\n",
       "      <td>996</td>\n",
       "      <td>ONKAPARINGA</td>\n",
       "    </tr>\n",
       "    <tr>\n",
       "      <th>5905</th>\n",
       "      <td>45340</td>\n",
       "      <td>Onkaparinga (C)</td>\n",
       "      <td>IER</td>\n",
       "      <td>Index of Economic Resources</td>\n",
       "      <td>MINS</td>\n",
       "      <td>Minimum score for SA1s in area</td>\n",
       "      <td>674</td>\n",
       "      <td>ONKAPARINGA</td>\n",
       "    </tr>\n",
       "    <tr>\n",
       "      <th>5906</th>\n",
       "      <td>45340</td>\n",
       "      <td>Onkaparinga (C)</td>\n",
       "      <td>IER</td>\n",
       "      <td>Index of Economic Resources</td>\n",
       "      <td>MAXS</td>\n",
       "      <td>Maximum score for SA1s in area</td>\n",
       "      <td>1190</td>\n",
       "      <td>ONKAPARINGA</td>\n",
       "    </tr>\n",
       "    <tr>\n",
       "      <th>5907</th>\n",
       "      <td>45340</td>\n",
       "      <td>Onkaparinga (C)</td>\n",
       "      <td>IER</td>\n",
       "      <td>Index of Economic Resources</td>\n",
       "      <td>URP</td>\n",
       "      <td>Usual resident population</td>\n",
       "      <td>159517</td>\n",
       "      <td>ONKAPARINGA</td>\n",
       "    </tr>\n",
       "    <tr>\n",
       "      <th>8160</th>\n",
       "      <td>45340</td>\n",
       "      <td>Onkaparinga (C)</td>\n",
       "      <td>IEO</td>\n",
       "      <td>Index of Education and Occupation</td>\n",
       "      <td>SCORE</td>\n",
       "      <td>Score</td>\n",
       "      <td>996</td>\n",
       "      <td>ONKAPARINGA</td>\n",
       "    </tr>\n",
       "    <tr>\n",
       "      <th>8161</th>\n",
       "      <td>45340</td>\n",
       "      <td>Onkaparinga (C)</td>\n",
       "      <td>IEO</td>\n",
       "      <td>Index of Education and Occupation</td>\n",
       "      <td>MINS</td>\n",
       "      <td>Minimum score for SA1s in area</td>\n",
       "      <td>674</td>\n",
       "      <td>ONKAPARINGA</td>\n",
       "    </tr>\n",
       "    <tr>\n",
       "      <th>8162</th>\n",
       "      <td>45340</td>\n",
       "      <td>Onkaparinga (C)</td>\n",
       "      <td>IEO</td>\n",
       "      <td>Index of Education and Occupation</td>\n",
       "      <td>MAXS</td>\n",
       "      <td>Maximum score for SA1s in area</td>\n",
       "      <td>1190</td>\n",
       "      <td>ONKAPARINGA</td>\n",
       "    </tr>\n",
       "    <tr>\n",
       "      <th>8163</th>\n",
       "      <td>45340</td>\n",
       "      <td>Onkaparinga (C)</td>\n",
       "      <td>IEO</td>\n",
       "      <td>Index of Education and Occupation</td>\n",
       "      <td>URP</td>\n",
       "      <td>Usual resident population</td>\n",
       "      <td>159517</td>\n",
       "      <td>ONKAPARINGA</td>\n",
       "    </tr>\n",
       "  </tbody>\n",
       "</table>\n",
       "</div>"
      ],
      "text/plain": [
       "      LGA_2011 Local Government Areas - 2011 INDEX_TYPE  \\\n",
       "1392     45340               Onkaparinga (C)      IRSAD   \n",
       "1393     45340               Onkaparinga (C)      IRSAD   \n",
       "1394     45340               Onkaparinga (C)      IRSAD   \n",
       "1395     45340               Onkaparinga (C)      IRSAD   \n",
       "3648     45340               Onkaparinga (C)       IRSD   \n",
       "3649     45340               Onkaparinga (C)       IRSD   \n",
       "3650     45340               Onkaparinga (C)       IRSD   \n",
       "3651     45340               Onkaparinga (C)       IRSD   \n",
       "5904     45340               Onkaparinga (C)        IER   \n",
       "5905     45340               Onkaparinga (C)        IER   \n",
       "5906     45340               Onkaparinga (C)        IER   \n",
       "5907     45340               Onkaparinga (C)        IER   \n",
       "8160     45340               Onkaparinga (C)        IEO   \n",
       "8161     45340               Onkaparinga (C)        IEO   \n",
       "8162     45340               Onkaparinga (C)        IEO   \n",
       "8163     45340               Onkaparinga (C)        IEO   \n",
       "\n",
       "                                             Index Type MEASURE  \\\n",
       "1392  Index of Relative Socio-economic Advantage and...   SCORE   \n",
       "1393  Index of Relative Socio-economic Advantage and...    MINS   \n",
       "1394  Index of Relative Socio-economic Advantage and...    MAXS   \n",
       "1395  Index of Relative Socio-economic Advantage and...     URP   \n",
       "3648      Index of Relative Socio-economic Disadvantage   SCORE   \n",
       "3649      Index of Relative Socio-economic Disadvantage    MINS   \n",
       "3650      Index of Relative Socio-economic Disadvantage    MAXS   \n",
       "3651      Index of Relative Socio-economic Disadvantage     URP   \n",
       "5904                        Index of Economic Resources   SCORE   \n",
       "5905                        Index of Economic Resources    MINS   \n",
       "5906                        Index of Economic Resources    MAXS   \n",
       "5907                        Index of Economic Resources     URP   \n",
       "8160                  Index of Education and Occupation   SCORE   \n",
       "8161                  Index of Education and Occupation    MINS   \n",
       "8162                  Index of Education and Occupation    MAXS   \n",
       "8163                  Index of Education and Occupation     URP   \n",
       "\n",
       "                             Measure   Value          LGA  \n",
       "1392                           Score     975  ONKAPARINGA  \n",
       "1393  Minimum score for SA1s in area     672  ONKAPARINGA  \n",
       "1394  Maximum score for SA1s in area    1152  ONKAPARINGA  \n",
       "1395       Usual resident population  159517  ONKAPARINGA  \n",
       "3648                           Score     993  ONKAPARINGA  \n",
       "3649  Minimum score for SA1s in area     637  ONKAPARINGA  \n",
       "3650  Maximum score for SA1s in area    1141  ONKAPARINGA  \n",
       "3651       Usual resident population  159517  ONKAPARINGA  \n",
       "5904                           Score     996  ONKAPARINGA  \n",
       "5905  Minimum score for SA1s in area     674  ONKAPARINGA  \n",
       "5906  Maximum score for SA1s in area    1190  ONKAPARINGA  \n",
       "5907       Usual resident population  159517  ONKAPARINGA  \n",
       "8160                           Score     996  ONKAPARINGA  \n",
       "8161  Minimum score for SA1s in area     674  ONKAPARINGA  \n",
       "8162  Maximum score for SA1s in area    1190  ONKAPARINGA  \n",
       "8163       Usual resident population  159517  ONKAPARINGA  "
      ]
     },
     "execution_count": 4,
     "metadata": {},
     "output_type": "execute_result"
    }
   ],
   "source": [
    "seifa[seifa['LGA'] == 'ONKAPARINGA']"
   ]
  },
  {
   "cell_type": "markdown",
   "metadata": {},
   "source": [
    "Since there are many rows per LGA we need to use `pivot_table` to create a new data frame with one row per LGA. Here\n",
    "is an example of doing this to create a table with the different SCORE measures and the population (URP) field. "
   ]
  },
  {
   "cell_type": "code",
   "execution_count": 5,
   "metadata": {},
   "outputs": [
    {
     "data": {
      "text/html": [
       "<div>\n",
       "<style scoped>\n",
       "    .dataframe tbody tr th:only-of-type {\n",
       "        vertical-align: middle;\n",
       "    }\n",
       "\n",
       "    .dataframe tbody tr th {\n",
       "        vertical-align: top;\n",
       "    }\n",
       "\n",
       "    .dataframe thead th {\n",
       "        text-align: right;\n",
       "    }\n",
       "</style>\n",
       "<table border=\"1\" class=\"dataframe\">\n",
       "  <thead>\n",
       "    <tr style=\"text-align: right;\">\n",
       "      <th>INDEX_TYPE</th>\n",
       "      <th>IEO</th>\n",
       "      <th>IER</th>\n",
       "      <th>IRSAD</th>\n",
       "      <th>IRSD</th>\n",
       "    </tr>\n",
       "    <tr>\n",
       "      <th>LGA</th>\n",
       "      <th></th>\n",
       "      <th></th>\n",
       "      <th></th>\n",
       "      <th></th>\n",
       "    </tr>\n",
       "  </thead>\n",
       "  <tbody>\n",
       "    <tr>\n",
       "      <th>ADELAIDE</th>\n",
       "      <td>874.0</td>\n",
       "      <td>874.0</td>\n",
       "      <td>1036.0</td>\n",
       "      <td>1013.0</td>\n",
       "    </tr>\n",
       "    <tr>\n",
       "      <th>ADELAIDE HILLS</th>\n",
       "      <td>1083.0</td>\n",
       "      <td>1083.0</td>\n",
       "      <td>1077.0</td>\n",
       "      <td>1081.0</td>\n",
       "    </tr>\n",
       "    <tr>\n",
       "      <th>ALBANY</th>\n",
       "      <td>999.0</td>\n",
       "      <td>999.0</td>\n",
       "      <td>977.0</td>\n",
       "      <td>987.0</td>\n",
       "    </tr>\n",
       "    <tr>\n",
       "      <th>ALBURY</th>\n",
       "      <td>964.0</td>\n",
       "      <td>964.0</td>\n",
       "      <td>967.0</td>\n",
       "      <td>979.0</td>\n",
       "    </tr>\n",
       "    <tr>\n",
       "      <th>ALEXANDRINA</th>\n",
       "      <td>1000.0</td>\n",
       "      <td>1000.0</td>\n",
       "      <td>969.0</td>\n",
       "      <td>987.0</td>\n",
       "    </tr>\n",
       "  </tbody>\n",
       "</table>\n",
       "</div>"
      ],
      "text/plain": [
       "INDEX_TYPE         IEO     IER   IRSAD    IRSD\n",
       "LGA                                           \n",
       "ADELAIDE         874.0   874.0  1036.0  1013.0\n",
       "ADELAIDE HILLS  1083.0  1083.0  1077.0  1081.0\n",
       "ALBANY           999.0   999.0   977.0   987.0\n",
       "ALBURY           964.0   964.0   967.0   979.0\n",
       "ALEXANDRINA     1000.0  1000.0   969.0   987.0"
      ]
     },
     "execution_count": 5,
     "metadata": {},
     "output_type": "execute_result"
    }
   ],
   "source": [
    "LGA_scores = seifa[seifa.MEASURE == 'SCORE'].pivot_table(index=\"LGA\", columns=[\"INDEX_TYPE\"], values=\"Value\")\n",
    "LGA_scores.head()"
   ]
  },
  {
   "cell_type": "code",
   "execution_count": 6,
   "metadata": {},
   "outputs": [
    {
     "data": {
      "text/html": [
       "<div>\n",
       "<style scoped>\n",
       "    .dataframe tbody tr th:only-of-type {\n",
       "        vertical-align: middle;\n",
       "    }\n",
       "\n",
       "    .dataframe tbody tr th {\n",
       "        vertical-align: top;\n",
       "    }\n",
       "\n",
       "    .dataframe thead th {\n",
       "        text-align: right;\n",
       "    }\n",
       "</style>\n",
       "<table border=\"1\" class=\"dataframe\">\n",
       "  <thead>\n",
       "    <tr style=\"text-align: right;\">\n",
       "      <th>INDEX_TYPE</th>\n",
       "      <th>IEO</th>\n",
       "      <th>IER</th>\n",
       "      <th>IRSAD</th>\n",
       "      <th>IRSD</th>\n",
       "    </tr>\n",
       "    <tr>\n",
       "      <th>LGA</th>\n",
       "      <th></th>\n",
       "      <th></th>\n",
       "      <th></th>\n",
       "      <th></th>\n",
       "    </tr>\n",
       "  </thead>\n",
       "  <tbody>\n",
       "    <tr>\n",
       "      <th>ADELAIDE</th>\n",
       "      <td>19606.0</td>\n",
       "      <td>19606.0</td>\n",
       "      <td>19606.0</td>\n",
       "      <td>19606.0</td>\n",
       "    </tr>\n",
       "    <tr>\n",
       "      <th>ADELAIDE HILLS</th>\n",
       "      <td>38601.0</td>\n",
       "      <td>38601.0</td>\n",
       "      <td>38601.0</td>\n",
       "      <td>38601.0</td>\n",
       "    </tr>\n",
       "    <tr>\n",
       "      <th>ALBANY</th>\n",
       "      <td>33614.0</td>\n",
       "      <td>33614.0</td>\n",
       "      <td>33614.0</td>\n",
       "      <td>33614.0</td>\n",
       "    </tr>\n",
       "    <tr>\n",
       "      <th>ALBURY</th>\n",
       "      <td>47851.0</td>\n",
       "      <td>47851.0</td>\n",
       "      <td>47851.0</td>\n",
       "      <td>47851.0</td>\n",
       "    </tr>\n",
       "    <tr>\n",
       "      <th>ALEXANDRINA</th>\n",
       "      <td>23693.0</td>\n",
       "      <td>23693.0</td>\n",
       "      <td>23693.0</td>\n",
       "      <td>23693.0</td>\n",
       "    </tr>\n",
       "  </tbody>\n",
       "</table>\n",
       "</div>"
      ],
      "text/plain": [
       "INDEX_TYPE          IEO      IER    IRSAD     IRSD\n",
       "LGA                                               \n",
       "ADELAIDE        19606.0  19606.0  19606.0  19606.0\n",
       "ADELAIDE HILLS  38601.0  38601.0  38601.0  38601.0\n",
       "ALBANY          33614.0  33614.0  33614.0  33614.0\n",
       "ALBURY          47851.0  47851.0  47851.0  47851.0\n",
       "ALEXANDRINA     23693.0  23693.0  23693.0  23693.0"
      ]
     },
     "execution_count": 6,
     "metadata": {},
     "output_type": "execute_result"
    }
   ],
   "source": [
    "LGA_pop = seifa[seifa.MEASURE == 'URP'].pivot_table(index=\"LGA\", columns=[\"INDEX_TYPE\"], values=\"Value\")\n",
    "LGA_pop.head()"
   ]
  },
  {
   "cell_type": "code",
   "execution_count": 7,
   "metadata": {},
   "outputs": [
    {
     "data": {
      "text/html": [
       "<div>\n",
       "<style scoped>\n",
       "    .dataframe tbody tr th:only-of-type {\n",
       "        vertical-align: middle;\n",
       "    }\n",
       "\n",
       "    .dataframe tbody tr th {\n",
       "        vertical-align: top;\n",
       "    }\n",
       "\n",
       "    .dataframe thead th {\n",
       "        text-align: right;\n",
       "    }\n",
       "</style>\n",
       "<table border=\"1\" class=\"dataframe\">\n",
       "  <thead>\n",
       "    <tr style=\"text-align: right;\">\n",
       "      <th>INDEX_TYPE</th>\n",
       "      <th>IEO</th>\n",
       "      <th>IER</th>\n",
       "      <th>IRSAD</th>\n",
       "      <th>IRSD</th>\n",
       "      <th>Population</th>\n",
       "    </tr>\n",
       "    <tr>\n",
       "      <th>LGA</th>\n",
       "      <th></th>\n",
       "      <th></th>\n",
       "      <th></th>\n",
       "      <th></th>\n",
       "      <th></th>\n",
       "    </tr>\n",
       "  </thead>\n",
       "  <tbody>\n",
       "    <tr>\n",
       "      <th>ADELAIDE</th>\n",
       "      <td>874.0</td>\n",
       "      <td>874.0</td>\n",
       "      <td>1036.0</td>\n",
       "      <td>1013.0</td>\n",
       "      <td>19606.0</td>\n",
       "    </tr>\n",
       "    <tr>\n",
       "      <th>ADELAIDE HILLS</th>\n",
       "      <td>1083.0</td>\n",
       "      <td>1083.0</td>\n",
       "      <td>1077.0</td>\n",
       "      <td>1081.0</td>\n",
       "      <td>38601.0</td>\n",
       "    </tr>\n",
       "    <tr>\n",
       "      <th>ALBANY</th>\n",
       "      <td>999.0</td>\n",
       "      <td>999.0</td>\n",
       "      <td>977.0</td>\n",
       "      <td>987.0</td>\n",
       "      <td>33614.0</td>\n",
       "    </tr>\n",
       "    <tr>\n",
       "      <th>ALBURY</th>\n",
       "      <td>964.0</td>\n",
       "      <td>964.0</td>\n",
       "      <td>967.0</td>\n",
       "      <td>979.0</td>\n",
       "      <td>47851.0</td>\n",
       "    </tr>\n",
       "    <tr>\n",
       "      <th>ALEXANDRINA</th>\n",
       "      <td>1000.0</td>\n",
       "      <td>1000.0</td>\n",
       "      <td>969.0</td>\n",
       "      <td>987.0</td>\n",
       "      <td>23693.0</td>\n",
       "    </tr>\n",
       "  </tbody>\n",
       "</table>\n",
       "</div>"
      ],
      "text/plain": [
       "INDEX_TYPE         IEO     IER   IRSAD    IRSD  Population\n",
       "LGA                                                       \n",
       "ADELAIDE         874.0   874.0  1036.0  1013.0     19606.0\n",
       "ADELAIDE HILLS  1083.0  1083.0  1077.0  1081.0     38601.0\n",
       "ALBANY           999.0   999.0   977.0   987.0     33614.0\n",
       "ALBURY           964.0   964.0   967.0   979.0     47851.0\n",
       "ALEXANDRINA     1000.0  1000.0   969.0   987.0     23693.0"
      ]
     },
     "execution_count": 7,
     "metadata": {},
     "output_type": "execute_result"
    }
   ],
   "source": [
    "LGA_scores['Population'] = LGA_pop.IEO\n",
    "LGA_scores.head()"
   ]
  },
  {
   "cell_type": "markdown",
   "metadata": {},
   "source": [
    "This data frame can then be joined with the vouchers data fram to create one master data frame containing both the voucher data and the SEIFA measures."
   ]
  },
  {
   "cell_type": "code",
   "execution_count": 8,
   "metadata": {},
   "outputs": [
    {
     "data": {
      "text/html": [
       "<div>\n",
       "<style scoped>\n",
       "    .dataframe tbody tr th:only-of-type {\n",
       "        vertical-align: middle;\n",
       "    }\n",
       "\n",
       "    .dataframe tbody tr th {\n",
       "        vertical-align: top;\n",
       "    }\n",
       "\n",
       "    .dataframe thead th {\n",
       "        text-align: right;\n",
       "    }\n",
       "</style>\n",
       "<table border=\"1\" class=\"dataframe\">\n",
       "  <thead>\n",
       "    <tr style=\"text-align: right;\">\n",
       "      <th></th>\n",
       "      <th>Participant_ID</th>\n",
       "      <th>Participant_Suburb</th>\n",
       "      <th>Club_Previous_Member</th>\n",
       "      <th>Participant_ATSI_Indicator</th>\n",
       "      <th>Participant_CALD_Indicator</th>\n",
       "      <th>Participant_Sex</th>\n",
       "      <th>Voucher_Value</th>\n",
       "      <th>Club_Name</th>\n",
       "      <th>Voucher_Sport</th>\n",
       "      <th>Participant_LGA</th>\n",
       "      <th>Participant_Electorate</th>\n",
       "      <th>Voucher_Completion_Date</th>\n",
       "      <th>Voucher_Claim_Year</th>\n",
       "      <th>IEO</th>\n",
       "      <th>IER</th>\n",
       "      <th>IRSAD</th>\n",
       "      <th>IRSD</th>\n",
       "      <th>Population</th>\n",
       "    </tr>\n",
       "  </thead>\n",
       "  <tbody>\n",
       "    <tr>\n",
       "      <th>0</th>\n",
       "      <td>1000002</td>\n",
       "      <td>ABERFOYLE PARK</td>\n",
       "      <td>Registered Previously</td>\n",
       "      <td>Not ATSI</td>\n",
       "      <td>Not CALD</td>\n",
       "      <td>Male</td>\n",
       "      <td>50</td>\n",
       "      <td>Flagstaff Hill Football Club</td>\n",
       "      <td>Australian Rules</td>\n",
       "      <td>ONKAPARINGA</td>\n",
       "      <td>FISHER</td>\n",
       "      <td>26/6/15 1:19</td>\n",
       "      <td>2015</td>\n",
       "      <td>996.0</td>\n",
       "      <td>996.0</td>\n",
       "      <td>975.0</td>\n",
       "      <td>993.0</td>\n",
       "      <td>159517.0</td>\n",
       "    </tr>\n",
       "    <tr>\n",
       "      <th>1</th>\n",
       "      <td>1000002</td>\n",
       "      <td>ABERFOYLE PARK</td>\n",
       "      <td>Registered Previously</td>\n",
       "      <td>Not ATSI</td>\n",
       "      <td>Not CALD</td>\n",
       "      <td>Male</td>\n",
       "      <td>50</td>\n",
       "      <td>Flagstaff Hill Football Club</td>\n",
       "      <td>Australian Rules</td>\n",
       "      <td>ONKAPARINGA</td>\n",
       "      <td>FISHER</td>\n",
       "      <td>29/6/16 23:55</td>\n",
       "      <td>2016</td>\n",
       "      <td>996.0</td>\n",
       "      <td>996.0</td>\n",
       "      <td>975.0</td>\n",
       "      <td>993.0</td>\n",
       "      <td>159517.0</td>\n",
       "    </tr>\n",
       "    <tr>\n",
       "      <th>2</th>\n",
       "      <td>1000004</td>\n",
       "      <td>ABERFOYLE PARK</td>\n",
       "      <td>Not Registered Previously</td>\n",
       "      <td>Not ATSI</td>\n",
       "      <td>Not CALD</td>\n",
       "      <td>Female</td>\n",
       "      <td>50</td>\n",
       "      <td>Hub Gymnastics Club</td>\n",
       "      <td>Gymnastics</td>\n",
       "      <td>ONKAPARINGA</td>\n",
       "      <td>FISHER</td>\n",
       "      <td>21/4/16 3:37</td>\n",
       "      <td>2016</td>\n",
       "      <td>996.0</td>\n",
       "      <td>996.0</td>\n",
       "      <td>975.0</td>\n",
       "      <td>993.0</td>\n",
       "      <td>159517.0</td>\n",
       "    </tr>\n",
       "    <tr>\n",
       "      <th>3</th>\n",
       "      <td>1000004</td>\n",
       "      <td>ABERFOYLE PARK</td>\n",
       "      <td>Registered Previously</td>\n",
       "      <td>Not ATSI</td>\n",
       "      <td>Not CALD</td>\n",
       "      <td>Female</td>\n",
       "      <td>50</td>\n",
       "      <td>Hub Gymnastics Club</td>\n",
       "      <td>Gymnastics</td>\n",
       "      <td>ONKAPARINGA</td>\n",
       "      <td>FISHER</td>\n",
       "      <td>30/3/17 0:47</td>\n",
       "      <td>2017</td>\n",
       "      <td>996.0</td>\n",
       "      <td>996.0</td>\n",
       "      <td>975.0</td>\n",
       "      <td>993.0</td>\n",
       "      <td>159517.0</td>\n",
       "    </tr>\n",
       "    <tr>\n",
       "      <th>4</th>\n",
       "      <td>1000005</td>\n",
       "      <td>ABERFOYLE PARK</td>\n",
       "      <td>Registered Previously</td>\n",
       "      <td>Not ATSI</td>\n",
       "      <td>Not CALD</td>\n",
       "      <td>Female</td>\n",
       "      <td>50</td>\n",
       "      <td>Blackwood Community Recreation Association</td>\n",
       "      <td>Gymnastics</td>\n",
       "      <td>ONKAPARINGA</td>\n",
       "      <td>FISHER</td>\n",
       "      <td>20/7/15 2:50</td>\n",
       "      <td>2015</td>\n",
       "      <td>996.0</td>\n",
       "      <td>996.0</td>\n",
       "      <td>975.0</td>\n",
       "      <td>993.0</td>\n",
       "      <td>159517.0</td>\n",
       "    </tr>\n",
       "  </tbody>\n",
       "</table>\n",
       "</div>"
      ],
      "text/plain": [
       "   Participant_ID Participant_Suburb       Club_Previous_Member  \\\n",
       "0         1000002     ABERFOYLE PARK      Registered Previously   \n",
       "1         1000002     ABERFOYLE PARK      Registered Previously   \n",
       "2         1000004     ABERFOYLE PARK  Not Registered Previously   \n",
       "3         1000004     ABERFOYLE PARK      Registered Previously   \n",
       "4         1000005     ABERFOYLE PARK      Registered Previously   \n",
       "\n",
       "  Participant_ATSI_Indicator Participant_CALD_Indicator Participant_Sex  \\\n",
       "0                   Not ATSI                   Not CALD            Male   \n",
       "1                   Not ATSI                   Not CALD            Male   \n",
       "2                   Not ATSI                   Not CALD          Female   \n",
       "3                   Not ATSI                   Not CALD          Female   \n",
       "4                   Not ATSI                   Not CALD          Female   \n",
       "\n",
       "   Voucher_Value                                   Club_Name  \\\n",
       "0             50                Flagstaff Hill Football Club   \n",
       "1             50                Flagstaff Hill Football Club   \n",
       "2             50                         Hub Gymnastics Club   \n",
       "3             50                         Hub Gymnastics Club   \n",
       "4             50  Blackwood Community Recreation Association   \n",
       "\n",
       "      Voucher_Sport Participant_LGA Participant_Electorate  \\\n",
       "0  Australian Rules     ONKAPARINGA                 FISHER   \n",
       "1  Australian Rules     ONKAPARINGA                 FISHER   \n",
       "2        Gymnastics     ONKAPARINGA                 FISHER   \n",
       "3        Gymnastics     ONKAPARINGA                 FISHER   \n",
       "4        Gymnastics     ONKAPARINGA                 FISHER   \n",
       "\n",
       "  Voucher_Completion_Date  Voucher_Claim_Year    IEO    IER  IRSAD   IRSD  \\\n",
       "0            26/6/15 1:19                2015  996.0  996.0  975.0  993.0   \n",
       "1           29/6/16 23:55                2016  996.0  996.0  975.0  993.0   \n",
       "2            21/4/16 3:37                2016  996.0  996.0  975.0  993.0   \n",
       "3            30/3/17 0:47                2017  996.0  996.0  975.0  993.0   \n",
       "4            20/7/15 2:50                2015  996.0  996.0  975.0  993.0   \n",
       "\n",
       "   Population  \n",
       "0    159517.0  \n",
       "1    159517.0  \n",
       "2    159517.0  \n",
       "3    159517.0  \n",
       "4    159517.0  "
      ]
     },
     "execution_count": 8,
     "metadata": {},
     "output_type": "execute_result"
    }
   ],
   "source": [
    "sa_vouchers_scores = sa_vouchers.join(LGA_scores, on='Participant_LGA')\n",
    "sa_vouchers_scores.head()"
   ]
  },
  {
   "cell_type": "markdown",
   "metadata": {},
   "source": [
    "We can use the `.describe()` function to get a general idea of what the dataframe looks like"
   ]
  },
  {
   "cell_type": "code",
   "execution_count": 9,
   "metadata": {},
   "outputs": [
    {
     "data": {
      "text/html": [
       "<div>\n",
       "<style scoped>\n",
       "    .dataframe tbody tr th:only-of-type {\n",
       "        vertical-align: middle;\n",
       "    }\n",
       "\n",
       "    .dataframe tbody tr th {\n",
       "        vertical-align: top;\n",
       "    }\n",
       "\n",
       "    .dataframe thead th {\n",
       "        text-align: right;\n",
       "    }\n",
       "</style>\n",
       "<table border=\"1\" class=\"dataframe\">\n",
       "  <thead>\n",
       "    <tr style=\"text-align: right;\">\n",
       "      <th></th>\n",
       "      <th>Participant_ID</th>\n",
       "      <th>Voucher_Value</th>\n",
       "      <th>Voucher_Claim_Year</th>\n",
       "      <th>IEO</th>\n",
       "      <th>IER</th>\n",
       "      <th>IRSAD</th>\n",
       "      <th>IRSD</th>\n",
       "      <th>Population</th>\n",
       "    </tr>\n",
       "  </thead>\n",
       "  <tbody>\n",
       "    <tr>\n",
       "      <th>count</th>\n",
       "      <td>1.275260e+05</td>\n",
       "      <td>127526.000000</td>\n",
       "      <td>127526.000000</td>\n",
       "      <td>118066.000000</td>\n",
       "      <td>118066.000000</td>\n",
       "      <td>118066.000000</td>\n",
       "      <td>118066.000000</td>\n",
       "      <td>118066.000000</td>\n",
       "    </tr>\n",
       "    <tr>\n",
       "      <th>mean</th>\n",
       "      <td>1.063764e+06</td>\n",
       "      <td>49.663951</td>\n",
       "      <td>2015.915100</td>\n",
       "      <td>981.049942</td>\n",
       "      <td>981.049942</td>\n",
       "      <td>971.090416</td>\n",
       "      <td>981.756314</td>\n",
       "      <td>68014.296046</td>\n",
       "    </tr>\n",
       "    <tr>\n",
       "      <th>std</th>\n",
       "      <td>3.681374e+04</td>\n",
       "      <td>2.700970</td>\n",
       "      <td>0.765087</td>\n",
       "      <td>44.454505</td>\n",
       "      <td>44.454505</td>\n",
       "      <td>56.889280</td>\n",
       "      <td>55.538098</td>\n",
       "      <td>50470.140017</td>\n",
       "    </tr>\n",
       "    <tr>\n",
       "      <th>min</th>\n",
       "      <td>1.000002e+06</td>\n",
       "      <td>5.000000</td>\n",
       "      <td>2015.000000</td>\n",
       "      <td>870.000000</td>\n",
       "      <td>870.000000</td>\n",
       "      <td>808.000000</td>\n",
       "      <td>798.000000</td>\n",
       "      <td>871.000000</td>\n",
       "    </tr>\n",
       "    <tr>\n",
       "      <th>25%</th>\n",
       "      <td>1.031883e+06</td>\n",
       "      <td>50.000000</td>\n",
       "      <td>2015.000000</td>\n",
       "      <td>955.000000</td>\n",
       "      <td>955.000000</td>\n",
       "      <td>927.000000</td>\n",
       "      <td>937.000000</td>\n",
       "      <td>22070.000000</td>\n",
       "    </tr>\n",
       "    <tr>\n",
       "      <th>50%</th>\n",
       "      <td>1.063764e+06</td>\n",
       "      <td>50.000000</td>\n",
       "      <td>2016.000000</td>\n",
       "      <td>974.000000</td>\n",
       "      <td>974.000000</td>\n",
       "      <td>973.000000</td>\n",
       "      <td>987.000000</td>\n",
       "      <td>62912.000000</td>\n",
       "    </tr>\n",
       "    <tr>\n",
       "      <th>75%</th>\n",
       "      <td>1.095646e+06</td>\n",
       "      <td>50.000000</td>\n",
       "      <td>2017.000000</td>\n",
       "      <td>1013.000000</td>\n",
       "      <td>1013.000000</td>\n",
       "      <td>997.000000</td>\n",
       "      <td>1018.000000</td>\n",
       "      <td>104922.000000</td>\n",
       "    </tr>\n",
       "    <tr>\n",
       "      <th>max</th>\n",
       "      <td>1.127526e+06</td>\n",
       "      <td>50.000000</td>\n",
       "      <td>2017.000000</td>\n",
       "      <td>1083.000000</td>\n",
       "      <td>1083.000000</td>\n",
       "      <td>1090.000000</td>\n",
       "      <td>1096.000000</td>\n",
       "      <td>159517.000000</td>\n",
       "    </tr>\n",
       "  </tbody>\n",
       "</table>\n",
       "</div>"
      ],
      "text/plain": [
       "       Participant_ID  Voucher_Value  Voucher_Claim_Year            IEO  \\\n",
       "count    1.275260e+05  127526.000000       127526.000000  118066.000000   \n",
       "mean     1.063764e+06      49.663951         2015.915100     981.049942   \n",
       "std      3.681374e+04       2.700970            0.765087      44.454505   \n",
       "min      1.000002e+06       5.000000         2015.000000     870.000000   \n",
       "25%      1.031883e+06      50.000000         2015.000000     955.000000   \n",
       "50%      1.063764e+06      50.000000         2016.000000     974.000000   \n",
       "75%      1.095646e+06      50.000000         2017.000000    1013.000000   \n",
       "max      1.127526e+06      50.000000         2017.000000    1083.000000   \n",
       "\n",
       "                 IER          IRSAD           IRSD     Population  \n",
       "count  118066.000000  118066.000000  118066.000000  118066.000000  \n",
       "mean      981.049942     971.090416     981.756314   68014.296046  \n",
       "std        44.454505      56.889280      55.538098   50470.140017  \n",
       "min       870.000000     808.000000     798.000000     871.000000  \n",
       "25%       955.000000     927.000000     937.000000   22070.000000  \n",
       "50%       974.000000     973.000000     987.000000   62912.000000  \n",
       "75%      1013.000000     997.000000    1018.000000  104922.000000  \n",
       "max      1083.000000    1090.000000    1096.000000  159517.000000  "
      ]
     },
     "execution_count": 9,
     "metadata": {},
     "output_type": "execute_result"
    }
   ],
   "source": [
    "sa_vouchers_scores.describe()"
   ]
  },
  {
   "cell_type": "markdown",
   "metadata": {
    "heading_collapsed": true
   },
   "source": [
    "### failed loop for trying to find the duplicate LGAs with different population size. "
   ]
  },
  {
   "cell_type": "raw",
   "metadata": {
    "hidden": true
   },
   "source": [
    "list(seifa['LGA'])"
   ]
  },
  {
   "cell_type": "raw",
   "metadata": {
    "hidden": true
   },
   "source": [
    "seifa.iloc[2256]"
   ]
  },
  {
   "cell_type": "raw",
   "metadata": {
    "hidden": true
   },
   "source": [
    "seifa[seifa['LGA'] == 'CAMPBELLTOWN']"
   ]
  },
  {
   "cell_type": "raw",
   "metadata": {
    "hidden": true
   },
   "source": [
    "list(seifa[(seifa['LGA'] == 'CAMPBELLTOWN')&(seifa['MEASURE']=='URP')]['Value'].index)"
   ]
  },
  {
   "cell_type": "raw",
   "metadata": {
    "hidden": true
   },
   "source": [
    "\n",
    "dupList= list(seifa[(seifa['LGA'] == 'ONKAPARINGA')&(seifa['MEASURE']=='URP')]['Value'].index)"
   ]
  },
  {
   "cell_type": "raw",
   "metadata": {
    "hidden": true
   },
   "source": [
    "dupList"
   ]
  },
  {
   "cell_type": "raw",
   "metadata": {
    "hidden": true
   },
   "source": [
    "dupList[0+1]"
   ]
  },
  {
   "cell_type": "raw",
   "metadata": {
    "hidden": true
   },
   "source": [
    "seifa.iloc[dupList]"
   ]
  },
  {
   "cell_type": "raw",
   "metadata": {
    "hidden": true
   },
   "source": [
    "seifa[(seifa['LGA'] == 'ONKAPARINGA')& (seifa['MEASURE'] == 'URP')]"
   ]
  },
  {
   "cell_type": "raw",
   "metadata": {
    "hidden": true
   },
   "source": [
    "dupList[0]"
   ]
  },
  {
   "cell_type": "raw",
   "metadata": {
    "hidden": true
   },
   "source": [
    "seifa['Value'][dupList[1]] == seifa['Value'][dupList[2]]"
   ]
  },
  {
   "cell_type": "raw",
   "metadata": {
    "hidden": true
   },
   "source": [
    "seifa[seifa['LGA'] =='ALBURY']"
   ]
  },
  {
   "cell_type": "raw",
   "metadata": {
    "hidden": true
   },
   "source": [
    "seifa[(seifa['LGA'] == 'ADELAIDE')&(seifa['MEASURE']=='URP')]"
   ]
  },
  {
   "cell_type": "raw",
   "metadata": {
    "hidden": true
   },
   "source": [
    "seifa[(seifa['LGA'] == lga)&(seifa['MEASURE']=='URP')]"
   ]
  },
  {
   "cell_type": "raw",
   "metadata": {
    "hidden": true
   },
   "source": [
    "dupList = []\n",
    "dupLoc = []\n",
    "for i, lga in enumerate(list(set(seifa['LGA']))):\n",
    "    dupList= list(seifa[(seifa['LGA'] == lga)&(seifa['MEASURE']=='URP')]['Value'].index)\n",
    "#     print(dupList)\n",
    "    print(i)\n",
    "    print(lga)\n",
    "    print(dupList)\n",
    "    print(len(dupList))\n",
    "#     print(dupList[i])\n",
    "    if len(dupList) ==2:\n",
    "        if seifa['Value'][dupList[0]] != seifa['Value'][dupList[1]] :\n",
    "            dupLoc.extend([dupList[1],dupList[1]])\n",
    "         \n",
    "    if len(dupList) ==4:\n",
    "        if seifa['Value'][dupList[0]] != seifa['Value'][dupList[1]] :\n",
    "            dupLoc.extend([dupList[1],dupList[1]])\n",
    "        if seifa['Value'][dupList[2]] != seifa['Value'][dupList[3]] :\n",
    "            dupLoc.extend([dupList[2],dupList[3]])\n",
    "\n",
    "    if len(dupList) ==6:\n",
    "        if seifa['Value'][dupList[0]] != seifa['Value'][dupList[1]] :\n",
    "            dupLoc.extend([dupList[1],dupList[1]])\n",
    "        if seifa['Value'][dupList[2]] != seifa['Value'][dupList[3]] :\n",
    "            dupLoc.extend([dupList[2],dupList[3]])\n",
    "        if seifa['Value'][dupList[4]] != seifa['Value'][dupList[5]] :\n",
    "            dupLoc.extend([dupList[4],dupList[5]])\n",
    "           \n",
    "    if len(dupList) ==8:  \n",
    "        if seifa['Value'][dupList[0]] != seifa['Value'][dupList[1]] :\n",
    "            dupLoc.extend([dupList[1],dupList[1]])\n",
    "        if seifa['Value'][dupList[2]] != seifa['Value'][dupList[3]] :\n",
    "            dupLoc.extend([dupList[2],dupList[3]])\n",
    "        if seifa['Value'][dupList[4]] != seifa['Value'][dupList[5]] :\n",
    "            dupLoc.extend([dupList[4],dupList[5]])\n",
    "        if seifa['Value'][dupList[6]] != seifa['Value'][dupList[7]] :\n",
    "            dupLoc.extend([dupList[6],dupList[7]])\n",
    "    print(dupLoc)"
   ]
  },
  {
   "cell_type": "raw",
   "metadata": {
    "hidden": true
   },
   "source": [
    "seifa['LGA'][3651]"
   ]
  },
  {
   "cell_type": "raw",
   "metadata": {
    "hidden": true
   },
   "source": [
    "LGA_scores.loc[x]"
   ]
  },
  {
   "cell_type": "raw",
   "metadata": {
    "hidden": true
   },
   "source": [
    "seifa.query('MEASURE==\"URP\" & INDEX_TYPE==\"IER\"')"
   ]
  },
  {
   "cell_type": "markdown",
   "metadata": {
    "heading_collapsed": true
   },
   "source": [
    "### does what the failed loop was supposed to do "
   ]
  },
  {
   "cell_type": "raw",
   "metadata": {
    "hidden": true
   },
   "source": [
    "duplicates = seifa.query('MEASURE==\"URP\" & INDEX_TYPE==\"IER\"')[seifa.query('MEASURE==\"URP\" & INDEX_TYPE==\"IER\"').duplicated(subset=['LGA'])].LGA"
   ]
  },
  {
   "cell_type": "raw",
   "metadata": {
    "hidden": true
   },
   "source": [
    "seifa.query('MEASURE==\"URP\" & INDEX_TYPE==\"IER\"')[seifa.query('MEASURE==\"URP\" & INDEX_TYPE==\"IER\"')['LGA'].isin(duplicates)].sort_values('LGA')"
   ]
  },
  {
   "cell_type": "raw",
   "metadata": {
    "hidden": true
   },
   "source": [
    "seifa[(seifa['LGA'] =='CAMPBELLTOWN') & (seifa[\"MEASURE\"]=='SCORE')]"
   ]
  },
  {
   "cell_type": "raw",
   "metadata": {
    "hidden": true
   },
   "source": [
    "LGA_scores.loc['CAMPBELLTOWN']"
   ]
  },
  {
   "cell_type": "markdown",
   "metadata": {
    "heading_collapsed": true
   },
   "source": [
    "# Index Definition"
   ]
  },
  {
   "cell_type": "markdown",
   "metadata": {
    "hidden": true
   },
   "source": [
    "From here https://www.abs.gov.au/ausstats/abs@.nsf/Lookup/by%20Subject/2033.0.55.001~2016~Main%20Features~IRSAD~20\n",
    "\n",
    "4 major indexes for every LGA. \n",
    "\n",
    "**IRSAD: index of relative socio economic advantage and disadvantage.**\n",
    "- summarises information about the economic and social conditions of people and households within an area. Includes both relative advantage and disadvantage. \n",
    "- low score = greater disadvatange, lack of advantage in general. \n",
    "- low scores = many households with low incomes, many people in unskilled occupations. OR few households with high incomes. Few people in skilled occupations. \n",
    "\n",
    "**IEO: Index of education and occupation.**\n",
    "- reflects the educational and occupational level of communities. \n",
    "- Education variables in this index show either the level of qualification achieved or wheteher further education is being undertaken. \n",
    "- Low score = relatively lower education and occupation status. \n",
    "- low score = many people without qualifications or many people in low skilled occuaptions or unemployed. AND few people with high level of qualification or highly skilled occupation. \n",
    "\n",
    "**IER: Index of economic resources.**\n",
    "- focus' on the financial aspects of relative socio-economic advantage and disadvantage. Summarises variables related to income and wealth. \n",
    "- low score = relative lack to economic resources in general. \n",
    "- low score = many households with low income, or many paying low rent. AND few households with high income, or few owned homes. \n",
    "\n",
    "**IRSD: The index of relative socio economic disadvantage.**\n",
    "- range of information about the economic and social conditions of people and households. \n",
    "- low score = relatively greater disadvantage in general. \n",
    "- low sore= many households with low income, people with no qualification OR many people in low skill occupations. "
   ]
  },
  {
   "cell_type": "markdown",
   "metadata": {
    "hidden": true
   },
   "source": [
    "**Local Government Areas - 2011** \n",
    "- Cities (C)\n",
    "- Rural Cities (RC)\n",
    "- Municipalities/Municipal Councils (M)\n",
    "- District Councils (DC)\n",
    "- Regional Councils (RegC)\n",
    "- Towns (T)\n",
    "- Aboriginal Councils (AC)"
   ]
  },
  {
   "cell_type": "markdown",
   "metadata": {},
   "source": [
    "# Question 1"
   ]
  },
  {
   "cell_type": "code",
   "execution_count": null,
   "metadata": {},
   "outputs": [],
   "source": []
  },
  {
   "cell_type": "markdown",
   "metadata": {},
   "source": [
    " Describe the distribution of vouchers by: LGA, Sport - which regions/sports stand out?"
   ]
  },
  {
   "cell_type": "markdown",
   "metadata": {},
   "source": [
    "We know each row means a voucher has been claimed. \n",
    "\n",
    "Start off by checking how many unique LGAs there are. Then we can count how many times the LGA occurs. "
   ]
  },
  {
   "cell_type": "code",
   "execution_count": 10,
   "metadata": {},
   "outputs": [
    {
     "data": {
      "text/plain": [
       "69"
      ]
     },
     "execution_count": 10,
     "metadata": {},
     "output_type": "execute_result"
    }
   ],
   "source": [
    "len(set(sa_vouchers_scores['Participant_LGA']))"
   ]
  },
  {
   "cell_type": "code",
   "execution_count": 11,
   "metadata": {},
   "outputs": [],
   "source": [
    "lgaSportGrouped = (sa_vouchers_scores.groupby(['Participant_LGA','Voucher_Sport']).count()).copy(deep=True)"
   ]
  },
  {
   "cell_type": "code",
   "execution_count": 12,
   "metadata": {
    "scrolled": false
   },
   "outputs": [
    {
     "data": {
      "text/html": [
       "<div>\n",
       "<style scoped>\n",
       "    .dataframe tbody tr th:only-of-type {\n",
       "        vertical-align: middle;\n",
       "    }\n",
       "\n",
       "    .dataframe tbody tr th {\n",
       "        vertical-align: top;\n",
       "    }\n",
       "\n",
       "    .dataframe thead th {\n",
       "        text-align: right;\n",
       "    }\n",
       "</style>\n",
       "<table border=\"1\" class=\"dataframe\">\n",
       "  <thead>\n",
       "    <tr style=\"text-align: right;\">\n",
       "      <th></th>\n",
       "      <th></th>\n",
       "      <th>Participant_ID</th>\n",
       "      <th>Participant_Suburb</th>\n",
       "      <th>Club_Previous_Member</th>\n",
       "      <th>Participant_ATSI_Indicator</th>\n",
       "      <th>Participant_CALD_Indicator</th>\n",
       "      <th>Participant_Sex</th>\n",
       "      <th>Voucher_Value</th>\n",
       "      <th>Club_Name</th>\n",
       "      <th>Participant_Electorate</th>\n",
       "      <th>Voucher_Completion_Date</th>\n",
       "      <th>Voucher_Claim_Year</th>\n",
       "      <th>IEO</th>\n",
       "      <th>IER</th>\n",
       "      <th>IRSAD</th>\n",
       "      <th>IRSD</th>\n",
       "      <th>Population</th>\n",
       "    </tr>\n",
       "    <tr>\n",
       "      <th>Participant_LGA</th>\n",
       "      <th>Voucher_Sport</th>\n",
       "      <th></th>\n",
       "      <th></th>\n",
       "      <th></th>\n",
       "      <th></th>\n",
       "      <th></th>\n",
       "      <th></th>\n",
       "      <th></th>\n",
       "      <th></th>\n",
       "      <th></th>\n",
       "      <th></th>\n",
       "      <th></th>\n",
       "      <th></th>\n",
       "      <th></th>\n",
       "      <th></th>\n",
       "      <th></th>\n",
       "      <th></th>\n",
       "    </tr>\n",
       "  </thead>\n",
       "  <tbody>\n",
       "    <tr>\n",
       "      <th rowspan=\"5\" valign=\"top\">ADELAIDE</th>\n",
       "      <th>Athletics</th>\n",
       "      <td>16</td>\n",
       "      <td>16</td>\n",
       "      <td>16</td>\n",
       "      <td>16</td>\n",
       "      <td>16</td>\n",
       "      <td>16</td>\n",
       "      <td>16</td>\n",
       "      <td>16</td>\n",
       "      <td>16</td>\n",
       "      <td>16</td>\n",
       "      <td>16</td>\n",
       "      <td>16</td>\n",
       "      <td>16</td>\n",
       "      <td>16</td>\n",
       "      <td>16</td>\n",
       "      <td>16</td>\n",
       "    </tr>\n",
       "    <tr>\n",
       "      <th>Australian Rules</th>\n",
       "      <td>130</td>\n",
       "      <td>130</td>\n",
       "      <td>130</td>\n",
       "      <td>130</td>\n",
       "      <td>130</td>\n",
       "      <td>130</td>\n",
       "      <td>130</td>\n",
       "      <td>130</td>\n",
       "      <td>130</td>\n",
       "      <td>128</td>\n",
       "      <td>130</td>\n",
       "      <td>130</td>\n",
       "      <td>130</td>\n",
       "      <td>130</td>\n",
       "      <td>130</td>\n",
       "      <td>130</td>\n",
       "    </tr>\n",
       "    <tr>\n",
       "      <th>Baseball</th>\n",
       "      <td>1</td>\n",
       "      <td>1</td>\n",
       "      <td>1</td>\n",
       "      <td>1</td>\n",
       "      <td>1</td>\n",
       "      <td>1</td>\n",
       "      <td>1</td>\n",
       "      <td>1</td>\n",
       "      <td>1</td>\n",
       "      <td>1</td>\n",
       "      <td>1</td>\n",
       "      <td>1</td>\n",
       "      <td>1</td>\n",
       "      <td>1</td>\n",
       "      <td>1</td>\n",
       "      <td>1</td>\n",
       "    </tr>\n",
       "    <tr>\n",
       "      <th>Basketball</th>\n",
       "      <td>4</td>\n",
       "      <td>4</td>\n",
       "      <td>4</td>\n",
       "      <td>4</td>\n",
       "      <td>4</td>\n",
       "      <td>4</td>\n",
       "      <td>4</td>\n",
       "      <td>4</td>\n",
       "      <td>4</td>\n",
       "      <td>4</td>\n",
       "      <td>4</td>\n",
       "      <td>4</td>\n",
       "      <td>4</td>\n",
       "      <td>4</td>\n",
       "      <td>4</td>\n",
       "      <td>4</td>\n",
       "    </tr>\n",
       "    <tr>\n",
       "      <th>Calisthenics</th>\n",
       "      <td>1</td>\n",
       "      <td>1</td>\n",
       "      <td>1</td>\n",
       "      <td>1</td>\n",
       "      <td>1</td>\n",
       "      <td>1</td>\n",
       "      <td>1</td>\n",
       "      <td>1</td>\n",
       "      <td>1</td>\n",
       "      <td>1</td>\n",
       "      <td>1</td>\n",
       "      <td>1</td>\n",
       "      <td>1</td>\n",
       "      <td>1</td>\n",
       "      <td>1</td>\n",
       "      <td>1</td>\n",
       "    </tr>\n",
       "    <tr>\n",
       "      <th>...</th>\n",
       "      <th>...</th>\n",
       "      <td>...</td>\n",
       "      <td>...</td>\n",
       "      <td>...</td>\n",
       "      <td>...</td>\n",
       "      <td>...</td>\n",
       "      <td>...</td>\n",
       "      <td>...</td>\n",
       "      <td>...</td>\n",
       "      <td>...</td>\n",
       "      <td>...</td>\n",
       "      <td>...</td>\n",
       "      <td>...</td>\n",
       "      <td>...</td>\n",
       "      <td>...</td>\n",
       "      <td>...</td>\n",
       "      <td>...</td>\n",
       "    </tr>\n",
       "    <tr>\n",
       "      <th rowspan=\"5\" valign=\"top\">YORKE PENINSULA</th>\n",
       "      <th>Motorcycling</th>\n",
       "      <td>2</td>\n",
       "      <td>2</td>\n",
       "      <td>2</td>\n",
       "      <td>2</td>\n",
       "      <td>2</td>\n",
       "      <td>2</td>\n",
       "      <td>2</td>\n",
       "      <td>2</td>\n",
       "      <td>2</td>\n",
       "      <td>2</td>\n",
       "      <td>2</td>\n",
       "      <td>2</td>\n",
       "      <td>2</td>\n",
       "      <td>2</td>\n",
       "      <td>2</td>\n",
       "      <td>2</td>\n",
       "    </tr>\n",
       "    <tr>\n",
       "      <th>Netball</th>\n",
       "      <td>313</td>\n",
       "      <td>313</td>\n",
       "      <td>313</td>\n",
       "      <td>313</td>\n",
       "      <td>313</td>\n",
       "      <td>313</td>\n",
       "      <td>313</td>\n",
       "      <td>313</td>\n",
       "      <td>313</td>\n",
       "      <td>311</td>\n",
       "      <td>313</td>\n",
       "      <td>313</td>\n",
       "      <td>313</td>\n",
       "      <td>313</td>\n",
       "      <td>313</td>\n",
       "      <td>313</td>\n",
       "    </tr>\n",
       "    <tr>\n",
       "      <th>Surf Lifesaving</th>\n",
       "      <td>4</td>\n",
       "      <td>4</td>\n",
       "      <td>4</td>\n",
       "      <td>4</td>\n",
       "      <td>4</td>\n",
       "      <td>4</td>\n",
       "      <td>4</td>\n",
       "      <td>4</td>\n",
       "      <td>4</td>\n",
       "      <td>4</td>\n",
       "      <td>4</td>\n",
       "      <td>4</td>\n",
       "      <td>4</td>\n",
       "      <td>4</td>\n",
       "      <td>4</td>\n",
       "      <td>4</td>\n",
       "    </tr>\n",
       "    <tr>\n",
       "      <th>Taekwondo</th>\n",
       "      <td>87</td>\n",
       "      <td>87</td>\n",
       "      <td>87</td>\n",
       "      <td>87</td>\n",
       "      <td>87</td>\n",
       "      <td>87</td>\n",
       "      <td>87</td>\n",
       "      <td>87</td>\n",
       "      <td>87</td>\n",
       "      <td>87</td>\n",
       "      <td>87</td>\n",
       "      <td>87</td>\n",
       "      <td>87</td>\n",
       "      <td>87</td>\n",
       "      <td>87</td>\n",
       "      <td>87</td>\n",
       "    </tr>\n",
       "    <tr>\n",
       "      <th>Tennis</th>\n",
       "      <td>9</td>\n",
       "      <td>9</td>\n",
       "      <td>9</td>\n",
       "      <td>9</td>\n",
       "      <td>9</td>\n",
       "      <td>9</td>\n",
       "      <td>9</td>\n",
       "      <td>9</td>\n",
       "      <td>9</td>\n",
       "      <td>9</td>\n",
       "      <td>9</td>\n",
       "      <td>9</td>\n",
       "      <td>9</td>\n",
       "      <td>9</td>\n",
       "      <td>9</td>\n",
       "      <td>9</td>\n",
       "    </tr>\n",
       "  </tbody>\n",
       "</table>\n",
       "<p>1157 rows × 16 columns</p>\n",
       "</div>"
      ],
      "text/plain": [
       "                                  Participant_ID  Participant_Suburb  \\\n",
       "Participant_LGA Voucher_Sport                                          \n",
       "ADELAIDE        Athletics                     16                  16   \n",
       "                Australian Rules             130                 130   \n",
       "                Baseball                       1                   1   \n",
       "                Basketball                     4                   4   \n",
       "                Calisthenics                   1                   1   \n",
       "...                                          ...                 ...   \n",
       "YORKE PENINSULA Motorcycling                   2                   2   \n",
       "                Netball                      313                 313   \n",
       "                Surf Lifesaving                4                   4   \n",
       "                Taekwondo                     87                  87   \n",
       "                Tennis                         9                   9   \n",
       "\n",
       "                                  Club_Previous_Member  \\\n",
       "Participant_LGA Voucher_Sport                            \n",
       "ADELAIDE        Athletics                           16   \n",
       "                Australian Rules                   130   \n",
       "                Baseball                             1   \n",
       "                Basketball                           4   \n",
       "                Calisthenics                         1   \n",
       "...                                                ...   \n",
       "YORKE PENINSULA Motorcycling                         2   \n",
       "                Netball                            313   \n",
       "                Surf Lifesaving                      4   \n",
       "                Taekwondo                           87   \n",
       "                Tennis                               9   \n",
       "\n",
       "                                  Participant_ATSI_Indicator  \\\n",
       "Participant_LGA Voucher_Sport                                  \n",
       "ADELAIDE        Athletics                                 16   \n",
       "                Australian Rules                         130   \n",
       "                Baseball                                   1   \n",
       "                Basketball                                 4   \n",
       "                Calisthenics                               1   \n",
       "...                                                      ...   \n",
       "YORKE PENINSULA Motorcycling                               2   \n",
       "                Netball                                  313   \n",
       "                Surf Lifesaving                            4   \n",
       "                Taekwondo                                 87   \n",
       "                Tennis                                     9   \n",
       "\n",
       "                                  Participant_CALD_Indicator  Participant_Sex  \\\n",
       "Participant_LGA Voucher_Sport                                                   \n",
       "ADELAIDE        Athletics                                 16               16   \n",
       "                Australian Rules                         130              130   \n",
       "                Baseball                                   1                1   \n",
       "                Basketball                                 4                4   \n",
       "                Calisthenics                               1                1   \n",
       "...                                                      ...              ...   \n",
       "YORKE PENINSULA Motorcycling                               2                2   \n",
       "                Netball                                  313              313   \n",
       "                Surf Lifesaving                            4                4   \n",
       "                Taekwondo                                 87               87   \n",
       "                Tennis                                     9                9   \n",
       "\n",
       "                                  Voucher_Value  Club_Name  \\\n",
       "Participant_LGA Voucher_Sport                                \n",
       "ADELAIDE        Athletics                    16         16   \n",
       "                Australian Rules            130        130   \n",
       "                Baseball                      1          1   \n",
       "                Basketball                    4          4   \n",
       "                Calisthenics                  1          1   \n",
       "...                                         ...        ...   \n",
       "YORKE PENINSULA Motorcycling                  2          2   \n",
       "                Netball                     313        313   \n",
       "                Surf Lifesaving               4          4   \n",
       "                Taekwondo                    87         87   \n",
       "                Tennis                        9          9   \n",
       "\n",
       "                                  Participant_Electorate  \\\n",
       "Participant_LGA Voucher_Sport                              \n",
       "ADELAIDE        Athletics                             16   \n",
       "                Australian Rules                     130   \n",
       "                Baseball                               1   \n",
       "                Basketball                             4   \n",
       "                Calisthenics                           1   \n",
       "...                                                  ...   \n",
       "YORKE PENINSULA Motorcycling                           2   \n",
       "                Netball                              313   \n",
       "                Surf Lifesaving                        4   \n",
       "                Taekwondo                             87   \n",
       "                Tennis                                 9   \n",
       "\n",
       "                                  Voucher_Completion_Date  Voucher_Claim_Year  \\\n",
       "Participant_LGA Voucher_Sport                                                   \n",
       "ADELAIDE        Athletics                              16                  16   \n",
       "                Australian Rules                      128                 130   \n",
       "                Baseball                                1                   1   \n",
       "                Basketball                              4                   4   \n",
       "                Calisthenics                            1                   1   \n",
       "...                                                   ...                 ...   \n",
       "YORKE PENINSULA Motorcycling                            2                   2   \n",
       "                Netball                               311                 313   \n",
       "                Surf Lifesaving                         4                   4   \n",
       "                Taekwondo                              87                  87   \n",
       "                Tennis                                  9                   9   \n",
       "\n",
       "                                  IEO  IER  IRSAD  IRSD  Population  \n",
       "Participant_LGA Voucher_Sport                                        \n",
       "ADELAIDE        Athletics          16   16     16    16          16  \n",
       "                Australian Rules  130  130    130   130         130  \n",
       "                Baseball            1    1      1     1           1  \n",
       "                Basketball          4    4      4     4           4  \n",
       "                Calisthenics        1    1      1     1           1  \n",
       "...                               ...  ...    ...   ...         ...  \n",
       "YORKE PENINSULA Motorcycling        2    2      2     2           2  \n",
       "                Netball           313  313    313   313         313  \n",
       "                Surf Lifesaving     4    4      4     4           4  \n",
       "                Taekwondo          87   87     87    87          87  \n",
       "                Tennis              9    9      9     9           9  \n",
       "\n",
       "[1157 rows x 16 columns]"
      ]
     },
     "execution_count": 12,
     "metadata": {},
     "output_type": "execute_result"
    }
   ],
   "source": [
    "lgaSportGrouped"
   ]
  },
  {
   "cell_type": "markdown",
   "metadata": {},
   "source": [
    "It's quite difficult to use this type of dataframe due to the multi index. We can use `pivot` instead to make it more clear. \n",
    "\n",
    "Used help from the textbook for this part. Page 24, section 2.6.8\n",
    "\n"
   ]
  },
  {
   "cell_type": "code",
   "execution_count": 13,
   "metadata": {},
   "outputs": [],
   "source": [
    "group = (sa_vouchers_scores.groupby(['Participant_LGA','Voucher_Sport']).count()).copy(deep=True)"
   ]
  },
  {
   "cell_type": "code",
   "execution_count": 14,
   "metadata": {},
   "outputs": [
    {
     "data": {
      "text/html": [
       "<div>\n",
       "<style scoped>\n",
       "    .dataframe tbody tr th:only-of-type {\n",
       "        vertical-align: middle;\n",
       "    }\n",
       "\n",
       "    .dataframe tbody tr th {\n",
       "        vertical-align: top;\n",
       "    }\n",
       "\n",
       "    .dataframe thead th {\n",
       "        text-align: right;\n",
       "    }\n",
       "</style>\n",
       "<table border=\"1\" class=\"dataframe\">\n",
       "  <thead>\n",
       "    <tr style=\"text-align: right;\">\n",
       "      <th></th>\n",
       "      <th></th>\n",
       "      <th>Participant_ID</th>\n",
       "      <th>Participant_Suburb</th>\n",
       "      <th>Club_Previous_Member</th>\n",
       "      <th>Participant_ATSI_Indicator</th>\n",
       "      <th>Participant_CALD_Indicator</th>\n",
       "      <th>Participant_Sex</th>\n",
       "      <th>Voucher_Value</th>\n",
       "      <th>Club_Name</th>\n",
       "      <th>Participant_Electorate</th>\n",
       "      <th>Voucher_Completion_Date</th>\n",
       "      <th>Voucher_Claim_Year</th>\n",
       "      <th>IEO</th>\n",
       "      <th>IER</th>\n",
       "      <th>IRSAD</th>\n",
       "      <th>IRSD</th>\n",
       "      <th>Population</th>\n",
       "    </tr>\n",
       "    <tr>\n",
       "      <th>Participant_LGA</th>\n",
       "      <th>Voucher_Sport</th>\n",
       "      <th></th>\n",
       "      <th></th>\n",
       "      <th></th>\n",
       "      <th></th>\n",
       "      <th></th>\n",
       "      <th></th>\n",
       "      <th></th>\n",
       "      <th></th>\n",
       "      <th></th>\n",
       "      <th></th>\n",
       "      <th></th>\n",
       "      <th></th>\n",
       "      <th></th>\n",
       "      <th></th>\n",
       "      <th></th>\n",
       "      <th></th>\n",
       "    </tr>\n",
       "  </thead>\n",
       "  <tbody>\n",
       "    <tr>\n",
       "      <th rowspan=\"5\" valign=\"top\">ADELAIDE</th>\n",
       "      <th>Athletics</th>\n",
       "      <td>16</td>\n",
       "      <td>16</td>\n",
       "      <td>16</td>\n",
       "      <td>16</td>\n",
       "      <td>16</td>\n",
       "      <td>16</td>\n",
       "      <td>16</td>\n",
       "      <td>16</td>\n",
       "      <td>16</td>\n",
       "      <td>16</td>\n",
       "      <td>16</td>\n",
       "      <td>16</td>\n",
       "      <td>16</td>\n",
       "      <td>16</td>\n",
       "      <td>16</td>\n",
       "      <td>16</td>\n",
       "    </tr>\n",
       "    <tr>\n",
       "      <th>Australian Rules</th>\n",
       "      <td>130</td>\n",
       "      <td>130</td>\n",
       "      <td>130</td>\n",
       "      <td>130</td>\n",
       "      <td>130</td>\n",
       "      <td>130</td>\n",
       "      <td>130</td>\n",
       "      <td>130</td>\n",
       "      <td>130</td>\n",
       "      <td>128</td>\n",
       "      <td>130</td>\n",
       "      <td>130</td>\n",
       "      <td>130</td>\n",
       "      <td>130</td>\n",
       "      <td>130</td>\n",
       "      <td>130</td>\n",
       "    </tr>\n",
       "    <tr>\n",
       "      <th>Baseball</th>\n",
       "      <td>1</td>\n",
       "      <td>1</td>\n",
       "      <td>1</td>\n",
       "      <td>1</td>\n",
       "      <td>1</td>\n",
       "      <td>1</td>\n",
       "      <td>1</td>\n",
       "      <td>1</td>\n",
       "      <td>1</td>\n",
       "      <td>1</td>\n",
       "      <td>1</td>\n",
       "      <td>1</td>\n",
       "      <td>1</td>\n",
       "      <td>1</td>\n",
       "      <td>1</td>\n",
       "      <td>1</td>\n",
       "    </tr>\n",
       "    <tr>\n",
       "      <th>Basketball</th>\n",
       "      <td>4</td>\n",
       "      <td>4</td>\n",
       "      <td>4</td>\n",
       "      <td>4</td>\n",
       "      <td>4</td>\n",
       "      <td>4</td>\n",
       "      <td>4</td>\n",
       "      <td>4</td>\n",
       "      <td>4</td>\n",
       "      <td>4</td>\n",
       "      <td>4</td>\n",
       "      <td>4</td>\n",
       "      <td>4</td>\n",
       "      <td>4</td>\n",
       "      <td>4</td>\n",
       "      <td>4</td>\n",
       "    </tr>\n",
       "    <tr>\n",
       "      <th>Calisthenics</th>\n",
       "      <td>1</td>\n",
       "      <td>1</td>\n",
       "      <td>1</td>\n",
       "      <td>1</td>\n",
       "      <td>1</td>\n",
       "      <td>1</td>\n",
       "      <td>1</td>\n",
       "      <td>1</td>\n",
       "      <td>1</td>\n",
       "      <td>1</td>\n",
       "      <td>1</td>\n",
       "      <td>1</td>\n",
       "      <td>1</td>\n",
       "      <td>1</td>\n",
       "      <td>1</td>\n",
       "      <td>1</td>\n",
       "    </tr>\n",
       "  </tbody>\n",
       "</table>\n",
       "</div>"
      ],
      "text/plain": [
       "                                  Participant_ID  Participant_Suburb  \\\n",
       "Participant_LGA Voucher_Sport                                          \n",
       "ADELAIDE        Athletics                     16                  16   \n",
       "                Australian Rules             130                 130   \n",
       "                Baseball                       1                   1   \n",
       "                Basketball                     4                   4   \n",
       "                Calisthenics                   1                   1   \n",
       "\n",
       "                                  Club_Previous_Member  \\\n",
       "Participant_LGA Voucher_Sport                            \n",
       "ADELAIDE        Athletics                           16   \n",
       "                Australian Rules                   130   \n",
       "                Baseball                             1   \n",
       "                Basketball                           4   \n",
       "                Calisthenics                         1   \n",
       "\n",
       "                                  Participant_ATSI_Indicator  \\\n",
       "Participant_LGA Voucher_Sport                                  \n",
       "ADELAIDE        Athletics                                 16   \n",
       "                Australian Rules                         130   \n",
       "                Baseball                                   1   \n",
       "                Basketball                                 4   \n",
       "                Calisthenics                               1   \n",
       "\n",
       "                                  Participant_CALD_Indicator  Participant_Sex  \\\n",
       "Participant_LGA Voucher_Sport                                                   \n",
       "ADELAIDE        Athletics                                 16               16   \n",
       "                Australian Rules                         130              130   \n",
       "                Baseball                                   1                1   \n",
       "                Basketball                                 4                4   \n",
       "                Calisthenics                               1                1   \n",
       "\n",
       "                                  Voucher_Value  Club_Name  \\\n",
       "Participant_LGA Voucher_Sport                                \n",
       "ADELAIDE        Athletics                    16         16   \n",
       "                Australian Rules            130        130   \n",
       "                Baseball                      1          1   \n",
       "                Basketball                    4          4   \n",
       "                Calisthenics                  1          1   \n",
       "\n",
       "                                  Participant_Electorate  \\\n",
       "Participant_LGA Voucher_Sport                              \n",
       "ADELAIDE        Athletics                             16   \n",
       "                Australian Rules                     130   \n",
       "                Baseball                               1   \n",
       "                Basketball                             4   \n",
       "                Calisthenics                           1   \n",
       "\n",
       "                                  Voucher_Completion_Date  Voucher_Claim_Year  \\\n",
       "Participant_LGA Voucher_Sport                                                   \n",
       "ADELAIDE        Athletics                              16                  16   \n",
       "                Australian Rules                      128                 130   \n",
       "                Baseball                                1                   1   \n",
       "                Basketball                              4                   4   \n",
       "                Calisthenics                            1                   1   \n",
       "\n",
       "                                  IEO  IER  IRSAD  IRSD  Population  \n",
       "Participant_LGA Voucher_Sport                                        \n",
       "ADELAIDE        Athletics          16   16     16    16          16  \n",
       "                Australian Rules  130  130    130   130         130  \n",
       "                Baseball            1    1      1     1           1  \n",
       "                Basketball          4    4      4     4           4  \n",
       "                Calisthenics        1    1      1     1           1  "
      ]
     },
     "execution_count": 14,
     "metadata": {},
     "output_type": "execute_result"
    }
   ],
   "source": [
    "group.head()"
   ]
  },
  {
   "cell_type": "markdown",
   "metadata": {},
   "source": [
    "keeping all rows and only keeping one column. All the columns represent the same number of counts, so we only need to keep one. "
   ]
  },
  {
   "cell_type": "code",
   "execution_count": 15,
   "metadata": {},
   "outputs": [],
   "source": [
    "pivot = pd.pivot_table(group, values = 'Participant_ID', index = 'Participant_LGA', columns = 'Voucher_Sport')"
   ]
  },
  {
   "cell_type": "code",
   "execution_count": 16,
   "metadata": {},
   "outputs": [
    {
     "data": {
      "text/html": [
       "<div>\n",
       "<style scoped>\n",
       "    .dataframe tbody tr th:only-of-type {\n",
       "        vertical-align: middle;\n",
       "    }\n",
       "\n",
       "    .dataframe tbody tr th {\n",
       "        vertical-align: top;\n",
       "    }\n",
       "\n",
       "    .dataframe thead th {\n",
       "        text-align: right;\n",
       "    }\n",
       "</style>\n",
       "<table border=\"1\" class=\"dataframe\">\n",
       "  <thead>\n",
       "    <tr style=\"text-align: right;\">\n",
       "      <th>Voucher_Sport</th>\n",
       "      <th>Archery</th>\n",
       "      <th>Athletics</th>\n",
       "      <th>Australian Rules</th>\n",
       "      <th>BMX</th>\n",
       "      <th>Badminton</th>\n",
       "      <th>Baseball</th>\n",
       "      <th>Basketball</th>\n",
       "      <th>Bowls</th>\n",
       "      <th>Calisthenics</th>\n",
       "      <th>Cricket</th>\n",
       "      <th>...</th>\n",
       "      <th>Surf Riding</th>\n",
       "      <th>Swimming</th>\n",
       "      <th>Table Tennis</th>\n",
       "      <th>Taekwondo</th>\n",
       "      <th>Tennis</th>\n",
       "      <th>Touch</th>\n",
       "      <th>Volleyball</th>\n",
       "      <th>Water Polo</th>\n",
       "      <th>Weightlifting</th>\n",
       "      <th>Wrestling</th>\n",
       "    </tr>\n",
       "    <tr>\n",
       "      <th>Participant_LGA</th>\n",
       "      <th></th>\n",
       "      <th></th>\n",
       "      <th></th>\n",
       "      <th></th>\n",
       "      <th></th>\n",
       "      <th></th>\n",
       "      <th></th>\n",
       "      <th></th>\n",
       "      <th></th>\n",
       "      <th></th>\n",
       "      <th></th>\n",
       "      <th></th>\n",
       "      <th></th>\n",
       "      <th></th>\n",
       "      <th></th>\n",
       "      <th></th>\n",
       "      <th></th>\n",
       "      <th></th>\n",
       "      <th></th>\n",
       "      <th></th>\n",
       "      <th></th>\n",
       "    </tr>\n",
       "  </thead>\n",
       "  <tbody>\n",
       "    <tr>\n",
       "      <th>ADELAIDE</th>\n",
       "      <td>NaN</td>\n",
       "      <td>16.0</td>\n",
       "      <td>130.0</td>\n",
       "      <td>NaN</td>\n",
       "      <td>NaN</td>\n",
       "      <td>1.0</td>\n",
       "      <td>4.0</td>\n",
       "      <td>NaN</td>\n",
       "      <td>1.0</td>\n",
       "      <td>2.0</td>\n",
       "      <td>...</td>\n",
       "      <td>NaN</td>\n",
       "      <td>NaN</td>\n",
       "      <td>NaN</td>\n",
       "      <td>11.0</td>\n",
       "      <td>4.0</td>\n",
       "      <td>NaN</td>\n",
       "      <td>NaN</td>\n",
       "      <td>NaN</td>\n",
       "      <td>NaN</td>\n",
       "      <td>NaN</td>\n",
       "    </tr>\n",
       "    <tr>\n",
       "      <th>ADELAIDE HILLS</th>\n",
       "      <td>3.0</td>\n",
       "      <td>204.0</td>\n",
       "      <td>1412.0</td>\n",
       "      <td>2.0</td>\n",
       "      <td>NaN</td>\n",
       "      <td>11.0</td>\n",
       "      <td>48.0</td>\n",
       "      <td>NaN</td>\n",
       "      <td>62.0</td>\n",
       "      <td>128.0</td>\n",
       "      <td>...</td>\n",
       "      <td>NaN</td>\n",
       "      <td>18.0</td>\n",
       "      <td>3.0</td>\n",
       "      <td>44.0</td>\n",
       "      <td>257.0</td>\n",
       "      <td>2.0</td>\n",
       "      <td>1.0</td>\n",
       "      <td>1.0</td>\n",
       "      <td>NaN</td>\n",
       "      <td>NaN</td>\n",
       "    </tr>\n",
       "    <tr>\n",
       "      <th>ADELAIDE PLAINS</th>\n",
       "      <td>NaN</td>\n",
       "      <td>3.0</td>\n",
       "      <td>485.0</td>\n",
       "      <td>NaN</td>\n",
       "      <td>NaN</td>\n",
       "      <td>3.0</td>\n",
       "      <td>15.0</td>\n",
       "      <td>NaN</td>\n",
       "      <td>23.0</td>\n",
       "      <td>3.0</td>\n",
       "      <td>...</td>\n",
       "      <td>NaN</td>\n",
       "      <td>3.0</td>\n",
       "      <td>NaN</td>\n",
       "      <td>NaN</td>\n",
       "      <td>13.0</td>\n",
       "      <td>NaN</td>\n",
       "      <td>NaN</td>\n",
       "      <td>NaN</td>\n",
       "      <td>NaN</td>\n",
       "      <td>NaN</td>\n",
       "    </tr>\n",
       "    <tr>\n",
       "      <th>ALEXANDRINA</th>\n",
       "      <td>9.0</td>\n",
       "      <td>62.0</td>\n",
       "      <td>980.0</td>\n",
       "      <td>4.0</td>\n",
       "      <td>3.0</td>\n",
       "      <td>NaN</td>\n",
       "      <td>204.0</td>\n",
       "      <td>NaN</td>\n",
       "      <td>5.0</td>\n",
       "      <td>8.0</td>\n",
       "      <td>...</td>\n",
       "      <td>2.0</td>\n",
       "      <td>11.0</td>\n",
       "      <td>NaN</td>\n",
       "      <td>NaN</td>\n",
       "      <td>109.0</td>\n",
       "      <td>NaN</td>\n",
       "      <td>NaN</td>\n",
       "      <td>NaN</td>\n",
       "      <td>NaN</td>\n",
       "      <td>NaN</td>\n",
       "    </tr>\n",
       "    <tr>\n",
       "      <th>BAROSSA</th>\n",
       "      <td>NaN</td>\n",
       "      <td>158.0</td>\n",
       "      <td>1196.0</td>\n",
       "      <td>3.0</td>\n",
       "      <td>NaN</td>\n",
       "      <td>6.0</td>\n",
       "      <td>341.0</td>\n",
       "      <td>NaN</td>\n",
       "      <td>9.0</td>\n",
       "      <td>56.0</td>\n",
       "      <td>...</td>\n",
       "      <td>NaN</td>\n",
       "      <td>12.0</td>\n",
       "      <td>NaN</td>\n",
       "      <td>NaN</td>\n",
       "      <td>83.0</td>\n",
       "      <td>NaN</td>\n",
       "      <td>NaN</td>\n",
       "      <td>NaN</td>\n",
       "      <td>NaN</td>\n",
       "      <td>NaN</td>\n",
       "    </tr>\n",
       "  </tbody>\n",
       "</table>\n",
       "<p>5 rows × 50 columns</p>\n",
       "</div>"
      ],
      "text/plain": [
       "Voucher_Sport    Archery  Athletics  Australian Rules  BMX  Badminton  \\\n",
       "Participant_LGA                                                         \n",
       "ADELAIDE             NaN       16.0             130.0  NaN        NaN   \n",
       "ADELAIDE HILLS       3.0      204.0            1412.0  2.0        NaN   \n",
       "ADELAIDE PLAINS      NaN        3.0             485.0  NaN        NaN   \n",
       "ALEXANDRINA          9.0       62.0             980.0  4.0        3.0   \n",
       "BAROSSA              NaN      158.0            1196.0  3.0        NaN   \n",
       "\n",
       "Voucher_Sport    Baseball  Basketball  Bowls  Calisthenics  Cricket  ...  \\\n",
       "Participant_LGA                                                      ...   \n",
       "ADELAIDE              1.0         4.0    NaN           1.0      2.0  ...   \n",
       "ADELAIDE HILLS       11.0        48.0    NaN          62.0    128.0  ...   \n",
       "ADELAIDE PLAINS       3.0        15.0    NaN          23.0      3.0  ...   \n",
       "ALEXANDRINA           NaN       204.0    NaN           5.0      8.0  ...   \n",
       "BAROSSA               6.0       341.0    NaN           9.0     56.0  ...   \n",
       "\n",
       "Voucher_Sport    Surf Riding  Swimming  Table Tennis  Taekwondo  Tennis  \\\n",
       "Participant_LGA                                                           \n",
       "ADELAIDE                 NaN       NaN           NaN       11.0     4.0   \n",
       "ADELAIDE HILLS           NaN      18.0           3.0       44.0   257.0   \n",
       "ADELAIDE PLAINS          NaN       3.0           NaN        NaN    13.0   \n",
       "ALEXANDRINA              2.0      11.0           NaN        NaN   109.0   \n",
       "BAROSSA                  NaN      12.0           NaN        NaN    83.0   \n",
       "\n",
       "Voucher_Sport    Touch  Volleyball  Water Polo  Weightlifting  Wrestling  \n",
       "Participant_LGA                                                           \n",
       "ADELAIDE           NaN         NaN         NaN            NaN        NaN  \n",
       "ADELAIDE HILLS     2.0         1.0         1.0            NaN        NaN  \n",
       "ADELAIDE PLAINS    NaN         NaN         NaN            NaN        NaN  \n",
       "ALEXANDRINA        NaN         NaN         NaN            NaN        NaN  \n",
       "BAROSSA            NaN         NaN         NaN            NaN        NaN  \n",
       "\n",
       "[5 rows x 50 columns]"
      ]
     },
     "execution_count": 16,
     "metadata": {},
     "output_type": "execute_result"
    }
   ],
   "source": [
    "pivot.head()"
   ]
  },
  {
   "cell_type": "code",
   "execution_count": 17,
   "metadata": {},
   "outputs": [],
   "source": [
    "pivot = pivot.fillna(0)"
   ]
  },
  {
   "cell_type": "markdown",
   "metadata": {},
   "source": [
    "Applying the pivot table has drastically aided in the dimensioniality of the DF,m making it easier to explore the DF. I have also changed the NAN values to zero, making the assumption that the nan values represent no voucher redeemed. \n",
    "\n",
    "Let's try some plots with this new df now. "
   ]
  },
  {
   "cell_type": "markdown",
   "metadata": {},
   "source": [
    "from https://seaborn.pydata.org/examples/part_whole_bars.html"
   ]
  },
  {
   "cell_type": "markdown",
   "metadata": {},
   "source": [
    "**Removing any uppercase words for ease of referencing the DF.**\n",
    "\n",
    "help from https://www.codegrepper.com/code-examples/python/convert+columns+to+lowercase+pandas"
   ]
  },
  {
   "cell_type": "code",
   "execution_count": 18,
   "metadata": {},
   "outputs": [],
   "source": [
    "pivot.index = pivot.index.str.lower()"
   ]
  },
  {
   "cell_type": "code",
   "execution_count": 19,
   "metadata": {},
   "outputs": [],
   "source": [
    "pivot.columns = pivot.columns.str.lower()"
   ]
  },
  {
   "cell_type": "markdown",
   "metadata": {},
   "source": [
    "`.rank()` works such that each column has a new ranking. 1 being the highest rank (and so highest value in the original DF). "
   ]
  },
  {
   "cell_type": "code",
   "execution_count": 20,
   "metadata": {},
   "outputs": [],
   "source": [
    "rank = pivot.rank(ascending = False, method='first')"
   ]
  },
  {
   "cell_type": "markdown",
   "metadata": {},
   "source": [
    "the `idxmax` and `idxmin` function determines the most and least popular sports in each LGA and we can easily display which sports are found via the `set` function."
   ]
  },
  {
   "cell_type": "code",
   "execution_count": 21,
   "metadata": {},
   "outputs": [
    {
     "data": {
      "text/plain": [
       "{'australian rules', 'basketball', 'football (soccer)', 'netball', 'swimming'}"
      ]
     },
     "execution_count": 21,
     "metadata": {},
     "output_type": "execute_result"
    }
   ],
   "source": [
    "set(pivot.idxmax(axis=1))"
   ]
  },
  {
   "cell_type": "code",
   "execution_count": 22,
   "metadata": {},
   "outputs": [
    {
     "data": {
      "text/plain": [
       "{'archery', 'badminton', 'baseball', 'bmx'}"
      ]
     },
     "execution_count": 22,
     "metadata": {},
     "output_type": "execute_result"
    }
   ],
   "source": [
    "set(pivot.idxmin(axis=1))"
   ]
  },
  {
   "cell_type": "code",
   "execution_count": 23,
   "metadata": {},
   "outputs": [],
   "source": [
    "topSports = list(set(pivot.idxmax(axis=1)))\n",
    "botSports = list(set(pivot.idxmin(axis=1)))"
   ]
  },
  {
   "cell_type": "markdown",
   "metadata": {},
   "source": [
    "So now we've found which sports stand out. \n",
    "\n",
    "Let's plot this to see how these top 5 sports vary in popularity among themselves. "
   ]
  },
  {
   "cell_type": "code",
   "execution_count": 24,
   "metadata": {},
   "outputs": [
    {
     "data": {
      "text/plain": [
       "Voucher_Sport\n",
       "australian rules     47224.0\n",
       "netball              24017.0\n",
       "football (soccer)    15775.0\n",
       "basketball            6016.0\n",
       "swimming              1204.0\n",
       "dtype: float64"
      ]
     },
     "execution_count": 24,
     "metadata": {},
     "output_type": "execute_result"
    }
   ],
   "source": [
    "pivot[topSports].sum().sort_values(ascending=False)"
   ]
  },
  {
   "cell_type": "code",
   "execution_count": 25,
   "metadata": {},
   "outputs": [
    {
     "data": {
      "image/png": "[encoded data removed]",
      "text/plain": [
       "<Figure size 1080x720 with 2 Axes>"
      ]
     },
     "metadata": {},
     "output_type": "display_data"
    }
   ],
   "source": [
    "sns.set_theme(style=\"whitegrid\")\n",
    "fig, axes= plt.subplots(2,1, figsize=(15,10))\n",
    "\n",
    "\n",
    "\n",
    "\n",
    "pivot[topSports].sum().sort_values().plot(kind='barh', style='b', alpha=0.7,\n",
    "              title='Most Popular Sports', ax = axes[0])\n",
    "\n",
    "\n",
    "\n",
    "pivot[botSports].sum().sort_values().plot(kind='barh', style='b', alpha=0.7,\n",
    "              title='Least Popular Sports', ax = axes[1])\n",
    "\n",
    "# plt.title('Significant sports in each LGA')\n",
    "plt.tight_layout()\n",
    "plt.show()"
   ]
  },
  {
   "cell_type": "markdown",
   "metadata": {},
   "source": [
    "would normalising this help? "
   ]
  },
  {
   "cell_type": "markdown",
   "metadata": {},
   "source": [
    "We can see Australian Rules and Netball are the most popular, badminton and archery being the least popular. We expect this as we know most Australians play these popular sports growing up. Other factors that can be included may be the regions in which these sports are played. Some LGAs may have a higher voucher claim rate for a less popular sport than others. We were able to show the most popular sports across all LGAs, though there may be some LGAs where these top sports are not popular. "
   ]
  },
  {
   "cell_type": "markdown",
   "metadata": {},
   "source": [
    "Similarly, let's now begin the process to check which are the top LGAs for claimed vouchers. This meaning we will find the which LGA has the highest number of claims for each sport. "
   ]
  },
  {
   "cell_type": "code",
   "execution_count": 26,
   "metadata": {},
   "outputs": [
    {
     "data": {
      "text/plain": [
       "Voucher_Sport\n",
       "archery             alexandrina\n",
       "athletics           onkaparinga\n",
       "australian rules    onkaparinga\n",
       "bmx                 onkaparinga\n",
       "badminton           alexandrina\n",
       "baseball            onkaparinga\n",
       "basketball              whyalla\n",
       "bowls                    marion\n",
       "calisthenics        onkaparinga\n",
       "cricket               salisbury\n",
       "dtype: object"
      ]
     },
     "execution_count": 26,
     "metadata": {},
     "output_type": "execute_result"
    }
   ],
   "source": [
    "pivot.idxmax(axis=0).head(10)"
   ]
  },
  {
   "cell_type": "code",
   "execution_count": 27,
   "metadata": {},
   "outputs": [],
   "source": [
    "idxmaxSports = list(set(pivot.idxmax(axis=0)))\n",
    "idxminSports = list(set(pivot.idxmin(axis=0)))"
   ]
  },
  {
   "cell_type": "markdown",
   "metadata": {},
   "source": [
    "we notice that some of the LGAs are in each of the top and bottom LGAs. This is fine because an LGA that has the most claim for one sport, may have the lowest number of claims for another sport. Thus, appearing in both idxmax and idxmin "
   ]
  },
  {
   "cell_type": "markdown",
   "metadata": {},
   "source": [
    "to check which lga has the most claimed vouchers. Onkaparinga being number one with most claimed vouchers."
   ]
  },
  {
   "cell_type": "code",
   "execution_count": 28,
   "metadata": {},
   "outputs": [
    {
     "data": {
      "text/plain": [
       "Participant_LGA\n",
       "onkaparinga       1.0\n",
       "salisbury         2.0\n",
       "tea tree gully    3.0\n",
       "playford          4.0\n",
       "charles sturt     5.0\n",
       "dtype: float64"
      ]
     },
     "execution_count": 28,
     "metadata": {},
     "output_type": "execute_result"
    }
   ],
   "source": [
    "totalClaimed = pivot.sum(axis=1)\n",
    "totalClaimed.rank(ascending=False, method='dense').sort_values().head()"
   ]
  },
  {
   "cell_type": "markdown",
   "metadata": {},
   "source": [
    "The following will tell us the top ad bottom sports for the specific LGA. "
   ]
  },
  {
   "cell_type": "code",
   "execution_count": 29,
   "metadata": {},
   "outputs": [
    {
     "data": {
      "text/plain": [
       "Participant_LGA\n",
       "onkaparinga       12782.0\n",
       "salisbury          8169.0\n",
       "tea tree gully     7219.0\n",
       "playford           6940.0\n",
       "charles sturt      6897.0\n",
       "dtype: float64"
      ]
     },
     "execution_count": 29,
     "metadata": {},
     "output_type": "execute_result"
    }
   ],
   "source": [
    "totalClaimed_top5 = totalClaimed.sort_values(ascending=False).nlargest(5)\n",
    "totalClaimed_top5"
   ]
  },
  {
   "cell_type": "code",
   "execution_count": 30,
   "metadata": {},
   "outputs": [
    {
     "data": {
      "text/plain": [
       "Participant_LGA\n",
       "coober pedy           39.0\n",
       "peterborough          45.0\n",
       "flinders ranges      102.0\n",
       "orroroo/carrieton    137.0\n",
       "franklin harbour     155.0\n",
       "dtype: float64"
      ]
     },
     "execution_count": 30,
     "metadata": {},
     "output_type": "execute_result"
    }
   ],
   "source": [
    "totalClaimed_bot5 = totalClaimed.sort_values(ascending=False).nsmallest(5)\n",
    "totalClaimed_bot5"
   ]
  },
  {
   "cell_type": "code",
   "execution_count": 31,
   "metadata": {},
   "outputs": [
    {
     "data": {
      "image/png": "[encoded data removed]",
      "text/plain": [
       "<Figure size 864x360 with 2 Axes>"
      ]
     },
     "metadata": {},
     "output_type": "display_data"
    }
   ],
   "source": [
    "sns.set_theme(style=\"whitegrid\")\n",
    "fig, axes = plt.subplots(2,1, figsize=(12, 5))\n",
    "\n",
    "\n",
    "totalClaimed_top5.sort_values().plot(kind='barh', style='r', alpha=0.7,\n",
    "              title='Total Claimed Vouchers For The Top 5 LGAs', ax=axes[0])\n",
    "\n",
    "totalClaimed_bot5.sort_values().plot(kind='barh', style='b', alpha=0.7,\n",
    "              title='Total Claimed Vouchers For The bottom 5 LGAs',ax=axes[1])\n",
    "fig.tight_layout()\n",
    "plt.show()"
   ]
  },
  {
   "cell_type": "markdown",
   "metadata": {},
   "source": [
    "Help with `tight_layout()` from https://stackoverflow.com/questions/6541123/improve-subplot-size-spacing-with-many-subplots-in-matplotlib"
   ]
  },
  {
   "cell_type": "markdown",
   "metadata": {},
   "source": [
    "Onkaparinga stands out the most for total claimed vouchers within the LGA. Let's check what the most popular sports are in that LGA: "
   ]
  },
  {
   "cell_type": "code",
   "execution_count": 32,
   "metadata": {},
   "outputs": [
    {
     "data": {
      "image/png": "[encoded data removed]",
      "text/plain": [
       "<Figure size 864x360 with 2 Axes>"
      ]
     },
     "metadata": {},
     "output_type": "display_data"
    }
   ],
   "source": [
    "sns.set_theme(style=\"whitegrid\")\n",
    "fig, axes = plt.subplots(2,1, figsize=(12, 5))\n",
    "\n",
    "\n",
    "pivot.loc['onkaparinga'].nlargest(5).sort_values().plot(kind='barh', style='b', alpha=0.7,\n",
    "              title='Most popular sports in Onkaparinga', ax = axes[0])\n",
    "\n",
    "pivot.loc['onkaparinga'][topSports].sort_values().plot(kind='barh', style='b', alpha=0.7,\n",
    "              title='The overall top sports in Onkarparinga', ax = axes[1])\n",
    "\n",
    "plt.tight_layout()"
   ]
  },
  {
   "cell_type": "code",
   "execution_count": 33,
   "metadata": {},
   "outputs": [
    {
     "data": {
      "image/png": "[encoded data removed]",
      "text/plain": [
       "<Figure size 864x360 with 2 Axes>"
      ]
     },
     "metadata": {},
     "output_type": "display_data"
    }
   ],
   "source": [
    "sns.set_theme(style=\"whitegrid\")\n",
    "fig, axes = plt.subplots(2,1, figsize=(12, 5))\n",
    "\n",
    "\n",
    "pivot.loc['onkaparinga'].nlargest(5).sort_values().plot(kind='barh', style='b', alpha=0.7,\n",
    "              title='Most popular sports in Onkaparinga', ax = axes[0])\n",
    "\n",
    "pivot.loc['onkaparinga'][topSports].sort_values().plot(kind='barh', style='b', alpha=0.7,\n",
    "              title='The overall top sports in Onkarparinga', ax = axes[1])\n",
    "\n",
    "plt.tight_layout()"
   ]
  },
  {
   "cell_type": "markdown",
   "metadata": {},
   "source": [
    "We can see Australian Rules dominates in this LGA compared to the other most popular sports. as we can see in the second plot, the top sports across all LGAs aren't all seen in Onkaparinga. Basketball and swimming appear in `topSports` but are not as popular in Onkaparinga as athletics and gymnastics. \n",
    "\n",
    "Comparing this plot to the plot for the most popular sports, we also notice Onkaparinga accounts for approximately 1/9$^{th}$ of the total claimed vouchers for Australian rules.\n",
    "\n",
    "Checking now for the 5 bottom LGAs"
   ]
  },
  {
   "cell_type": "code",
   "execution_count": 34,
   "metadata": {},
   "outputs": [
    {
     "data": {
      "image/png": "[encoded data removed]",
      "text/plain": [
       "<Figure size 864x360 with 1 Axes>"
      ]
     },
     "metadata": {},
     "output_type": "display_data"
    }
   ],
   "source": [
    "sns.set_theme(style=\"whitegrid\")\n",
    "fig, axes = plt.subplots(1,1, figsize=(12, 5))\n",
    "\n",
    "\n",
    "pivot.loc['coober pedy'].nlargest(5).sort_values().plot(kind='barh', style='b', alpha=0.7,\n",
    "              title='Most popular sports in Coober Pedy')\n",
    "\n",
    "# pivot.loc['coober pedy'][topSports].sort_values().plot(kind='barh', style='b', alpha=0.7,\n",
    "#               title='The overall top sports in Coober Pedy', ax = axes[1])\n",
    "\n",
    "plt.tight_layout()"
   ]
  },
  {
   "cell_type": "markdown",
   "metadata": {},
   "source": [
    "The LGA with the least number of voucher claims has only claimed for one sport, being the most popular sport. "
   ]
  },
  {
   "cell_type": "markdown",
   "metadata": {
    "heading_collapsed": true
   },
   "source": [
    "### trying to get one bar plot for AFL to see the contribution from other LGAs and 'other' for the smaller LGAs. "
   ]
  },
  {
   "cell_type": "raw",
   "metadata": {
    "hidden": true
   },
   "source": [
    "test = pd.pivot_table(group, values = 'Participant_ID', index = 'Voucher_Sport', columns = 'Participant_LGA')"
   ]
  },
  {
   "cell_type": "raw",
   "metadata": {
    "hidden": true
   },
   "source": [
    "test.index = test.index.str.lower()\n",
    "test.columns = test.columns.str.lower()"
   ]
  },
  {
   "cell_type": "raw",
   "metadata": {
    "hidden": true
   },
   "source": [
    "test = test.fillna(0)"
   ]
  },
  {
   "cell_type": "raw",
   "metadata": {
    "hidden": true
   },
   "source": [
    "test"
   ]
  },
  {
   "cell_type": "raw",
   "metadata": {
    "hidden": true
   },
   "source": [
    "(pivot['australian rules'].nlargest(5))"
   ]
  },
  {
   "cell_type": "raw",
   "metadata": {
    "hidden": true
   },
   "source": [
    "otherSum = pivot['australian rules'].nsmallest(69-5).sum()"
   ]
  },
  {
   "cell_type": "raw",
   "metadata": {
    "hidden": true
   },
   "source": [
    "(pivot['australian rules'].to_frame().transpose())"
   ]
  },
  {
   "cell_type": "markdown",
   "metadata": {
    "heading_collapsed": true
   },
   "source": [
    "### help 5"
   ]
  },
  {
   "cell_type": "markdown",
   "metadata": {
    "hidden": true
   },
   "source": [
    "\n",
    "\n",
    "**QUESTION**\n",
    "***\n",
    "```\n",
    "i'm trying to make a single stacked hbar plot to indicate how much the top 5 lgas contribute to the specified sport. The remaining sports are classified as 'other'\n",
    "\n",
    "```\n",
    "***"
   ]
  },
  {
   "cell_type": "raw",
   "metadata": {
    "hidden": true
   },
   "source": [
    "test = pivot['australian rules'].to_frame().transpose()[myList]"
   ]
  },
  {
   "cell_type": "raw",
   "metadata": {
    "hidden": true
   },
   "source": [
    "otherSum"
   ]
  },
  {
   "cell_type": "raw",
   "metadata": {
    "hidden": true
   },
   "source": [
    "otherDF = pd.DataFrame({'other':[otherSum]}, index = 'australian rules')"
   ]
  },
  {
   "cell_type": "raw",
   "metadata": {
    "hidden": true
   },
   "source": [
    "otherDF\n"
   ]
  },
  {
   "cell_type": "raw",
   "metadata": {
    "hidden": true
   },
   "source": [
    "test.append(otherDF)"
   ]
  },
  {
   "cell_type": "raw",
   "metadata": {
    "hidden": true
   },
   "source": [
    "myList = list(pivot['australian rules'].nlargest(5).sort_values(ascending=False).index)"
   ]
  },
  {
   "cell_type": "raw",
   "metadata": {
    "hidden": true
   },
   "source": [
    "sns.set_theme(style=\"whitegrid\")\n",
    "# fig, axes = plt.subplots(2,1, figsize=(12, 5))\n",
    "\n",
    "\n",
    "# pivot['australian rules'].to_frame().transpose().plot.barh(stacked=True,style='b', alpha=0.7,\n",
    "#               title='Most popular sports in Onkaparinga')\n",
    "\n",
    "pivot['australian rules'].to_frame().transpose()[myList].plot.barh(stacked=True,style='b', alpha=0.7,\n",
    "              title='Most popular sports in Onkaparinga')\n",
    "\n",
    "# pivot.loc['onkaparinga'][topSports].sort_values().plot(kind='barh', style='b', alpha=0.7,\n",
    "#               title='The overall top sports in Onkarparinga', ax = axes[1])\n",
    "\n",
    "# plt.tight_layout()"
   ]
  },
  {
   "cell_type": "markdown",
   "metadata": {
    "heading_collapsed": true
   },
   "source": [
    "# Question 2"
   ]
  },
  {
   "cell_type": "markdown",
   "metadata": {
    "hidden": true
   },
   "source": [
    "Are some sports more popular in different parts of the state?"
   ]
  },
  {
   "cell_type": "markdown",
   "metadata": {
    "hidden": true
   },
   "source": [
    "We have the ranking for each sport, so we can sort them to see which LGA is most popular. "
   ]
  },
  {
   "cell_type": "raw",
   "metadata": {
    "hidden": true
   },
   "source": [
    "rank['archery'].sort_values().nsmallest(5)"
   ]
  },
  {
   "cell_type": "markdown",
   "metadata": {
    "hidden": true
   },
   "source": [
    "Perhaps we can use a for loop for plotting the popluarity of each sport. Do we want to plot all the sports or just the top ten sports? "
   ]
  },
  {
   "cell_type": "raw",
   "metadata": {
    "hidden": true
   },
   "source": [
    "pivot.archery.sort_values().nlargest(5)"
   ]
  },
  {
   "cell_type": "raw",
   "metadata": {
    "hidden": true
   },
   "source": [
    "for i in topSports: \n",
    "    print(rank[i].sort_values().nsmallest(5))\n",
    "    print('')\n",
    "    print(pivot[i].sort_values().nlargest(5))\n",
    "    print('----------------------------------')\n",
    "\n"
   ]
  },
  {
   "cell_type": "raw",
   "metadata": {
    "hidden": true
   },
   "source": [
    "len(topSports)"
   ]
  },
  {
   "cell_type": "raw",
   "metadata": {
    "hidden": true
   },
   "source": [
    "sns.set_theme(style=\"whitegrid\")\n",
    "fig = plt.figure(figsize=(12, 5))\n",
    "\n",
    "my_colors = ['b', 'r', 'g', 'y', 'm']\n",
    "\n",
    "for i in topSports:\n",
    "\n",
    "    pivot[i].sort_values().nlargest(5).plot(kind='barh', style='b', alpha=0.7,\n",
    "                  title='Top sports in LGA with most claimed vouchers')\n",
    "    "
   ]
  },
  {
   "cell_type": "raw",
   "metadata": {
    "hidden": true
   },
   "source": [
    "sns.set_theme(style=\"whitegrid\")\n",
    "fig = plt.figure(figsize=(12, 5))\n",
    "\n",
    "my_colors = ['b', 'r', 'g', 'y', 'm']\n",
    "\n",
    "for i in topSports:\n",
    "\n",
    "    ax = pivot[i].sort_values().nlargest(5).plot(kind='barh', stacked=True, color=my_colors, figsize=(12, 6))\n",
    "    \n",
    "    ax.legend(loc='center left', bbox_to_anchor=(1, 0.5))\n",
    "# plt.savefig('Value_Time_Country.png', dpi=300, bbox_inches='tight')"
   ]
  },
  {
   "cell_type": "markdown",
   "metadata": {
    "heading_collapsed": true,
    "hidden": true
   },
   "source": [
    "### help 4 "
   ]
  },
  {
   "cell_type": "markdown",
   "metadata": {
    "hidden": true
   },
   "source": [
    "\n",
    "**QUESTIONS** \n",
    "***\n",
    "**1.**\n",
    "trying to get these stacked like in https://seaborn.pydata.org/examples/part_whole_bars.html\n",
    "\n",
    "below is the plots separately, but i want them all together\n",
    "\n",
    "**2.** had to use extend multiple times to plot them together.\n",
    "\n",
    "**3.** I have the total number of vouchers claimed per LGA. If I want to keep the top 5 individually then put the rest as 'other'? \n",
    "\n",
    "**4.** need help understanding how to normalise\n",
    "***"
   ]
  },
  {
   "cell_type": "code",
   "execution_count": 40,
   "metadata": {
    "hidden": true
   },
   "outputs": [
    {
     "data": {
      "text/plain": [
       "['netball', 'swimming', 'australian rules', 'football (soccer)', 'basketball']"
      ]
     },
     "execution_count": 40,
     "metadata": {},
     "output_type": "execute_result"
    }
   ],
   "source": [
    "topSports"
   ]
  },
  {
   "cell_type": "code",
   "execution_count": 58,
   "metadata": {
    "hidden": true
   },
   "outputs": [
    {
     "data": {
      "text/plain": [
       "['baseball', 'archery', 'bmx', 'badminton']"
      ]
     },
     "execution_count": 58,
     "metadata": {},
     "output_type": "execute_result"
    }
   ],
   "source": [
    "botSports"
   ]
  },
  {
   "cell_type": "code",
   "execution_count": 41,
   "metadata": {
    "hidden": true
   },
   "outputs": [],
   "source": [
    "netball = pivot[topSports[0]].sort_values().nlargest(5)\n",
    "swimming =pivot[topSports[1]].sort_values().nlargest(5)\n",
    "soccer= pivot[topSports[2]].sort_values().nlargest(5)\n",
    "afl= pivot[topSports[3]].sort_values().nlargest(5)\n",
    "basketball = pivot[topSports[4]].sort_values().nlargest(5)"
   ]
  },
  {
   "cell_type": "code",
   "execution_count": 42,
   "metadata": {
    "hidden": true
   },
   "outputs": [],
   "source": [
    "list1 = list(netball.index.values)\n",
    "list2 = list(swimming.index.values)\n",
    "list3 = list(soccer.index.values)\n",
    "list4 = list(afl.index.values)\n",
    "list5 = list(basketball.index.values)\n",
    "\n",
    "# mylist = list1.concatenate([list2, list3, list4, list5])"
   ]
  },
  {
   "cell_type": "code",
   "execution_count": 43,
   "metadata": {
    "hidden": true
   },
   "outputs": [
    {
     "data": {
      "text/plain": [
       "{'adelaide hills', 'mount barker', 'onkaparinga', 'playford', 'tea tree gully'}"
      ]
     },
     "execution_count": 43,
     "metadata": {},
     "output_type": "execute_result"
    }
   ],
   "source": [
    "set(list1)"
   ]
  },
  {
   "cell_type": "code",
   "execution_count": 44,
   "metadata": {
    "hidden": true
   },
   "outputs": [],
   "source": [
    "list1.extend(list2)"
   ]
  },
  {
   "cell_type": "code",
   "execution_count": 45,
   "metadata": {
    "hidden": true
   },
   "outputs": [],
   "source": [
    "list1.extend(list3)"
   ]
  },
  {
   "cell_type": "code",
   "execution_count": 46,
   "metadata": {
    "hidden": true
   },
   "outputs": [],
   "source": [
    "list1.extend(list4)"
   ]
  },
  {
   "cell_type": "code",
   "execution_count": 47,
   "metadata": {
    "hidden": true
   },
   "outputs": [],
   "source": [
    "list1.extend(list5)"
   ]
  },
  {
   "cell_type": "code",
   "execution_count": 48,
   "metadata": {
    "hidden": true
   },
   "outputs": [
    {
     "data": {
      "text/plain": [
       "Participant_LGA\n",
       "onkaparinga          12782.0\n",
       "salisbury             8169.0\n",
       "tea tree gully        7219.0\n",
       "playford              6940.0\n",
       "charles sturt         6897.0\n",
       "                      ...   \n",
       "franklin harbour       155.0\n",
       "orroroo/carrieton      137.0\n",
       "flinders ranges        102.0\n",
       "peterborough            45.0\n",
       "coober pedy             39.0\n",
       "Length: 69, dtype: float64"
      ]
     },
     "execution_count": 48,
     "metadata": {},
     "output_type": "execute_result"
    }
   ],
   "source": [
    "totalClaimed.sort_values(ascending=False)"
   ]
  },
  {
   "cell_type": "raw",
   "metadata": {
    "hidden": true
   },
   "source": [
    "pivot_top[topSports]"
   ]
  },
  {
   "cell_type": "code",
   "execution_count": 57,
   "metadata": {
    "hidden": true
   },
   "outputs": [
    {
     "data": {
      "text/plain": [
       "<matplotlib.axes._subplots.AxesSubplot at 0x16d66791be0>"
      ]
     },
     "execution_count": 57,
     "metadata": {},
     "output_type": "execute_result"
    },
    {
     "data": {
      "text/plain": [
       "<Figure size 1080x720 with 0 Axes>"
      ]
     },
     "metadata": {},
     "output_type": "display_data"
    },
    {
     "data": {
      "image/png": "[encoded data removed]",
      "text/plain": [
       "<Figure size 432x288 with 1 Axes>"
      ]
     },
     "metadata": {},
     "output_type": "display_data"
    }
   ],
   "source": [
    "plt.figure(figsize=(15,10))\n",
    "\n",
    "pivot_top = pivot.loc[set(list1)] \n",
    "\n",
    "pivot_top[topSports].plot.barh(stacked=True)\n"
   ]
  },
  {
   "cell_type": "code",
   "execution_count": null,
   "metadata": {
    "hidden": true
   },
   "outputs": [],
   "source": []
  },
  {
   "cell_type": "markdown",
   "metadata": {
    "hidden": true
   },
   "source": [
    "try the normalised charts https://altair-viz.github.io/gallery/normalized_stacked_bar_chart.html\n",
    "\n",
    "check out matrix plot. one axis is lga and the other its the sport \n",
    "\n",
    "since it's not normalised, we don't know the proportions/ popularity\n",
    "\n",
    "should consider 'other sports' for the less popular sports. "
   ]
  },
  {
   "cell_type": "markdown",
   "metadata": {
    "hidden": true
   },
   "source": [
    "**trying matrix / heatmap** "
   ]
  },
  {
   "cell_type": "raw",
   "metadata": {
    "hidden": true
   },
   "source": [
    "sns.heatmap(pivot_top[topSports])"
   ]
  },
  {
   "cell_type": "markdown",
   "metadata": {
    "heading_collapsed": true,
    "hidden": true
   },
   "source": [
    "### plotting separately, don't really need this code anymore. "
   ]
  },
  {
   "cell_type": "raw",
   "metadata": {
    "hidden": true
   },
   "source": [
    "sns.set_theme(style=\"whitegrid\")\n",
    "fig = plt.figure(figsize=(12, 5))\n",
    "# fig, axes = plt.subplots(5, 1)\n",
    "\n",
    "my_colors = ['b', 'r', 'g', 'y', 'm']\n",
    "\n",
    "\n",
    "netball.plot(kind='barh',stacked=True, color='r', figsize=(12, 6))\n",
    "# swimming.plot(kind='barh',stacked=True, color='b',figsize=(12, 6))\n",
    "\n",
    "# soccer.plot(kind='barh',stacked=True, color='g',figsize=(12, 6))\n",
    "\n",
    "# afl.plot(kind='barh',stacked=True, color='y',figsize=(12, 6))\n",
    "\n",
    "# basketball.plot(kind='barh',stacked=True, color='m',figsize=(12, 6))\n",
    "\n",
    "\n",
    "plt.legend()"
   ]
  },
  {
   "cell_type": "raw",
   "metadata": {
    "hidden": true
   },
   "source": [
    "sns.set_theme(style=\"whitegrid\")\n",
    "fig = plt.figure(figsize=(12, 5))\n",
    "# fig, axes = plt.subplots(5, 1)\n",
    "\n",
    "my_colors = ['b', 'r', 'g', 'y', 'm']\n",
    "\n",
    "\n",
    "# netball.plot(kind='barh',stacked=True, color='r', figsize=(12, 6))\n",
    "swimming.plot(kind='barh',stacked=True, color='b',figsize=(12, 6))\n",
    "\n",
    "# soccer.plot(kind='barh',stacked=True, color='g',figsize=(12, 6))\n",
    "\n",
    "# afl.plot(kind='barh',stacked=True, color='y',figsize=(12, 6))\n",
    "\n",
    "# basketball.plot(kind='barh',stacked=True, color='m',figsize=(12, 6))\n",
    "\n",
    "\n",
    "plt.legend()"
   ]
  },
  {
   "cell_type": "raw",
   "metadata": {
    "hidden": true
   },
   "source": [
    "sns.set_theme(style=\"whitegrid\")\n",
    "fig = plt.figure(figsize=(12, 5))\n",
    "# fig, axes = plt.subplots(5, 1)\n",
    "\n",
    "my_colors = ['b', 'r', 'g', 'y', 'm']\n",
    "\n",
    "\n",
    "# netball.plot(kind='barh',stacked=True, color='r', figsize=(12, 6))\n",
    "# swimming.plot(kind='barh',stacked=True, color='b',figsize=(12, 6))\n",
    "\n",
    "soccer.plot(kind='barh',stacked=True, color='g',figsize=(12, 6))\n",
    "\n",
    "# afl.plot(kind='barh',stacked=True, color='y',figsize=(12, 6))\n",
    "\n",
    "# basketball.plot(kind='barh',stacked=True, color='m',figsize=(12, 6))\n",
    "\n",
    "\n",
    "plt.legend()"
   ]
  },
  {
   "cell_type": "raw",
   "metadata": {
    "hidden": true
   },
   "source": [
    "sns.set_theme(style=\"whitegrid\")\n",
    "fig = plt.figure(figsize=(12, 5))\n",
    "# fig, axes = plt.subplots(5, 1)\n",
    "\n",
    "my_colors = ['b', 'r', 'g', 'y', 'm']\n",
    "\n",
    "\n",
    "# netball.plot(kind='barh',stacked=True, color='r', figsize=(12, 6))\n",
    "# swimming.plot(kind='barh',stacked=True, color='b',figsize=(12, 6))\n",
    "\n",
    "# soccer.plot(kind='barh',stacked=True, color='g',figsize=(12, 6))\n",
    "\n",
    "afl.plot(kind='barh',stacked=True, color='y',figsize=(12, 6))\n",
    "\n",
    "# basketball.plot(kind='barh',stacked=True, color='m',figsize=(12, 6))\n",
    "\n",
    "\n",
    "plt.legend()"
   ]
  },
  {
   "cell_type": "raw",
   "metadata": {
    "hidden": true
   },
   "source": [
    "sns.set_theme(style=\"whitegrid\")\n",
    "fig = plt.figure(figsize=(12, 5))\n",
    "# fig, axes = plt.subplots(5, 1)\n",
    "\n",
    "my_colors = ['b', 'r', 'g', 'y', 'm']\n",
    "\n",
    "\n",
    "# netball.plot(kind='barh',stacked=True, color='r', figsize=(12, 6))\n",
    "# swimming.plot(kind='barh',stacked=True, color='b',figsize=(12, 6))\n",
    "\n",
    "# soccer.plot(kind='barh',stacked=True, color='g',figsize=(12, 6))\n",
    "\n",
    "# afl.plot(kind='barh',stacked=True, color='y',figsize=(12, 6))\n",
    "\n",
    "basketball.plot(kind='barh',stacked=True, color='m',figsize=(12, 6))\n",
    "\n",
    "\n",
    "plt.legend()"
   ]
  },
  {
   "cell_type": "raw",
   "metadata": {
    "hidden": true
   },
   "source": [
    "pivot.loc[topLGAs[14]].sort_values().nlargest(5)"
   ]
  },
  {
   "cell_type": "raw",
   "metadata": {
    "hidden": true
   },
   "source": [
    "pivot.loc[topLGAs]"
   ]
  },
  {
   "cell_type": "raw",
   "metadata": {
    "hidden": true
   },
   "source": [
    "pivot.loc[topLGAs[0]]"
   ]
  },
  {
   "cell_type": "raw",
   "metadata": {
    "hidden": true
   },
   "source": [
    "test = pivot.loc[topLGAs[0]].sort_values().nlargest(5)"
   ]
  },
  {
   "cell_type": "raw",
   "metadata": {
    "hidden": true
   },
   "source": [
    "pivot.archery.loc[topLGAs]"
   ]
  },
  {
   "cell_type": "raw",
   "metadata": {
    "hidden": true
   },
   "source": [
    "test"
   ]
  },
  {
   "cell_type": "raw",
   "metadata": {
    "hidden": true
   },
   "source": [
    "topLGAs"
   ]
  },
  {
   "cell_type": "raw",
   "metadata": {
    "hidden": true
   },
   "source": [
    "pivot.index"
   ]
  },
  {
   "cell_type": "raw",
   "metadata": {
    "hidden": true
   },
   "source": [
    "sns.set_theme(style=\"whitegrid\")\n",
    "fig = plt.figure(figsize=(12, 5))\n",
    "\n",
    "my_colors = ['b', 'r', 'g', 'y', 'm']\n",
    "\n",
    "sns.barplot(x = pivot.index, y = 'archery', data= pivot)\n",
    "\n",
    "\n",
    "\n",
    "plt.legend()"
   ]
  },
  {
   "cell_type": "raw",
   "metadata": {
    "hidden": true
   },
   "source": [
    "sns.set_theme(style=\"whitegrid\")\n",
    "fig = plt.figure(figsize=(12, 5))\n",
    "\n",
    "my_colors = ['b', 'r', 'g', 'y', 'm']\n",
    "\n",
    "test.plot(kind='barh', color='m',figsize=(12, 6), use_index=True)\n",
    "\n",
    "\n",
    "plt.legend()"
   ]
  },
  {
   "cell_type": "raw",
   "metadata": {
    "hidden": true
   },
   "source": [
    "\n",
    "sns.set_theme(style=\"whitegrid\")\n",
    "f, ax = plt.subplots(figsize=(6, 15))\n",
    "\n",
    "# Plot the total crashes\n",
    "sns.set_color_codes(\"pastel\")\n",
    "sns.barplot(test, , data=test,\n",
    "            label=\"test\", color=\"b\")\n",
    "\n",
    "# Plot the crashes where alcohol was involved\n",
    "sns.set_color_codes(\"muted\")\n",
    "sns.barplot(x=\"alcohol\", y=\"abbrev\", data=crashes,\n",
    "            label=\"Alcohol-involved\", color=\"b\")\n",
    "\n",
    "# Add a legend and informative axis label\n",
    "ax.legend(ncol=2, loc=\"lower right\", frameon=True)\n",
    "ax.set(xlim=(0, 24), ylabel=\"\",\n",
    "       xlabel=\"Automobile collisions per billion miles\")\n",
    "sns.despine(left=True, bottom=True)"
   ]
  },
  {
   "cell_type": "raw",
   "metadata": {
    "hidden": true
   },
   "source": [
    "sns.set_theme(style=\"whitegrid\")\n",
    "fig = plt.figure(figsize=(12, 5))\n",
    "\n",
    "my_colors = ['b', 'r', 'g', 'y', 'm']\n",
    "for i in topLGAs:\n",
    "    pivot.loc[i].sort_values().nlargest(5).plot(kind='barh', color='m',rfigsize=(12, 6), use_index=True)\n",
    "\n",
    "\n",
    "plt.legend()"
   ]
  },
  {
   "cell_type": "markdown",
   "metadata": {
    "hidden": true
   },
   "source": [
    "We now know the most popular sports, and we know the rank of each sport for each LGA. Appllying the rank function to the most popular sports"
   ]
  },
  {
   "cell_type": "raw",
   "metadata": {
    "hidden": true
   },
   "source": [
    "pivot.rank(ascending = False, method='first').sort_values('archery')['archery'][:10]\n",
    "# shows the rank of each lga for archery, displaying only archery column"
   ]
  },
  {
   "cell_type": "raw",
   "metadata": {
    "hidden": true
   },
   "source": [
    "rank = pivot.rank(ascending = False, method='first').sort_values('archery')['archery'][:10]"
   ]
  },
  {
   "cell_type": "markdown",
   "metadata": {
    "hidden": true
   },
   "source": [
    "I think will have to do a loop for each of the sports in `topSports` "
   ]
  },
  {
   "cell_type": "raw",
   "metadata": {
    "hidden": true
   },
   "source": [
    "pivot.nlargest(10, 'swimming')['swimming']"
   ]
  },
  {
   "cell_type": "raw",
   "metadata": {
    "hidden": true
   },
   "source": [
    "testDF = pd.DataFrame({'lga':[], 'sport': []})\n",
    "\n",
    "test = []\n",
    "for i in topSports: \n",
    "    print(i)\n",
    "    print(pivot.rank(ascending = False, method='first').sort_values(i)[i][:10])\n",
    "    print('')\n",
    "    \n",
    "    print(f' top sports value for each lga: {pivot.nlargest(10, i)[i].values}')\n",
    "    print('')\n",
    "    print(f' sum of the sports: {pivot.nlargest(10, i)[i].values.sum()}')\n",
    "    print('')\n",
    "    test.append(pivot.rank(ascending = False, method='first').sort_values(i)[i][:10])\n"
   ]
  },
  {
   "cell_type": "raw",
   "metadata": {
    "hidden": true
   },
   "source": [
    "test"
   ]
  },
  {
   "cell_type": "raw",
   "metadata": {
    "hidden": true
   },
   "source": [
    "test = pd.concat(test, keys = topSports)"
   ]
  },
  {
   "cell_type": "raw",
   "metadata": {
    "hidden": true
   },
   "source": [
    "test['netball']"
   ]
  },
  {
   "cell_type": "raw",
   "metadata": {
    "hidden": true
   },
   "source": [
    "type(test)"
   ]
  },
  {
   "cell_type": "markdown",
   "metadata": {
    "hidden": true
   },
   "source": [
    "I want stacked bars, with the stacked bars being the sport. The y axis being the LGA, x axis being the x axis. \n",
    "\n",
    "II believe certain sports will be too large like australian rules, compared to basketball. "
   ]
  },
  {
   "cell_type": "raw",
   "metadata": {
    "hidden": true
   },
   "source": [
    "my_colors = ['b', 'r', 'g', 'y', 'm', 'c']\n",
    "ax = test['netball'].plot(kind='barh', stacked=True, color=my_colors, figsize=(12, 6))\n",
    "ax.legend(loc='center left', bbox_to_anchor=(1, 0.5))\n",
    "# plt.savefig('Value_Time_Country.png', dpi=300, bbox_inches='tight')"
   ]
  },
  {
   "cell_type": "markdown",
   "metadata": {
    "hidden": true
   },
   "source": [
    "we can see what is the most popular sports without the `set` function. This will say what sport  is most popular in each LGA"
   ]
  },
  {
   "cell_type": "raw",
   "metadata": {
    "hidden": true
   },
   "source": [
    "pivot.idxmax(axis=1)"
   ]
  },
  {
   "cell_type": "markdown",
   "metadata": {
    "hidden": true
   },
   "source": [
    "another way... for each sport, which LGA is most popular "
   ]
  },
  {
   "cell_type": "raw",
   "metadata": {
    "hidden": true
   },
   "source": [
    "pivot.idxmax().head()"
   ]
  },
  {
   "cell_type": "markdown",
   "metadata": {
    "heading_collapsed": true,
    "hidden": true
   },
   "source": [
    "## Shows which top 10 LGA has the most claimed vouchers"
   ]
  },
  {
   "cell_type": "code",
   "execution_count": 42,
   "metadata": {
    "hidden": true
   },
   "outputs": [
    {
     "data": {
      "text/plain": [
       "<matplotlib.axes._subplots.AxesSubplot at 0x1d240227940>"
      ]
     },
     "execution_count": 42,
     "metadata": {},
     "output_type": "execute_result"
    },
    {
     "data": {
      "image/png": "[encoded data removed]",
      "text/plain": [
       "<Figure size 864x360 with 1 Axes>"
      ]
     },
     "metadata": {},
     "output_type": "display_data"
    }
   ],
   "source": [
    "sns.set_theme(style=\"whitegrid\")\n",
    "\n",
    "\n",
    "fig = plt.figure(figsize=(12, 5))\n",
    "total = pivot.sum(axis=1).sort_values(ascending=False)\n",
    "total.nlargest(10).plot(kind='barh', style='b', alpha=0.7,\n",
    "              title='test')\n",
    "\n",
    "\n",
    "# plt.savefig('Totalvalue_Country.png', dpi=300, bbox_inches='tight')"
   ]
  },
  {
   "cell_type": "markdown",
   "metadata": {
    "heading_collapsed": true
   },
   "source": [
    "# Question 3"
   ]
  },
  {
   "cell_type": "markdown",
   "metadata": {
    "hidden": true
   },
   "source": [
    " Are any LGAs over/under represented in their use of vouchers?"
   ]
  },
  {
   "cell_type": "markdown",
   "metadata": {
    "hidden": true
   },
   "source": [
    "Check population to number of vouchers claimed. \n",
    "\n",
    "david : need to normalise the vouchers by population in some way "
   ]
  },
  {
   "cell_type": "markdown",
   "metadata": {
    "heading_collapsed": true,
    "hidden": true
   },
   "source": [
    "### Getting the proportion of the population that claimed vouchers and showing top5 over and under represented lgas\n"
   ]
  },
  {
   "cell_type": "code",
   "execution_count": 43,
   "metadata": {
    "hidden": true
   },
   "outputs": [],
   "source": [
    "LGA_scores.index = LGA_scores.index.str.lower()\n",
    "LGA_scores.columns = LGA_scores.columns.str.lower()"
   ]
  },
  {
   "cell_type": "code",
   "execution_count": 44,
   "metadata": {
    "hidden": true
   },
   "outputs": [],
   "source": [
    "totalClaimed = totalClaimed.to_frame(name= 'vouchers')"
   ]
  },
  {
   "cell_type": "code",
   "execution_count": 45,
   "metadata": {
    "hidden": true
   },
   "outputs": [],
   "source": [
    "totalClaimed['population'] = LGA_scores['population']"
   ]
  },
  {
   "cell_type": "code",
   "execution_count": 46,
   "metadata": {
    "hidden": true
   },
   "outputs": [],
   "source": [
    "totalClaimed['proportion'] = totalClaimed['vouchers'] / LGA_scores['population']"
   ]
  },
  {
   "cell_type": "markdown",
   "metadata": {
    "heading_collapsed": true,
    "hidden": true
   },
   "source": [
    "### help 3"
   ]
  },
  {
   "cell_type": "markdown",
   "metadata": {
    "hidden": true
   },
   "source": [
    "Is this answering the question? "
   ]
  },
  {
   "cell_type": "code",
   "execution_count": 47,
   "metadata": {
    "hidden": true
   },
   "outputs": [
    {
     "data": {
      "text/plain": [
       "Participant_LGA\n",
       "karoonda east murray    0.374879\n",
       "kimba                   0.213431\n",
       "wudinna                 0.212580\n",
       "cleve                   0.190283\n",
       "southern mallee         0.163090\n",
       "Name: proportion, dtype: float64"
      ]
     },
     "execution_count": 47,
     "metadata": {},
     "output_type": "execute_result"
    }
   ],
   "source": [
    "totalClaimed['proportion'].nlargest(5)"
   ]
  },
  {
   "cell_type": "code",
   "execution_count": 48,
   "metadata": {
    "hidden": true
   },
   "outputs": [
    {
     "data": {
      "text/plain": [
       "Participant_LGA\n",
       "kingston        0.003979\n",
       "adelaide        0.015403\n",
       "coober pedy     0.023022\n",
       "peterborough    0.025967\n",
       "campbelltown    0.026448\n",
       "Name: proportion, dtype: float64"
      ]
     },
     "execution_count": 48,
     "metadata": {},
     "output_type": "execute_result"
    }
   ],
   "source": [
    "totalClaimed['proportion'].nsmallest(5)"
   ]
  },
  {
   "cell_type": "markdown",
   "metadata": {
    "hidden": true
   },
   "source": [
    "The above does what this loop does..."
   ]
  },
  {
   "cell_type": "raw",
   "metadata": {
    "hidden": true
   },
   "source": [
    "for i, lga in enumerate(list(pivot.index)):\n",
    "    if lga in list(LGA_scores.index):\n",
    "        \n",
    "#         print('this is in')\n",
    "        totalClaimed['population'][lga] = LGA_scores['population'][lga]\n",
    "        totalClaimed['proportion'][lga] = totalClaimed['vouchers'][lga] / LGA_scores['population'][lga]\n",
    "#         print(totalClaimed['proportion'][val])\n",
    "#         print('not in')\n",
    "#     print(i, val)\n",
    "#     print(pivot.loc[val])\n",
    "#     pivot.loc[val]"
   ]
  },
  {
   "cell_type": "markdown",
   "metadata": {
    "hidden": true
   },
   "source": [
    "I thought onkaparinga would be overrepresented because of the high claim numbers, but it's nowhere near in comparision to the top five over represented LGAs"
   ]
  },
  {
   "cell_type": "code",
   "execution_count": 49,
   "metadata": {
    "hidden": true
   },
   "outputs": [
    {
     "data": {
      "text/plain": [
       "vouchers       12782.000000\n",
       "population    159517.000000\n",
       "proportion         0.080129\n",
       "Name: onkaparinga, dtype: float64"
      ]
     },
     "execution_count": 49,
     "metadata": {},
     "output_type": "execute_result"
    }
   ],
   "source": [
    "totalClaimed.loc['onkaparinga']"
   ]
  },
  {
   "cell_type": "code",
   "execution_count": 50,
   "metadata": {
    "hidden": true
   },
   "outputs": [
    {
     "data": {
      "text/plain": [
       "vouchers        288.000000\n",
       "population    72380.500000\n",
       "proportion        0.003979\n",
       "Name: kingston, dtype: float64"
      ]
     },
     "execution_count": 50,
     "metadata": {},
     "output_type": "execute_result"
    }
   ],
   "source": [
    "totalClaimed.loc['kingston']"
   ]
  },
  {
   "cell_type": "markdown",
   "metadata": {
    "hidden": true
   },
   "source": [
    "Apparently this isn't right because there are many LGAs in seifa that may be duplicates or contained with another LGA that need to be fixed first"
   ]
  },
  {
   "cell_type": "markdown",
   "metadata": {
    "heading_collapsed": true,
    "hidden": true
   },
   "source": [
    "### Checking LGAs in SEIFA"
   ]
  },
  {
   "cell_type": "raw",
   "metadata": {
    "hidden": true
   },
   "source": [
    "list(totalClaimed.index)"
   ]
  },
  {
   "cell_type": "raw",
   "metadata": {
    "hidden": true
   },
   "source": [
    "LGA_scores"
   ]
  },
  {
   "cell_type": "raw",
   "metadata": {
    "hidden": true
   },
   "source": [
    "totalClaimed"
   ]
  },
  {
   "cell_type": "code",
   "execution_count": 51,
   "metadata": {
    "hidden": true,
    "scrolled": true
   },
   "outputs": [
    {
     "data": {
      "text/html": [
       "<div>\n",
       "<style scoped>\n",
       "    .dataframe tbody tr th:only-of-type {\n",
       "        vertical-align: middle;\n",
       "    }\n",
       "\n",
       "    .dataframe tbody tr th {\n",
       "        vertical-align: top;\n",
       "    }\n",
       "\n",
       "    .dataframe thead th {\n",
       "        text-align: right;\n",
       "    }\n",
       "</style>\n",
       "<table border=\"1\" class=\"dataframe\">\n",
       "  <thead>\n",
       "    <tr style=\"text-align: right;\">\n",
       "      <th></th>\n",
       "      <th>Participant_ID</th>\n",
       "      <th>Participant_Suburb</th>\n",
       "      <th>Club_Previous_Member</th>\n",
       "      <th>Participant_ATSI_Indicator</th>\n",
       "      <th>Participant_CALD_Indicator</th>\n",
       "      <th>Participant_Sex</th>\n",
       "      <th>Voucher_Value</th>\n",
       "      <th>Club_Name</th>\n",
       "      <th>Voucher_Sport</th>\n",
       "      <th>Participant_LGA</th>\n",
       "      <th>Participant_Electorate</th>\n",
       "      <th>Voucher_Completion_Date</th>\n",
       "      <th>Voucher_Claim_Year</th>\n",
       "      <th>IEO</th>\n",
       "      <th>IER</th>\n",
       "      <th>IRSAD</th>\n",
       "      <th>IRSD</th>\n",
       "      <th>Population</th>\n",
       "    </tr>\n",
       "  </thead>\n",
       "  <tbody>\n",
       "    <tr>\n",
       "      <th>0</th>\n",
       "      <td>1000002</td>\n",
       "      <td>ABERFOYLE PARK</td>\n",
       "      <td>Registered Previously</td>\n",
       "      <td>Not ATSI</td>\n",
       "      <td>Not CALD</td>\n",
       "      <td>Male</td>\n",
       "      <td>50</td>\n",
       "      <td>Flagstaff Hill Football Club</td>\n",
       "      <td>Australian Rules</td>\n",
       "      <td>ONKAPARINGA</td>\n",
       "      <td>FISHER</td>\n",
       "      <td>26/6/15 1:19</td>\n",
       "      <td>2015</td>\n",
       "      <td>996.0</td>\n",
       "      <td>996.0</td>\n",
       "      <td>975.0</td>\n",
       "      <td>993.0</td>\n",
       "      <td>159517.0</td>\n",
       "    </tr>\n",
       "    <tr>\n",
       "      <th>1</th>\n",
       "      <td>1000002</td>\n",
       "      <td>ABERFOYLE PARK</td>\n",
       "      <td>Registered Previously</td>\n",
       "      <td>Not ATSI</td>\n",
       "      <td>Not CALD</td>\n",
       "      <td>Male</td>\n",
       "      <td>50</td>\n",
       "      <td>Flagstaff Hill Football Club</td>\n",
       "      <td>Australian Rules</td>\n",
       "      <td>ONKAPARINGA</td>\n",
       "      <td>FISHER</td>\n",
       "      <td>29/6/16 23:55</td>\n",
       "      <td>2016</td>\n",
       "      <td>996.0</td>\n",
       "      <td>996.0</td>\n",
       "      <td>975.0</td>\n",
       "      <td>993.0</td>\n",
       "      <td>159517.0</td>\n",
       "    </tr>\n",
       "    <tr>\n",
       "      <th>2</th>\n",
       "      <td>1000004</td>\n",
       "      <td>ABERFOYLE PARK</td>\n",
       "      <td>Not Registered Previously</td>\n",
       "      <td>Not ATSI</td>\n",
       "      <td>Not CALD</td>\n",
       "      <td>Female</td>\n",
       "      <td>50</td>\n",
       "      <td>Hub Gymnastics Club</td>\n",
       "      <td>Gymnastics</td>\n",
       "      <td>ONKAPARINGA</td>\n",
       "      <td>FISHER</td>\n",
       "      <td>21/4/16 3:37</td>\n",
       "      <td>2016</td>\n",
       "      <td>996.0</td>\n",
       "      <td>996.0</td>\n",
       "      <td>975.0</td>\n",
       "      <td>993.0</td>\n",
       "      <td>159517.0</td>\n",
       "    </tr>\n",
       "    <tr>\n",
       "      <th>3</th>\n",
       "      <td>1000004</td>\n",
       "      <td>ABERFOYLE PARK</td>\n",
       "      <td>Registered Previously</td>\n",
       "      <td>Not ATSI</td>\n",
       "      <td>Not CALD</td>\n",
       "      <td>Female</td>\n",
       "      <td>50</td>\n",
       "      <td>Hub Gymnastics Club</td>\n",
       "      <td>Gymnastics</td>\n",
       "      <td>ONKAPARINGA</td>\n",
       "      <td>FISHER</td>\n",
       "      <td>30/3/17 0:47</td>\n",
       "      <td>2017</td>\n",
       "      <td>996.0</td>\n",
       "      <td>996.0</td>\n",
       "      <td>975.0</td>\n",
       "      <td>993.0</td>\n",
       "      <td>159517.0</td>\n",
       "    </tr>\n",
       "    <tr>\n",
       "      <th>4</th>\n",
       "      <td>1000005</td>\n",
       "      <td>ABERFOYLE PARK</td>\n",
       "      <td>Registered Previously</td>\n",
       "      <td>Not ATSI</td>\n",
       "      <td>Not CALD</td>\n",
       "      <td>Female</td>\n",
       "      <td>50</td>\n",
       "      <td>Blackwood Community Recreation Association</td>\n",
       "      <td>Gymnastics</td>\n",
       "      <td>ONKAPARINGA</td>\n",
       "      <td>FISHER</td>\n",
       "      <td>20/7/15 2:50</td>\n",
       "      <td>2015</td>\n",
       "      <td>996.0</td>\n",
       "      <td>996.0</td>\n",
       "      <td>975.0</td>\n",
       "      <td>993.0</td>\n",
       "      <td>159517.0</td>\n",
       "    </tr>\n",
       "    <tr>\n",
       "      <th>...</th>\n",
       "      <td>...</td>\n",
       "      <td>...</td>\n",
       "      <td>...</td>\n",
       "      <td>...</td>\n",
       "      <td>...</td>\n",
       "      <td>...</td>\n",
       "      <td>...</td>\n",
       "      <td>...</td>\n",
       "      <td>...</td>\n",
       "      <td>...</td>\n",
       "      <td>...</td>\n",
       "      <td>...</td>\n",
       "      <td>...</td>\n",
       "      <td>...</td>\n",
       "      <td>...</td>\n",
       "      <td>...</td>\n",
       "      <td>...</td>\n",
       "      <td>...</td>\n",
       "    </tr>\n",
       "    <tr>\n",
       "      <th>127521</th>\n",
       "      <td>1127524</td>\n",
       "      <td>ZADOWS LANDING</td>\n",
       "      <td>Registered Previously</td>\n",
       "      <td>Not ATSI</td>\n",
       "      <td>Not CALD</td>\n",
       "      <td>Female</td>\n",
       "      <td>50</td>\n",
       "      <td>Mannum Roos Netball Club</td>\n",
       "      <td>Netball</td>\n",
       "      <td>MID MURRAY</td>\n",
       "      <td>SCHUBERT</td>\n",
       "      <td>15/8/16 1:33</td>\n",
       "      <td>2016</td>\n",
       "      <td>965.0</td>\n",
       "      <td>965.0</td>\n",
       "      <td>917.0</td>\n",
       "      <td>937.0</td>\n",
       "      <td>8134.0</td>\n",
       "    </tr>\n",
       "    <tr>\n",
       "      <th>127522</th>\n",
       "      <td>1127524</td>\n",
       "      <td>ZADOWS LANDING</td>\n",
       "      <td>Registered Previously</td>\n",
       "      <td>Not ATSI</td>\n",
       "      <td>Not CALD</td>\n",
       "      <td>Female</td>\n",
       "      <td>50</td>\n",
       "      <td>Mannum Roos Netball Club</td>\n",
       "      <td>Netball</td>\n",
       "      <td>MID MURRAY</td>\n",
       "      <td>SCHUBERT</td>\n",
       "      <td>13/7/15 23:42</td>\n",
       "      <td>2015</td>\n",
       "      <td>965.0</td>\n",
       "      <td>965.0</td>\n",
       "      <td>917.0</td>\n",
       "      <td>937.0</td>\n",
       "      <td>8134.0</td>\n",
       "    </tr>\n",
       "    <tr>\n",
       "      <th>127523</th>\n",
       "      <td>1127524</td>\n",
       "      <td>ZADOWS LANDING</td>\n",
       "      <td>Registered Previously</td>\n",
       "      <td>Not ATSI</td>\n",
       "      <td>Not CALD</td>\n",
       "      <td>Female</td>\n",
       "      <td>50</td>\n",
       "      <td>Mannum Roos Netball Club</td>\n",
       "      <td>Netball</td>\n",
       "      <td>MID MURRAY</td>\n",
       "      <td>SCHUBERT</td>\n",
       "      <td>30/6/17 6:07</td>\n",
       "      <td>2017</td>\n",
       "      <td>965.0</td>\n",
       "      <td>965.0</td>\n",
       "      <td>917.0</td>\n",
       "      <td>937.0</td>\n",
       "      <td>8134.0</td>\n",
       "    </tr>\n",
       "    <tr>\n",
       "      <th>127524</th>\n",
       "      <td>1127526</td>\n",
       "      <td>ZADOWS LANDING</td>\n",
       "      <td>Registered Previously</td>\n",
       "      <td>Not ATSI</td>\n",
       "      <td>Not CALD</td>\n",
       "      <td>Female</td>\n",
       "      <td>50</td>\n",
       "      <td>Mannum Roos Netball Club</td>\n",
       "      <td>Netball</td>\n",
       "      <td>MID MURRAY</td>\n",
       "      <td>SCHUBERT</td>\n",
       "      <td>28/4/15 0:06</td>\n",
       "      <td>2015</td>\n",
       "      <td>965.0</td>\n",
       "      <td>965.0</td>\n",
       "      <td>917.0</td>\n",
       "      <td>937.0</td>\n",
       "      <td>8134.0</td>\n",
       "    </tr>\n",
       "    <tr>\n",
       "      <th>127525</th>\n",
       "      <td>1127526</td>\n",
       "      <td>ZADOWS LANDING</td>\n",
       "      <td>Registered Previously</td>\n",
       "      <td>Not ATSI</td>\n",
       "      <td>Not CALD</td>\n",
       "      <td>Female</td>\n",
       "      <td>50</td>\n",
       "      <td>Mannum Roos Netball Club</td>\n",
       "      <td>Netball</td>\n",
       "      <td>MID MURRAY</td>\n",
       "      <td>SCHUBERT</td>\n",
       "      <td>29/3/16 23:57</td>\n",
       "      <td>2016</td>\n",
       "      <td>965.0</td>\n",
       "      <td>965.0</td>\n",
       "      <td>917.0</td>\n",
       "      <td>937.0</td>\n",
       "      <td>8134.0</td>\n",
       "    </tr>\n",
       "  </tbody>\n",
       "</table>\n",
       "<p>127526 rows × 18 columns</p>\n",
       "</div>"
      ],
      "text/plain": [
       "        Participant_ID Participant_Suburb       Club_Previous_Member  \\\n",
       "0              1000002     ABERFOYLE PARK      Registered Previously   \n",
       "1              1000002     ABERFOYLE PARK      Registered Previously   \n",
       "2              1000004     ABERFOYLE PARK  Not Registered Previously   \n",
       "3              1000004     ABERFOYLE PARK      Registered Previously   \n",
       "4              1000005     ABERFOYLE PARK      Registered Previously   \n",
       "...                ...                ...                        ...   \n",
       "127521         1127524     ZADOWS LANDING      Registered Previously   \n",
       "127522         1127524     ZADOWS LANDING      Registered Previously   \n",
       "127523         1127524     ZADOWS LANDING      Registered Previously   \n",
       "127524         1127526     ZADOWS LANDING      Registered Previously   \n",
       "127525         1127526     ZADOWS LANDING      Registered Previously   \n",
       "\n",
       "       Participant_ATSI_Indicator Participant_CALD_Indicator Participant_Sex  \\\n",
       "0                        Not ATSI                   Not CALD            Male   \n",
       "1                        Not ATSI                   Not CALD            Male   \n",
       "2                        Not ATSI                   Not CALD          Female   \n",
       "3                        Not ATSI                   Not CALD          Female   \n",
       "4                        Not ATSI                   Not CALD          Female   \n",
       "...                           ...                        ...             ...   \n",
       "127521                   Not ATSI                   Not CALD          Female   \n",
       "127522                   Not ATSI                   Not CALD          Female   \n",
       "127523                   Not ATSI                   Not CALD          Female   \n",
       "127524                   Not ATSI                   Not CALD          Female   \n",
       "127525                   Not ATSI                   Not CALD          Female   \n",
       "\n",
       "        Voucher_Value                                   Club_Name  \\\n",
       "0                  50                Flagstaff Hill Football Club   \n",
       "1                  50                Flagstaff Hill Football Club   \n",
       "2                  50                         Hub Gymnastics Club   \n",
       "3                  50                         Hub Gymnastics Club   \n",
       "4                  50  Blackwood Community Recreation Association   \n",
       "...               ...                                         ...   \n",
       "127521             50                    Mannum Roos Netball Club   \n",
       "127522             50                    Mannum Roos Netball Club   \n",
       "127523             50                    Mannum Roos Netball Club   \n",
       "127524             50                    Mannum Roos Netball Club   \n",
       "127525             50                    Mannum Roos Netball Club   \n",
       "\n",
       "           Voucher_Sport Participant_LGA Participant_Electorate  \\\n",
       "0       Australian Rules     ONKAPARINGA                 FISHER   \n",
       "1       Australian Rules     ONKAPARINGA                 FISHER   \n",
       "2             Gymnastics     ONKAPARINGA                 FISHER   \n",
       "3             Gymnastics     ONKAPARINGA                 FISHER   \n",
       "4             Gymnastics     ONKAPARINGA                 FISHER   \n",
       "...                  ...             ...                    ...   \n",
       "127521           Netball      MID MURRAY               SCHUBERT   \n",
       "127522           Netball      MID MURRAY               SCHUBERT   \n",
       "127523           Netball      MID MURRAY               SCHUBERT   \n",
       "127524           Netball      MID MURRAY               SCHUBERT   \n",
       "127525           Netball      MID MURRAY               SCHUBERT   \n",
       "\n",
       "       Voucher_Completion_Date  Voucher_Claim_Year    IEO    IER  IRSAD  \\\n",
       "0                 26/6/15 1:19                2015  996.0  996.0  975.0   \n",
       "1                29/6/16 23:55                2016  996.0  996.0  975.0   \n",
       "2                 21/4/16 3:37                2016  996.0  996.0  975.0   \n",
       "3                 30/3/17 0:47                2017  996.0  996.0  975.0   \n",
       "4                 20/7/15 2:50                2015  996.0  996.0  975.0   \n",
       "...                        ...                 ...    ...    ...    ...   \n",
       "127521            15/8/16 1:33                2016  965.0  965.0  917.0   \n",
       "127522           13/7/15 23:42                2015  965.0  965.0  917.0   \n",
       "127523            30/6/17 6:07                2017  965.0  965.0  917.0   \n",
       "127524            28/4/15 0:06                2015  965.0  965.0  917.0   \n",
       "127525           29/3/16 23:57                2016  965.0  965.0  917.0   \n",
       "\n",
       "         IRSD  Population  \n",
       "0       993.0    159517.0  \n",
       "1       993.0    159517.0  \n",
       "2       993.0    159517.0  \n",
       "3       993.0    159517.0  \n",
       "4       993.0    159517.0  \n",
       "...       ...         ...  \n",
       "127521  937.0      8134.0  \n",
       "127522  937.0      8134.0  \n",
       "127523  937.0      8134.0  \n",
       "127524  937.0      8134.0  \n",
       "127525  937.0      8134.0  \n",
       "\n",
       "[127526 rows x 18 columns]"
      ]
     },
     "execution_count": 51,
     "metadata": {},
     "output_type": "execute_result"
    }
   ],
   "source": [
    "sa_vouchers_scores"
   ]
  },
  {
   "cell_type": "code",
   "execution_count": 52,
   "metadata": {
    "hidden": true
   },
   "outputs": [],
   "source": [
    "sa_vouchers_scores.columns = sa_vouchers_scores.columns.str.lower()"
   ]
  },
  {
   "cell_type": "code",
   "execution_count": 53,
   "metadata": {
    "hidden": true
   },
   "outputs": [],
   "source": [
    "sa_vouchers_scores['participant_lga']= sa_vouchers_scores['participant_lga'].str.lower()"
   ]
  },
  {
   "cell_type": "code",
   "execution_count": 54,
   "metadata": {
    "hidden": true
   },
   "outputs": [],
   "source": [
    "sa_vouchers_scores['voucher_sport']= sa_vouchers_scores['voucher_sport'].str.lower()"
   ]
  },
  {
   "cell_type": "raw",
   "metadata": {
    "hidden": true
   },
   "source": [
    "sa_vouchers_scores"
   ]
  },
  {
   "cell_type": "raw",
   "metadata": {
    "hidden": true
   },
   "source": [
    "set(sa_vouchers_scores['Participant_LGA'])"
   ]
  },
  {
   "cell_type": "markdown",
   "metadata": {
    "heading_collapsed": true,
    "hidden": true
   },
   "source": [
    "### help 1"
   ]
  },
  {
   "cell_type": "markdown",
   "metadata": {
    "hidden": true
   },
   "source": [
    "This shows the rows that have participant_lga being 'no lga', then we check what these 'no lga' correspond to in the participant_suburb column. We count the number of occurences for each that show up. "
   ]
  },
  {
   "cell_type": "raw",
   "metadata": {
    "hidden": true
   },
   "source": [
    "sa_vouchers"
   ]
  },
  {
   "cell_type": "raw",
   "metadata": {
    "hidden": true
   },
   "source": [
    "pivot.loc['kingston']"
   ]
  },
  {
   "cell_type": "code",
   "execution_count": 59,
   "metadata": {
    "hidden": true
   },
   "outputs": [
    {
     "data": {
      "text/plain": [
       "['adelaide',\n",
       " 'adelaide hills',\n",
       " 'adelaide plains',\n",
       " 'alexandrina',\n",
       " 'barossa',\n",
       " 'barunga west',\n",
       " 'berri barmera',\n",
       " 'burnside',\n",
       " 'campbelltown',\n",
       " 'ceduna',\n",
       " 'charles sturt',\n",
       " 'clare and gilbert valleys',\n",
       " 'cleve',\n",
       " 'coober pedy',\n",
       " 'copper coast',\n",
       " 'elliston',\n",
       " 'flinders ranges',\n",
       " 'franklin harbour',\n",
       " 'gawler',\n",
       " 'goyder',\n",
       " 'grant',\n",
       " 'holdfast bay',\n",
       " 'kangaroo island',\n",
       " 'karoonda east murray',\n",
       " 'kimba',\n",
       " 'kingston',\n",
       " 'light',\n",
       " 'lower eyre peninsula',\n",
       " 'loxton waikerie',\n",
       " 'marion',\n",
       " 'mid murray',\n",
       " 'mitcham',\n",
       " 'mount barker',\n",
       " 'mount gambier',\n",
       " 'mount remarkable',\n",
       " 'murray bridge',\n",
       " 'naracoorte lucindale',\n",
       " 'no lga',\n",
       " 'northern areas',\n",
       " 'norwood payneham and st peters',\n",
       " 'onkaparinga',\n",
       " 'orroroo/carrieton',\n",
       " 'peterborough',\n",
       " 'playford',\n",
       " 'port adelaide enfield',\n",
       " 'port augusta',\n",
       " 'port lincoln',\n",
       " 'port pirie',\n",
       " 'prospect',\n",
       " 'renmark paringa',\n",
       " 'robe',\n",
       " 'roxby downs',\n",
       " 'salisbury',\n",
       " 'southern mallee',\n",
       " 'streaky bay',\n",
       " 'tatiara',\n",
       " 'tea tree gully',\n",
       " 'the coorong',\n",
       " 'tumby bay',\n",
       " 'unley',\n",
       " 'victor harbor',\n",
       " 'wakefield',\n",
       " 'walkerville',\n",
       " 'wattle range',\n",
       " 'west torrens',\n",
       " 'whyalla',\n",
       " 'wudinna',\n",
       " 'yankalilla',\n",
       " 'yorke peninsula']"
      ]
     },
     "execution_count": 59,
     "metadata": {},
     "output_type": "execute_result"
    }
   ],
   "source": [
    "list(pivot.index)"
   ]
  },
  {
   "cell_type": "code",
   "execution_count": 58,
   "metadata": {
    "hidden": true
   },
   "outputs": [
    {
     "data": {
      "text/plain": [
       "NO SUBURB FOUND    595\n",
       "ANDAMOOKA           10\n",
       "IRON KNOB            8\n",
       "GERARD               6\n",
       "LEIGH CREEK          2\n",
       "COPLEY               2\n",
       "YALATA               2\n",
       "Name: participant_suburb, dtype: int64"
      ]
     },
     "execution_count": 58,
     "metadata": {},
     "output_type": "execute_result"
    }
   ],
   "source": [
    "sa_vouchers_scores[sa_vouchers_scores['participant_lga'] == 'no lga']['participant_suburb'].value_counts()"
   ]
  },
  {
   "cell_type": "markdown",
   "metadata": {
    "hidden": true
   },
   "source": [
    "Can I just put these as an 'other' lga and suburbs? "
   ]
  },
  {
   "cell_type": "markdown",
   "metadata": {
    "heading_collapsed": true,
    "hidden": true
   },
   "source": [
    "### help 2"
   ]
  },
  {
   "cell_type": "code",
   "execution_count": 59,
   "metadata": {
    "hidden": true
   },
   "outputs": [
    {
     "data": {
      "text/html": [
       "<div>\n",
       "<style scoped>\n",
       "    .dataframe tbody tr th:only-of-type {\n",
       "        vertical-align: middle;\n",
       "    }\n",
       "\n",
       "    .dataframe tbody tr th {\n",
       "        vertical-align: top;\n",
       "    }\n",
       "\n",
       "    .dataframe thead th {\n",
       "        text-align: right;\n",
       "    }\n",
       "</style>\n",
       "<table border=\"1\" class=\"dataframe\">\n",
       "  <thead>\n",
       "    <tr style=\"text-align: right;\">\n",
       "      <th></th>\n",
       "      <th>vouchers</th>\n",
       "      <th>population</th>\n",
       "      <th>proportion</th>\n",
       "    </tr>\n",
       "    <tr>\n",
       "      <th>Participant_LGA</th>\n",
       "      <th></th>\n",
       "      <th></th>\n",
       "      <th></th>\n",
       "    </tr>\n",
       "  </thead>\n",
       "  <tbody>\n",
       "    <tr>\n",
       "      <th>adelaide plains</th>\n",
       "      <td>899.0</td>\n",
       "      <td>NaN</td>\n",
       "      <td>NaN</td>\n",
       "    </tr>\n",
       "    <tr>\n",
       "      <th>berri barmera</th>\n",
       "      <td>1486.0</td>\n",
       "      <td>NaN</td>\n",
       "      <td>NaN</td>\n",
       "    </tr>\n",
       "    <tr>\n",
       "      <th>light</th>\n",
       "      <td>2066.0</td>\n",
       "      <td>NaN</td>\n",
       "      <td>NaN</td>\n",
       "    </tr>\n",
       "    <tr>\n",
       "      <th>naracoorte lucindale</th>\n",
       "      <td>1097.0</td>\n",
       "      <td>NaN</td>\n",
       "      <td>NaN</td>\n",
       "    </tr>\n",
       "    <tr>\n",
       "      <th>no lga</th>\n",
       "      <td>625.0</td>\n",
       "      <td>NaN</td>\n",
       "      <td>NaN</td>\n",
       "    </tr>\n",
       "    <tr>\n",
       "      <th>norwood payneham and st peters</th>\n",
       "      <td>1352.0</td>\n",
       "      <td>NaN</td>\n",
       "      <td>NaN</td>\n",
       "    </tr>\n",
       "    <tr>\n",
       "      <th>port pirie</th>\n",
       "      <td>1935.0</td>\n",
       "      <td>NaN</td>\n",
       "      <td>NaN</td>\n",
       "    </tr>\n",
       "  </tbody>\n",
       "</table>\n",
       "</div>"
      ],
      "text/plain": [
       "                                vouchers  population  proportion\n",
       "Participant_LGA                                                 \n",
       "adelaide plains                    899.0         NaN         NaN\n",
       "berri barmera                     1486.0         NaN         NaN\n",
       "light                             2066.0         NaN         NaN\n",
       "naracoorte lucindale              1097.0         NaN         NaN\n",
       "no lga                             625.0         NaN         NaN\n",
       "norwood payneham and st peters    1352.0         NaN         NaN\n",
       "port pirie                        1935.0         NaN         NaN"
      ]
     },
     "execution_count": 59,
     "metadata": {},
     "output_type": "execute_result"
    }
   ],
   "source": [
    "totalClaimed[totalClaimed['proportion'].isna()]"
   ]
  },
  {
   "cell_type": "markdown",
   "metadata": {
    "heading_collapsed": true
   },
   "source": [
    "# Question 4"
   ]
  },
  {
   "cell_type": "markdown",
   "metadata": {
    "hidden": true
   },
   "source": [
    " Is there a relationship between any of the SEIFA measures and voucher use in an LGA?"
   ]
  },
  {
   "cell_type": "raw",
   "metadata": {
    "hidden": true
   },
   "source": [
    "totalClaimed"
   ]
  },
  {
   "cell_type": "code",
   "execution_count": 60,
   "metadata": {
    "hidden": true
   },
   "outputs": [
    {
     "data": {
      "text/plain": [
       "LGA\n",
       "adelaide            874.0\n",
       "adelaide hills     1083.0\n",
       "albany              999.0\n",
       "albury              964.0\n",
       "alexandrina        1000.0\n",
       "                    ...  \n",
       "yass valley        1088.0\n",
       "yilgarn             998.0\n",
       "york               1010.0\n",
       "yorke peninsula     969.0\n",
       "young               964.0\n",
       "Name: ieo, Length: 556, dtype: float64"
      ]
     },
     "execution_count": 60,
     "metadata": {},
     "output_type": "execute_result"
    }
   ],
   "source": [
    "LGA_scores['ieo']"
   ]
  },
  {
   "cell_type": "code",
   "execution_count": 66,
   "metadata": {
    "hidden": true
   },
   "outputs": [],
   "source": [
    "totalClaimed_scores = totalClaimed"
   ]
  },
  {
   "cell_type": "code",
   "execution_count": 67,
   "metadata": {
    "hidden": true
   },
   "outputs": [],
   "source": [
    "totalClaimed_scores['ieo'] = LGA_scores['ieo']\n",
    "totalClaimed_scores['ier'] = LGA_scores['ier']\n",
    "totalClaimed_scores['irsad'] = LGA_scores['irsad']\n",
    "totalClaimed_scores['irsd'] = LGA_scores['irsd']"
   ]
  },
  {
   "cell_type": "code",
   "execution_count": 68,
   "metadata": {
    "hidden": true
   },
   "outputs": [
    {
     "data": {
      "text/html": [
       "<div>\n",
       "<style scoped>\n",
       "    .dataframe tbody tr th:only-of-type {\n",
       "        vertical-align: middle;\n",
       "    }\n",
       "\n",
       "    .dataframe tbody tr th {\n",
       "        vertical-align: top;\n",
       "    }\n",
       "\n",
       "    .dataframe thead th {\n",
       "        text-align: right;\n",
       "    }\n",
       "</style>\n",
       "<table border=\"1\" class=\"dataframe\">\n",
       "  <thead>\n",
       "    <tr style=\"text-align: right;\">\n",
       "      <th></th>\n",
       "      <th>vouchers</th>\n",
       "      <th>population</th>\n",
       "      <th>proportion</th>\n",
       "      <th>ieo</th>\n",
       "      <th>ier</th>\n",
       "      <th>irsad</th>\n",
       "      <th>irsd</th>\n",
       "    </tr>\n",
       "    <tr>\n",
       "      <th>Participant_LGA</th>\n",
       "      <th></th>\n",
       "      <th></th>\n",
       "      <th></th>\n",
       "      <th></th>\n",
       "      <th></th>\n",
       "      <th></th>\n",
       "      <th></th>\n",
       "    </tr>\n",
       "  </thead>\n",
       "  <tbody>\n",
       "    <tr>\n",
       "      <th>adelaide</th>\n",
       "      <td>302.0</td>\n",
       "      <td>19606.0</td>\n",
       "      <td>0.015403</td>\n",
       "      <td>874.0</td>\n",
       "      <td>874.0</td>\n",
       "      <td>1036.0</td>\n",
       "      <td>1013.0</td>\n",
       "    </tr>\n",
       "    <tr>\n",
       "      <th>adelaide hills</th>\n",
       "      <td>4756.0</td>\n",
       "      <td>38601.0</td>\n",
       "      <td>0.123209</td>\n",
       "      <td>1083.0</td>\n",
       "      <td>1083.0</td>\n",
       "      <td>1077.0</td>\n",
       "      <td>1081.0</td>\n",
       "    </tr>\n",
       "    <tr>\n",
       "      <th>adelaide plains</th>\n",
       "      <td>899.0</td>\n",
       "      <td>NaN</td>\n",
       "      <td>NaN</td>\n",
       "      <td>NaN</td>\n",
       "      <td>NaN</td>\n",
       "      <td>NaN</td>\n",
       "      <td>NaN</td>\n",
       "    </tr>\n",
       "    <tr>\n",
       "      <th>alexandrina</th>\n",
       "      <td>2979.0</td>\n",
       "      <td>23693.0</td>\n",
       "      <td>0.125733</td>\n",
       "      <td>1000.0</td>\n",
       "      <td>1000.0</td>\n",
       "      <td>969.0</td>\n",
       "      <td>987.0</td>\n",
       "    </tr>\n",
       "    <tr>\n",
       "      <th>barossa</th>\n",
       "      <td>2874.0</td>\n",
       "      <td>22174.0</td>\n",
       "      <td>0.129611</td>\n",
       "      <td>1028.0</td>\n",
       "      <td>1028.0</td>\n",
       "      <td>997.0</td>\n",
       "      <td>1017.0</td>\n",
       "    </tr>\n",
       "    <tr>\n",
       "      <th>...</th>\n",
       "      <td>...</td>\n",
       "      <td>...</td>\n",
       "      <td>...</td>\n",
       "      <td>...</td>\n",
       "      <td>...</td>\n",
       "      <td>...</td>\n",
       "      <td>...</td>\n",
       "    </tr>\n",
       "    <tr>\n",
       "      <th>west torrens</th>\n",
       "      <td>2844.0</td>\n",
       "      <td>54932.0</td>\n",
       "      <td>0.051773</td>\n",
       "      <td>949.0</td>\n",
       "      <td>949.0</td>\n",
       "      <td>989.0</td>\n",
       "      <td>998.0</td>\n",
       "    </tr>\n",
       "    <tr>\n",
       "      <th>whyalla</th>\n",
       "      <td>2488.0</td>\n",
       "      <td>22070.0</td>\n",
       "      <td>0.112732</td>\n",
       "      <td>905.0</td>\n",
       "      <td>905.0</td>\n",
       "      <td>897.0</td>\n",
       "      <td>905.0</td>\n",
       "    </tr>\n",
       "    <tr>\n",
       "      <th>wudinna</th>\n",
       "      <td>267.0</td>\n",
       "      <td>1256.0</td>\n",
       "      <td>0.212580</td>\n",
       "      <td>1008.0</td>\n",
       "      <td>1008.0</td>\n",
       "      <td>999.0</td>\n",
       "      <td>1023.0</td>\n",
       "    </tr>\n",
       "    <tr>\n",
       "      <th>yankalilla</th>\n",
       "      <td>443.0</td>\n",
       "      <td>4406.0</td>\n",
       "      <td>0.100545</td>\n",
       "      <td>990.0</td>\n",
       "      <td>990.0</td>\n",
       "      <td>957.0</td>\n",
       "      <td>972.0</td>\n",
       "    </tr>\n",
       "    <tr>\n",
       "      <th>yorke peninsula</th>\n",
       "      <td>977.0</td>\n",
       "      <td>11046.0</td>\n",
       "      <td>0.088448</td>\n",
       "      <td>969.0</td>\n",
       "      <td>969.0</td>\n",
       "      <td>933.0</td>\n",
       "      <td>952.0</td>\n",
       "    </tr>\n",
       "  </tbody>\n",
       "</table>\n",
       "<p>69 rows × 7 columns</p>\n",
       "</div>"
      ],
      "text/plain": [
       "                 vouchers  population  proportion     ieo     ier   irsad  \\\n",
       "Participant_LGA                                                             \n",
       "adelaide            302.0     19606.0    0.015403   874.0   874.0  1036.0   \n",
       "adelaide hills     4756.0     38601.0    0.123209  1083.0  1083.0  1077.0   \n",
       "adelaide plains     899.0         NaN         NaN     NaN     NaN     NaN   \n",
       "alexandrina        2979.0     23693.0    0.125733  1000.0  1000.0   969.0   \n",
       "barossa            2874.0     22174.0    0.129611  1028.0  1028.0   997.0   \n",
       "...                   ...         ...         ...     ...     ...     ...   \n",
       "west torrens       2844.0     54932.0    0.051773   949.0   949.0   989.0   \n",
       "whyalla            2488.0     22070.0    0.112732   905.0   905.0   897.0   \n",
       "wudinna             267.0      1256.0    0.212580  1008.0  1008.0   999.0   \n",
       "yankalilla          443.0      4406.0    0.100545   990.0   990.0   957.0   \n",
       "yorke peninsula     977.0     11046.0    0.088448   969.0   969.0   933.0   \n",
       "\n",
       "                   irsd  \n",
       "Participant_LGA          \n",
       "adelaide         1013.0  \n",
       "adelaide hills   1081.0  \n",
       "adelaide plains     NaN  \n",
       "alexandrina       987.0  \n",
       "barossa          1017.0  \n",
       "...                 ...  \n",
       "west torrens      998.0  \n",
       "whyalla           905.0  \n",
       "wudinna          1023.0  \n",
       "yankalilla        972.0  \n",
       "yorke peninsula   952.0  \n",
       "\n",
       "[69 rows x 7 columns]"
      ]
     },
     "execution_count": 68,
     "metadata": {},
     "output_type": "execute_result"
    }
   ],
   "source": [
    "totalClaimed_scores"
   ]
  },
  {
   "cell_type": "code",
   "execution_count": 69,
   "metadata": {
    "hidden": true
   },
   "outputs": [
    {
     "data": {
      "text/html": [
       "<div>\n",
       "<style scoped>\n",
       "    .dataframe tbody tr th:only-of-type {\n",
       "        vertical-align: middle;\n",
       "    }\n",
       "\n",
       "    .dataframe tbody tr th {\n",
       "        vertical-align: top;\n",
       "    }\n",
       "\n",
       "    .dataframe thead th {\n",
       "        text-align: right;\n",
       "    }\n",
       "</style>\n",
       "<table border=\"1\" class=\"dataframe\">\n",
       "  <thead>\n",
       "    <tr style=\"text-align: right;\">\n",
       "      <th></th>\n",
       "      <th>vouchers</th>\n",
       "      <th>population</th>\n",
       "      <th>proportion</th>\n",
       "      <th>ieo</th>\n",
       "      <th>ier</th>\n",
       "      <th>irsad</th>\n",
       "      <th>irsd</th>\n",
       "    </tr>\n",
       "    <tr>\n",
       "      <th>Participant_LGA</th>\n",
       "      <th></th>\n",
       "      <th></th>\n",
       "      <th></th>\n",
       "      <th></th>\n",
       "      <th></th>\n",
       "      <th></th>\n",
       "      <th></th>\n",
       "    </tr>\n",
       "  </thead>\n",
       "  <tbody>\n",
       "    <tr>\n",
       "      <th>burnside</th>\n",
       "      <td>2213.0</td>\n",
       "      <td>42168.0</td>\n",
       "      <td>0.052481</td>\n",
       "      <td>1044.0</td>\n",
       "      <td>1044.0</td>\n",
       "      <td>1090.0</td>\n",
       "      <td>1081.0</td>\n",
       "    </tr>\n",
       "    <tr>\n",
       "      <th>roxby downs</th>\n",
       "      <td>234.0</td>\n",
       "      <td>4694.0</td>\n",
       "      <td>0.049851</td>\n",
       "      <td>1066.0</td>\n",
       "      <td>1066.0</td>\n",
       "      <td>1086.0</td>\n",
       "      <td>1096.0</td>\n",
       "    </tr>\n",
       "    <tr>\n",
       "      <th>adelaide hills</th>\n",
       "      <td>4756.0</td>\n",
       "      <td>38601.0</td>\n",
       "      <td>0.123209</td>\n",
       "      <td>1083.0</td>\n",
       "      <td>1083.0</td>\n",
       "      <td>1077.0</td>\n",
       "      <td>1081.0</td>\n",
       "    </tr>\n",
       "    <tr>\n",
       "      <th>walkerville</th>\n",
       "      <td>386.0</td>\n",
       "      <td>7008.0</td>\n",
       "      <td>0.055080</td>\n",
       "      <td>1029.0</td>\n",
       "      <td>1029.0</td>\n",
       "      <td>1076.0</td>\n",
       "      <td>1065.0</td>\n",
       "    </tr>\n",
       "    <tr>\n",
       "      <th>unley</th>\n",
       "      <td>2266.0</td>\n",
       "      <td>36813.0</td>\n",
       "      <td>0.061554</td>\n",
       "      <td>1013.0</td>\n",
       "      <td>1013.0</td>\n",
       "      <td>1071.0</td>\n",
       "      <td>1065.0</td>\n",
       "    </tr>\n",
       "  </tbody>\n",
       "</table>\n",
       "</div>"
      ],
      "text/plain": [
       "                 vouchers  population  proportion     ieo     ier   irsad  \\\n",
       "Participant_LGA                                                             \n",
       "burnside           2213.0     42168.0    0.052481  1044.0  1044.0  1090.0   \n",
       "roxby downs         234.0      4694.0    0.049851  1066.0  1066.0  1086.0   \n",
       "adelaide hills     4756.0     38601.0    0.123209  1083.0  1083.0  1077.0   \n",
       "walkerville         386.0      7008.0    0.055080  1029.0  1029.0  1076.0   \n",
       "unley              2266.0     36813.0    0.061554  1013.0  1013.0  1071.0   \n",
       "\n",
       "                   irsd  \n",
       "Participant_LGA          \n",
       "burnside         1081.0  \n",
       "roxby downs      1096.0  \n",
       "adelaide hills   1081.0  \n",
       "walkerville      1065.0  \n",
       "unley            1065.0  "
      ]
     },
     "execution_count": 69,
     "metadata": {},
     "output_type": "execute_result"
    }
   ],
   "source": [
    "totalClaimed_scores.loc[list(totalClaimed_scores['irsad'].nlargest(5).index)]"
   ]
  },
  {
   "cell_type": "code",
   "execution_count": 70,
   "metadata": {
    "hidden": true
   },
   "outputs": [
    {
     "data": {
      "text/html": [
       "<div>\n",
       "<style scoped>\n",
       "    .dataframe tbody tr th:only-of-type {\n",
       "        vertical-align: middle;\n",
       "    }\n",
       "\n",
       "    .dataframe tbody tr th {\n",
       "        vertical-align: top;\n",
       "    }\n",
       "\n",
       "    .dataframe thead th {\n",
       "        text-align: right;\n",
       "    }\n",
       "</style>\n",
       "<table border=\"1\" class=\"dataframe\">\n",
       "  <thead>\n",
       "    <tr style=\"text-align: right;\">\n",
       "      <th></th>\n",
       "      <th>vouchers</th>\n",
       "      <th>population</th>\n",
       "      <th>proportion</th>\n",
       "      <th>ieo</th>\n",
       "      <th>ier</th>\n",
       "      <th>irsad</th>\n",
       "      <th>irsd</th>\n",
       "    </tr>\n",
       "    <tr>\n",
       "      <th>Participant_LGA</th>\n",
       "      <th></th>\n",
       "      <th></th>\n",
       "      <th></th>\n",
       "      <th></th>\n",
       "      <th></th>\n",
       "      <th></th>\n",
       "      <th></th>\n",
       "    </tr>\n",
       "  </thead>\n",
       "  <tbody>\n",
       "    <tr>\n",
       "      <th>peterborough</th>\n",
       "      <td>45.0</td>\n",
       "      <td>1733.0</td>\n",
       "      <td>0.025967</td>\n",
       "      <td>873.0</td>\n",
       "      <td>873.0</td>\n",
       "      <td>808.0</td>\n",
       "      <td>798.0</td>\n",
       "    </tr>\n",
       "    <tr>\n",
       "      <th>playford</th>\n",
       "      <td>6940.0</td>\n",
       "      <td>79082.0</td>\n",
       "      <td>0.087757</td>\n",
       "      <td>914.0</td>\n",
       "      <td>914.0</td>\n",
       "      <td>868.0</td>\n",
       "      <td>871.0</td>\n",
       "    </tr>\n",
       "    <tr>\n",
       "      <th>coober pedy</th>\n",
       "      <td>39.0</td>\n",
       "      <td>1694.0</td>\n",
       "      <td>0.023022</td>\n",
       "      <td>870.0</td>\n",
       "      <td>870.0</td>\n",
       "      <td>869.0</td>\n",
       "      <td>870.0</td>\n",
       "    </tr>\n",
       "    <tr>\n",
       "      <th>murray bridge</th>\n",
       "      <td>1462.0</td>\n",
       "      <td>19742.0</td>\n",
       "      <td>0.074055</td>\n",
       "      <td>932.0</td>\n",
       "      <td>932.0</td>\n",
       "      <td>887.0</td>\n",
       "      <td>901.0</td>\n",
       "    </tr>\n",
       "    <tr>\n",
       "      <th>port augusta</th>\n",
       "      <td>1522.0</td>\n",
       "      <td>13978.0</td>\n",
       "      <td>0.108885</td>\n",
       "      <td>917.0</td>\n",
       "      <td>917.0</td>\n",
       "      <td>897.0</td>\n",
       "      <td>906.0</td>\n",
       "    </tr>\n",
       "  </tbody>\n",
       "</table>\n",
       "</div>"
      ],
      "text/plain": [
       "                 vouchers  population  proportion    ieo    ier  irsad   irsd\n",
       "Participant_LGA                                                              \n",
       "peterborough         45.0      1733.0    0.025967  873.0  873.0  808.0  798.0\n",
       "playford           6940.0     79082.0    0.087757  914.0  914.0  868.0  871.0\n",
       "coober pedy          39.0      1694.0    0.023022  870.0  870.0  869.0  870.0\n",
       "murray bridge      1462.0     19742.0    0.074055  932.0  932.0  887.0  901.0\n",
       "port augusta       1522.0     13978.0    0.108885  917.0  917.0  897.0  906.0"
      ]
     },
     "execution_count": 70,
     "metadata": {},
     "output_type": "execute_result"
    }
   ],
   "source": [
    "totalClaimed_scores.loc[list(totalClaimed_scores['irsad'].nsmallest(5).index)]"
   ]
  },
  {
   "cell_type": "markdown",
   "metadata": {
    "heading_collapsed": true,
    "hidden": true
   },
   "source": [
    "### relation between vouchers claimed and scores via table"
   ]
  },
  {
   "cell_type": "markdown",
   "metadata": {
    "hidden": true
   },
   "source": [
    "\n",
    "I can't see a relation in the above tables if voucher claim proportion is related to any of the scores\n",
    "\n",
    "should I be plotting something? "
   ]
  },
  {
   "cell_type": "code",
   "execution_count": 72,
   "metadata": {
    "hidden": true
   },
   "outputs": [
    {
     "data": {
      "text/html": [
       "<div>\n",
       "<style scoped>\n",
       "    .dataframe tbody tr th:only-of-type {\n",
       "        vertical-align: middle;\n",
       "    }\n",
       "\n",
       "    .dataframe tbody tr th {\n",
       "        vertical-align: top;\n",
       "    }\n",
       "\n",
       "    .dataframe thead th {\n",
       "        text-align: right;\n",
       "    }\n",
       "</style>\n",
       "<table border=\"1\" class=\"dataframe\">\n",
       "  <thead>\n",
       "    <tr style=\"text-align: right;\">\n",
       "      <th></th>\n",
       "      <th>vouchers</th>\n",
       "      <th>population</th>\n",
       "      <th>proportion</th>\n",
       "      <th>ieo</th>\n",
       "      <th>ier</th>\n",
       "      <th>irsad</th>\n",
       "      <th>irsd</th>\n",
       "    </tr>\n",
       "    <tr>\n",
       "      <th>Participant_LGA</th>\n",
       "      <th></th>\n",
       "      <th></th>\n",
       "      <th></th>\n",
       "      <th></th>\n",
       "      <th></th>\n",
       "      <th></th>\n",
       "      <th></th>\n",
       "    </tr>\n",
       "  </thead>\n",
       "  <tbody>\n",
       "    <tr>\n",
       "      <th>adelaide</th>\n",
       "      <td>302.0</td>\n",
       "      <td>19606.0</td>\n",
       "      <td>0.015403</td>\n",
       "      <td>874.0</td>\n",
       "      <td>874.0</td>\n",
       "      <td>1036.0</td>\n",
       "      <td>1013.0</td>\n",
       "    </tr>\n",
       "    <tr>\n",
       "      <th>adelaide hills</th>\n",
       "      <td>4756.0</td>\n",
       "      <td>38601.0</td>\n",
       "      <td>0.123209</td>\n",
       "      <td>1083.0</td>\n",
       "      <td>1083.0</td>\n",
       "      <td>1077.0</td>\n",
       "      <td>1081.0</td>\n",
       "    </tr>\n",
       "    <tr>\n",
       "      <th>adelaide plains</th>\n",
       "      <td>899.0</td>\n",
       "      <td>NaN</td>\n",
       "      <td>NaN</td>\n",
       "      <td>NaN</td>\n",
       "      <td>NaN</td>\n",
       "      <td>NaN</td>\n",
       "      <td>NaN</td>\n",
       "    </tr>\n",
       "    <tr>\n",
       "      <th>alexandrina</th>\n",
       "      <td>2979.0</td>\n",
       "      <td>23693.0</td>\n",
       "      <td>0.125733</td>\n",
       "      <td>1000.0</td>\n",
       "      <td>1000.0</td>\n",
       "      <td>969.0</td>\n",
       "      <td>987.0</td>\n",
       "    </tr>\n",
       "    <tr>\n",
       "      <th>barossa</th>\n",
       "      <td>2874.0</td>\n",
       "      <td>22174.0</td>\n",
       "      <td>0.129611</td>\n",
       "      <td>1028.0</td>\n",
       "      <td>1028.0</td>\n",
       "      <td>997.0</td>\n",
       "      <td>1017.0</td>\n",
       "    </tr>\n",
       "    <tr>\n",
       "      <th>...</th>\n",
       "      <td>...</td>\n",
       "      <td>...</td>\n",
       "      <td>...</td>\n",
       "      <td>...</td>\n",
       "      <td>...</td>\n",
       "      <td>...</td>\n",
       "      <td>...</td>\n",
       "    </tr>\n",
       "    <tr>\n",
       "      <th>west torrens</th>\n",
       "      <td>2844.0</td>\n",
       "      <td>54932.0</td>\n",
       "      <td>0.051773</td>\n",
       "      <td>949.0</td>\n",
       "      <td>949.0</td>\n",
       "      <td>989.0</td>\n",
       "      <td>998.0</td>\n",
       "    </tr>\n",
       "    <tr>\n",
       "      <th>whyalla</th>\n",
       "      <td>2488.0</td>\n",
       "      <td>22070.0</td>\n",
       "      <td>0.112732</td>\n",
       "      <td>905.0</td>\n",
       "      <td>905.0</td>\n",
       "      <td>897.0</td>\n",
       "      <td>905.0</td>\n",
       "    </tr>\n",
       "    <tr>\n",
       "      <th>wudinna</th>\n",
       "      <td>267.0</td>\n",
       "      <td>1256.0</td>\n",
       "      <td>0.212580</td>\n",
       "      <td>1008.0</td>\n",
       "      <td>1008.0</td>\n",
       "      <td>999.0</td>\n",
       "      <td>1023.0</td>\n",
       "    </tr>\n",
       "    <tr>\n",
       "      <th>yankalilla</th>\n",
       "      <td>443.0</td>\n",
       "      <td>4406.0</td>\n",
       "      <td>0.100545</td>\n",
       "      <td>990.0</td>\n",
       "      <td>990.0</td>\n",
       "      <td>957.0</td>\n",
       "      <td>972.0</td>\n",
       "    </tr>\n",
       "    <tr>\n",
       "      <th>yorke peninsula</th>\n",
       "      <td>977.0</td>\n",
       "      <td>11046.0</td>\n",
       "      <td>0.088448</td>\n",
       "      <td>969.0</td>\n",
       "      <td>969.0</td>\n",
       "      <td>933.0</td>\n",
       "      <td>952.0</td>\n",
       "    </tr>\n",
       "  </tbody>\n",
       "</table>\n",
       "<p>69 rows × 7 columns</p>\n",
       "</div>"
      ],
      "text/plain": [
       "                 vouchers  population  proportion     ieo     ier   irsad  \\\n",
       "Participant_LGA                                                             \n",
       "adelaide            302.0     19606.0    0.015403   874.0   874.0  1036.0   \n",
       "adelaide hills     4756.0     38601.0    0.123209  1083.0  1083.0  1077.0   \n",
       "adelaide plains     899.0         NaN         NaN     NaN     NaN     NaN   \n",
       "alexandrina        2979.0     23693.0    0.125733  1000.0  1000.0   969.0   \n",
       "barossa            2874.0     22174.0    0.129611  1028.0  1028.0   997.0   \n",
       "...                   ...         ...         ...     ...     ...     ...   \n",
       "west torrens       2844.0     54932.0    0.051773   949.0   949.0   989.0   \n",
       "whyalla            2488.0     22070.0    0.112732   905.0   905.0   897.0   \n",
       "wudinna             267.0      1256.0    0.212580  1008.0  1008.0   999.0   \n",
       "yankalilla          443.0      4406.0    0.100545   990.0   990.0   957.0   \n",
       "yorke peninsula     977.0     11046.0    0.088448   969.0   969.0   933.0   \n",
       "\n",
       "                   irsd  \n",
       "Participant_LGA          \n",
       "adelaide         1013.0  \n",
       "adelaide hills   1081.0  \n",
       "adelaide plains     NaN  \n",
       "alexandrina       987.0  \n",
       "barossa          1017.0  \n",
       "...                 ...  \n",
       "west torrens      998.0  \n",
       "whyalla           905.0  \n",
       "wudinna          1023.0  \n",
       "yankalilla        972.0  \n",
       "yorke peninsula   952.0  \n",
       "\n",
       "[69 rows x 7 columns]"
      ]
     },
     "execution_count": 72,
     "metadata": {},
     "output_type": "execute_result"
    }
   ],
   "source": [
    "totalClaimed_scores"
   ]
  },
  {
   "cell_type": "code",
   "execution_count": 76,
   "metadata": {
    "hidden": true
   },
   "outputs": [
    {
     "data": {
      "text/plain": [
       "vouchers        302.000000\n",
       "population    19606.000000\n",
       "proportion        0.015403\n",
       "ieo             874.000000\n",
       "ier             874.000000\n",
       "irsad          1036.000000\n",
       "irsd           1013.000000\n",
       "Name: adelaide, dtype: float64"
      ]
     },
     "execution_count": 76,
     "metadata": {},
     "output_type": "execute_result"
    }
   ],
   "source": [
    "totalClaimed_scores.loc['adelaide']"
   ]
  },
  {
   "cell_type": "code",
   "execution_count": 77,
   "metadata": {
    "hidden": true
   },
   "outputs": [
    {
     "data": {
      "text/plain": [
       "<seaborn.axisgrid.PairGrid at 0x1d244feb490>"
      ]
     },
     "execution_count": 77,
     "metadata": {},
     "output_type": "execute_result"
    },
    {
     "data": {
      "image/png": "[encoded data removed]",
      "text/plain": [
       "<Figure size 1260x1260 with 56 Axes>"
      ]
     },
     "metadata": {},
     "output_type": "display_data"
    }
   ],
   "source": [
    "sns.pairplot(totalClaimed_scores)"
   ]
  },
  {
   "cell_type": "markdown",
   "metadata": {},
   "source": [
    "# Challenge Question: Queensland"
   ]
  },
  {
   "cell_type": "markdown",
   "metadata": {},
   "source": [
    "_Note: this is an extra task that you might take on to get a better grade for your portfolio.  You can get a good pass grade without doing this._ \n",
    "\n",
    "Queensland has a similar program called [Get Started](https://data.gov.au/dataset/ds-qld-3118838a-d425-48fa-bfc9-bc615ddae44e/details?q=get%20started%20vouchers) and we can retrieve data from their program in a similar format.  \n",
    "\n",
    "The file [round1-redeemed_get_started_vouchers.csv](files/round1-redeemed_get_started_vouchers.csv) contains records of the vouchers issued in Queensland. The date of this data is not included but the program started in 2015 so it is probably from around then.  \n",
    "\n",
    "The data includes the LGA of the individual but the name of the activity is slightly different.  To do a comparable analysis you would need to map the activity names onto those from South Australia. "
   ]
  },
  {
   "cell_type": "code",
   "execution_count": 60,
   "metadata": {},
   "outputs": [
    {
     "data": {
      "text/html": [
       "<div>\n",
       "<style scoped>\n",
       "    .dataframe tbody tr th:only-of-type {\n",
       "        vertical-align: middle;\n",
       "    }\n",
       "\n",
       "    .dataframe tbody tr th {\n",
       "        vertical-align: top;\n",
       "    }\n",
       "\n",
       "    .dataframe thead th {\n",
       "        text-align: right;\n",
       "    }\n",
       "</style>\n",
       "<table border=\"1\" class=\"dataframe\">\n",
       "  <thead>\n",
       "    <tr style=\"text-align: right;\">\n",
       "      <th></th>\n",
       "      <th>Application Number</th>\n",
       "      <th>Voucher Number</th>\n",
       "      <th>Child Age (at time of Application)</th>\n",
       "      <th>Gender</th>\n",
       "      <th>Has your child played sport before?</th>\n",
       "      <th>Participation Activity</th>\n",
       "      <th>Club Name</th>\n",
       "      <th>Club Suburb/Town</th>\n",
       "      <th>Club Local Government Area Name</th>\n",
       "      <th>Club State Electoral District  Name</th>\n",
       "      <th>Parent Suburb/Town</th>\n",
       "      <th>Total Payment</th>\n",
       "    </tr>\n",
       "  </thead>\n",
       "  <tbody>\n",
       "    <tr>\n",
       "      <th>0</th>\n",
       "      <td>2000012253</td>\n",
       "      <td>Q89QDUXP</td>\n",
       "      <td>10</td>\n",
       "      <td>NaN</td>\n",
       "      <td>Yes</td>\n",
       "      <td>*Other</td>\n",
       "      <td>Queensland Police-Citizens Youth Welfare Assoc...</td>\n",
       "      <td>Airlie Beach</td>\n",
       "      <td>Whitsunday (R)</td>\n",
       "      <td>Whitsunday</td>\n",
       "      <td>Jubilee Pocket</td>\n",
       "      <td>60.01</td>\n",
       "    </tr>\n",
       "    <tr>\n",
       "      <th>1</th>\n",
       "      <td>2000001727</td>\n",
       "      <td>593F6Y41</td>\n",
       "      <td>5</td>\n",
       "      <td>NaN</td>\n",
       "      <td>No</td>\n",
       "      <td>*Other</td>\n",
       "      <td>Guides Queensland</td>\n",
       "      <td>Windsor</td>\n",
       "      <td>Brisbane (C)</td>\n",
       "      <td>Brisbane Central</td>\n",
       "      <td>Leichhardt</td>\n",
       "      <td>150.00</td>\n",
       "    </tr>\n",
       "    <tr>\n",
       "      <th>2</th>\n",
       "      <td>2000013464</td>\n",
       "      <td>PH2R4RTT</td>\n",
       "      <td>5</td>\n",
       "      <td>NaN</td>\n",
       "      <td>No</td>\n",
       "      <td>*Other</td>\n",
       "      <td>Guides Queensland</td>\n",
       "      <td>Windsor</td>\n",
       "      <td>Brisbane (C)</td>\n",
       "      <td>Brisbane Central</td>\n",
       "      <td>Woodridge</td>\n",
       "      <td>150.00</td>\n",
       "    </tr>\n",
       "    <tr>\n",
       "      <th>3</th>\n",
       "      <td>2000009270</td>\n",
       "      <td>035SE2H5</td>\n",
       "      <td>5</td>\n",
       "      <td>NaN</td>\n",
       "      <td>Yes</td>\n",
       "      <td>*Other</td>\n",
       "      <td>Guides Queensland</td>\n",
       "      <td>Windsor</td>\n",
       "      <td>Brisbane (C)</td>\n",
       "      <td>Brisbane Central</td>\n",
       "      <td>Yatala</td>\n",
       "      <td>150.00</td>\n",
       "    </tr>\n",
       "    <tr>\n",
       "      <th>4</th>\n",
       "      <td>2000007273</td>\n",
       "      <td>NP6C4729</td>\n",
       "      <td>6</td>\n",
       "      <td>NaN</td>\n",
       "      <td>No</td>\n",
       "      <td>*Other</td>\n",
       "      <td>Guides Queensland</td>\n",
       "      <td>Windsor</td>\n",
       "      <td>Brisbane (C)</td>\n",
       "      <td>Brisbane Central</td>\n",
       "      <td>Alexandra Hills</td>\n",
       "      <td>150.00</td>\n",
       "    </tr>\n",
       "  </tbody>\n",
       "</table>\n",
       "</div>"
      ],
      "text/plain": [
       "   Application Number Voucher Number  Child Age (at time of Application)  \\\n",
       "0          2000012253       Q89QDUXP                                  10   \n",
       "1          2000001727       593F6Y41                                   5   \n",
       "2          2000013464       PH2R4RTT                                   5   \n",
       "3          2000009270       035SE2H5                                   5   \n",
       "4          2000007273       NP6C4729                                   6   \n",
       "\n",
       "   Gender Has your child played sport before? Participation Activity  \\\n",
       "0     NaN                                 Yes                 *Other   \n",
       "1     NaN                                  No                 *Other   \n",
       "2     NaN                                  No                 *Other   \n",
       "3     NaN                                 Yes                 *Other   \n",
       "4     NaN                                  No                 *Other   \n",
       "\n",
       "                                           Club Name Club Suburb/Town  \\\n",
       "0  Queensland Police-Citizens Youth Welfare Assoc...     Airlie Beach   \n",
       "1                                  Guides Queensland          Windsor   \n",
       "2                                  Guides Queensland          Windsor   \n",
       "3                                  Guides Queensland          Windsor   \n",
       "4                                  Guides Queensland          Windsor   \n",
       "\n",
       "  Club Local Government Area Name Club State Electoral District  Name  \\\n",
       "0                  Whitsunday (R)                          Whitsunday   \n",
       "1                    Brisbane (C)                    Brisbane Central   \n",
       "2                    Brisbane (C)                    Brisbane Central   \n",
       "3                    Brisbane (C)                    Brisbane Central   \n",
       "4                    Brisbane (C)                    Brisbane Central   \n",
       "\n",
       "  Parent Suburb/Town  Total Payment  \n",
       "0     Jubilee Pocket          60.01  \n",
       "1         Leichhardt         150.00  \n",
       "2          Woodridge         150.00  \n",
       "3             Yatala         150.00  \n",
       "4    Alexandra Hills         150.00  "
      ]
     },
     "execution_count": 60,
     "metadata": {},
     "output_type": "execute_result"
    }
   ],
   "source": [
    "qld_vouchers = pd.read_csv('files/round1-redeemed_get_started_vouchers.csv')\n",
    "qld_vouchers.head()"
   ]
  },
  {
   "cell_type": "code",
   "execution_count": 61,
   "metadata": {},
   "outputs": [
    {
     "data": {
      "text/html": [
       "<div>\n",
       "<style scoped>\n",
       "    .dataframe tbody tr th:only-of-type {\n",
       "        vertical-align: middle;\n",
       "    }\n",
       "\n",
       "    .dataframe tbody tr th {\n",
       "        vertical-align: top;\n",
       "    }\n",
       "\n",
       "    .dataframe thead th {\n",
       "        text-align: right;\n",
       "    }\n",
       "</style>\n",
       "<table border=\"1\" class=\"dataframe\">\n",
       "  <thead>\n",
       "    <tr style=\"text-align: right;\">\n",
       "      <th></th>\n",
       "      <th>Application Number</th>\n",
       "      <th>Voucher Number</th>\n",
       "      <th>Child Age (at time of Application)</th>\n",
       "      <th>Gender</th>\n",
       "      <th>Has your child played sport before?</th>\n",
       "      <th>Participation Activity</th>\n",
       "      <th>Club Name</th>\n",
       "      <th>Club Suburb/Town</th>\n",
       "      <th>Club Local Government Area Name</th>\n",
       "      <th>Club State Electoral District  Name</th>\n",
       "      <th>Parent Suburb/Town</th>\n",
       "      <th>Total Payment</th>\n",
       "      <th>LGA</th>\n",
       "      <th>IEO</th>\n",
       "      <th>IER</th>\n",
       "      <th>IRSAD</th>\n",
       "      <th>IRSD</th>\n",
       "      <th>Population</th>\n",
       "    </tr>\n",
       "  </thead>\n",
       "  <tbody>\n",
       "    <tr>\n",
       "      <th>0</th>\n",
       "      <td>2000012253</td>\n",
       "      <td>Q89QDUXP</td>\n",
       "      <td>10</td>\n",
       "      <td>NaN</td>\n",
       "      <td>Yes</td>\n",
       "      <td>*Other</td>\n",
       "      <td>Queensland Police-Citizens Youth Welfare Assoc...</td>\n",
       "      <td>Airlie Beach</td>\n",
       "      <td>Whitsunday (R)</td>\n",
       "      <td>Whitsunday</td>\n",
       "      <td>Jubilee Pocket</td>\n",
       "      <td>60.01</td>\n",
       "      <td>WHITSUNDAY</td>\n",
       "      <td>989.0</td>\n",
       "      <td>989.0</td>\n",
       "      <td>966.0</td>\n",
       "      <td>982.0</td>\n",
       "      <td>31393.0</td>\n",
       "    </tr>\n",
       "    <tr>\n",
       "      <th>1</th>\n",
       "      <td>2000001727</td>\n",
       "      <td>593F6Y41</td>\n",
       "      <td>5</td>\n",
       "      <td>NaN</td>\n",
       "      <td>No</td>\n",
       "      <td>*Other</td>\n",
       "      <td>Guides Queensland</td>\n",
       "      <td>Windsor</td>\n",
       "      <td>Brisbane (C)</td>\n",
       "      <td>Brisbane Central</td>\n",
       "      <td>Leichhardt</td>\n",
       "      <td>150.00</td>\n",
       "      <td>BRISBANE</td>\n",
       "      <td>1018.0</td>\n",
       "      <td>1018.0</td>\n",
       "      <td>1057.0</td>\n",
       "      <td>1048.0</td>\n",
       "      <td>1042074.0</td>\n",
       "    </tr>\n",
       "    <tr>\n",
       "      <th>2</th>\n",
       "      <td>2000013464</td>\n",
       "      <td>PH2R4RTT</td>\n",
       "      <td>5</td>\n",
       "      <td>NaN</td>\n",
       "      <td>No</td>\n",
       "      <td>*Other</td>\n",
       "      <td>Guides Queensland</td>\n",
       "      <td>Windsor</td>\n",
       "      <td>Brisbane (C)</td>\n",
       "      <td>Brisbane Central</td>\n",
       "      <td>Woodridge</td>\n",
       "      <td>150.00</td>\n",
       "      <td>BRISBANE</td>\n",
       "      <td>1018.0</td>\n",
       "      <td>1018.0</td>\n",
       "      <td>1057.0</td>\n",
       "      <td>1048.0</td>\n",
       "      <td>1042074.0</td>\n",
       "    </tr>\n",
       "    <tr>\n",
       "      <th>3</th>\n",
       "      <td>2000009270</td>\n",
       "      <td>035SE2H5</td>\n",
       "      <td>5</td>\n",
       "      <td>NaN</td>\n",
       "      <td>Yes</td>\n",
       "      <td>*Other</td>\n",
       "      <td>Guides Queensland</td>\n",
       "      <td>Windsor</td>\n",
       "      <td>Brisbane (C)</td>\n",
       "      <td>Brisbane Central</td>\n",
       "      <td>Yatala</td>\n",
       "      <td>150.00</td>\n",
       "      <td>BRISBANE</td>\n",
       "      <td>1018.0</td>\n",
       "      <td>1018.0</td>\n",
       "      <td>1057.0</td>\n",
       "      <td>1048.0</td>\n",
       "      <td>1042074.0</td>\n",
       "    </tr>\n",
       "    <tr>\n",
       "      <th>4</th>\n",
       "      <td>2000007273</td>\n",
       "      <td>NP6C4729</td>\n",
       "      <td>6</td>\n",
       "      <td>NaN</td>\n",
       "      <td>No</td>\n",
       "      <td>*Other</td>\n",
       "      <td>Guides Queensland</td>\n",
       "      <td>Windsor</td>\n",
       "      <td>Brisbane (C)</td>\n",
       "      <td>Brisbane Central</td>\n",
       "      <td>Alexandra Hills</td>\n",
       "      <td>150.00</td>\n",
       "      <td>BRISBANE</td>\n",
       "      <td>1018.0</td>\n",
       "      <td>1018.0</td>\n",
       "      <td>1057.0</td>\n",
       "      <td>1048.0</td>\n",
       "      <td>1042074.0</td>\n",
       "    </tr>\n",
       "  </tbody>\n",
       "</table>\n",
       "</div>"
      ],
      "text/plain": [
       "   Application Number Voucher Number  Child Age (at time of Application)  \\\n",
       "0          2000012253       Q89QDUXP                                  10   \n",
       "1          2000001727       593F6Y41                                   5   \n",
       "2          2000013464       PH2R4RTT                                   5   \n",
       "3          2000009270       035SE2H5                                   5   \n",
       "4          2000007273       NP6C4729                                   6   \n",
       "\n",
       "   Gender Has your child played sport before? Participation Activity  \\\n",
       "0     NaN                                 Yes                 *Other   \n",
       "1     NaN                                  No                 *Other   \n",
       "2     NaN                                  No                 *Other   \n",
       "3     NaN                                 Yes                 *Other   \n",
       "4     NaN                                  No                 *Other   \n",
       "\n",
       "                                           Club Name Club Suburb/Town  \\\n",
       "0  Queensland Police-Citizens Youth Welfare Assoc...     Airlie Beach   \n",
       "1                                  Guides Queensland          Windsor   \n",
       "2                                  Guides Queensland          Windsor   \n",
       "3                                  Guides Queensland          Windsor   \n",
       "4                                  Guides Queensland          Windsor   \n",
       "\n",
       "  Club Local Government Area Name Club State Electoral District  Name  \\\n",
       "0                  Whitsunday (R)                          Whitsunday   \n",
       "1                    Brisbane (C)                    Brisbane Central   \n",
       "2                    Brisbane (C)                    Brisbane Central   \n",
       "3                    Brisbane (C)                    Brisbane Central   \n",
       "4                    Brisbane (C)                    Brisbane Central   \n",
       "\n",
       "  Parent Suburb/Town  Total Payment         LGA     IEO     IER   IRSAD  \\\n",
       "0     Jubilee Pocket          60.01  WHITSUNDAY   989.0   989.0   966.0   \n",
       "1         Leichhardt         150.00    BRISBANE  1018.0  1018.0  1057.0   \n",
       "2          Woodridge         150.00    BRISBANE  1018.0  1018.0  1057.0   \n",
       "3             Yatala         150.00    BRISBANE  1018.0  1018.0  1057.0   \n",
       "4    Alexandra Hills         150.00    BRISBANE  1018.0  1018.0  1057.0   \n",
       "\n",
       "     IRSD  Population  \n",
       "0   982.0     31393.0  \n",
       "1  1048.0   1042074.0  \n",
       "2  1048.0   1042074.0  \n",
       "3  1048.0   1042074.0  \n",
       "4  1048.0   1042074.0  "
      ]
     },
     "execution_count": 61,
     "metadata": {},
     "output_type": "execute_result"
    }
   ],
   "source": [
    "# Join the QLD data with the LGA data as before to get population and SIEFA data integrated\n",
    "qld_vouchers['LGA'] = qld_vouchers['Club Local Government Area Name'].str.replace(' \\([RC]+\\)', '').str.upper()\n",
    "qld_vouchers_scores = qld_vouchers.join(LGA_scores, on='LGA')\n",
    "qld_vouchers_scores.head()"
   ]
  },
  {
   "cell_type": "raw",
   "metadata": {},
   "source": [
    "set(qld_vouchers_scores['Participation Activity'])"
   ]
  },
  {
   "cell_type": "code",
   "execution_count": 65,
   "metadata": {},
   "outputs": [],
   "source": [
    "qld = (qld_vouchers_scores.groupby(['Club Local Government Area Name','Participation Activity']).count()).copy(deep=True)"
   ]
  },
  {
   "cell_type": "code",
   "execution_count": 66,
   "metadata": {},
   "outputs": [
    {
     "data": {
      "text/html": [
       "<div>\n",
       "<style scoped>\n",
       "    .dataframe tbody tr th:only-of-type {\n",
       "        vertical-align: middle;\n",
       "    }\n",
       "\n",
       "    .dataframe tbody tr th {\n",
       "        vertical-align: top;\n",
       "    }\n",
       "\n",
       "    .dataframe thead th {\n",
       "        text-align: right;\n",
       "    }\n",
       "</style>\n",
       "<table border=\"1\" class=\"dataframe\">\n",
       "  <thead>\n",
       "    <tr style=\"text-align: right;\">\n",
       "      <th></th>\n",
       "      <th></th>\n",
       "      <th>Application Number</th>\n",
       "      <th>Voucher Number</th>\n",
       "      <th>Child Age (at time of Application)</th>\n",
       "      <th>Gender</th>\n",
       "      <th>Has your child played sport before?</th>\n",
       "      <th>Club Name</th>\n",
       "      <th>Club Suburb/Town</th>\n",
       "      <th>Club State Electoral District  Name</th>\n",
       "      <th>Parent Suburb/Town</th>\n",
       "      <th>Total Payment</th>\n",
       "      <th>LGA</th>\n",
       "      <th>IEO</th>\n",
       "      <th>IER</th>\n",
       "      <th>IRSAD</th>\n",
       "      <th>IRSD</th>\n",
       "      <th>Population</th>\n",
       "    </tr>\n",
       "    <tr>\n",
       "      <th>Club Local Government Area Name</th>\n",
       "      <th>Participation Activity</th>\n",
       "      <th></th>\n",
       "      <th></th>\n",
       "      <th></th>\n",
       "      <th></th>\n",
       "      <th></th>\n",
       "      <th></th>\n",
       "      <th></th>\n",
       "      <th></th>\n",
       "      <th></th>\n",
       "      <th></th>\n",
       "      <th></th>\n",
       "      <th></th>\n",
       "      <th></th>\n",
       "      <th></th>\n",
       "      <th></th>\n",
       "      <th></th>\n",
       "    </tr>\n",
       "  </thead>\n",
       "  <tbody>\n",
       "    <tr>\n",
       "      <th rowspan=\"3\" valign=\"top\">Banana (S)</th>\n",
       "      <th>Equestrian</th>\n",
       "      <td>1</td>\n",
       "      <td>1</td>\n",
       "      <td>1</td>\n",
       "      <td>0</td>\n",
       "      <td>1</td>\n",
       "      <td>1</td>\n",
       "      <td>1</td>\n",
       "      <td>1</td>\n",
       "      <td>1</td>\n",
       "      <td>1</td>\n",
       "      <td>1</td>\n",
       "      <td>0</td>\n",
       "      <td>0</td>\n",
       "      <td>0</td>\n",
       "      <td>0</td>\n",
       "      <td>0</td>\n",
       "    </tr>\n",
       "    <tr>\n",
       "      <th>Football (Soccer)</th>\n",
       "      <td>1</td>\n",
       "      <td>1</td>\n",
       "      <td>1</td>\n",
       "      <td>0</td>\n",
       "      <td>1</td>\n",
       "      <td>1</td>\n",
       "      <td>1</td>\n",
       "      <td>1</td>\n",
       "      <td>1</td>\n",
       "      <td>1</td>\n",
       "      <td>1</td>\n",
       "      <td>0</td>\n",
       "      <td>0</td>\n",
       "      <td>0</td>\n",
       "      <td>0</td>\n",
       "      <td>0</td>\n",
       "    </tr>\n",
       "    <tr>\n",
       "      <th>Netball</th>\n",
       "      <td>1</td>\n",
       "      <td>1</td>\n",
       "      <td>1</td>\n",
       "      <td>0</td>\n",
       "      <td>1</td>\n",
       "      <td>1</td>\n",
       "      <td>1</td>\n",
       "      <td>1</td>\n",
       "      <td>1</td>\n",
       "      <td>1</td>\n",
       "      <td>1</td>\n",
       "      <td>0</td>\n",
       "      <td>0</td>\n",
       "      <td>0</td>\n",
       "      <td>0</td>\n",
       "      <td>0</td>\n",
       "    </tr>\n",
       "    <tr>\n",
       "      <th rowspan=\"2\" valign=\"top\">Blackall Tambo (R)</th>\n",
       "      <th>Athletics</th>\n",
       "      <td>2</td>\n",
       "      <td>2</td>\n",
       "      <td>2</td>\n",
       "      <td>0</td>\n",
       "      <td>2</td>\n",
       "      <td>2</td>\n",
       "      <td>2</td>\n",
       "      <td>2</td>\n",
       "      <td>2</td>\n",
       "      <td>2</td>\n",
       "      <td>2</td>\n",
       "      <td>2</td>\n",
       "      <td>2</td>\n",
       "      <td>2</td>\n",
       "      <td>2</td>\n",
       "      <td>2</td>\n",
       "    </tr>\n",
       "    <tr>\n",
       "      <th>Rugby League</th>\n",
       "      <td>1</td>\n",
       "      <td>1</td>\n",
       "      <td>1</td>\n",
       "      <td>0</td>\n",
       "      <td>1</td>\n",
       "      <td>1</td>\n",
       "      <td>1</td>\n",
       "      <td>1</td>\n",
       "      <td>1</td>\n",
       "      <td>1</td>\n",
       "      <td>1</td>\n",
       "      <td>1</td>\n",
       "      <td>1</td>\n",
       "      <td>1</td>\n",
       "      <td>1</td>\n",
       "      <td>1</td>\n",
       "    </tr>\n",
       "    <tr>\n",
       "      <th>...</th>\n",
       "      <th>...</th>\n",
       "      <td>...</td>\n",
       "      <td>...</td>\n",
       "      <td>...</td>\n",
       "      <td>...</td>\n",
       "      <td>...</td>\n",
       "      <td>...</td>\n",
       "      <td>...</td>\n",
       "      <td>...</td>\n",
       "      <td>...</td>\n",
       "      <td>...</td>\n",
       "      <td>...</td>\n",
       "      <td>...</td>\n",
       "      <td>...</td>\n",
       "      <td>...</td>\n",
       "      <td>...</td>\n",
       "      <td>...</td>\n",
       "    </tr>\n",
       "    <tr>\n",
       "      <th rowspan=\"5\" valign=\"top\">Whitsunday (R)</th>\n",
       "      <th>*Other</th>\n",
       "      <td>1</td>\n",
       "      <td>1</td>\n",
       "      <td>1</td>\n",
       "      <td>0</td>\n",
       "      <td>1</td>\n",
       "      <td>1</td>\n",
       "      <td>1</td>\n",
       "      <td>1</td>\n",
       "      <td>1</td>\n",
       "      <td>1</td>\n",
       "      <td>1</td>\n",
       "      <td>1</td>\n",
       "      <td>1</td>\n",
       "      <td>1</td>\n",
       "      <td>1</td>\n",
       "      <td>1</td>\n",
       "    </tr>\n",
       "    <tr>\n",
       "      <th>Athletics</th>\n",
       "      <td>1</td>\n",
       "      <td>1</td>\n",
       "      <td>1</td>\n",
       "      <td>0</td>\n",
       "      <td>1</td>\n",
       "      <td>1</td>\n",
       "      <td>1</td>\n",
       "      <td>1</td>\n",
       "      <td>1</td>\n",
       "      <td>1</td>\n",
       "      <td>1</td>\n",
       "      <td>1</td>\n",
       "      <td>1</td>\n",
       "      <td>1</td>\n",
       "      <td>1</td>\n",
       "      <td>1</td>\n",
       "    </tr>\n",
       "    <tr>\n",
       "      <th>Gymnastics</th>\n",
       "      <td>2</td>\n",
       "      <td>2</td>\n",
       "      <td>2</td>\n",
       "      <td>0</td>\n",
       "      <td>2</td>\n",
       "      <td>2</td>\n",
       "      <td>2</td>\n",
       "      <td>2</td>\n",
       "      <td>2</td>\n",
       "      <td>2</td>\n",
       "      <td>2</td>\n",
       "      <td>2</td>\n",
       "      <td>2</td>\n",
       "      <td>2</td>\n",
       "      <td>2</td>\n",
       "      <td>2</td>\n",
       "    </tr>\n",
       "    <tr>\n",
       "      <th>Rugby League</th>\n",
       "      <td>12</td>\n",
       "      <td>12</td>\n",
       "      <td>12</td>\n",
       "      <td>0</td>\n",
       "      <td>12</td>\n",
       "      <td>12</td>\n",
       "      <td>12</td>\n",
       "      <td>12</td>\n",
       "      <td>12</td>\n",
       "      <td>12</td>\n",
       "      <td>12</td>\n",
       "      <td>12</td>\n",
       "      <td>12</td>\n",
       "      <td>12</td>\n",
       "      <td>12</td>\n",
       "      <td>12</td>\n",
       "    </tr>\n",
       "    <tr>\n",
       "      <th>Tennis</th>\n",
       "      <td>2</td>\n",
       "      <td>2</td>\n",
       "      <td>2</td>\n",
       "      <td>0</td>\n",
       "      <td>2</td>\n",
       "      <td>2</td>\n",
       "      <td>2</td>\n",
       "      <td>2</td>\n",
       "      <td>2</td>\n",
       "      <td>2</td>\n",
       "      <td>2</td>\n",
       "      <td>2</td>\n",
       "      <td>2</td>\n",
       "      <td>2</td>\n",
       "      <td>2</td>\n",
       "      <td>2</td>\n",
       "    </tr>\n",
       "  </tbody>\n",
       "</table>\n",
       "<p>432 rows × 16 columns</p>\n",
       "</div>"
      ],
      "text/plain": [
       "                                                        Application Number  \\\n",
       "Club Local Government Area Name Participation Activity                       \n",
       "Banana (S)                      Equestrian                               1   \n",
       "                                Football (Soccer)                        1   \n",
       "                                Netball                                  1   \n",
       "Blackall Tambo (R)              Athletics                                2   \n",
       "                                Rugby League                             1   \n",
       "...                                                                    ...   \n",
       "Whitsunday (R)                  *Other                                   1   \n",
       "                                Athletics                                1   \n",
       "                                Gymnastics                               2   \n",
       "                                Rugby League                            12   \n",
       "                                Tennis                                   2   \n",
       "\n",
       "                                                        Voucher Number  \\\n",
       "Club Local Government Area Name Participation Activity                   \n",
       "Banana (S)                      Equestrian                           1   \n",
       "                                Football (Soccer)                    1   \n",
       "                                Netball                              1   \n",
       "Blackall Tambo (R)              Athletics                            2   \n",
       "                                Rugby League                         1   \n",
       "...                                                                ...   \n",
       "Whitsunday (R)                  *Other                               1   \n",
       "                                Athletics                            1   \n",
       "                                Gymnastics                           2   \n",
       "                                Rugby League                        12   \n",
       "                                Tennis                               2   \n",
       "\n",
       "                                                        Child Age (at time of Application)  \\\n",
       "Club Local Government Area Name Participation Activity                                       \n",
       "Banana (S)                      Equestrian                                               1   \n",
       "                                Football (Soccer)                                        1   \n",
       "                                Netball                                                  1   \n",
       "Blackall Tambo (R)              Athletics                                                2   \n",
       "                                Rugby League                                             1   \n",
       "...                                                                                    ...   \n",
       "Whitsunday (R)                  *Other                                                   1   \n",
       "                                Athletics                                                1   \n",
       "                                Gymnastics                                               2   \n",
       "                                Rugby League                                            12   \n",
       "                                Tennis                                                   2   \n",
       "\n",
       "                                                        Gender  \\\n",
       "Club Local Government Area Name Participation Activity           \n",
       "Banana (S)                      Equestrian                   0   \n",
       "                                Football (Soccer)            0   \n",
       "                                Netball                      0   \n",
       "Blackall Tambo (R)              Athletics                    0   \n",
       "                                Rugby League                 0   \n",
       "...                                                        ...   \n",
       "Whitsunday (R)                  *Other                       0   \n",
       "                                Athletics                    0   \n",
       "                                Gymnastics                   0   \n",
       "                                Rugby League                 0   \n",
       "                                Tennis                       0   \n",
       "\n",
       "                                                        Has your child played sport before?  \\\n",
       "Club Local Government Area Name Participation Activity                                        \n",
       "Banana (S)                      Equestrian                                                1   \n",
       "                                Football (Soccer)                                         1   \n",
       "                                Netball                                                   1   \n",
       "Blackall Tambo (R)              Athletics                                                 2   \n",
       "                                Rugby League                                              1   \n",
       "...                                                                                     ...   \n",
       "Whitsunday (R)                  *Other                                                    1   \n",
       "                                Athletics                                                 1   \n",
       "                                Gymnastics                                                2   \n",
       "                                Rugby League                                             12   \n",
       "                                Tennis                                                    2   \n",
       "\n",
       "                                                        Club Name  \\\n",
       "Club Local Government Area Name Participation Activity              \n",
       "Banana (S)                      Equestrian                      1   \n",
       "                                Football (Soccer)               1   \n",
       "                                Netball                         1   \n",
       "Blackall Tambo (R)              Athletics                       2   \n",
       "                                Rugby League                    1   \n",
       "...                                                           ...   \n",
       "Whitsunday (R)                  *Other                          1   \n",
       "                                Athletics                       1   \n",
       "                                Gymnastics                      2   \n",
       "                                Rugby League                   12   \n",
       "                                Tennis                          2   \n",
       "\n",
       "                                                        Club Suburb/Town  \\\n",
       "Club Local Government Area Name Participation Activity                     \n",
       "Banana (S)                      Equestrian                             1   \n",
       "                                Football (Soccer)                      1   \n",
       "                                Netball                                1   \n",
       "Blackall Tambo (R)              Athletics                              2   \n",
       "                                Rugby League                           1   \n",
       "...                                                                  ...   \n",
       "Whitsunday (R)                  *Other                                 1   \n",
       "                                Athletics                              1   \n",
       "                                Gymnastics                             2   \n",
       "                                Rugby League                          12   \n",
       "                                Tennis                                 2   \n",
       "\n",
       "                                                        Club State Electoral District  Name  \\\n",
       "Club Local Government Area Name Participation Activity                                        \n",
       "Banana (S)                      Equestrian                                                1   \n",
       "                                Football (Soccer)                                         1   \n",
       "                                Netball                                                   1   \n",
       "Blackall Tambo (R)              Athletics                                                 2   \n",
       "                                Rugby League                                              1   \n",
       "...                                                                                     ...   \n",
       "Whitsunday (R)                  *Other                                                    1   \n",
       "                                Athletics                                                 1   \n",
       "                                Gymnastics                                                2   \n",
       "                                Rugby League                                             12   \n",
       "                                Tennis                                                    2   \n",
       "\n",
       "                                                        Parent Suburb/Town  \\\n",
       "Club Local Government Area Name Participation Activity                       \n",
       "Banana (S)                      Equestrian                               1   \n",
       "                                Football (Soccer)                        1   \n",
       "                                Netball                                  1   \n",
       "Blackall Tambo (R)              Athletics                                2   \n",
       "                                Rugby League                             1   \n",
       "...                                                                    ...   \n",
       "Whitsunday (R)                  *Other                                   1   \n",
       "                                Athletics                                1   \n",
       "                                Gymnastics                               2   \n",
       "                                Rugby League                            12   \n",
       "                                Tennis                                   2   \n",
       "\n",
       "                                                        Total Payment  LGA  \\\n",
       "Club Local Government Area Name Participation Activity                       \n",
       "Banana (S)                      Equestrian                          1    1   \n",
       "                                Football (Soccer)                   1    1   \n",
       "                                Netball                             1    1   \n",
       "Blackall Tambo (R)              Athletics                           2    2   \n",
       "                                Rugby League                        1    1   \n",
       "...                                                               ...  ...   \n",
       "Whitsunday (R)                  *Other                              1    1   \n",
       "                                Athletics                           1    1   \n",
       "                                Gymnastics                          2    2   \n",
       "                                Rugby League                       12   12   \n",
       "                                Tennis                              2    2   \n",
       "\n",
       "                                                        IEO  IER  IRSAD  IRSD  \\\n",
       "Club Local Government Area Name Participation Activity                          \n",
       "Banana (S)                      Equestrian                0    0      0     0   \n",
       "                                Football (Soccer)         0    0      0     0   \n",
       "                                Netball                   0    0      0     0   \n",
       "Blackall Tambo (R)              Athletics                 2    2      2     2   \n",
       "                                Rugby League              1    1      1     1   \n",
       "...                                                     ...  ...    ...   ...   \n",
       "Whitsunday (R)                  *Other                    1    1      1     1   \n",
       "                                Athletics                 1    1      1     1   \n",
       "                                Gymnastics                2    2      2     2   \n",
       "                                Rugby League             12   12     12    12   \n",
       "                                Tennis                    2    2      2     2   \n",
       "\n",
       "                                                        Population  \n",
       "Club Local Government Area Name Participation Activity              \n",
       "Banana (S)                      Equestrian                       0  \n",
       "                                Football (Soccer)                0  \n",
       "                                Netball                          0  \n",
       "Blackall Tambo (R)              Athletics                        2  \n",
       "                                Rugby League                     1  \n",
       "...                                                            ...  \n",
       "Whitsunday (R)                  *Other                           1  \n",
       "                                Athletics                        1  \n",
       "                                Gymnastics                       2  \n",
       "                                Rugby League                    12  \n",
       "                                Tennis                           2  \n",
       "\n",
       "[432 rows x 16 columns]"
      ]
     },
     "execution_count": 66,
     "metadata": {},
     "output_type": "execute_result"
    }
   ],
   "source": [
    "qld"
   ]
  },
  {
   "cell_type": "code",
   "execution_count": 72,
   "metadata": {},
   "outputs": [],
   "source": [
    "qldSports = pd.pivot_table(qld, values = 'Voucher Number', index = 'Club Local Government Area Name', columns = 'Participation Activity')"
   ]
  },
  {
   "cell_type": "code",
   "execution_count": 75,
   "metadata": {},
   "outputs": [],
   "source": [
    "qldSports = qldSports.fillna(0)"
   ]
  },
  {
   "cell_type": "code",
   "execution_count": 74,
   "metadata": {},
   "outputs": [
    {
     "data": {
      "text/html": [
       "<div>\n",
       "<style scoped>\n",
       "    .dataframe tbody tr th:only-of-type {\n",
       "        vertical-align: middle;\n",
       "    }\n",
       "\n",
       "    .dataframe tbody tr th {\n",
       "        vertical-align: top;\n",
       "    }\n",
       "\n",
       "    .dataframe thead th {\n",
       "        text-align: right;\n",
       "    }\n",
       "</style>\n",
       "<table border=\"1\" class=\"dataframe\">\n",
       "  <thead>\n",
       "    <tr style=\"text-align: right;\">\n",
       "      <th>Participation Activity</th>\n",
       "      <th>*Other</th>\n",
       "      <th>Archery</th>\n",
       "      <th>Athletics</th>\n",
       "      <th>Australian Football</th>\n",
       "      <th>BMX Bicycle Motocross</th>\n",
       "      <th>Baseball</th>\n",
       "      <th>Basketball</th>\n",
       "      <th>Body Boarding</th>\n",
       "      <th>Bowls Lawn</th>\n",
       "      <th>Boxing</th>\n",
       "      <th>...</th>\n",
       "      <th>T-Ball</th>\n",
       "      <th>Table Tennis</th>\n",
       "      <th>Taekwondo</th>\n",
       "      <th>Tennis</th>\n",
       "      <th>Tenpin Bowling</th>\n",
       "      <th>Touch</th>\n",
       "      <th>Trail Bike Riding</th>\n",
       "      <th>Trampolining</th>\n",
       "      <th>Weightlifting</th>\n",
       "      <th>Zen Do Kai Martial Arts</th>\n",
       "    </tr>\n",
       "    <tr>\n",
       "      <th>Club Local Government Area Name</th>\n",
       "      <th></th>\n",
       "      <th></th>\n",
       "      <th></th>\n",
       "      <th></th>\n",
       "      <th></th>\n",
       "      <th></th>\n",
       "      <th></th>\n",
       "      <th></th>\n",
       "      <th></th>\n",
       "      <th></th>\n",
       "      <th></th>\n",
       "      <th></th>\n",
       "      <th></th>\n",
       "      <th></th>\n",
       "      <th></th>\n",
       "      <th></th>\n",
       "      <th></th>\n",
       "      <th></th>\n",
       "      <th></th>\n",
       "      <th></th>\n",
       "      <th></th>\n",
       "    </tr>\n",
       "  </thead>\n",
       "  <tbody>\n",
       "    <tr>\n",
       "      <th>Banana (S)</th>\n",
       "      <td>NaN</td>\n",
       "      <td>NaN</td>\n",
       "      <td>NaN</td>\n",
       "      <td>NaN</td>\n",
       "      <td>NaN</td>\n",
       "      <td>NaN</td>\n",
       "      <td>NaN</td>\n",
       "      <td>NaN</td>\n",
       "      <td>NaN</td>\n",
       "      <td>NaN</td>\n",
       "      <td>...</td>\n",
       "      <td>NaN</td>\n",
       "      <td>NaN</td>\n",
       "      <td>NaN</td>\n",
       "      <td>NaN</td>\n",
       "      <td>NaN</td>\n",
       "      <td>NaN</td>\n",
       "      <td>NaN</td>\n",
       "      <td>NaN</td>\n",
       "      <td>NaN</td>\n",
       "      <td>NaN</td>\n",
       "    </tr>\n",
       "    <tr>\n",
       "      <th>Blackall Tambo (R)</th>\n",
       "      <td>NaN</td>\n",
       "      <td>NaN</td>\n",
       "      <td>2.0</td>\n",
       "      <td>NaN</td>\n",
       "      <td>NaN</td>\n",
       "      <td>NaN</td>\n",
       "      <td>NaN</td>\n",
       "      <td>NaN</td>\n",
       "      <td>NaN</td>\n",
       "      <td>NaN</td>\n",
       "      <td>...</td>\n",
       "      <td>NaN</td>\n",
       "      <td>NaN</td>\n",
       "      <td>NaN</td>\n",
       "      <td>NaN</td>\n",
       "      <td>NaN</td>\n",
       "      <td>NaN</td>\n",
       "      <td>NaN</td>\n",
       "      <td>NaN</td>\n",
       "      <td>NaN</td>\n",
       "      <td>NaN</td>\n",
       "    </tr>\n",
       "    <tr>\n",
       "      <th>Brisbane (C)</th>\n",
       "      <td>11.0</td>\n",
       "      <td>NaN</td>\n",
       "      <td>1.0</td>\n",
       "      <td>68.0</td>\n",
       "      <td>5.0</td>\n",
       "      <td>3.0</td>\n",
       "      <td>78.0</td>\n",
       "      <td>NaN</td>\n",
       "      <td>NaN</td>\n",
       "      <td>2.0</td>\n",
       "      <td>...</td>\n",
       "      <td>1.0</td>\n",
       "      <td>NaN</td>\n",
       "      <td>5.0</td>\n",
       "      <td>5.0</td>\n",
       "      <td>NaN</td>\n",
       "      <td>NaN</td>\n",
       "      <td>1.0</td>\n",
       "      <td>7.0</td>\n",
       "      <td>NaN</td>\n",
       "      <td>NaN</td>\n",
       "    </tr>\n",
       "    <tr>\n",
       "      <th>Bundaberg (R)</th>\n",
       "      <td>NaN</td>\n",
       "      <td>NaN</td>\n",
       "      <td>3.0</td>\n",
       "      <td>3.0</td>\n",
       "      <td>NaN</td>\n",
       "      <td>NaN</td>\n",
       "      <td>9.0</td>\n",
       "      <td>NaN</td>\n",
       "      <td>NaN</td>\n",
       "      <td>NaN</td>\n",
       "      <td>...</td>\n",
       "      <td>NaN</td>\n",
       "      <td>2.0</td>\n",
       "      <td>NaN</td>\n",
       "      <td>1.0</td>\n",
       "      <td>NaN</td>\n",
       "      <td>NaN</td>\n",
       "      <td>NaN</td>\n",
       "      <td>NaN</td>\n",
       "      <td>NaN</td>\n",
       "      <td>NaN</td>\n",
       "    </tr>\n",
       "    <tr>\n",
       "      <th>Burdekin (S)</th>\n",
       "      <td>NaN</td>\n",
       "      <td>NaN</td>\n",
       "      <td>NaN</td>\n",
       "      <td>NaN</td>\n",
       "      <td>NaN</td>\n",
       "      <td>NaN</td>\n",
       "      <td>3.0</td>\n",
       "      <td>NaN</td>\n",
       "      <td>NaN</td>\n",
       "      <td>NaN</td>\n",
       "      <td>...</td>\n",
       "      <td>NaN</td>\n",
       "      <td>NaN</td>\n",
       "      <td>NaN</td>\n",
       "      <td>NaN</td>\n",
       "      <td>NaN</td>\n",
       "      <td>NaN</td>\n",
       "      <td>NaN</td>\n",
       "      <td>NaN</td>\n",
       "      <td>NaN</td>\n",
       "      <td>NaN</td>\n",
       "    </tr>\n",
       "    <tr>\n",
       "      <th>Cairns</th>\n",
       "      <td>NaN</td>\n",
       "      <td>NaN</td>\n",
       "      <td>NaN</td>\n",
       "      <td>NaN</td>\n",
       "      <td>NaN</td>\n",
       "      <td>NaN</td>\n",
       "      <td>NaN</td>\n",
       "      <td>NaN</td>\n",
       "      <td>NaN</td>\n",
       "      <td>NaN</td>\n",
       "      <td>...</td>\n",
       "      <td>NaN</td>\n",
       "      <td>NaN</td>\n",
       "      <td>NaN</td>\n",
       "      <td>NaN</td>\n",
       "      <td>NaN</td>\n",
       "      <td>NaN</td>\n",
       "      <td>NaN</td>\n",
       "      <td>NaN</td>\n",
       "      <td>NaN</td>\n",
       "      <td>NaN</td>\n",
       "    </tr>\n",
       "    <tr>\n",
       "      <th>Cairns (R)</th>\n",
       "      <td>NaN</td>\n",
       "      <td>NaN</td>\n",
       "      <td>17.0</td>\n",
       "      <td>24.0</td>\n",
       "      <td>NaN</td>\n",
       "      <td>1.0</td>\n",
       "      <td>12.0</td>\n",
       "      <td>NaN</td>\n",
       "      <td>NaN</td>\n",
       "      <td>NaN</td>\n",
       "      <td>...</td>\n",
       "      <td>NaN</td>\n",
       "      <td>NaN</td>\n",
       "      <td>1.0</td>\n",
       "      <td>6.0</td>\n",
       "      <td>NaN</td>\n",
       "      <td>1.0</td>\n",
       "      <td>NaN</td>\n",
       "      <td>NaN</td>\n",
       "      <td>NaN</td>\n",
       "      <td>NaN</td>\n",
       "    </tr>\n",
       "    <tr>\n",
       "      <th>Cassowary Coast (R)</th>\n",
       "      <td>NaN</td>\n",
       "      <td>NaN</td>\n",
       "      <td>NaN</td>\n",
       "      <td>NaN</td>\n",
       "      <td>NaN</td>\n",
       "      <td>NaN</td>\n",
       "      <td>NaN</td>\n",
       "      <td>NaN</td>\n",
       "      <td>NaN</td>\n",
       "      <td>NaN</td>\n",
       "      <td>...</td>\n",
       "      <td>NaN</td>\n",
       "      <td>NaN</td>\n",
       "      <td>NaN</td>\n",
       "      <td>1.0</td>\n",
       "      <td>NaN</td>\n",
       "      <td>2.0</td>\n",
       "      <td>NaN</td>\n",
       "      <td>NaN</td>\n",
       "      <td>NaN</td>\n",
       "      <td>NaN</td>\n",
       "    </tr>\n",
       "    <tr>\n",
       "      <th>Central Highlands (R)</th>\n",
       "      <td>NaN</td>\n",
       "      <td>NaN</td>\n",
       "      <td>2.0</td>\n",
       "      <td>NaN</td>\n",
       "      <td>NaN</td>\n",
       "      <td>NaN</td>\n",
       "      <td>NaN</td>\n",
       "      <td>NaN</td>\n",
       "      <td>NaN</td>\n",
       "      <td>NaN</td>\n",
       "      <td>...</td>\n",
       "      <td>NaN</td>\n",
       "      <td>NaN</td>\n",
       "      <td>NaN</td>\n",
       "      <td>NaN</td>\n",
       "      <td>NaN</td>\n",
       "      <td>NaN</td>\n",
       "      <td>NaN</td>\n",
       "      <td>NaN</td>\n",
       "      <td>NaN</td>\n",
       "      <td>NaN</td>\n",
       "    </tr>\n",
       "    <tr>\n",
       "      <th>Charters Towers (R)</th>\n",
       "      <td>NaN</td>\n",
       "      <td>NaN</td>\n",
       "      <td>2.0</td>\n",
       "      <td>NaN</td>\n",
       "      <td>NaN</td>\n",
       "      <td>NaN</td>\n",
       "      <td>NaN</td>\n",
       "      <td>NaN</td>\n",
       "      <td>NaN</td>\n",
       "      <td>NaN</td>\n",
       "      <td>...</td>\n",
       "      <td>NaN</td>\n",
       "      <td>NaN</td>\n",
       "      <td>NaN</td>\n",
       "      <td>1.0</td>\n",
       "      <td>NaN</td>\n",
       "      <td>NaN</td>\n",
       "      <td>NaN</td>\n",
       "      <td>NaN</td>\n",
       "      <td>NaN</td>\n",
       "      <td>NaN</td>\n",
       "    </tr>\n",
       "    <tr>\n",
       "      <th>Douglas (S)</th>\n",
       "      <td>NaN</td>\n",
       "      <td>NaN</td>\n",
       "      <td>4.0</td>\n",
       "      <td>4.0</td>\n",
       "      <td>NaN</td>\n",
       "      <td>NaN</td>\n",
       "      <td>NaN</td>\n",
       "      <td>NaN</td>\n",
       "      <td>NaN</td>\n",
       "      <td>NaN</td>\n",
       "      <td>...</td>\n",
       "      <td>NaN</td>\n",
       "      <td>NaN</td>\n",
       "      <td>NaN</td>\n",
       "      <td>NaN</td>\n",
       "      <td>NaN</td>\n",
       "      <td>NaN</td>\n",
       "      <td>NaN</td>\n",
       "      <td>NaN</td>\n",
       "      <td>NaN</td>\n",
       "      <td>NaN</td>\n",
       "    </tr>\n",
       "    <tr>\n",
       "      <th>Flinders (S)</th>\n",
       "      <td>NaN</td>\n",
       "      <td>NaN</td>\n",
       "      <td>NaN</td>\n",
       "      <td>NaN</td>\n",
       "      <td>NaN</td>\n",
       "      <td>NaN</td>\n",
       "      <td>NaN</td>\n",
       "      <td>NaN</td>\n",
       "      <td>NaN</td>\n",
       "      <td>NaN</td>\n",
       "      <td>...</td>\n",
       "      <td>NaN</td>\n",
       "      <td>NaN</td>\n",
       "      <td>NaN</td>\n",
       "      <td>NaN</td>\n",
       "      <td>NaN</td>\n",
       "      <td>NaN</td>\n",
       "      <td>NaN</td>\n",
       "      <td>NaN</td>\n",
       "      <td>NaN</td>\n",
       "      <td>NaN</td>\n",
       "    </tr>\n",
       "    <tr>\n",
       "      <th>Fraser Coast (R)</th>\n",
       "      <td>NaN</td>\n",
       "      <td>NaN</td>\n",
       "      <td>NaN</td>\n",
       "      <td>13.0</td>\n",
       "      <td>4.0</td>\n",
       "      <td>NaN</td>\n",
       "      <td>1.0</td>\n",
       "      <td>NaN</td>\n",
       "      <td>NaN</td>\n",
       "      <td>NaN</td>\n",
       "      <td>...</td>\n",
       "      <td>NaN</td>\n",
       "      <td>NaN</td>\n",
       "      <td>NaN</td>\n",
       "      <td>11.0</td>\n",
       "      <td>NaN</td>\n",
       "      <td>NaN</td>\n",
       "      <td>NaN</td>\n",
       "      <td>2.0</td>\n",
       "      <td>NaN</td>\n",
       "      <td>5.0</td>\n",
       "    </tr>\n",
       "    <tr>\n",
       "      <th>Gladstone (R)</th>\n",
       "      <td>NaN</td>\n",
       "      <td>NaN</td>\n",
       "      <td>NaN</td>\n",
       "      <td>NaN</td>\n",
       "      <td>NaN</td>\n",
       "      <td>NaN</td>\n",
       "      <td>NaN</td>\n",
       "      <td>NaN</td>\n",
       "      <td>NaN</td>\n",
       "      <td>NaN</td>\n",
       "      <td>...</td>\n",
       "      <td>NaN</td>\n",
       "      <td>NaN</td>\n",
       "      <td>NaN</td>\n",
       "      <td>NaN</td>\n",
       "      <td>NaN</td>\n",
       "      <td>NaN</td>\n",
       "      <td>NaN</td>\n",
       "      <td>NaN</td>\n",
       "      <td>NaN</td>\n",
       "      <td>NaN</td>\n",
       "    </tr>\n",
       "    <tr>\n",
       "      <th>Gold Coast (C)</th>\n",
       "      <td>1.0</td>\n",
       "      <td>NaN</td>\n",
       "      <td>2.0</td>\n",
       "      <td>172.0</td>\n",
       "      <td>3.0</td>\n",
       "      <td>NaN</td>\n",
       "      <td>86.0</td>\n",
       "      <td>NaN</td>\n",
       "      <td>NaN</td>\n",
       "      <td>2.0</td>\n",
       "      <td>...</td>\n",
       "      <td>NaN</td>\n",
       "      <td>NaN</td>\n",
       "      <td>1.0</td>\n",
       "      <td>27.0</td>\n",
       "      <td>NaN</td>\n",
       "      <td>17.0</td>\n",
       "      <td>NaN</td>\n",
       "      <td>NaN</td>\n",
       "      <td>NaN</td>\n",
       "      <td>NaN</td>\n",
       "    </tr>\n",
       "    <tr>\n",
       "      <th>Gympie (R)</th>\n",
       "      <td>NaN</td>\n",
       "      <td>4.0</td>\n",
       "      <td>NaN</td>\n",
       "      <td>3.0</td>\n",
       "      <td>1.0</td>\n",
       "      <td>NaN</td>\n",
       "      <td>5.0</td>\n",
       "      <td>NaN</td>\n",
       "      <td>NaN</td>\n",
       "      <td>NaN</td>\n",
       "      <td>...</td>\n",
       "      <td>NaN</td>\n",
       "      <td>NaN</td>\n",
       "      <td>NaN</td>\n",
       "      <td>NaN</td>\n",
       "      <td>NaN</td>\n",
       "      <td>NaN</td>\n",
       "      <td>NaN</td>\n",
       "      <td>NaN</td>\n",
       "      <td>NaN</td>\n",
       "      <td>NaN</td>\n",
       "    </tr>\n",
       "    <tr>\n",
       "      <th>Hervey Bay</th>\n",
       "      <td>NaN</td>\n",
       "      <td>NaN</td>\n",
       "      <td>NaN</td>\n",
       "      <td>3.0</td>\n",
       "      <td>NaN</td>\n",
       "      <td>NaN</td>\n",
       "      <td>NaN</td>\n",
       "      <td>NaN</td>\n",
       "      <td>NaN</td>\n",
       "      <td>NaN</td>\n",
       "      <td>...</td>\n",
       "      <td>NaN</td>\n",
       "      <td>NaN</td>\n",
       "      <td>NaN</td>\n",
       "      <td>NaN</td>\n",
       "      <td>NaN</td>\n",
       "      <td>NaN</td>\n",
       "      <td>NaN</td>\n",
       "      <td>NaN</td>\n",
       "      <td>NaN</td>\n",
       "      <td>NaN</td>\n",
       "    </tr>\n",
       "    <tr>\n",
       "      <th>Hinchinbrook (S)</th>\n",
       "      <td>NaN</td>\n",
       "      <td>1.0</td>\n",
       "      <td>1.0</td>\n",
       "      <td>2.0</td>\n",
       "      <td>NaN</td>\n",
       "      <td>NaN</td>\n",
       "      <td>NaN</td>\n",
       "      <td>NaN</td>\n",
       "      <td>NaN</td>\n",
       "      <td>NaN</td>\n",
       "      <td>...</td>\n",
       "      <td>NaN</td>\n",
       "      <td>NaN</td>\n",
       "      <td>NaN</td>\n",
       "      <td>6.0</td>\n",
       "      <td>NaN</td>\n",
       "      <td>NaN</td>\n",
       "      <td>NaN</td>\n",
       "      <td>NaN</td>\n",
       "      <td>NaN</td>\n",
       "      <td>NaN</td>\n",
       "    </tr>\n",
       "    <tr>\n",
       "      <th>Ipswich (C)</th>\n",
       "      <td>NaN</td>\n",
       "      <td>NaN</td>\n",
       "      <td>1.0</td>\n",
       "      <td>22.0</td>\n",
       "      <td>NaN</td>\n",
       "      <td>NaN</td>\n",
       "      <td>16.0</td>\n",
       "      <td>NaN</td>\n",
       "      <td>NaN</td>\n",
       "      <td>NaN</td>\n",
       "      <td>...</td>\n",
       "      <td>NaN</td>\n",
       "      <td>NaN</td>\n",
       "      <td>6.0</td>\n",
       "      <td>3.0</td>\n",
       "      <td>NaN</td>\n",
       "      <td>NaN</td>\n",
       "      <td>NaN</td>\n",
       "      <td>5.0</td>\n",
       "      <td>NaN</td>\n",
       "      <td>NaN</td>\n",
       "    </tr>\n",
       "    <tr>\n",
       "      <th>Isaac (R)</th>\n",
       "      <td>NaN</td>\n",
       "      <td>NaN</td>\n",
       "      <td>NaN</td>\n",
       "      <td>NaN</td>\n",
       "      <td>NaN</td>\n",
       "      <td>NaN</td>\n",
       "      <td>NaN</td>\n",
       "      <td>NaN</td>\n",
       "      <td>NaN</td>\n",
       "      <td>NaN</td>\n",
       "      <td>...</td>\n",
       "      <td>NaN</td>\n",
       "      <td>NaN</td>\n",
       "      <td>NaN</td>\n",
       "      <td>NaN</td>\n",
       "      <td>NaN</td>\n",
       "      <td>NaN</td>\n",
       "      <td>NaN</td>\n",
       "      <td>NaN</td>\n",
       "      <td>NaN</td>\n",
       "      <td>NaN</td>\n",
       "    </tr>\n",
       "    <tr>\n",
       "      <th>Livingstone (S)</th>\n",
       "      <td>NaN</td>\n",
       "      <td>NaN</td>\n",
       "      <td>NaN</td>\n",
       "      <td>2.0</td>\n",
       "      <td>NaN</td>\n",
       "      <td>NaN</td>\n",
       "      <td>NaN</td>\n",
       "      <td>NaN</td>\n",
       "      <td>NaN</td>\n",
       "      <td>NaN</td>\n",
       "      <td>...</td>\n",
       "      <td>NaN</td>\n",
       "      <td>NaN</td>\n",
       "      <td>NaN</td>\n",
       "      <td>NaN</td>\n",
       "      <td>NaN</td>\n",
       "      <td>NaN</td>\n",
       "      <td>NaN</td>\n",
       "      <td>NaN</td>\n",
       "      <td>NaN</td>\n",
       "      <td>NaN</td>\n",
       "    </tr>\n",
       "    <tr>\n",
       "      <th>Lockyer Valley</th>\n",
       "      <td>NaN</td>\n",
       "      <td>NaN</td>\n",
       "      <td>NaN</td>\n",
       "      <td>NaN</td>\n",
       "      <td>NaN</td>\n",
       "      <td>NaN</td>\n",
       "      <td>NaN</td>\n",
       "      <td>NaN</td>\n",
       "      <td>NaN</td>\n",
       "      <td>NaN</td>\n",
       "      <td>...</td>\n",
       "      <td>NaN</td>\n",
       "      <td>NaN</td>\n",
       "      <td>NaN</td>\n",
       "      <td>NaN</td>\n",
       "      <td>NaN</td>\n",
       "      <td>NaN</td>\n",
       "      <td>NaN</td>\n",
       "      <td>NaN</td>\n",
       "      <td>NaN</td>\n",
       "      <td>NaN</td>\n",
       "    </tr>\n",
       "    <tr>\n",
       "      <th>Lockyer Valley (R)</th>\n",
       "      <td>NaN</td>\n",
       "      <td>NaN</td>\n",
       "      <td>NaN</td>\n",
       "      <td>1.0</td>\n",
       "      <td>NaN</td>\n",
       "      <td>NaN</td>\n",
       "      <td>NaN</td>\n",
       "      <td>NaN</td>\n",
       "      <td>NaN</td>\n",
       "      <td>NaN</td>\n",
       "      <td>...</td>\n",
       "      <td>NaN</td>\n",
       "      <td>NaN</td>\n",
       "      <td>NaN</td>\n",
       "      <td>NaN</td>\n",
       "      <td>NaN</td>\n",
       "      <td>NaN</td>\n",
       "      <td>NaN</td>\n",
       "      <td>NaN</td>\n",
       "      <td>NaN</td>\n",
       "      <td>NaN</td>\n",
       "    </tr>\n",
       "    <tr>\n",
       "      <th>Logan (C)</th>\n",
       "      <td>NaN</td>\n",
       "      <td>NaN</td>\n",
       "      <td>34.0</td>\n",
       "      <td>41.0</td>\n",
       "      <td>6.0</td>\n",
       "      <td>NaN</td>\n",
       "      <td>12.0</td>\n",
       "      <td>NaN</td>\n",
       "      <td>NaN</td>\n",
       "      <td>10.0</td>\n",
       "      <td>...</td>\n",
       "      <td>NaN</td>\n",
       "      <td>NaN</td>\n",
       "      <td>3.0</td>\n",
       "      <td>2.0</td>\n",
       "      <td>NaN</td>\n",
       "      <td>7.0</td>\n",
       "      <td>NaN</td>\n",
       "      <td>NaN</td>\n",
       "      <td>NaN</td>\n",
       "      <td>NaN</td>\n",
       "    </tr>\n",
       "    <tr>\n",
       "      <th>Longreach (R)</th>\n",
       "      <td>NaN</td>\n",
       "      <td>NaN</td>\n",
       "      <td>NaN</td>\n",
       "      <td>NaN</td>\n",
       "      <td>NaN</td>\n",
       "      <td>NaN</td>\n",
       "      <td>NaN</td>\n",
       "      <td>NaN</td>\n",
       "      <td>NaN</td>\n",
       "      <td>NaN</td>\n",
       "      <td>...</td>\n",
       "      <td>NaN</td>\n",
       "      <td>NaN</td>\n",
       "      <td>NaN</td>\n",
       "      <td>NaN</td>\n",
       "      <td>NaN</td>\n",
       "      <td>NaN</td>\n",
       "      <td>NaN</td>\n",
       "      <td>NaN</td>\n",
       "      <td>NaN</td>\n",
       "      <td>NaN</td>\n",
       "    </tr>\n",
       "    <tr>\n",
       "      <th>Mackay (R)</th>\n",
       "      <td>NaN</td>\n",
       "      <td>NaN</td>\n",
       "      <td>NaN</td>\n",
       "      <td>1.0</td>\n",
       "      <td>NaN</td>\n",
       "      <td>NaN</td>\n",
       "      <td>2.0</td>\n",
       "      <td>NaN</td>\n",
       "      <td>NaN</td>\n",
       "      <td>NaN</td>\n",
       "      <td>...</td>\n",
       "      <td>NaN</td>\n",
       "      <td>NaN</td>\n",
       "      <td>NaN</td>\n",
       "      <td>NaN</td>\n",
       "      <td>NaN</td>\n",
       "      <td>NaN</td>\n",
       "      <td>NaN</td>\n",
       "      <td>NaN</td>\n",
       "      <td>NaN</td>\n",
       "      <td>NaN</td>\n",
       "    </tr>\n",
       "    <tr>\n",
       "      <th>Maranoa (R)</th>\n",
       "      <td>NaN</td>\n",
       "      <td>NaN</td>\n",
       "      <td>NaN</td>\n",
       "      <td>NaN</td>\n",
       "      <td>NaN</td>\n",
       "      <td>NaN</td>\n",
       "      <td>NaN</td>\n",
       "      <td>NaN</td>\n",
       "      <td>NaN</td>\n",
       "      <td>NaN</td>\n",
       "      <td>...</td>\n",
       "      <td>NaN</td>\n",
       "      <td>NaN</td>\n",
       "      <td>NaN</td>\n",
       "      <td>NaN</td>\n",
       "      <td>NaN</td>\n",
       "      <td>NaN</td>\n",
       "      <td>NaN</td>\n",
       "      <td>NaN</td>\n",
       "      <td>NaN</td>\n",
       "      <td>NaN</td>\n",
       "    </tr>\n",
       "    <tr>\n",
       "      <th>Mareeba (S)</th>\n",
       "      <td>NaN</td>\n",
       "      <td>NaN</td>\n",
       "      <td>NaN</td>\n",
       "      <td>NaN</td>\n",
       "      <td>NaN</td>\n",
       "      <td>NaN</td>\n",
       "      <td>NaN</td>\n",
       "      <td>NaN</td>\n",
       "      <td>NaN</td>\n",
       "      <td>NaN</td>\n",
       "      <td>...</td>\n",
       "      <td>NaN</td>\n",
       "      <td>NaN</td>\n",
       "      <td>NaN</td>\n",
       "      <td>NaN</td>\n",
       "      <td>NaN</td>\n",
       "      <td>NaN</td>\n",
       "      <td>NaN</td>\n",
       "      <td>NaN</td>\n",
       "      <td>NaN</td>\n",
       "      <td>NaN</td>\n",
       "    </tr>\n",
       "    <tr>\n",
       "      <th>McKinlay (S)</th>\n",
       "      <td>NaN</td>\n",
       "      <td>NaN</td>\n",
       "      <td>NaN</td>\n",
       "      <td>NaN</td>\n",
       "      <td>NaN</td>\n",
       "      <td>NaN</td>\n",
       "      <td>NaN</td>\n",
       "      <td>NaN</td>\n",
       "      <td>NaN</td>\n",
       "      <td>NaN</td>\n",
       "      <td>...</td>\n",
       "      <td>NaN</td>\n",
       "      <td>NaN</td>\n",
       "      <td>NaN</td>\n",
       "      <td>NaN</td>\n",
       "      <td>NaN</td>\n",
       "      <td>NaN</td>\n",
       "      <td>NaN</td>\n",
       "      <td>NaN</td>\n",
       "      <td>NaN</td>\n",
       "      <td>NaN</td>\n",
       "    </tr>\n",
       "    <tr>\n",
       "      <th>Moreton Bay (R)</th>\n",
       "      <td>NaN</td>\n",
       "      <td>1.0</td>\n",
       "      <td>5.0</td>\n",
       "      <td>41.0</td>\n",
       "      <td>10.0</td>\n",
       "      <td>1.0</td>\n",
       "      <td>24.0</td>\n",
       "      <td>NaN</td>\n",
       "      <td>NaN</td>\n",
       "      <td>3.0</td>\n",
       "      <td>...</td>\n",
       "      <td>NaN</td>\n",
       "      <td>NaN</td>\n",
       "      <td>NaN</td>\n",
       "      <td>NaN</td>\n",
       "      <td>NaN</td>\n",
       "      <td>6.0</td>\n",
       "      <td>NaN</td>\n",
       "      <td>1.0</td>\n",
       "      <td>NaN</td>\n",
       "      <td>NaN</td>\n",
       "    </tr>\n",
       "    <tr>\n",
       "      <th>Mount Isa (C)</th>\n",
       "      <td>NaN</td>\n",
       "      <td>NaN</td>\n",
       "      <td>NaN</td>\n",
       "      <td>NaN</td>\n",
       "      <td>NaN</td>\n",
       "      <td>NaN</td>\n",
       "      <td>NaN</td>\n",
       "      <td>NaN</td>\n",
       "      <td>NaN</td>\n",
       "      <td>NaN</td>\n",
       "      <td>...</td>\n",
       "      <td>NaN</td>\n",
       "      <td>NaN</td>\n",
       "      <td>NaN</td>\n",
       "      <td>NaN</td>\n",
       "      <td>NaN</td>\n",
       "      <td>NaN</td>\n",
       "      <td>NaN</td>\n",
       "      <td>NaN</td>\n",
       "      <td>NaN</td>\n",
       "      <td>NaN</td>\n",
       "    </tr>\n",
       "    <tr>\n",
       "      <th>Murweh (S)</th>\n",
       "      <td>NaN</td>\n",
       "      <td>NaN</td>\n",
       "      <td>NaN</td>\n",
       "      <td>NaN</td>\n",
       "      <td>NaN</td>\n",
       "      <td>NaN</td>\n",
       "      <td>NaN</td>\n",
       "      <td>NaN</td>\n",
       "      <td>NaN</td>\n",
       "      <td>NaN</td>\n",
       "      <td>...</td>\n",
       "      <td>NaN</td>\n",
       "      <td>NaN</td>\n",
       "      <td>NaN</td>\n",
       "      <td>NaN</td>\n",
       "      <td>NaN</td>\n",
       "      <td>NaN</td>\n",
       "      <td>NaN</td>\n",
       "      <td>NaN</td>\n",
       "      <td>NaN</td>\n",
       "      <td>NaN</td>\n",
       "    </tr>\n",
       "    <tr>\n",
       "      <th>Noosa (S)</th>\n",
       "      <td>NaN</td>\n",
       "      <td>NaN</td>\n",
       "      <td>NaN</td>\n",
       "      <td>25.0</td>\n",
       "      <td>NaN</td>\n",
       "      <td>NaN</td>\n",
       "      <td>17.0</td>\n",
       "      <td>NaN</td>\n",
       "      <td>NaN</td>\n",
       "      <td>NaN</td>\n",
       "      <td>...</td>\n",
       "      <td>NaN</td>\n",
       "      <td>NaN</td>\n",
       "      <td>NaN</td>\n",
       "      <td>24.0</td>\n",
       "      <td>NaN</td>\n",
       "      <td>16.0</td>\n",
       "      <td>NaN</td>\n",
       "      <td>NaN</td>\n",
       "      <td>NaN</td>\n",
       "      <td>NaN</td>\n",
       "    </tr>\n",
       "    <tr>\n",
       "      <th>North Burnett (R)</th>\n",
       "      <td>NaN</td>\n",
       "      <td>NaN</td>\n",
       "      <td>1.0</td>\n",
       "      <td>NaN</td>\n",
       "      <td>NaN</td>\n",
       "      <td>NaN</td>\n",
       "      <td>NaN</td>\n",
       "      <td>NaN</td>\n",
       "      <td>NaN</td>\n",
       "      <td>NaN</td>\n",
       "      <td>...</td>\n",
       "      <td>NaN</td>\n",
       "      <td>NaN</td>\n",
       "      <td>NaN</td>\n",
       "      <td>2.0</td>\n",
       "      <td>NaN</td>\n",
       "      <td>NaN</td>\n",
       "      <td>NaN</td>\n",
       "      <td>NaN</td>\n",
       "      <td>NaN</td>\n",
       "      <td>NaN</td>\n",
       "    </tr>\n",
       "    <tr>\n",
       "      <th>Quilpie (S)</th>\n",
       "      <td>NaN</td>\n",
       "      <td>NaN</td>\n",
       "      <td>NaN</td>\n",
       "      <td>NaN</td>\n",
       "      <td>NaN</td>\n",
       "      <td>NaN</td>\n",
       "      <td>NaN</td>\n",
       "      <td>NaN</td>\n",
       "      <td>NaN</td>\n",
       "      <td>NaN</td>\n",
       "      <td>...</td>\n",
       "      <td>NaN</td>\n",
       "      <td>NaN</td>\n",
       "      <td>NaN</td>\n",
       "      <td>NaN</td>\n",
       "      <td>NaN</td>\n",
       "      <td>NaN</td>\n",
       "      <td>NaN</td>\n",
       "      <td>NaN</td>\n",
       "      <td>NaN</td>\n",
       "      <td>NaN</td>\n",
       "    </tr>\n",
       "    <tr>\n",
       "      <th>Redland (C)</th>\n",
       "      <td>NaN</td>\n",
       "      <td>NaN</td>\n",
       "      <td>1.0</td>\n",
       "      <td>25.0</td>\n",
       "      <td>1.0</td>\n",
       "      <td>NaN</td>\n",
       "      <td>43.0</td>\n",
       "      <td>NaN</td>\n",
       "      <td>NaN</td>\n",
       "      <td>NaN</td>\n",
       "      <td>...</td>\n",
       "      <td>NaN</td>\n",
       "      <td>NaN</td>\n",
       "      <td>NaN</td>\n",
       "      <td>2.0</td>\n",
       "      <td>NaN</td>\n",
       "      <td>14.0</td>\n",
       "      <td>NaN</td>\n",
       "      <td>NaN</td>\n",
       "      <td>NaN</td>\n",
       "      <td>NaN</td>\n",
       "    </tr>\n",
       "    <tr>\n",
       "      <th>Rockhampton (R)</th>\n",
       "      <td>NaN</td>\n",
       "      <td>NaN</td>\n",
       "      <td>NaN</td>\n",
       "      <td>NaN</td>\n",
       "      <td>1.0</td>\n",
       "      <td>NaN</td>\n",
       "      <td>13.0</td>\n",
       "      <td>NaN</td>\n",
       "      <td>NaN</td>\n",
       "      <td>NaN</td>\n",
       "      <td>...</td>\n",
       "      <td>NaN</td>\n",
       "      <td>NaN</td>\n",
       "      <td>NaN</td>\n",
       "      <td>2.0</td>\n",
       "      <td>2.0</td>\n",
       "      <td>NaN</td>\n",
       "      <td>NaN</td>\n",
       "      <td>NaN</td>\n",
       "      <td>NaN</td>\n",
       "      <td>NaN</td>\n",
       "    </tr>\n",
       "    <tr>\n",
       "      <th>Scenic Rim (R)</th>\n",
       "      <td>NaN</td>\n",
       "      <td>NaN</td>\n",
       "      <td>NaN</td>\n",
       "      <td>NaN</td>\n",
       "      <td>NaN</td>\n",
       "      <td>NaN</td>\n",
       "      <td>NaN</td>\n",
       "      <td>NaN</td>\n",
       "      <td>NaN</td>\n",
       "      <td>NaN</td>\n",
       "      <td>...</td>\n",
       "      <td>NaN</td>\n",
       "      <td>NaN</td>\n",
       "      <td>NaN</td>\n",
       "      <td>7.0</td>\n",
       "      <td>NaN</td>\n",
       "      <td>NaN</td>\n",
       "      <td>NaN</td>\n",
       "      <td>NaN</td>\n",
       "      <td>NaN</td>\n",
       "      <td>NaN</td>\n",
       "    </tr>\n",
       "    <tr>\n",
       "      <th>Somerset (R)</th>\n",
       "      <td>NaN</td>\n",
       "      <td>NaN</td>\n",
       "      <td>NaN</td>\n",
       "      <td>NaN</td>\n",
       "      <td>NaN</td>\n",
       "      <td>NaN</td>\n",
       "      <td>NaN</td>\n",
       "      <td>NaN</td>\n",
       "      <td>NaN</td>\n",
       "      <td>NaN</td>\n",
       "      <td>...</td>\n",
       "      <td>NaN</td>\n",
       "      <td>NaN</td>\n",
       "      <td>NaN</td>\n",
       "      <td>NaN</td>\n",
       "      <td>NaN</td>\n",
       "      <td>NaN</td>\n",
       "      <td>NaN</td>\n",
       "      <td>NaN</td>\n",
       "      <td>NaN</td>\n",
       "      <td>NaN</td>\n",
       "    </tr>\n",
       "    <tr>\n",
       "      <th>South Burnett (R)</th>\n",
       "      <td>NaN</td>\n",
       "      <td>NaN</td>\n",
       "      <td>NaN</td>\n",
       "      <td>1.0</td>\n",
       "      <td>NaN</td>\n",
       "      <td>NaN</td>\n",
       "      <td>NaN</td>\n",
       "      <td>NaN</td>\n",
       "      <td>NaN</td>\n",
       "      <td>NaN</td>\n",
       "      <td>...</td>\n",
       "      <td>NaN</td>\n",
       "      <td>NaN</td>\n",
       "      <td>NaN</td>\n",
       "      <td>NaN</td>\n",
       "      <td>NaN</td>\n",
       "      <td>1.0</td>\n",
       "      <td>NaN</td>\n",
       "      <td>NaN</td>\n",
       "      <td>NaN</td>\n",
       "      <td>NaN</td>\n",
       "    </tr>\n",
       "    <tr>\n",
       "      <th>Southern Downs (R)</th>\n",
       "      <td>NaN</td>\n",
       "      <td>NaN</td>\n",
       "      <td>NaN</td>\n",
       "      <td>3.0</td>\n",
       "      <td>NaN</td>\n",
       "      <td>NaN</td>\n",
       "      <td>10.0</td>\n",
       "      <td>NaN</td>\n",
       "      <td>NaN</td>\n",
       "      <td>NaN</td>\n",
       "      <td>...</td>\n",
       "      <td>NaN</td>\n",
       "      <td>NaN</td>\n",
       "      <td>NaN</td>\n",
       "      <td>4.0</td>\n",
       "      <td>NaN</td>\n",
       "      <td>NaN</td>\n",
       "      <td>NaN</td>\n",
       "      <td>NaN</td>\n",
       "      <td>NaN</td>\n",
       "      <td>NaN</td>\n",
       "    </tr>\n",
       "    <tr>\n",
       "      <th>Sunshine Coast (R)</th>\n",
       "      <td>NaN</td>\n",
       "      <td>NaN</td>\n",
       "      <td>NaN</td>\n",
       "      <td>63.0</td>\n",
       "      <td>10.0</td>\n",
       "      <td>NaN</td>\n",
       "      <td>20.0</td>\n",
       "      <td>3.0</td>\n",
       "      <td>1.0</td>\n",
       "      <td>2.0</td>\n",
       "      <td>...</td>\n",
       "      <td>NaN</td>\n",
       "      <td>NaN</td>\n",
       "      <td>NaN</td>\n",
       "      <td>21.0</td>\n",
       "      <td>NaN</td>\n",
       "      <td>NaN</td>\n",
       "      <td>NaN</td>\n",
       "      <td>2.0</td>\n",
       "      <td>1.0</td>\n",
       "      <td>NaN</td>\n",
       "    </tr>\n",
       "    <tr>\n",
       "      <th>Tablelands (R)</th>\n",
       "      <td>NaN</td>\n",
       "      <td>NaN</td>\n",
       "      <td>4.0</td>\n",
       "      <td>NaN</td>\n",
       "      <td>1.0</td>\n",
       "      <td>NaN</td>\n",
       "      <td>NaN</td>\n",
       "      <td>NaN</td>\n",
       "      <td>NaN</td>\n",
       "      <td>NaN</td>\n",
       "      <td>...</td>\n",
       "      <td>NaN</td>\n",
       "      <td>NaN</td>\n",
       "      <td>NaN</td>\n",
       "      <td>1.0</td>\n",
       "      <td>NaN</td>\n",
       "      <td>NaN</td>\n",
       "      <td>NaN</td>\n",
       "      <td>NaN</td>\n",
       "      <td>NaN</td>\n",
       "      <td>NaN</td>\n",
       "    </tr>\n",
       "    <tr>\n",
       "      <th>Toowoomba (R)</th>\n",
       "      <td>NaN</td>\n",
       "      <td>NaN</td>\n",
       "      <td>NaN</td>\n",
       "      <td>26.0</td>\n",
       "      <td>NaN</td>\n",
       "      <td>NaN</td>\n",
       "      <td>4.0</td>\n",
       "      <td>NaN</td>\n",
       "      <td>NaN</td>\n",
       "      <td>NaN</td>\n",
       "      <td>...</td>\n",
       "      <td>NaN</td>\n",
       "      <td>1.0</td>\n",
       "      <td>NaN</td>\n",
       "      <td>NaN</td>\n",
       "      <td>NaN</td>\n",
       "      <td>NaN</td>\n",
       "      <td>NaN</td>\n",
       "      <td>NaN</td>\n",
       "      <td>NaN</td>\n",
       "      <td>NaN</td>\n",
       "    </tr>\n",
       "    <tr>\n",
       "      <th>Townsville (C)</th>\n",
       "      <td>NaN</td>\n",
       "      <td>1.0</td>\n",
       "      <td>16.0</td>\n",
       "      <td>4.0</td>\n",
       "      <td>5.0</td>\n",
       "      <td>NaN</td>\n",
       "      <td>21.0</td>\n",
       "      <td>NaN</td>\n",
       "      <td>NaN</td>\n",
       "      <td>2.0</td>\n",
       "      <td>...</td>\n",
       "      <td>NaN</td>\n",
       "      <td>NaN</td>\n",
       "      <td>NaN</td>\n",
       "      <td>3.0</td>\n",
       "      <td>NaN</td>\n",
       "      <td>1.0</td>\n",
       "      <td>NaN</td>\n",
       "      <td>1.0</td>\n",
       "      <td>NaN</td>\n",
       "      <td>NaN</td>\n",
       "    </tr>\n",
       "    <tr>\n",
       "      <th>Western Downs (R)</th>\n",
       "      <td>NaN</td>\n",
       "      <td>NaN</td>\n",
       "      <td>NaN</td>\n",
       "      <td>1.0</td>\n",
       "      <td>NaN</td>\n",
       "      <td>NaN</td>\n",
       "      <td>NaN</td>\n",
       "      <td>NaN</td>\n",
       "      <td>NaN</td>\n",
       "      <td>NaN</td>\n",
       "      <td>...</td>\n",
       "      <td>NaN</td>\n",
       "      <td>NaN</td>\n",
       "      <td>NaN</td>\n",
       "      <td>3.0</td>\n",
       "      <td>NaN</td>\n",
       "      <td>NaN</td>\n",
       "      <td>NaN</td>\n",
       "      <td>NaN</td>\n",
       "      <td>NaN</td>\n",
       "      <td>NaN</td>\n",
       "    </tr>\n",
       "    <tr>\n",
       "      <th>Whitsunday (R)</th>\n",
       "      <td>1.0</td>\n",
       "      <td>NaN</td>\n",
       "      <td>1.0</td>\n",
       "      <td>NaN</td>\n",
       "      <td>NaN</td>\n",
       "      <td>NaN</td>\n",
       "      <td>NaN</td>\n",
       "      <td>NaN</td>\n",
       "      <td>NaN</td>\n",
       "      <td>NaN</td>\n",
       "      <td>...</td>\n",
       "      <td>NaN</td>\n",
       "      <td>NaN</td>\n",
       "      <td>NaN</td>\n",
       "      <td>2.0</td>\n",
       "      <td>NaN</td>\n",
       "      <td>NaN</td>\n",
       "      <td>NaN</td>\n",
       "      <td>NaN</td>\n",
       "      <td>NaN</td>\n",
       "      <td>NaN</td>\n",
       "    </tr>\n",
       "  </tbody>\n",
       "</table>\n",
       "<p>47 rows × 66 columns</p>\n",
       "</div>"
      ],
      "text/plain": [
       "Participation Activity           *Other  Archery  Athletics  \\\n",
       "Club Local Government Area Name                               \n",
       "Banana (S)                          NaN      NaN        NaN   \n",
       "Blackall Tambo (R)                  NaN      NaN        2.0   \n",
       "Brisbane (C)                       11.0      NaN        1.0   \n",
       "Bundaberg (R)                       NaN      NaN        3.0   \n",
       "Burdekin (S)                        NaN      NaN        NaN   \n",
       "Cairns                              NaN      NaN        NaN   \n",
       "Cairns (R)                          NaN      NaN       17.0   \n",
       "Cassowary Coast (R)                 NaN      NaN        NaN   \n",
       "Central Highlands (R)               NaN      NaN        2.0   \n",
       "Charters Towers (R)                 NaN      NaN        2.0   \n",
       "Douglas (S)                         NaN      NaN        4.0   \n",
       "Flinders (S)                        NaN      NaN        NaN   \n",
       "Fraser Coast (R)                    NaN      NaN        NaN   \n",
       "Gladstone (R)                       NaN      NaN        NaN   \n",
       "Gold Coast (C)                      1.0      NaN        2.0   \n",
       "Gympie (R)                          NaN      4.0        NaN   \n",
       "Hervey Bay                          NaN      NaN        NaN   \n",
       "Hinchinbrook (S)                    NaN      1.0        1.0   \n",
       "Ipswich (C)                         NaN      NaN        1.0   \n",
       "Isaac (R)                           NaN      NaN        NaN   \n",
       "Livingstone (S)                     NaN      NaN        NaN   \n",
       "Lockyer Valley                      NaN      NaN        NaN   \n",
       "Lockyer Valley (R)                  NaN      NaN        NaN   \n",
       "Logan (C)                           NaN      NaN       34.0   \n",
       "Longreach (R)                       NaN      NaN        NaN   \n",
       "Mackay (R)                          NaN      NaN        NaN   \n",
       "Maranoa (R)                         NaN      NaN        NaN   \n",
       "Mareeba (S)                         NaN      NaN        NaN   \n",
       "McKinlay (S)                        NaN      NaN        NaN   \n",
       "Moreton Bay (R)                     NaN      1.0        5.0   \n",
       "Mount Isa (C)                       NaN      NaN        NaN   \n",
       "Murweh (S)                          NaN      NaN        NaN   \n",
       "Noosa (S)                           NaN      NaN        NaN   \n",
       "North Burnett (R)                   NaN      NaN        1.0   \n",
       "Quilpie (S)                         NaN      NaN        NaN   \n",
       "Redland (C)                         NaN      NaN        1.0   \n",
       "Rockhampton (R)                     NaN      NaN        NaN   \n",
       "Scenic Rim (R)                      NaN      NaN        NaN   \n",
       "Somerset (R)                        NaN      NaN        NaN   \n",
       "South Burnett (R)                   NaN      NaN        NaN   \n",
       "Southern Downs (R)                  NaN      NaN        NaN   \n",
       "Sunshine Coast (R)                  NaN      NaN        NaN   \n",
       "Tablelands (R)                      NaN      NaN        4.0   \n",
       "Toowoomba (R)                       NaN      NaN        NaN   \n",
       "Townsville (C)                      NaN      1.0       16.0   \n",
       "Western Downs (R)                   NaN      NaN        NaN   \n",
       "Whitsunday (R)                      1.0      NaN        1.0   \n",
       "\n",
       "Participation Activity           Australian Football  BMX Bicycle Motocross  \\\n",
       "Club Local Government Area Name                                               \n",
       "Banana (S)                                       NaN                    NaN   \n",
       "Blackall Tambo (R)                               NaN                    NaN   \n",
       "Brisbane (C)                                    68.0                    5.0   \n",
       "Bundaberg (R)                                    3.0                    NaN   \n",
       "Burdekin (S)                                     NaN                    NaN   \n",
       "Cairns                                           NaN                    NaN   \n",
       "Cairns (R)                                      24.0                    NaN   \n",
       "Cassowary Coast (R)                              NaN                    NaN   \n",
       "Central Highlands (R)                            NaN                    NaN   \n",
       "Charters Towers (R)                              NaN                    NaN   \n",
       "Douglas (S)                                      4.0                    NaN   \n",
       "Flinders (S)                                     NaN                    NaN   \n",
       "Fraser Coast (R)                                13.0                    4.0   \n",
       "Gladstone (R)                                    NaN                    NaN   \n",
       "Gold Coast (C)                                 172.0                    3.0   \n",
       "Gympie (R)                                       3.0                    1.0   \n",
       "Hervey Bay                                       3.0                    NaN   \n",
       "Hinchinbrook (S)                                 2.0                    NaN   \n",
       "Ipswich (C)                                     22.0                    NaN   \n",
       "Isaac (R)                                        NaN                    NaN   \n",
       "Livingstone (S)                                  2.0                    NaN   \n",
       "Lockyer Valley                                   NaN                    NaN   \n",
       "Lockyer Valley (R)                               1.0                    NaN   \n",
       "Logan (C)                                       41.0                    6.0   \n",
       "Longreach (R)                                    NaN                    NaN   \n",
       "Mackay (R)                                       1.0                    NaN   \n",
       "Maranoa (R)                                      NaN                    NaN   \n",
       "Mareeba (S)                                      NaN                    NaN   \n",
       "McKinlay (S)                                     NaN                    NaN   \n",
       "Moreton Bay (R)                                 41.0                   10.0   \n",
       "Mount Isa (C)                                    NaN                    NaN   \n",
       "Murweh (S)                                       NaN                    NaN   \n",
       "Noosa (S)                                       25.0                    NaN   \n",
       "North Burnett (R)                                NaN                    NaN   \n",
       "Quilpie (S)                                      NaN                    NaN   \n",
       "Redland (C)                                     25.0                    1.0   \n",
       "Rockhampton (R)                                  NaN                    1.0   \n",
       "Scenic Rim (R)                                   NaN                    NaN   \n",
       "Somerset (R)                                     NaN                    NaN   \n",
       "South Burnett (R)                                1.0                    NaN   \n",
       "Southern Downs (R)                               3.0                    NaN   \n",
       "Sunshine Coast (R)                              63.0                   10.0   \n",
       "Tablelands (R)                                   NaN                    1.0   \n",
       "Toowoomba (R)                                   26.0                    NaN   \n",
       "Townsville (C)                                   4.0                    5.0   \n",
       "Western Downs (R)                                1.0                    NaN   \n",
       "Whitsunday (R)                                   NaN                    NaN   \n",
       "\n",
       "Participation Activity           Baseball  Basketball  Body Boarding  \\\n",
       "Club Local Government Area Name                                        \n",
       "Banana (S)                            NaN         NaN            NaN   \n",
       "Blackall Tambo (R)                    NaN         NaN            NaN   \n",
       "Brisbane (C)                          3.0        78.0            NaN   \n",
       "Bundaberg (R)                         NaN         9.0            NaN   \n",
       "Burdekin (S)                          NaN         3.0            NaN   \n",
       "Cairns                                NaN         NaN            NaN   \n",
       "Cairns (R)                            1.0        12.0            NaN   \n",
       "Cassowary Coast (R)                   NaN         NaN            NaN   \n",
       "Central Highlands (R)                 NaN         NaN            NaN   \n",
       "Charters Towers (R)                   NaN         NaN            NaN   \n",
       "Douglas (S)                           NaN         NaN            NaN   \n",
       "Flinders (S)                          NaN         NaN            NaN   \n",
       "Fraser Coast (R)                      NaN         1.0            NaN   \n",
       "Gladstone (R)                         NaN         NaN            NaN   \n",
       "Gold Coast (C)                        NaN        86.0            NaN   \n",
       "Gympie (R)                            NaN         5.0            NaN   \n",
       "Hervey Bay                            NaN         NaN            NaN   \n",
       "Hinchinbrook (S)                      NaN         NaN            NaN   \n",
       "Ipswich (C)                           NaN        16.0            NaN   \n",
       "Isaac (R)                             NaN         NaN            NaN   \n",
       "Livingstone (S)                       NaN         NaN            NaN   \n",
       "Lockyer Valley                        NaN         NaN            NaN   \n",
       "Lockyer Valley (R)                    NaN         NaN            NaN   \n",
       "Logan (C)                             NaN        12.0            NaN   \n",
       "Longreach (R)                         NaN         NaN            NaN   \n",
       "Mackay (R)                            NaN         2.0            NaN   \n",
       "Maranoa (R)                           NaN         NaN            NaN   \n",
       "Mareeba (S)                           NaN         NaN            NaN   \n",
       "McKinlay (S)                          NaN         NaN            NaN   \n",
       "Moreton Bay (R)                       1.0        24.0            NaN   \n",
       "Mount Isa (C)                         NaN         NaN            NaN   \n",
       "Murweh (S)                            NaN         NaN            NaN   \n",
       "Noosa (S)                             NaN        17.0            NaN   \n",
       "North Burnett (R)                     NaN         NaN            NaN   \n",
       "Quilpie (S)                           NaN         NaN            NaN   \n",
       "Redland (C)                           NaN        43.0            NaN   \n",
       "Rockhampton (R)                       NaN        13.0            NaN   \n",
       "Scenic Rim (R)                        NaN         NaN            NaN   \n",
       "Somerset (R)                          NaN         NaN            NaN   \n",
       "South Burnett (R)                     NaN         NaN            NaN   \n",
       "Southern Downs (R)                    NaN        10.0            NaN   \n",
       "Sunshine Coast (R)                    NaN        20.0            3.0   \n",
       "Tablelands (R)                        NaN         NaN            NaN   \n",
       "Toowoomba (R)                         NaN         4.0            NaN   \n",
       "Townsville (C)                        NaN        21.0            NaN   \n",
       "Western Downs (R)                     NaN         NaN            NaN   \n",
       "Whitsunday (R)                        NaN         NaN            NaN   \n",
       "\n",
       "Participation Activity           Bowls Lawn  Boxing  ...  T-Ball  \\\n",
       "Club Local Government Area Name                      ...           \n",
       "Banana (S)                              NaN     NaN  ...     NaN   \n",
       "Blackall Tambo (R)                      NaN     NaN  ...     NaN   \n",
       "Brisbane (C)                            NaN     2.0  ...     1.0   \n",
       "Bundaberg (R)                           NaN     NaN  ...     NaN   \n",
       "Burdekin (S)                            NaN     NaN  ...     NaN   \n",
       "Cairns                                  NaN     NaN  ...     NaN   \n",
       "Cairns (R)                              NaN     NaN  ...     NaN   \n",
       "Cassowary Coast (R)                     NaN     NaN  ...     NaN   \n",
       "Central Highlands (R)                   NaN     NaN  ...     NaN   \n",
       "Charters Towers (R)                     NaN     NaN  ...     NaN   \n",
       "Douglas (S)                             NaN     NaN  ...     NaN   \n",
       "Flinders (S)                            NaN     NaN  ...     NaN   \n",
       "Fraser Coast (R)                        NaN     NaN  ...     NaN   \n",
       "Gladstone (R)                           NaN     NaN  ...     NaN   \n",
       "Gold Coast (C)                          NaN     2.0  ...     NaN   \n",
       "Gympie (R)                              NaN     NaN  ...     NaN   \n",
       "Hervey Bay                              NaN     NaN  ...     NaN   \n",
       "Hinchinbrook (S)                        NaN     NaN  ...     NaN   \n",
       "Ipswich (C)                             NaN     NaN  ...     NaN   \n",
       "Isaac (R)                               NaN     NaN  ...     NaN   \n",
       "Livingstone (S)                         NaN     NaN  ...     NaN   \n",
       "Lockyer Valley                          NaN     NaN  ...     NaN   \n",
       "Lockyer Valley (R)                      NaN     NaN  ...     NaN   \n",
       "Logan (C)                               NaN    10.0  ...     NaN   \n",
       "Longreach (R)                           NaN     NaN  ...     NaN   \n",
       "Mackay (R)                              NaN     NaN  ...     NaN   \n",
       "Maranoa (R)                             NaN     NaN  ...     NaN   \n",
       "Mareeba (S)                             NaN     NaN  ...     NaN   \n",
       "McKinlay (S)                            NaN     NaN  ...     NaN   \n",
       "Moreton Bay (R)                         NaN     3.0  ...     NaN   \n",
       "Mount Isa (C)                           NaN     NaN  ...     NaN   \n",
       "Murweh (S)                              NaN     NaN  ...     NaN   \n",
       "Noosa (S)                               NaN     NaN  ...     NaN   \n",
       "North Burnett (R)                       NaN     NaN  ...     NaN   \n",
       "Quilpie (S)                             NaN     NaN  ...     NaN   \n",
       "Redland (C)                             NaN     NaN  ...     NaN   \n",
       "Rockhampton (R)                         NaN     NaN  ...     NaN   \n",
       "Scenic Rim (R)                          NaN     NaN  ...     NaN   \n",
       "Somerset (R)                            NaN     NaN  ...     NaN   \n",
       "South Burnett (R)                       NaN     NaN  ...     NaN   \n",
       "Southern Downs (R)                      NaN     NaN  ...     NaN   \n",
       "Sunshine Coast (R)                      1.0     2.0  ...     NaN   \n",
       "Tablelands (R)                          NaN     NaN  ...     NaN   \n",
       "Toowoomba (R)                           NaN     NaN  ...     NaN   \n",
       "Townsville (C)                          NaN     2.0  ...     NaN   \n",
       "Western Downs (R)                       NaN     NaN  ...     NaN   \n",
       "Whitsunday (R)                          NaN     NaN  ...     NaN   \n",
       "\n",
       "Participation Activity           Table Tennis  Taekwondo  Tennis  \\\n",
       "Club Local Government Area Name                                    \n",
       "Banana (S)                                NaN        NaN     NaN   \n",
       "Blackall Tambo (R)                        NaN        NaN     NaN   \n",
       "Brisbane (C)                              NaN        5.0     5.0   \n",
       "Bundaberg (R)                             2.0        NaN     1.0   \n",
       "Burdekin (S)                              NaN        NaN     NaN   \n",
       "Cairns                                    NaN        NaN     NaN   \n",
       "Cairns (R)                                NaN        1.0     6.0   \n",
       "Cassowary Coast (R)                       NaN        NaN     1.0   \n",
       "Central Highlands (R)                     NaN        NaN     NaN   \n",
       "Charters Towers (R)                       NaN        NaN     1.0   \n",
       "Douglas (S)                               NaN        NaN     NaN   \n",
       "Flinders (S)                              NaN        NaN     NaN   \n",
       "Fraser Coast (R)                          NaN        NaN    11.0   \n",
       "Gladstone (R)                             NaN        NaN     NaN   \n",
       "Gold Coast (C)                            NaN        1.0    27.0   \n",
       "Gympie (R)                                NaN        NaN     NaN   \n",
       "Hervey Bay                                NaN        NaN     NaN   \n",
       "Hinchinbrook (S)                          NaN        NaN     6.0   \n",
       "Ipswich (C)                               NaN        6.0     3.0   \n",
       "Isaac (R)                                 NaN        NaN     NaN   \n",
       "Livingstone (S)                           NaN        NaN     NaN   \n",
       "Lockyer Valley                            NaN        NaN     NaN   \n",
       "Lockyer Valley (R)                        NaN        NaN     NaN   \n",
       "Logan (C)                                 NaN        3.0     2.0   \n",
       "Longreach (R)                             NaN        NaN     NaN   \n",
       "Mackay (R)                                NaN        NaN     NaN   \n",
       "Maranoa (R)                               NaN        NaN     NaN   \n",
       "Mareeba (S)                               NaN        NaN     NaN   \n",
       "McKinlay (S)                              NaN        NaN     NaN   \n",
       "Moreton Bay (R)                           NaN        NaN     NaN   \n",
       "Mount Isa (C)                             NaN        NaN     NaN   \n",
       "Murweh (S)                                NaN        NaN     NaN   \n",
       "Noosa (S)                                 NaN        NaN    24.0   \n",
       "North Burnett (R)                         NaN        NaN     2.0   \n",
       "Quilpie (S)                               NaN        NaN     NaN   \n",
       "Redland (C)                               NaN        NaN     2.0   \n",
       "Rockhampton (R)                           NaN        NaN     2.0   \n",
       "Scenic Rim (R)                            NaN        NaN     7.0   \n",
       "Somerset (R)                              NaN        NaN     NaN   \n",
       "South Burnett (R)                         NaN        NaN     NaN   \n",
       "Southern Downs (R)                        NaN        NaN     4.0   \n",
       "Sunshine Coast (R)                        NaN        NaN    21.0   \n",
       "Tablelands (R)                            NaN        NaN     1.0   \n",
       "Toowoomba (R)                             1.0        NaN     NaN   \n",
       "Townsville (C)                            NaN        NaN     3.0   \n",
       "Western Downs (R)                         NaN        NaN     3.0   \n",
       "Whitsunday (R)                            NaN        NaN     2.0   \n",
       "\n",
       "Participation Activity           Tenpin Bowling  Touch  Trail Bike Riding  \\\n",
       "Club Local Government Area Name                                             \n",
       "Banana (S)                                  NaN    NaN                NaN   \n",
       "Blackall Tambo (R)                          NaN    NaN                NaN   \n",
       "Brisbane (C)                                NaN    NaN                1.0   \n",
       "Bundaberg (R)                               NaN    NaN                NaN   \n",
       "Burdekin (S)                                NaN    NaN                NaN   \n",
       "Cairns                                      NaN    NaN                NaN   \n",
       "Cairns (R)                                  NaN    1.0                NaN   \n",
       "Cassowary Coast (R)                         NaN    2.0                NaN   \n",
       "Central Highlands (R)                       NaN    NaN                NaN   \n",
       "Charters Towers (R)                         NaN    NaN                NaN   \n",
       "Douglas (S)                                 NaN    NaN                NaN   \n",
       "Flinders (S)                                NaN    NaN                NaN   \n",
       "Fraser Coast (R)                            NaN    NaN                NaN   \n",
       "Gladstone (R)                               NaN    NaN                NaN   \n",
       "Gold Coast (C)                              NaN   17.0                NaN   \n",
       "Gympie (R)                                  NaN    NaN                NaN   \n",
       "Hervey Bay                                  NaN    NaN                NaN   \n",
       "Hinchinbrook (S)                            NaN    NaN                NaN   \n",
       "Ipswich (C)                                 NaN    NaN                NaN   \n",
       "Isaac (R)                                   NaN    NaN                NaN   \n",
       "Livingstone (S)                             NaN    NaN                NaN   \n",
       "Lockyer Valley                              NaN    NaN                NaN   \n",
       "Lockyer Valley (R)                          NaN    NaN                NaN   \n",
       "Logan (C)                                   NaN    7.0                NaN   \n",
       "Longreach (R)                               NaN    NaN                NaN   \n",
       "Mackay (R)                                  NaN    NaN                NaN   \n",
       "Maranoa (R)                                 NaN    NaN                NaN   \n",
       "Mareeba (S)                                 NaN    NaN                NaN   \n",
       "McKinlay (S)                                NaN    NaN                NaN   \n",
       "Moreton Bay (R)                             NaN    6.0                NaN   \n",
       "Mount Isa (C)                               NaN    NaN                NaN   \n",
       "Murweh (S)                                  NaN    NaN                NaN   \n",
       "Noosa (S)                                   NaN   16.0                NaN   \n",
       "North Burnett (R)                           NaN    NaN                NaN   \n",
       "Quilpie (S)                                 NaN    NaN                NaN   \n",
       "Redland (C)                                 NaN   14.0                NaN   \n",
       "Rockhampton (R)                             2.0    NaN                NaN   \n",
       "Scenic Rim (R)                              NaN    NaN                NaN   \n",
       "Somerset (R)                                NaN    NaN                NaN   \n",
       "South Burnett (R)                           NaN    1.0                NaN   \n",
       "Southern Downs (R)                          NaN    NaN                NaN   \n",
       "Sunshine Coast (R)                          NaN    NaN                NaN   \n",
       "Tablelands (R)                              NaN    NaN                NaN   \n",
       "Toowoomba (R)                               NaN    NaN                NaN   \n",
       "Townsville (C)                              NaN    1.0                NaN   \n",
       "Western Downs (R)                           NaN    NaN                NaN   \n",
       "Whitsunday (R)                              NaN    NaN                NaN   \n",
       "\n",
       "Participation Activity           Trampolining  Weightlifting  \\\n",
       "Club Local Government Area Name                                \n",
       "Banana (S)                                NaN            NaN   \n",
       "Blackall Tambo (R)                        NaN            NaN   \n",
       "Brisbane (C)                              7.0            NaN   \n",
       "Bundaberg (R)                             NaN            NaN   \n",
       "Burdekin (S)                              NaN            NaN   \n",
       "Cairns                                    NaN            NaN   \n",
       "Cairns (R)                                NaN            NaN   \n",
       "Cassowary Coast (R)                       NaN            NaN   \n",
       "Central Highlands (R)                     NaN            NaN   \n",
       "Charters Towers (R)                       NaN            NaN   \n",
       "Douglas (S)                               NaN            NaN   \n",
       "Flinders (S)                              NaN            NaN   \n",
       "Fraser Coast (R)                          2.0            NaN   \n",
       "Gladstone (R)                             NaN            NaN   \n",
       "Gold Coast (C)                            NaN            NaN   \n",
       "Gympie (R)                                NaN            NaN   \n",
       "Hervey Bay                                NaN            NaN   \n",
       "Hinchinbrook (S)                          NaN            NaN   \n",
       "Ipswich (C)                               5.0            NaN   \n",
       "Isaac (R)                                 NaN            NaN   \n",
       "Livingstone (S)                           NaN            NaN   \n",
       "Lockyer Valley                            NaN            NaN   \n",
       "Lockyer Valley (R)                        NaN            NaN   \n",
       "Logan (C)                                 NaN            NaN   \n",
       "Longreach (R)                             NaN            NaN   \n",
       "Mackay (R)                                NaN            NaN   \n",
       "Maranoa (R)                               NaN            NaN   \n",
       "Mareeba (S)                               NaN            NaN   \n",
       "McKinlay (S)                              NaN            NaN   \n",
       "Moreton Bay (R)                           1.0            NaN   \n",
       "Mount Isa (C)                             NaN            NaN   \n",
       "Murweh (S)                                NaN            NaN   \n",
       "Noosa (S)                                 NaN            NaN   \n",
       "North Burnett (R)                         NaN            NaN   \n",
       "Quilpie (S)                               NaN            NaN   \n",
       "Redland (C)                               NaN            NaN   \n",
       "Rockhampton (R)                           NaN            NaN   \n",
       "Scenic Rim (R)                            NaN            NaN   \n",
       "Somerset (R)                              NaN            NaN   \n",
       "South Burnett (R)                         NaN            NaN   \n",
       "Southern Downs (R)                        NaN            NaN   \n",
       "Sunshine Coast (R)                        2.0            1.0   \n",
       "Tablelands (R)                            NaN            NaN   \n",
       "Toowoomba (R)                             NaN            NaN   \n",
       "Townsville (C)                            1.0            NaN   \n",
       "Western Downs (R)                         NaN            NaN   \n",
       "Whitsunday (R)                            NaN            NaN   \n",
       "\n",
       "Participation Activity           Zen Do Kai Martial Arts  \n",
       "Club Local Government Area Name                           \n",
       "Banana (S)                                           NaN  \n",
       "Blackall Tambo (R)                                   NaN  \n",
       "Brisbane (C)                                         NaN  \n",
       "Bundaberg (R)                                        NaN  \n",
       "Burdekin (S)                                         NaN  \n",
       "Cairns                                               NaN  \n",
       "Cairns (R)                                           NaN  \n",
       "Cassowary Coast (R)                                  NaN  \n",
       "Central Highlands (R)                                NaN  \n",
       "Charters Towers (R)                                  NaN  \n",
       "Douglas (S)                                          NaN  \n",
       "Flinders (S)                                         NaN  \n",
       "Fraser Coast (R)                                     5.0  \n",
       "Gladstone (R)                                        NaN  \n",
       "Gold Coast (C)                                       NaN  \n",
       "Gympie (R)                                           NaN  \n",
       "Hervey Bay                                           NaN  \n",
       "Hinchinbrook (S)                                     NaN  \n",
       "Ipswich (C)                                          NaN  \n",
       "Isaac (R)                                            NaN  \n",
       "Livingstone (S)                                      NaN  \n",
       "Lockyer Valley                                       NaN  \n",
       "Lockyer Valley (R)                                   NaN  \n",
       "Logan (C)                                            NaN  \n",
       "Longreach (R)                                        NaN  \n",
       "Mackay (R)                                           NaN  \n",
       "Maranoa (R)                                          NaN  \n",
       "Mareeba (S)                                          NaN  \n",
       "McKinlay (S)                                         NaN  \n",
       "Moreton Bay (R)                                      NaN  \n",
       "Mount Isa (C)                                        NaN  \n",
       "Murweh (S)                                           NaN  \n",
       "Noosa (S)                                            NaN  \n",
       "North Burnett (R)                                    NaN  \n",
       "Quilpie (S)                                          NaN  \n",
       "Redland (C)                                          NaN  \n",
       "Rockhampton (R)                                      NaN  \n",
       "Scenic Rim (R)                                       NaN  \n",
       "Somerset (R)                                         NaN  \n",
       "South Burnett (R)                                    NaN  \n",
       "Southern Downs (R)                                   NaN  \n",
       "Sunshine Coast (R)                                   NaN  \n",
       "Tablelands (R)                                       NaN  \n",
       "Toowoomba (R)                                        NaN  \n",
       "Townsville (C)                                       NaN  \n",
       "Western Downs (R)                                    NaN  \n",
       "Whitsunday (R)                                       NaN  \n",
       "\n",
       "[47 rows x 66 columns]"
      ]
     },
     "execution_count": 74,
     "metadata": {},
     "output_type": "execute_result"
    }
   ],
   "source": [
    "qldSports"
   ]
  }
 ],
 "metadata": {
  "kernelspec": {
   "display_name": "Python 3",
   "language": "python",
   "name": "python3"
  },
  "language_info": {
   "codemirror_mode": {
    "name": "ipython",
    "version": 3
   },
   "file_extension": ".py",
   "mimetype": "text/x-python",
   "name": "python",
   "nbconvert_exporter": "python",
   "pygments_lexer": "ipython3",
   "version": "3.8.3"
  },
  "varInspector": {
   "cols": {
    "lenName": 16,
    "lenType": 16,
    "lenVar": 40
   },
   "kernels_config": {
    "python": {
     "delete_cmd_postfix": "",
     "delete_cmd_prefix": "del ",
     "library": "var_list.py",
     "varRefreshCmd": "print(var_dic_list())"
    },
    "r": {
     "delete_cmd_postfix": ") ",
     "delete_cmd_prefix": "rm(",
     "library": "var_list.r",
     "varRefreshCmd": "cat(var_dic_list()) "
    }
   },
   "oldHeight": 580.4,
   "position": {
    "height": "40px",
    "left": "975.2px",
    "right": "20px",
    "top": "78px",
    "width": "540px"
   },
   "types_to_exclude": [
    "module",
    "function",
    "builtin_function_or_method",
    "instance",
    "_Feature"
   ],
   "varInspector_section_display": "none",
   "window_display": true
  }
 },
 "nbformat": 4,
 "nbformat_minor": 4
}
